{
  "cells": [
    {
      "cell_type": "markdown",
      "metadata": {
        "id": "Sx2AsTg21Sdx"
      },
      "source": [
        "# Исследование объявлений о продаже квартир\n",
        "\n",
        "В распоряжении данные сервиса Яндекс.Недвижимость — архив объявлений о продаже квартир в Санкт-Петербурге и соседних населённых пунктов за несколько лет. Нужно научиться определять рыночную стоимость объектов недвижимости. Задача — установить параметры. Это позволит построить автоматизированную систему: она отследит аномалии и мошенническую деятельность. \n",
        "\n",
        "По каждой квартире на продажу доступны два вида данных. Первые вписаны пользователем, вторые — получены автоматически на основе картографических данных. Например, расстояние до центра, аэропорта, ближайшего парка и водоёма. "
      ]
    },
    {
      "cell_type": "markdown",
      "metadata": {
        "id": "rqb6JGop1Sdy"
      },
      "source": [
        "### Открытие файла с данными и изучение общей информации. "
      ]
    },
    {
      "cell_type": "markdown",
      "metadata": {
        "id": "d9WmtmoT1Sdy"
      },
      "source": [
        "#### Изучение информации"
      ]
    },
    {
      "cell_type": "code",
      "execution_count": null,
      "metadata": {
        "id": "GiRlKKXp1Sdz",
        "outputId": "75ef8d50-8caf-44a6-86ef-b484396aee17"
      },
      "outputs": [
        {
          "name": "stdout",
          "output_type": "stream",
          "text": [
            "   total_images  last_price  total_area first_day_exposition  rooms  \\\n",
            "0            20  13000000.0       108.0  2019-03-07T00:00:00      3   \n",
            "1             7   3350000.0        40.4  2018-12-04T00:00:00      1   \n",
            "2            10   5196000.0        56.0  2015-08-20T00:00:00      2   \n",
            "3             0  64900000.0       159.0  2015-07-24T00:00:00      3   \n",
            "4             2  10000000.0       100.0  2018-06-19T00:00:00      2   \n",
            "\n",
            "   ceiling_height  floors_total  living_area  floor is_apartment  ...  \\\n",
            "0            2.70          16.0         51.0      8          NaN  ...   \n",
            "1             NaN          11.0         18.6      1          NaN  ...   \n",
            "2             NaN           5.0         34.3      4          NaN  ...   \n",
            "3             NaN          14.0          NaN      9          NaN  ...   \n",
            "4            3.03          14.0         32.0     13          NaN  ...   \n",
            "\n",
            "   kitchen_area  balcony    locality_name  airports_nearest  \\\n",
            "0          25.0      NaN  Санкт-Петербург           18863.0   \n",
            "1          11.0      2.0   посёлок Шушары           12817.0   \n",
            "2           8.3      0.0  Санкт-Петербург           21741.0   \n",
            "3           NaN      0.0  Санкт-Петербург           28098.0   \n",
            "4          41.0      NaN  Санкт-Петербург           31856.0   \n",
            "\n",
            "  cityCenters_nearest  parks_around3000  parks_nearest  ponds_around3000  \\\n",
            "0             16028.0               1.0          482.0               2.0   \n",
            "1             18603.0               0.0            NaN               0.0   \n",
            "2             13933.0               1.0           90.0               2.0   \n",
            "3              6800.0               2.0           84.0               3.0   \n",
            "4              8098.0               2.0          112.0               1.0   \n",
            "\n",
            "   ponds_nearest  days_exposition  \n",
            "0          755.0              NaN  \n",
            "1            NaN             81.0  \n",
            "2          574.0            558.0  \n",
            "3          234.0            424.0  \n",
            "4           48.0            121.0  \n",
            "\n",
            "[5 rows x 22 columns]\n"
          ]
        }
      ],
      "source": [
        "import pandas as pd # импортируем библиотеку pandas\n",
        "import matplotlib.pyplot as plt # импортируем библиотеку matplotlib\n",
        "data = pd.read_csv('/datasets/real_estate_data.csv', sep='\\t')  # загружаем данные из файла в датафрейм (разделитель '\\t')\n",
        "print(data.head(5)) # выводим первые 5 строк датафрейма"
      ]
    },
    {
      "cell_type": "markdown",
      "metadata": {
        "id": "xHMuUx5Q1Sd1"
      },
      "source": [
        "Исходя из выведенных данных, можно увидеть, что датафрейм содержить 22 столбца. Предполагаем, что присутствует большое количество пропусков значений в столбце 'is_apartment' отвечающего за булев тип определения апартаментов. "
      ]
    },
    {
      "cell_type": "code",
      "execution_count": null,
      "metadata": {
        "id": "GfQXaeGp1Sd1",
        "outputId": "30715c24-81a1-45c5-e943-587999e27106"
      },
      "outputs": [
        {
          "name": "stdout",
          "output_type": "stream",
          "text": [
            "<class 'pandas.core.frame.DataFrame'>\n",
            "RangeIndex: 23699 entries, 0 to 23698\n",
            "Data columns (total 22 columns):\n",
            " #   Column                Non-Null Count  Dtype  \n",
            "---  ------                --------------  -----  \n",
            " 0   total_images          23699 non-null  int64  \n",
            " 1   last_price            23699 non-null  float64\n",
            " 2   total_area            23699 non-null  float64\n",
            " 3   first_day_exposition  23699 non-null  object \n",
            " 4   rooms                 23699 non-null  int64  \n",
            " 5   ceiling_height        14504 non-null  float64\n",
            " 6   floors_total          23613 non-null  float64\n",
            " 7   living_area           21796 non-null  float64\n",
            " 8   floor                 23699 non-null  int64  \n",
            " 9   is_apartment          2775 non-null   object \n",
            " 10  studio                23699 non-null  bool   \n",
            " 11  open_plan             23699 non-null  bool   \n",
            " 12  kitchen_area          21421 non-null  float64\n",
            " 13  balcony               12180 non-null  float64\n",
            " 14  locality_name         23650 non-null  object \n",
            " 15  airports_nearest      18157 non-null  float64\n",
            " 16  cityCenters_nearest   18180 non-null  float64\n",
            " 17  parks_around3000      18181 non-null  float64\n",
            " 18  parks_nearest         8079 non-null   float64\n",
            " 19  ponds_around3000      18181 non-null  float64\n",
            " 20  ponds_nearest         9110 non-null   float64\n",
            " 21  days_exposition       20518 non-null  float64\n",
            "dtypes: bool(2), float64(14), int64(3), object(3)\n",
            "memory usage: 3.7+ MB\n"
          ]
        }
      ],
      "source": [
        "data.info() # выводим общую информацию о датафрейме"
      ]
    },
    {
      "cell_type": "markdown",
      "metadata": {
        "id": "17GJ3Tzn1Sd2"
      },
      "source": [
        "В датафрейме 23699 строки. \n",
        "<br> Столбцы 'last_price', 'total_area', 'ceiling_height',  'floors_total', 'living_area', 'kitchen_area', 'balcony', 'airports_nearest', 'cityCenters_nearest', 'parks_around3000', 'parks_nearest', 'ponds_around3000', 'ponds_nearest',  'days_exposition' - имеют вещественный тип данных float64. </br>\n",
        "<br> Столбцы 'total_images', 'rooms', 'floor' - имеют целочисленный тип данных int64 </br>\n",
        "<br> Столбцы 'first_day_exposition', 'is_apartment', 'locality_name' - имеют тип данных object </br>\n",
        "<br> Столбцы 'studio', 'open_plan' - имеют булев тип данных.\n",
        "<br> <b> Значениям в некоторых столбцах призвоен неправильный тип данных. </b> </br>\n",
        "<br> <b> Много пропущенных значений в столбцах ponds_nearest, parks_nearest, balcony, is_apartment </b> </br>"
      ]
    },
    {
      "cell_type": "markdown",
      "metadata": {
        "id": "5N3kncI41Sd2"
      },
      "source": [
        "#### Построение гистограмм"
      ]
    },
    {
      "cell_type": "code",
      "execution_count": null,
      "metadata": {
        "id": "zV7NEUpq1Sd2",
        "outputId": "2c4b6ca6-a1c1-4764-ce89-6985e20ad264"
      },
      "outputs": [
        {
          "data": {
            "image/png": "[encoded data removed]",
            "text/plain": [
              "<Figure size 1080x1440 with 20 Axes>"
            ]
          },
          "metadata": {
            "needs_background": "light"
          },
          "output_type": "display_data"
        }
      ],
      "source": [
        "data.hist(figsize=(15, 20)) # построим общую гистограмму для всех числовых значений датафрейма\n",
        "plt.show()"
      ]
    },
    {
      "cell_type": "markdown",
      "metadata": {
        "id": "8p5ac6rN1Sd2"
      },
      "source": [
        "На гистограммах видно, что в столбцах 'balcony', 'parks_around3000', 'ponds_around3000', 'floors_total', 'is_apartment', 'balcony', 'first_day_exposition', 'days_exposition' значения имеют неправильный тип данных. \n",
        "<br> В столбце 'last_price' все квартиры имеют практически одинаковую последнюю цену. Вероятно, проблема  в формате данных. </br> "
      ]
    },
    {
      "cell_type": "markdown",
      "metadata": {
        "id": "W2C2s0431Sd3"
      },
      "source": [
        "### Предобработка данных"
      ]
    },
    {
      "cell_type": "markdown",
      "metadata": {
        "id": "y-CiFZjH1Sd3"
      },
      "source": [
        "#### Работа с пропущенными значениями"
      ]
    },
    {
      "cell_type": "markdown",
      "metadata": {
        "id": "l7qiVT8t1Sd3"
      },
      "source": [
        "В первую очередь, обработаем пропущенные значения в необходимых столбцах. "
      ]
    },
    {
      "cell_type": "code",
      "execution_count": null,
      "metadata": {
        "id": "-DtxuJJS1Sd4",
        "outputId": "3927b9e5-deb5-4c32-d483-099ab1b4d346"
      },
      "outputs": [
        {
          "name": "stdout",
          "output_type": "stream",
          "text": [
            "Пропуски до обработки: 9195\n",
            "Медиана: 2.65\n",
            "Пропуски после обработки: 0\n"
          ]
        }
      ],
      "source": [
        "print('Пропуски до обработки:', data['ceiling_height'].isna().sum()) # выведем количество пропусков столбца ceiling_height\n",
        "print('Медиана:', data['ceiling_height'].median())\n",
        "data['ceiling_height'] = data['ceiling_height'].fillna(data['ceiling_height'].median()) # заполним пропуски медианым значением\n",
        "print('Пропуски после обработки:', data['ceiling_height'].isna().sum()) # выводим количество пропусков после обработки"
      ]
    },
    {
      "cell_type": "markdown",
      "metadata": {
        "id": "qU6dJXhQ1Sd4"
      },
      "source": [
        "В столбце ceiling_height представлена информация о высоте потолков в квартирах. Пропущенные значения можно заполнить медианным значением, т.к. таким образом будет минимизировано влияние статистических выбросов и отстутсвует зависимость от других переменных."
      ]
    },
    {
      "cell_type": "markdown",
      "metadata": {
        "id": "E2dIiZUZ1Sd4"
      },
      "source": [
        "Пропуски в столбце living_area (жилая площадь) необходимо заполнить с помощью группировки, т.к. есть зависимость от количества комнат в квартире."
      ]
    },
    {
      "cell_type": "code",
      "execution_count": null,
      "metadata": {
        "id": "-f3aS7B31Sd4",
        "outputId": "87b951cf-1640-4425-cea4-5897b1909336"
      },
      "outputs": [
        {
          "data": {
            "text/plain": [
              "array([ 3,  1,  2,  4,  5,  6,  0,  7, 11,  8, 14, 10, 15,  9, 19, 16, 12])"
            ]
          },
          "execution_count": 5,
          "metadata": {},
          "output_type": "execute_result"
        }
      ],
      "source": [
        "data['rooms'].unique() # выведем уникальные значения в столбце rooms"
      ]
    },
    {
      "cell_type": "markdown",
      "metadata": {
        "id": "4LHujteP1Sd5"
      },
      "source": [
        "Можно увидеть, что некоторые строки заполнены нулевым значением комнат. Также, некоторые квартиры имею нереально большое количество комнат. Наиболее вероятно, это статистические выбросы. "
      ]
    },
    {
      "cell_type": "code",
      "execution_count": null,
      "metadata": {
        "id": "fYPOm1IK1Sd5",
        "outputId": "ab14f515-2de3-4e15-d816-23919ba29460"
      },
      "outputs": [
        {
          "data": {
            "text/plain": [
              "8"
            ]
          },
          "execution_count": 6,
          "metadata": {},
          "output_type": "execute_result"
        }
      ],
      "source": [
        "data.loc[data['rooms']>10, 'rooms'].count() #посчитаем количество квартир с аномально большим количеством комнат"
      ]
    },
    {
      "cell_type": "markdown",
      "metadata": {
        "id": "zii7Wd2z1Sd5"
      },
      "source": [
        "Всего 8 квартир имеют больше 10 комнат. При группировке, данные значения можно не учитывать. "
      ]
    },
    {
      "cell_type": "code",
      "execution_count": null,
      "metadata": {
        "id": "UPvJJnMn1Sd5",
        "outputId": "24aa020e-a0cb-4583-d9a1-67270442057c"
      },
      "outputs": [
        {
          "name": "stdout",
          "output_type": "stream",
          "text": [
            "Количество пропусков после изменения: 0\n"
          ]
        }
      ],
      "source": [
        "for rooms in data.loc[data['rooms']<10,'rooms'].unique(): # переберем все значения количества комнат до 7\n",
        "    median = data.loc[data['rooms'] == rooms, 'living_area'].median() # найдем медианное значение для каждой группировки\n",
        "    data.loc[(data['living_area'].isna()) & (data['rooms'] == rooms), 'living_area'] = median # заполним пропуски\n",
        "    \n",
        "print('Количество пропусков после изменения:', data['living_area'].isna().sum())"
      ]
    },
    {
      "cell_type": "markdown",
      "metadata": {
        "id": "bHRu05aB1Sd6"
      },
      "source": [
        "Узнаем, какое количество комнат у квартир, где не заполнена площадь кухни"
      ]
    },
    {
      "cell_type": "code",
      "execution_count": null,
      "metadata": {
        "id": "P5QLVnao1Sd6",
        "outputId": "1ca71ed9-cc3f-40eb-959c-32d8af40550c"
      },
      "outputs": [
        {
          "name": "stdout",
          "output_type": "stream",
          "text": [
            "[3 1 2 0 4 7 5 6 8 9]\n"
          ]
        }
      ],
      "source": [
        "print(data.loc[data['kitchen_area'].isna(), 'rooms'].unique())"
      ]
    },
    {
      "cell_type": "markdown",
      "metadata": {
        "id": "-lC1NwE61Sd7"
      },
      "source": [
        "Однозначно определить, почему в некоторых квартирах не заполнена площадь кухни по количеству комнат не удается. Можно предположить, что отсутствие данных о площади кухни связано с квартирами, где комнаты сопряжены с кухней и площадь комнаты уже учитывает площадь кухни. \n",
        "<br> Заполним пропуски в значениях нулевыми значениями </br>"
      ]
    },
    {
      "cell_type": "code",
      "execution_count": null,
      "metadata": {
        "id": "xA3tcM2n1Sd7",
        "outputId": "a8ee22f6-10fe-4b4f-cca6-8b3465a5953f"
      },
      "outputs": [
        {
          "name": "stdout",
          "output_type": "stream",
          "text": [
            "0\n"
          ]
        }
      ],
      "source": [
        "data['kitchen_area'] = data['kitchen_area'].fillna(0) # заполним пустые значения\n",
        "print(data['kitchen_area'].isna().sum()) # выведем количество пропусков на экран"
      ]
    },
    {
      "cell_type": "markdown",
      "metadata": {
        "id": "wk3ArYUA1Sd7"
      },
      "source": [
        "Большое количество пропусков в столбце is_apartment \n",
        "<br> Выведем 10 первых строк где обозначены квартиры, которые имеют статус апартаментов. </br>"
      ]
    },
    {
      "cell_type": "code",
      "execution_count": null,
      "metadata": {
        "id": "XF78FNUQ1Sd7",
        "outputId": "b2386089-5145-482f-ef5b-9f3ef91fd8bb"
      },
      "outputs": [
        {
          "name": "stdout",
          "output_type": "stream",
          "text": [
            "      total_images  last_price  total_area first_day_exposition  rooms  \\\n",
            "543             11  12790000.0        56.6  2018-11-06T00:00:00      2   \n",
            "916             11   8183000.0        70.0  2018-01-11T00:00:00      2   \n",
            "1109             1  34878556.0        95.8  2014-12-09T00:00:00      2   \n",
            "1608            12   2150000.0        20.1  2019-01-30T00:00:00      1   \n",
            "2759            11   7500000.0       152.0  2018-07-27T00:00:00      3   \n",
            "2975             9   4931398.0        42.9  2018-07-23T00:00:00      1   \n",
            "3067            13   6600000.0        95.0  2018-09-08T00:00:00      2   \n",
            "3816             4   4779000.0        53.1  2016-05-16T00:00:00      1   \n",
            "3951            10   4300000.0        50.0  2019-04-20T00:00:00      1   \n",
            "4339            19   6900000.0        72.0  2019-03-25T00:00:00      3   \n",
            "\n",
            "      ceiling_height  floors_total  living_area  floor is_apartment  ...  \\\n",
            "543             3.50           3.0        29.40      1         True  ...   \n",
            "916             3.12           3.0        40.00      3         True  ...   \n",
            "1109            2.65           6.0        58.30      5         True  ...   \n",
            "1608            2.65           9.0        17.60      1         True  ...   \n",
            "2759            3.00           3.0        45.00      1         True  ...   \n",
            "2975            3.15           4.0        20.39      3         True  ...   \n",
            "3067            4.50           7.0        45.00      7         True  ...   \n",
            "3816            2.65          13.0        19.80      6         True  ...   \n",
            "3951            3.00          11.0        17.00      9         True  ...   \n",
            "4339            3.50           4.0        70.00      1         True  ...   \n",
            "\n",
            "      kitchen_area  balcony    locality_name  airports_nearest  \\\n",
            "543           0.00      NaN         Петергоф           35248.0   \n",
            "916           0.00      2.0  Санкт-Петербург           45796.0   \n",
            "1109         20.00      1.0  Санкт-Петербург           21860.0   \n",
            "1608          0.00      NaN  Санкт-Петербург           26646.0   \n",
            "2759          0.00      1.0       Всеволожск               NaN   \n",
            "2975         10.29      NaN  Санкт-Петербург           44870.0   \n",
            "3067         25.00      2.0           Выборг               NaN   \n",
            "3816         15.90      2.0  Санкт-Петербург           19396.0   \n",
            "3951         12.00      2.0  Санкт-Петербург           10143.0   \n",
            "4339          0.00      NaN  Санкт-Петербург           31487.0   \n",
            "\n",
            "     cityCenters_nearest  parks_around3000  parks_nearest  ponds_around3000  \\\n",
            "543              30437.0               3.0           53.0               3.0   \n",
            "916              21729.0               0.0            NaN               1.0   \n",
            "1109               318.0               2.0          160.0               3.0   \n",
            "1608             12147.0               0.0            NaN               0.0   \n",
            "2759                 NaN               NaN            NaN               NaN   \n",
            "2975             20802.0               0.0            NaN               1.0   \n",
            "3067                 NaN               NaN            NaN               NaN   \n",
            "3816              4516.0               0.0            NaN               1.0   \n",
            "3951             11367.0               0.0            NaN               0.0   \n",
            "4339              4466.0               2.0          353.0               1.0   \n",
            "\n",
            "      ponds_nearest  days_exposition  \n",
            "543            22.0              NaN  \n",
            "916           754.0            179.0  \n",
            "1109          569.0           1572.0  \n",
            "1608            NaN             13.0  \n",
            "2759            NaN              7.0  \n",
            "2975          792.0            273.0  \n",
            "3067            NaN             96.0  \n",
            "3816          826.0             60.0  \n",
            "3951            NaN              NaN  \n",
            "4339          439.0             22.0  \n",
            "\n",
            "[10 rows x 22 columns]\n"
          ]
        }
      ],
      "source": [
        "print(data.loc[data['is_apartment']==True].head(10))"
      ]
    },
    {
      "cell_type": "markdown",
      "metadata": {
        "id": "444i5Zeh1Sd8"
      },
      "source": [
        "\n",
        "Наиболее вероятно, что хозяева квартир пропускали пункт с обозначением апартаментов. Заполним все пропущенные значения  - False\n"
      ]
    },
    {
      "cell_type": "code",
      "execution_count": null,
      "metadata": {
        "id": "ZFUiUT0q1Sd9",
        "outputId": "b39ddf7d-310c-40d2-c3a3-2fb61beafb33"
      },
      "outputs": [
        {
          "name": "stdout",
          "output_type": "stream",
          "text": [
            "0\n"
          ]
        }
      ],
      "source": [
        "data['is_apartment'] = data['is_apartment'].fillna(False) # заполним пустые значения False\n",
        "print(data['is_apartment'].isna().sum()) # выведем количество пропущенных значений"
      ]
    },
    {
      "cell_type": "markdown",
      "metadata": {
        "id": "8DoYo6YY1Sd9"
      },
      "source": [
        "У столбца 'balcony' наиболее вероятно, что пропущенные значения  обозначают отсутствие балкона в квартире\n",
        "<br> Заменим все пропущенные значения на 0 </br>"
      ]
    },
    {
      "cell_type": "code",
      "execution_count": null,
      "metadata": {
        "id": "GEKJbhVS1Sd9",
        "outputId": "fff2d003-af05-408e-a4a6-9b8422400be0"
      },
      "outputs": [
        {
          "name": "stdout",
          "output_type": "stream",
          "text": [
            "0\n"
          ]
        }
      ],
      "source": [
        "data['balcony'] = data['balcony'].fillna(0)\n",
        "print(data['balcony'].isna().sum())"
      ]
    },
    {
      "cell_type": "markdown",
      "metadata": {
        "id": "UFDrxbch1Sd9"
      },
      "source": [
        "По остальным столбцам нет возможности определить какую-либо зависимость с другими показателями. Соотвественно, заполнять пропуски на данный момент мы не будем"
      ]
    },
    {
      "cell_type": "markdown",
      "metadata": {
        "id": "TJP8hnEH1Sd-"
      },
      "source": [
        "#### Работа с  типами данных в столбцах"
      ]
    },
    {
      "cell_type": "markdown",
      "metadata": {
        "id": "8wqYhcbl1Sd-"
      },
      "source": [
        "В данных столбцах необходимо поменять тип данных:\n",
        " <br> <b>'balcony', 'parks_around3000', 'ponds_around3000', 'floors_total', 'is_apartment', 'first_day_exposition'</b> </br>"
      ]
    },
    {
      "cell_type": "markdown",
      "metadata": {
        "id": "fBFQyLcu1Sd-"
      },
      "source": [
        "Количество балконов, число парков в радиусе 3 км, число водоёмов в радиусе 3 км, всего этажей в доме, количество дней размещения объявления  могут быть только целым числом"
      ]
    },
    {
      "cell_type": "code",
      "execution_count": null,
      "metadata": {
        "id": "camzuj0v1Sd-"
      },
      "outputs": [],
      "source": [
        "data['balcony'] = data['balcony'].astype('Int64') # меняем тип данных у столбцов на целые значения Int64\n",
        "data['parks_around3000'] = data['parks_around3000'].astype('Int64')\n",
        "data['ponds_around3000'] = data['ponds_around3000'].astype('Int64')\n",
        "data['floors_total'] = data['floors_total'].astype('Int64')\n",
        "\n"
      ]
    },
    {
      "cell_type": "markdown",
      "metadata": {
        "id": "JpzEwizX1Sd-"
      },
      "source": [
        "В столбце 'is_apartment' с булевыми значениями True, False установлен тип данных object. Хотя, должен стоять тип данных bool"
      ]
    },
    {
      "cell_type": "code",
      "execution_count": null,
      "metadata": {
        "id": "ZZTFpELg1Sd-"
      },
      "outputs": [],
      "source": [
        "data['is_apartment'] = data['is_apartment'].astype('bool')"
      ]
    },
    {
      "cell_type": "markdown",
      "metadata": {
        "id": "QW5Mn4TW1Sd_"
      },
      "source": [
        "В столбце 'first_day_exposition' указаны даты публикаций. Указан формат object. Необходимо перенести в формат datetime"
      ]
    },
    {
      "cell_type": "code",
      "execution_count": null,
      "metadata": {
        "id": "IWeeSeDN1Sd_"
      },
      "outputs": [],
      "source": [
        "data['first_day_exposition']= pd.to_datetime(data['first_day_exposition'], format='%Y-%m-%d')"
      ]
    },
    {
      "cell_type": "markdown",
      "metadata": {
        "id": "mffBwXDa1SeA"
      },
      "source": [
        "Выведем на экран общую информацию"
      ]
    },
    {
      "cell_type": "code",
      "execution_count": null,
      "metadata": {
        "id": "skvReYY61SeA",
        "outputId": "9493f4d4-6476-4e0f-be3b-5f8ddebaec0f"
      },
      "outputs": [
        {
          "name": "stdout",
          "output_type": "stream",
          "text": [
            "<class 'pandas.core.frame.DataFrame'>\n",
            "RangeIndex: 23699 entries, 0 to 23698\n",
            "Data columns (total 22 columns):\n",
            " #   Column                Non-Null Count  Dtype         \n",
            "---  ------                --------------  -----         \n",
            " 0   total_images          23699 non-null  int64         \n",
            " 1   last_price            23699 non-null  float64       \n",
            " 2   total_area            23699 non-null  float64       \n",
            " 3   first_day_exposition  23699 non-null  datetime64[ns]\n",
            " 4   rooms                 23699 non-null  int64         \n",
            " 5   ceiling_height        23699 non-null  float64       \n",
            " 6   floors_total          23613 non-null  Int64         \n",
            " 7   living_area           23699 non-null  float64       \n",
            " 8   floor                 23699 non-null  int64         \n",
            " 9   is_apartment          23699 non-null  bool          \n",
            " 10  studio                23699 non-null  bool          \n",
            " 11  open_plan             23699 non-null  bool          \n",
            " 12  kitchen_area          23699 non-null  float64       \n",
            " 13  balcony               23699 non-null  Int64         \n",
            " 14  locality_name         23650 non-null  object        \n",
            " 15  airports_nearest      18157 non-null  float64       \n",
            " 16  cityCenters_nearest   18180 non-null  float64       \n",
            " 17  parks_around3000      18181 non-null  Int64         \n",
            " 18  parks_nearest         8079 non-null   float64       \n",
            " 19  ponds_around3000      18181 non-null  Int64         \n",
            " 20  ponds_nearest         9110 non-null   float64       \n",
            " 21  days_exposition       20518 non-null  float64       \n",
            "dtypes: Int64(4), bool(3), datetime64[ns](1), float64(10), int64(3), object(1)\n",
            "memory usage: 3.6+ MB\n"
          ]
        }
      ],
      "source": [
        "data.info()"
      ]
    },
    {
      "cell_type": "markdown",
      "metadata": {
        "id": "kdK3RROE1SeA"
      },
      "source": [
        "Типы всех необходимых столбцов были изменены."
      ]
    },
    {
      "cell_type": "markdown",
      "metadata": {
        "id": "DXv4jG9j1SeA"
      },
      "source": [
        "Теперь, приведем заголовки ponds_around3000, parks_around3000,  cityCenters_nearest к читаемому типу"
      ]
    },
    {
      "cell_type": "code",
      "execution_count": null,
      "metadata": {
        "id": "RcmaXOPM1SeA",
        "outputId": "57ae66bd-b14d-4044-cfd2-aa6346ff2e89"
      },
      "outputs": [
        {
          "data": {
            "text/plain": [
              "Index(['total_images', 'last_price', 'total_area', 'first_day_exposition',\n",
              "       'rooms', 'ceiling_height', 'floors_total', 'living_area', 'floor',\n",
              "       'is_apartment', 'studio', 'open_plan', 'kitchen_area', 'balcony',\n",
              "       'locality_name', 'airports_nearest', 'city_centers_nearest',\n",
              "       'parks_around', 'parks_nearest', 'ponds_around', 'ponds_nearest',\n",
              "       'days_exposition'],\n",
              "      dtype='object')"
            ]
          },
          "execution_count": 17,
          "metadata": {},
          "output_type": "execute_result"
        }
      ],
      "source": [
        "data.rename(columns = {'parks_around3000':'parks_around',\n",
        "                       'ponds_around3000':'ponds_around',\n",
        "                       'cityCenters_nearest':'city_centers_nearest'}, inplace=True) #обновляем названия\n",
        "data.columns # выводим на экран"
      ]
    },
    {
      "cell_type": "markdown",
      "metadata": {
        "id": "ilEzTGeq1SeB"
      },
      "source": [
        "Теперь наименования столбцов приведены к привычному типу."
      ]
    },
    {
      "cell_type": "markdown",
      "metadata": {
        "id": "E1mVjRNT1SeB"
      },
      "source": [
        "#### Работа с дубликатами"
      ]
    },
    {
      "cell_type": "markdown",
      "metadata": {
        "id": "zM8LS9zy1SeB"
      },
      "source": [
        "Выявим явные дубликаты"
      ]
    },
    {
      "cell_type": "code",
      "execution_count": null,
      "metadata": {
        "id": "jD5qLE611SeB",
        "outputId": "f1deb750-dde1-4ae7-bcc0-c51b4b6f545e"
      },
      "outputs": [
        {
          "name": "stdout",
          "output_type": "stream",
          "text": [
            "0\n"
          ]
        }
      ],
      "source": [
        "print(data.duplicated().sum())"
      ]
    },
    {
      "cell_type": "markdown",
      "metadata": {
        "id": "_lmKYe961SeB"
      },
      "source": [
        "Явных дубликатов нет. Необходимо проверить датасет на неявные дубликаты и заменить значения где понадобится.\n",
        "<br> Проверим столбец с названиями локаций </br>"
      ]
    },
    {
      "cell_type": "code",
      "execution_count": null,
      "metadata": {
        "id": "-A5O4O1n1SeC",
        "outputId": "c6671bb1-f60f-48e1-b4b0-3881205d93a9"
      },
      "outputs": [
        {
          "name": "stdout",
          "output_type": "stream",
          "text": [
            "['Санкт-Петербург' 'посёлок Шушары' 'городской посёлок Янино-1'\n",
            " 'посёлок Парголово' 'посёлок Мурино' 'Ломоносов' 'Сертолово' 'Петергоф'\n",
            " 'Пушкин' 'деревня Кудрово' 'Коммунар' 'Колпино'\n",
            " 'поселок городского типа Красный Бор' 'Гатчина' 'поселок Мурино'\n",
            " 'деревня Фёдоровское' 'Выборг' 'Кронштадт' 'Кировск'\n",
            " 'деревня Новое Девяткино' 'посёлок Металлострой'\n",
            " 'посёлок городского типа Лебяжье' 'посёлок городского типа Сиверский'\n",
            " 'поселок Молодцово' 'поселок городского типа Кузьмоловский'\n",
            " 'садовое товарищество Новая Ропша' 'Павловск' 'деревня Пикколово'\n",
            " 'Всеволожск' 'Волхов' 'Кингисепп' 'Приозерск' 'Сестрорецк'\n",
            " 'деревня Куттузи' 'посёлок Аннино' 'поселок городского типа Ефимовский'\n",
            " 'посёлок Плодовое' 'деревня Заклинье' 'поселок Торковичи'\n",
            " 'поселок Первомайское' 'Красное Село' 'посёлок Понтонный' 'Сясьстрой'\n",
            " 'деревня Старая' 'деревня Лесколово' 'посёлок Новый Свет' 'Сланцы'\n",
            " 'село Путилово' 'Ивангород' 'Мурино' 'Шлиссельбург' 'Никольское'\n",
            " 'Зеленогорск' 'Сосновый Бор' 'поселок Новый Свет' 'деревня Оржицы'\n",
            " 'деревня Кальтино' 'Кудрово' 'поселок Романовка' 'посёлок Бугры'\n",
            " 'поселок Бугры' 'поселок городского типа Рощино' 'Кириши' 'Луга'\n",
            " 'Волосово' 'Отрадное' 'село Павлово' 'поселок Оредеж' 'село Копорье'\n",
            " 'посёлок городского типа Красный Бор' 'посёлок Молодёжное' 'Тихвин'\n",
            " 'посёлок Победа' 'деревня Нурма' 'поселок городского типа Синявино'\n",
            " 'Тосно' 'посёлок городского типа Кузьмоловский' 'посёлок Стрельна'\n",
            " 'Бокситогорск' 'посёлок Александровская' 'деревня Лопухинка' 'Пикалёво'\n",
            " 'поселок Терволово' 'поселок городского типа Советский' 'Подпорожье'\n",
            " 'посёлок Петровское' 'посёлок городского типа Токсово' 'поселок Сельцо'\n",
            " 'посёлок городского типа Вырица' 'деревня Кипень' 'деревня Келози'\n",
            " 'деревня Вартемяги' 'посёлок Тельмана' 'поселок Севастьяново'\n",
            " 'городской поселок Большая Ижора' nan 'городской посёлок Павлово'\n",
            " 'деревня Агалатово' 'посёлок Новогорелово'\n",
            " 'городской посёлок Лесогорский' 'деревня Лаголово' 'поселок Цвелодубово'\n",
            " 'поселок городского типа Рахья' 'поселок городского типа Вырица'\n",
            " 'деревня Белогорка' 'поселок Заводской' 'городской посёлок Новоселье'\n",
            " 'деревня Большие Колпаны' 'деревня Горбунки' 'деревня Батово'\n",
            " 'деревня Заневка' 'деревня Иссад' 'Приморск'\n",
            " 'городской посёлок Фёдоровское' 'деревня Мистолово' 'Новая Ладога'\n",
            " 'поселок Зимитицы' 'поселок Барышево' 'деревня Разметелево'\n",
            " 'поселок городского типа имени Свердлова' 'деревня Пеники'\n",
            " 'поселок Рябово' 'деревня Пудомяги' 'поселок станции Корнево'\n",
            " 'деревня Низино' 'деревня Бегуницы' 'посёлок Поляны'\n",
            " 'городской посёлок Мга' 'поселок Елизаветино'\n",
            " 'посёлок городского типа Кузнечное' 'деревня Колтуши'\n",
            " 'поселок Запорожское' 'посёлок городского типа Рощино'\n",
            " 'деревня Гостилицы' 'деревня Малое Карлино' 'посёлок Мичуринское'\n",
            " 'посёлок городского типа имени Морозова' 'посёлок Песочный'\n",
            " 'посёлок Сосново' 'деревня Аро' 'поселок Ильичёво'\n",
            " 'посёлок городского типа Тайцы' 'деревня Малое Верево' 'деревня Извара'\n",
            " 'поселок станции Вещево' 'село Паша' 'деревня Калитино'\n",
            " 'посёлок городского типа Ульяновка' 'деревня Чудской Бор'\n",
            " 'поселок городского типа Дубровка' 'деревня Мины' 'поселок Войсковицы'\n",
            " 'посёлок городского типа имени Свердлова' 'деревня Коркино'\n",
            " 'посёлок Ропша' 'поселок городского типа Приладожский' 'посёлок Щеглово'\n",
            " 'посёлок Гаврилово' 'Лодейное Поле' 'деревня Рабитицы'\n",
            " 'поселок городского типа Никольский' 'деревня Кузьмолово'\n",
            " 'деревня Малые Колпаны' 'поселок Тельмана' 'посёлок Петро-Славянка'\n",
            " 'городской посёлок Назия' 'посёлок Репино' 'посёлок Ильичёво'\n",
            " 'поселок Углово' 'поселок Старая Малукса' 'садовое товарищество Рахья'\n",
            " 'поселок Аннино' 'поселок Победа' 'деревня Меньково'\n",
            " 'деревня Старые Бегуницы' 'посёлок Сапёрный' 'поселок Семрино'\n",
            " 'поселок Гаврилово' 'поселок Глажево' 'поселок Кобринское'\n",
            " 'деревня Гарболово' 'деревня Юкки' 'поселок станции Приветнинское'\n",
            " 'деревня Мануйлово' 'деревня Пчева' 'поселок Поляны' 'поселок Цвылёво'\n",
            " 'поселок Мельниково' 'посёлок Пудость' 'посёлок Усть-Луга' 'Светогорск'\n",
            " 'Любань' 'поселок Селезнёво' 'поселок городского типа Рябово'\n",
            " 'Каменногорск' 'деревня Кривко' 'поселок Глебычево' 'деревня Парицы'\n",
            " 'поселок Жилпосёлок' 'посёлок городского типа Мга'\n",
            " 'городской поселок Янино-1' 'посёлок Войскорово' 'село Никольское'\n",
            " 'посёлок Терволово' 'поселок Стеклянный' 'посёлок городского типа Важины'\n",
            " 'посёлок Мыза-Ивановка' 'село Русско-Высоцкое'\n",
            " 'поселок городского типа Лебяжье' 'поселок городского типа Форносово'\n",
            " 'село Старая Ладога' 'поселок Житково' 'городской посёлок Виллози'\n",
            " 'деревня Лампово' 'деревня Шпаньково' 'деревня Лаврики' 'посёлок Сумино'\n",
            " 'посёлок Возрождение' 'деревня Старосиверская' 'посёлок Кикерино'\n",
            " 'поселок Возрождение' 'деревня Старое Хинколово' 'посёлок Пригородный'\n",
            " 'посёлок Торфяное' 'городской посёлок Будогощь' 'поселок Суходолье'\n",
            " 'поселок Красная Долина' 'деревня Хапо-Ое'\n",
            " 'поселок городского типа Дружная Горка' 'поселок Лисий Нос'\n",
            " 'деревня Яльгелево' 'посёлок Стеклянный' 'село Рождествено'\n",
            " 'деревня Старополье' 'посёлок Левашово' 'деревня Сяськелево'\n",
            " 'деревня Камышовка'\n",
            " 'садоводческое некоммерческое товарищество Лесная Поляна'\n",
            " 'деревня Хязельки' 'поселок Жилгородок' 'посёлок городского типа Павлово'\n",
            " 'деревня Ялгино' 'поселок Новый Учхоз' 'городской посёлок Рощино'\n",
            " 'поселок Гончарово' 'поселок Почап' 'посёлок Сапёрное'\n",
            " 'посёлок Платформа 69-й километр' 'поселок Каложицы' 'деревня Фалилеево'\n",
            " 'деревня Пельгора' 'поселок городского типа Лесогорский'\n",
            " 'деревня Торошковичи' 'посёлок Белоостров' 'посёлок Алексеевка'\n",
            " 'поселок Серебрянский' 'поселок Лукаши' 'поселок Петровское'\n",
            " 'деревня Щеглово' 'поселок Мичуринское' 'деревня Тарасово'\n",
            " 'поселок Кингисеппский' 'посёлок при железнодорожной станции Вещево'\n",
            " 'поселок Ушаки' 'деревня Котлы' 'деревня Сижно' 'деревня Торосово'\n",
            " 'посёлок Форт Красная Горка' 'поселок городского типа Токсово'\n",
            " 'деревня Новолисино' 'посёлок станции Громово' 'деревня Глинка'\n",
            " 'посёлок Мельниково' 'поселок городского типа Назия'\n",
            " 'деревня Старая Пустошь' 'поселок Коммунары' 'поселок Починок'\n",
            " 'посёлок городского типа Вознесенье' 'деревня Разбегаево'\n",
            " 'посёлок городского типа Рябово' 'поселок Гладкое'\n",
            " 'посёлок при железнодорожной станции Приветнинское' 'поселок Тёсово-4'\n",
            " 'посёлок Жилгородок' 'деревня Бор' 'посёлок Коробицыно'\n",
            " 'деревня Большая Вруда' 'деревня Курковицы' 'посёлок Лисий Нос'\n",
            " 'городской посёлок Советский' 'посёлок Кобралово' 'деревня Суоранда'\n",
            " 'поселок Кобралово' 'поселок городского типа Кондратьево'\n",
            " 'коттеджный поселок Счастье' 'поселок Любань' 'деревня Реброво'\n",
            " 'деревня Зимитицы' 'деревня Тойворово' 'поселок Семиозерье'\n",
            " 'поселок Лесное' 'поселок Совхозный' 'поселок Усть-Луга'\n",
            " 'посёлок Ленинское' 'посёлок Суйда' 'посёлок городского типа Форносово'\n",
            " 'деревня Нижние Осельки' 'посёлок станции Свирь' 'поселок Перово'\n",
            " 'Высоцк' 'поселок Гарболово' 'село Шум' 'поселок Котельский'\n",
            " 'поселок станции Лужайка' 'деревня Большая Пустомержа'\n",
            " 'поселок Красносельское' 'деревня Вахнова Кара' 'деревня Пижма'\n",
            " 'коттеджный поселок Кивеннапа Север' 'поселок Коробицыно'\n",
            " 'поселок Ромашки' 'посёлок Перово' 'деревня Каськово' 'деревня Куровицы'\n",
            " 'посёлок Плоское' 'поселок Сумино'\n",
            " 'поселок городского типа Большая Ижора' 'поселок Кирпичное'\n",
            " 'деревня Ям-Тесово' 'деревня Раздолье' 'деревня Терпилицы'\n",
            " 'посёлок Шугозеро' 'деревня Ваганово' 'поселок Пушное'\n",
            " 'садовое товарищество Садко' 'посёлок Усть-Ижора' 'деревня Выскатка'\n",
            " 'городской посёлок Свирьстрой' 'поселок Громово' 'деревня Кисельня'\n",
            " 'посёлок Старая Малукса' 'деревня Трубников Бор' 'поселок Калитино'\n",
            " 'посёлок Высокоключевой' 'садовое товарищество Приладожский'\n",
            " 'посёлок Пансионат Зелёный Бор' 'деревня Ненимяки'\n",
            " 'поселок Пансионат Зелёный Бор' 'деревня Снегирёвка' 'деревня Рапполово'\n",
            " 'деревня Пустынка' 'поселок Рабитицы' 'деревня Большой Сабск'\n",
            " 'деревня Русско' 'деревня Лупполово' 'деревня Большое Рейзино'\n",
            " 'деревня Малая Романовка' 'поселок Дружноселье' 'поселок Пчевжа'\n",
            " 'поселок Володарское' 'деревня Нижняя' 'коттеджный посёлок Лесное'\n",
            " 'деревня Тихковицы' 'деревня Борисова Грива' 'посёлок Дзержинского']\n"
          ]
        }
      ],
      "source": [
        "print(data['locality_name'].unique()) # выводим уникальные значения столбца "
      ]
    },
    {
      "cell_type": "markdown",
      "metadata": {
        "id": "9AzUiY0D1SeC"
      },
      "source": [
        "Достаточно много неявных дубликатов связанных с разным обозначением населенных пунктов: \"поселок, посёлок, поселок городского типа и т.д.\"\n",
        "Удалим из строк названия типов населенных пунктов"
      ]
    },
    {
      "cell_type": "markdown",
      "metadata": {
        "id": "t17birj11SeC"
      },
      "source": [
        "\n",
        "Проверим количество дубликатов с учётом регистра\n",
        "\n"
      ]
    },
    {
      "cell_type": "code",
      "execution_count": null,
      "metadata": {
        "id": "sVBmLSDu1SeC",
        "outputId": "b622c31b-d199-4d89-f3eb-fe11d5c632bc"
      },
      "outputs": [
        {
          "name": "stdout",
          "output_type": "stream",
          "text": [
            "23334\n"
          ]
        }
      ],
      "source": [
        "data['locality_name'] = data['locality_name'].str.lower() # приведем к нижнему регистру все слова в столбце\n",
        "print(data['locality_name'].duplicated().sum())  # выведем на экран количество\n"
      ]
    },
    {
      "cell_type": "code",
      "execution_count": null,
      "metadata": {
        "id": "9YvOuhaL1SeD"
      },
      "outputs": [],
      "source": [
        "names = ['деревня', 'посёлок', 'поселок', 'городского', 'типа', 'станции', 'товарищество', 'садовое', 'село', 'городской',\n",
        "    'садоводческое', 'коттеджный', 'некоммерческое', 'при железнодорожной'] # создаем список с необходимыми словами\n",
        "for elem in names:\n",
        "    data['locality_name'] = data['locality_name'].str.replace(elem, '').str.strip()"
      ]
    },
    {
      "cell_type": "markdown",
      "metadata": {
        "id": "KH1RIVes1SeE"
      },
      "source": [
        "Снова выведем уникальные значения"
      ]
    },
    {
      "cell_type": "code",
      "execution_count": null,
      "metadata": {
        "id": "YOQOCMXe1SeE",
        "outputId": "0194904e-26b0-4a55-dfd7-a89becc55692"
      },
      "outputs": [
        {
          "name": "stdout",
          "output_type": "stream",
          "text": [
            "['санкт-петербург' 'шушары' 'янино-1' 'парголово' 'мурино' 'ломоносов'\n",
            " 'сертолово' 'петергоф' 'пушкин' 'кудрово' 'коммунар' 'колпино'\n",
            " 'красный бор' 'гатчина' 'фёдоровское' 'выборг' 'кронштадт' 'кировск'\n",
            " 'новое девяткино' 'металлострой' 'лебяжье' 'сиверский' 'молодцово'\n",
            " 'кузьмоловский' 'новая ропша' 'павловск' 'пикколово' 'всеволожск'\n",
            " 'волхов' 'кингисепп' 'приозерск' 'сестрорецк' 'куттузи' 'аннино'\n",
            " 'ефимовский' 'плодовое' 'заклинье' 'торковичи' 'первомайское' 'красное'\n",
            " 'понтонный' 'сясьстрой' 'старая' 'лесколово' 'новый свет' 'сланцы'\n",
            " 'путилово' 'ивангород' 'шлиссельбург' 'никольское' 'зеленогорск'\n",
            " 'сосновый бор' 'оржицы' 'кальтино' 'романовка' 'бугры' 'рощино' 'кириши'\n",
            " 'луга' 'волосово' 'отрадное' 'павлово' 'оредеж' 'копорье' 'молодёжное'\n",
            " 'тихвин' 'победа' 'нурма' 'синявино' 'тосно' 'стрельна' 'бокситогорск'\n",
            " 'александровская' 'лопухинка' 'пикалёво' 'терволово' 'советский'\n",
            " 'подпорожье' 'петровское' 'токсово' 'сельцо' 'вырица' 'кипень' 'келози'\n",
            " 'вартемяги' 'тельмана' 'севастьяново' 'большая ижора' nan 'агалатово'\n",
            " 'новогорелово' 'лесогорский' 'лаголово' 'цвелодубово' 'рахья' 'белогорка'\n",
            " 'заводской' 'новоселье' 'большие колпаны' 'горбунки' 'батово' 'заневка'\n",
            " 'иссад' 'приморск' 'мистолово' 'новая ладога' 'зимитицы' 'барышево'\n",
            " 'разметелево' 'имени свердлова' 'пеники' 'рябово' 'пудомяги' 'корнево'\n",
            " 'низино' 'бегуницы' 'поляны' 'мга' 'елизаветино' 'кузнечное' 'колтуши'\n",
            " 'запорожское' 'гостилицы' 'малое карлино' 'мичуринское' 'имени морозова'\n",
            " 'песочный' 'сосново' 'аро' 'ильичёво' 'тайцы' 'малое верево' 'извара'\n",
            " 'вещево' 'паша' 'калитино' 'ульяновка' 'чудской бор' 'дубровка' 'мины'\n",
            " 'войсковицы' 'коркино' 'ропша' 'приладожский' 'щеглово' 'гаврилово'\n",
            " 'лодейное поле' 'рабитицы' 'никольский' 'кузьмолово' 'малые колпаны'\n",
            " 'петро-славянка' 'назия' 'репино' 'углово' 'старая малукса' 'меньково'\n",
            " 'старые бегуницы' 'сапёрный' 'семрино' 'глажево' 'кобринское' 'гарболово'\n",
            " 'юкки' 'приветнинское' 'мануйлово' 'пчева' 'цвылёво' 'мельниково'\n",
            " 'пудость' 'усть-луга' 'светогорск' 'любань' 'селезнёво' 'каменногорск'\n",
            " 'кривко' 'глебычево' 'парицы' 'жил' 'войскорово' 'стеклянный' 'важины'\n",
            " 'мыза-ивановка' 'русско-высоцкое' 'форносово' 'старая ладога' 'житково'\n",
            " 'виллози' 'лампово' 'шпаньково' 'лаврики' 'сумино' 'возрождение'\n",
            " 'старосиверская' 'кикерино' 'старое хинколово' 'пригородный' 'торфяное'\n",
            " 'будогощь' 'суходолье' 'красная долина' 'хапо-ое' 'дружная горка'\n",
            " 'лисий нос' 'яльгелево' 'рождествено' 'старополье' 'левашово'\n",
            " 'сяськелево' 'камышовка' 'лесная поляна' 'хязельки' 'жилгородок' 'ялгино'\n",
            " 'новый учхоз' 'гончарово' 'почап' 'сапёрное' 'платформа 69-й километр'\n",
            " 'каложицы' 'фалилеево' 'пельгора' 'торошковичи' 'белоостров' 'алексеевка'\n",
            " 'серебрянский' 'лукаши' 'тарасово' 'кингисеппский' 'ушаки' 'котлы'\n",
            " 'сижно' 'торосово' 'форт красная горка' 'новолисино' 'громово' 'глинка'\n",
            " 'старая пустошь' 'коммунары' 'починок' 'вознесенье' 'разбегаево'\n",
            " 'гладкое' 'тёсово-4' 'бор' 'коробицыно' 'большая вруда' 'курковицы'\n",
            " 'кобралово' 'суоранда' 'кондратьево' 'счастье' 'реброво' 'тойворово'\n",
            " 'семиозерье' 'лесное' 'совхозный' 'ленинское' 'суйда' 'нижние осельки'\n",
            " 'свирь' 'перово' 'высоцк' 'шум' 'котельский' 'лужайка'\n",
            " 'большая пустомержа' 'красносельское' 'вахнова кара' 'пижма'\n",
            " 'кивеннапа север' 'ромашки' 'каськово' 'куровицы' 'плоское' 'кирпичное'\n",
            " 'ям-тесово' 'раздолье' 'терпилицы' 'шугозеро' 'ваганово' 'пушное' 'садко'\n",
            " 'усть-ижора' 'выскатка' 'свирьстрой' 'кисельня' 'трубников бор'\n",
            " 'высокоключевой' 'пансионат зелёный бор' 'ненимяки' 'снегирёвка'\n",
            " 'рапполово' 'пустынка' 'большой сабск' 'русско' 'лупполово'\n",
            " 'большое рейзино' 'малая романовка' 'дружноселье' 'пчевжа' 'володарское'\n",
            " 'нижняя' 'тихковицы' 'борисова грива' 'дзержинского']\n"
          ]
        }
      ],
      "source": [
        "print(data['locality_name'].unique())"
      ]
    },
    {
      "cell_type": "markdown",
      "metadata": {
        "id": "e29r0K8w1SeE"
      },
      "source": [
        "Исправили наиболее частую причину возникновения неявных дубликатов."
      ]
    },
    {
      "cell_type": "markdown",
      "metadata": {
        "id": "vIbL24g_1SeF"
      },
      "source": [
        "\n",
        "Проверим количество дубликатов после обработки\n",
        "\n"
      ]
    },
    {
      "cell_type": "code",
      "execution_count": null,
      "metadata": {
        "id": "7dkeuOPQ1SeF",
        "outputId": "d4dde29c-19ff-4db1-ce26-1d34d728c808"
      },
      "outputs": [
        {
          "name": "stdout",
          "output_type": "stream",
          "text": [
            "23393\n"
          ]
        }
      ],
      "source": [
        "print(data['locality_name'].duplicated().sum())"
      ]
    },
    {
      "cell_type": "markdown",
      "metadata": {
        "id": "yBr1NXJz1SeF"
      },
      "source": [
        "\n",
        "Дубликатов в столбце стало больше по причине того, что все неявные дубликаты были приведены к одному виду.\n",
        "\n",
        "</div>"
      ]
    },
    {
      "cell_type": "markdown",
      "metadata": {
        "id": "hjXJHZIa1SeF"
      },
      "source": [
        "#### Работа с аномальными значениями "
      ]
    },
    {
      "cell_type": "markdown",
      "metadata": {
        "id": "7G3lkE-51SeF"
      },
      "source": [
        "Исследуем данные в столбце total_area"
      ]
    },
    {
      "cell_type": "code",
      "execution_count": null,
      "metadata": {
        "id": "BfhZUJgp1SeF",
        "outputId": "1dcaca32-a397-46bf-df46-86f2f6267a03"
      },
      "outputs": [
        {
          "data": {
            "text/plain": [
              "count    23699.000000\n",
              "mean        60.348651\n",
              "std         35.654083\n",
              "min         12.000000\n",
              "25%         40.000000\n",
              "50%         52.000000\n",
              "75%         69.900000\n",
              "max        900.000000\n",
              "Name: total_area, dtype: float64"
            ]
          },
          "execution_count": 25,
          "metadata": {},
          "output_type": "execute_result"
        }
      ],
      "source": [
        "data['total_area'].describe()"
      ]
    },
    {
      "cell_type": "markdown",
      "metadata": {
        "id": "t8FkRzAl1SeG"
      },
      "source": [
        "Построим гистограмму"
      ]
    },
    {
      "cell_type": "code",
      "execution_count": null,
      "metadata": {
        "id": "5MpeRwoq1SeG",
        "outputId": "9ac926af-bfd5-4da3-a9b9-c56149e96281"
      },
      "outputs": [
        {
          "data": {
            "image/png": "[encoded data removed]",
            "text/plain": [
              "<Figure size 288x288 with 1 Axes>"
            ]
          },
          "metadata": {
            "needs_background": "light"
          },
          "output_type": "display_data"
        }
      ],
      "source": [
        "data['total_area'].hist(figsize=(4, 4))\n",
        "plt.show()"
      ]
    },
    {
      "cell_type": "markdown",
      "metadata": {
        "id": "A4KQddTP1SeG"
      },
      "source": [
        "\n",
        "Максимальное значение в столбце площади квартиры - 900 кв.м. Наиболее вероятно, это выбивающееся значение.\n",
        "    Предположим, что для нашего исследования не нужны квартиры более 300 кв.м.\n",
        "    Для начала посчитаем количество таких квартир:\n"
      ]
    },
    {
      "cell_type": "code",
      "execution_count": null,
      "metadata": {
        "id": "TJ7v_Yxz1SeH",
        "outputId": "f45b6574-24fa-4030-8e2e-1ce0932dc5e8"
      },
      "outputs": [
        {
          "name": "stdout",
          "output_type": "stream",
          "text": [
            "61\n"
          ]
        }
      ],
      "source": [
        "print(data.loc[data['total_area']>300, 'total_area'].count())"
      ]
    },
    {
      "cell_type": "markdown",
      "metadata": {
        "id": "LMDZOZex1SeH"
      },
      "source": [
        "\n",
        "Всего 61 квартира имеют площадь более 300 кв.м.\n",
        "Удалим строки с такими значениями общей площади, чтобы не было сильного влияния на наше исследование\n"
      ]
    },
    {
      "cell_type": "code",
      "execution_count": null,
      "metadata": {
        "id": "798XdF5O1SeH",
        "outputId": "f3ad116e-863d-413a-cc3b-d596ee2582bb"
      },
      "outputs": [
        {
          "name": "stdout",
          "output_type": "stream",
          "text": [
            "0\n"
          ]
        }
      ],
      "source": [
        "data = data.loc[data['total_area']<=300] # перезапишем датафрейм без выбивающихся значений\n",
        "print(data.loc[data['total_area']>300, 'total_area'].count()) # посчитаем результат"
      ]
    },
    {
      "cell_type": "markdown",
      "metadata": {
        "id": "P5InURkc1SeH"
      },
      "source": [
        "Исследуем данные в столбце parks_nearest"
      ]
    },
    {
      "cell_type": "code",
      "execution_count": null,
      "metadata": {
        "id": "oCftQwKd1SeI",
        "outputId": "a5785fb9-97b7-4aa2-bbec-bb1acd234b81"
      },
      "outputs": [
        {
          "data": {
            "text/plain": [
              "min          1.000000\n",
              "max       3190.000000\n",
              "mean       490.980102\n",
              "median     455.000000\n",
              "Name: parks_nearest, dtype: float64"
            ]
          },
          "execution_count": 29,
          "metadata": {},
          "output_type": "execute_result"
        }
      ],
      "source": [
        "data['parks_nearest'].agg(['min','max','mean','median'])"
      ]
    },
    {
      "cell_type": "code",
      "execution_count": null,
      "metadata": {
        "id": "PR1gb-vt1SeI",
        "outputId": "e652e513-6f77-4f06-ecab-64d247d4dc83"
      },
      "outputs": [
        {
          "data": {
            "image/png": "[encoded data removed]",
            "text/plain": [
              "<Figure size 432x288 with 1 Axes>"
            ]
          },
          "metadata": {
            "needs_background": "light"
          },
          "output_type": "display_data"
        }
      ],
      "source": [
        "data.boxplot(column='parks_nearest') # построим ящик с усами\n",
        "plt.show()"
      ]
    },
    {
      "cell_type": "markdown",
      "metadata": {
        "id": "POVOE3zU1SeI"
      },
      "source": [
        "Исходя из обзора, можно сделать вывод, что проблем с данными нет. Стоит только обратить внимание на том,  что в данном столбце большое количество отсутствующих значений. Такое количество отсутствующих значений по приближённости парка говорят о том, что необходимо проверить наличие проблемы в выгрузке данных из программы. "
      ]
    },
    {
      "cell_type": "markdown",
      "metadata": {
        "id": "2Tp5BCRK1SeJ"
      },
      "source": [
        "Предположим, что в столбце ponds_nearest аналогичная ситуация\n",
        "<br> Выведем информацию и построим гистограмму </br>"
      ]
    },
    {
      "cell_type": "code",
      "execution_count": null,
      "metadata": {
        "id": "d1Jqpx3A1SeJ",
        "outputId": "0af82dcf-9b8f-4df3-f9a8-2b731a032238"
      },
      "outputs": [
        {
          "data": {
            "image/png": "[encoded data removed]",
            "text/plain": [
              "<Figure size 432x288 with 1 Axes>"
            ]
          },
          "metadata": {
            "needs_background": "light"
          },
          "output_type": "display_data"
        }
      ],
      "source": [
        "data.boxplot(column='ponds_nearest') # построим ящик с усами\n",
        "plt.show()"
      ]
    },
    {
      "cell_type": "code",
      "execution_count": null,
      "metadata": {
        "id": "Ko_qvqK71SeJ",
        "outputId": "143443fa-f0ce-41b3-9548-63457a2764da"
      },
      "outputs": [
        {
          "data": {
            "text/plain": [
              "min          1.000000\n",
              "max       3190.000000\n",
              "mean       490.980102\n",
              "median     455.000000\n",
              "Name: parks_nearest, dtype: float64"
            ]
          },
          "execution_count": 32,
          "metadata": {},
          "output_type": "execute_result"
        }
      ],
      "source": [
        "data['parks_nearest'].agg(['min','max','mean','median'])"
      ]
    },
    {
      "cell_type": "markdown",
      "metadata": {
        "id": "gQqTTyus1SeJ"
      },
      "source": [
        "Как и предполагалось, проблем с предоставленными данными нет, за исключением большого количества пропущенных значений."
      ]
    },
    {
      "cell_type": "markdown",
      "metadata": {
        "id": "WD94pRVa1SeJ"
      },
      "source": [
        "Проверим столбец kitchen_area"
      ]
    },
    {
      "cell_type": "markdown",
      "metadata": {
        "id": "55tW2sb21SeJ"
      },
      "source": [
        "Исходя из данных Строительных норм и правил, кухня не может быть менее площадью менее 5 квадратных метров. Выполним выборку по данным значениям:"
      ]
    },
    {
      "cell_type": "code",
      "execution_count": null,
      "metadata": {
        "scrolled": true,
        "id": "GyZLEH931SeK",
        "outputId": "46c7c2a6-9a14-411c-c494-92930487010e"
      },
      "outputs": [
        {
          "name": "stdout",
          "output_type": "stream",
          "text": [
            "       total_images  last_price  total_area first_day_exposition  rooms  \\\n",
            "76               12   2800000.0        55.1           2016-05-14      3   \n",
            "298               9   2650000.0        42.8           2017-04-25      2   \n",
            "422               8   1700000.0        55.2           2018-03-24      3   \n",
            "906              15   2600000.0        27.0           2017-07-10      1   \n",
            "1327              6   2650000.0        46.2           2016-12-01      2   \n",
            "...             ...         ...         ...                  ...    ...   \n",
            "22839            14   3350000.0        27.0           2018-11-03      1   \n",
            "22849             6   2380000.0        25.0           2016-03-22      1   \n",
            "23110             1   2900000.0        34.0           2018-02-01      2   \n",
            "23498             7   1600000.0        54.0           2016-12-26      2   \n",
            "23678            10   3500000.0        43.0           2016-05-19      2   \n",
            "\n",
            "       ceiling_height  floors_total  living_area  floor  is_apartment  ...  \\\n",
            "76               2.60             5         38.4      1         False  ...   \n",
            "298              2.65             5         30.0      3         False  ...   \n",
            "422              2.50             5         38.5      5         False  ...   \n",
            "906              2.75            23         18.0     18         False  ...   \n",
            "1327             2.50             5         29.2      5         False  ...   \n",
            "...               ...           ...          ...    ...           ...  ...   \n",
            "22839            2.70            16         17.6      6         False  ...   \n",
            "22849            2.65            25         19.0     15         False  ...   \n",
            "23110            2.90             2         20.0      1         False  ...   \n",
            "23498            2.30             1         33.0      1         False  ...   \n",
            "23678            2.50             3         26.1      2         False  ...   \n",
            "\n",
            "       kitchen_area  balcony    locality_name  airports_nearest  \\\n",
            "76              4.9        0          кировск               NaN   \n",
            "298             4.5        0          гатчина               NaN   \n",
            "422             4.5        0           кириши               NaN   \n",
            "906             2.0        0  санкт-петербург           22131.0   \n",
            "1327            4.9        0          гатчина               NaN   \n",
            "...             ...      ...              ...               ...   \n",
            "22839           4.0        2  санкт-петербург           41935.0   \n",
            "22849           4.0        1           шушары           13461.0   \n",
            "23110           4.0        0         стрельна           27006.0   \n",
            "23498           3.5        0           высоцк               NaN   \n",
            "23678           4.9        1           пушкин           15823.0   \n",
            "\n",
            "      city_centers_nearest  parks_around  parks_nearest  ponds_around  \\\n",
            "76                     NaN          <NA>            NaN          <NA>   \n",
            "298                    NaN          <NA>            NaN          <NA>   \n",
            "422                    NaN          <NA>            NaN          <NA>   \n",
            "906                17459.0             0            NaN             1   \n",
            "1327                   NaN          <NA>            NaN          <NA>   \n",
            "...                    ...           ...            ...           ...   \n",
            "22839               9551.0             0            NaN             0   \n",
            "22849              19247.0             0            NaN             1   \n",
            "23110              23832.0             0            NaN             2   \n",
            "23498                  NaN          <NA>            NaN          <NA>   \n",
            "23678              27977.0             0            NaN             1   \n",
            "\n",
            "       ponds_nearest  days_exposition  \n",
            "76               NaN            606.0  \n",
            "298              NaN             49.0  \n",
            "422              NaN              NaN  \n",
            "906            411.0             10.0  \n",
            "1327             NaN            704.0  \n",
            "...              ...              ...  \n",
            "22839            NaN             35.0  \n",
            "22849          351.0            140.0  \n",
            "23110          872.0            196.0  \n",
            "23498            NaN            281.0  \n",
            "23678         1134.0            252.0  \n",
            "\n",
            "[105 rows x 22 columns]\n"
          ]
        }
      ],
      "source": [
        "print(data.query('(kitchen_area < 5) & (kitchen_area > 0)')) # сделаем срез по условиям от 0 до 5 кв.м."
      ]
    },
    {
      "cell_type": "markdown",
      "metadata": {
        "id": "eITesDYv1SeL"
      },
      "source": [
        "\n",
        "Всего 22 строки с выбивающимися значениями площади кухни.\n",
        "    Исключим строки с аномальными значениями.\n"
      ]
    },
    {
      "cell_type": "code",
      "execution_count": null,
      "metadata": {
        "id": "rE3abmlS1SeL",
        "outputId": "b4d79c32-cb81-42b7-fe96-6c430ec182ac"
      },
      "outputs": [
        {
          "name": "stdout",
          "output_type": "stream",
          "text": [
            "0\n"
          ]
        }
      ],
      "source": [
        "data = data.loc[(data['kitchen_area']>=5) | (data['kitchen_area']==0)] # перезапишем датафрейм без выбивающихся значений\n",
        "print(data.loc[(data['kitchen_area']<5) & (data['kitchen_area']>0), 'kitchen_area'].count()) # посчитаем результат"
      ]
    },
    {
      "cell_type": "markdown",
      "metadata": {
        "id": "e6kxh1dp1SeL"
      },
      "source": [
        "Выведем описание столбца first_day_exposition"
      ]
    },
    {
      "cell_type": "code",
      "execution_count": null,
      "metadata": {
        "id": "MATBAyfD1SeL",
        "outputId": "201a13f0-259c-4d01-fb0f-1e53df6e9d41"
      },
      "outputs": [
        {
          "data": {
            "text/plain": [
              "min      2014-11-27\n",
              "max      2019-05-03\n",
              "median   2017-12-12\n",
              "Name: first_day_exposition, dtype: datetime64[ns]"
            ]
          },
          "execution_count": 36,
          "metadata": {},
          "output_type": "execute_result"
        }
      ],
      "source": [
        "data['first_day_exposition'].agg(['min', 'max', 'median'])"
      ]
    },
    {
      "cell_type": "code",
      "execution_count": null,
      "metadata": {
        "id": "MvEmuOP31SeM",
        "outputId": "635f1ad6-ced8-42a4-87a1-5932843c8446"
      },
      "outputs": [
        {
          "data": {
            "image/png": "[encoded data removed]",
            "text/plain": [
              "<Figure size 432x288 with 1 Axes>"
            ]
          },
          "metadata": {
            "needs_background": "light"
          },
          "output_type": "display_data"
        }
      ],
      "source": [
        "data['first_day_exposition'].hist() # построим гистограмму\n",
        "plt.show()"
      ]
    },
    {
      "cell_type": "markdown",
      "metadata": {
        "id": "Uk4RdbSY1SeM"
      },
      "source": [
        "С данными в этом столбце всё в порядке"
      ]
    },
    {
      "cell_type": "markdown",
      "metadata": {
        "id": "mP6459Gs1SeM"
      },
      "source": [
        "Проанализируем столбец ceiling_height"
      ]
    },
    {
      "cell_type": "code",
      "execution_count": null,
      "metadata": {
        "id": "-Z_zUy5r1SeM",
        "outputId": "c281a935-e22b-4bd2-8040-d533fd8dd4cf"
      },
      "outputs": [
        {
          "data": {
            "text/plain": [
              "count    23638.000000\n",
              "mean         2.723111\n",
              "std          0.988698\n",
              "min          1.000000\n",
              "25%          2.600000\n",
              "50%          2.650000\n",
              "75%          2.700000\n",
              "max        100.000000\n",
              "Name: ceiling_height, dtype: float64"
            ]
          },
          "execution_count": 38,
          "metadata": {},
          "output_type": "execute_result"
        }
      ],
      "source": [
        "data['ceiling_height'].describe() # выведем общую информацию о столбце"
      ]
    },
    {
      "cell_type": "markdown",
      "metadata": {
        "id": "Uq1T4aOZ1SeN"
      },
      "source": [
        "Максимальное значения высоты потолка 100 метров. Очевидно, это аномальное значение. Необходимо проверить наличие других."
      ]
    },
    {
      "cell_type": "code",
      "execution_count": null,
      "metadata": {
        "scrolled": true,
        "id": "gcTllWfK1SeN",
        "outputId": "30911483-40a5-4daa-9e9c-e6c3c5cfd5dc"
      },
      "outputs": [
        {
          "data": {
            "text/html": [
              "<div>\n",
              "<style scoped>\n",
              "    .dataframe tbody tr th:only-of-type {\n",
              "        vertical-align: middle;\n",
              "    }\n",
              "\n",
              "    .dataframe tbody tr th {\n",
              "        vertical-align: top;\n",
              "    }\n",
              "\n",
              "    .dataframe thead th {\n",
              "        text-align: right;\n",
              "    }\n",
              "</style>\n",
              "<table border=\"1\" class=\"dataframe\">\n",
              "  <thead>\n",
              "    <tr style=\"text-align: right;\">\n",
              "      <th></th>\n",
              "      <th>total_images</th>\n",
              "      <th>last_price</th>\n",
              "      <th>total_area</th>\n",
              "      <th>first_day_exposition</th>\n",
              "      <th>rooms</th>\n",
              "      <th>ceiling_height</th>\n",
              "      <th>floors_total</th>\n",
              "      <th>living_area</th>\n",
              "      <th>floor</th>\n",
              "      <th>is_apartment</th>\n",
              "      <th>...</th>\n",
              "      <th>kitchen_area</th>\n",
              "      <th>balcony</th>\n",
              "      <th>locality_name</th>\n",
              "      <th>airports_nearest</th>\n",
              "      <th>city_centers_nearest</th>\n",
              "      <th>parks_around</th>\n",
              "      <th>parks_nearest</th>\n",
              "      <th>ponds_around</th>\n",
              "      <th>ponds_nearest</th>\n",
              "      <th>days_exposition</th>\n",
              "    </tr>\n",
              "  </thead>\n",
              "  <tbody>\n",
              "    <tr>\n",
              "      <th>355</th>\n",
              "      <td>17</td>\n",
              "      <td>3600000.0</td>\n",
              "      <td>55.2</td>\n",
              "      <td>2018-07-12</td>\n",
              "      <td>2</td>\n",
              "      <td>25.0</td>\n",
              "      <td>5</td>\n",
              "      <td>32.0</td>\n",
              "      <td>2</td>\n",
              "      <td>False</td>\n",
              "      <td>...</td>\n",
              "      <td>8.5</td>\n",
              "      <td>2</td>\n",
              "      <td>гатчина</td>\n",
              "      <td>NaN</td>\n",
              "      <td>NaN</td>\n",
              "      <td>&lt;NA&gt;</td>\n",
              "      <td>NaN</td>\n",
              "      <td>&lt;NA&gt;</td>\n",
              "      <td>NaN</td>\n",
              "      <td>259.0</td>\n",
              "    </tr>\n",
              "    <tr>\n",
              "      <th>3148</th>\n",
              "      <td>14</td>\n",
              "      <td>2900000.0</td>\n",
              "      <td>75.0</td>\n",
              "      <td>2018-11-12</td>\n",
              "      <td>3</td>\n",
              "      <td>32.0</td>\n",
              "      <td>3</td>\n",
              "      <td>53.0</td>\n",
              "      <td>2</td>\n",
              "      <td>False</td>\n",
              "      <td>...</td>\n",
              "      <td>8.0</td>\n",
              "      <td>0</td>\n",
              "      <td>волхов</td>\n",
              "      <td>NaN</td>\n",
              "      <td>NaN</td>\n",
              "      <td>&lt;NA&gt;</td>\n",
              "      <td>NaN</td>\n",
              "      <td>&lt;NA&gt;</td>\n",
              "      <td>NaN</td>\n",
              "      <td>NaN</td>\n",
              "    </tr>\n",
              "    <tr>\n",
              "      <th>4643</th>\n",
              "      <td>0</td>\n",
              "      <td>4300000.0</td>\n",
              "      <td>45.0</td>\n",
              "      <td>2018-02-01</td>\n",
              "      <td>2</td>\n",
              "      <td>25.0</td>\n",
              "      <td>9</td>\n",
              "      <td>30.0</td>\n",
              "      <td>2</td>\n",
              "      <td>False</td>\n",
              "      <td>...</td>\n",
              "      <td>7.0</td>\n",
              "      <td>1</td>\n",
              "      <td>санкт-петербург</td>\n",
              "      <td>12016.0</td>\n",
              "      <td>13256.0</td>\n",
              "      <td>1</td>\n",
              "      <td>658.0</td>\n",
              "      <td>1</td>\n",
              "      <td>331.0</td>\n",
              "      <td>181.0</td>\n",
              "    </tr>\n",
              "    <tr>\n",
              "      <th>4876</th>\n",
              "      <td>7</td>\n",
              "      <td>3000000.0</td>\n",
              "      <td>25.0</td>\n",
              "      <td>2017-09-27</td>\n",
              "      <td>0</td>\n",
              "      <td>27.0</td>\n",
              "      <td>25</td>\n",
              "      <td>17.0</td>\n",
              "      <td>17</td>\n",
              "      <td>False</td>\n",
              "      <td>...</td>\n",
              "      <td>8.5</td>\n",
              "      <td>2</td>\n",
              "      <td>мурино</td>\n",
              "      <td>NaN</td>\n",
              "      <td>NaN</td>\n",
              "      <td>&lt;NA&gt;</td>\n",
              "      <td>NaN</td>\n",
              "      <td>&lt;NA&gt;</td>\n",
              "      <td>NaN</td>\n",
              "      <td>28.0</td>\n",
              "    </tr>\n",
              "    <tr>\n",
              "      <th>5076</th>\n",
              "      <td>0</td>\n",
              "      <td>3850000.0</td>\n",
              "      <td>30.5</td>\n",
              "      <td>2018-10-03</td>\n",
              "      <td>1</td>\n",
              "      <td>24.0</td>\n",
              "      <td>5</td>\n",
              "      <td>19.5</td>\n",
              "      <td>1</td>\n",
              "      <td>True</td>\n",
              "      <td>...</td>\n",
              "      <td>5.5</td>\n",
              "      <td>0</td>\n",
              "      <td>санкт-петербург</td>\n",
              "      <td>29686.0</td>\n",
              "      <td>8389.0</td>\n",
              "      <td>3</td>\n",
              "      <td>397.0</td>\n",
              "      <td>1</td>\n",
              "      <td>578.0</td>\n",
              "      <td>7.0</td>\n",
              "    </tr>\n",
              "    <tr>\n",
              "      <th>5246</th>\n",
              "      <td>0</td>\n",
              "      <td>2500000.0</td>\n",
              "      <td>54.0</td>\n",
              "      <td>2017-10-13</td>\n",
              "      <td>2</td>\n",
              "      <td>27.0</td>\n",
              "      <td>5</td>\n",
              "      <td>30.0</td>\n",
              "      <td>3</td>\n",
              "      <td>False</td>\n",
              "      <td>...</td>\n",
              "      <td>9.0</td>\n",
              "      <td>2</td>\n",
              "      <td>мины</td>\n",
              "      <td>NaN</td>\n",
              "      <td>NaN</td>\n",
              "      <td>&lt;NA&gt;</td>\n",
              "      <td>NaN</td>\n",
              "      <td>&lt;NA&gt;</td>\n",
              "      <td>NaN</td>\n",
              "      <td>540.0</td>\n",
              "    </tr>\n",
              "    <tr>\n",
              "      <th>5669</th>\n",
              "      <td>4</td>\n",
              "      <td>4400000.0</td>\n",
              "      <td>50.0</td>\n",
              "      <td>2017-08-08</td>\n",
              "      <td>2</td>\n",
              "      <td>26.0</td>\n",
              "      <td>9</td>\n",
              "      <td>21.3</td>\n",
              "      <td>3</td>\n",
              "      <td>False</td>\n",
              "      <td>...</td>\n",
              "      <td>7.0</td>\n",
              "      <td>2</td>\n",
              "      <td>санкт-петербург</td>\n",
              "      <td>28981.0</td>\n",
              "      <td>10912.0</td>\n",
              "      <td>1</td>\n",
              "      <td>305.0</td>\n",
              "      <td>0</td>\n",
              "      <td>NaN</td>\n",
              "      <td>267.0</td>\n",
              "    </tr>\n",
              "    <tr>\n",
              "      <th>5807</th>\n",
              "      <td>17</td>\n",
              "      <td>8150000.0</td>\n",
              "      <td>80.0</td>\n",
              "      <td>2019-01-09</td>\n",
              "      <td>2</td>\n",
              "      <td>27.0</td>\n",
              "      <td>36</td>\n",
              "      <td>41.0</td>\n",
              "      <td>13</td>\n",
              "      <td>False</td>\n",
              "      <td>...</td>\n",
              "      <td>12.0</td>\n",
              "      <td>5</td>\n",
              "      <td>санкт-петербург</td>\n",
              "      <td>18732.0</td>\n",
              "      <td>20444.0</td>\n",
              "      <td>0</td>\n",
              "      <td>NaN</td>\n",
              "      <td>3</td>\n",
              "      <td>80.0</td>\n",
              "      <td>38.0</td>\n",
              "    </tr>\n",
              "    <tr>\n",
              "      <th>6246</th>\n",
              "      <td>6</td>\n",
              "      <td>3300000.0</td>\n",
              "      <td>44.4</td>\n",
              "      <td>2019-03-25</td>\n",
              "      <td>2</td>\n",
              "      <td>25.0</td>\n",
              "      <td>5</td>\n",
              "      <td>31.3</td>\n",
              "      <td>5</td>\n",
              "      <td>False</td>\n",
              "      <td>...</td>\n",
              "      <td>5.7</td>\n",
              "      <td>0</td>\n",
              "      <td>кронштадт</td>\n",
              "      <td>68923.0</td>\n",
              "      <td>50649.0</td>\n",
              "      <td>1</td>\n",
              "      <td>417.0</td>\n",
              "      <td>2</td>\n",
              "      <td>73.0</td>\n",
              "      <td>NaN</td>\n",
              "    </tr>\n",
              "    <tr>\n",
              "      <th>9379</th>\n",
              "      <td>5</td>\n",
              "      <td>3950000.0</td>\n",
              "      <td>42.0</td>\n",
              "      <td>2017-03-26</td>\n",
              "      <td>3</td>\n",
              "      <td>25.0</td>\n",
              "      <td>5</td>\n",
              "      <td>30.0</td>\n",
              "      <td>2</td>\n",
              "      <td>False</td>\n",
              "      <td>...</td>\n",
              "      <td>5.2</td>\n",
              "      <td>0</td>\n",
              "      <td>санкт-петербург</td>\n",
              "      <td>11647.0</td>\n",
              "      <td>13581.0</td>\n",
              "      <td>0</td>\n",
              "      <td>NaN</td>\n",
              "      <td>0</td>\n",
              "      <td>NaN</td>\n",
              "      <td>NaN</td>\n",
              "    </tr>\n",
              "  </tbody>\n",
              "</table>\n",
              "<p>10 rows × 22 columns</p>\n",
              "</div>"
            ],
            "text/plain": [
              "      total_images  last_price  total_area first_day_exposition  rooms  \\\n",
              "355             17   3600000.0        55.2           2018-07-12      2   \n",
              "3148            14   2900000.0        75.0           2018-11-12      3   \n",
              "4643             0   4300000.0        45.0           2018-02-01      2   \n",
              "4876             7   3000000.0        25.0           2017-09-27      0   \n",
              "5076             0   3850000.0        30.5           2018-10-03      1   \n",
              "5246             0   2500000.0        54.0           2017-10-13      2   \n",
              "5669             4   4400000.0        50.0           2017-08-08      2   \n",
              "5807            17   8150000.0        80.0           2019-01-09      2   \n",
              "6246             6   3300000.0        44.4           2019-03-25      2   \n",
              "9379             5   3950000.0        42.0           2017-03-26      3   \n",
              "\n",
              "      ceiling_height  floors_total  living_area  floor  is_apartment  ...  \\\n",
              "355             25.0             5         32.0      2         False  ...   \n",
              "3148            32.0             3         53.0      2         False  ...   \n",
              "4643            25.0             9         30.0      2         False  ...   \n",
              "4876            27.0            25         17.0     17         False  ...   \n",
              "5076            24.0             5         19.5      1          True  ...   \n",
              "5246            27.0             5         30.0      3         False  ...   \n",
              "5669            26.0             9         21.3      3         False  ...   \n",
              "5807            27.0            36         41.0     13         False  ...   \n",
              "6246            25.0             5         31.3      5         False  ...   \n",
              "9379            25.0             5         30.0      2         False  ...   \n",
              "\n",
              "      kitchen_area  balcony    locality_name  airports_nearest  \\\n",
              "355            8.5        2          гатчина               NaN   \n",
              "3148           8.0        0           волхов               NaN   \n",
              "4643           7.0        1  санкт-петербург           12016.0   \n",
              "4876           8.5        2           мурино               NaN   \n",
              "5076           5.5        0  санкт-петербург           29686.0   \n",
              "5246           9.0        2             мины               NaN   \n",
              "5669           7.0        2  санкт-петербург           28981.0   \n",
              "5807          12.0        5  санкт-петербург           18732.0   \n",
              "6246           5.7        0        кронштадт           68923.0   \n",
              "9379           5.2        0  санкт-петербург           11647.0   \n",
              "\n",
              "     city_centers_nearest  parks_around  parks_nearest  ponds_around  \\\n",
              "355                   NaN          <NA>            NaN          <NA>   \n",
              "3148                  NaN          <NA>            NaN          <NA>   \n",
              "4643              13256.0             1          658.0             1   \n",
              "4876                  NaN          <NA>            NaN          <NA>   \n",
              "5076               8389.0             3          397.0             1   \n",
              "5246                  NaN          <NA>            NaN          <NA>   \n",
              "5669              10912.0             1          305.0             0   \n",
              "5807              20444.0             0            NaN             3   \n",
              "6246              50649.0             1          417.0             2   \n",
              "9379              13581.0             0            NaN             0   \n",
              "\n",
              "      ponds_nearest  days_exposition  \n",
              "355             NaN            259.0  \n",
              "3148            NaN              NaN  \n",
              "4643          331.0            181.0  \n",
              "4876            NaN             28.0  \n",
              "5076          578.0              7.0  \n",
              "5246            NaN            540.0  \n",
              "5669            NaN            267.0  \n",
              "5807           80.0             38.0  \n",
              "6246           73.0              NaN  \n",
              "9379            NaN              NaN  \n",
              "\n",
              "[10 rows x 22 columns]"
            ]
          },
          "execution_count": 39,
          "metadata": {},
          "output_type": "execute_result"
        }
      ],
      "source": [
        "data.query('ceiling_height >= 20').head(10) # выведем все строки с высотой потолков выше 20 метров"
      ]
    },
    {
      "cell_type": "markdown",
      "metadata": {
        "id": "-nOUdUBx1SeN"
      },
      "source": [
        "Указаны высота потолков 25 м и 32 м. Логично предположить, что на самом деле это вещественные значения: 2.5 м и 3.2 м\n",
        "<br> Произведем замену значений </br>"
      ]
    },
    {
      "cell_type": "code",
      "execution_count": null,
      "metadata": {
        "id": "pgQSn_jk1SeN",
        "outputId": "95193442-6032-432e-b311-ea432547958f"
      },
      "outputs": [
        {
          "data": {
            "text/plain": [
              "array([ 25. ,  32. ,  27. ,  24. ,  26. ,  20. ,  22.6,  27.5, 100. ])"
            ]
          },
          "execution_count": 40,
          "metadata": {},
          "output_type": "execute_result"
        }
      ],
      "source": [
        "data.loc[data['ceiling_height'] >= 20, 'ceiling_height'].unique() # выведем уникальные значения"
      ]
    },
    {
      "cell_type": "markdown",
      "metadata": {
        "id": "KTBnW_9D1SeO"
      },
      "source": [
        "\n",
        "Разделим значения больше или равно 20 на 10\n",
        "\n"
      ]
    },
    {
      "cell_type": "code",
      "execution_count": null,
      "metadata": {
        "id": "-psuY7Md1SeO"
      },
      "outputs": [],
      "source": [
        "data.loc[data['ceiling_height'] >= 20, 'ceiling_height'] /= 10"
      ]
    },
    {
      "cell_type": "code",
      "execution_count": null,
      "metadata": {
        "id": "Ty0Ws_z01SeO",
        "outputId": "f6e536af-68b0-4c2e-a8b4-9aaf3aec1be8"
      },
      "outputs": [
        {
          "data": {
            "text/plain": [
              "array([], dtype=float64)"
            ]
          },
          "execution_count": 43,
          "metadata": {},
          "output_type": "execute_result"
        }
      ],
      "source": [
        "data.loc[data['ceiling_height'] >= 20, 'ceiling_height'].unique() # снова выведем на экран уникальные значения"
      ]
    },
    {
      "cell_type": "markdown",
      "metadata": {
        "id": "NaTCZtfl1SeP"
      },
      "source": [
        "Новый список пуст. Соответственно, все аномальные значения заменены.\n",
        "<br> Т.к. потолок не может быть ниже 2 метров. Выведем уникальные значения из срезов: </br>\n",
        "<br> - менее 2 метров </br>\n",
        "<br> - от 11 до 20 метров </br>"
      ]
    },
    {
      "cell_type": "code",
      "execution_count": null,
      "metadata": {
        "id": "_rWuR3G21SeP",
        "outputId": "5cea6b5d-74e3-48ec-93ad-2ece5a18798e"
      },
      "outputs": [
        {
          "data": {
            "text/plain": [
              "array([ 1.2 , 14.  ,  1.75,  1.  ])"
            ]
          },
          "execution_count": 44,
          "metadata": {},
          "output_type": "execute_result"
        }
      ],
      "source": [
        "data.loc[((data['ceiling_height'] < 20) & (data['ceiling_height'] > 11)) \n",
        "         | (data['ceiling_height'] < 2) , 'ceiling_height'].unique()"
      ]
    },
    {
      "cell_type": "markdown",
      "metadata": {
        "id": "QrGdBCfu1SeP"
      },
      "source": [
        "Заменим данные аномалии средним значением по столбцу."
      ]
    },
    {
      "cell_type": "code",
      "execution_count": null,
      "metadata": {
        "id": "uNpq1Mzy1SeQ"
      },
      "outputs": [],
      "source": [
        "height_mid = data.query('ceiling_height > 2 and ceiling_height < 11')['ceiling_height'].median()\n",
        "data.loc[((data['ceiling_height'] < 20) & (data['ceiling_height'] > 11)) \n",
        "         | (data['ceiling_height'] < 2) , 'ceiling_height'] = height_mid"
      ]
    },
    {
      "cell_type": "code",
      "execution_count": null,
      "metadata": {
        "id": "AWg1WYm11SeQ",
        "outputId": "f4292a8a-2012-4479-9cf3-237d2ea12445"
      },
      "outputs": [
        {
          "data": {
            "text/plain": [
              "array([], dtype=float64)"
            ]
          },
          "execution_count": 47,
          "metadata": {},
          "output_type": "execute_result"
        }
      ],
      "source": [
        "data.loc[((data['ceiling_height'] < 20) & (data['ceiling_height'] > 11))  # снова выведем на экран уникальные значения\n",
        "         | (data['ceiling_height'] < 2) , 'ceiling_height'].unique()"
      ]
    },
    {
      "cell_type": "markdown",
      "metadata": {
        "id": "IGHTtaiU1SeR"
      },
      "source": [
        "\n",
        "Рассмотрим аномальные значения в столбце last_price\n"
      ]
    },
    {
      "cell_type": "code",
      "execution_count": null,
      "metadata": {
        "scrolled": true,
        "id": "IP_xTi3H1SeR",
        "outputId": "6e0e2e08-82d2-4a4c-844b-363a607da95c"
      },
      "outputs": [
        {
          "data": {
            "text/plain": [
              "count    2.363800e+04\n",
              "mean     6.306195e+06\n",
              "std      7.770379e+06\n",
              "min      1.219000e+04\n",
              "25%      3.400000e+06\n",
              "50%      4.620000e+06\n",
              "75%      6.750000e+06\n",
              "max      3.300000e+08\n",
              "Name: last_price, dtype: float64"
            ]
          },
          "execution_count": 48,
          "metadata": {},
          "output_type": "execute_result"
        }
      ],
      "source": [
        "data['last_price'].describe() # опишем значения столбца"
      ]
    },
    {
      "cell_type": "markdown",
      "metadata": {
        "id": "h5QXaWeJ1SeR"
      },
      "source": [
        "Выведем строки с максимальным и минимальным значением "
      ]
    },
    {
      "cell_type": "code",
      "execution_count": null,
      "metadata": {
        "id": "5QFN-4Uu1SeR",
        "outputId": "c9734f29-efde-4eab-8be2-691735c30a7f"
      },
      "outputs": [
        {
          "name": "stdout",
          "output_type": "stream",
          "text": [
            "330000000.0\n"
          ]
        }
      ],
      "source": [
        "print(data['last_price'].max())"
      ]
    },
    {
      "cell_type": "code",
      "execution_count": null,
      "metadata": {
        "scrolled": true,
        "id": "4wRGJVBW1SeS",
        "outputId": "eb518daa-07dc-437a-b496-c598809d6727"
      },
      "outputs": [
        {
          "name": "stdout",
          "output_type": "stream",
          "text": [
            "12190.0\n"
          ]
        }
      ],
      "source": [
        "print(data['last_price'].min())"
      ]
    },
    {
      "cell_type": "markdown",
      "metadata": {
        "id": "WuSodCEp1SeS"
      },
      "source": [
        "Наблюдаем аномально дешевую цену на квартиру и аномально дорогую. Проверим в каких значениях указана цена (вероятно, это тыс. руб). Посчитаем количество значений менее 500 000 и более 10 000 "
      ]
    },
    {
      "cell_type": "code",
      "execution_count": null,
      "metadata": {
        "scrolled": true,
        "id": "9DjvotDz1SeS",
        "outputId": "e9a8ada7-25c6-4734-b491-b310a500e75e"
      },
      "outputs": [
        {
          "name": "stdout",
          "output_type": "stream",
          "text": [
            "14\n"
          ]
        }
      ],
      "source": [
        "print(data.loc[(data['last_price']>10000)& (data['last_price']<500000), 'last_price'].count())"
      ]
    },
    {
      "cell_type": "markdown",
      "metadata": {
        "id": "kSPEOtLf1SeS"
      },
      "source": [
        " Всего 14 значений дешевле 500 000 руб. Гипотеза не подтвердилась. Значения указаны корректно. Предположим, что, несмотря  на наличие в данных деревень, цена на квартиры не может быть ниже 500 000 рублей. Удалим выбивающиеся значения "
      ]
    },
    {
      "cell_type": "code",
      "execution_count": null,
      "metadata": {
        "id": "_xg-na-K1SeS",
        "outputId": "f28305ba-addc-49e5-8d2c-fa135741abc9"
      },
      "outputs": [
        {
          "name": "stdout",
          "output_type": "stream",
          "text": [
            "0\n"
          ]
        }
      ],
      "source": [
        "data = data.loc[data['last_price']>=500000] # удалим строки с аномальными значениями\n",
        "print(data.loc[data['last_price']<500000, 'last_price'].count()) # снова посчитаем количество"
      ]
    },
    {
      "cell_type": "code",
      "execution_count": null,
      "metadata": {
        "scrolled": true,
        "id": "wDgrRAaA1SeS",
        "outputId": "b323b673-ce8a-4584-8491-f9ef665f1564"
      },
      "outputs": [
        {
          "data": {
            "image/png": "[encoded data removed]",
            "text/plain": [
              "<Figure size 432x288 with 1 Axes>"
            ]
          },
          "metadata": {
            "needs_background": "light"
          },
          "output_type": "display_data"
        }
      ],
      "source": [
        "data.boxplot(column='last_price') # построим ящик с усами\n",
        "plt.show()"
      ]
    },
    {
      "cell_type": "markdown",
      "metadata": {
        "id": "nik7VdWm1SeT"
      },
      "source": [
        "исходя из диаграммы, можно предположить, что цены выше 20 млн руб можно не учитывать. Т.к. сильно большой разброс в значениях"
      ]
    },
    {
      "cell_type": "code",
      "execution_count": null,
      "metadata": {
        "scrolled": true,
        "id": "_Z57LZ141SeT",
        "outputId": "47d94ecd-15f1-407e-d025-4a1d17a2f515"
      },
      "outputs": [
        {
          "name": "stdout",
          "output_type": "stream",
          "text": [
            "0\n"
          ]
        }
      ],
      "source": [
        "data = data.loc[data['last_price']<=20000000] # удалим строки более 20 млн\n",
        "print(data.loc[data['last_price']>20000000, 'last_price'].count()) # снова посчитаем количество"
      ]
    },
    {
      "cell_type": "code",
      "execution_count": null,
      "metadata": {
        "scrolled": true,
        "id": "qhJ5w6EW1SeT",
        "outputId": "d22de3f2-a288-4c4d-a48d-1bb1ede2084c"
      },
      "outputs": [
        {
          "data": {
            "image/png": "[encoded data removed]",
            "text/plain": [
              "<Figure size 432x288 with 1 Axes>"
            ]
          },
          "metadata": {
            "needs_background": "light"
          },
          "output_type": "display_data"
        }
      ],
      "source": [
        "data.boxplot(column='last_price') # построим ящик с усами\n",
        "plt.show()"
      ]
    },
    {
      "cell_type": "markdown",
      "metadata": {
        "id": "WEXlYjl21SeT"
      },
      "source": [
        "Основной разброс данных в диапазоне между 800 000 и 11 000 000 руб "
      ]
    },
    {
      "cell_type": "markdown",
      "metadata": {
        "id": "p7FbZYcH1SeU"
      },
      "source": [
        "\n",
        "Рассмотрим аномальные значения в столбце rooms\n"
      ]
    },
    {
      "cell_type": "code",
      "execution_count": null,
      "metadata": {
        "scrolled": true,
        "id": "vEn0scIo1SeU",
        "outputId": "ab41e7ca-d87c-4dbe-8567-af9ca225b114"
      },
      "outputs": [
        {
          "data": {
            "image/png": "[encoded data removed]",
            "text/plain": [
              "<Figure size 432x288 with 1 Axes>"
            ]
          },
          "metadata": {
            "needs_background": "light"
          },
          "output_type": "display_data"
        }
      ],
      "source": [
        "data.boxplot(column='rooms') # построим ящик с усами\n",
        "plt.show()"
      ]
    },
    {
      "cell_type": "code",
      "execution_count": null,
      "metadata": {
        "scrolled": false,
        "id": "FdUSgMa_1SeU",
        "outputId": "97434f92-5c4e-4953-c0bb-268d5df86d6e"
      },
      "outputs": [
        {
          "data": {
            "text/plain": [
              "count    22975.000000\n",
              "mean         2.010272\n",
              "std          0.984727\n",
              "min          0.000000\n",
              "25%          1.000000\n",
              "50%          2.000000\n",
              "75%          3.000000\n",
              "max         11.000000\n",
              "Name: rooms, dtype: float64"
            ]
          },
          "execution_count": 57,
          "metadata": {},
          "output_type": "execute_result"
        }
      ],
      "source": [
        "data['rooms'].describe()"
      ]
    },
    {
      "cell_type": "markdown",
      "metadata": {
        "id": "Cf5_MNzV1SeU"
      },
      "source": [
        "\n",
        "Выведем строки с 8 - 11 комнатами\n"
      ]
    },
    {
      "cell_type": "code",
      "execution_count": null,
      "metadata": {
        "scrolled": true,
        "id": "qCh54wvg1SeU",
        "outputId": "6a49b31b-db3f-4762-db5a-880d653fc16a"
      },
      "outputs": [
        {
          "name": "stdout",
          "output_type": "stream",
          "text": [
            "       total_images  last_price  total_area first_day_exposition  rooms  \\\n",
            "648               3  17500000.0       183.7           2018-07-01     11   \n",
            "813               7  16500000.0       229.0           2016-02-25      8   \n",
            "8758              5  16100000.0       150.0           2018-07-10      8   \n",
            "8860             12  17000000.0       235.0           2018-07-14      9   \n",
            "12447             8  19900000.0       210.3           2016-04-18      8   \n",
            "18119             4  15500000.0       216.1           2016-07-04     10   \n",
            "18945             4  15800000.0       236.4           2015-02-19      8   \n",
            "20788             7  18000000.0       245.0           2017-04-06      8   \n",
            "\n",
            "       ceiling_height  floors_total  living_area  floor  is_apartment  ...  \\\n",
            "648              3.40             7        138.8      7         False  ...   \n",
            "813              2.65             6        160.0      5         False  ...   \n",
            "8758             2.92             5        107.0      1         False  ...   \n",
            "8860             3.00             6        179.2      3         False  ...   \n",
            "12447            3.30             5        144.6      2         False  ...   \n",
            "18119            3.15             5        161.4      2         False  ...   \n",
            "18945            2.65             6        176.6      6         False  ...   \n",
            "20788            3.54             5        155.0      2         False  ...   \n",
            "\n",
            "       kitchen_area  balcony    locality_name  airports_nearest  \\\n",
            "648            13.3        0  санкт-петербург           23606.0   \n",
            "813            25.0        0  санкт-петербург           23968.0   \n",
            "8758            7.2        0  санкт-петербург           26080.0   \n",
            "8860            8.5        0  санкт-петербург           24466.0   \n",
            "12447          23.6        0  санкт-петербург           24770.0   \n",
            "18119          19.8        0  санкт-петербург           24353.0   \n",
            "18945          22.6        0  санкт-петербург           20221.0   \n",
            "20788           8.5        0  санкт-петербург           22215.0   \n",
            "\n",
            "      city_centers_nearest  parks_around  parks_nearest  ponds_around  \\\n",
            "648                 3148.0             0            NaN             0   \n",
            "813                 4536.0             1          243.0             0   \n",
            "8758                4782.0             2          473.0             0   \n",
            "8860                5034.0             1          346.0             0   \n",
            "12447               5864.0             2          283.0             0   \n",
            "18119               4921.0             1          368.0             0   \n",
            "18945               1802.0             3          571.0             3   \n",
            "20788               2424.0             1          867.0             1   \n",
            "\n",
            "       ponds_nearest  days_exposition  \n",
            "648              NaN              NaN  \n",
            "813              NaN            806.0  \n",
            "8758             NaN              NaN  \n",
            "8860             NaN             90.0  \n",
            "12447            NaN            102.0  \n",
            "18119            NaN             11.0  \n",
            "18945          441.0            921.0  \n",
            "20788          340.0            357.0  \n",
            "\n",
            "[8 rows x 22 columns]\n"
          ]
        }
      ],
      "source": [
        "print(data.loc[(data['rooms']>=8) & (data['rooms']<=11)])"
      ]
    },
    {
      "cell_type": "markdown",
      "metadata": {
        "id": "mBrXvjQq1SeV"
      },
      "source": [
        "\n",
        "Исходя из данных, аномалий в количестве комнат не наблюдается.\n"
      ]
    },
    {
      "cell_type": "markdown",
      "metadata": {
        "id": "6yFdCUqN1SeV"
      },
      "source": [
        "\n",
        "Рассмотрим аномалии в столбце floors_total\n"
      ]
    },
    {
      "cell_type": "code",
      "execution_count": null,
      "metadata": {
        "id": "kVKItXH01SeV",
        "outputId": "584597c4-921f-4cc9-8fd3-0a71cb2d9479"
      },
      "outputs": [
        {
          "data": {
            "image/png": "[encoded data removed]",
            "text/plain": [
              "<Figure size 432x288 with 1 Axes>"
            ]
          },
          "metadata": {
            "needs_background": "light"
          },
          "output_type": "display_data"
        }
      ],
      "source": [
        "data.boxplot(column='floors_total') # построим ящик с усами\n",
        "plt.show()"
      ]
    },
    {
      "cell_type": "markdown",
      "metadata": {
        "id": "RuCHvwJt1SeV"
      },
      "source": [
        "\n",
        "В Санкт-Петербурге нет жилого дома выше 37 этажей, согласно статистике. \n",
        "Выведем количество строк с данными значениями\n"
      ]
    },
    {
      "cell_type": "code",
      "execution_count": null,
      "metadata": {
        "scrolled": true,
        "id": "XYZbsJdV1SeV",
        "outputId": "5dd67b25-ee44-49c0-cc48-dfc7128bb3be"
      },
      "outputs": [
        {
          "name": "stdout",
          "output_type": "stream",
          "text": [
            "3\n"
          ]
        }
      ],
      "source": [
        "print(data.loc[data['floors_total']>=37, 'floors_total'].count())"
      ]
    },
    {
      "cell_type": "markdown",
      "metadata": {
        "id": "7-z4BZq21SeW"
      },
      "source": [
        "\n",
        "Всего 3, их можно исключить\n"
      ]
    },
    {
      "cell_type": "code",
      "execution_count": null,
      "metadata": {
        "id": "h09GcJrp1SeW"
      },
      "outputs": [],
      "source": [
        "data = data.loc[data['floors_total']<37]"
      ]
    },
    {
      "cell_type": "markdown",
      "metadata": {
        "id": "zTEoawIB1SeW"
      },
      "source": [
        "\n",
        "Проверим аномальные значения столбца floor\n",
        "Выведем строки, где floor > floors_total\n"
      ]
    },
    {
      "cell_type": "code",
      "execution_count": null,
      "metadata": {
        "id": "9pACGoGg1SeW",
        "outputId": "618f67a4-dabc-4c4e-ba57-395273390e56"
      },
      "outputs": [
        {
          "name": "stdout",
          "output_type": "stream",
          "text": [
            "[ 8  1  4 13  5  6 22 26  7  3  2 11 15  9 18 10 19 16 20 27 17 14 12 28\n",
            " 24 21 25 23 30 29 32 33 31]\n"
          ]
        }
      ],
      "source": [
        "print(data['floor'].unique())"
      ]
    },
    {
      "cell_type": "code",
      "execution_count": null,
      "metadata": {
        "id": "Lq1gVn7p1SeW",
        "outputId": "9c6de755-e598-400f-dd92-d7da68bfa51c"
      },
      "outputs": [
        {
          "name": "stdout",
          "output_type": "stream",
          "text": [
            "Empty DataFrame\n",
            "Columns: [total_images, last_price, total_area, first_day_exposition, rooms, ceiling_height, floors_total, living_area, floor, is_apartment, studio, open_plan, kitchen_area, balcony, locality_name, airports_nearest, city_centers_nearest, parks_around, parks_nearest, ponds_around, ponds_nearest, days_exposition]\n",
            "Index: []\n",
            "\n",
            "[0 rows x 22 columns]\n"
          ]
        }
      ],
      "source": [
        "print(data.loc[(data['floor'])>(data['floors_total'])])"
      ]
    },
    {
      "cell_type": "markdown",
      "metadata": {
        "id": "yyT6m-xr1SeW"
      },
      "source": [
        "Таких значений нет"
      ]
    },
    {
      "cell_type": "markdown",
      "metadata": {
        "id": "3EW3c-fy1SeX"
      },
      "source": [
        "#### Вывод:"
      ]
    },
    {
      "cell_type": "markdown",
      "metadata": {
        "id": "rtW4jZnY1SeX"
      },
      "source": [
        "Исходя из проведенный предобработки данных, можно сказать, что большая доля данных в выборке была утеряна при выгрузке, либо отсутствовала изначально. Наибольшее количество пропусков в тех столбцах, где заполнение информации происходило картографически. Необходимо сообщить ответственным сотрудникам по выгрузке и сбору данных. \n",
        "<br> Проведена оценка неявных и явных дубликатов. Явных дубликатов в таблице не оказалось. Неявные были связаны исключительно с столбцом, в котором были указаны названия населенных пунктов. Где необходимо - произведена замена значений.</br>\n",
        "<br> Оценены аномальные значения в столбцах, проведено соответствующее изменение. </br>\n"
      ]
    },
    {
      "cell_type": "markdown",
      "metadata": {
        "id": "XqUTBh6U1SeX"
      },
      "source": [
        "### Добавьте в таблицу новые столбцы "
      ]
    },
    {
      "cell_type": "markdown",
      "metadata": {
        "id": "9aGZJILS1SeX"
      },
      "source": [
        "#### Добавление в таблицу цены квадратного метра"
      ]
    },
    {
      "cell_type": "code",
      "execution_count": null,
      "metadata": {
        "id": "SjWYhr7T1SeX",
        "outputId": "58a85d35-80b7-4beb-af62-5feb8831c8fd"
      },
      "outputs": [
        {
          "data": {
            "text/plain": [
              "0    120370.370370\n",
              "1     82920.792079\n",
              "2     92785.714286\n",
              "4    100000.000000\n",
              "5     95065.789474\n",
              "Name: price_per_meter, dtype: float64"
            ]
          },
          "execution_count": 64,
          "metadata": {},
          "output_type": "execute_result"
        }
      ],
      "source": [
        "data['price_per_meter'] = data['last_price']/data['total_area'] # добавим столбец цена за кв.м.\n",
        "data['price_per_meter'].head(5) # выведем на экран 5 значений"
      ]
    },
    {
      "cell_type": "code",
      "execution_count": null,
      "metadata": {
        "id": "AaomtvWB1SeX",
        "outputId": "5a39aebe-8415-4563-9393-e511f3494bc3"
      },
      "outputs": [
        {
          "data": {
            "text/plain": [
              "94879.0"
            ]
          },
          "execution_count": 65,
          "metadata": {},
          "output_type": "execute_result"
        }
      ],
      "source": [
        "data['price_per_meter'].mean().round(0) # посчитаем среднее значение и округлим"
      ]
    },
    {
      "cell_type": "markdown",
      "metadata": {
        "id": "SDg_-RcZ1SeY"
      },
      "source": [
        "Средняя цена за квадратный метр жилья составляет приблизительно 100 тыс рублей"
      ]
    },
    {
      "cell_type": "markdown",
      "metadata": {
        "id": "y3MG1BVB1SeY"
      },
      "source": [
        "#### Добавление в таблицу дня недели, месяца и года публикации объявления"
      ]
    },
    {
      "cell_type": "code",
      "execution_count": null,
      "metadata": {
        "id": "wVWWeZHe1SeY"
      },
      "outputs": [],
      "source": [
        "data['day_of_exposition'] = data['first_day_exposition'].dt.weekday # добавление дня недели в столбец day_of exposition"
      ]
    },
    {
      "cell_type": "code",
      "execution_count": null,
      "metadata": {
        "id": "3jTIQT3w1SeY"
      },
      "outputs": [],
      "source": [
        "data['month_of_exposition'] = data['first_day_exposition'].dt.month # добавление месяца в столбец month_of_exposition"
      ]
    },
    {
      "cell_type": "code",
      "execution_count": null,
      "metadata": {
        "id": "g2koVjSP1SeY"
      },
      "outputs": [],
      "source": [
        "data['years_of_exposition']=data['first_day_exposition'].dt.year # добавление года в столбец years_of_exposition"
      ]
    },
    {
      "cell_type": "markdown",
      "metadata": {
        "id": "VpsZ7JkL1SeY"
      },
      "source": [
        "Проверим результат"
      ]
    },
    {
      "cell_type": "code",
      "execution_count": null,
      "metadata": {
        "id": "JT7T5Z0S1SeY",
        "outputId": "bf4cbee7-81d7-4d2d-f064-f4398b484c09"
      },
      "outputs": [
        {
          "data": {
            "text/html": [
              "<div>\n",
              "<style scoped>\n",
              "    .dataframe tbody tr th:only-of-type {\n",
              "        vertical-align: middle;\n",
              "    }\n",
              "\n",
              "    .dataframe tbody tr th {\n",
              "        vertical-align: top;\n",
              "    }\n",
              "\n",
              "    .dataframe thead th {\n",
              "        text-align: right;\n",
              "    }\n",
              "</style>\n",
              "<table border=\"1\" class=\"dataframe\">\n",
              "  <thead>\n",
              "    <tr style=\"text-align: right;\">\n",
              "      <th></th>\n",
              "      <th>total_images</th>\n",
              "      <th>last_price</th>\n",
              "      <th>total_area</th>\n",
              "      <th>first_day_exposition</th>\n",
              "      <th>rooms</th>\n",
              "      <th>ceiling_height</th>\n",
              "      <th>floors_total</th>\n",
              "      <th>living_area</th>\n",
              "      <th>floor</th>\n",
              "      <th>is_apartment</th>\n",
              "      <th>...</th>\n",
              "      <th>city_centers_nearest</th>\n",
              "      <th>parks_around</th>\n",
              "      <th>parks_nearest</th>\n",
              "      <th>ponds_around</th>\n",
              "      <th>ponds_nearest</th>\n",
              "      <th>days_exposition</th>\n",
              "      <th>price_per_meter</th>\n",
              "      <th>day_of_exposition</th>\n",
              "      <th>month_of_exposition</th>\n",
              "      <th>years_of_exposition</th>\n",
              "    </tr>\n",
              "  </thead>\n",
              "  <tbody>\n",
              "    <tr>\n",
              "      <th>0</th>\n",
              "      <td>20</td>\n",
              "      <td>13000000.0</td>\n",
              "      <td>108.0</td>\n",
              "      <td>2019-03-07</td>\n",
              "      <td>3</td>\n",
              "      <td>2.70</td>\n",
              "      <td>16</td>\n",
              "      <td>51.0</td>\n",
              "      <td>8</td>\n",
              "      <td>False</td>\n",
              "      <td>...</td>\n",
              "      <td>16028.0</td>\n",
              "      <td>1</td>\n",
              "      <td>482.0</td>\n",
              "      <td>2</td>\n",
              "      <td>755.0</td>\n",
              "      <td>NaN</td>\n",
              "      <td>120370.370370</td>\n",
              "      <td>3</td>\n",
              "      <td>3</td>\n",
              "      <td>2019</td>\n",
              "    </tr>\n",
              "    <tr>\n",
              "      <th>1</th>\n",
              "      <td>7</td>\n",
              "      <td>3350000.0</td>\n",
              "      <td>40.4</td>\n",
              "      <td>2018-12-04</td>\n",
              "      <td>1</td>\n",
              "      <td>2.65</td>\n",
              "      <td>11</td>\n",
              "      <td>18.6</td>\n",
              "      <td>1</td>\n",
              "      <td>False</td>\n",
              "      <td>...</td>\n",
              "      <td>18603.0</td>\n",
              "      <td>0</td>\n",
              "      <td>NaN</td>\n",
              "      <td>0</td>\n",
              "      <td>NaN</td>\n",
              "      <td>81.0</td>\n",
              "      <td>82920.792079</td>\n",
              "      <td>1</td>\n",
              "      <td>12</td>\n",
              "      <td>2018</td>\n",
              "    </tr>\n",
              "    <tr>\n",
              "      <th>2</th>\n",
              "      <td>10</td>\n",
              "      <td>5196000.0</td>\n",
              "      <td>56.0</td>\n",
              "      <td>2015-08-20</td>\n",
              "      <td>2</td>\n",
              "      <td>2.65</td>\n",
              "      <td>5</td>\n",
              "      <td>34.3</td>\n",
              "      <td>4</td>\n",
              "      <td>False</td>\n",
              "      <td>...</td>\n",
              "      <td>13933.0</td>\n",
              "      <td>1</td>\n",
              "      <td>90.0</td>\n",
              "      <td>2</td>\n",
              "      <td>574.0</td>\n",
              "      <td>558.0</td>\n",
              "      <td>92785.714286</td>\n",
              "      <td>3</td>\n",
              "      <td>8</td>\n",
              "      <td>2015</td>\n",
              "    </tr>\n",
              "    <tr>\n",
              "      <th>4</th>\n",
              "      <td>2</td>\n",
              "      <td>10000000.0</td>\n",
              "      <td>100.0</td>\n",
              "      <td>2018-06-19</td>\n",
              "      <td>2</td>\n",
              "      <td>3.03</td>\n",
              "      <td>14</td>\n",
              "      <td>32.0</td>\n",
              "      <td>13</td>\n",
              "      <td>False</td>\n",
              "      <td>...</td>\n",
              "      <td>8098.0</td>\n",
              "      <td>2</td>\n",
              "      <td>112.0</td>\n",
              "      <td>1</td>\n",
              "      <td>48.0</td>\n",
              "      <td>121.0</td>\n",
              "      <td>100000.000000</td>\n",
              "      <td>1</td>\n",
              "      <td>6</td>\n",
              "      <td>2018</td>\n",
              "    </tr>\n",
              "    <tr>\n",
              "      <th>5</th>\n",
              "      <td>10</td>\n",
              "      <td>2890000.0</td>\n",
              "      <td>30.4</td>\n",
              "      <td>2018-09-10</td>\n",
              "      <td>1</td>\n",
              "      <td>2.65</td>\n",
              "      <td>12</td>\n",
              "      <td>14.4</td>\n",
              "      <td>5</td>\n",
              "      <td>False</td>\n",
              "      <td>...</td>\n",
              "      <td>NaN</td>\n",
              "      <td>&lt;NA&gt;</td>\n",
              "      <td>NaN</td>\n",
              "      <td>&lt;NA&gt;</td>\n",
              "      <td>NaN</td>\n",
              "      <td>55.0</td>\n",
              "      <td>95065.789474</td>\n",
              "      <td>0</td>\n",
              "      <td>9</td>\n",
              "      <td>2018</td>\n",
              "    </tr>\n",
              "  </tbody>\n",
              "</table>\n",
              "<p>5 rows × 26 columns</p>\n",
              "</div>"
            ],
            "text/plain": [
              "   total_images  last_price  total_area first_day_exposition  rooms  \\\n",
              "0            20  13000000.0       108.0           2019-03-07      3   \n",
              "1             7   3350000.0        40.4           2018-12-04      1   \n",
              "2            10   5196000.0        56.0           2015-08-20      2   \n",
              "4             2  10000000.0       100.0           2018-06-19      2   \n",
              "5            10   2890000.0        30.4           2018-09-10      1   \n",
              "\n",
              "   ceiling_height  floors_total  living_area  floor  is_apartment  ...  \\\n",
              "0            2.70            16         51.0      8         False  ...   \n",
              "1            2.65            11         18.6      1         False  ...   \n",
              "2            2.65             5         34.3      4         False  ...   \n",
              "4            3.03            14         32.0     13         False  ...   \n",
              "5            2.65            12         14.4      5         False  ...   \n",
              "\n",
              "   city_centers_nearest  parks_around  parks_nearest  ponds_around  \\\n",
              "0               16028.0             1          482.0             2   \n",
              "1               18603.0             0            NaN             0   \n",
              "2               13933.0             1           90.0             2   \n",
              "4                8098.0             2          112.0             1   \n",
              "5                   NaN          <NA>            NaN          <NA>   \n",
              "\n",
              "  ponds_nearest  days_exposition  price_per_meter  day_of_exposition  \\\n",
              "0         755.0              NaN    120370.370370                  3   \n",
              "1           NaN             81.0     82920.792079                  1   \n",
              "2         574.0            558.0     92785.714286                  3   \n",
              "4          48.0            121.0    100000.000000                  1   \n",
              "5           NaN             55.0     95065.789474                  0   \n",
              "\n",
              "   month_of_exposition  years_of_exposition  \n",
              "0                    3                 2019  \n",
              "1                   12                 2018  \n",
              "2                    8                 2015  \n",
              "4                    6                 2018  \n",
              "5                    9                 2018  \n",
              "\n",
              "[5 rows x 26 columns]"
            ]
          },
          "execution_count": 69,
          "metadata": {},
          "output_type": "execute_result"
        }
      ],
      "source": [
        "data.head(5)"
      ]
    },
    {
      "cell_type": "markdown",
      "metadata": {
        "id": "vYashNX11SeY"
      },
      "source": [
        "Новые столбцы успешно добавлены. Формат соблюден"
      ]
    },
    {
      "cell_type": "markdown",
      "metadata": {
        "id": "49RBlgLh1SeY"
      },
      "source": [
        "#### Добавление типа этажа квартиры"
      ]
    },
    {
      "cell_type": "markdown",
      "metadata": {
        "id": "sxfT_ONq1SeZ"
      },
      "source": [
        "Необходимо добавить  типы этажей квартир (первый, последний, другой)"
      ]
    },
    {
      "cell_type": "code",
      "execution_count": null,
      "metadata": {
        "id": "SP4JK0s81SeZ"
      },
      "outputs": [],
      "source": [
        "data.loc[data['floor'] == 1, 'types_floors'] = 'Первый' # добавим значения в новый столбец types_floors по условиям\n",
        "data.loc[data['floor'] == data['floors_total'], 'types_floors'] = 'Последний'\n",
        "data.loc[(data['floor'] != 1) & (data['floor'] != data['floors_total']), 'types_floors'] = 'Другой'"
      ]
    },
    {
      "cell_type": "markdown",
      "metadata": {
        "id": "7qq9M21Q1SeZ"
      },
      "source": [
        "Выведем на экран получившийся датафрейм"
      ]
    },
    {
      "cell_type": "code",
      "execution_count": null,
      "metadata": {
        "id": "OntQN15W1SeZ",
        "outputId": "7a739fa3-4ed1-4b78-f4e3-0d3dae2d4a9b"
      },
      "outputs": [
        {
          "data": {
            "text/html": [
              "<div>\n",
              "<style scoped>\n",
              "    .dataframe tbody tr th:only-of-type {\n",
              "        vertical-align: middle;\n",
              "    }\n",
              "\n",
              "    .dataframe tbody tr th {\n",
              "        vertical-align: top;\n",
              "    }\n",
              "\n",
              "    .dataframe thead th {\n",
              "        text-align: right;\n",
              "    }\n",
              "</style>\n",
              "<table border=\"1\" class=\"dataframe\">\n",
              "  <thead>\n",
              "    <tr style=\"text-align: right;\">\n",
              "      <th></th>\n",
              "      <th>total_images</th>\n",
              "      <th>last_price</th>\n",
              "      <th>total_area</th>\n",
              "      <th>first_day_exposition</th>\n",
              "      <th>rooms</th>\n",
              "      <th>ceiling_height</th>\n",
              "      <th>floors_total</th>\n",
              "      <th>living_area</th>\n",
              "      <th>floor</th>\n",
              "      <th>is_apartment</th>\n",
              "      <th>...</th>\n",
              "      <th>parks_around</th>\n",
              "      <th>parks_nearest</th>\n",
              "      <th>ponds_around</th>\n",
              "      <th>ponds_nearest</th>\n",
              "      <th>days_exposition</th>\n",
              "      <th>price_per_meter</th>\n",
              "      <th>day_of_exposition</th>\n",
              "      <th>month_of_exposition</th>\n",
              "      <th>years_of_exposition</th>\n",
              "      <th>types_floors</th>\n",
              "    </tr>\n",
              "  </thead>\n",
              "  <tbody>\n",
              "    <tr>\n",
              "      <th>0</th>\n",
              "      <td>20</td>\n",
              "      <td>13000000.0</td>\n",
              "      <td>108.00</td>\n",
              "      <td>2019-03-07</td>\n",
              "      <td>3</td>\n",
              "      <td>2.70</td>\n",
              "      <td>16</td>\n",
              "      <td>51.00</td>\n",
              "      <td>8</td>\n",
              "      <td>False</td>\n",
              "      <td>...</td>\n",
              "      <td>1</td>\n",
              "      <td>482.0</td>\n",
              "      <td>2</td>\n",
              "      <td>755.0</td>\n",
              "      <td>NaN</td>\n",
              "      <td>120370.370370</td>\n",
              "      <td>3</td>\n",
              "      <td>3</td>\n",
              "      <td>2019</td>\n",
              "      <td>Другой</td>\n",
              "    </tr>\n",
              "    <tr>\n",
              "      <th>1</th>\n",
              "      <td>7</td>\n",
              "      <td>3350000.0</td>\n",
              "      <td>40.40</td>\n",
              "      <td>2018-12-04</td>\n",
              "      <td>1</td>\n",
              "      <td>2.65</td>\n",
              "      <td>11</td>\n",
              "      <td>18.60</td>\n",
              "      <td>1</td>\n",
              "      <td>False</td>\n",
              "      <td>...</td>\n",
              "      <td>0</td>\n",
              "      <td>NaN</td>\n",
              "      <td>0</td>\n",
              "      <td>NaN</td>\n",
              "      <td>81.0</td>\n",
              "      <td>82920.792079</td>\n",
              "      <td>1</td>\n",
              "      <td>12</td>\n",
              "      <td>2018</td>\n",
              "      <td>Первый</td>\n",
              "    </tr>\n",
              "    <tr>\n",
              "      <th>2</th>\n",
              "      <td>10</td>\n",
              "      <td>5196000.0</td>\n",
              "      <td>56.00</td>\n",
              "      <td>2015-08-20</td>\n",
              "      <td>2</td>\n",
              "      <td>2.65</td>\n",
              "      <td>5</td>\n",
              "      <td>34.30</td>\n",
              "      <td>4</td>\n",
              "      <td>False</td>\n",
              "      <td>...</td>\n",
              "      <td>1</td>\n",
              "      <td>90.0</td>\n",
              "      <td>2</td>\n",
              "      <td>574.0</td>\n",
              "      <td>558.0</td>\n",
              "      <td>92785.714286</td>\n",
              "      <td>3</td>\n",
              "      <td>8</td>\n",
              "      <td>2015</td>\n",
              "      <td>Другой</td>\n",
              "    </tr>\n",
              "    <tr>\n",
              "      <th>4</th>\n",
              "      <td>2</td>\n",
              "      <td>10000000.0</td>\n",
              "      <td>100.00</td>\n",
              "      <td>2018-06-19</td>\n",
              "      <td>2</td>\n",
              "      <td>3.03</td>\n",
              "      <td>14</td>\n",
              "      <td>32.00</td>\n",
              "      <td>13</td>\n",
              "      <td>False</td>\n",
              "      <td>...</td>\n",
              "      <td>2</td>\n",
              "      <td>112.0</td>\n",
              "      <td>1</td>\n",
              "      <td>48.0</td>\n",
              "      <td>121.0</td>\n",
              "      <td>100000.000000</td>\n",
              "      <td>1</td>\n",
              "      <td>6</td>\n",
              "      <td>2018</td>\n",
              "      <td>Другой</td>\n",
              "    </tr>\n",
              "    <tr>\n",
              "      <th>5</th>\n",
              "      <td>10</td>\n",
              "      <td>2890000.0</td>\n",
              "      <td>30.40</td>\n",
              "      <td>2018-09-10</td>\n",
              "      <td>1</td>\n",
              "      <td>2.65</td>\n",
              "      <td>12</td>\n",
              "      <td>14.40</td>\n",
              "      <td>5</td>\n",
              "      <td>False</td>\n",
              "      <td>...</td>\n",
              "      <td>&lt;NA&gt;</td>\n",
              "      <td>NaN</td>\n",
              "      <td>&lt;NA&gt;</td>\n",
              "      <td>NaN</td>\n",
              "      <td>55.0</td>\n",
              "      <td>95065.789474</td>\n",
              "      <td>0</td>\n",
              "      <td>9</td>\n",
              "      <td>2018</td>\n",
              "      <td>Другой</td>\n",
              "    </tr>\n",
              "    <tr>\n",
              "      <th>6</th>\n",
              "      <td>6</td>\n",
              "      <td>3700000.0</td>\n",
              "      <td>37.30</td>\n",
              "      <td>2017-11-02</td>\n",
              "      <td>1</td>\n",
              "      <td>2.65</td>\n",
              "      <td>26</td>\n",
              "      <td>10.60</td>\n",
              "      <td>6</td>\n",
              "      <td>False</td>\n",
              "      <td>...</td>\n",
              "      <td>0</td>\n",
              "      <td>NaN</td>\n",
              "      <td>0</td>\n",
              "      <td>NaN</td>\n",
              "      <td>155.0</td>\n",
              "      <td>99195.710456</td>\n",
              "      <td>3</td>\n",
              "      <td>11</td>\n",
              "      <td>2017</td>\n",
              "      <td>Другой</td>\n",
              "    </tr>\n",
              "    <tr>\n",
              "      <th>7</th>\n",
              "      <td>5</td>\n",
              "      <td>7915000.0</td>\n",
              "      <td>71.60</td>\n",
              "      <td>2019-04-18</td>\n",
              "      <td>2</td>\n",
              "      <td>2.65</td>\n",
              "      <td>24</td>\n",
              "      <td>30.50</td>\n",
              "      <td>22</td>\n",
              "      <td>False</td>\n",
              "      <td>...</td>\n",
              "      <td>0</td>\n",
              "      <td>NaN</td>\n",
              "      <td>0</td>\n",
              "      <td>NaN</td>\n",
              "      <td>NaN</td>\n",
              "      <td>110544.692737</td>\n",
              "      <td>3</td>\n",
              "      <td>4</td>\n",
              "      <td>2019</td>\n",
              "      <td>Другой</td>\n",
              "    </tr>\n",
              "    <tr>\n",
              "      <th>8</th>\n",
              "      <td>20</td>\n",
              "      <td>2900000.0</td>\n",
              "      <td>33.16</td>\n",
              "      <td>2018-05-23</td>\n",
              "      <td>1</td>\n",
              "      <td>2.65</td>\n",
              "      <td>27</td>\n",
              "      <td>15.43</td>\n",
              "      <td>26</td>\n",
              "      <td>False</td>\n",
              "      <td>...</td>\n",
              "      <td>&lt;NA&gt;</td>\n",
              "      <td>NaN</td>\n",
              "      <td>&lt;NA&gt;</td>\n",
              "      <td>NaN</td>\n",
              "      <td>189.0</td>\n",
              "      <td>87454.764777</td>\n",
              "      <td>2</td>\n",
              "      <td>5</td>\n",
              "      <td>2018</td>\n",
              "      <td>Другой</td>\n",
              "    </tr>\n",
              "    <tr>\n",
              "      <th>9</th>\n",
              "      <td>18</td>\n",
              "      <td>5400000.0</td>\n",
              "      <td>61.00</td>\n",
              "      <td>2017-02-26</td>\n",
              "      <td>3</td>\n",
              "      <td>2.50</td>\n",
              "      <td>9</td>\n",
              "      <td>43.60</td>\n",
              "      <td>7</td>\n",
              "      <td>False</td>\n",
              "      <td>...</td>\n",
              "      <td>0</td>\n",
              "      <td>NaN</td>\n",
              "      <td>0</td>\n",
              "      <td>NaN</td>\n",
              "      <td>289.0</td>\n",
              "      <td>88524.590164</td>\n",
              "      <td>6</td>\n",
              "      <td>2</td>\n",
              "      <td>2017</td>\n",
              "      <td>Другой</td>\n",
              "    </tr>\n",
              "    <tr>\n",
              "      <th>10</th>\n",
              "      <td>5</td>\n",
              "      <td>5050000.0</td>\n",
              "      <td>39.60</td>\n",
              "      <td>2017-11-16</td>\n",
              "      <td>1</td>\n",
              "      <td>2.67</td>\n",
              "      <td>12</td>\n",
              "      <td>20.30</td>\n",
              "      <td>3</td>\n",
              "      <td>False</td>\n",
              "      <td>...</td>\n",
              "      <td>1</td>\n",
              "      <td>310.0</td>\n",
              "      <td>2</td>\n",
              "      <td>553.0</td>\n",
              "      <td>137.0</td>\n",
              "      <td>127525.252525</td>\n",
              "      <td>3</td>\n",
              "      <td>11</td>\n",
              "      <td>2017</td>\n",
              "      <td>Другой</td>\n",
              "    </tr>\n",
              "  </tbody>\n",
              "</table>\n",
              "<p>10 rows × 27 columns</p>\n",
              "</div>"
            ],
            "text/plain": [
              "    total_images  last_price  total_area first_day_exposition  rooms  \\\n",
              "0             20  13000000.0      108.00           2019-03-07      3   \n",
              "1              7   3350000.0       40.40           2018-12-04      1   \n",
              "2             10   5196000.0       56.00           2015-08-20      2   \n",
              "4              2  10000000.0      100.00           2018-06-19      2   \n",
              "5             10   2890000.0       30.40           2018-09-10      1   \n",
              "6              6   3700000.0       37.30           2017-11-02      1   \n",
              "7              5   7915000.0       71.60           2019-04-18      2   \n",
              "8             20   2900000.0       33.16           2018-05-23      1   \n",
              "9             18   5400000.0       61.00           2017-02-26      3   \n",
              "10             5   5050000.0       39.60           2017-11-16      1   \n",
              "\n",
              "    ceiling_height  floors_total  living_area  floor  is_apartment  ...  \\\n",
              "0             2.70            16        51.00      8         False  ...   \n",
              "1             2.65            11        18.60      1         False  ...   \n",
              "2             2.65             5        34.30      4         False  ...   \n",
              "4             3.03            14        32.00     13         False  ...   \n",
              "5             2.65            12        14.40      5         False  ...   \n",
              "6             2.65            26        10.60      6         False  ...   \n",
              "7             2.65            24        30.50     22         False  ...   \n",
              "8             2.65            27        15.43     26         False  ...   \n",
              "9             2.50             9        43.60      7         False  ...   \n",
              "10            2.67            12        20.30      3         False  ...   \n",
              "\n",
              "    parks_around  parks_nearest  ponds_around  ponds_nearest days_exposition  \\\n",
              "0              1          482.0             2          755.0             NaN   \n",
              "1              0            NaN             0            NaN            81.0   \n",
              "2              1           90.0             2          574.0           558.0   \n",
              "4              2          112.0             1           48.0           121.0   \n",
              "5           <NA>            NaN          <NA>            NaN            55.0   \n",
              "6              0            NaN             0            NaN           155.0   \n",
              "7              0            NaN             0            NaN             NaN   \n",
              "8           <NA>            NaN          <NA>            NaN           189.0   \n",
              "9              0            NaN             0            NaN           289.0   \n",
              "10             1          310.0             2          553.0           137.0   \n",
              "\n",
              "    price_per_meter  day_of_exposition  month_of_exposition  \\\n",
              "0     120370.370370                  3                    3   \n",
              "1      82920.792079                  1                   12   \n",
              "2      92785.714286                  3                    8   \n",
              "4     100000.000000                  1                    6   \n",
              "5      95065.789474                  0                    9   \n",
              "6      99195.710456                  3                   11   \n",
              "7     110544.692737                  3                    4   \n",
              "8      87454.764777                  2                    5   \n",
              "9      88524.590164                  6                    2   \n",
              "10    127525.252525                  3                   11   \n",
              "\n",
              "    years_of_exposition  types_floors  \n",
              "0                  2019        Другой  \n",
              "1                  2018        Первый  \n",
              "2                  2015        Другой  \n",
              "4                  2018        Другой  \n",
              "5                  2018        Другой  \n",
              "6                  2017        Другой  \n",
              "7                  2019        Другой  \n",
              "8                  2018        Другой  \n",
              "9                  2017        Другой  \n",
              "10                 2017        Другой  \n",
              "\n",
              "[10 rows x 27 columns]"
            ]
          },
          "execution_count": 72,
          "metadata": {},
          "output_type": "execute_result"
        }
      ],
      "source": [
        "data.head(10)"
      ]
    },
    {
      "cell_type": "code",
      "execution_count": null,
      "metadata": {
        "id": "OxHRPPqw1Sea",
        "outputId": "56610236-f5b0-4d28-dbad-0df2cafa7bae"
      },
      "outputs": [
        {
          "data": {
            "text/plain": [
              "Другой       16832\n",
              "Последний     3211\n",
              "Первый        2845\n",
              "Name: types_floors, dtype: int64"
            ]
          },
          "execution_count": 73,
          "metadata": {},
          "output_type": "execute_result"
        }
      ],
      "source": [
        "data['types_floors'].value_counts()"
      ]
    },
    {
      "cell_type": "markdown",
      "metadata": {
        "id": "zUNl4wO_1Sea"
      },
      "source": [
        "Наиболее популярными предложениями являются квартиры на любых других этажах, кроме первого или последнего"
      ]
    },
    {
      "cell_type": "markdown",
      "metadata": {
        "id": "6CMCjepL1Sea"
      },
      "source": [
        "#### Добавление столбца с расчетом расстояния от центра города в км"
      ]
    },
    {
      "cell_type": "code",
      "execution_count": null,
      "metadata": {
        "id": "wKvo1qVP1Sea",
        "outputId": "0dd26961-b426-4f77-cee0-c1ceedf0ee8d"
      },
      "outputs": [
        {
          "data": {
            "text/html": [
              "<div>\n",
              "<style scoped>\n",
              "    .dataframe tbody tr th:only-of-type {\n",
              "        vertical-align: middle;\n",
              "    }\n",
              "\n",
              "    .dataframe tbody tr th {\n",
              "        vertical-align: top;\n",
              "    }\n",
              "\n",
              "    .dataframe thead th {\n",
              "        text-align: right;\n",
              "    }\n",
              "</style>\n",
              "<table border=\"1\" class=\"dataframe\">\n",
              "  <thead>\n",
              "    <tr style=\"text-align: right;\">\n",
              "      <th></th>\n",
              "      <th>city_centers_nearest_km</th>\n",
              "      <th>city_centers_nearest</th>\n",
              "    </tr>\n",
              "  </thead>\n",
              "  <tbody>\n",
              "    <tr>\n",
              "      <th>0</th>\n",
              "      <td>16.0</td>\n",
              "      <td>16028.0</td>\n",
              "    </tr>\n",
              "    <tr>\n",
              "      <th>1</th>\n",
              "      <td>19.0</td>\n",
              "      <td>18603.0</td>\n",
              "    </tr>\n",
              "    <tr>\n",
              "      <th>2</th>\n",
              "      <td>14.0</td>\n",
              "      <td>13933.0</td>\n",
              "    </tr>\n",
              "    <tr>\n",
              "      <th>4</th>\n",
              "      <td>8.0</td>\n",
              "      <td>8098.0</td>\n",
              "    </tr>\n",
              "    <tr>\n",
              "      <th>5</th>\n",
              "      <td>NaN</td>\n",
              "      <td>NaN</td>\n",
              "    </tr>\n",
              "  </tbody>\n",
              "</table>\n",
              "</div>"
            ],
            "text/plain": [
              "   city_centers_nearest_km  city_centers_nearest\n",
              "0                     16.0               16028.0\n",
              "1                     19.0               18603.0\n",
              "2                     14.0               13933.0\n",
              "4                      8.0                8098.0\n",
              "5                      NaN                   NaN"
            ]
          },
          "execution_count": 74,
          "metadata": {},
          "output_type": "execute_result"
        }
      ],
      "source": [
        "data['city_centers_nearest_km'] = (data['city_centers_nearest']/1000).round(0) # добавляем новый столбец и считаем расстояние\n",
        "data['city_centers_nearest'].astype('Int64') # переводим новый столбец в тип целочисленный\n",
        "data[['city_centers_nearest_km', 'city_centers_nearest']].head(5) # выводим 5  значений на экран"
      ]
    },
    {
      "cell_type": "markdown",
      "metadata": {
        "id": "WNnJEeFU1Sea"
      },
      "source": [
        "В новом столбце округлили значения расстояния в бОльшую сторону.\n",
        "<br> Оценим количество предложений по расстоянию от центра </br>"
      ]
    },
    {
      "cell_type": "code",
      "execution_count": null,
      "metadata": {
        "id": "A_skx0uc1Sea",
        "outputId": "cca15491-54a6-4b3a-d1bd-6658bd434ee0"
      },
      "outputs": [
        {
          "data": {
            "text/plain": [
              "12.0    1589\n",
              "15.0    1547\n",
              "13.0    1439\n",
              "14.0    1272\n",
              "16.0    1259\n",
              "11.0    1156\n",
              "17.0     901\n",
              "5.0      781\n",
              "10.0     703\n",
              "4.0      623\n",
              "Name: city_centers_nearest_km, dtype: int64"
            ]
          },
          "execution_count": 75,
          "metadata": {},
          "output_type": "execute_result"
        }
      ],
      "source": [
        "data['city_centers_nearest_km'].value_counts().head(10)"
      ]
    },
    {
      "cell_type": "markdown",
      "metadata": {
        "id": "3pIBWU__1Sea"
      },
      "source": [
        "Больше всего предложений от локаций в пределах 11 - 16 километров"
      ]
    },
    {
      "cell_type": "markdown",
      "metadata": {
        "id": "e94EtXiz1Sea"
      },
      "source": [
        "#### Вывод:"
      ]
    },
    {
      "cell_type": "markdown",
      "metadata": {
        "id": "yuslfJyf1Seb"
      },
      "source": [
        "Исходя из значений в добавленных столбцах и проведенного анализа, можно сделать вывод, что набольшее количество предложений на любом другом отличном от первого и последнего этажа дома.\n",
        "<br> Предложения, в основном, в отдаленных от центра районах (вероятно, спальных районах).  На расстоянии от 11 до 16 км. </br>\n",
        "<br> Средняя цена за кв.м. по информации из нового столбца составляет в районе 100 000 рублей </br>\n",
        "<br> Для определения общего вывода исследования, необходима дополнительная аналитика </br>"
      ]
    },
    {
      "cell_type": "markdown",
      "metadata": {
        "id": "c4YSflrE1Seb"
      },
      "source": [
        "### Исследовательский анализ данных"
      ]
    },
    {
      "cell_type": "markdown",
      "metadata": {
        "id": "zJv4jYgS1Seb"
      },
      "source": [
        "Изучим следующие показатели: общая площадь, жилая площадь, площадь кухни, цена объекта, количество комнат, высота потолков, этаж квартиры, тип этажа квартиры («первый», «последний», «другой»), общее количество этажей в доме, расстояние до центра города в метрах, расстояние до ближайшего аэропорта, расстояние до ближайшего парка, день и месяц публикации объявления."
      ]
    },
    {
      "cell_type": "markdown",
      "metadata": {
        "id": "JvNofcZh1Seb"
      },
      "source": [
        "#### Изучение параметров объектов"
      ]
    },
    {
      "cell_type": "markdown",
      "metadata": {
        "id": "iDgq9RTj1Seb"
      },
      "source": [
        "Посмотрим гистограмму для показателя \"общая площадь\""
      ]
    },
    {
      "cell_type": "code",
      "execution_count": null,
      "metadata": {
        "id": "Hec0yiNT1Sec",
        "outputId": "3655269e-e8fd-4258-f9be-db49211db936"
      },
      "outputs": [
        {
          "data": {
            "image/png": "[encoded data removed]",
            "text/plain": [
              "<Figure size 432x288 with 1 Axes>"
            ]
          },
          "metadata": {
            "needs_background": "light"
          },
          "output_type": "display_data"
        }
      ],
      "source": [
        "data['total_area'].hist()\n",
        "plt.show()"
      ]
    },
    {
      "cell_type": "markdown",
      "metadata": {
        "id": "CrxfZGRq1Sec"
      },
      "source": [
        "На гистограмме видно, что абсолютное большинство квартир в датафрейме имеют площадь не более 100 кв.м."
      ]
    },
    {
      "cell_type": "markdown",
      "metadata": {
        "id": "nD6qMiWD1Sec"
      },
      "source": [
        "Построим гистограмму для наглядного распределения площадей квартир до 100 кв.м. "
      ]
    },
    {
      "cell_type": "code",
      "execution_count": null,
      "metadata": {
        "id": "hXnA9PRv1Sec",
        "outputId": "5c6e30d5-7078-406f-f216-57f1cf45cf0f"
      },
      "outputs": [
        {
          "data": {
            "image/png": "[encoded data removed]",
            "text/plain": [
              "<Figure size 720x360 with 1 Axes>"
            ]
          },
          "metadata": {
            "needs_background": "light"
          },
          "output_type": "display_data"
        }
      ],
      "source": [
        "data_good = data.query('total_area < 100') # создадим новый датафрейм с значениями total_area меньше 100\n",
        "# построим гистограмму\n",
        "data_good.sort_values(by='total_area', ascending=True).plot(y='total_area', kind='hist', bins=100, grid=True, figsize=(10,5))\n",
        "plt.xlabel('Площадь квартиры в кв.метрах')\n",
        "plt.ylabel('Количество предложений')\n",
        "plt.show()"
      ]
    },
    {
      "cell_type": "markdown",
      "metadata": {
        "id": "zKw_wOOb1Sec"
      },
      "source": [
        "Исходя из гистограммы видно, что больше всего квартир с площадями ~30 кв.м., ~45 кв.м. и 60 кв.м."
      ]
    },
    {
      "cell_type": "markdown",
      "metadata": {
        "id": "G2kHU_2S1Sec"
      },
      "source": [
        "Посмотрим гистограмму для показателя \"жилая площадь\""
      ]
    },
    {
      "cell_type": "code",
      "execution_count": null,
      "metadata": {
        "id": "FYaZOKqy1Sec",
        "outputId": "c1ebad03-2a1d-4c81-989b-f81354fcd982"
      },
      "outputs": [
        {
          "data": {
            "image/png": "[encoded data removed]",
            "text/plain": [
              "<Figure size 432x288 with 1 Axes>"
            ]
          },
          "metadata": {
            "needs_background": "light"
          },
          "output_type": "display_data"
        }
      ],
      "source": [
        "data['living_area'].hist()\n",
        "plt.show()"
      ]
    },
    {
      "cell_type": "markdown",
      "metadata": {
        "id": "FDbMs2CG1Sec"
      },
      "source": [
        "Абсолютное большинство квартир имеют жилую площадь до ~40  кв.м. Где-то четверть квартир имеют площадь от 40 до 75 кв.м. \n",
        "<br> Построим гистограмму с распределением жилых площадей квартир до 80 кв.м. </br>"
      ]
    },
    {
      "cell_type": "code",
      "execution_count": null,
      "metadata": {
        "id": "WeRPvobW1Sed",
        "outputId": "fce7925f-252d-4ae3-aef7-f210d0d04ceb"
      },
      "outputs": [
        {
          "data": {
            "image/png": "[encoded data removed]",
            "text/plain": [
              "<Figure size 720x360 with 1 Axes>"
            ]
          },
          "metadata": {
            "needs_background": "light"
          },
          "output_type": "display_data"
        }
      ],
      "source": [
        "data_good = data.query('living_area < 80') # создадим новый датафрейм с значениями  меньше 80\n",
        "# построим гистограмму\n",
        "data_good.sort_values(by='living_area', ascending=True).plot(y='living_area', kind='hist', bins=100, grid=True, figsize=(10,5))\n",
        "plt.xlabel('Жилая площадь квартиры в кв.метрах')\n",
        "plt.ylabel('Количество предложений')\n",
        "plt.show()"
      ]
    },
    {
      "cell_type": "markdown",
      "metadata": {
        "id": "iiK254vW1Sed"
      },
      "source": [
        "Большинство предложений имеют жилую площадь квартир в райлне 18 кв.м и 30 кв.м"
      ]
    },
    {
      "cell_type": "markdown",
      "metadata": {
        "id": "SiFZrI0r1Sed"
      },
      "source": [
        "Построим гистограмму для показателя \"площадь кухни\""
      ]
    },
    {
      "cell_type": "code",
      "execution_count": null,
      "metadata": {
        "id": "yTm4S2ce1Sed",
        "outputId": "0deb7261-548f-4125-90be-b7fc8514b283"
      },
      "outputs": [
        {
          "data": {
            "image/png": "[encoded data removed]",
            "text/plain": [
              "<Figure size 432x288 with 1 Axes>"
            ]
          },
          "metadata": {
            "needs_background": "light"
          },
          "output_type": "display_data"
        }
      ],
      "source": [
        "data['kitchen_area'].hist()\n",
        "plt.show()"
      ]
    },
    {
      "cell_type": "markdown",
      "metadata": {
        "id": "TPru9rNq1Sed"
      },
      "source": [
        "Большинство квартир имеют площадь кухни до ~13 кв.м."
      ]
    },
    {
      "cell_type": "markdown",
      "metadata": {
        "id": "0A9vZoiC1Sed"
      },
      "source": [
        "Построим гистограмму для предложений до 15 кв.м."
      ]
    },
    {
      "cell_type": "code",
      "execution_count": null,
      "metadata": {
        "id": "wTHvragI1Sed",
        "outputId": "6685abe6-8bda-493e-a209-16a508a0d8d6"
      },
      "outputs": [
        {
          "data": {
            "image/png": "[encoded data removed]",
            "text/plain": [
              "<Figure size 720x360 with 1 Axes>"
            ]
          },
          "metadata": {
            "needs_background": "light"
          },
          "output_type": "display_data"
        }
      ],
      "source": [
        "data_good = data.query('kitchen_area < 15') # создадим новый датафрейм с значениями  меньше 15\n",
        "# построим гистограмму\n",
        "data_good.sort_values(by='kitchen_area', ascending=True).plot(y='kitchen_area', kind='hist', bins=100, grid=True, figsize=(10,5))\n",
        "plt.xlabel('Площадь кухни в кв.метрах')\n",
        "plt.ylabel('Количество предложений')\n",
        "plt.show()"
      ]
    },
    {
      "cell_type": "markdown",
      "metadata": {
        "id": "cBC64ShN1Sed"
      },
      "source": [
        "Исходя из гистограммы видно, что больше 2,5 тысяч предложений имеют площадь кухни 8,5 кв.м. \n",
        "<br> Далее, по 1250 предложений квартир с площадями 6 кв.м., 10 кв.м. </br>\n",
        "<br> В районе 1000 предложений квартир с площадями 7 кв.м, 9 кв.м. </br> и т.д."
      ]
    },
    {
      "cell_type": "markdown",
      "metadata": {
        "id": "j686Y7ds1See"
      },
      "source": [
        "Рассмотрим предложения в зависимости от цены объекта"
      ]
    },
    {
      "cell_type": "markdown",
      "metadata": {
        "id": "dGEWxwOQ1See"
      },
      "source": [
        "Построим диаграмму размаха"
      ]
    },
    {
      "cell_type": "code",
      "execution_count": null,
      "metadata": {
        "id": "ta7SkoyH1See",
        "outputId": "77626746-d203-4a94-8d8c-7f5f0118e514"
      },
      "outputs": [
        {
          "data": {
            "image/png": "[encoded data removed]",
            "text/plain": [
              "<Figure size 432x288 with 1 Axes>"
            ]
          },
          "metadata": {
            "needs_background": "light"
          },
          "output_type": "display_data"
        }
      ],
      "source": [
        "data.boxplot('last_price')\n",
        "plt.ylabel('Последняя цена')\n",
        "plt.show()"
      ]
    },
    {
      "cell_type": "markdown",
      "metadata": {
        "id": "rgD2SVS41See"
      },
      "source": [
        "Довольно большой разброс по цене между самым дешевым предложением и самым дорогим. \n",
        "<br> Выведем распределение цены у предложений до 10 млн </br> т.к. судя по диаграмме, большинство предложений по этой цене"
      ]
    },
    {
      "cell_type": "code",
      "execution_count": null,
      "metadata": {
        "id": "fNnmfKGi1See",
        "outputId": "20e45f64-3f8c-4a9a-df8e-59643a5c3278"
      },
      "outputs": [
        {
          "data": {
            "image/png": "[encoded data removed]",
            "text/plain": [
              "<Figure size 720x360 with 1 Axes>"
            ]
          },
          "metadata": {
            "needs_background": "light"
          },
          "output_type": "display_data"
        }
      ],
      "source": [
        "data_good = data.query('last_price < 10000000') # создадим новый датафрейм с значениями  меньше 10 млн\n",
        "# построим гистограмму\n",
        "data_good.sort_values(by='last_price', ascending=True).plot(y='last_price', kind='hist', bins=100, grid=True, figsize=(10,5))\n",
        "plt.xlabel('Цена')\n",
        "plt.ylabel('Количество предложений')\n",
        "plt.show()"
      ]
    },
    {
      "cell_type": "markdown",
      "metadata": {
        "id": "pBqlvYVp1See"
      },
      "source": [
        "Исходя из гистограммы, видно, что более 600 предложений по цене в районе 4 млн рублей. Это пиковое значение. Тренд у уменьшения и у увеличения от данной цены понижательный.\n",
        "<br> Далее в районе 540 предложений по ценам - от 3.5 млн до 3,7 млн, в районе 4,5 млн. руб </br>  "
      ]
    },
    {
      "cell_type": "markdown",
      "metadata": {
        "id": "iwlTWp1n1See"
      },
      "source": [
        "Далее, рассмотрим показатель \"количество комнат\""
      ]
    },
    {
      "cell_type": "code",
      "execution_count": null,
      "metadata": {
        "id": "dKz5wLUn1Sef",
        "outputId": "63dd8e45-d740-4c96-906a-4b808b1fe613"
      },
      "outputs": [
        {
          "data": {
            "image/png": "[encoded data removed]",
            "text/plain": [
              "<Figure size 360x648 with 1 Axes>"
            ]
          },
          "metadata": {
            "needs_background": "light"
          },
          "output_type": "display_data"
        }
      ],
      "source": [
        "good_data = data.query('rooms < 10') # рассмотрим предложения с менее 10 комнатами\n",
        "good_data.plot(kind='hist',y='rooms',grid=True, bins=50, figsize=(5,9))\n",
        "plt.xlabel('Количество комнат')\n",
        "plt.ylabel('Количество предложений')\n",
        "plt.show()"
      ]
    },
    {
      "cell_type": "markdown",
      "metadata": {
        "id": "5q52Z_Am1Sef"
      },
      "source": [
        "Из гистограммы видно, что большинство предложений однокомнатные и двухкомнатные квартиры. Далее, следуют 3х комнатные квартиры"
      ]
    },
    {
      "cell_type": "markdown",
      "metadata": {
        "id": "VAfQtbul1Sef"
      },
      "source": [
        "Рассмотрим высоту потолков \n",
        "<br> Построим диаграмму размаха </br>"
      ]
    },
    {
      "cell_type": "code",
      "execution_count": null,
      "metadata": {
        "id": "gOkhPReH1Sef",
        "outputId": "ab240a42-373a-4573-e6a8-85565d210184"
      },
      "outputs": [
        {
          "data": {
            "image/png": "[encoded data removed]",
            "text/plain": [
              "<Figure size 432x288 with 1 Axes>"
            ]
          },
          "metadata": {
            "needs_background": "light"
          },
          "output_type": "display_data"
        }
      ],
      "source": [
        "data.boxplot('ceiling_height')\n",
        "plt.ylabel('Высота потолков')\n",
        "plt.show()"
      ]
    },
    {
      "cell_type": "markdown",
      "metadata": {
        "id": "NS3pLYAd1Sef"
      },
      "source": [
        "По диаграмме видно, что основное количество предложений находится в диапазано от 2,5 до 3 метров\n",
        "<br> Построим гистограмму </br>"
      ]
    },
    {
      "cell_type": "code",
      "execution_count": null,
      "metadata": {
        "id": "Fg9eSJlu1Sef",
        "outputId": "24f7ef86-f8f5-4cdd-8157-1646a45b26a8"
      },
      "outputs": [
        {
          "data": {
            "image/png": "[encoded data removed]",
            "text/plain": [
              "<Figure size 720x360 with 1 Axes>"
            ]
          },
          "metadata": {
            "needs_background": "light"
          },
          "output_type": "display_data"
        }
      ],
      "source": [
        "good_data = data.query(('ceiling_height >  2.5 and ceiling_height < 3')) # рассмотрим предложения менее 3 метров и более 2,5 м\n",
        "good_data.plot(kind='hist',y='ceiling_height',grid=True, bins=50, figsize=(10,5))\n",
        "plt.xlabel('Высота потолков')\n",
        "plt.ylabel('Количество предложений')\n",
        "plt.show()"
      ]
    },
    {
      "cell_type": "markdown",
      "metadata": {
        "id": "moFxXRLK1Sef"
      },
      "source": [
        "Пиковое значение количества предложений (10000) у квартир с высотой потолков 2,65 метров. Это вызвано тем, что в исходном датафрейме в данном столбце было большое количество пропущенных значений, соответственно, они были заполнены медианой 2,65 метров. "
      ]
    },
    {
      "cell_type": "markdown",
      "metadata": {
        "id": "-xbpCJUu1Seg"
      },
      "source": [
        "Рассмотрим показатель этаж квартиры"
      ]
    },
    {
      "cell_type": "code",
      "execution_count": null,
      "metadata": {
        "id": "7M9_f1Jt1Seg",
        "outputId": "e6e72986-cede-49c5-f662-1faa7ea9ea9e"
      },
      "outputs": [
        {
          "data": {
            "image/png": "[encoded data removed]",
            "text/plain": [
              "<Figure size 432x288 with 1 Axes>"
            ]
          },
          "metadata": {
            "needs_background": "light"
          },
          "output_type": "display_data"
        }
      ],
      "source": [
        "data.boxplot('floor') # построим диаграмму размаха\n",
        "plt.ylabel('Этаж')\n",
        "plt.show()"
      ]
    },
    {
      "cell_type": "markdown",
      "metadata": {
        "id": "o-fgc6Gn1Seg"
      },
      "source": [
        "Видно, что в основном предложения со 2 по 17 этаж"
      ]
    },
    {
      "cell_type": "code",
      "execution_count": null,
      "metadata": {
        "id": "qJ-IzcnU1Seg",
        "outputId": "a9d2c3da-40c6-4c64-cc91-1c52e2eb9638"
      },
      "outputs": [
        {
          "data": {
            "image/png": "[encoded data removed]",
            "text/plain": [
              "<Figure size 720x360 with 1 Axes>"
            ]
          },
          "metadata": {
            "needs_background": "light"
          },
          "output_type": "display_data"
        }
      ],
      "source": [
        "good_data = data.query(('floor >  2 and floor < 17')) # рассмотрим предложения с 2 по 17 этаж\n",
        "good_data.plot(kind='hist',y='floor',grid=True, bins=50, figsize=(10,5))\n",
        "plt.xlabel('Этаж')\n",
        "plt.ylabel('Количество предложений')\n",
        "plt.show()"
      ]
    },
    {
      "cell_type": "markdown",
      "metadata": {
        "id": "310LULGk1Seg"
      },
      "source": [
        "Больше всего (в районе 3100) предложений квартир на 2 этаже. Далее идет 4 этаж с ~2800  предложениями. ~2200 предложений на 5 этаже. \n",
        "<br> Затем следует резкое падение количества предложений: ~1250 на 6 этаже и т.д.</br>\n",
        "<br> В целом, тренд понижательный </br>"
      ]
    },
    {
      "cell_type": "markdown",
      "metadata": {
        "id": "s4zZ6f3S1Seg"
      },
      "source": [
        "Рассмотрим показатель \"тип этажа квартиры\""
      ]
    },
    {
      "cell_type": "code",
      "execution_count": null,
      "metadata": {
        "id": "s3gLTT7f1Seg",
        "outputId": "c3f95780-c9c7-4c2b-edf8-9d0fa28012eb"
      },
      "outputs": [
        {
          "data": {
            "image/png": "[encoded data removed]",
            "text/plain": [
              "<Figure size 432x288 with 1 Axes>"
            ]
          },
          "metadata": {
            "needs_background": "light"
          },
          "output_type": "display_data"
        }
      ],
      "source": [
        "data['types_floors'].hist()\n",
        "plt.show()"
      ]
    },
    {
      "cell_type": "markdown",
      "metadata": {
        "id": "PDsmAwNP1Seh"
      },
      "source": [
        "Как уже было сказано ранее, абсолютное большинство квартир (в районе 17500) имеют другой, отличный от первого и последнего этажа в доме. \n",
        "<br> На первом и последнем этаже приблизительно одинаковое количество предложений (3361, 2892 соответственно)</br>"
      ]
    },
    {
      "cell_type": "markdown",
      "metadata": {
        "id": "6wEiWQmN1Seh"
      },
      "source": [
        "Рассмотрим общее количество этажей в доме"
      ]
    },
    {
      "cell_type": "code",
      "execution_count": null,
      "metadata": {
        "id": "vb3WRXqd1Seh",
        "outputId": "e1837081-6bae-4350-f160-23d0b64ab54c"
      },
      "outputs": [
        {
          "data": {
            "image/png": "[encoded data removed]",
            "text/plain": [
              "<Figure size 432x288 with 1 Axes>"
            ]
          },
          "metadata": {
            "needs_background": "light"
          },
          "output_type": "display_data"
        }
      ],
      "source": [
        "data.boxplot('floors_total') # построим диаграмму размаха\n",
        "plt.ylabel('Общее количество этажей в доме')\n",
        "plt.show()"
      ]
    },
    {
      "cell_type": "markdown",
      "metadata": {
        "id": "KgWBh3GC1Seh"
      },
      "source": [
        "Большинство предложений - дома, у которых с 1 по 29 этажей. Медиана - 9 этажей\n",
        "<br> Построим гистограмму </br>"
      ]
    },
    {
      "cell_type": "code",
      "execution_count": null,
      "metadata": {
        "id": "4av6-DAA1Seh",
        "outputId": "8faf5657-bc72-449f-f91f-d74a04f2391a"
      },
      "outputs": [
        {
          "data": {
            "image/png": "[encoded data removed]",
            "text/plain": [
              "<Figure size 720x360 with 1 Axes>"
            ]
          },
          "metadata": {
            "needs_background": "light"
          },
          "output_type": "display_data"
        }
      ],
      "source": [
        "good_data = data.query(('floors_total > 1 and floors_total < 29')) # рассмотрим предложения от 1 до 29\n",
        "good_data.plot(kind='hist',y='floors_total',grid=True, bins=50, figsize=(10,5))\n",
        "plt.xlabel('Всего этажей')\n",
        "plt.ylabel('Количество предложений')\n",
        "plt.show()"
      ]
    },
    {
      "cell_type": "markdown",
      "metadata": {
        "id": "aMGgh43R1Seh"
      },
      "source": [
        "Наибольшее количество предложений в 5 этажных домах. Приблизительно 5700 предложений. Далее, идут 9 этажные дома с ~3900 предложениями\n",
        "<br> ~1100 предложений в 10 этажных домах </br>\n",
        "<br> ~1200 предложений в 12 этажных домах и в 16 этажных домах </br>\n",
        "<br> ~1000 предложений в 25 этажных домах </br>"
      ]
    },
    {
      "cell_type": "markdown",
      "metadata": {
        "id": "XR_MuYV11Sei"
      },
      "source": [
        "Рассмотрим показатель расстояния до центра города в метрах"
      ]
    },
    {
      "cell_type": "code",
      "execution_count": null,
      "metadata": {
        "id": "ZOR5nfvX1Sei",
        "outputId": "2e1e3f06-beb5-4bb9-8d14-9335f1d2a4e0"
      },
      "outputs": [
        {
          "data": {
            "image/png": "[encoded data removed]",
            "text/plain": [
              "<Figure size 432x288 with 1 Axes>"
            ]
          },
          "metadata": {
            "needs_background": "light"
          },
          "output_type": "display_data"
        }
      ],
      "source": [
        "data.boxplot('city_centers_nearest') # построим диаграмму размаха\n",
        "plt.ylabel('Расстояние до центра города в метрах')\n",
        "plt.show()"
      ]
    },
    {
      "cell_type": "markdown",
      "metadata": {
        "id": "CIpV-5Lw1Sei"
      },
      "source": [
        "Большинство предложений  с расстоянием от 0 до ~28000 метров"
      ]
    },
    {
      "cell_type": "code",
      "execution_count": null,
      "metadata": {
        "id": "dNdtmY0y1Sei",
        "outputId": "2c525d49-8245-4b37-c9aa-f0a524f8fdc0"
      },
      "outputs": [
        {
          "data": {
            "image/png": "[encoded data removed]",
            "text/plain": [
              "<Figure size 720x360 with 1 Axes>"
            ]
          },
          "metadata": {
            "needs_background": "light"
          },
          "output_type": "display_data"
        }
      ],
      "source": [
        "good_data = data.query(('city_centers_nearest > 0 and city_centers_nearest < 28000')) # рассмотрим предложения от 0 до 28000\n",
        "good_data.plot(kind='hist',y='city_centers_nearest',grid=True, bins=50, figsize=(10,5))\n",
        "plt.xlabel('Расстояние до центра города в метрах')\n",
        "plt.ylabel('Количество предложений')\n",
        "plt.show()"
      ]
    },
    {
      "cell_type": "markdown",
      "metadata": {
        "id": "GHz7sCOw1Sei"
      },
      "source": [
        "В районе 1000 предложений с домами находящихся на расстоянии в 15 км от центра города\n",
        "<br> В районе 900 предложений с домами находящихся на расстоянии в 12 км от центра города </br>\n",
        "<br> В районе 810 предложений с домами находящихся на расстоянии в 13.5 км от центра города </br>\n",
        "<br> В районе 680 предложений с домами находящихся на расстоянии в 16 км от центра города </br>"
      ]
    },
    {
      "cell_type": "markdown",
      "metadata": {
        "id": "XhL8rW201Sei"
      },
      "source": [
        "Рассмотрим показатель расстояния до ближайшего аэропорта"
      ]
    },
    {
      "cell_type": "code",
      "execution_count": null,
      "metadata": {
        "id": "FkICQskO1Sei",
        "outputId": "41b99ce7-a81e-4886-d724-f0c5cbc9831e"
      },
      "outputs": [
        {
          "data": {
            "image/png": "[encoded data removed]",
            "text/plain": [
              "<Figure size 432x288 with 1 Axes>"
            ]
          },
          "metadata": {
            "needs_background": "light"
          },
          "output_type": "display_data"
        }
      ],
      "source": [
        "data.boxplot('airports_nearest') # построим диаграмму размаха\n",
        "plt.ylabel('Расстояние до аэропорта')\n",
        "plt.show()"
      ]
    },
    {
      "cell_type": "markdown",
      "metadata": {
        "id": "kW1FKsg31Sei"
      },
      "source": [
        "Большинство предложений в пределах от 0 до 62 км. (Можно предположить, что значение 0 означает, что нет данных о расстоянии до ближайшего аэропорта)\n",
        "<br> Таким образом, будем учитывать срез от 1 до 62 км при построении гистограммы"
      ]
    },
    {
      "cell_type": "code",
      "execution_count": null,
      "metadata": {
        "id": "5-ovlTwO1Sej",
        "outputId": "f118b8b5-8889-4c2f-ed25-1b568f419533"
      },
      "outputs": [
        {
          "data": {
            "image/png": "[encoded data removed]",
            "text/plain": [
              "<Figure size 720x360 with 1 Axes>"
            ]
          },
          "metadata": {
            "needs_background": "light"
          },
          "output_type": "display_data"
        }
      ],
      "source": [
        "good_data = data.query(('airports_nearest > 1 and airports_nearest < 62000')) # рассмотрим предложения от 1 до 62000\n",
        "good_data.plot(kind='hist',y='airports_nearest',grid=True, bins=50, figsize=(10,5))\n",
        "plt.xlabel('Расстояние до аэропорта')\n",
        "plt.ylabel('Количество предложений')\n",
        "plt.show()"
      ]
    },
    {
      "cell_type": "markdown",
      "metadata": {
        "id": "9naaK6zW1Sej"
      },
      "source": [
        "В районе 700 предложений на расстоянии в ~25 км от ближайшего аэропорта.\n",
        "<br>Далее, в районе 690 предложений на расстоянии в ~19 км от ближайшего аэропорта </br>\n",
        "<br> Далее,  в райне 650 предложений на расстоянии в ~13 км от ближайшего аэропорта </br>\n",
        "<br> В целом,  можно сделать вывод, что разброс данных более-менее равномерен </br>"
      ]
    },
    {
      "cell_type": "markdown",
      "metadata": {
        "id": "SW2U1Fb61Sej"
      },
      "source": [
        "Рассмотрим показатель расстояния до ближайшего парка"
      ]
    },
    {
      "cell_type": "code",
      "execution_count": null,
      "metadata": {
        "id": "0HUUI4_Y1Sej",
        "outputId": "2e955281-bcba-4f15-e49e-292b9709abb3"
      },
      "outputs": [
        {
          "data": {
            "image/png": "[encoded data removed]",
            "text/plain": [
              "<Figure size 432x288 with 1 Axes>"
            ]
          },
          "metadata": {
            "needs_background": "light"
          },
          "output_type": "display_data"
        }
      ],
      "source": [
        "data.boxplot('parks_nearest') # построим диаграмму размаха\n",
        "plt.ylabel('Расстояние до ближайшего парка')\n",
        "plt.show()"
      ]
    },
    {
      "cell_type": "markdown",
      "metadata": {
        "id": "NIKYvWM91Sej"
      },
      "source": [
        "В основном дома расположились на расстоянии от 0 до 1100 метров до ближайшего парка. (0 - вероятно обозначает отсутствие данных для этого предложения). Будем рассматривать срез от 1 до 1100 метров"
      ]
    },
    {
      "cell_type": "code",
      "execution_count": null,
      "metadata": {
        "id": "e2V6O54z1Sej",
        "outputId": "e6ce3449-25ab-401c-b71a-bcf9c3429da8"
      },
      "outputs": [
        {
          "data": {
            "image/png": "[encoded data removed]",
            "text/plain": [
              "<Figure size 720x360 with 1 Axes>"
            ]
          },
          "metadata": {
            "needs_background": "light"
          },
          "output_type": "display_data"
        }
      ],
      "source": [
        "good_data = data.query(('parks_nearest > 1 and parks_nearest < 1100')) # рассмотрим предложения от 1 до 1100\n",
        "good_data.plot(kind='hist',y='parks_nearest',grid=True, bins=50, figsize=(10,5))\n",
        "plt.xlabel('Расстояние до парка')\n",
        "plt.ylabel('Количество предложений')\n",
        "plt.show()"
      ]
    },
    {
      "cell_type": "markdown",
      "metadata": {
        "id": "5Gb5KYtv1Sej"
      },
      "source": [
        "Наблюдается небольшой разброс между предложениями. \n",
        "<br> Пиковое значение - 350 квартир на расстоянии в ~420 метров от ближайшего парка. Далее, идет показатель ~430 метров с 340  предложениями. В районе 310 предложений на расстоянияя ~390 метров и ~460 метров. \n",
        "<br> 90 квартир находят в непосредственной близости к парку (до 10 метров) </br>"
      ]
    },
    {
      "cell_type": "markdown",
      "metadata": {
        "id": "vO3A4PvN1Sej"
      },
      "source": [
        "Рассмотрим последние показатели: день и месяц публикаций объявлений"
      ]
    },
    {
      "cell_type": "code",
      "execution_count": null,
      "metadata": {
        "id": "NS9KawoL1Sek",
        "outputId": "99c447ca-3479-4239-adfc-0358889de031"
      },
      "outputs": [
        {
          "data": {
            "image/png": "[encoded data removed]",
            "text/plain": [
              "<Figure size 432x288 with 1 Axes>"
            ]
          },
          "metadata": {
            "needs_background": "light"
          },
          "output_type": "display_data"
        }
      ],
      "source": [
        "data['day_of_exposition'].hist() # построим гистограмму по столбцу day_of_exposition\n",
        "plt.show()"
      ]
    },
    {
      "cell_type": "markdown",
      "metadata": {
        "id": "Q1ifEMGP1Sek"
      },
      "source": [
        "Большинство  предложений (в районе 8200) размещены в понедельник и четверг пополам.\n",
        "<br> По 4000 предложений размещены в среду и пятницу </br>\n",
        "<br> В понедельник размещено в районе 3500 объявлений </br>\n",
        "<br> Меньше всего размещаются объявления по выходным </br>"
      ]
    },
    {
      "cell_type": "code",
      "execution_count": null,
      "metadata": {
        "id": "45RtW7Qa1Sek",
        "outputId": "2dfd1e5a-318a-4231-f880-cd9780c29653"
      },
      "outputs": [
        {
          "data": {
            "image/png": "[encoded data removed]",
            "text/plain": [
              "<Figure size 432x288 with 1 Axes>"
            ]
          },
          "metadata": {
            "needs_background": "light"
          },
          "output_type": "display_data"
        }
      ],
      "source": [
        "data['month_of_exposition'].hist() # построим гистограмму по столбцу month_of_exposition\n",
        "plt.show()"
      ]
    },
    {
      "cell_type": "markdown",
      "metadata": {
        "id": "-BdDbVFu1Sek"
      },
      "source": [
        "Большинство объявлений размещаются в зимние месяцы (декабрь, январь, февраль). В районе 8000 объявлений. \n",
        "<br> Меньше всего выкладывают объявления в апреле-мае </br>"
      ]
    },
    {
      "cell_type": "markdown",
      "metadata": {
        "id": "VHvl7MOn1Sek"
      },
      "source": [
        "#### Рассмотрение времени продажи квартиры. Построение гистограммы. Расчет средней и медианы"
      ]
    },
    {
      "cell_type": "markdown",
      "metadata": {
        "id": "pc5CB_o21Sek"
      },
      "source": [
        "Построим диаграмму размаха по столбцу 'days_exposition'. Столбец показывает, сколько дней было размещено каждое объявление."
      ]
    },
    {
      "cell_type": "code",
      "execution_count": null,
      "metadata": {
        "id": "MJkqqfOf1Sek",
        "outputId": "128e9a2d-e2ea-4b3f-d9b7-956d60f905a6"
      },
      "outputs": [
        {
          "data": {
            "image/png": "[encoded data removed]",
            "text/plain": [
              "<Figure size 432x288 with 1 Axes>"
            ]
          },
          "metadata": {
            "needs_background": "light"
          },
          "output_type": "display_data"
        }
      ],
      "source": [
        "data.boxplot('days_exposition')\n",
        "plt.ylabel('Время размещения объявления (дней) ')\n",
        "plt.show()"
      ]
    },
    {
      "cell_type": "markdown",
      "metadata": {
        "id": "7yZR_PlX1Sel"
      },
      "source": [
        "Основные значения расположены в диапазоне от 0 до 500 дней. Более 500 дней продажи необычно долгие. "
      ]
    },
    {
      "cell_type": "code",
      "execution_count": null,
      "metadata": {
        "id": "v6AUdkjU1Sel",
        "outputId": "8adb7e3e-1c26-4c5f-e85b-cd582878cd99"
      },
      "outputs": [
        {
          "data": {
            "image/png": "[encoded data removed]",
            "text/plain": [
              "<Figure size 864x360 with 1 Axes>"
            ]
          },
          "metadata": {
            "needs_background": "light"
          },
          "output_type": "display_data"
        }
      ],
      "source": [
        "good_data = data.query(('days_exposition > 0 and days_exposition < 500')) # рассмотрим предложения в диапазоне от 0 до 500 дней\n",
        "good_data.plot(kind='hist',y='days_exposition', bins=50, figsize=(12,5))\n",
        "plt.xlabel('Количество дней размещения')\n",
        "plt.ylabel('Количество объявлений')\n",
        "plt.show()"
      ]
    },
    {
      "cell_type": "markdown",
      "metadata": {
        "id": "dhAIv86W1Sel"
      },
      "source": [
        "По гистограмме видно, что, большинство квартир продаётся в период ~50-60 дней от даты объявления. Очень быстрые продажи квартир до месяца\n",
        "<br> Рассчитаем медиану и среднее значение </br>"
      ]
    },
    {
      "cell_type": "code",
      "execution_count": null,
      "metadata": {
        "id": "TVGlLm_N1Sel",
        "outputId": "f5419a83-c9ad-424e-d81d-d7bd2dd156e3"
      },
      "outputs": [
        {
          "data": {
            "text/plain": [
              "mean      126.014449\n",
              "median     83.000000\n",
              "Name: days_exposition, dtype: float64"
            ]
          },
          "execution_count": 102,
          "metadata": {},
          "output_type": "execute_result"
        }
      ],
      "source": [
        "good_data['days_exposition'].agg(['mean','median'])"
      ]
    },
    {
      "cell_type": "markdown",
      "metadata": {
        "id": "UmUdgHoN1Sel"
      },
      "source": [
        "<b>Вывод:</b>\n",
        "<br>Учитывая квартиры, которые продаются достаточно долго, то, в среднем, продажа квартиры занимает от 2 - 3 месяца в зависимости от других параллельных факторов </br> "
      ]
    },
    {
      "cell_type": "markdown",
      "metadata": {
        "id": "E04KagCZ1Sel"
      },
      "source": [
        "#### Зависимость цены от общей площади"
      ]
    },
    {
      "cell_type": "markdown",
      "metadata": {
        "id": "rOP7aCKn1Sel"
      },
      "source": [
        "Проанализируем зависимость цены от общей площади квартиры (total_area)"
      ]
    },
    {
      "cell_type": "code",
      "execution_count": null,
      "metadata": {
        "id": "AozPmtKK1Sem",
        "outputId": "628eb6f8-aeea-469b-8daa-ee6bbafdfe2c"
      },
      "outputs": [
        {
          "data": {
            "image/png": "[encoded data removed]",
            "text/plain": [
              "<Figure size 1008x360 with 1 Axes>"
            ]
          },
          "metadata": {
            "needs_background": "light"
          },
          "output_type": "display_data"
        }
      ],
      "source": [
        "(\n",
        "    data.pivot_table(index='last_price', values=['total_area'])\n",
        "    .plot(style='o',grid=True, figsize=(14,5))\n",
        ")\n",
        "plt.ylabel('Общая площадь квартиры')\n",
        "plt.xlabel('Цена')\n",
        "plt.show()"
      ]
    },
    {
      "cell_type": "markdown",
      "metadata": {
        "id": "hjmWqLye1Sem"
      },
      "source": [
        "Исходя из графика, видно, что, в среднем, цена растет с ростом общей площади квартиры. "
      ]
    },
    {
      "cell_type": "markdown",
      "metadata": {
        "id": "AKv3t5to1Sem"
      },
      "source": [
        "Проанализируем зависимость цены от жилой площади квартиры (living_area)"
      ]
    },
    {
      "cell_type": "code",
      "execution_count": null,
      "metadata": {
        "id": "3uup0_-q1Sen",
        "outputId": "2e8a2952-13c9-4751-ba32-761b1eca0841"
      },
      "outputs": [
        {
          "data": {
            "image/png": "[encoded data removed]",
            "text/plain": [
              "<Figure size 1008x360 with 1 Axes>"
            ]
          },
          "metadata": {
            "needs_background": "light"
          },
          "output_type": "display_data"
        }
      ],
      "source": [
        "(\n",
        "    data.pivot_table(index='last_price', values=['living_area'])\n",
        "    .plot(style='o',grid=True, figsize=(14,5))\n",
        ")\n",
        "plt.ylabel('Жилая площадь квартиры')\n",
        "plt.xlabel('Цена, млн.руб')\n",
        "plt.show()"
      ]
    },
    {
      "cell_type": "markdown",
      "metadata": {
        "id": "i-adGOd61Sen"
      },
      "source": [
        "Прямая зависимость между ростом цены и увеличением жилой площади не так существенна, нежели между ростом цены и увеличением общей площади."
      ]
    },
    {
      "cell_type": "markdown",
      "metadata": {
        "id": "u-dNRhcO1Sen"
      },
      "source": [
        "Проанализируем зависимость цены от жилой площади кухни (kitchen_area)"
      ]
    },
    {
      "cell_type": "code",
      "execution_count": null,
      "metadata": {
        "id": "jjMt3bKu1Sen",
        "outputId": "009d0e4c-722b-4c98-a460-f477c579799f"
      },
      "outputs": [
        {
          "data": {
            "image/png": "[encoded data removed]",
            "text/plain": [
              "<Figure size 1008x360 with 1 Axes>"
            ]
          },
          "metadata": {
            "needs_background": "light"
          },
          "output_type": "display_data"
        }
      ],
      "source": [
        "(\n",
        "    data.pivot_table(index='last_price', values=['kitchen_area'])\n",
        "    .plot(style='o',grid=True, figsize=(14,5))\n",
        ")\n",
        "plt.ylabel('Площадь кухни квартиры')\n",
        "plt.xlabel('Цена, млн.руб')\n",
        "plt.show()"
      ]
    },
    {
      "cell_type": "markdown",
      "metadata": {
        "id": "b30akc5s1Seo"
      },
      "source": [
        "Также, наблюдается прямая зависимость между ростом площади кухни и ростом цены. "
      ]
    },
    {
      "cell_type": "markdown",
      "metadata": {
        "id": "CZixf-TZ1Seo"
      },
      "source": [
        "Проанализируем зависимость цены от количества комнат (rooms)"
      ]
    },
    {
      "cell_type": "markdown",
      "metadata": {
        "id": "ISt7Dxgv1Seo"
      },
      "source": [
        "График цены меняется не так значительно в зависимости от количества комнат"
      ]
    },
    {
      "cell_type": "code",
      "execution_count": null,
      "metadata": {
        "scrolled": false,
        "id": "8WPGCc851Sep",
        "outputId": "8bd65a11-09df-4079-bbc2-c14ebec1a64a"
      },
      "outputs": [
        {
          "data": {
            "image/png": "[encoded data removed]",
            "text/plain": [
              "<Figure size 864x576 with 1 Axes>"
            ]
          },
          "metadata": {
            "needs_background": "light"
          },
          "output_type": "display_data"
        }
      ],
      "source": [
        "data.groupby('rooms')['last_price'].median().plot(kind='bar', figsize=(12, 8), grid=True)\n",
        "\n",
        "plt.xticks(rotation=0)\n",
        "plt.xlabel('Количество комнат')\n",
        "plt.ylabel('Средняя цена квартиры')\n",
        "\n",
        "plt.show()"
      ]
    },
    {
      "cell_type": "markdown",
      "metadata": {
        "id": "m1ReRLnS1Sep"
      },
      "source": [
        "\n",
        "Средняя цена квартир растёт с количеством комнат. Наблюдается небольшой скачок цены в районе квартир с 10 комнатами. Но, это может объясняться зависимостью от других факторов - локация, площадь и т.д."
      ]
    },
    {
      "cell_type": "markdown",
      "metadata": {
        "id": "Atax3Y-N1Sep"
      },
      "source": [
        "Проанализируем зависимость цены от этажа, на котором расположена квартира (первый, последний, другой)"
      ]
    },
    {
      "cell_type": "markdown",
      "metadata": {
        "id": "sANn-gcf1Sep"
      },
      "source": [
        "Исходя из графика, очевидно, что цены выше на любом другом этаже, нежели на первом или последнем."
      ]
    },
    {
      "cell_type": "code",
      "execution_count": null,
      "metadata": {
        "id": "60iBIvnl1Sep",
        "outputId": "faf18dc4-af1c-4aad-aa00-a8a914db5a43"
      },
      "outputs": [
        {
          "data": {
            "image/png": "[encoded data removed]",
            "text/plain": [
              "<Figure size 864x576 with 1 Axes>"
            ]
          },
          "metadata": {
            "needs_background": "light"
          },
          "output_type": "display_data"
        }
      ],
      "source": [
        "data.groupby('types_floors')['last_price'].median().plot(kind='bar', figsize=(12, 8), grid=True)\n",
        "\n",
        "plt.xticks(rotation=0)\n",
        "plt.xlabel('Этаж')\n",
        "plt.ylabel('Средняя цена квартиры')\n",
        "\n",
        "plt.show()"
      ]
    },
    {
      "cell_type": "markdown",
      "metadata": {
        "id": "xKS3-_mZ1Seq"
      },
      "source": [
        "Проанализируем зависимость цены от даты размещения (день недели, месяц, год)."
      ]
    },
    {
      "cell_type": "code",
      "execution_count": null,
      "metadata": {
        "id": "pDqVx1-51Seq",
        "outputId": "89d88a05-9ead-4d34-efcf-b04029da0f4b"
      },
      "outputs": [
        {
          "data": {
            "image/png": "[encoded data removed]",
            "text/plain": [
              "<Figure size 864x576 with 1 Axes>"
            ]
          },
          "metadata": {
            "needs_background": "light"
          },
          "output_type": "display_data"
        }
      ],
      "source": [
        "data.groupby('day_of_exposition')['last_price'].mean().plot(kind='bar', figsize=(12, 8), grid=True)\n",
        "\n",
        "plt.xticks(rotation=0)\n",
        "plt.xlabel('День недели')\n",
        "plt.ylabel('Средняя цена квартиры')\n",
        "\n",
        "plt.show()"
      ]
    },
    {
      "cell_type": "markdown",
      "metadata": {
        "id": "cfbq60MH1Seq"
      },
      "source": [
        "Исходя из графика, можно заметить, что цены ниже у тех предложений ,которые были размещены на выходных в субботу и в воскресенье. В целом изменение средней цены не сильно существенно в зависимости от дня недели"
      ]
    },
    {
      "cell_type": "code",
      "execution_count": null,
      "metadata": {
        "id": "iz_RS9Du1Seq",
        "outputId": "c9bfa26d-456c-4de0-93db-ad7847d30e2a"
      },
      "outputs": [
        {
          "data": {
            "image/png": "[encoded data removed]",
            "text/plain": [
              "<Figure size 864x576 with 1 Axes>"
            ]
          },
          "metadata": {
            "needs_background": "light"
          },
          "output_type": "display_data"
        }
      ],
      "source": [
        "data.groupby('month_of_exposition')['last_price'].mean().plot(kind='bar', figsize=(12, 8), grid=True)\n",
        "\n",
        "plt.xticks(rotation=0)\n",
        "plt.xlabel('Месяц')\n",
        "plt.ylabel('Средняя цена квартиры')\n",
        "\n",
        "plt.show()"
      ]
    },
    {
      "cell_type": "markdown",
      "metadata": {
        "id": "xhbkddsw1Ser"
      },
      "source": [
        "Исходя из графика, самые высокие цены у тех предложений, которые были размещены в апреле и сентябре. Самые низкие цены на предложения, размещенные в июне. В остальные месяцы предложения в среднем приблизительно одинаковы по цене"
      ]
    },
    {
      "cell_type": "code",
      "execution_count": null,
      "metadata": {
        "id": "W_-W6Ofu1Ser",
        "outputId": "65f6608f-b7ee-48bb-a905-04b157333991"
      },
      "outputs": [
        {
          "data": {
            "image/png": "[encoded data removed]",
            "text/plain": [
              "<Figure size 864x576 with 1 Axes>"
            ]
          },
          "metadata": {
            "needs_background": "light"
          },
          "output_type": "display_data"
        }
      ],
      "source": [
        "data.groupby('years_of_exposition')['last_price'].mean().plot(kind='bar', figsize=(12, 8), grid=True)\n",
        "\n",
        "plt.xticks(rotation=0)\n",
        "plt.xlabel('Год')\n",
        "plt.ylabel('Средняя цена квартиры')\n",
        "\n",
        "plt.show()"
      ]
    },
    {
      "cell_type": "markdown",
      "metadata": {
        "id": "UPfO57WA1Ses"
      },
      "source": [
        "Самые высокие цены у предложений размещенных в 2014 году. Затем, прослеживается падение до 2016 года. Цены держались этого уровня до 2018 года и начали расти."
      ]
    },
    {
      "cell_type": "markdown",
      "metadata": {
        "id": "t7gTL5TV1Ses"
      },
      "source": [
        "<b> Вывод:</b>\n",
        "<br> Наблюдается зависимость роста цены от увеличения общей и жилой площади квартир (хоть и жилая площадь меньше влияет на цену). Также, предложения, размещенные на выходных, имеют нижу цену, нежели предложения, размещенные по будням. Предложения, размещенные в середине года (июнь, июль) имеют самую низкую среднемесячную стоимость. Предложения, размещенные в апреле - самую высокую. В годовом диапазоне 2016-2018 квартиры  имели самую низкую среднюю цену за отчётный период с 2014 по 2019 года. </br>\n",
        "<br> Несущественно влияние увеличения площади кухни и количества комнат на увеличение цены предложения </br>\n",
        "<br> На любом другом, отличном от первого и второго этажа, выше цены на квартиры</br>"
      ]
    },
    {
      "cell_type": "markdown",
      "metadata": {
        "id": "kqsE7MXO1Ses"
      },
      "source": [
        "#### Расчёт средней цены одного квадратного метра в 10 населённых пунктах с наибольшим числом объявлений."
      ]
    },
    {
      "cell_type": "markdown",
      "metadata": {
        "id": "CAAcwCzD1Ses"
      },
      "source": [
        "Сгруппируем 10 населенных пунктов "
      ]
    },
    {
      "cell_type": "code",
      "execution_count": null,
      "metadata": {
        "id": "OQjor5sx1Ses",
        "outputId": "5d195fad-f55f-46f6-f243-1c657233ba52"
      },
      "outputs": [
        {
          "name": "stdout",
          "output_type": "stream",
          "text": [
            "                 first_day_exposition\n",
            "locality_name                        \n",
            "санкт-петербург                 14960\n",
            "мурино                            586\n",
            "кудрово                           470\n",
            "шушары                            439\n",
            "всеволожск                        397\n",
            "пушкин                            360\n",
            "колпино                           337\n",
            "парголово                         327\n",
            "гатчина                           307\n",
            "выборг                            237\n"
          ]
        }
      ],
      "source": [
        "data_ten = data.pivot_table(index='locality_name', values='first_day_exposition', aggfunc='count').sort_values(by='first_day_exposition', ascending=False).head(10)\n",
        "print(data_ten)"
      ]
    },
    {
      "cell_type": "markdown",
      "metadata": {
        "id": "4Vv35P9k1Ses"
      },
      "source": [
        "Больше всего объявлений в Санкт-Петербурге. \n",
        "<br> Рассчитаем для каждой группировки цену одного квадратного метра </br>"
      ]
    },
    {
      "cell_type": "code",
      "execution_count": null,
      "metadata": {
        "id": "ZIMddFpz1Ses",
        "outputId": "876ef724-bc01-4cee-ce9d-981b01b1a633"
      },
      "outputs": [
        {
          "data": {
            "text/html": [
              "<div>\n",
              "<style scoped>\n",
              "    .dataframe tbody tr th:only-of-type {\n",
              "        vertical-align: middle;\n",
              "    }\n",
              "\n",
              "    .dataframe tbody tr th {\n",
              "        vertical-align: top;\n",
              "    }\n",
              "\n",
              "    .dataframe thead th {\n",
              "        text-align: right;\n",
              "    }\n",
              "</style>\n",
              "<table border=\"1\" class=\"dataframe\">\n",
              "  <thead>\n",
              "    <tr style=\"text-align: right;\">\n",
              "      <th></th>\n",
              "      <th>first_day_exposition</th>\n",
              "      <th>price_per_meter</th>\n",
              "    </tr>\n",
              "    <tr>\n",
              "      <th>locality_name</th>\n",
              "      <th></th>\n",
              "      <th></th>\n",
              "    </tr>\n",
              "  </thead>\n",
              "  <tbody>\n",
              "    <tr>\n",
              "      <th>санкт-петербург</th>\n",
              "      <td>14960</td>\n",
              "      <td>108696.805296</td>\n",
              "    </tr>\n",
              "    <tr>\n",
              "      <th>мурино</th>\n",
              "      <td>586</td>\n",
              "      <td>86041.116064</td>\n",
              "    </tr>\n",
              "    <tr>\n",
              "      <th>кудрово</th>\n",
              "      <td>470</td>\n",
              "      <td>95260.846171</td>\n",
              "    </tr>\n",
              "    <tr>\n",
              "      <th>шушары</th>\n",
              "      <td>439</td>\n",
              "      <td>78551.344545</td>\n",
              "    </tr>\n",
              "    <tr>\n",
              "      <th>всеволожск</th>\n",
              "      <td>397</td>\n",
              "      <td>67214.252635</td>\n",
              "    </tr>\n",
              "    <tr>\n",
              "      <th>пушкин</th>\n",
              "      <td>360</td>\n",
              "      <td>101788.572053</td>\n",
              "    </tr>\n",
              "    <tr>\n",
              "      <th>колпино</th>\n",
              "      <td>337</td>\n",
              "      <td>75333.295801</td>\n",
              "    </tr>\n",
              "    <tr>\n",
              "      <th>парголово</th>\n",
              "      <td>327</td>\n",
              "      <td>90175.913458</td>\n",
              "    </tr>\n",
              "    <tr>\n",
              "      <th>гатчина</th>\n",
              "      <td>307</td>\n",
              "      <td>68746.146763</td>\n",
              "    </tr>\n",
              "    <tr>\n",
              "      <th>выборг</th>\n",
              "      <td>237</td>\n",
              "      <td>58141.909153</td>\n",
              "    </tr>\n",
              "  </tbody>\n",
              "</table>\n",
              "</div>"
            ],
            "text/plain": [
              "                 first_day_exposition  price_per_meter\n",
              "locality_name                                         \n",
              "санкт-петербург                 14960    108696.805296\n",
              "мурино                            586     86041.116064\n",
              "кудрово                           470     95260.846171\n",
              "шушары                            439     78551.344545\n",
              "всеволожск                        397     67214.252635\n",
              "пушкин                            360    101788.572053\n",
              "колпино                           337     75333.295801\n",
              "парголово                         327     90175.913458\n",
              "гатчина                           307     68746.146763\n",
              "выборг                            237     58141.909153"
            ]
          },
          "execution_count": 121,
          "metadata": {},
          "output_type": "execute_result"
        }
      ],
      "source": [
        "data_ten['price_per_meter'] = data.pivot_table(index='locality_name', values='price_per_meter', aggfunc='mean')\n",
        "data_ten"
      ]
    },
    {
      "cell_type": "markdown",
      "metadata": {
        "id": "UMsJWKK91Set"
      },
      "source": [
        "Исходя из данных, можно сделать вывод, что самая большая средняя цена за квадратный метр в Санкт-Петербурге - 115 тыс рублей.\n",
        "Самая низкая стоимость в Выборге - 58 тысяч рублей за кв.м."
      ]
    },
    {
      "cell_type": "markdown",
      "metadata": {
        "id": "TmRzA1el1Set"
      },
      "source": [
        "#### Расчет средней цены каждого километра расстояния до центра Санкт-Петербурга"
      ]
    },
    {
      "cell_type": "markdown",
      "metadata": {
        "id": "ADYPIvY81Set"
      },
      "source": [
        "Выведем на экран отсортированную по убыванию среднюю цену каждого километра расстояния до центра Санкт-Петербурга"
      ]
    },
    {
      "cell_type": "code",
      "execution_count": null,
      "metadata": {
        "id": "80r8-Pgb1Sew",
        "outputId": "20e4bff2-fc26-4e5b-8b6d-05ea070b3cb6"
      },
      "outputs": [
        {
          "data": {
            "image/png": "[encoded data removed]",
            "text/plain": [
              "<Figure size 720x360 with 1 Axes>"
            ]
          },
          "metadata": {
            "needs_background": "light"
          },
          "output_type": "display_data"
        }
      ],
      "source": [
        "data_saint = data.query('locality_name == \"санкт-петербург\"')\n",
        "(\n",
        "    data_saint.pivot_table(index='city_centers_nearest_km', values='price_per_meter', aggfunc='mean') # строим сводную таблицу\n",
        "    .query('city_centers_nearest_km != 27') # не учитываем расстояние 27 км, т.к. стат выброс\n",
        "    .plot(figsize=(10,5), grid=True,linewidth=3)\n",
        ")\n",
        "plt.show()"
      ]
    },
    {
      "cell_type": "markdown",
      "metadata": {
        "id": "mmtZPVWY1Sew"
      },
      "source": [
        "\n",
        "Исходя из графика, можно сделать вывод о том, что в среднем, чем ближе квартира до центра города, тем дороже её стоимость."
      ]
    },
    {
      "cell_type": "markdown",
      "metadata": {
        "id": "EhAZlSTr1Sex"
      },
      "source": [
        "#### Вывод"
      ]
    },
    {
      "cell_type": "markdown",
      "metadata": {
        "id": "fvNv_wG91Sex"
      },
      "source": [
        "Исходя из датасета, в среднем, продажа квартиры занимает 2-3 месяца от даты объявления. Общая, жилая площадь напрямую зависят на цену квартиры в предложении. Количество комнат, также, влияют на цену объекта, но не так значительно, как площадь. Квартиры на первом и последнем этаже имею ниже цену, чем какая-либо квартиры на любом другом этаже. \n",
        "<br>Предложения, размещенные в середине года имеют ниже стоимость, нежели предложения размещенные в марте-апреле.</br>\n",
        "<br>В зависимости от экономических показателей, в т.ч. показателей спроса и предложения, в разные годы на одну и ту же квартиру можно встретить абсолютно разную цену.\n",
        "<br>Самые дорогие квартиры с точки зрения цены за квадратный метр находятся в Санкт-Петербурге ( в среднем 115 тысяч за кв.м.)</br>\n",
        "<br> Чем ближе к центру, тем дороже средняя цена за кв.м.</br>"
      ]
    },
    {
      "cell_type": "markdown",
      "metadata": {
        "id": "IcdYBWdu1Sex"
      },
      "source": [
        "### Общий вывод"
      ]
    },
    {
      "cell_type": "markdown",
      "metadata": {
        "id": "-G3J4OV41Sex"
      },
      "source": [
        "Была поставлена задача провести исследование с использование данных из архива Яндекс Недвижимости. Необходимость заключалась в предобработке данных и нахождению интересных особенностей и зависимостей, которые существуют на рынке недвижимости Санкт-Петербурга и ближайших городов.\n",
        "<br> Исходные данные представлены двумя типами: заполненные пользователем и картографические </br> \n",
        "<br> На первом этапе было обнаружено большое количество пропущенных значений, в первую очередь, тех данных, которые были заполнены картографически. </br>\n",
        "<br> Была проведена предобработка данных для максимально возможного заполнения необходимых значений. \n",
        "<br> Проведена оценка неявных и явных дубликатов. Явных дубликатов в таблице не оказалось. Неявные были связаны исключительно с столбцом, в котором были указаны названия населенных пунктов. В основном, это чередование буквы \"е\" и \"ё\" - наиболее встречаемая ошибка. Но, встречались и другие дубликаты. Причина заключается в том, что один и тот же населенный пункт, можно называть по-разному. Например, \"посёлок\", \"посёлок городского типа\" и т.п. Были убраны типы населенных пунктов и оставлены только названия.</br>\n",
        "<br>Оценены аномальные значения в столбцах, проведено соответствующее изменение. </br>\n",
        "<br>Для наибольшей наглядности при анализе использовались графики и гистограммы. Было выявлено, что лидером по количеству и по цене предложений в регионе является город Санкт-Петербург. </br>\n",
        "<br> В процессе исследования были рассмотрены факторы влияния общую стоимость объекта </br>\n",
        "<br> Было выявлено, что чем больше общая и жилая площади квартир, тем больше и цена. Определена прямая зависимость. Также, было выявлено, что предложения,  размещенные по будням, имеют выше цену, нежели те квартиры, которые были выложены на выходных. С 2016 по 2018 годы на рынке недвижимости была самая низкая средняя цена за отчётный период. Предложения, размещенные в середине года (июнь, июль) имеют самую низкую среднемесячную стоимость. Предложения, размещенные в апреле - самую высокую.\n",
        "Самые низкие цены на квартиры, расположенные на первом и последнем этажах здания. <br>\n",
        "<br> Средняя цена за квадратный метр в Санкт-Петербурге - 115 тыс рублей. </br>\n",
        "<br> Влияние отдаленности от центра на цену объектов прямопропорциональное. Чем дальше - тем дешевле </br>"
      ]
    },
    {
      "cell_type": "code",
      "execution_count": null,
      "metadata": {
        "id": "oIuAwP-B1Sex"
      },
      "outputs": [],
      "source": []
    }
  ],
  "metadata": {
    "ExecuteTimeLog": [
      {
        "duration": 571,
        "start_time": "2022-10-29T05:35:50.753Z"
      },
      {
        "duration": 100,
        "start_time": "2022-10-29T05:36:56.583Z"
      },
      {
        "duration": 488,
        "start_time": "2022-10-29T05:41:45.930Z"
      },
      {
        "duration": 91,
        "start_time": "2022-10-29T05:43:09.326Z"
      },
      {
        "duration": 86,
        "start_time": "2022-10-29T05:43:29.126Z"
      },
      {
        "duration": 98,
        "start_time": "2022-10-29T05:43:41.244Z"
      },
      {
        "duration": 91,
        "start_time": "2022-10-29T05:43:46.650Z"
      },
      {
        "duration": 102,
        "start_time": "2022-10-29T05:44:29.875Z"
      },
      {
        "duration": 94,
        "start_time": "2022-10-29T05:45:09.043Z"
      },
      {
        "duration": 15,
        "start_time": "2022-10-29T05:49:24.300Z"
      },
      {
        "duration": 1934,
        "start_time": "2022-10-29T06:04:58.598Z"
      },
      {
        "duration": 1958,
        "start_time": "2022-10-29T06:28:10.311Z"
      },
      {
        "duration": 1910,
        "start_time": "2022-10-29T06:28:38.193Z"
      },
      {
        "duration": 11,
        "start_time": "2022-10-29T06:32:36.969Z"
      },
      {
        "duration": 6,
        "start_time": "2022-10-29T06:36:36.687Z"
      },
      {
        "duration": 7,
        "start_time": "2022-10-29T06:39:40.535Z"
      },
      {
        "duration": 8,
        "start_time": "2022-10-29T06:40:05.658Z"
      },
      {
        "duration": 11,
        "start_time": "2022-10-29T06:40:39.634Z"
      },
      {
        "duration": 7,
        "start_time": "2022-10-29T06:40:45.666Z"
      },
      {
        "duration": 10,
        "start_time": "2022-10-29T06:40:54.457Z"
      },
      {
        "duration": 6,
        "start_time": "2022-10-29T06:41:23.145Z"
      },
      {
        "duration": 8,
        "start_time": "2022-10-29T06:46:00.487Z"
      },
      {
        "duration": 8,
        "start_time": "2022-10-29T06:57:24.601Z"
      },
      {
        "duration": 8,
        "start_time": "2022-10-29T06:57:47.777Z"
      },
      {
        "duration": 692,
        "start_time": "2022-10-29T06:58:03.109Z"
      },
      {
        "duration": 15,
        "start_time": "2022-10-29T06:58:06.778Z"
      },
      {
        "duration": 1892,
        "start_time": "2022-10-29T06:58:09.684Z"
      },
      {
        "duration": 12,
        "start_time": "2022-10-29T06:58:15.266Z"
      },
      {
        "duration": 9,
        "start_time": "2022-10-29T07:01:34.655Z"
      },
      {
        "duration": 788,
        "start_time": "2022-10-29T07:01:46.155Z"
      },
      {
        "duration": 14,
        "start_time": "2022-10-29T07:01:49.422Z"
      },
      {
        "duration": 1939,
        "start_time": "2022-10-29T07:01:51.622Z"
      },
      {
        "duration": 9,
        "start_time": "2022-10-29T07:01:56.909Z"
      },
      {
        "duration": 8,
        "start_time": "2022-10-29T07:01:58.815Z"
      },
      {
        "duration": 6,
        "start_time": "2022-10-29T07:04:14.103Z"
      },
      {
        "duration": 8,
        "start_time": "2022-10-29T07:06:20.861Z"
      },
      {
        "duration": 60,
        "start_time": "2022-10-29T07:06:50.785Z"
      },
      {
        "duration": 10,
        "start_time": "2022-10-29T07:08:58.313Z"
      },
      {
        "duration": 8,
        "start_time": "2022-10-29T07:12:11.312Z"
      },
      {
        "duration": 715,
        "start_time": "2022-10-29T07:12:33.270Z"
      },
      {
        "duration": 8,
        "start_time": "2022-10-29T07:12:39.427Z"
      },
      {
        "duration": 6,
        "start_time": "2022-10-29T07:13:22.458Z"
      },
      {
        "duration": 5,
        "start_time": "2022-10-29T07:13:42.794Z"
      },
      {
        "duration": 4,
        "start_time": "2022-10-29T07:14:39.021Z"
      },
      {
        "duration": 6,
        "start_time": "2022-10-29T07:15:00.076Z"
      },
      {
        "duration": 4,
        "start_time": "2022-10-29T07:20:22.403Z"
      },
      {
        "duration": 4,
        "start_time": "2022-10-29T07:20:30.109Z"
      },
      {
        "duration": 8,
        "start_time": "2022-10-29T07:20:42.095Z"
      },
      {
        "duration": 4,
        "start_time": "2022-10-29T07:20:50.737Z"
      },
      {
        "duration": 681,
        "start_time": "2022-10-29T07:21:25.056Z"
      },
      {
        "duration": 6,
        "start_time": "2022-10-29T07:21:35.857Z"
      },
      {
        "duration": 6,
        "start_time": "2022-10-29T07:21:47.836Z"
      },
      {
        "duration": 13,
        "start_time": "2022-10-29T07:27:51.375Z"
      },
      {
        "duration": 19,
        "start_time": "2022-10-29T07:28:00.378Z"
      },
      {
        "duration": 13,
        "start_time": "2022-10-29T07:29:16.259Z"
      },
      {
        "duration": 20,
        "start_time": "2022-10-29T07:30:14.557Z"
      },
      {
        "duration": 6,
        "start_time": "2022-10-29T07:30:19.602Z"
      },
      {
        "duration": 17,
        "start_time": "2022-10-29T07:35:09.087Z"
      },
      {
        "duration": 809,
        "start_time": "2022-10-29T07:35:59.669Z"
      },
      {
        "duration": 15,
        "start_time": "2022-10-29T07:36:03.490Z"
      },
      {
        "duration": 1971,
        "start_time": "2022-10-29T07:36:06.649Z"
      },
      {
        "duration": 9,
        "start_time": "2022-10-29T07:36:12.099Z"
      },
      {
        "duration": 5,
        "start_time": "2022-10-29T07:36:14.286Z"
      },
      {
        "duration": 7,
        "start_time": "2022-10-29T07:36:15.904Z"
      },
      {
        "duration": 21,
        "start_time": "2022-10-29T07:36:18.467Z"
      },
      {
        "duration": 681,
        "start_time": "2022-10-29T07:36:27.343Z"
      },
      {
        "duration": 17,
        "start_time": "2022-10-29T07:36:30.403Z"
      },
      {
        "duration": 1949,
        "start_time": "2022-10-29T07:36:33.031Z"
      },
      {
        "duration": 13,
        "start_time": "2022-10-29T07:36:38.621Z"
      },
      {
        "duration": 4,
        "start_time": "2022-10-29T07:36:42.498Z"
      },
      {
        "duration": 7,
        "start_time": "2022-10-29T07:36:49.678Z"
      },
      {
        "duration": 23,
        "start_time": "2022-10-29T07:37:24.668Z"
      },
      {
        "duration": 5,
        "start_time": "2022-10-29T07:38:37.018Z"
      },
      {
        "duration": 84,
        "start_time": "2022-10-29T07:40:53.958Z"
      },
      {
        "duration": 27,
        "start_time": "2022-10-29T07:41:11.202Z"
      },
      {
        "duration": 6,
        "start_time": "2022-10-29T07:45:27.305Z"
      },
      {
        "duration": 731,
        "start_time": "2022-10-29T07:51:50.762Z"
      },
      {
        "duration": 18,
        "start_time": "2022-10-29T07:51:57.648Z"
      },
      {
        "duration": 1918,
        "start_time": "2022-10-29T07:52:00.370Z"
      },
      {
        "duration": 9,
        "start_time": "2022-10-29T07:52:05.460Z"
      },
      {
        "duration": 5,
        "start_time": "2022-10-29T07:52:07.620Z"
      },
      {
        "duration": 6,
        "start_time": "2022-10-29T07:52:10.050Z"
      },
      {
        "duration": 23,
        "start_time": "2022-10-29T07:52:12.212Z"
      },
      {
        "duration": 29,
        "start_time": "2022-10-29T07:52:16.508Z"
      },
      {
        "duration": 24,
        "start_time": "2022-10-29T07:53:46.617Z"
      },
      {
        "duration": 10,
        "start_time": "2022-10-29T07:58:44.652Z"
      },
      {
        "duration": 4,
        "start_time": "2022-10-29T07:59:57.437Z"
      },
      {
        "duration": 5,
        "start_time": "2022-10-29T08:00:02.138Z"
      },
      {
        "duration": 76,
        "start_time": "2022-10-29T08:00:19.731Z"
      },
      {
        "duration": 21,
        "start_time": "2022-10-29T08:00:38.900Z"
      },
      {
        "duration": 69,
        "start_time": "2022-10-29T08:01:52.269Z"
      },
      {
        "duration": 12,
        "start_time": "2022-10-29T08:02:13.490Z"
      },
      {
        "duration": 9,
        "start_time": "2022-10-29T08:02:28.632Z"
      },
      {
        "duration": 5,
        "start_time": "2022-10-29T08:02:39.976Z"
      },
      {
        "duration": 6,
        "start_time": "2022-10-29T08:03:44.432Z"
      },
      {
        "duration": 4,
        "start_time": "2022-10-29T08:03:56.087Z"
      },
      {
        "duration": 73,
        "start_time": "2022-10-29T08:05:33.929Z"
      },
      {
        "duration": 77,
        "start_time": "2022-10-29T08:05:47.530Z"
      },
      {
        "duration": 4,
        "start_time": "2022-10-29T08:05:57.918Z"
      },
      {
        "duration": 19,
        "start_time": "2022-10-29T08:06:48.680Z"
      },
      {
        "duration": 22,
        "start_time": "2022-10-29T08:08:03.960Z"
      },
      {
        "duration": 5,
        "start_time": "2022-10-29T08:08:18.315Z"
      },
      {
        "duration": 6,
        "start_time": "2022-10-29T08:08:27.700Z"
      },
      {
        "duration": 23,
        "start_time": "2022-10-29T08:08:41.593Z"
      },
      {
        "duration": 18,
        "start_time": "2022-10-29T08:11:36.048Z"
      },
      {
        "duration": 2,
        "start_time": "2022-10-29T08:19:32.504Z"
      },
      {
        "duration": 3,
        "start_time": "2022-10-29T08:20:48.850Z"
      },
      {
        "duration": 772,
        "start_time": "2022-10-29T08:25:09.784Z"
      },
      {
        "duration": 16,
        "start_time": "2022-10-29T08:25:13.512Z"
      },
      {
        "duration": 1920,
        "start_time": "2022-10-29T08:25:16.228Z"
      },
      {
        "duration": 10,
        "start_time": "2022-10-29T08:25:21.130Z"
      },
      {
        "duration": 4,
        "start_time": "2022-10-29T08:25:23.249Z"
      },
      {
        "duration": 6,
        "start_time": "2022-10-29T08:25:25.231Z"
      },
      {
        "duration": 23,
        "start_time": "2022-10-29T08:25:27.188Z"
      },
      {
        "duration": 6,
        "start_time": "2022-10-29T08:25:29.544Z"
      },
      {
        "duration": 20,
        "start_time": "2022-10-29T08:25:32.120Z"
      },
      {
        "duration": 78,
        "start_time": "2022-10-29T08:25:38.385Z"
      },
      {
        "duration": 14,
        "start_time": "2022-10-29T08:30:21.441Z"
      },
      {
        "duration": 8,
        "start_time": "2022-10-29T08:30:58.169Z"
      },
      {
        "duration": 6,
        "start_time": "2022-10-29T08:31:16.923Z"
      },
      {
        "duration": 24,
        "start_time": "2022-10-29T08:36:41.364Z"
      },
      {
        "duration": 5,
        "start_time": "2022-10-29T08:37:21.615Z"
      },
      {
        "duration": 4,
        "start_time": "2022-10-29T08:40:59.099Z"
      },
      {
        "duration": 570,
        "start_time": "2022-10-29T08:44:39.671Z"
      },
      {
        "duration": 554,
        "start_time": "2022-10-29T08:45:17.902Z"
      },
      {
        "duration": 559,
        "start_time": "2022-10-29T08:45:34.476Z"
      },
      {
        "duration": 7,
        "start_time": "2022-10-29T08:46:05.028Z"
      },
      {
        "duration": 15,
        "start_time": "2022-10-29T08:46:30.610Z"
      },
      {
        "duration": 792,
        "start_time": "2022-10-29T08:49:04.199Z"
      },
      {
        "duration": 15,
        "start_time": "2022-10-29T08:49:07.502Z"
      },
      {
        "duration": 2003,
        "start_time": "2022-10-29T08:49:10.465Z"
      },
      {
        "duration": 9,
        "start_time": "2022-10-29T08:49:15.952Z"
      },
      {
        "duration": 5,
        "start_time": "2022-10-29T08:49:18.031Z"
      },
      {
        "duration": 23,
        "start_time": "2022-10-29T08:49:20.173Z"
      },
      {
        "duration": 25,
        "start_time": "2022-10-29T08:49:21.983Z"
      },
      {
        "duration": 5,
        "start_time": "2022-10-29T08:49:24.233Z"
      },
      {
        "duration": 18,
        "start_time": "2022-10-29T08:49:26.257Z"
      },
      {
        "duration": 97,
        "start_time": "2022-10-29T08:49:30.928Z"
      },
      {
        "duration": 6,
        "start_time": "2022-10-29T08:50:03.615Z"
      },
      {
        "duration": 18,
        "start_time": "2022-10-29T08:50:43.563Z"
      },
      {
        "duration": 6,
        "start_time": "2022-10-29T08:51:03.226Z"
      },
      {
        "duration": 5,
        "start_time": "2022-10-29T08:51:43.693Z"
      },
      {
        "duration": 19,
        "start_time": "2022-10-29T08:54:00.674Z"
      },
      {
        "duration": 4,
        "start_time": "2022-10-29T09:10:25.113Z"
      },
      {
        "duration": 782,
        "start_time": "2022-10-29T09:10:32.419Z"
      },
      {
        "duration": 15,
        "start_time": "2022-10-29T09:10:35.304Z"
      },
      {
        "duration": 2066,
        "start_time": "2022-10-29T09:10:37.970Z"
      },
      {
        "duration": 9,
        "start_time": "2022-10-29T09:10:43.107Z"
      },
      {
        "duration": 6,
        "start_time": "2022-10-29T09:10:44.996Z"
      },
      {
        "duration": 9,
        "start_time": "2022-10-29T09:10:46.799Z"
      },
      {
        "duration": 23,
        "start_time": "2022-10-29T09:10:48.855Z"
      },
      {
        "duration": 5,
        "start_time": "2022-10-29T09:10:50.795Z"
      },
      {
        "duration": 19,
        "start_time": "2022-10-29T09:10:53.002Z"
      },
      {
        "duration": 3,
        "start_time": "2022-10-29T09:10:55.832Z"
      },
      {
        "duration": 88,
        "start_time": "2022-10-29T09:10:57.849Z"
      },
      {
        "duration": 5,
        "start_time": "2022-10-29T09:11:01.521Z"
      },
      {
        "duration": 8,
        "start_time": "2022-10-29T09:11:03.134Z"
      },
      {
        "duration": 14,
        "start_time": "2022-10-29T09:11:05.050Z"
      },
      {
        "duration": 726,
        "start_time": "2022-10-29T09:12:13.310Z"
      },
      {
        "duration": 16,
        "start_time": "2022-10-29T09:12:17.033Z"
      },
      {
        "duration": 1968,
        "start_time": "2022-10-29T09:12:19.480Z"
      },
      {
        "duration": 8,
        "start_time": "2022-10-29T09:12:24.905Z"
      },
      {
        "duration": 4,
        "start_time": "2022-10-29T09:12:27.481Z"
      },
      {
        "duration": 7,
        "start_time": "2022-10-29T09:12:29.124Z"
      },
      {
        "duration": 22,
        "start_time": "2022-10-29T09:12:31.519Z"
      },
      {
        "duration": 6,
        "start_time": "2022-10-29T09:12:33.560Z"
      },
      {
        "duration": 22,
        "start_time": "2022-10-29T09:12:35.315Z"
      },
      {
        "duration": 5,
        "start_time": "2022-10-29T09:12:37.879Z"
      },
      {
        "duration": 89,
        "start_time": "2022-10-29T09:12:44.186Z"
      },
      {
        "duration": 4,
        "start_time": "2022-10-29T09:12:47.357Z"
      },
      {
        "duration": 8,
        "start_time": "2022-10-29T09:12:48.846Z"
      },
      {
        "duration": 14,
        "start_time": "2022-10-29T09:12:50.646Z"
      },
      {
        "duration": 7,
        "start_time": "2022-10-29T09:45:13.893Z"
      },
      {
        "duration": 7,
        "start_time": "2022-10-29T09:45:18.473Z"
      },
      {
        "duration": 20,
        "start_time": "2022-10-29T09:45:30.694Z"
      },
      {
        "duration": 5,
        "start_time": "2022-10-29T09:48:31.046Z"
      },
      {
        "duration": 84,
        "start_time": "2022-10-29T09:53:29.739Z"
      },
      {
        "duration": 127,
        "start_time": "2022-10-29T10:15:25.492Z"
      },
      {
        "duration": 8,
        "start_time": "2022-10-29T10:16:37.563Z"
      },
      {
        "duration": 6822,
        "start_time": "2022-10-29T10:17:35.760Z"
      },
      {
        "duration": 105,
        "start_time": "2022-10-29T10:18:54.522Z"
      },
      {
        "duration": 14,
        "start_time": "2022-10-29T10:20:24.628Z"
      },
      {
        "duration": 16,
        "start_time": "2022-10-29T10:20:29.973Z"
      },
      {
        "duration": 52,
        "start_time": "2022-10-29T12:23:12.926Z"
      },
      {
        "duration": 1187,
        "start_time": "2022-10-29T12:23:27.479Z"
      },
      {
        "duration": 15,
        "start_time": "2022-10-29T12:23:43.113Z"
      },
      {
        "duration": 1857,
        "start_time": "2022-10-29T12:23:46.267Z"
      },
      {
        "duration": 8,
        "start_time": "2022-10-29T12:23:51.704Z"
      },
      {
        "duration": 5,
        "start_time": "2022-10-29T12:23:54.698Z"
      },
      {
        "duration": 6,
        "start_time": "2022-10-29T12:23:56.627Z"
      },
      {
        "duration": 21,
        "start_time": "2022-10-29T12:23:58.686Z"
      },
      {
        "duration": 5,
        "start_time": "2022-10-29T12:24:01.322Z"
      },
      {
        "duration": 15,
        "start_time": "2022-10-29T12:24:03.674Z"
      },
      {
        "duration": 5,
        "start_time": "2022-10-29T12:24:06.976Z"
      },
      {
        "duration": 99,
        "start_time": "2022-10-29T12:24:10.079Z"
      },
      {
        "duration": 5,
        "start_time": "2022-10-29T12:25:53.627Z"
      },
      {
        "duration": 12,
        "start_time": "2022-10-29T12:25:56.491Z"
      },
      {
        "duration": 13,
        "start_time": "2022-10-29T12:25:58.820Z"
      },
      {
        "duration": 20,
        "start_time": "2022-10-29T12:26:01.881Z"
      },
      {
        "duration": 5,
        "start_time": "2022-10-29T12:26:05.293Z"
      },
      {
        "duration": 8,
        "start_time": "2022-10-29T12:27:40.352Z"
      },
      {
        "duration": 9,
        "start_time": "2022-10-29T12:28:52.979Z"
      },
      {
        "duration": 8,
        "start_time": "2022-10-29T12:29:17.737Z"
      },
      {
        "duration": 9,
        "start_time": "2022-10-29T12:29:45.678Z"
      },
      {
        "duration": 7,
        "start_time": "2022-10-29T12:30:05.697Z"
      },
      {
        "duration": 92,
        "start_time": "2022-10-29T12:30:43.554Z"
      },
      {
        "duration": 580,
        "start_time": "2022-10-29T12:31:05.491Z"
      },
      {
        "duration": 136,
        "start_time": "2022-10-29T12:31:34.492Z"
      },
      {
        "duration": 131,
        "start_time": "2022-10-29T12:31:53.793Z"
      },
      {
        "duration": 115,
        "start_time": "2022-10-29T12:32:20.540Z"
      },
      {
        "duration": 115,
        "start_time": "2022-10-29T12:32:24.146Z"
      },
      {
        "duration": 119,
        "start_time": "2022-10-29T12:32:36.553Z"
      },
      {
        "duration": 119,
        "start_time": "2022-10-29T12:33:17.117Z"
      },
      {
        "duration": 94,
        "start_time": "2022-10-29T12:33:30.762Z"
      },
      {
        "duration": 682,
        "start_time": "2022-10-29T12:33:54.013Z"
      },
      {
        "duration": 3,
        "start_time": "2022-10-29T12:34:14.340Z"
      },
      {
        "duration": 4,
        "start_time": "2022-10-29T12:34:29.850Z"
      },
      {
        "duration": 8,
        "start_time": "2022-10-29T12:35:14.189Z"
      },
      {
        "duration": 8,
        "start_time": "2022-10-29T12:35:19.701Z"
      },
      {
        "duration": 10,
        "start_time": "2022-10-29T12:35:26.076Z"
      },
      {
        "duration": 7,
        "start_time": "2022-10-29T12:37:03.055Z"
      },
      {
        "duration": 10,
        "start_time": "2022-10-29T12:37:06.534Z"
      },
      {
        "duration": 759,
        "start_time": "2022-10-29T12:37:16.010Z"
      },
      {
        "duration": 15,
        "start_time": "2022-10-29T12:37:19.694Z"
      },
      {
        "duration": 1874,
        "start_time": "2022-10-29T12:37:21.786Z"
      },
      {
        "duration": 8,
        "start_time": "2022-10-29T12:37:26.693Z"
      },
      {
        "duration": 6,
        "start_time": "2022-10-29T12:37:28.991Z"
      },
      {
        "duration": 6,
        "start_time": "2022-10-29T12:37:30.727Z"
      },
      {
        "duration": 19,
        "start_time": "2022-10-29T12:37:32.331Z"
      },
      {
        "duration": 5,
        "start_time": "2022-10-29T12:37:34.285Z"
      },
      {
        "duration": 17,
        "start_time": "2022-10-29T12:37:36.349Z"
      },
      {
        "duration": 5,
        "start_time": "2022-10-29T12:37:38.902Z"
      },
      {
        "duration": 95,
        "start_time": "2022-10-29T12:37:40.832Z"
      },
      {
        "duration": 5,
        "start_time": "2022-10-29T12:37:44.068Z"
      },
      {
        "duration": 7,
        "start_time": "2022-10-29T12:37:46.534Z"
      },
      {
        "duration": 13,
        "start_time": "2022-10-29T12:37:48.079Z"
      },
      {
        "duration": 20,
        "start_time": "2022-10-29T12:37:51.165Z"
      },
      {
        "duration": 4,
        "start_time": "2022-10-29T12:37:52.880Z"
      },
      {
        "duration": 39,
        "start_time": "2022-10-29T12:38:40.385Z"
      },
      {
        "duration": 66,
        "start_time": "2022-10-29T12:39:25.219Z"
      },
      {
        "duration": 44,
        "start_time": "2022-10-29T12:39:54.563Z"
      },
      {
        "duration": 10,
        "start_time": "2022-10-29T12:40:05.675Z"
      },
      {
        "duration": 12,
        "start_time": "2022-10-29T12:40:44.837Z"
      },
      {
        "duration": 45,
        "start_time": "2022-10-29T12:41:02.972Z"
      },
      {
        "duration": 25,
        "start_time": "2022-10-29T12:41:25.286Z"
      },
      {
        "duration": 163,
        "start_time": "2022-10-29T12:42:49.787Z"
      },
      {
        "duration": 4,
        "start_time": "2022-10-29T12:43:28.060Z"
      },
      {
        "duration": 5,
        "start_time": "2022-10-29T12:43:55.029Z"
      },
      {
        "duration": 5,
        "start_time": "2022-10-29T12:44:07.300Z"
      },
      {
        "duration": 4,
        "start_time": "2022-10-29T12:44:31.188Z"
      },
      {
        "duration": 5,
        "start_time": "2022-10-29T12:44:42.571Z"
      },
      {
        "duration": 795,
        "start_time": "2022-10-29T12:44:55.888Z"
      },
      {
        "duration": 14,
        "start_time": "2022-10-29T12:44:59.188Z"
      },
      {
        "duration": 1795,
        "start_time": "2022-10-29T12:45:01.717Z"
      },
      {
        "duration": 10,
        "start_time": "2022-10-29T12:45:07.038Z"
      },
      {
        "duration": 6,
        "start_time": "2022-10-29T12:45:09.505Z"
      },
      {
        "duration": 8,
        "start_time": "2022-10-29T12:45:11.282Z"
      },
      {
        "duration": 30,
        "start_time": "2022-10-29T12:45:12.758Z"
      },
      {
        "duration": 5,
        "start_time": "2022-10-29T12:45:14.874Z"
      },
      {
        "duration": 19,
        "start_time": "2022-10-29T12:45:16.988Z"
      },
      {
        "duration": 4,
        "start_time": "2022-10-29T12:45:19.861Z"
      },
      {
        "duration": 96,
        "start_time": "2022-10-29T12:45:21.907Z"
      },
      {
        "duration": 4,
        "start_time": "2022-10-29T12:45:25.017Z"
      },
      {
        "duration": 9,
        "start_time": "2022-10-29T12:45:27.049Z"
      },
      {
        "duration": 13,
        "start_time": "2022-10-29T12:45:28.883Z"
      },
      {
        "duration": 20,
        "start_time": "2022-10-29T12:45:31.602Z"
      },
      {
        "duration": 5,
        "start_time": "2022-10-29T12:45:33.764Z"
      },
      {
        "duration": 97,
        "start_time": "2022-10-29T12:45:37.862Z"
      },
      {
        "duration": 5,
        "start_time": "2022-10-29T12:45:41.899Z"
      },
      {
        "duration": 8,
        "start_time": "2022-10-29T12:47:37.400Z"
      },
      {
        "duration": 8,
        "start_time": "2022-10-29T12:48:02.434Z"
      },
      {
        "duration": 44,
        "start_time": "2022-10-29T12:48:22.222Z"
      },
      {
        "duration": 1113,
        "start_time": "2022-10-30T06:44:25.268Z"
      },
      {
        "duration": 15,
        "start_time": "2022-10-30T06:44:28.926Z"
      },
      {
        "duration": 2060,
        "start_time": "2022-10-30T06:44:31.988Z"
      },
      {
        "duration": 9,
        "start_time": "2022-10-30T06:44:38.080Z"
      },
      {
        "duration": 5,
        "start_time": "2022-10-30T06:44:40.541Z"
      },
      {
        "duration": 7,
        "start_time": "2022-10-30T06:44:42.534Z"
      },
      {
        "duration": 22,
        "start_time": "2022-10-30T06:44:44.766Z"
      },
      {
        "duration": 6,
        "start_time": "2022-10-30T06:44:46.917Z"
      },
      {
        "duration": 17,
        "start_time": "2022-10-30T06:44:49.152Z"
      },
      {
        "duration": 6,
        "start_time": "2022-10-30T06:44:52.278Z"
      },
      {
        "duration": 11,
        "start_time": "2022-10-30T06:44:55.463Z"
      },
      {
        "duration": 4,
        "start_time": "2022-10-30T06:44:57.959Z"
      },
      {
        "duration": 8,
        "start_time": "2022-10-30T06:45:00.655Z"
      },
      {
        "duration": 13,
        "start_time": "2022-10-30T06:45:02.749Z"
      },
      {
        "duration": 23,
        "start_time": "2022-10-30T06:45:07.217Z"
      },
      {
        "duration": 5,
        "start_time": "2022-10-30T06:45:09.618Z"
      },
      {
        "duration": 49,
        "start_time": "2022-10-30T07:05:55.941Z"
      },
      {
        "duration": 652,
        "start_time": "2022-10-30T07:08:36.030Z"
      },
      {
        "duration": 15,
        "start_time": "2022-10-30T07:08:39.070Z"
      },
      {
        "duration": 1914,
        "start_time": "2022-10-30T07:08:41.854Z"
      },
      {
        "duration": 9,
        "start_time": "2022-10-30T07:08:47.521Z"
      },
      {
        "duration": 4,
        "start_time": "2022-10-30T07:08:49.846Z"
      },
      {
        "duration": 8,
        "start_time": "2022-10-30T07:08:54.357Z"
      },
      {
        "duration": 22,
        "start_time": "2022-10-30T07:09:01.059Z"
      },
      {
        "duration": 5,
        "start_time": "2022-10-30T07:09:04.847Z"
      },
      {
        "duration": 3,
        "start_time": "2022-10-30T07:13:28.038Z"
      },
      {
        "duration": 6,
        "start_time": "2022-10-30T07:14:34.563Z"
      },
      {
        "duration": 19,
        "start_time": "2022-10-30T07:14:42.717Z"
      },
      {
        "duration": 5,
        "start_time": "2022-10-30T07:14:52.154Z"
      },
      {
        "duration": 11,
        "start_time": "2022-10-30T07:16:30.467Z"
      },
      {
        "duration": 4,
        "start_time": "2022-10-30T07:16:32.352Z"
      },
      {
        "duration": 9,
        "start_time": "2022-10-30T07:16:33.863Z"
      },
      {
        "duration": 12,
        "start_time": "2022-10-30T07:16:35.653Z"
      },
      {
        "duration": 21,
        "start_time": "2022-10-30T07:16:39.982Z"
      },
      {
        "duration": 6,
        "start_time": "2022-10-30T07:16:42.418Z"
      },
      {
        "duration": 48,
        "start_time": "2022-10-30T07:16:48.034Z"
      },
      {
        "duration": 16,
        "start_time": "2022-10-30T07:18:02.167Z"
      },
      {
        "duration": 16,
        "start_time": "2022-10-30T07:18:42.893Z"
      },
      {
        "duration": 19,
        "start_time": "2022-10-30T07:20:07.211Z"
      },
      {
        "duration": 749,
        "start_time": "2022-10-30T07:30:25.249Z"
      },
      {
        "duration": 16,
        "start_time": "2022-10-30T07:30:28.817Z"
      },
      {
        "duration": 2035,
        "start_time": "2022-10-30T07:30:31.288Z"
      },
      {
        "duration": 8,
        "start_time": "2022-10-30T07:30:36.753Z"
      },
      {
        "duration": 6,
        "start_time": "2022-10-30T07:30:38.563Z"
      },
      {
        "duration": 6,
        "start_time": "2022-10-30T07:30:40.384Z"
      },
      {
        "duration": 21,
        "start_time": "2022-10-30T07:30:42.090Z"
      },
      {
        "duration": 4,
        "start_time": "2022-10-30T07:30:44.932Z"
      },
      {
        "duration": 5,
        "start_time": "2022-10-30T07:30:49.436Z"
      },
      {
        "duration": 19,
        "start_time": "2022-10-30T07:30:52.136Z"
      },
      {
        "duration": 4,
        "start_time": "2022-10-30T07:30:55.671Z"
      },
      {
        "duration": 12,
        "start_time": "2022-10-30T07:30:57.988Z"
      },
      {
        "duration": 5,
        "start_time": "2022-10-30T07:31:00.091Z"
      },
      {
        "duration": 8,
        "start_time": "2022-10-30T07:31:02.043Z"
      },
      {
        "duration": 12,
        "start_time": "2022-10-30T07:31:03.805Z"
      },
      {
        "duration": 5,
        "start_time": "2022-10-30T07:31:06.956Z"
      },
      {
        "duration": 3,
        "start_time": "2022-10-30T07:33:15.311Z"
      },
      {
        "duration": 10,
        "start_time": "2022-10-30T07:37:45.181Z"
      },
      {
        "duration": 112,
        "start_time": "2022-10-30T07:40:53.742Z"
      },
      {
        "duration": 152,
        "start_time": "2022-10-30T07:41:14.649Z"
      },
      {
        "duration": 125,
        "start_time": "2022-10-30T07:41:25.540Z"
      },
      {
        "duration": 110,
        "start_time": "2022-10-30T07:42:17.285Z"
      },
      {
        "duration": 147,
        "start_time": "2022-10-30T07:43:53.970Z"
      },
      {
        "duration": 8,
        "start_time": "2022-10-30T07:45:33.658Z"
      },
      {
        "duration": 101,
        "start_time": "2022-10-30T07:47:24.779Z"
      },
      {
        "duration": 46,
        "start_time": "2022-10-30T07:51:22.183Z"
      },
      {
        "duration": 183,
        "start_time": "2022-10-30T07:51:55.870Z"
      },
      {
        "duration": 101,
        "start_time": "2022-10-30T07:52:11.355Z"
      },
      {
        "duration": 707,
        "start_time": "2022-10-30T07:52:19.785Z"
      },
      {
        "duration": 15,
        "start_time": "2022-10-30T07:52:23.396Z"
      },
      {
        "duration": 2064,
        "start_time": "2022-10-30T07:52:26.408Z"
      },
      {
        "duration": 9,
        "start_time": "2022-10-30T07:52:31.537Z"
      },
      {
        "duration": 5,
        "start_time": "2022-10-30T07:52:33.388Z"
      },
      {
        "duration": 7,
        "start_time": "2022-10-30T07:52:35.585Z"
      },
      {
        "duration": 22,
        "start_time": "2022-10-30T07:52:37.296Z"
      },
      {
        "duration": 5,
        "start_time": "2022-10-30T07:52:39.058Z"
      },
      {
        "duration": 5,
        "start_time": "2022-10-30T07:52:40.628Z"
      },
      {
        "duration": 18,
        "start_time": "2022-10-30T07:52:42.325Z"
      },
      {
        "duration": 6,
        "start_time": "2022-10-30T07:52:45.292Z"
      },
      {
        "duration": 11,
        "start_time": "2022-10-30T07:52:47.291Z"
      },
      {
        "duration": 5,
        "start_time": "2022-10-30T07:52:48.936Z"
      },
      {
        "duration": 9,
        "start_time": "2022-10-30T07:52:50.469Z"
      },
      {
        "duration": 14,
        "start_time": "2022-10-30T07:52:52.346Z"
      },
      {
        "duration": 6,
        "start_time": "2022-10-30T07:52:55.272Z"
      },
      {
        "duration": 21,
        "start_time": "2022-10-30T07:52:58.051Z"
      },
      {
        "duration": 5,
        "start_time": "2022-10-30T07:52:59.916Z"
      },
      {
        "duration": 16,
        "start_time": "2022-10-30T07:53:05.034Z"
      },
      {
        "duration": 19,
        "start_time": "2022-10-30T07:53:07.559Z"
      },
      {
        "duration": 9,
        "start_time": "2022-10-30T07:53:18.245Z"
      },
      {
        "duration": 106,
        "start_time": "2022-10-30T07:53:20.983Z"
      },
      {
        "duration": 8,
        "start_time": "2022-10-30T07:53:23.870Z"
      },
      {
        "duration": 104,
        "start_time": "2022-10-30T07:53:25.932Z"
      },
      {
        "duration": 111,
        "start_time": "2022-10-30T07:53:31.116Z"
      },
      {
        "duration": 8,
        "start_time": "2022-10-30T07:53:46.796Z"
      },
      {
        "duration": 43,
        "start_time": "2022-10-30T07:59:40.838Z"
      },
      {
        "duration": 40,
        "start_time": "2022-10-30T08:00:24.014Z"
      },
      {
        "duration": 42,
        "start_time": "2022-10-30T08:00:43.484Z"
      },
      {
        "duration": 83,
        "start_time": "2022-10-30T08:06:04.633Z"
      },
      {
        "duration": 23,
        "start_time": "2022-10-30T08:06:19.006Z"
      },
      {
        "duration": 8,
        "start_time": "2022-10-30T08:08:53.657Z"
      },
      {
        "duration": 11,
        "start_time": "2022-10-30T08:09:35.815Z"
      },
      {
        "duration": 7,
        "start_time": "2022-10-30T08:09:51.380Z"
      },
      {
        "duration": 4,
        "start_time": "2022-10-30T08:10:32.836Z"
      },
      {
        "duration": 700,
        "start_time": "2022-10-30T08:11:15.738Z"
      },
      {
        "duration": 14,
        "start_time": "2022-10-30T08:11:18.758Z"
      },
      {
        "duration": 1899,
        "start_time": "2022-10-30T08:11:21.125Z"
      },
      {
        "duration": 9,
        "start_time": "2022-10-30T08:11:28.893Z"
      },
      {
        "duration": 5,
        "start_time": "2022-10-30T08:11:34.469Z"
      },
      {
        "duration": 7,
        "start_time": "2022-10-30T08:11:39.216Z"
      },
      {
        "duration": 21,
        "start_time": "2022-10-30T08:11:54.611Z"
      },
      {
        "duration": 5,
        "start_time": "2022-10-30T08:11:56.723Z"
      },
      {
        "duration": 6,
        "start_time": "2022-10-30T08:11:58.528Z"
      },
      {
        "duration": 18,
        "start_time": "2022-10-30T08:12:00.290Z"
      },
      {
        "duration": 5,
        "start_time": "2022-10-30T08:12:04.306Z"
      },
      {
        "duration": 11,
        "start_time": "2022-10-30T08:12:06.825Z"
      },
      {
        "duration": 5,
        "start_time": "2022-10-30T08:12:09.019Z"
      },
      {
        "duration": 9,
        "start_time": "2022-10-30T08:12:11.614Z"
      },
      {
        "duration": 15,
        "start_time": "2022-10-30T08:12:14.557Z"
      },
      {
        "duration": 6,
        "start_time": "2022-10-30T08:12:19.610Z"
      },
      {
        "duration": 22,
        "start_time": "2022-10-30T08:12:23.295Z"
      },
      {
        "duration": 7,
        "start_time": "2022-10-30T08:12:25.155Z"
      },
      {
        "duration": 18,
        "start_time": "2022-10-30T08:12:27.714Z"
      },
      {
        "duration": 19,
        "start_time": "2022-10-30T08:12:29.173Z"
      },
      {
        "duration": 8,
        "start_time": "2022-10-30T08:12:34.605Z"
      },
      {
        "duration": 105,
        "start_time": "2022-10-30T08:12:37.773Z"
      },
      {
        "duration": 8,
        "start_time": "2022-10-30T08:12:41.812Z"
      },
      {
        "duration": 107,
        "start_time": "2022-10-30T08:12:44.883Z"
      },
      {
        "duration": 100,
        "start_time": "2022-10-30T08:12:50.144Z"
      },
      {
        "duration": 8,
        "start_time": "2022-10-30T08:12:52.748Z"
      },
      {
        "duration": 43,
        "start_time": "2022-10-30T08:12:57.279Z"
      },
      {
        "duration": 24,
        "start_time": "2022-10-30T08:13:01.004Z"
      },
      {
        "duration": 8,
        "start_time": "2022-10-30T08:13:04.700Z"
      },
      {
        "duration": 171,
        "start_time": "2022-10-30T08:14:29.759Z"
      },
      {
        "duration": 239,
        "start_time": "2022-10-30T08:15:07.500Z"
      },
      {
        "duration": 9,
        "start_time": "2022-10-30T08:26:36.491Z"
      },
      {
        "duration": 40,
        "start_time": "2022-10-30T08:28:23.752Z"
      },
      {
        "duration": 41,
        "start_time": "2022-10-30T08:28:41.498Z"
      },
      {
        "duration": 32,
        "start_time": "2022-10-30T08:30:16.318Z"
      },
      {
        "duration": 118,
        "start_time": "2022-10-30T08:30:44.581Z"
      },
      {
        "duration": 30,
        "start_time": "2022-10-30T08:31:48.865Z"
      },
      {
        "duration": 14,
        "start_time": "2022-10-30T08:33:09.595Z"
      },
      {
        "duration": 8,
        "start_time": "2022-10-30T08:33:47.648Z"
      },
      {
        "duration": 7,
        "start_time": "2022-10-30T08:34:02.813Z"
      },
      {
        "duration": 7,
        "start_time": "2022-10-30T08:40:42.045Z"
      },
      {
        "duration": 5,
        "start_time": "2022-10-30T08:41:29.718Z"
      },
      {
        "duration": 13,
        "start_time": "2022-10-30T08:42:37.602Z"
      },
      {
        "duration": 9,
        "start_time": "2022-10-30T08:44:02.474Z"
      },
      {
        "duration": 7,
        "start_time": "2022-10-30T08:44:05.359Z"
      },
      {
        "duration": 9,
        "start_time": "2022-10-30T08:44:22.684Z"
      },
      {
        "duration": 6,
        "start_time": "2022-10-30T08:44:24.170Z"
      },
      {
        "duration": 7,
        "start_time": "2022-10-30T08:48:22.455Z"
      },
      {
        "duration": 7,
        "start_time": "2022-10-30T08:49:30.364Z"
      },
      {
        "duration": 15,
        "start_time": "2022-10-30T08:52:30.957Z"
      },
      {
        "duration": 7,
        "start_time": "2022-10-30T08:52:53.590Z"
      },
      {
        "duration": 711,
        "start_time": "2022-10-30T08:53:43.094Z"
      },
      {
        "duration": 15,
        "start_time": "2022-10-30T08:53:46.492Z"
      },
      {
        "duration": 1887,
        "start_time": "2022-10-30T08:53:48.833Z"
      },
      {
        "duration": 10,
        "start_time": "2022-10-30T08:53:53.901Z"
      },
      {
        "duration": 5,
        "start_time": "2022-10-30T08:53:55.708Z"
      },
      {
        "duration": 6,
        "start_time": "2022-10-30T08:53:57.405Z"
      },
      {
        "duration": 22,
        "start_time": "2022-10-30T08:53:59.908Z"
      },
      {
        "duration": 5,
        "start_time": "2022-10-30T08:54:01.889Z"
      },
      {
        "duration": 4,
        "start_time": "2022-10-30T08:54:04.112Z"
      },
      {
        "duration": 17,
        "start_time": "2022-10-30T08:54:06.074Z"
      },
      {
        "duration": 6,
        "start_time": "2022-10-30T08:54:08.855Z"
      },
      {
        "duration": 13,
        "start_time": "2022-10-30T08:54:10.856Z"
      },
      {
        "duration": 5,
        "start_time": "2022-10-30T08:54:12.504Z"
      },
      {
        "duration": 8,
        "start_time": "2022-10-30T08:54:13.933Z"
      },
      {
        "duration": 13,
        "start_time": "2022-10-30T08:54:15.510Z"
      },
      {
        "duration": 5,
        "start_time": "2022-10-30T08:54:17.581Z"
      },
      {
        "duration": 22,
        "start_time": "2022-10-30T08:54:19.812Z"
      },
      {
        "duration": 5,
        "start_time": "2022-10-30T08:54:21.310Z"
      },
      {
        "duration": 17,
        "start_time": "2022-10-30T08:54:23.818Z"
      },
      {
        "duration": 20,
        "start_time": "2022-10-30T08:54:26.351Z"
      },
      {
        "duration": 10,
        "start_time": "2022-10-30T08:54:31.561Z"
      },
      {
        "duration": 111,
        "start_time": "2022-10-30T08:54:33.957Z"
      },
      {
        "duration": 8,
        "start_time": "2022-10-30T08:54:36.673Z"
      },
      {
        "duration": 100,
        "start_time": "2022-10-30T08:54:40.741Z"
      },
      {
        "duration": 109,
        "start_time": "2022-10-30T08:54:43.627Z"
      },
      {
        "duration": 9,
        "start_time": "2022-10-30T08:54:45.573Z"
      },
      {
        "duration": 43,
        "start_time": "2022-10-30T08:54:47.992Z"
      },
      {
        "duration": 25,
        "start_time": "2022-10-30T08:54:53.245Z"
      },
      {
        "duration": 8,
        "start_time": "2022-10-30T08:54:56.202Z"
      },
      {
        "duration": 247,
        "start_time": "2022-10-30T08:54:57.917Z"
      },
      {
        "duration": 10,
        "start_time": "2022-10-30T08:55:00.949Z"
      },
      {
        "duration": 33,
        "start_time": "2022-10-30T08:55:10.160Z"
      },
      {
        "duration": 5,
        "start_time": "2022-10-30T08:55:14.517Z"
      },
      {
        "duration": 10,
        "start_time": "2022-10-30T08:55:29.728Z"
      },
      {
        "duration": 5,
        "start_time": "2022-10-30T08:55:32.111Z"
      },
      {
        "duration": 8,
        "start_time": "2022-10-30T08:55:35.200Z"
      },
      {
        "duration": 13,
        "start_time": "2022-10-30T08:55:37.412Z"
      },
      {
        "duration": 7,
        "start_time": "2022-10-30T08:55:39.830Z"
      },
      {
        "duration": 2,
        "start_time": "2022-10-30T08:59:09.372Z"
      },
      {
        "duration": 7,
        "start_time": "2022-10-30T09:01:14.682Z"
      },
      {
        "duration": 770,
        "start_time": "2022-10-30T09:02:08.653Z"
      },
      {
        "duration": 5,
        "start_time": "2022-10-30T09:02:16.027Z"
      },
      {
        "duration": 5,
        "start_time": "2022-10-30T09:02:51.757Z"
      },
      {
        "duration": 5,
        "start_time": "2022-10-30T09:02:58.670Z"
      },
      {
        "duration": 6,
        "start_time": "2022-10-30T09:05:33.460Z"
      },
      {
        "duration": 6,
        "start_time": "2022-10-30T09:06:41.018Z"
      },
      {
        "duration": 6,
        "start_time": "2022-10-30T09:07:09.945Z"
      },
      {
        "duration": 27,
        "start_time": "2022-10-30T09:07:31.373Z"
      },
      {
        "duration": 2,
        "start_time": "2022-10-30T09:08:53.987Z"
      },
      {
        "duration": 44,
        "start_time": "2022-10-30T09:10:53.613Z"
      },
      {
        "duration": 33,
        "start_time": "2022-10-30T09:21:15.354Z"
      },
      {
        "duration": 28,
        "start_time": "2022-10-30T09:23:38.049Z"
      },
      {
        "duration": 25,
        "start_time": "2022-10-30T09:24:23.164Z"
      },
      {
        "duration": 33,
        "start_time": "2022-10-30T09:24:27.478Z"
      },
      {
        "duration": 27,
        "start_time": "2022-10-30T09:24:38.266Z"
      },
      {
        "duration": 3,
        "start_time": "2022-10-30T09:29:34.811Z"
      },
      {
        "duration": 13,
        "start_time": "2022-10-30T09:29:43.201Z"
      },
      {
        "duration": 103,
        "start_time": "2022-10-30T09:29:58.001Z"
      },
      {
        "duration": 27,
        "start_time": "2022-10-30T09:31:08.513Z"
      },
      {
        "duration": 27,
        "start_time": "2022-10-30T09:32:38.870Z"
      },
      {
        "duration": 28,
        "start_time": "2022-10-30T09:32:53.415Z"
      },
      {
        "duration": 31,
        "start_time": "2022-10-30T09:33:07.197Z"
      },
      {
        "duration": 30,
        "start_time": "2022-10-30T09:33:44.377Z"
      },
      {
        "duration": 28,
        "start_time": "2022-10-30T09:33:56.113Z"
      },
      {
        "duration": 7,
        "start_time": "2022-10-30T09:35:14.113Z"
      },
      {
        "duration": 3,
        "start_time": "2022-10-30T09:36:17.498Z"
      },
      {
        "duration": 5,
        "start_time": "2022-10-30T09:41:54.894Z"
      },
      {
        "duration": 46,
        "start_time": "2022-10-30T09:42:21.325Z"
      },
      {
        "duration": 21,
        "start_time": "2022-10-30T09:42:27.615Z"
      },
      {
        "duration": 5,
        "start_time": "2022-10-30T09:42:44.135Z"
      },
      {
        "duration": 26,
        "start_time": "2022-10-30T09:42:59.513Z"
      },
      {
        "duration": 12,
        "start_time": "2022-10-30T09:43:39.766Z"
      },
      {
        "duration": 695,
        "start_time": "2022-10-30T09:43:52.362Z"
      },
      {
        "duration": 6,
        "start_time": "2022-10-30T09:43:59.144Z"
      },
      {
        "duration": 370,
        "start_time": "2022-10-30T09:45:43.878Z"
      },
      {
        "duration": 15,
        "start_time": "2022-10-30T09:46:05.318Z"
      },
      {
        "duration": 11,
        "start_time": "2022-10-30T09:46:41.834Z"
      },
      {
        "duration": 10,
        "start_time": "2022-10-30T09:46:46.442Z"
      },
      {
        "duration": 8,
        "start_time": "2022-10-30T09:48:56.909Z"
      },
      {
        "duration": 7,
        "start_time": "2022-10-30T09:49:32.101Z"
      },
      {
        "duration": 121,
        "start_time": "2022-10-30T11:30:12.368Z"
      },
      {
        "duration": 199,
        "start_time": "2022-10-30T11:30:27.723Z"
      },
      {
        "duration": 313,
        "start_time": "2022-10-30T11:38:08.060Z"
      },
      {
        "duration": 143,
        "start_time": "2022-10-30T11:39:48.598Z"
      },
      {
        "duration": 148,
        "start_time": "2022-10-30T11:39:55.711Z"
      },
      {
        "duration": 150,
        "start_time": "2022-10-30T11:40:00.023Z"
      },
      {
        "duration": 376,
        "start_time": "2022-10-30T11:43:03.641Z"
      },
      {
        "duration": 340,
        "start_time": "2022-10-30T11:43:24.515Z"
      },
      {
        "duration": 127,
        "start_time": "2022-10-30T11:45:35.345Z"
      },
      {
        "duration": 45,
        "start_time": "2022-10-30T11:46:11.509Z"
      },
      {
        "duration": 297,
        "start_time": "2022-10-30T11:47:02.354Z"
      },
      {
        "duration": 134,
        "start_time": "2022-10-30T11:52:42.891Z"
      },
      {
        "duration": 322,
        "start_time": "2022-10-30T11:57:24.318Z"
      },
      {
        "duration": 236,
        "start_time": "2022-10-30T12:02:39.548Z"
      },
      {
        "duration": 339,
        "start_time": "2022-10-30T12:03:44.817Z"
      },
      {
        "duration": 248,
        "start_time": "2022-10-30T12:03:52.917Z"
      },
      {
        "duration": 113,
        "start_time": "2022-10-30T12:06:33.149Z"
      },
      {
        "duration": 9,
        "start_time": "2022-10-30T12:09:54.477Z"
      },
      {
        "duration": 238,
        "start_time": "2022-10-30T12:10:05.278Z"
      },
      {
        "duration": 110,
        "start_time": "2022-10-30T12:14:45.683Z"
      },
      {
        "duration": 226,
        "start_time": "2022-10-30T12:16:30.146Z"
      },
      {
        "duration": 112,
        "start_time": "2022-10-30T12:20:44.712Z"
      },
      {
        "duration": 120,
        "start_time": "2022-10-30T12:24:38.782Z"
      },
      {
        "duration": 328,
        "start_time": "2022-10-30T12:27:13.941Z"
      },
      {
        "duration": 117,
        "start_time": "2022-10-30T12:31:17.285Z"
      },
      {
        "duration": 244,
        "start_time": "2022-10-30T12:32:56.573Z"
      },
      {
        "duration": 119,
        "start_time": "2022-10-30T12:36:26.882Z"
      },
      {
        "duration": 141,
        "start_time": "2022-10-30T12:36:45.473Z"
      },
      {
        "duration": 228,
        "start_time": "2022-10-30T12:38:58.619Z"
      },
      {
        "duration": 104,
        "start_time": "2022-10-30T12:43:18.110Z"
      },
      {
        "duration": 248,
        "start_time": "2022-10-30T12:45:33.690Z"
      },
      {
        "duration": 119,
        "start_time": "2022-10-30T12:51:47.145Z"
      },
      {
        "duration": 223,
        "start_time": "2022-10-30T12:55:15.771Z"
      },
      {
        "duration": 50,
        "start_time": "2022-10-31T05:38:06.040Z"
      },
      {
        "duration": 1557,
        "start_time": "2022-10-31T05:38:14.112Z"
      },
      {
        "duration": 17,
        "start_time": "2022-10-31T05:38:18.406Z"
      },
      {
        "duration": 2138,
        "start_time": "2022-10-31T05:38:20.454Z"
      },
      {
        "duration": 13,
        "start_time": "2022-10-31T05:38:27.045Z"
      },
      {
        "duration": 5,
        "start_time": "2022-10-31T05:38:28.897Z"
      },
      {
        "duration": 7,
        "start_time": "2022-10-31T05:38:30.368Z"
      },
      {
        "duration": 34,
        "start_time": "2022-10-31T05:38:32.077Z"
      },
      {
        "duration": 6,
        "start_time": "2022-10-31T05:38:34.276Z"
      },
      {
        "duration": 8,
        "start_time": "2022-10-31T05:38:35.637Z"
      },
      {
        "duration": 24,
        "start_time": "2022-10-31T05:38:37.413Z"
      },
      {
        "duration": 5,
        "start_time": "2022-10-31T05:38:39.733Z"
      },
      {
        "duration": 13,
        "start_time": "2022-10-31T05:38:41.422Z"
      },
      {
        "duration": 6,
        "start_time": "2022-10-31T05:38:42.725Z"
      },
      {
        "duration": 9,
        "start_time": "2022-10-31T05:38:44.117Z"
      },
      {
        "duration": 14,
        "start_time": "2022-10-31T05:38:45.349Z"
      },
      {
        "duration": 7,
        "start_time": "2022-10-31T05:38:47.349Z"
      },
      {
        "duration": 26,
        "start_time": "2022-10-31T05:38:49.565Z"
      },
      {
        "duration": 6,
        "start_time": "2022-10-31T05:38:51.222Z"
      },
      {
        "duration": 19,
        "start_time": "2022-10-31T05:38:54.501Z"
      },
      {
        "duration": 20,
        "start_time": "2022-10-31T05:38:55.541Z"
      },
      {
        "duration": 9,
        "start_time": "2022-10-31T05:38:58.931Z"
      },
      {
        "duration": 116,
        "start_time": "2022-10-31T05:39:02.189Z"
      },
      {
        "duration": 10,
        "start_time": "2022-10-31T05:39:04.548Z"
      },
      {
        "duration": 116,
        "start_time": "2022-10-31T05:39:05.941Z"
      },
      {
        "duration": 109,
        "start_time": "2022-10-31T05:39:08.182Z"
      },
      {
        "duration": 9,
        "start_time": "2022-10-31T05:39:10.598Z"
      },
      {
        "duration": 43,
        "start_time": "2022-10-31T05:39:14.173Z"
      },
      {
        "duration": 28,
        "start_time": "2022-10-31T05:39:16.341Z"
      },
      {
        "duration": 9,
        "start_time": "2022-10-31T05:39:18.373Z"
      },
      {
        "duration": 267,
        "start_time": "2022-10-31T05:39:19.806Z"
      },
      {
        "duration": 10,
        "start_time": "2022-10-31T05:39:22.191Z"
      },
      {
        "duration": 36,
        "start_time": "2022-10-31T05:39:24.174Z"
      },
      {
        "duration": 6,
        "start_time": "2022-10-31T05:39:26.125Z"
      },
      {
        "duration": 13,
        "start_time": "2022-10-31T05:39:29.661Z"
      },
      {
        "duration": 6,
        "start_time": "2022-10-31T05:39:31.257Z"
      },
      {
        "duration": 8,
        "start_time": "2022-10-31T05:39:33.749Z"
      },
      {
        "duration": 15,
        "start_time": "2022-10-31T05:39:35.737Z"
      },
      {
        "duration": 9,
        "start_time": "2022-10-31T05:39:37.182Z"
      },
      {
        "duration": 8,
        "start_time": "2022-10-31T05:39:40.446Z"
      },
      {
        "duration": 5,
        "start_time": "2022-10-31T05:39:42.280Z"
      },
      {
        "duration": 6,
        "start_time": "2022-10-31T05:39:44.086Z"
      },
      {
        "duration": 5,
        "start_time": "2022-10-31T05:39:45.239Z"
      },
      {
        "duration": 6,
        "start_time": "2022-10-31T05:39:45.718Z"
      },
      {
        "duration": 43,
        "start_time": "2022-10-31T05:39:47.102Z"
      },
      {
        "duration": 111,
        "start_time": "2022-10-31T05:39:49.814Z"
      },
      {
        "duration": 29,
        "start_time": "2022-10-31T05:39:51.631Z"
      },
      {
        "duration": 7,
        "start_time": "2022-10-31T05:39:53.951Z"
      },
      {
        "duration": 20,
        "start_time": "2022-10-31T05:39:57.111Z"
      },
      {
        "duration": 7,
        "start_time": "2022-10-31T05:39:59.382Z"
      },
      {
        "duration": 151,
        "start_time": "2022-10-31T05:40:07.078Z"
      },
      {
        "duration": 413,
        "start_time": "2022-10-31T05:40:09.415Z"
      },
      {
        "duration": 140,
        "start_time": "2022-10-31T05:40:14.702Z"
      },
      {
        "duration": 316,
        "start_time": "2022-10-31T05:40:16.727Z"
      },
      {
        "duration": 115,
        "start_time": "2022-10-31T05:40:19.631Z"
      },
      {
        "duration": 302,
        "start_time": "2022-10-31T05:40:22.095Z"
      },
      {
        "duration": 129,
        "start_time": "2022-10-31T05:40:24.575Z"
      },
      {
        "duration": 327,
        "start_time": "2022-10-31T05:40:26.538Z"
      },
      {
        "duration": 324,
        "start_time": "2022-10-31T05:40:28.873Z"
      },
      {
        "duration": 114,
        "start_time": "2022-10-31T05:40:31.199Z"
      },
      {
        "duration": 224,
        "start_time": "2022-10-31T05:40:33.383Z"
      },
      {
        "duration": 117,
        "start_time": "2022-10-31T05:40:35.463Z"
      },
      {
        "duration": 246,
        "start_time": "2022-10-31T05:40:37.672Z"
      },
      {
        "duration": 128,
        "start_time": "2022-10-31T05:40:40.175Z"
      },
      {
        "duration": 140,
        "start_time": "2022-10-31T05:40:42.447Z"
      },
      {
        "duration": 250,
        "start_time": "2022-10-31T05:40:44.215Z"
      },
      {
        "duration": 130,
        "start_time": "2022-10-31T05:40:46.576Z"
      },
      {
        "duration": 324,
        "start_time": "2022-10-31T05:40:48.432Z"
      },
      {
        "duration": 128,
        "start_time": "2022-10-31T05:40:50.625Z"
      },
      {
        "duration": 235,
        "start_time": "2022-10-31T05:40:52.823Z"
      },
      {
        "duration": 123,
        "start_time": "2022-10-31T05:40:55.030Z"
      },
      {
        "duration": 324,
        "start_time": "2022-10-31T05:40:57.136Z"
      },
      {
        "duration": 128,
        "start_time": "2022-10-31T05:40:59.640Z"
      },
      {
        "duration": 133,
        "start_time": "2022-10-31T05:41:01.913Z"
      },
      {
        "duration": 136,
        "start_time": "2022-10-31T05:41:05.008Z"
      },
      {
        "duration": 448,
        "start_time": "2022-10-31T05:45:27.238Z"
      },
      {
        "duration": 243,
        "start_time": "2022-10-31T05:46:02.356Z"
      },
      {
        "duration": 233,
        "start_time": "2022-10-31T05:48:02.184Z"
      },
      {
        "duration": 9,
        "start_time": "2022-10-31T05:48:17.278Z"
      },
      {
        "duration": 7,
        "start_time": "2022-10-31T05:51:23.499Z"
      },
      {
        "duration": 342,
        "start_time": "2022-10-31T06:01:58.431Z"
      },
      {
        "duration": 174,
        "start_time": "2022-10-31T06:02:13.839Z"
      },
      {
        "duration": 205,
        "start_time": "2022-10-31T06:03:10.536Z"
      },
      {
        "duration": 179,
        "start_time": "2022-10-31T06:04:39.296Z"
      },
      {
        "duration": 254,
        "start_time": "2022-10-31T06:08:18.820Z"
      },
      {
        "duration": 213,
        "start_time": "2022-10-31T06:08:31.655Z"
      },
      {
        "duration": 279,
        "start_time": "2022-10-31T06:08:41.391Z"
      },
      {
        "duration": 186,
        "start_time": "2022-10-31T06:08:47.413Z"
      },
      {
        "duration": 186,
        "start_time": "2022-10-31T06:13:48.064Z"
      },
      {
        "duration": 180,
        "start_time": "2022-10-31T06:14:04.392Z"
      },
      {
        "duration": 175,
        "start_time": "2022-10-31T06:16:49.210Z"
      },
      {
        "duration": 164,
        "start_time": "2022-10-31T06:19:35.519Z"
      },
      {
        "duration": 175,
        "start_time": "2022-10-31T06:21:40.192Z"
      },
      {
        "duration": 188,
        "start_time": "2022-10-31T06:22:52.835Z"
      },
      {
        "duration": 165,
        "start_time": "2022-10-31T06:25:36.151Z"
      },
      {
        "duration": 170,
        "start_time": "2022-10-31T06:25:52.924Z"
      },
      {
        "duration": 232,
        "start_time": "2022-10-31T06:32:01.886Z"
      },
      {
        "duration": 276,
        "start_time": "2022-10-31T06:32:59.494Z"
      },
      {
        "duration": 182,
        "start_time": "2022-10-31T06:33:19.367Z"
      },
      {
        "duration": 177,
        "start_time": "2022-10-31T06:33:32.935Z"
      },
      {
        "duration": 178,
        "start_time": "2022-10-31T06:33:52.190Z"
      },
      {
        "duration": 48,
        "start_time": "2022-10-31T06:34:32.480Z"
      },
      {
        "duration": 159,
        "start_time": "2022-10-31T06:36:23.514Z"
      },
      {
        "duration": 175,
        "start_time": "2022-10-31T06:39:10.135Z"
      },
      {
        "duration": 7,
        "start_time": "2022-10-31T06:51:06.171Z"
      },
      {
        "duration": 8,
        "start_time": "2022-10-31T06:51:21.682Z"
      },
      {
        "duration": 9,
        "start_time": "2022-10-31T06:51:28.740Z"
      },
      {
        "duration": 9,
        "start_time": "2022-10-31T06:51:34.227Z"
      },
      {
        "duration": 9,
        "start_time": "2022-10-31T06:53:25.308Z"
      },
      {
        "duration": 17,
        "start_time": "2022-10-31T07:04:20.973Z"
      },
      {
        "duration": 14,
        "start_time": "2022-10-31T07:04:54.070Z"
      },
      {
        "duration": 17,
        "start_time": "2022-10-31T07:06:35.944Z"
      },
      {
        "duration": 895,
        "start_time": "2022-10-31T07:07:10.781Z"
      },
      {
        "duration": 20,
        "start_time": "2022-10-31T07:07:29.072Z"
      },
      {
        "duration": 16,
        "start_time": "2022-10-31T07:07:41.433Z"
      },
      {
        "duration": 36,
        "start_time": "2022-10-31T07:08:32.297Z"
      },
      {
        "duration": 53,
        "start_time": "2022-10-31T07:08:43.475Z"
      },
      {
        "duration": 55,
        "start_time": "2022-10-31T07:08:53.051Z"
      },
      {
        "duration": 59,
        "start_time": "2022-10-31T07:10:41.333Z"
      },
      {
        "duration": 44,
        "start_time": "2022-10-31T07:11:26.100Z"
      },
      {
        "duration": 54,
        "start_time": "2022-10-31T07:11:59.022Z"
      },
      {
        "duration": 60,
        "start_time": "2022-10-31T07:12:02.781Z"
      },
      {
        "duration": 27,
        "start_time": "2022-10-31T07:12:15.300Z"
      },
      {
        "duration": 16,
        "start_time": "2022-10-31T07:12:34.270Z"
      },
      {
        "duration": 16,
        "start_time": "2022-10-31T07:15:05.344Z"
      },
      {
        "duration": 16,
        "start_time": "2022-10-31T07:15:12.472Z"
      },
      {
        "duration": 13,
        "start_time": "2022-10-31T07:15:45.704Z"
      },
      {
        "duration": 14,
        "start_time": "2022-10-31T07:16:42.032Z"
      },
      {
        "duration": 17,
        "start_time": "2022-10-31T07:17:30.931Z"
      },
      {
        "duration": 55,
        "start_time": "2022-10-31T07:21:34.918Z"
      },
      {
        "duration": 10,
        "start_time": "2022-10-31T07:21:45.263Z"
      },
      {
        "duration": 21,
        "start_time": "2022-10-31T07:21:56.511Z"
      },
      {
        "duration": 47,
        "start_time": "2022-10-31T07:22:09.704Z"
      },
      {
        "duration": 13,
        "start_time": "2022-10-31T07:22:24.359Z"
      },
      {
        "duration": 19,
        "start_time": "2022-10-31T07:25:09.938Z"
      },
      {
        "duration": 21,
        "start_time": "2022-10-31T07:25:29.802Z"
      },
      {
        "duration": 194,
        "start_time": "2022-10-31T07:27:43.532Z"
      },
      {
        "duration": 185,
        "start_time": "2022-10-31T07:27:49.659Z"
      },
      {
        "duration": 174,
        "start_time": "2022-10-31T07:27:53.974Z"
      },
      {
        "duration": 174,
        "start_time": "2022-10-31T07:28:55.686Z"
      },
      {
        "duration": 23,
        "start_time": "2022-10-31T07:30:30.671Z"
      },
      {
        "duration": 168,
        "start_time": "2022-10-31T07:30:35.056Z"
      },
      {
        "duration": 18,
        "start_time": "2022-10-31T07:31:11.020Z"
      },
      {
        "duration": 23,
        "start_time": "2022-10-31T07:31:14.428Z"
      },
      {
        "duration": 328,
        "start_time": "2022-10-31T07:32:56.859Z"
      },
      {
        "duration": 173,
        "start_time": "2022-10-31T07:36:10.959Z"
      },
      {
        "duration": 1177,
        "start_time": "2022-11-01T05:53:01.710Z"
      },
      {
        "duration": 16,
        "start_time": "2022-11-01T05:53:06.588Z"
      },
      {
        "duration": 1829,
        "start_time": "2022-11-01T05:53:08.804Z"
      },
      {
        "duration": 8,
        "start_time": "2022-11-01T05:53:13.358Z"
      },
      {
        "duration": 6,
        "start_time": "2022-11-01T05:53:15.349Z"
      },
      {
        "duration": 6,
        "start_time": "2022-11-01T05:53:17.173Z"
      },
      {
        "duration": 22,
        "start_time": "2022-11-01T05:53:18.831Z"
      },
      {
        "duration": 4,
        "start_time": "2022-11-01T05:53:20.943Z"
      },
      {
        "duration": 5,
        "start_time": "2022-11-01T05:53:22.716Z"
      },
      {
        "duration": 16,
        "start_time": "2022-11-01T05:53:24.781Z"
      },
      {
        "duration": 5,
        "start_time": "2022-11-01T05:53:27.211Z"
      },
      {
        "duration": 11,
        "start_time": "2022-11-01T05:53:36.589Z"
      },
      {
        "duration": 5,
        "start_time": "2022-11-01T05:53:38.484Z"
      },
      {
        "duration": 8,
        "start_time": "2022-11-01T05:53:40.725Z"
      },
      {
        "duration": 14,
        "start_time": "2022-11-01T05:53:43.430Z"
      },
      {
        "duration": 5,
        "start_time": "2022-11-01T05:53:45.781Z"
      },
      {
        "duration": 20,
        "start_time": "2022-11-01T05:53:49.830Z"
      },
      {
        "duration": 5,
        "start_time": "2022-11-01T05:53:52.070Z"
      },
      {
        "duration": 254,
        "start_time": "2022-11-01T05:53:56.989Z"
      },
      {
        "duration": 6,
        "start_time": "2022-11-01T05:54:00.045Z"
      },
      {
        "duration": 225,
        "start_time": "2022-11-01T05:57:09.298Z"
      },
      {
        "duration": 5,
        "start_time": "2022-11-01T05:57:12.105Z"
      },
      {
        "duration": 241,
        "start_time": "2022-11-01T05:57:54.635Z"
      },
      {
        "duration": 5,
        "start_time": "2022-11-01T05:57:57.027Z"
      },
      {
        "duration": 779,
        "start_time": "2022-11-01T05:58:19.806Z"
      },
      {
        "duration": 14,
        "start_time": "2022-11-01T05:58:22.923Z"
      },
      {
        "duration": 1929,
        "start_time": "2022-11-01T05:58:24.899Z"
      },
      {
        "duration": 9,
        "start_time": "2022-11-01T05:58:31.750Z"
      },
      {
        "duration": 5,
        "start_time": "2022-11-01T05:58:33.222Z"
      },
      {
        "duration": 8,
        "start_time": "2022-11-01T05:58:34.813Z"
      },
      {
        "duration": 23,
        "start_time": "2022-11-01T05:58:36.182Z"
      },
      {
        "duration": 5,
        "start_time": "2022-11-01T05:58:37.933Z"
      },
      {
        "duration": 5,
        "start_time": "2022-11-01T05:58:40.238Z"
      },
      {
        "duration": 16,
        "start_time": "2022-11-01T05:58:41.853Z"
      },
      {
        "duration": 5,
        "start_time": "2022-11-01T05:58:44.533Z"
      },
      {
        "duration": 10,
        "start_time": "2022-11-01T05:58:46.493Z"
      },
      {
        "duration": 4,
        "start_time": "2022-11-01T05:58:48.085Z"
      },
      {
        "duration": 9,
        "start_time": "2022-11-01T05:58:49.397Z"
      },
      {
        "duration": 13,
        "start_time": "2022-11-01T05:58:50.717Z"
      },
      {
        "duration": 5,
        "start_time": "2022-11-01T05:58:52.741Z"
      },
      {
        "duration": 22,
        "start_time": "2022-11-01T05:58:54.709Z"
      },
      {
        "duration": 5,
        "start_time": "2022-11-01T05:58:56.126Z"
      },
      {
        "duration": 261,
        "start_time": "2022-11-01T05:58:58.619Z"
      },
      {
        "duration": 5,
        "start_time": "2022-11-01T05:59:00.422Z"
      },
      {
        "duration": 11,
        "start_time": "2022-11-01T05:59:03.534Z"
      },
      {
        "duration": 98,
        "start_time": "2022-11-01T05:59:05.670Z"
      },
      {
        "duration": 7,
        "start_time": "2022-11-01T05:59:07.733Z"
      },
      {
        "duration": 99,
        "start_time": "2022-11-01T05:59:09.470Z"
      },
      {
        "duration": 108,
        "start_time": "2022-11-01T05:59:11.101Z"
      },
      {
        "duration": 8,
        "start_time": "2022-11-01T05:59:13.038Z"
      },
      {
        "duration": 40,
        "start_time": "2022-11-01T05:59:14.693Z"
      },
      {
        "duration": 25,
        "start_time": "2022-11-01T05:59:16.871Z"
      },
      {
        "duration": 6,
        "start_time": "2022-11-01T05:59:18.574Z"
      },
      {
        "duration": 240,
        "start_time": "2022-11-01T05:59:20.462Z"
      },
      {
        "duration": 8,
        "start_time": "2022-11-01T05:59:22.471Z"
      },
      {
        "duration": 29,
        "start_time": "2022-11-01T05:59:24.231Z"
      },
      {
        "duration": 6,
        "start_time": "2022-11-01T05:59:26.357Z"
      },
      {
        "duration": 9,
        "start_time": "2022-11-01T05:59:27.598Z"
      },
      {
        "duration": 5,
        "start_time": "2022-11-01T05:59:28.734Z"
      },
      {
        "duration": 7,
        "start_time": "2022-11-01T05:59:30.318Z"
      },
      {
        "duration": 12,
        "start_time": "2022-11-01T05:59:32.166Z"
      },
      {
        "duration": 7,
        "start_time": "2022-11-01T05:59:34.150Z"
      },
      {
        "duration": 6,
        "start_time": "2022-11-01T05:59:36.135Z"
      },
      {
        "duration": 7,
        "start_time": "2022-11-01T05:59:37.671Z"
      },
      {
        "duration": 5,
        "start_time": "2022-11-01T05:59:39.591Z"
      },
      {
        "duration": 5,
        "start_time": "2022-11-01T05:59:40.431Z"
      },
      {
        "duration": 4,
        "start_time": "2022-11-01T05:59:40.926Z"
      },
      {
        "duration": 23,
        "start_time": "2022-11-01T05:59:42.630Z"
      },
      {
        "duration": 117,
        "start_time": "2022-11-01T05:59:45.137Z"
      },
      {
        "duration": 27,
        "start_time": "2022-11-01T05:59:46.846Z"
      },
      {
        "duration": 6,
        "start_time": "2022-11-01T05:59:48.758Z"
      },
      {
        "duration": 14,
        "start_time": "2022-11-01T05:59:50.447Z"
      },
      {
        "duration": 6,
        "start_time": "2022-11-01T05:59:53.142Z"
      },
      {
        "duration": 102,
        "start_time": "2022-11-01T05:59:55.767Z"
      },
      {
        "duration": 363,
        "start_time": "2022-11-01T05:59:57.856Z"
      },
      {
        "duration": 185,
        "start_time": "2022-11-01T06:00:00.231Z"
      },
      {
        "duration": 344,
        "start_time": "2022-11-01T06:00:02.431Z"
      },
      {
        "duration": 153,
        "start_time": "2022-11-01T06:00:04.474Z"
      },
      {
        "duration": 281,
        "start_time": "2022-11-01T06:00:06.496Z"
      },
      {
        "duration": 114,
        "start_time": "2022-11-01T06:00:08.575Z"
      },
      {
        "duration": 280,
        "start_time": "2022-11-01T06:00:10.503Z"
      },
      {
        "duration": 275,
        "start_time": "2022-11-01T06:00:12.472Z"
      },
      {
        "duration": 101,
        "start_time": "2022-11-01T06:00:16.626Z"
      },
      {
        "duration": 211,
        "start_time": "2022-11-01T06:00:18.447Z"
      },
      {
        "duration": 104,
        "start_time": "2022-11-01T06:00:20.839Z"
      },
      {
        "duration": 213,
        "start_time": "2022-11-01T06:00:22.599Z"
      },
      {
        "duration": 106,
        "start_time": "2022-11-01T06:00:24.695Z"
      },
      {
        "duration": 116,
        "start_time": "2022-11-01T06:00:26.431Z"
      },
      {
        "duration": 221,
        "start_time": "2022-11-01T06:00:28.288Z"
      },
      {
        "duration": 110,
        "start_time": "2022-11-01T06:00:30.151Z"
      },
      {
        "duration": 273,
        "start_time": "2022-11-01T06:00:32.192Z"
      },
      {
        "duration": 100,
        "start_time": "2022-11-01T06:00:34.256Z"
      },
      {
        "duration": 223,
        "start_time": "2022-11-01T06:00:36.143Z"
      },
      {
        "duration": 102,
        "start_time": "2022-11-01T06:00:38.127Z"
      },
      {
        "duration": 210,
        "start_time": "2022-11-01T06:00:40.080Z"
      },
      {
        "duration": 114,
        "start_time": "2022-11-01T06:00:42.311Z"
      },
      {
        "duration": 146,
        "start_time": "2022-11-01T06:00:44.440Z"
      },
      {
        "duration": 118,
        "start_time": "2022-11-01T06:00:46.783Z"
      },
      {
        "duration": 214,
        "start_time": "2022-11-01T06:00:48.784Z"
      },
      {
        "duration": 7,
        "start_time": "2022-11-01T06:00:51.089Z"
      },
      {
        "duration": 268,
        "start_time": "2022-11-01T06:00:54.384Z"
      },
      {
        "duration": 166,
        "start_time": "2022-11-01T06:00:56.463Z"
      },
      {
        "duration": 168,
        "start_time": "2022-11-01T06:00:58.288Z"
      },
      {
        "duration": 156,
        "start_time": "2022-11-01T06:01:00.832Z"
      },
      {
        "duration": 159,
        "start_time": "2022-11-01T06:01:04.864Z"
      },
      {
        "duration": 162,
        "start_time": "2022-11-01T06:01:07.320Z"
      },
      {
        "duration": 147,
        "start_time": "2022-11-01T06:01:09.640Z"
      },
      {
        "duration": 155,
        "start_time": "2022-11-01T06:01:11.848Z"
      },
      {
        "duration": 13,
        "start_time": "2022-11-01T06:01:16.336Z"
      },
      {
        "duration": 16,
        "start_time": "2022-11-01T06:01:31.113Z"
      },
      {
        "duration": 91,
        "start_time": "2022-11-01T06:01:37.121Z"
      },
      {
        "duration": 21,
        "start_time": "2022-11-01T06:03:08.222Z"
      },
      {
        "duration": 185,
        "start_time": "2022-11-01T06:03:13.548Z"
      },
      {
        "duration": 803,
        "start_time": "2022-11-01T14:09:32.393Z"
      },
      {
        "duration": 15,
        "start_time": "2022-11-01T14:09:33.198Z"
      },
      {
        "duration": 2094,
        "start_time": "2022-11-01T14:09:33.215Z"
      },
      {
        "duration": 10,
        "start_time": "2022-11-01T14:09:35.311Z"
      },
      {
        "duration": 8,
        "start_time": "2022-11-01T14:09:35.323Z"
      },
      {
        "duration": 8,
        "start_time": "2022-11-01T14:09:35.333Z"
      },
      {
        "duration": 26,
        "start_time": "2022-11-01T14:09:35.343Z"
      },
      {
        "duration": 5,
        "start_time": "2022-11-01T14:09:35.371Z"
      },
      {
        "duration": 21,
        "start_time": "2022-11-01T14:09:35.377Z"
      },
      {
        "duration": 24,
        "start_time": "2022-11-01T14:09:35.401Z"
      },
      {
        "duration": 12,
        "start_time": "2022-11-01T14:09:35.426Z"
      },
      {
        "duration": 26,
        "start_time": "2022-11-01T14:09:35.439Z"
      },
      {
        "duration": 4,
        "start_time": "2022-11-01T14:09:35.467Z"
      },
      {
        "duration": 21,
        "start_time": "2022-11-01T14:09:35.473Z"
      },
      {
        "duration": 20,
        "start_time": "2022-11-01T14:09:35.496Z"
      },
      {
        "duration": 22,
        "start_time": "2022-11-01T14:09:35.518Z"
      },
      {
        "duration": 36,
        "start_time": "2022-11-01T14:09:35.542Z"
      },
      {
        "duration": 6,
        "start_time": "2022-11-01T14:09:35.580Z"
      },
      {
        "duration": 268,
        "start_time": "2022-11-01T14:09:35.588Z"
      },
      {
        "duration": 5,
        "start_time": "2022-11-01T14:09:35.858Z"
      },
      {
        "duration": 20,
        "start_time": "2022-11-01T14:09:35.865Z"
      },
      {
        "duration": 133,
        "start_time": "2022-11-01T14:09:35.886Z"
      },
      {
        "duration": 8,
        "start_time": "2022-11-01T14:09:36.020Z"
      },
      {
        "duration": 118,
        "start_time": "2022-11-01T14:09:36.030Z"
      },
      {
        "duration": 116,
        "start_time": "2022-11-01T14:09:36.153Z"
      },
      {
        "duration": 8,
        "start_time": "2022-11-01T14:09:36.271Z"
      },
      {
        "duration": 48,
        "start_time": "2022-11-01T14:09:36.281Z"
      },
      {
        "duration": 46,
        "start_time": "2022-11-01T14:09:36.334Z"
      },
      {
        "duration": 8,
        "start_time": "2022-11-01T14:09:36.382Z"
      },
      {
        "duration": 309,
        "start_time": "2022-11-01T14:09:36.392Z"
      },
      {
        "duration": 10,
        "start_time": "2022-11-01T14:09:36.702Z"
      },
      {
        "duration": 49,
        "start_time": "2022-11-01T14:09:36.714Z"
      },
      {
        "duration": 5,
        "start_time": "2022-11-01T14:09:36.765Z"
      },
      {
        "duration": 13,
        "start_time": "2022-11-01T14:09:36.772Z"
      },
      {
        "duration": 6,
        "start_time": "2022-11-01T14:09:36.786Z"
      },
      {
        "duration": 8,
        "start_time": "2022-11-01T14:09:36.794Z"
      },
      {
        "duration": 14,
        "start_time": "2022-11-01T14:09:36.804Z"
      },
      {
        "duration": 35,
        "start_time": "2022-11-01T14:09:36.820Z"
      },
      {
        "duration": 13,
        "start_time": "2022-11-01T14:09:36.857Z"
      },
      {
        "duration": 8,
        "start_time": "2022-11-01T14:09:36.871Z"
      },
      {
        "duration": 8,
        "start_time": "2022-11-01T14:09:36.880Z"
      },
      {
        "duration": 7,
        "start_time": "2022-11-01T14:09:36.889Z"
      },
      {
        "duration": 9,
        "start_time": "2022-11-01T14:09:36.898Z"
      },
      {
        "duration": 64,
        "start_time": "2022-11-01T14:09:36.909Z"
      },
      {
        "duration": 126,
        "start_time": "2022-11-01T14:09:36.975Z"
      },
      {
        "duration": 32,
        "start_time": "2022-11-01T14:09:37.103Z"
      },
      {
        "duration": 22,
        "start_time": "2022-11-01T14:09:37.137Z"
      },
      {
        "duration": 18,
        "start_time": "2022-11-01T14:09:37.161Z"
      },
      {
        "duration": 6,
        "start_time": "2022-11-01T14:09:37.181Z"
      },
      {
        "duration": 144,
        "start_time": "2022-11-01T14:09:37.189Z"
      },
      {
        "duration": 463,
        "start_time": "2022-11-01T14:09:37.335Z"
      },
      {
        "duration": 168,
        "start_time": "2022-11-01T14:09:37.800Z"
      },
      {
        "duration": 350,
        "start_time": "2022-11-01T14:09:37.970Z"
      },
      {
        "duration": 138,
        "start_time": "2022-11-01T14:09:38.322Z"
      },
      {
        "duration": 335,
        "start_time": "2022-11-01T14:09:38.462Z"
      },
      {
        "duration": 142,
        "start_time": "2022-11-01T14:09:38.799Z"
      },
      {
        "duration": 338,
        "start_time": "2022-11-01T14:09:38.943Z"
      },
      {
        "duration": 350,
        "start_time": "2022-11-01T14:09:39.283Z"
      },
      {
        "duration": 124,
        "start_time": "2022-11-01T14:09:39.636Z"
      },
      {
        "duration": 245,
        "start_time": "2022-11-01T14:09:39.762Z"
      },
      {
        "duration": 129,
        "start_time": "2022-11-01T14:09:40.009Z"
      },
      {
        "duration": 250,
        "start_time": "2022-11-01T14:09:40.140Z"
      },
      {
        "duration": 141,
        "start_time": "2022-11-01T14:09:40.392Z"
      },
      {
        "duration": 136,
        "start_time": "2022-11-01T14:09:40.536Z"
      },
      {
        "duration": 254,
        "start_time": "2022-11-01T14:09:40.674Z"
      },
      {
        "duration": 139,
        "start_time": "2022-11-01T14:09:40.929Z"
      },
      {
        "duration": 350,
        "start_time": "2022-11-01T14:09:41.070Z"
      },
      {
        "duration": 155,
        "start_time": "2022-11-01T14:09:41.422Z"
      },
      {
        "duration": 332,
        "start_time": "2022-11-01T14:09:41.580Z"
      },
      {
        "duration": 122,
        "start_time": "2022-11-01T14:09:41.914Z"
      },
      {
        "duration": 272,
        "start_time": "2022-11-01T14:09:42.038Z"
      },
      {
        "duration": 150,
        "start_time": "2022-11-01T14:09:42.312Z"
      },
      {
        "duration": 157,
        "start_time": "2022-11-01T14:09:42.464Z"
      },
      {
        "duration": 154,
        "start_time": "2022-11-01T14:09:42.623Z"
      },
      {
        "duration": 258,
        "start_time": "2022-11-01T14:09:42.779Z"
      },
      {
        "duration": 19,
        "start_time": "2022-11-01T14:09:43.039Z"
      },
      {
        "duration": 296,
        "start_time": "2022-11-01T14:09:43.060Z"
      },
      {
        "duration": 191,
        "start_time": "2022-11-01T14:09:43.358Z"
      },
      {
        "duration": 201,
        "start_time": "2022-11-01T14:09:43.553Z"
      },
      {
        "duration": 191,
        "start_time": "2022-11-01T14:09:43.756Z"
      },
      {
        "duration": 190,
        "start_time": "2022-11-01T14:09:43.949Z"
      },
      {
        "duration": 203,
        "start_time": "2022-11-01T14:09:44.145Z"
      },
      {
        "duration": 203,
        "start_time": "2022-11-01T14:09:44.354Z"
      },
      {
        "duration": 221,
        "start_time": "2022-11-01T14:09:44.559Z"
      },
      {
        "duration": 18,
        "start_time": "2022-11-01T14:09:44.782Z"
      },
      {
        "duration": 51,
        "start_time": "2022-11-01T14:09:44.802Z"
      },
      {
        "duration": 211,
        "start_time": "2022-11-01T14:09:44.855Z"
      },
      {
        "duration": 1080,
        "start_time": "2022-11-01T14:36:00.750Z"
      },
      {
        "duration": 82,
        "start_time": "2022-11-01T14:44:17.439Z"
      },
      {
        "duration": 213,
        "start_time": "2022-11-01T14:44:28.090Z"
      },
      {
        "duration": 179,
        "start_time": "2022-11-01T14:44:50.235Z"
      },
      {
        "duration": 166,
        "start_time": "2022-11-01T14:47:24.045Z"
      },
      {
        "duration": 177,
        "start_time": "2022-11-01T14:47:48.516Z"
      },
      {
        "duration": 78,
        "start_time": "2022-11-01T14:48:08.720Z"
      },
      {
        "duration": 19,
        "start_time": "2022-11-01T14:48:15.409Z"
      },
      {
        "duration": 165,
        "start_time": "2022-11-01T14:49:03.286Z"
      },
      {
        "duration": 168,
        "start_time": "2022-11-01T14:49:07.625Z"
      },
      {
        "duration": 254,
        "start_time": "2022-11-01T14:49:38.824Z"
      },
      {
        "duration": 61,
        "start_time": "2022-11-01T14:49:58.740Z"
      },
      {
        "duration": 157,
        "start_time": "2022-11-01T14:50:03.569Z"
      },
      {
        "duration": 754,
        "start_time": "2022-11-01T14:52:23.370Z"
      },
      {
        "duration": 15,
        "start_time": "2022-11-01T14:52:24.126Z"
      },
      {
        "duration": 2058,
        "start_time": "2022-11-01T14:52:24.142Z"
      },
      {
        "duration": 9,
        "start_time": "2022-11-01T14:52:26.203Z"
      },
      {
        "duration": 9,
        "start_time": "2022-11-01T14:52:26.214Z"
      },
      {
        "duration": 10,
        "start_time": "2022-11-01T14:52:26.225Z"
      },
      {
        "duration": 27,
        "start_time": "2022-11-01T14:52:26.237Z"
      },
      {
        "duration": 4,
        "start_time": "2022-11-01T14:52:26.266Z"
      },
      {
        "duration": 28,
        "start_time": "2022-11-01T14:52:26.272Z"
      },
      {
        "duration": 24,
        "start_time": "2022-11-01T14:52:26.303Z"
      },
      {
        "duration": 14,
        "start_time": "2022-11-01T14:52:26.330Z"
      },
      {
        "duration": 14,
        "start_time": "2022-11-01T14:52:26.346Z"
      },
      {
        "duration": 7,
        "start_time": "2022-11-01T14:52:26.362Z"
      },
      {
        "duration": 13,
        "start_time": "2022-11-01T14:52:26.371Z"
      },
      {
        "duration": 17,
        "start_time": "2022-11-01T14:52:26.386Z"
      },
      {
        "duration": 9,
        "start_time": "2022-11-01T14:52:26.405Z"
      },
      {
        "duration": 29,
        "start_time": "2022-11-01T14:52:26.415Z"
      },
      {
        "duration": 6,
        "start_time": "2022-11-01T14:52:26.454Z"
      },
      {
        "duration": 273,
        "start_time": "2022-11-01T14:52:26.461Z"
      },
      {
        "duration": 6,
        "start_time": "2022-11-01T14:52:26.736Z"
      },
      {
        "duration": 9,
        "start_time": "2022-11-01T14:52:26.753Z"
      },
      {
        "duration": 122,
        "start_time": "2022-11-01T14:52:26.764Z"
      },
      {
        "duration": 7,
        "start_time": "2022-11-01T14:52:26.888Z"
      },
      {
        "duration": 117,
        "start_time": "2022-11-01T14:52:26.896Z"
      },
      {
        "duration": 118,
        "start_time": "2022-11-01T14:52:27.015Z"
      },
      {
        "duration": 20,
        "start_time": "2022-11-01T14:52:27.135Z"
      },
      {
        "duration": 48,
        "start_time": "2022-11-01T14:52:27.156Z"
      },
      {
        "duration": 25,
        "start_time": "2022-11-01T14:52:27.208Z"
      },
      {
        "duration": 25,
        "start_time": "2022-11-01T14:52:27.235Z"
      },
      {
        "duration": 272,
        "start_time": "2022-11-01T14:52:27.261Z"
      },
      {
        "duration": 9,
        "start_time": "2022-11-01T14:52:27.535Z"
      },
      {
        "duration": 36,
        "start_time": "2022-11-01T14:52:27.554Z"
      },
      {
        "duration": 5,
        "start_time": "2022-11-01T14:52:27.592Z"
      },
      {
        "duration": 12,
        "start_time": "2022-11-01T14:52:27.598Z"
      },
      {
        "duration": 6,
        "start_time": "2022-11-01T14:52:27.611Z"
      },
      {
        "duration": 8,
        "start_time": "2022-11-01T14:52:27.619Z"
      },
      {
        "duration": 13,
        "start_time": "2022-11-01T14:52:27.655Z"
      },
      {
        "duration": 6,
        "start_time": "2022-11-01T14:52:27.670Z"
      },
      {
        "duration": 7,
        "start_time": "2022-11-01T14:52:27.677Z"
      },
      {
        "duration": 5,
        "start_time": "2022-11-01T14:52:27.686Z"
      },
      {
        "duration": 8,
        "start_time": "2022-11-01T14:52:27.693Z"
      },
      {
        "duration": 5,
        "start_time": "2022-11-01T14:52:27.703Z"
      },
      {
        "duration": 8,
        "start_time": "2022-11-01T14:52:27.710Z"
      },
      {
        "duration": 57,
        "start_time": "2022-11-01T14:52:27.720Z"
      },
      {
        "duration": 125,
        "start_time": "2022-11-01T14:52:27.779Z"
      },
      {
        "duration": 29,
        "start_time": "2022-11-01T14:52:27.905Z"
      },
      {
        "duration": 20,
        "start_time": "2022-11-01T14:52:27.935Z"
      },
      {
        "duration": 16,
        "start_time": "2022-11-01T14:52:27.957Z"
      },
      {
        "duration": 6,
        "start_time": "2022-11-01T14:52:27.975Z"
      },
      {
        "duration": 136,
        "start_time": "2022-11-01T14:52:27.982Z"
      },
      {
        "duration": 485,
        "start_time": "2022-11-01T14:52:28.120Z"
      },
      {
        "duration": 158,
        "start_time": "2022-11-01T14:52:28.606Z"
      },
      {
        "duration": 399,
        "start_time": "2022-11-01T14:52:28.766Z"
      },
      {
        "duration": 128,
        "start_time": "2022-11-01T14:52:29.167Z"
      },
      {
        "duration": 320,
        "start_time": "2022-11-01T14:52:29.297Z"
      },
      {
        "duration": 149,
        "start_time": "2022-11-01T14:52:29.619Z"
      },
      {
        "duration": 339,
        "start_time": "2022-11-01T14:52:29.770Z"
      },
      {
        "duration": 332,
        "start_time": "2022-11-01T14:52:30.111Z"
      },
      {
        "duration": 124,
        "start_time": "2022-11-01T14:52:30.445Z"
      },
      {
        "duration": 258,
        "start_time": "2022-11-01T14:52:30.571Z"
      },
      {
        "duration": 126,
        "start_time": "2022-11-01T14:52:30.831Z"
      },
      {
        "duration": 247,
        "start_time": "2022-11-01T14:52:30.959Z"
      },
      {
        "duration": 130,
        "start_time": "2022-11-01T14:52:31.208Z"
      },
      {
        "duration": 149,
        "start_time": "2022-11-01T14:52:31.340Z"
      },
      {
        "duration": 333,
        "start_time": "2022-11-01T14:52:31.491Z"
      },
      {
        "duration": 140,
        "start_time": "2022-11-01T14:52:31.826Z"
      },
      {
        "duration": 317,
        "start_time": "2022-11-01T14:52:31.975Z"
      },
      {
        "duration": 118,
        "start_time": "2022-11-01T14:52:32.294Z"
      },
      {
        "duration": 258,
        "start_time": "2022-11-01T14:52:32.413Z"
      },
      {
        "duration": 121,
        "start_time": "2022-11-01T14:52:32.673Z"
      },
      {
        "duration": 245,
        "start_time": "2022-11-01T14:52:32.795Z"
      },
      {
        "duration": 128,
        "start_time": "2022-11-01T14:52:33.042Z"
      },
      {
        "duration": 143,
        "start_time": "2022-11-01T14:52:33.172Z"
      },
      {
        "duration": 139,
        "start_time": "2022-11-01T14:52:33.316Z"
      },
      {
        "duration": 246,
        "start_time": "2022-11-01T14:52:33.457Z"
      },
      {
        "duration": 7,
        "start_time": "2022-11-01T14:52:33.705Z"
      },
      {
        "duration": 271,
        "start_time": "2022-11-01T14:52:33.713Z"
      },
      {
        "duration": 176,
        "start_time": "2022-11-01T14:52:33.986Z"
      },
      {
        "duration": 185,
        "start_time": "2022-11-01T14:52:34.163Z"
      },
      {
        "duration": 178,
        "start_time": "2022-11-01T14:52:34.349Z"
      },
      {
        "duration": 191,
        "start_time": "2022-11-01T14:52:34.529Z"
      },
      {
        "duration": 185,
        "start_time": "2022-11-01T14:52:34.725Z"
      },
      {
        "duration": 191,
        "start_time": "2022-11-01T14:52:34.911Z"
      },
      {
        "duration": 167,
        "start_time": "2022-11-01T14:52:35.104Z"
      },
      {
        "duration": 179,
        "start_time": "2022-11-01T14:52:35.273Z"
      },
      {
        "duration": 14,
        "start_time": "2022-11-01T14:52:35.454Z"
      },
      {
        "duration": 20,
        "start_time": "2022-11-01T14:52:35.469Z"
      },
      {
        "duration": 215,
        "start_time": "2022-11-01T14:52:35.491Z"
      },
      {
        "duration": 48,
        "start_time": "2022-11-03T05:51:47.801Z"
      },
      {
        "duration": 1113,
        "start_time": "2022-11-03T05:51:57.901Z"
      },
      {
        "duration": 14,
        "start_time": "2022-11-03T05:52:01.782Z"
      },
      {
        "duration": 1991,
        "start_time": "2022-11-03T05:52:03.597Z"
      },
      {
        "duration": 10,
        "start_time": "2022-11-03T05:52:08.396Z"
      },
      {
        "duration": 5,
        "start_time": "2022-11-03T05:52:10.477Z"
      },
      {
        "duration": 6,
        "start_time": "2022-11-03T05:52:12.253Z"
      },
      {
        "duration": 28,
        "start_time": "2022-11-03T05:52:13.853Z"
      },
      {
        "duration": 7,
        "start_time": "2022-11-03T05:52:15.772Z"
      },
      {
        "duration": 5,
        "start_time": "2022-11-03T05:52:17.805Z"
      },
      {
        "duration": 17,
        "start_time": "2022-11-03T05:52:19.813Z"
      },
      {
        "duration": 7,
        "start_time": "2022-11-03T05:52:52.206Z"
      },
      {
        "duration": 5,
        "start_time": "2022-11-03T05:52:57.142Z"
      },
      {
        "duration": 12,
        "start_time": "2022-11-03T05:53:06.966Z"
      },
      {
        "duration": 4,
        "start_time": "2022-11-03T05:53:19.438Z"
      },
      {
        "duration": 14,
        "start_time": "2022-11-03T05:54:57.323Z"
      },
      {
        "duration": 14,
        "start_time": "2022-11-03T05:55:23.151Z"
      },
      {
        "duration": 8,
        "start_time": "2022-11-03T05:55:38.603Z"
      },
      {
        "duration": 33,
        "start_time": "2022-11-03T05:55:40.570Z"
      },
      {
        "duration": 7,
        "start_time": "2022-11-03T05:55:42.362Z"
      },
      {
        "duration": 43,
        "start_time": "2022-11-03T05:58:38.589Z"
      },
      {
        "duration": 44,
        "start_time": "2022-11-03T06:02:32.209Z"
      },
      {
        "duration": 4,
        "start_time": "2022-11-03T06:02:45.225Z"
      },
      {
        "duration": 5,
        "start_time": "2022-11-03T06:02:48.217Z"
      },
      {
        "duration": 235,
        "start_time": "2022-11-03T06:05:29.045Z"
      },
      {
        "duration": 5,
        "start_time": "2022-11-03T06:05:31.278Z"
      },
      {
        "duration": 52,
        "start_time": "2022-11-03T06:06:38.767Z"
      },
      {
        "duration": 50,
        "start_time": "2022-11-03T06:10:31.216Z"
      },
      {
        "duration": 693,
        "start_time": "2022-11-03T06:11:33.407Z"
      },
      {
        "duration": 16,
        "start_time": "2022-11-03T06:11:36.597Z"
      },
      {
        "duration": 1878,
        "start_time": "2022-11-03T06:11:38.486Z"
      },
      {
        "duration": 10,
        "start_time": "2022-11-03T06:11:42.813Z"
      },
      {
        "duration": 5,
        "start_time": "2022-11-03T06:11:44.622Z"
      },
      {
        "duration": 7,
        "start_time": "2022-11-03T06:11:46.102Z"
      },
      {
        "duration": 27,
        "start_time": "2022-11-03T06:11:48.555Z"
      },
      {
        "duration": 5,
        "start_time": "2022-11-03T06:11:50.525Z"
      },
      {
        "duration": 6,
        "start_time": "2022-11-03T06:11:51.918Z"
      },
      {
        "duration": 19,
        "start_time": "2022-11-03T06:11:53.477Z"
      },
      {
        "duration": 7,
        "start_time": "2022-11-03T06:11:59.589Z"
      },
      {
        "duration": 5,
        "start_time": "2022-11-03T06:12:01.334Z"
      },
      {
        "duration": 12,
        "start_time": "2022-11-03T06:12:09.846Z"
      },
      {
        "duration": 3,
        "start_time": "2022-11-03T06:12:12.126Z"
      },
      {
        "duration": 9,
        "start_time": "2022-11-03T06:12:15.342Z"
      },
      {
        "duration": 14,
        "start_time": "2022-11-03T06:12:16.551Z"
      },
      {
        "duration": 6,
        "start_time": "2022-11-03T06:12:21.558Z"
      },
      {
        "duration": 21,
        "start_time": "2022-11-03T06:12:25.646Z"
      },
      {
        "duration": 5,
        "start_time": "2022-11-03T06:12:27.646Z"
      },
      {
        "duration": 16,
        "start_time": "2022-11-03T06:12:36.895Z"
      },
      {
        "duration": 247,
        "start_time": "2022-11-03T06:12:43.607Z"
      },
      {
        "duration": 7,
        "start_time": "2022-11-03T06:12:48.478Z"
      },
      {
        "duration": 5,
        "start_time": "2022-11-03T06:13:14.031Z"
      },
      {
        "duration": 83,
        "start_time": "2022-11-03T06:22:07.082Z"
      },
      {
        "duration": 10,
        "start_time": "2022-11-03T06:22:15.833Z"
      },
      {
        "duration": 4,
        "start_time": "2022-11-03T06:23:04.851Z"
      },
      {
        "duration": 43,
        "start_time": "2022-11-03T06:24:46.581Z"
      },
      {
        "duration": 8,
        "start_time": "2022-11-03T06:25:48.752Z"
      },
      {
        "duration": 8,
        "start_time": "2022-11-03T06:26:02.440Z"
      },
      {
        "duration": 8,
        "start_time": "2022-11-03T06:26:14.467Z"
      },
      {
        "duration": 113,
        "start_time": "2022-11-03T06:26:16.214Z"
      },
      {
        "duration": 115,
        "start_time": "2022-11-03T06:26:31.798Z"
      },
      {
        "duration": 9,
        "start_time": "2022-11-03T06:26:33.749Z"
      },
      {
        "duration": 46,
        "start_time": "2022-11-03T06:26:35.869Z"
      },
      {
        "duration": 52,
        "start_time": "2022-11-03T06:31:14.004Z"
      },
      {
        "duration": 47,
        "start_time": "2022-11-03T06:31:38.316Z"
      },
      {
        "duration": 8,
        "start_time": "2022-11-03T06:32:04.533Z"
      },
      {
        "duration": 7,
        "start_time": "2022-11-03T06:32:43.166Z"
      },
      {
        "duration": 113,
        "start_time": "2022-11-03T06:32:44.797Z"
      },
      {
        "duration": 8,
        "start_time": "2022-11-03T06:32:47.253Z"
      },
      {
        "duration": 19,
        "start_time": "2022-11-03T06:32:49.014Z"
      },
      {
        "duration": 5,
        "start_time": "2022-11-03T06:32:54.653Z"
      },
      {
        "duration": 9,
        "start_time": "2022-11-03T06:33:47.374Z"
      },
      {
        "duration": 659,
        "start_time": "2022-11-03T06:34:58.824Z"
      },
      {
        "duration": 14,
        "start_time": "2022-11-03T06:35:02.024Z"
      },
      {
        "duration": 2036,
        "start_time": "2022-11-03T06:35:04.192Z"
      },
      {
        "duration": 9,
        "start_time": "2022-11-03T06:35:08.968Z"
      },
      {
        "duration": 6,
        "start_time": "2022-11-03T06:35:10.623Z"
      },
      {
        "duration": 9,
        "start_time": "2022-11-03T06:35:12.465Z"
      },
      {
        "duration": 23,
        "start_time": "2022-11-03T06:35:14.227Z"
      },
      {
        "duration": 5,
        "start_time": "2022-11-03T06:35:16.016Z"
      },
      {
        "duration": 5,
        "start_time": "2022-11-03T06:35:17.697Z"
      },
      {
        "duration": 18,
        "start_time": "2022-11-03T06:35:19.136Z"
      },
      {
        "duration": 7,
        "start_time": "2022-11-03T06:35:23.897Z"
      },
      {
        "duration": 5,
        "start_time": "2022-11-03T06:35:25.112Z"
      },
      {
        "duration": 12,
        "start_time": "2022-11-03T06:35:28.144Z"
      },
      {
        "duration": 3,
        "start_time": "2022-11-03T06:35:30.329Z"
      },
      {
        "duration": 8,
        "start_time": "2022-11-03T06:35:33.401Z"
      },
      {
        "duration": 14,
        "start_time": "2022-11-03T06:35:34.913Z"
      },
      {
        "duration": 5,
        "start_time": "2022-11-03T06:35:37.225Z"
      },
      {
        "duration": 22,
        "start_time": "2022-11-03T06:35:39.129Z"
      },
      {
        "duration": 5,
        "start_time": "2022-11-03T06:35:41.081Z"
      },
      {
        "duration": 16,
        "start_time": "2022-11-03T06:35:44.418Z"
      },
      {
        "duration": 252,
        "start_time": "2022-11-03T06:35:47.104Z"
      },
      {
        "duration": 7,
        "start_time": "2022-11-03T06:35:50.401Z"
      },
      {
        "duration": 5,
        "start_time": "2022-11-03T06:35:56.592Z"
      },
      {
        "duration": 12,
        "start_time": "2022-11-03T06:36:03.160Z"
      },
      {
        "duration": 117,
        "start_time": "2022-11-03T06:36:06.872Z"
      },
      {
        "duration": 5,
        "start_time": "2022-11-03T06:36:09.634Z"
      },
      {
        "duration": 9,
        "start_time": "2022-11-03T06:36:36.057Z"
      },
      {
        "duration": 7,
        "start_time": "2022-11-03T06:36:39.530Z"
      },
      {
        "duration": 106,
        "start_time": "2022-11-03T06:36:42.442Z"
      },
      {
        "duration": 107,
        "start_time": "2022-11-03T06:36:47.210Z"
      },
      {
        "duration": 8,
        "start_time": "2022-11-03T06:36:54.769Z"
      },
      {
        "duration": 28,
        "start_time": "2022-11-03T06:37:22.555Z"
      },
      {
        "duration": 9,
        "start_time": "2022-11-03T06:37:50.707Z"
      },
      {
        "duration": 6,
        "start_time": "2022-11-03T06:38:06.396Z"
      },
      {
        "duration": 119,
        "start_time": "2022-11-03T06:38:09.964Z"
      },
      {
        "duration": 692,
        "start_time": "2022-11-03T06:41:09.228Z"
      },
      {
        "duration": 14,
        "start_time": "2022-11-03T06:41:12.132Z"
      },
      {
        "duration": 2023,
        "start_time": "2022-11-03T06:41:14.205Z"
      },
      {
        "duration": 9,
        "start_time": "2022-11-03T06:41:19.076Z"
      },
      {
        "duration": 5,
        "start_time": "2022-11-03T06:41:20.717Z"
      },
      {
        "duration": 7,
        "start_time": "2022-11-03T06:41:22.476Z"
      },
      {
        "duration": 23,
        "start_time": "2022-11-03T06:41:23.996Z"
      },
      {
        "duration": 5,
        "start_time": "2022-11-03T06:41:25.876Z"
      },
      {
        "duration": 4,
        "start_time": "2022-11-03T06:41:27.853Z"
      },
      {
        "duration": 19,
        "start_time": "2022-11-03T06:41:29.588Z"
      },
      {
        "duration": 7,
        "start_time": "2022-11-03T06:41:33.676Z"
      },
      {
        "duration": 6,
        "start_time": "2022-11-03T06:41:35.245Z"
      },
      {
        "duration": 12,
        "start_time": "2022-11-03T06:41:37.956Z"
      },
      {
        "duration": 4,
        "start_time": "2022-11-03T06:41:40.331Z"
      },
      {
        "duration": 12,
        "start_time": "2022-11-03T06:41:42.485Z"
      },
      {
        "duration": 13,
        "start_time": "2022-11-03T06:41:43.764Z"
      },
      {
        "duration": 6,
        "start_time": "2022-11-03T06:41:46.069Z"
      },
      {
        "duration": 23,
        "start_time": "2022-11-03T06:41:47.853Z"
      },
      {
        "duration": 5,
        "start_time": "2022-11-03T06:41:49.421Z"
      },
      {
        "duration": 15,
        "start_time": "2022-11-03T06:41:52.877Z"
      },
      {
        "duration": 247,
        "start_time": "2022-11-03T06:41:55.453Z"
      },
      {
        "duration": 6,
        "start_time": "2022-11-03T06:41:57.765Z"
      },
      {
        "duration": 5,
        "start_time": "2022-11-03T06:42:06.269Z"
      },
      {
        "duration": 11,
        "start_time": "2022-11-03T06:42:09.022Z"
      },
      {
        "duration": 106,
        "start_time": "2022-11-03T06:42:10.838Z"
      },
      {
        "duration": 5,
        "start_time": "2022-11-03T06:42:14.324Z"
      },
      {
        "duration": 10,
        "start_time": "2022-11-03T06:42:16.413Z"
      },
      {
        "duration": 8,
        "start_time": "2022-11-03T06:42:18.102Z"
      },
      {
        "duration": 105,
        "start_time": "2022-11-03T06:42:20.341Z"
      },
      {
        "duration": 107,
        "start_time": "2022-11-03T06:42:27.084Z"
      },
      {
        "duration": 8,
        "start_time": "2022-11-03T06:42:30.125Z"
      },
      {
        "duration": 28,
        "start_time": "2022-11-03T06:42:34.454Z"
      },
      {
        "duration": 9,
        "start_time": "2022-11-03T06:42:40.271Z"
      },
      {
        "duration": 8,
        "start_time": "2022-11-03T06:42:42.886Z"
      },
      {
        "duration": 249,
        "start_time": "2022-11-03T06:42:45.798Z"
      },
      {
        "duration": 9,
        "start_time": "2022-11-03T06:42:53.792Z"
      },
      {
        "duration": 34,
        "start_time": "2022-11-03T06:42:57.078Z"
      },
      {
        "duration": 5,
        "start_time": "2022-11-03T06:43:11.440Z"
      },
      {
        "duration": 60,
        "start_time": "2022-11-03T06:45:57.122Z"
      },
      {
        "duration": 5,
        "start_time": "2022-11-03T06:46:02.876Z"
      },
      {
        "duration": 6,
        "start_time": "2022-11-03T06:46:07.081Z"
      },
      {
        "duration": 7,
        "start_time": "2022-11-03T06:46:22.550Z"
      },
      {
        "duration": 13,
        "start_time": "2022-11-03T06:48:33.661Z"
      },
      {
        "duration": 7,
        "start_time": "2022-11-03T06:48:36.601Z"
      },
      {
        "duration": 56,
        "start_time": "2022-11-03T06:50:45.090Z"
      },
      {
        "duration": 9,
        "start_time": "2022-11-03T06:51:46.642Z"
      },
      {
        "duration": 10,
        "start_time": "2022-11-03T06:52:20.132Z"
      },
      {
        "duration": 112,
        "start_time": "2022-11-03T06:53:20.002Z"
      },
      {
        "duration": 74,
        "start_time": "2022-11-03T06:58:18.921Z"
      },
      {
        "duration": 699,
        "start_time": "2022-11-03T06:58:51.260Z"
      },
      {
        "duration": 5,
        "start_time": "2022-11-03T06:59:37.060Z"
      },
      {
        "duration": 4,
        "start_time": "2022-11-03T06:59:46.665Z"
      },
      {
        "duration": 83,
        "start_time": "2022-11-03T07:01:01.507Z"
      },
      {
        "duration": 4,
        "start_time": "2022-11-03T07:04:57.791Z"
      },
      {
        "duration": 5,
        "start_time": "2022-11-03T07:05:05.528Z"
      },
      {
        "duration": 5,
        "start_time": "2022-11-03T07:05:16.515Z"
      },
      {
        "duration": 8,
        "start_time": "2022-11-03T07:08:44.900Z"
      },
      {
        "duration": 196,
        "start_time": "2022-11-03T07:08:56.516Z"
      },
      {
        "duration": 62,
        "start_time": "2022-11-03T07:09:46.256Z"
      },
      {
        "duration": 10,
        "start_time": "2022-11-03T07:10:30.451Z"
      },
      {
        "duration": 99,
        "start_time": "2022-11-03T07:10:41.730Z"
      },
      {
        "duration": 70,
        "start_time": "2022-11-03T07:12:25.666Z"
      },
      {
        "duration": 122,
        "start_time": "2022-11-03T07:12:53.801Z"
      },
      {
        "duration": 9,
        "start_time": "2022-11-03T07:14:13.022Z"
      },
      {
        "duration": 726,
        "start_time": "2022-11-03T07:16:20.980Z"
      },
      {
        "duration": 16,
        "start_time": "2022-11-03T07:16:26.476Z"
      },
      {
        "duration": 1980,
        "start_time": "2022-11-03T07:16:28.372Z"
      },
      {
        "duration": 10,
        "start_time": "2022-11-03T07:16:32.940Z"
      },
      {
        "duration": 5,
        "start_time": "2022-11-03T07:16:34.548Z"
      },
      {
        "duration": 7,
        "start_time": "2022-11-03T07:16:35.893Z"
      },
      {
        "duration": 23,
        "start_time": "2022-11-03T07:16:37.371Z"
      },
      {
        "duration": 5,
        "start_time": "2022-11-03T07:16:39.547Z"
      },
      {
        "duration": 5,
        "start_time": "2022-11-03T07:16:40.652Z"
      },
      {
        "duration": 18,
        "start_time": "2022-11-03T07:16:42.077Z"
      },
      {
        "duration": 6,
        "start_time": "2022-11-03T07:16:45.045Z"
      },
      {
        "duration": 5,
        "start_time": "2022-11-03T07:16:46.633Z"
      },
      {
        "duration": 12,
        "start_time": "2022-11-03T07:16:49.708Z"
      },
      {
        "duration": 3,
        "start_time": "2022-11-03T07:16:51.462Z"
      },
      {
        "duration": 8,
        "start_time": "2022-11-03T07:16:53.892Z"
      },
      {
        "duration": 17,
        "start_time": "2022-11-03T07:16:55.308Z"
      },
      {
        "duration": 6,
        "start_time": "2022-11-03T07:16:57.188Z"
      },
      {
        "duration": 23,
        "start_time": "2022-11-03T07:16:58.580Z"
      },
      {
        "duration": 5,
        "start_time": "2022-11-03T07:17:00.429Z"
      },
      {
        "duration": 16,
        "start_time": "2022-11-03T07:17:05.092Z"
      },
      {
        "duration": 234,
        "start_time": "2022-11-03T07:17:07.356Z"
      },
      {
        "duration": 6,
        "start_time": "2022-11-03T07:17:09.380Z"
      },
      {
        "duration": 6,
        "start_time": "2022-11-03T07:17:12.245Z"
      },
      {
        "duration": 11,
        "start_time": "2022-11-03T07:17:13.829Z"
      },
      {
        "duration": 106,
        "start_time": "2022-11-03T07:17:16.631Z"
      },
      {
        "duration": 5,
        "start_time": "2022-11-03T07:17:19.020Z"
      },
      {
        "duration": 11,
        "start_time": "2022-11-03T07:17:20.572Z"
      },
      {
        "duration": 9,
        "start_time": "2022-11-03T07:17:23.500Z"
      },
      {
        "duration": 96,
        "start_time": "2022-11-03T07:17:26.647Z"
      },
      {
        "duration": 103,
        "start_time": "2022-11-03T07:17:32.892Z"
      },
      {
        "duration": 7,
        "start_time": "2022-11-03T07:17:36.405Z"
      },
      {
        "duration": 27,
        "start_time": "2022-11-03T07:17:45.684Z"
      },
      {
        "duration": 11,
        "start_time": "2022-11-03T07:17:49.165Z"
      },
      {
        "duration": 8,
        "start_time": "2022-11-03T07:17:50.733Z"
      },
      {
        "duration": 241,
        "start_time": "2022-11-03T07:17:52.741Z"
      },
      {
        "duration": 10,
        "start_time": "2022-11-03T07:17:56.565Z"
      },
      {
        "duration": 37,
        "start_time": "2022-11-03T07:18:01.231Z"
      },
      {
        "duration": 6,
        "start_time": "2022-11-03T07:18:07.614Z"
      },
      {
        "duration": 5,
        "start_time": "2022-11-03T07:18:12.198Z"
      },
      {
        "duration": 6,
        "start_time": "2022-11-03T07:18:13.549Z"
      },
      {
        "duration": 7,
        "start_time": "2022-11-03T07:18:16.209Z"
      },
      {
        "duration": 13,
        "start_time": "2022-11-03T07:18:21.751Z"
      },
      {
        "duration": 6,
        "start_time": "2022-11-03T07:18:24.765Z"
      },
      {
        "duration": 10,
        "start_time": "2022-11-03T07:18:27.537Z"
      },
      {
        "duration": 4,
        "start_time": "2022-11-03T07:18:29.590Z"
      },
      {
        "duration": 4,
        "start_time": "2022-11-03T07:18:31.358Z"
      },
      {
        "duration": 6,
        "start_time": "2022-11-03T07:18:43.438Z"
      },
      {
        "duration": 9,
        "start_time": "2022-11-03T07:18:45.982Z"
      },
      {
        "duration": 111,
        "start_time": "2022-11-03T07:18:47.328Z"
      },
      {
        "duration": 9,
        "start_time": "2022-11-03T07:18:56.887Z"
      },
      {
        "duration": 206,
        "start_time": "2022-11-03T07:18:58.758Z"
      },
      {
        "duration": 103,
        "start_time": "2022-11-03T07:19:17.142Z"
      },
      {
        "duration": 8,
        "start_time": "2022-11-03T07:19:23.289Z"
      },
      {
        "duration": 122,
        "start_time": "2022-11-03T07:20:03.351Z"
      },
      {
        "duration": 17,
        "start_time": "2022-11-03T07:20:56.425Z"
      },
      {
        "duration": 19,
        "start_time": "2022-11-03T07:21:30.046Z"
      },
      {
        "duration": 349,
        "start_time": "2022-11-03T07:23:23.217Z"
      },
      {
        "duration": 106,
        "start_time": "2022-11-03T07:23:44.724Z"
      },
      {
        "duration": 48,
        "start_time": "2022-11-03T07:25:57.367Z"
      },
      {
        "duration": 4,
        "start_time": "2022-11-03T07:26:55.112Z"
      },
      {
        "duration": 65,
        "start_time": "2022-11-03T07:27:13.721Z"
      },
      {
        "duration": 7,
        "start_time": "2022-11-03T07:28:09.937Z"
      },
      {
        "duration": 902,
        "start_time": "2022-11-03T07:29:20.043Z"
      },
      {
        "duration": 4,
        "start_time": "2022-11-03T07:29:26.227Z"
      },
      {
        "duration": 60,
        "start_time": "2022-11-03T07:30:20.781Z"
      },
      {
        "duration": 9,
        "start_time": "2022-11-03T07:31:15.509Z"
      },
      {
        "duration": 10,
        "start_time": "2022-11-03T07:31:45.329Z"
      },
      {
        "duration": 5,
        "start_time": "2022-11-03T07:31:46.581Z"
      },
      {
        "duration": 8,
        "start_time": "2022-11-03T07:31:48.485Z"
      },
      {
        "duration": 6,
        "start_time": "2022-11-03T07:31:49.343Z"
      },
      {
        "duration": 7,
        "start_time": "2022-11-03T07:31:50.142Z"
      },
      {
        "duration": 30,
        "start_time": "2022-11-03T07:31:51.742Z"
      },
      {
        "duration": 58,
        "start_time": "2022-11-03T07:32:39.631Z"
      },
      {
        "duration": 12,
        "start_time": "2022-11-03T07:33:06.984Z"
      },
      {
        "duration": 29,
        "start_time": "2022-11-03T07:33:13.487Z"
      },
      {
        "duration": 8,
        "start_time": "2022-11-03T07:33:15.751Z"
      },
      {
        "duration": 15,
        "start_time": "2022-11-03T07:33:18.783Z"
      },
      {
        "duration": 6,
        "start_time": "2022-11-03T07:33:20.664Z"
      },
      {
        "duration": 127,
        "start_time": "2022-11-03T07:33:23.342Z"
      },
      {
        "duration": 321,
        "start_time": "2022-11-03T07:33:25.791Z"
      },
      {
        "duration": 148,
        "start_time": "2022-11-03T07:33:28.502Z"
      },
      {
        "duration": 331,
        "start_time": "2022-11-03T07:33:30.680Z"
      },
      {
        "duration": 132,
        "start_time": "2022-11-03T07:33:38.351Z"
      },
      {
        "duration": 395,
        "start_time": "2022-11-03T07:33:40.391Z"
      },
      {
        "duration": 122,
        "start_time": "2022-11-03T07:33:43.391Z"
      },
      {
        "duration": 307,
        "start_time": "2022-11-03T07:33:45.303Z"
      },
      {
        "duration": 234,
        "start_time": "2022-11-03T07:33:48.287Z"
      },
      {
        "duration": 110,
        "start_time": "2022-11-03T07:33:50.552Z"
      },
      {
        "duration": 252,
        "start_time": "2022-11-03T07:33:52.336Z"
      },
      {
        "duration": 107,
        "start_time": "2022-11-03T07:33:54.743Z"
      },
      {
        "duration": 246,
        "start_time": "2022-11-03T07:34:00.503Z"
      },
      {
        "duration": 129,
        "start_time": "2022-11-03T07:34:03.048Z"
      },
      {
        "duration": 196,
        "start_time": "2022-11-03T07:34:05.423Z"
      },
      {
        "duration": 243,
        "start_time": "2022-11-03T07:34:08.458Z"
      },
      {
        "duration": 117,
        "start_time": "2022-11-03T07:34:10.977Z"
      },
      {
        "duration": 217,
        "start_time": "2022-11-03T07:34:12.951Z"
      },
      {
        "duration": 101,
        "start_time": "2022-11-03T07:34:15.385Z"
      },
      {
        "duration": 222,
        "start_time": "2022-11-03T07:34:17.999Z"
      },
      {
        "duration": 119,
        "start_time": "2022-11-03T07:34:20.704Z"
      },
      {
        "duration": 269,
        "start_time": "2022-11-03T07:34:22.535Z"
      },
      {
        "duration": 193,
        "start_time": "2022-11-03T07:34:28.609Z"
      },
      {
        "duration": 132,
        "start_time": "2022-11-03T07:34:31.216Z"
      },
      {
        "duration": 123,
        "start_time": "2022-11-03T07:34:34.300Z"
      },
      {
        "duration": 230,
        "start_time": "2022-11-03T07:34:36.288Z"
      },
      {
        "duration": 7,
        "start_time": "2022-11-03T07:34:38.704Z"
      },
      {
        "duration": 179,
        "start_time": "2022-11-03T07:35:26.306Z"
      },
      {
        "duration": 97,
        "start_time": "2022-11-03T07:36:26.594Z"
      },
      {
        "duration": 190,
        "start_time": "2022-11-03T07:36:42.659Z"
      },
      {
        "duration": 182,
        "start_time": "2022-11-03T07:37:18.531Z"
      },
      {
        "duration": 179,
        "start_time": "2022-11-03T07:40:16.480Z"
      },
      {
        "duration": 180,
        "start_time": "2022-11-03T07:40:32.151Z"
      },
      {
        "duration": 140,
        "start_time": "2022-11-03T07:42:58.491Z"
      },
      {
        "duration": 204,
        "start_time": "2022-11-03T07:44:20.481Z"
      },
      {
        "duration": 152,
        "start_time": "2022-11-03T07:44:34.661Z"
      },
      {
        "duration": 184,
        "start_time": "2022-11-03T07:45:50.173Z"
      },
      {
        "duration": 153,
        "start_time": "2022-11-03T07:47:03.751Z"
      },
      {
        "duration": 23,
        "start_time": "2022-11-03T07:47:18.191Z"
      },
      {
        "duration": 17,
        "start_time": "2022-11-03T07:47:20.015Z"
      },
      {
        "duration": 22,
        "start_time": "2022-11-03T07:47:22.920Z"
      },
      {
        "duration": 160,
        "start_time": "2022-11-03T07:47:29.968Z"
      },
      {
        "duration": 157,
        "start_time": "2022-11-03T07:47:40.720Z"
      },
      {
        "duration": 161,
        "start_time": "2022-11-03T07:48:37.449Z"
      },
      {
        "duration": 767,
        "start_time": "2022-11-03T14:20:44.256Z"
      },
      {
        "duration": 12,
        "start_time": "2022-11-03T14:20:45.025Z"
      },
      {
        "duration": 1768,
        "start_time": "2022-11-03T14:20:45.039Z"
      },
      {
        "duration": 8,
        "start_time": "2022-11-03T14:20:46.810Z"
      },
      {
        "duration": 5,
        "start_time": "2022-11-03T14:20:46.820Z"
      },
      {
        "duration": 9,
        "start_time": "2022-11-03T14:20:46.826Z"
      },
      {
        "duration": 21,
        "start_time": "2022-11-03T14:20:46.837Z"
      },
      {
        "duration": 4,
        "start_time": "2022-11-03T14:20:46.860Z"
      },
      {
        "duration": 6,
        "start_time": "2022-11-03T14:20:46.877Z"
      },
      {
        "duration": 18,
        "start_time": "2022-11-03T14:20:46.888Z"
      },
      {
        "duration": 10,
        "start_time": "2022-11-03T14:20:46.908Z"
      },
      {
        "duration": 6,
        "start_time": "2022-11-03T14:20:46.919Z"
      },
      {
        "duration": 12,
        "start_time": "2022-11-03T14:20:46.926Z"
      },
      {
        "duration": 2,
        "start_time": "2022-11-03T14:20:46.939Z"
      },
      {
        "duration": 11,
        "start_time": "2022-11-03T14:20:46.943Z"
      },
      {
        "duration": 30,
        "start_time": "2022-11-03T14:20:46.955Z"
      },
      {
        "duration": 12,
        "start_time": "2022-11-03T14:20:46.987Z"
      },
      {
        "duration": 26,
        "start_time": "2022-11-03T14:20:47.001Z"
      },
      {
        "duration": 4,
        "start_time": "2022-11-03T14:20:47.029Z"
      },
      {
        "duration": 19,
        "start_time": "2022-11-03T14:20:47.035Z"
      },
      {
        "duration": 244,
        "start_time": "2022-11-03T14:20:47.056Z"
      },
      {
        "duration": 252,
        "start_time": "2022-11-03T14:20:47.301Z"
      },
      {
        "duration": 5,
        "start_time": "2022-11-03T14:20:47.554Z"
      },
      {
        "duration": 19,
        "start_time": "2022-11-03T14:20:47.561Z"
      },
      {
        "duration": 31,
        "start_time": "2022-11-03T14:20:47.587Z"
      },
      {
        "duration": 128,
        "start_time": "2022-11-03T14:20:47.620Z"
      },
      {
        "duration": 5,
        "start_time": "2022-11-03T14:20:47.750Z"
      },
      {
        "duration": 23,
        "start_time": "2022-11-03T14:20:47.759Z"
      },
      {
        "duration": 29,
        "start_time": "2022-11-03T14:20:47.784Z"
      },
      {
        "duration": 121,
        "start_time": "2022-11-03T14:20:47.814Z"
      },
      {
        "duration": 101,
        "start_time": "2022-11-03T14:20:47.936Z"
      },
      {
        "duration": 6,
        "start_time": "2022-11-03T14:20:48.039Z"
      },
      {
        "duration": 38,
        "start_time": "2022-11-03T14:20:48.047Z"
      },
      {
        "duration": 24,
        "start_time": "2022-11-03T14:20:48.087Z"
      },
      {
        "duration": 9,
        "start_time": "2022-11-03T14:20:48.112Z"
      },
      {
        "duration": 6,
        "start_time": "2022-11-03T14:20:48.122Z"
      },
      {
        "duration": 266,
        "start_time": "2022-11-03T14:20:48.130Z"
      },
      {
        "duration": 8,
        "start_time": "2022-11-03T14:20:48.397Z"
      },
      {
        "duration": 28,
        "start_time": "2022-11-03T14:20:48.407Z"
      },
      {
        "duration": 4,
        "start_time": "2022-11-03T14:20:48.436Z"
      },
      {
        "duration": 10,
        "start_time": "2022-11-03T14:20:48.442Z"
      },
      {
        "duration": 27,
        "start_time": "2022-11-03T14:20:48.453Z"
      },
      {
        "duration": 9,
        "start_time": "2022-11-03T14:20:48.482Z"
      },
      {
        "duration": 10,
        "start_time": "2022-11-03T14:20:48.493Z"
      },
      {
        "duration": 14,
        "start_time": "2022-11-03T14:20:48.504Z"
      },
      {
        "duration": 11,
        "start_time": "2022-11-03T14:20:48.519Z"
      },
      {
        "duration": 6,
        "start_time": "2022-11-03T14:20:48.532Z"
      },
      {
        "duration": 8,
        "start_time": "2022-11-03T14:20:48.540Z"
      },
      {
        "duration": 3,
        "start_time": "2022-11-03T14:20:48.580Z"
      },
      {
        "duration": 12,
        "start_time": "2022-11-03T14:20:48.585Z"
      },
      {
        "duration": 10,
        "start_time": "2022-11-03T14:20:48.598Z"
      },
      {
        "duration": 8,
        "start_time": "2022-11-03T14:20:48.610Z"
      },
      {
        "duration": 113,
        "start_time": "2022-11-03T14:20:48.619Z"
      },
      {
        "duration": 7,
        "start_time": "2022-11-03T14:20:48.734Z"
      },
      {
        "duration": 205,
        "start_time": "2022-11-03T14:20:48.742Z"
      },
      {
        "duration": 99,
        "start_time": "2022-11-03T14:20:48.949Z"
      },
      {
        "duration": 7,
        "start_time": "2022-11-03T14:20:49.050Z"
      },
      {
        "duration": 27,
        "start_time": "2022-11-03T14:20:49.059Z"
      },
      {
        "duration": 105,
        "start_time": "2022-11-03T14:20:49.088Z"
      },
      {
        "duration": 5,
        "start_time": "2022-11-03T14:20:49.197Z"
      },
      {
        "duration": 9,
        "start_time": "2022-11-03T14:20:49.203Z"
      },
      {
        "duration": 4,
        "start_time": "2022-11-03T14:20:49.214Z"
      },
      {
        "duration": 7,
        "start_time": "2022-11-03T14:20:49.219Z"
      },
      {
        "duration": 6,
        "start_time": "2022-11-03T14:20:49.227Z"
      },
      {
        "duration": 8,
        "start_time": "2022-11-03T14:20:49.234Z"
      },
      {
        "duration": 33,
        "start_time": "2022-11-03T14:20:49.244Z"
      },
      {
        "duration": 8,
        "start_time": "2022-11-03T14:20:49.280Z"
      },
      {
        "duration": 14,
        "start_time": "2022-11-03T14:20:49.289Z"
      },
      {
        "duration": 22,
        "start_time": "2022-11-03T14:20:49.304Z"
      },
      {
        "duration": 120,
        "start_time": "2022-11-03T14:20:49.327Z"
      },
      {
        "duration": 7,
        "start_time": "2022-11-03T14:20:49.448Z"
      },
      {
        "duration": 38,
        "start_time": "2022-11-03T14:20:49.457Z"
      },
      {
        "duration": 7,
        "start_time": "2022-11-03T14:20:49.498Z"
      },
      {
        "duration": 14,
        "start_time": "2022-11-03T14:20:49.507Z"
      },
      {
        "duration": 5,
        "start_time": "2022-11-03T14:20:49.523Z"
      },
      {
        "duration": 149,
        "start_time": "2022-11-03T14:20:49.530Z"
      },
      {
        "duration": 315,
        "start_time": "2022-11-03T14:20:49.682Z"
      },
      {
        "duration": 115,
        "start_time": "2022-11-03T14:20:49.999Z"
      },
      {
        "duration": 314,
        "start_time": "2022-11-03T14:20:50.116Z"
      },
      {
        "duration": 124,
        "start_time": "2022-11-03T14:20:50.432Z"
      },
      {
        "duration": 352,
        "start_time": "2022-11-03T14:20:50.557Z"
      },
      {
        "duration": 122,
        "start_time": "2022-11-03T14:20:50.914Z"
      },
      {
        "duration": 291,
        "start_time": "2022-11-03T14:20:51.038Z"
      },
      {
        "duration": 214,
        "start_time": "2022-11-03T14:20:51.330Z"
      },
      {
        "duration": 111,
        "start_time": "2022-11-03T14:20:51.545Z"
      },
      {
        "duration": 218,
        "start_time": "2022-11-03T14:20:51.657Z"
      },
      {
        "duration": 117,
        "start_time": "2022-11-03T14:20:51.876Z"
      },
      {
        "duration": 215,
        "start_time": "2022-11-03T14:20:51.994Z"
      },
      {
        "duration": 123,
        "start_time": "2022-11-03T14:20:52.210Z"
      },
      {
        "duration": 201,
        "start_time": "2022-11-03T14:20:52.335Z"
      },
      {
        "duration": 248,
        "start_time": "2022-11-03T14:20:52.537Z"
      },
      {
        "duration": 119,
        "start_time": "2022-11-03T14:20:52.786Z"
      },
      {
        "duration": 217,
        "start_time": "2022-11-03T14:20:52.906Z"
      },
      {
        "duration": 103,
        "start_time": "2022-11-03T14:20:53.124Z"
      },
      {
        "duration": 213,
        "start_time": "2022-11-03T14:20:53.228Z"
      },
      {
        "duration": 104,
        "start_time": "2022-11-03T14:20:53.442Z"
      },
      {
        "duration": 204,
        "start_time": "2022-11-03T14:20:53.547Z"
      },
      {
        "duration": 186,
        "start_time": "2022-11-03T14:20:53.752Z"
      },
      {
        "duration": 134,
        "start_time": "2022-11-03T14:20:53.940Z"
      },
      {
        "duration": 115,
        "start_time": "2022-11-03T14:20:54.077Z"
      },
      {
        "duration": 222,
        "start_time": "2022-11-03T14:20:54.194Z"
      },
      {
        "duration": 6,
        "start_time": "2022-11-03T14:20:54.417Z"
      },
      {
        "duration": 178,
        "start_time": "2022-11-03T14:20:54.425Z"
      },
      {
        "duration": 166,
        "start_time": "2022-11-03T14:20:54.604Z"
      },
      {
        "duration": 160,
        "start_time": "2022-11-03T14:20:54.771Z"
      },
      {
        "duration": 181,
        "start_time": "2022-11-03T14:20:54.932Z"
      },
      {
        "duration": 156,
        "start_time": "2022-11-03T14:20:55.114Z"
      },
      {
        "duration": 174,
        "start_time": "2022-11-03T14:20:55.272Z"
      },
      {
        "duration": 212,
        "start_time": "2022-11-03T14:20:55.447Z"
      },
      {
        "duration": 157,
        "start_time": "2022-11-03T14:20:55.661Z"
      },
      {
        "duration": 186,
        "start_time": "2022-11-03T14:20:55.820Z"
      },
      {
        "duration": 169,
        "start_time": "2022-11-03T14:20:56.008Z"
      },
      {
        "duration": 118,
        "start_time": "2022-11-03T14:20:56.179Z"
      },
      {
        "duration": 160,
        "start_time": "2022-11-03T14:20:56.299Z"
      },
      {
        "duration": 146,
        "start_time": "2022-11-03T14:20:56.461Z"
      },
      {
        "duration": 151,
        "start_time": "2022-11-03T14:20:56.609Z"
      },
      {
        "duration": 165,
        "start_time": "2022-11-03T14:20:56.761Z"
      },
      {
        "duration": 153,
        "start_time": "2022-11-03T14:20:56.927Z"
      },
      {
        "duration": 142,
        "start_time": "2022-11-03T14:20:57.081Z"
      },
      {
        "duration": 12,
        "start_time": "2022-11-03T14:20:57.224Z"
      },
      {
        "duration": 22,
        "start_time": "2022-11-03T14:20:57.238Z"
      },
      {
        "duration": 90,
        "start_time": "2022-11-03T14:20:57.261Z"
      },
      {
        "duration": 0,
        "start_time": "2022-11-03T14:20:57.352Z"
      },
      {
        "duration": 41,
        "start_time": "2022-11-03T14:23:52.237Z"
      },
      {
        "duration": 10,
        "start_time": "2022-11-03T14:28:05.129Z"
      },
      {
        "duration": 206,
        "start_time": "2022-11-03T14:28:24.210Z"
      }
    ],
    "kernelspec": {
      "display_name": "Python 3 (ipykernel)",
      "language": "python",
      "name": "python3"
    },
    "language_info": {
      "codemirror_mode": {
        "name": "ipython",
        "version": 3
      },
      "file_extension": ".py",
      "mimetype": "text/x-python",
      "name": "python",
      "nbconvert_exporter": "python",
      "pygments_lexer": "ipython3",
      "version": "3.9.5"
    },
    "toc": {
      "base_numbering": 1,
      "nav_menu": {},
      "number_sections": true,
      "sideBar": true,
      "skip_h1_title": true,
      "title_cell": "Table of Contents",
      "title_sidebar": "Contents",
      "toc_cell": false,
      "toc_position": {},
      "toc_section_display": true,
      "toc_window_display": false
    },
    "colab": {
      "provenance": []
    }
  },
  "nbformat": 4,
  "nbformat_minor": 0
}