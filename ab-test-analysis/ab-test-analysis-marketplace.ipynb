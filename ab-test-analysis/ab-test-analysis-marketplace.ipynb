{
 "cells": [
  {
   "cell_type": "markdown",
   "metadata": {},
   "source": [
    "# Анализ гипотез для увеличения выручки интернет-магазина "
   ]
  },
  {
   "cell_type": "markdown",
   "metadata": {},
   "source": [
    "<b>Описание проекта:</b>\n",
    "<br>Вместе с отделом маркетинга был подготовлен список гипотез для увеличения выручки компании.</br>\n",
    "<br>Предстоит провести приоритизацию гипотез, запустить A/B-тест и проанализировать результаты. </br>\n",
    "<br>Выдвинуты 9 гипотез по увеличению выручки интернет-магазина с указанными параметрами Reach, Impact, Confidence, Effort.</br>\n",
    "<br>Был проведён A/B-тест и получены результаты, которые описаны в файлах /datasets/orders.csv и /datasets/visitors.csv</br>"
   ]
  },
  {
   "cell_type": "markdown",
   "metadata": {},
   "source": [
    "### Изучение данных и подготовка их к анализу"
   ]
  },
  {
   "cell_type": "markdown",
   "metadata": {},
   "source": [
    "#### Открытие и изучение файлов"
   ]
  },
  {
   "cell_type": "code",
   "execution_count": 1,
   "metadata": {},
   "outputs": [],
   "source": [
    "# Импортируем необходимые библиотеки \n",
    "import pandas as pd\n",
    "import scipy.stats as stats\n",
    "import numpy as np\n",
    "import datetime as dt\n",
    "from matplotlib import pyplot as plt\n",
    "import seaborn as sns\n",
    "from pandas.plotting import register_matplotlib_converters\n",
    "import warnings\n",
    "register_matplotlib_converters()\n"
   ]
  },
  {
   "cell_type": "code",
   "execution_count": 2,
   "metadata": {},
   "outputs": [
    {
     "data": {
      "text/html": [
       "<div>\n",
       "<style scoped>\n",
       "    .dataframe tbody tr th:only-of-type {\n",
       "        vertical-align: middle;\n",
       "    }\n",
       "\n",
       "    .dataframe tbody tr th {\n",
       "        vertical-align: top;\n",
       "    }\n",
       "\n",
       "    .dataframe thead th {\n",
       "        text-align: right;\n",
       "    }\n",
       "</style>\n",
       "<table border=\"1\" class=\"dataframe\">\n",
       "  <thead>\n",
       "    <tr style=\"text-align: right;\">\n",
       "      <th></th>\n",
       "      <th>Hypothesis</th>\n",
       "      <th>Reach</th>\n",
       "      <th>Impact</th>\n",
       "      <th>Confidence</th>\n",
       "      <th>Efforts</th>\n",
       "    </tr>\n",
       "  </thead>\n",
       "  <tbody>\n",
       "    <tr>\n",
       "      <th>0</th>\n",
       "      <td>Добавить два новых канала привлечения трафика,...</td>\n",
       "      <td>3</td>\n",
       "      <td>10</td>\n",
       "      <td>8</td>\n",
       "      <td>6</td>\n",
       "    </tr>\n",
       "    <tr>\n",
       "      <th>1</th>\n",
       "      <td>Запустить собственную службу доставки, что сок...</td>\n",
       "      <td>2</td>\n",
       "      <td>5</td>\n",
       "      <td>4</td>\n",
       "      <td>10</td>\n",
       "    </tr>\n",
       "    <tr>\n",
       "      <th>2</th>\n",
       "      <td>Добавить блоки рекомендаций товаров на сайт ин...</td>\n",
       "      <td>8</td>\n",
       "      <td>3</td>\n",
       "      <td>7</td>\n",
       "      <td>3</td>\n",
       "    </tr>\n",
       "    <tr>\n",
       "      <th>3</th>\n",
       "      <td>Изменить структура категорий, что увеличит кон...</td>\n",
       "      <td>8</td>\n",
       "      <td>3</td>\n",
       "      <td>3</td>\n",
       "      <td>8</td>\n",
       "    </tr>\n",
       "    <tr>\n",
       "      <th>4</th>\n",
       "      <td>Изменить цвет фона главной страницы, чтобы уве...</td>\n",
       "      <td>3</td>\n",
       "      <td>1</td>\n",
       "      <td>1</td>\n",
       "      <td>1</td>\n",
       "    </tr>\n",
       "    <tr>\n",
       "      <th>5</th>\n",
       "      <td>Добавить страницу отзывов клиентов о магазине,...</td>\n",
       "      <td>3</td>\n",
       "      <td>2</td>\n",
       "      <td>2</td>\n",
       "      <td>3</td>\n",
       "    </tr>\n",
       "    <tr>\n",
       "      <th>6</th>\n",
       "      <td>Показать на главной странице баннеры с актуаль...</td>\n",
       "      <td>5</td>\n",
       "      <td>3</td>\n",
       "      <td>8</td>\n",
       "      <td>3</td>\n",
       "    </tr>\n",
       "    <tr>\n",
       "      <th>7</th>\n",
       "      <td>Добавить форму подписки на все основные страни...</td>\n",
       "      <td>10</td>\n",
       "      <td>7</td>\n",
       "      <td>8</td>\n",
       "      <td>5</td>\n",
       "    </tr>\n",
       "    <tr>\n",
       "      <th>8</th>\n",
       "      <td>Запустить акцию, дающую скидку на товар в день...</td>\n",
       "      <td>1</td>\n",
       "      <td>9</td>\n",
       "      <td>9</td>\n",
       "      <td>5</td>\n",
       "    </tr>\n",
       "  </tbody>\n",
       "</table>\n",
       "</div>"
      ],
      "text/plain": [
       "                                          Hypothesis  Reach  Impact  \\\n",
       "0  Добавить два новых канала привлечения трафика,...      3      10   \n",
       "1  Запустить собственную службу доставки, что сок...      2       5   \n",
       "2  Добавить блоки рекомендаций товаров на сайт ин...      8       3   \n",
       "3  Изменить структура категорий, что увеличит кон...      8       3   \n",
       "4  Изменить цвет фона главной страницы, чтобы уве...      3       1   \n",
       "5  Добавить страницу отзывов клиентов о магазине,...      3       2   \n",
       "6  Показать на главной странице баннеры с актуаль...      5       3   \n",
       "7  Добавить форму подписки на все основные страни...     10       7   \n",
       "8  Запустить акцию, дающую скидку на товар в день...      1       9   \n",
       "\n",
       "   Confidence  Efforts  \n",
       "0           8        6  \n",
       "1           4       10  \n",
       "2           7        3  \n",
       "3           3        8  \n",
       "4           1        1  \n",
       "5           2        3  \n",
       "6           8        3  \n",
       "7           8        5  \n",
       "8           9        5  "
      ]
     },
     "execution_count": 2,
     "metadata": {},
     "output_type": "execute_result"
    }
   ],
   "source": [
    "#загружаем данные из файлов в датафреймы\n",
    "hypothesis  = pd.read_csv('/datasets/hypothesis.csv')\n",
    "orders = pd.read_csv('/datasets/orders.csv')\n",
    "visitors = pd.read_csv('/datasets/visitors.csv')\n",
    "# выводим первые 5 строк каждого датафрейма и изучим данные\n",
    "hypothesis"
   ]
  },
  {
   "cell_type": "markdown",
   "metadata": {},
   "source": [
    "Представленный датафрейм невелик. Названия столбцов нужно привести к нижнему регистру. Отсутствующие или аномальные значения отсутствуют. 5 столбцов. Необходимые параметры присутствуют. Можно использовать в дальнейшем анализе. Оценки проставлены от 1 от 10 "
   ]
  },
  {
   "cell_type": "code",
   "execution_count": 3,
   "metadata": {},
   "outputs": [
    {
     "name": "stdout",
     "output_type": "stream",
     "text": [
      "<class 'pandas.core.frame.DataFrame'>\n",
      "RangeIndex: 9 entries, 0 to 8\n",
      "Data columns (total 5 columns):\n",
      " #   Column      Non-Null Count  Dtype \n",
      "---  ------      --------------  ----- \n",
      " 0   Hypothesis  9 non-null      object\n",
      " 1   Reach       9 non-null      int64 \n",
      " 2   Impact      9 non-null      int64 \n",
      " 3   Confidence  9 non-null      int64 \n",
      " 4   Efforts     9 non-null      int64 \n",
      "dtypes: int64(4), object(1)\n",
      "memory usage: 488.0+ bytes\n"
     ]
    }
   ],
   "source": [
    "hypothesis.info()"
   ]
  },
  {
   "cell_type": "markdown",
   "metadata": {},
   "source": [
    "Формат соответствующий"
   ]
  },
  {
   "cell_type": "code",
   "execution_count": 4,
   "metadata": {},
   "outputs": [
    {
     "data": {
      "text/html": [
       "<div>\n",
       "<style scoped>\n",
       "    .dataframe tbody tr th:only-of-type {\n",
       "        vertical-align: middle;\n",
       "    }\n",
       "\n",
       "    .dataframe tbody tr th {\n",
       "        vertical-align: top;\n",
       "    }\n",
       "\n",
       "    .dataframe thead th {\n",
       "        text-align: right;\n",
       "    }\n",
       "</style>\n",
       "<table border=\"1\" class=\"dataframe\">\n",
       "  <thead>\n",
       "    <tr style=\"text-align: right;\">\n",
       "      <th></th>\n",
       "      <th>transactionId</th>\n",
       "      <th>visitorId</th>\n",
       "      <th>date</th>\n",
       "      <th>revenue</th>\n",
       "      <th>group</th>\n",
       "    </tr>\n",
       "  </thead>\n",
       "  <tbody>\n",
       "    <tr>\n",
       "      <th>0</th>\n",
       "      <td>3667963787</td>\n",
       "      <td>3312258926</td>\n",
       "      <td>2019-08-15</td>\n",
       "      <td>1650</td>\n",
       "      <td>B</td>\n",
       "    </tr>\n",
       "    <tr>\n",
       "      <th>1</th>\n",
       "      <td>2804400009</td>\n",
       "      <td>3642806036</td>\n",
       "      <td>2019-08-15</td>\n",
       "      <td>730</td>\n",
       "      <td>B</td>\n",
       "    </tr>\n",
       "    <tr>\n",
       "      <th>2</th>\n",
       "      <td>2961555356</td>\n",
       "      <td>4069496402</td>\n",
       "      <td>2019-08-15</td>\n",
       "      <td>400</td>\n",
       "      <td>A</td>\n",
       "    </tr>\n",
       "    <tr>\n",
       "      <th>3</th>\n",
       "      <td>3797467345</td>\n",
       "      <td>1196621759</td>\n",
       "      <td>2019-08-15</td>\n",
       "      <td>9759</td>\n",
       "      <td>B</td>\n",
       "    </tr>\n",
       "    <tr>\n",
       "      <th>4</th>\n",
       "      <td>2282983706</td>\n",
       "      <td>2322279887</td>\n",
       "      <td>2019-08-15</td>\n",
       "      <td>2308</td>\n",
       "      <td>B</td>\n",
       "    </tr>\n",
       "  </tbody>\n",
       "</table>\n",
       "</div>"
      ],
      "text/plain": [
       "   transactionId   visitorId        date  revenue group\n",
       "0     3667963787  3312258926  2019-08-15     1650     B\n",
       "1     2804400009  3642806036  2019-08-15      730     B\n",
       "2     2961555356  4069496402  2019-08-15      400     A\n",
       "3     3797467345  1196621759  2019-08-15     9759     B\n",
       "4     2282983706  2322279887  2019-08-15     2308     B"
      ]
     },
     "execution_count": 4,
     "metadata": {},
     "output_type": "execute_result"
    }
   ],
   "source": [
    "# откроем файл orders\n",
    "orders.head(5)"
   ]
  },
  {
   "cell_type": "markdown",
   "metadata": {},
   "source": [
    "Датасет состоит из 5 столбцов. Формат названий столбцов подходящий"
   ]
  },
  {
   "cell_type": "code",
   "execution_count": 5,
   "metadata": {},
   "outputs": [
    {
     "name": "stdout",
     "output_type": "stream",
     "text": [
      "<class 'pandas.core.frame.DataFrame'>\n",
      "RangeIndex: 1197 entries, 0 to 1196\n",
      "Data columns (total 5 columns):\n",
      " #   Column         Non-Null Count  Dtype \n",
      "---  ------         --------------  ----- \n",
      " 0   transactionId  1197 non-null   int64 \n",
      " 1   visitorId      1197 non-null   int64 \n",
      " 2   date           1197 non-null   object\n",
      " 3   revenue        1197 non-null   int64 \n",
      " 4   group          1197 non-null   object\n",
      "dtypes: int64(3), object(2)\n",
      "memory usage: 46.9+ KB\n"
     ]
    }
   ],
   "source": [
    "orders.info()"
   ]
  },
  {
   "cell_type": "markdown",
   "metadata": {},
   "source": [
    "Пропущенных значений нет."
   ]
  },
  {
   "cell_type": "code",
   "execution_count": 6,
   "metadata": {},
   "outputs": [
    {
     "data": {
      "text/html": [
       "<div>\n",
       "<style scoped>\n",
       "    .dataframe tbody tr th:only-of-type {\n",
       "        vertical-align: middle;\n",
       "    }\n",
       "\n",
       "    .dataframe tbody tr th {\n",
       "        vertical-align: top;\n",
       "    }\n",
       "\n",
       "    .dataframe thead th {\n",
       "        text-align: right;\n",
       "    }\n",
       "</style>\n",
       "<table border=\"1\" class=\"dataframe\">\n",
       "  <thead>\n",
       "    <tr style=\"text-align: right;\">\n",
       "      <th></th>\n",
       "      <th>date</th>\n",
       "      <th>group</th>\n",
       "      <th>visitors</th>\n",
       "    </tr>\n",
       "  </thead>\n",
       "  <tbody>\n",
       "    <tr>\n",
       "      <th>0</th>\n",
       "      <td>2019-08-01</td>\n",
       "      <td>A</td>\n",
       "      <td>719</td>\n",
       "    </tr>\n",
       "    <tr>\n",
       "      <th>1</th>\n",
       "      <td>2019-08-02</td>\n",
       "      <td>A</td>\n",
       "      <td>619</td>\n",
       "    </tr>\n",
       "    <tr>\n",
       "      <th>2</th>\n",
       "      <td>2019-08-03</td>\n",
       "      <td>A</td>\n",
       "      <td>507</td>\n",
       "    </tr>\n",
       "    <tr>\n",
       "      <th>3</th>\n",
       "      <td>2019-08-04</td>\n",
       "      <td>A</td>\n",
       "      <td>717</td>\n",
       "    </tr>\n",
       "    <tr>\n",
       "      <th>4</th>\n",
       "      <td>2019-08-05</td>\n",
       "      <td>A</td>\n",
       "      <td>756</td>\n",
       "    </tr>\n",
       "  </tbody>\n",
       "</table>\n",
       "</div>"
      ],
      "text/plain": [
       "         date group  visitors\n",
       "0  2019-08-01     A       719\n",
       "1  2019-08-02     A       619\n",
       "2  2019-08-03     A       507\n",
       "3  2019-08-04     A       717\n",
       "4  2019-08-05     A       756"
      ]
     },
     "execution_count": 6,
     "metadata": {},
     "output_type": "execute_result"
    }
   ],
   "source": [
    "# выведем 5 строк датасета visitors\n",
    "visitors.head(5)"
   ]
  },
  {
   "cell_type": "code",
   "execution_count": 7,
   "metadata": {},
   "outputs": [
    {
     "name": "stdout",
     "output_type": "stream",
     "text": [
      "<class 'pandas.core.frame.DataFrame'>\n",
      "RangeIndex: 62 entries, 0 to 61\n",
      "Data columns (total 3 columns):\n",
      " #   Column    Non-Null Count  Dtype \n",
      "---  ------    --------------  ----- \n",
      " 0   date      62 non-null     object\n",
      " 1   group     62 non-null     object\n",
      " 2   visitors  62 non-null     int64 \n",
      "dtypes: int64(1), object(2)\n",
      "memory usage: 1.6+ KB\n"
     ]
    }
   ],
   "source": [
    "visitors.info()"
   ]
  },
  {
   "cell_type": "markdown",
   "metadata": {},
   "source": [
    "Пропущенных значений нет. "
   ]
  },
  {
   "cell_type": "markdown",
   "metadata": {},
   "source": [
    "#### Построение общих гистограмм"
   ]
  },
  {
   "cell_type": "code",
   "execution_count": 8,
   "metadata": {},
   "outputs": [
    {
     "data": {
      "image/png": "[encoded data removed]",
      "text/plain": [
       "<Figure size 720x1080 with 1 Axes>"
      ]
     },
     "metadata": {
      "needs_background": "light"
     },
     "output_type": "display_data"
    }
   ],
   "source": [
    "visitors['visitors'].hist(figsize=(10,15))\n",
    "plt.show()"
   ]
  },
  {
   "cell_type": "markdown",
   "metadata": {},
   "source": [
    "Видно, что диапазон посетителей на каждую дату распределён от ~360 до ~780. Выбивающихся значений нет. БОльшая часть строк имеют количество посетителей в районе 700 в день. Меньшая в районе 450-475 человек в день."
   ]
  },
  {
   "cell_type": "code",
   "execution_count": 9,
   "metadata": {},
   "outputs": [
    {
     "data": {
      "image/png": "[encoded data removed]",
      "text/plain": [
       "<Figure size 720x1080 with 1 Axes>"
      ]
     },
     "metadata": {
      "needs_background": "light"
     },
     "output_type": "display_data"
    }
   ],
   "source": [
    "visitors['date'].hist(figsize=(10,15))\n",
    "plt.xticks(rotation = 45)\n",
    "plt.show()"
   ]
  },
  {
   "cell_type": "code",
   "execution_count": 10,
   "metadata": {},
   "outputs": [
    {
     "data": {
      "text/plain": [
       "'2019-08-01'"
      ]
     },
     "execution_count": 10,
     "metadata": {},
     "output_type": "execute_result"
    }
   ],
   "source": [
    "visitors['date'].min()"
   ]
  },
  {
   "cell_type": "code",
   "execution_count": 11,
   "metadata": {},
   "outputs": [
    {
     "data": {
      "text/plain": [
       "'2019-08-31'"
      ]
     },
     "execution_count": 11,
     "metadata": {},
     "output_type": "execute_result"
    }
   ],
   "source": [
    "visitors['date'].max()"
   ]
  },
  {
   "cell_type": "markdown",
   "metadata": {},
   "source": [
    "Видно, что данные по датам распределены относительно равномерно по 6 строк. Кроме, увеличения количества строк в конце августа"
   ]
  },
  {
   "cell_type": "code",
   "execution_count": 12,
   "metadata": {},
   "outputs": [
    {
     "data": {
      "image/png": "[encoded data removed]",
      "text/plain": [
       "<Figure size 720x1080 with 1 Axes>"
      ]
     },
     "metadata": {
      "needs_background": "light"
     },
     "output_type": "display_data"
    }
   ],
   "source": [
    "orders['revenue'].hist(figsize=(10,15))\n",
    "plt.ticklabel_format(style='plain')\n",
    "plt.show()"
   ]
  },
  {
   "cell_type": "markdown",
   "metadata": {},
   "source": [
    "Видно, что основной диапазон значений в столбце \"выручка с заказа\" колеблется от 0 до ~160 000. Также, есть небольшое количество заказов в диапазоне от ~160 000 до 220 000. Небольшое количество аномально больших заказов в диапазоне от ~ 1 180 000 до ~1 300 000. Необходимо проверить данные значения. "
   ]
  },
  {
   "cell_type": "code",
   "execution_count": 13,
   "metadata": {},
   "outputs": [
    {
     "data": {
      "image/png": "[encoded data removed]",
      "text/plain": [
       "<Figure size 720x1080 with 1 Axes>"
      ]
     },
     "metadata": {
      "needs_background": "light"
     },
     "output_type": "display_data"
    }
   ],
   "source": [
    "orders['date'].hist(figsize=(10, 15))\n",
    "plt.xticks(rotation = 45)\n",
    "plt.show()"
   ]
  },
  {
   "cell_type": "code",
   "execution_count": 14,
   "metadata": {},
   "outputs": [
    {
     "data": {
      "text/plain": [
       "'2019-08-01'"
      ]
     },
     "execution_count": 14,
     "metadata": {},
     "output_type": "execute_result"
    }
   ],
   "source": [
    "orders['date'].min()"
   ]
  },
  {
   "cell_type": "code",
   "execution_count": 15,
   "metadata": {},
   "outputs": [
    {
     "data": {
      "text/plain": [
       "'2019-08-31'"
      ]
     },
     "execution_count": 15,
     "metadata": {},
     "output_type": "execute_result"
    }
   ],
   "source": [
    "orders['date'].max()"
   ]
  },
  {
   "cell_type": "markdown",
   "metadata": {},
   "source": [
    "Данные представлены в диапазоне от 1 августа 2019 года до 31 августа 2019 года. Больше всего строк со значениями в конце августа"
   ]
  },
  {
   "cell_type": "markdown",
   "metadata": {},
   "source": [
    "#### Вывод:"
   ]
  },
  {
   "cell_type": "markdown",
   "metadata": {},
   "source": [
    "Все 3 датасета представлены корректно. Отсутствующих значений нет. Среди некатегориальных числовых значений присутствует разброс в таблице orders. Необходимо проверить выбивающиеся значения на этапе предобработки.\n",
    "Типы данных корректные"
   ]
  },
  {
   "cell_type": "markdown",
   "metadata": {},
   "source": [
    "### Предобработка данных"
   ]
  },
  {
   "cell_type": "markdown",
   "metadata": {},
   "source": [
    "#### Приведение данных к нужному типу"
   ]
  },
  {
   "cell_type": "code",
   "execution_count": 16,
   "metadata": {},
   "outputs": [],
   "source": [
    "orders['date'] = orders['date'].map(\n",
    "    lambda x: dt.datetime.strptime(x, '%Y-%m-%d')\n",
    ")\n",
    "visitors['date'] = visitors['date'].map(\n",
    "    lambda x: dt.datetime.strptime(x, '%Y-%m-%d')\n",
    ")"
   ]
  },
  {
   "cell_type": "code",
   "execution_count": 17,
   "metadata": {
    "scrolled": true
   },
   "outputs": [
    {
     "name": "stdout",
     "output_type": "stream",
     "text": [
      "<class 'pandas.core.frame.DataFrame'>\n",
      "RangeIndex: 1197 entries, 0 to 1196\n",
      "Data columns (total 5 columns):\n",
      " #   Column         Non-Null Count  Dtype         \n",
      "---  ------         --------------  -----         \n",
      " 0   transactionId  1197 non-null   int64         \n",
      " 1   visitorId      1197 non-null   int64         \n",
      " 2   date           1197 non-null   datetime64[ns]\n",
      " 3   revenue        1197 non-null   int64         \n",
      " 4   group          1197 non-null   object        \n",
      "dtypes: datetime64[ns](1), int64(3), object(1)\n",
      "memory usage: 46.9+ KB\n"
     ]
    }
   ],
   "source": [
    "orders.info()"
   ]
  },
  {
   "cell_type": "code",
   "execution_count": 18,
   "metadata": {},
   "outputs": [
    {
     "name": "stdout",
     "output_type": "stream",
     "text": [
      "<class 'pandas.core.frame.DataFrame'>\n",
      "RangeIndex: 62 entries, 0 to 61\n",
      "Data columns (total 3 columns):\n",
      " #   Column    Non-Null Count  Dtype         \n",
      "---  ------    --------------  -----         \n",
      " 0   date      62 non-null     datetime64[ns]\n",
      " 1   group     62 non-null     object        \n",
      " 2   visitors  62 non-null     int64         \n",
      "dtypes: datetime64[ns](1), int64(1), object(1)\n",
      "memory usage: 1.6+ KB\n"
     ]
    }
   ],
   "source": [
    "visitors.info()"
   ]
  },
  {
   "cell_type": "markdown",
   "metadata": {},
   "source": [
    "Нужные типы данных установлены"
   ]
  },
  {
   "cell_type": "markdown",
   "metadata": {},
   "source": [
    "#### Приведение к нижнему регистру"
   ]
  },
  {
   "cell_type": "code",
   "execution_count": 19,
   "metadata": {},
   "outputs": [],
   "source": [
    "hypothesis.columns = hypothesis.columns.str.lower()"
   ]
  },
  {
   "cell_type": "code",
   "execution_count": 20,
   "metadata": {},
   "outputs": [
    {
     "name": "stdout",
     "output_type": "stream",
     "text": [
      "<class 'pandas.core.frame.DataFrame'>\n",
      "RangeIndex: 9 entries, 0 to 8\n",
      "Data columns (total 5 columns):\n",
      " #   Column      Non-Null Count  Dtype \n",
      "---  ------      --------------  ----- \n",
      " 0   hypothesis  9 non-null      object\n",
      " 1   reach       9 non-null      int64 \n",
      " 2   impact      9 non-null      int64 \n",
      " 3   confidence  9 non-null      int64 \n",
      " 4   efforts     9 non-null      int64 \n",
      "dtypes: int64(4), object(1)\n",
      "memory usage: 488.0+ bytes\n"
     ]
    }
   ],
   "source": [
    "hypothesis.info()"
   ]
  },
  {
   "cell_type": "markdown",
   "metadata": {},
   "source": [
    "#### Проверка дубликатов"
   ]
  },
  {
   "cell_type": "code",
   "execution_count": 21,
   "metadata": {},
   "outputs": [
    {
     "name": "stdout",
     "output_type": "stream",
     "text": [
      "Количество дубликатов в orders 0\n",
      "Количество дубликатов в visitors 0\n"
     ]
    }
   ],
   "source": [
    "# для начала проверим явные дубликаты\n",
    "print('Количество дубликатов в orders', orders.duplicated().sum())\n",
    "print('Количество дубликатов в visitors', visitors.duplicated().sum())"
   ]
  },
  {
   "cell_type": "markdown",
   "metadata": {},
   "source": [
    "Явных дубликатов нет"
   ]
  },
  {
   "cell_type": "markdown",
   "metadata": {},
   "source": [
    "Проверим дубликаты в файле visitors по 2-м столбцам date и group"
   ]
  },
  {
   "cell_type": "code",
   "execution_count": 22,
   "metadata": {},
   "outputs": [
    {
     "name": "stdout",
     "output_type": "stream",
     "text": [
      "Int64Index([], dtype='int64')\n"
     ]
    }
   ],
   "source": [
    "# определим индексы строк дубликатов\n",
    "duplicates = visitors.duplicated(subset=['date','group'])\\\n",
    ".loc[visitors.duplicated(subset=['date','group']) == True].index\n",
    "print(duplicates)"
   ]
  },
  {
   "cell_type": "markdown",
   "metadata": {},
   "source": [
    "Дубликатов нет"
   ]
  },
  {
   "cell_type": "markdown",
   "metadata": {},
   "source": [
    "В файле orders необходимо проверить дубликаты по transactionId, visitorId, date, group          "
   ]
  },
  {
   "cell_type": "code",
   "execution_count": 23,
   "metadata": {},
   "outputs": [
    {
     "name": "stdout",
     "output_type": "stream",
     "text": [
      "Int64Index([], dtype='int64')\n"
     ]
    }
   ],
   "source": [
    "# определим индексы строк дубликатов\n",
    "duplicates = orders.duplicated(subset=['transactionId','visitorId', 'date', 'group'])\\\n",
    ".loc[orders.duplicated(subset=['transactionId','visitorId', 'date', 'group']) == True].index\n",
    "print(duplicates)"
   ]
  },
  {
   "cell_type": "markdown",
   "metadata": {},
   "source": [
    "Также, дубликаты отсутствуют"
   ]
  },
  {
   "cell_type": "markdown",
   "metadata": {},
   "source": [
    "Проверим уникальные значения для категориальных данных."
   ]
  },
  {
   "cell_type": "code",
   "execution_count": 24,
   "metadata": {},
   "outputs": [
    {
     "data": {
      "text/plain": [
       "array(['A', 'B'], dtype=object)"
      ]
     },
     "execution_count": 24,
     "metadata": {},
     "output_type": "execute_result"
    }
   ],
   "source": [
    "visitors['group'].unique()"
   ]
  },
  {
   "cell_type": "code",
   "execution_count": 25,
   "metadata": {},
   "outputs": [
    {
     "data": {
      "text/plain": [
       "array(['B', 'A'], dtype=object)"
      ]
     },
     "execution_count": 25,
     "metadata": {},
     "output_type": "execute_result"
    }
   ],
   "source": [
    "orders['group'].unique()"
   ]
  },
  {
   "cell_type": "markdown",
   "metadata": {},
   "source": [
    "Дубликатов нет"
   ]
  },
  {
   "cell_type": "markdown",
   "metadata": {},
   "source": [
    "#### Проверка аномальных значений"
   ]
  },
  {
   "cell_type": "markdown",
   "metadata": {},
   "source": [
    "Проверим столбец revenue в датасете orders"
   ]
  },
  {
   "cell_type": "code",
   "execution_count": 26,
   "metadata": {},
   "outputs": [
    {
     "data": {
      "text/html": [
       "<div>\n",
       "<style scoped>\n",
       "    .dataframe tbody tr th:only-of-type {\n",
       "        vertical-align: middle;\n",
       "    }\n",
       "\n",
       "    .dataframe tbody tr th {\n",
       "        vertical-align: top;\n",
       "    }\n",
       "\n",
       "    .dataframe thead th {\n",
       "        text-align: right;\n",
       "    }\n",
       "</style>\n",
       "<table border=\"1\" class=\"dataframe\">\n",
       "  <thead>\n",
       "    <tr style=\"text-align: right;\">\n",
       "      <th></th>\n",
       "      <th>transactionId</th>\n",
       "      <th>visitorId</th>\n",
       "      <th>date</th>\n",
       "      <th>revenue</th>\n",
       "      <th>group</th>\n",
       "    </tr>\n",
       "  </thead>\n",
       "  <tbody>\n",
       "    <tr>\n",
       "      <th>425</th>\n",
       "      <td>590470918</td>\n",
       "      <td>1920142716</td>\n",
       "      <td>2019-08-19</td>\n",
       "      <td>1294500</td>\n",
       "      <td>B</td>\n",
       "    </tr>\n",
       "  </tbody>\n",
       "</table>\n",
       "</div>"
      ],
      "text/plain": [
       "     transactionId   visitorId       date  revenue group\n",
       "425      590470918  1920142716 2019-08-19  1294500     B"
      ]
     },
     "execution_count": 26,
     "metadata": {},
     "output_type": "execute_result"
    }
   ],
   "source": [
    "orders.query('revenue > 300000')"
   ]
  },
  {
   "cell_type": "markdown",
   "metadata": {},
   "source": [
    "Только одно значение выбивается из общей картины. Вероятно, именно в данном случае, это просто очень большой заказ на 1 294 500"
   ]
  },
  {
   "cell_type": "markdown",
   "metadata": {},
   "source": [
    "\n",
    "Проверим пользователей, попавших в обе группы\n"
   ]
  },
  {
   "cell_type": "code",
   "execution_count": 27,
   "metadata": {},
   "outputs": [
    {
     "data": {
      "text/plain": [
       "array([   8300375,  199603092,  232979603,  237748145,  276558944,\n",
       "        351125977,  393266494,  457167155,  471551937,  477780734,\n",
       "        818047933,  963407295, 1230306981, 1294878855, 1316129916,\n",
       "       1333886533, 1404934699, 1602967004, 1614305549, 1648269707,\n",
       "       1668030113, 1738359350, 1801183820, 1959144690, 2038680547,\n",
       "       2044997962, 2378935119, 2458001652, 2579882178, 2587333274,\n",
       "       2600415354, 2654030115, 2686716486, 2712142231, 2716752286,\n",
       "       2780786433, 2927087541, 2949041841, 2954449915, 3062433592,\n",
       "       3202540741, 3234906277, 3656415546, 3717692402, 3766097110,\n",
       "       3803269165, 3891541246, 3941795274, 3951559397, 3957174400,\n",
       "       3963646447, 3972127743, 3984495233, 4069496402, 4120364173,\n",
       "       4186807279, 4256040402, 4266935830])"
      ]
     },
     "execution_count": 27,
     "metadata": {},
     "output_type": "execute_result"
    }
   ],
   "source": [
    "grouped_users = orders.groupby('visitorId').agg({'group' : 'nunique'}).reset_index().query('group>1')['visitorId'].unique()\n",
    "grouped_users\n"
   ]
  },
  {
   "cell_type": "code",
   "execution_count": 28,
   "metadata": {},
   "outputs": [],
   "source": [
    "orders = orders.query('visitorId not in @grouped_users')"
   ]
  },
  {
   "cell_type": "markdown",
   "metadata": {},
   "source": [
    "#### Вывод:"
   ]
  },
  {
   "cell_type": "markdown",
   "metadata": {},
   "source": [
    "\n",
    "Данные представлены максимально корректно. Все типы данных подходящие, кроме типа данных столбцов date. Соотвествующие изменения проведены. Аномальные значения удалены. Пользователи, попавшие в обе группы удалены. Дубликатов явных и неявных нет"
   ]
  },
  {
   "cell_type": "markdown",
   "metadata": {},
   "source": [
    "### Приоритизация гипотез"
   ]
  },
  {
   "cell_type": "markdown",
   "metadata": {},
   "source": [
    "#### Применим фреймворк ICE"
   ]
  },
  {
   "cell_type": "code",
   "execution_count": 29,
   "metadata": {},
   "outputs": [
    {
     "data": {
      "text/html": [
       "<div>\n",
       "<style scoped>\n",
       "    .dataframe tbody tr th:only-of-type {\n",
       "        vertical-align: middle;\n",
       "    }\n",
       "\n",
       "    .dataframe tbody tr th {\n",
       "        vertical-align: top;\n",
       "    }\n",
       "\n",
       "    .dataframe thead th {\n",
       "        text-align: right;\n",
       "    }\n",
       "</style>\n",
       "<table border=\"1\" class=\"dataframe\">\n",
       "  <thead>\n",
       "    <tr style=\"text-align: right;\">\n",
       "      <th></th>\n",
       "      <th>hypothesis</th>\n",
       "      <th>ICE</th>\n",
       "    </tr>\n",
       "  </thead>\n",
       "  <tbody>\n",
       "    <tr>\n",
       "      <th>8</th>\n",
       "      <td>Запустить акцию, дающую скидку на товар в день...</td>\n",
       "      <td>16.200000</td>\n",
       "    </tr>\n",
       "    <tr>\n",
       "      <th>0</th>\n",
       "      <td>Добавить два новых канала привлечения трафика,...</td>\n",
       "      <td>13.333333</td>\n",
       "    </tr>\n",
       "    <tr>\n",
       "      <th>7</th>\n",
       "      <td>Добавить форму подписки на все основные страни...</td>\n",
       "      <td>11.200000</td>\n",
       "    </tr>\n",
       "    <tr>\n",
       "      <th>6</th>\n",
       "      <td>Показать на главной странице баннеры с актуаль...</td>\n",
       "      <td>8.000000</td>\n",
       "    </tr>\n",
       "    <tr>\n",
       "      <th>2</th>\n",
       "      <td>Добавить блоки рекомендаций товаров на сайт ин...</td>\n",
       "      <td>7.000000</td>\n",
       "    </tr>\n",
       "    <tr>\n",
       "      <th>1</th>\n",
       "      <td>Запустить собственную службу доставки, что сок...</td>\n",
       "      <td>2.000000</td>\n",
       "    </tr>\n",
       "    <tr>\n",
       "      <th>5</th>\n",
       "      <td>Добавить страницу отзывов клиентов о магазине,...</td>\n",
       "      <td>1.333333</td>\n",
       "    </tr>\n",
       "    <tr>\n",
       "      <th>3</th>\n",
       "      <td>Изменить структура категорий, что увеличит кон...</td>\n",
       "      <td>1.125000</td>\n",
       "    </tr>\n",
       "    <tr>\n",
       "      <th>4</th>\n",
       "      <td>Изменить цвет фона главной страницы, чтобы уве...</td>\n",
       "      <td>1.000000</td>\n",
       "    </tr>\n",
       "  </tbody>\n",
       "</table>\n",
       "</div>"
      ],
      "text/plain": [
       "                                          hypothesis        ICE\n",
       "8  Запустить акцию, дающую скидку на товар в день...  16.200000\n",
       "0  Добавить два новых канала привлечения трафика,...  13.333333\n",
       "7  Добавить форму подписки на все основные страни...  11.200000\n",
       "6  Показать на главной странице баннеры с актуаль...   8.000000\n",
       "2  Добавить блоки рекомендаций товаров на сайт ин...   7.000000\n",
       "1  Запустить собственную службу доставки, что сок...   2.000000\n",
       "5  Добавить страницу отзывов клиентов о магазине,...   1.333333\n",
       "3  Изменить структура категорий, что увеличит кон...   1.125000\n",
       "4  Изменить цвет фона главной страницы, чтобы уве...   1.000000"
      ]
     },
     "execution_count": 29,
     "metadata": {},
     "output_type": "execute_result"
    }
   ],
   "source": [
    "# создадим новый столбец с показателем ICE для приоритизации\n",
    "hypothesis['ICE']=(hypothesis['impact']*hypothesis['confidence'])/hypothesis['efforts']\n",
    "hypothesis[['hypothesis','ICE']].sort_values(by='ICE', ascending=False)"
   ]
  },
  {
   "cell_type": "code",
   "execution_count": 30,
   "metadata": {},
   "outputs": [
    {
     "data": {
      "text/plain": [
       "array(['Добавить два новых канала привлечения трафика, что позволит привлекать на 30% больше пользователей',\n",
       "       'Запустить собственную службу доставки, что сократит срок доставки заказов',\n",
       "       'Добавить блоки рекомендаций товаров на сайт интернет магазина, чтобы повысить конверсию и средний чек заказа',\n",
       "       'Изменить структура категорий, что увеличит конверсию, т.к. пользователи быстрее найдут нужный товар',\n",
       "       'Изменить цвет фона главной страницы, чтобы увеличить вовлеченность пользователей',\n",
       "       'Добавить страницу отзывов клиентов о магазине, что позволит увеличить количество заказов',\n",
       "       'Показать на главной странице баннеры с актуальными акциями и распродажами, чтобы увеличить конверсию',\n",
       "       'Добавить форму подписки на все основные страницы, чтобы собрать базу клиентов для email-рассылок',\n",
       "       'Запустить акцию, дающую скидку на товар в день рождения'],\n",
       "      dtype=object)"
      ]
     },
     "execution_count": 30,
     "metadata": {},
     "output_type": "execute_result"
    }
   ],
   "source": [
    "hypothesis['hypothesis'].unique()"
   ]
  },
  {
   "cell_type": "markdown",
   "metadata": {},
   "source": [
    "Наиболее перспективные гипотезы с индексами: <br>8 - \"Запустить акцию, дающую скидку на товар в день рождения\",</br> <br>0 - \"Добавить два новых канала привлечения трафика, что позволит привлекать на 30% больше пользователей\",</br><br> 7 - \"Добавить форму подписки на все основные страницы, чтобы собрать базу клиентов для email-рассылок\" </br> <br>6 - \"Показать на главной странице баннеры с актуальными акциями и распродажами, чтобы увеличить конверсию\"</br>"
   ]
  },
  {
   "cell_type": "markdown",
   "metadata": {},
   "source": [
    "#### Применим фреймворк RICE"
   ]
  },
  {
   "cell_type": "code",
   "execution_count": 31,
   "metadata": {},
   "outputs": [
    {
     "data": {
      "text/html": [
       "<div>\n",
       "<style scoped>\n",
       "    .dataframe tbody tr th:only-of-type {\n",
       "        vertical-align: middle;\n",
       "    }\n",
       "\n",
       "    .dataframe tbody tr th {\n",
       "        vertical-align: top;\n",
       "    }\n",
       "\n",
       "    .dataframe thead th {\n",
       "        text-align: right;\n",
       "    }\n",
       "</style>\n",
       "<table border=\"1\" class=\"dataframe\">\n",
       "  <thead>\n",
       "    <tr style=\"text-align: right;\">\n",
       "      <th></th>\n",
       "      <th>hypothesis</th>\n",
       "      <th>RICE</th>\n",
       "    </tr>\n",
       "  </thead>\n",
       "  <tbody>\n",
       "    <tr>\n",
       "      <th>7</th>\n",
       "      <td>Добавить форму подписки на все основные страни...</td>\n",
       "      <td>112.0</td>\n",
       "    </tr>\n",
       "    <tr>\n",
       "      <th>2</th>\n",
       "      <td>Добавить блоки рекомендаций товаров на сайт ин...</td>\n",
       "      <td>56.0</td>\n",
       "    </tr>\n",
       "    <tr>\n",
       "      <th>0</th>\n",
       "      <td>Добавить два новых канала привлечения трафика,...</td>\n",
       "      <td>40.0</td>\n",
       "    </tr>\n",
       "    <tr>\n",
       "      <th>6</th>\n",
       "      <td>Показать на главной странице баннеры с актуаль...</td>\n",
       "      <td>40.0</td>\n",
       "    </tr>\n",
       "    <tr>\n",
       "      <th>8</th>\n",
       "      <td>Запустить акцию, дающую скидку на товар в день...</td>\n",
       "      <td>16.2</td>\n",
       "    </tr>\n",
       "    <tr>\n",
       "      <th>3</th>\n",
       "      <td>Изменить структура категорий, что увеличит кон...</td>\n",
       "      <td>9.0</td>\n",
       "    </tr>\n",
       "    <tr>\n",
       "      <th>1</th>\n",
       "      <td>Запустить собственную службу доставки, что сок...</td>\n",
       "      <td>4.0</td>\n",
       "    </tr>\n",
       "    <tr>\n",
       "      <th>5</th>\n",
       "      <td>Добавить страницу отзывов клиентов о магазине,...</td>\n",
       "      <td>4.0</td>\n",
       "    </tr>\n",
       "    <tr>\n",
       "      <th>4</th>\n",
       "      <td>Изменить цвет фона главной страницы, чтобы уве...</td>\n",
       "      <td>3.0</td>\n",
       "    </tr>\n",
       "  </tbody>\n",
       "</table>\n",
       "</div>"
      ],
      "text/plain": [
       "                                          hypothesis   RICE\n",
       "7  Добавить форму подписки на все основные страни...  112.0\n",
       "2  Добавить блоки рекомендаций товаров на сайт ин...   56.0\n",
       "0  Добавить два новых канала привлечения трафика,...   40.0\n",
       "6  Показать на главной странице баннеры с актуаль...   40.0\n",
       "8  Запустить акцию, дающую скидку на товар в день...   16.2\n",
       "3  Изменить структура категорий, что увеличит кон...    9.0\n",
       "1  Запустить собственную службу доставки, что сок...    4.0\n",
       "5  Добавить страницу отзывов клиентов о магазине,...    4.0\n",
       "4  Изменить цвет фона главной страницы, чтобы уве...    3.0"
      ]
     },
     "execution_count": 31,
     "metadata": {},
     "output_type": "execute_result"
    }
   ],
   "source": [
    "hypothesis['RICE'] = (hypothesis['reach']*hypothesis['impact']*hypothesis['confidence'])/hypothesis['efforts']\n",
    "hypothesis[['hypothesis', 'RICE']].sort_values(by='RICE', ascending=False)"
   ]
  },
  {
   "cell_type": "markdown",
   "metadata": {},
   "source": [
    "В соответствии с RICE, наиболее перспективные гипотезы с индексами: <br>7 - \"Добавить форму подписки на все основные страницы, чтобы собрать базу клиентов для email-рассылок\",</br> <br>2 - \"Добавить блоки рекомендаций товаров на сайт интернет магазина, чтобы повысить конверсию и средний чек заказа\", </br><br> 0 - \"Добавить два новых канала привлечения трафика, что позволит привлекать на 30% больше пользователей\" </br> <br>6 - \"Показать на главной странице баннеры с актуальными акциями и распродажами, чтобы увеличить конверсию\"</br>"
   ]
  },
  {
   "cell_type": "markdown",
   "metadata": {},
   "source": [
    "Заметны несоответствия в приоритизации гипотез.\n",
    "<br> На первое место выдвинулась 7 гипотеза вместо 8. На второе место 2 гипотеза вместо 0. На третье 0 вместо 7. На четвертом месте 6 гипотеза без изменений"
   ]
  },
  {
   "cell_type": "markdown",
   "metadata": {},
   "source": [
    "Это произошло потому что показатель охвата Reach у 7 гипотезы больше остальных. Т.е. она затронет больше пользователей. 2 гипотеза  переместилась с 5 место на 2, также, по причине высокого показателя охвата - 8. 0 гипотеза снизилась, т.к. показатель охвата ниже, чем у других гипотез - 3."
   ]
  },
  {
   "cell_type": "markdown",
   "metadata": {},
   "source": [
    "#### Вывод: "
   ]
  },
  {
   "cell_type": "markdown",
   "metadata": {},
   "source": [
    "Таким образом, если учитывать показатель охвата, самая перспективная гипотеза \"Добавить форму подписки на все основные страницы, чтобы собрать базу клиентов для email-рассылок\". <br>Самая неперспективная - \"Изменить цвет фона главной страницы, чтобы увеличить вовлеченность пользователей\""
   ]
  },
  {
   "cell_type": "markdown",
   "metadata": {},
   "source": [
    "### Анализ A/B теста"
   ]
  },
  {
   "cell_type": "markdown",
   "metadata": {},
   "source": [
    "#### Анализ кумулятивной выручки по группам."
   ]
  },
  {
   "cell_type": "code",
   "execution_count": 32,
   "metadata": {},
   "outputs": [
    {
     "data": {
      "text/html": [
       "<div>\n",
       "<style scoped>\n",
       "    .dataframe tbody tr th:only-of-type {\n",
       "        vertical-align: middle;\n",
       "    }\n",
       "\n",
       "    .dataframe tbody tr th {\n",
       "        vertical-align: top;\n",
       "    }\n",
       "\n",
       "    .dataframe thead th {\n",
       "        text-align: right;\n",
       "    }\n",
       "</style>\n",
       "<table border=\"1\" class=\"dataframe\">\n",
       "  <thead>\n",
       "    <tr style=\"text-align: right;\">\n",
       "      <th></th>\n",
       "      <th>date</th>\n",
       "      <th>group</th>\n",
       "    </tr>\n",
       "  </thead>\n",
       "  <tbody>\n",
       "    <tr>\n",
       "      <th>0</th>\n",
       "      <td>2019-08-15</td>\n",
       "      <td>B</td>\n",
       "    </tr>\n",
       "    <tr>\n",
       "      <th>7</th>\n",
       "      <td>2019-08-15</td>\n",
       "      <td>A</td>\n",
       "    </tr>\n",
       "    <tr>\n",
       "      <th>45</th>\n",
       "      <td>2019-08-16</td>\n",
       "      <td>A</td>\n",
       "    </tr>\n",
       "    <tr>\n",
       "      <th>47</th>\n",
       "      <td>2019-08-16</td>\n",
       "      <td>B</td>\n",
       "    </tr>\n",
       "    <tr>\n",
       "      <th>55</th>\n",
       "      <td>2019-08-01</td>\n",
       "      <td>A</td>\n",
       "    </tr>\n",
       "    <tr>\n",
       "      <th>...</th>\n",
       "      <td>...</td>\n",
       "      <td>...</td>\n",
       "    </tr>\n",
       "    <tr>\n",
       "      <th>1068</th>\n",
       "      <td>2019-08-12</td>\n",
       "      <td>A</td>\n",
       "    </tr>\n",
       "    <tr>\n",
       "      <th>1114</th>\n",
       "      <td>2019-08-13</td>\n",
       "      <td>B</td>\n",
       "    </tr>\n",
       "    <tr>\n",
       "      <th>1116</th>\n",
       "      <td>2019-08-13</td>\n",
       "      <td>A</td>\n",
       "    </tr>\n",
       "    <tr>\n",
       "      <th>1149</th>\n",
       "      <td>2019-08-14</td>\n",
       "      <td>B</td>\n",
       "    </tr>\n",
       "    <tr>\n",
       "      <th>1150</th>\n",
       "      <td>2019-08-14</td>\n",
       "      <td>A</td>\n",
       "    </tr>\n",
       "  </tbody>\n",
       "</table>\n",
       "<p>62 rows × 2 columns</p>\n",
       "</div>"
      ],
      "text/plain": [
       "           date group\n",
       "0    2019-08-15     B\n",
       "7    2019-08-15     A\n",
       "45   2019-08-16     A\n",
       "47   2019-08-16     B\n",
       "55   2019-08-01     A\n",
       "...         ...   ...\n",
       "1068 2019-08-12     A\n",
       "1114 2019-08-13     B\n",
       "1116 2019-08-13     A\n",
       "1149 2019-08-14     B\n",
       "1150 2019-08-14     A\n",
       "\n",
       "[62 rows x 2 columns]"
      ]
     },
     "execution_count": 32,
     "metadata": {},
     "output_type": "execute_result"
    }
   ],
   "source": [
    "#создадим датафрейм dates_group с уникальными парами значений 'date' и 'group' таблицы orders\n",
    "dates_group = orders[['date', 'group']].drop_duplicates()\n",
    "dates_group"
   ]
  },
  {
   "cell_type": "code",
   "execution_count": 33,
   "metadata": {},
   "outputs": [
    {
     "data": {
      "text/html": [
       "<div>\n",
       "<style scoped>\n",
       "    .dataframe tbody tr th:only-of-type {\n",
       "        vertical-align: middle;\n",
       "    }\n",
       "\n",
       "    .dataframe tbody tr th {\n",
       "        vertical-align: top;\n",
       "    }\n",
       "\n",
       "    .dataframe thead th {\n",
       "        text-align: right;\n",
       "    }\n",
       "</style>\n",
       "<table border=\"1\" class=\"dataframe\">\n",
       "  <thead>\n",
       "    <tr style=\"text-align: right;\">\n",
       "      <th></th>\n",
       "      <th>date</th>\n",
       "      <th>group</th>\n",
       "      <th>transactionId</th>\n",
       "      <th>visitorId</th>\n",
       "      <th>revenue</th>\n",
       "    </tr>\n",
       "  </thead>\n",
       "  <tbody>\n",
       "    <tr>\n",
       "      <th>55</th>\n",
       "      <td>2019-08-01</td>\n",
       "      <td>A</td>\n",
       "      <td>23</td>\n",
       "      <td>19</td>\n",
       "      <td>142779</td>\n",
       "    </tr>\n",
       "    <tr>\n",
       "      <th>66</th>\n",
       "      <td>2019-08-01</td>\n",
       "      <td>B</td>\n",
       "      <td>17</td>\n",
       "      <td>17</td>\n",
       "      <td>59758</td>\n",
       "    </tr>\n",
       "    <tr>\n",
       "      <th>175</th>\n",
       "      <td>2019-08-02</td>\n",
       "      <td>A</td>\n",
       "      <td>42</td>\n",
       "      <td>36</td>\n",
       "      <td>234381</td>\n",
       "    </tr>\n",
       "    <tr>\n",
       "      <th>173</th>\n",
       "      <td>2019-08-02</td>\n",
       "      <td>B</td>\n",
       "      <td>40</td>\n",
       "      <td>39</td>\n",
       "      <td>221801</td>\n",
       "    </tr>\n",
       "    <tr>\n",
       "      <th>291</th>\n",
       "      <td>2019-08-03</td>\n",
       "      <td>A</td>\n",
       "      <td>66</td>\n",
       "      <td>60</td>\n",
       "      <td>346854</td>\n",
       "    </tr>\n",
       "    <tr>\n",
       "      <th>...</th>\n",
       "      <td>...</td>\n",
       "      <td>...</td>\n",
       "      <td>...</td>\n",
       "      <td>...</td>\n",
       "      <td>...</td>\n",
       "    </tr>\n",
       "    <tr>\n",
       "      <th>533</th>\n",
       "      <td>2019-08-29</td>\n",
       "      <td>B</td>\n",
       "      <td>510</td>\n",
       "      <td>490</td>\n",
       "      <td>4746610</td>\n",
       "    </tr>\n",
       "    <tr>\n",
       "      <th>757</th>\n",
       "      <td>2019-08-30</td>\n",
       "      <td>A</td>\n",
       "      <td>460</td>\n",
       "      <td>437</td>\n",
       "      <td>3311413</td>\n",
       "    </tr>\n",
       "    <tr>\n",
       "      <th>690</th>\n",
       "      <td>2019-08-30</td>\n",
       "      <td>B</td>\n",
       "      <td>531</td>\n",
       "      <td>511</td>\n",
       "      <td>4955833</td>\n",
       "    </tr>\n",
       "    <tr>\n",
       "      <th>958</th>\n",
       "      <td>2019-08-31</td>\n",
       "      <td>A</td>\n",
       "      <td>468</td>\n",
       "      <td>445</td>\n",
       "      <td>3364656</td>\n",
       "    </tr>\n",
       "    <tr>\n",
       "      <th>930</th>\n",
       "      <td>2019-08-31</td>\n",
       "      <td>B</td>\n",
       "      <td>548</td>\n",
       "      <td>528</td>\n",
       "      <td>5068972</td>\n",
       "    </tr>\n",
       "  </tbody>\n",
       "</table>\n",
       "<p>62 rows × 5 columns</p>\n",
       "</div>"
      ],
      "text/plain": [
       "          date group  transactionId  visitorId  revenue\n",
       "55  2019-08-01     A             23         19   142779\n",
       "66  2019-08-01     B             17         17    59758\n",
       "175 2019-08-02     A             42         36   234381\n",
       "173 2019-08-02     B             40         39   221801\n",
       "291 2019-08-03     A             66         60   346854\n",
       "..         ...   ...            ...        ...      ...\n",
       "533 2019-08-29     B            510        490  4746610\n",
       "757 2019-08-30     A            460        437  3311413\n",
       "690 2019-08-30     B            531        511  4955833\n",
       "958 2019-08-31     A            468        445  3364656\n",
       "930 2019-08-31     B            548        528  5068972\n",
       "\n",
       "[62 rows x 5 columns]"
      ]
     },
     "execution_count": 33,
     "metadata": {},
     "output_type": "execute_result"
    }
   ],
   "source": [
    "# создадим датафрейм orders_aggregated с необходимой информацией\n",
    "orders_aggregated = dates_group.apply(lambda x: orders[np.logical_and(orders['date']<=x['date'], orders['group']==x['group'])]\\\n",
    ".agg({'date' : 'max', 'group' : 'max', 'transactionId' : 'nunique', 'visitorId' : 'nunique', 'revenue' : 'sum'}), axis=1)\\\n",
    ".sort_values(by=['date','group'])\n",
    "\n",
    "orders_aggregated"
   ]
  },
  {
   "cell_type": "code",
   "execution_count": 34,
   "metadata": {},
   "outputs": [
    {
     "data": {
      "text/html": [
       "<div>\n",
       "<style scoped>\n",
       "    .dataframe tbody tr th:only-of-type {\n",
       "        vertical-align: middle;\n",
       "    }\n",
       "\n",
       "    .dataframe tbody tr th {\n",
       "        vertical-align: top;\n",
       "    }\n",
       "\n",
       "    .dataframe thead th {\n",
       "        text-align: right;\n",
       "    }\n",
       "</style>\n",
       "<table border=\"1\" class=\"dataframe\">\n",
       "  <thead>\n",
       "    <tr style=\"text-align: right;\">\n",
       "      <th></th>\n",
       "      <th>date</th>\n",
       "      <th>group</th>\n",
       "      <th>visitors</th>\n",
       "    </tr>\n",
       "  </thead>\n",
       "  <tbody>\n",
       "    <tr>\n",
       "      <th>55</th>\n",
       "      <td>2019-08-01</td>\n",
       "      <td>A</td>\n",
       "      <td>719</td>\n",
       "    </tr>\n",
       "    <tr>\n",
       "      <th>66</th>\n",
       "      <td>2019-08-01</td>\n",
       "      <td>B</td>\n",
       "      <td>713</td>\n",
       "    </tr>\n",
       "    <tr>\n",
       "      <th>175</th>\n",
       "      <td>2019-08-02</td>\n",
       "      <td>A</td>\n",
       "      <td>1338</td>\n",
       "    </tr>\n",
       "    <tr>\n",
       "      <th>173</th>\n",
       "      <td>2019-08-02</td>\n",
       "      <td>B</td>\n",
       "      <td>1294</td>\n",
       "    </tr>\n",
       "    <tr>\n",
       "      <th>291</th>\n",
       "      <td>2019-08-03</td>\n",
       "      <td>A</td>\n",
       "      <td>1845</td>\n",
       "    </tr>\n",
       "    <tr>\n",
       "      <th>...</th>\n",
       "      <td>...</td>\n",
       "      <td>...</td>\n",
       "      <td>...</td>\n",
       "    </tr>\n",
       "    <tr>\n",
       "      <th>533</th>\n",
       "      <td>2019-08-29</td>\n",
       "      <td>B</td>\n",
       "      <td>17708</td>\n",
       "    </tr>\n",
       "    <tr>\n",
       "      <th>757</th>\n",
       "      <td>2019-08-30</td>\n",
       "      <td>A</td>\n",
       "      <td>18037</td>\n",
       "    </tr>\n",
       "    <tr>\n",
       "      <th>690</th>\n",
       "      <td>2019-08-30</td>\n",
       "      <td>B</td>\n",
       "      <td>18198</td>\n",
       "    </tr>\n",
       "    <tr>\n",
       "      <th>958</th>\n",
       "      <td>2019-08-31</td>\n",
       "      <td>A</td>\n",
       "      <td>18736</td>\n",
       "    </tr>\n",
       "    <tr>\n",
       "      <th>930</th>\n",
       "      <td>2019-08-31</td>\n",
       "      <td>B</td>\n",
       "      <td>18916</td>\n",
       "    </tr>\n",
       "  </tbody>\n",
       "</table>\n",
       "<p>62 rows × 3 columns</p>\n",
       "</div>"
      ],
      "text/plain": [
       "          date group  visitors\n",
       "55  2019-08-01     A       719\n",
       "66  2019-08-01     B       713\n",
       "175 2019-08-02     A      1338\n",
       "173 2019-08-02     B      1294\n",
       "291 2019-08-03     A      1845\n",
       "..         ...   ...       ...\n",
       "533 2019-08-29     B     17708\n",
       "757 2019-08-30     A     18037\n",
       "690 2019-08-30     B     18198\n",
       "958 2019-08-31     A     18736\n",
       "930 2019-08-31     B     18916\n",
       "\n",
       "[62 rows x 3 columns]"
      ]
     },
     "execution_count": 34,
     "metadata": {},
     "output_type": "execute_result"
    }
   ],
   "source": [
    "# создадим датафрейм visitors_aggregated с необходимой информацией\n",
    "visitors_aggregated = dates_group\\\n",
    ".apply(lambda x: visitors[np.logical_and(visitors['date']<=x['date'], visitors['group']==x['group'])]\\\n",
    ".agg({'date' : 'max', 'group' : 'max', 'visitors' : 'sum'}), axis=1).sort_values(by=['date','group'])\n",
    "visitors_aggregated"
   ]
  },
  {
   "cell_type": "code",
   "execution_count": 35,
   "metadata": {},
   "outputs": [
    {
     "data": {
      "text/html": [
       "<div>\n",
       "<style scoped>\n",
       "    .dataframe tbody tr th:only-of-type {\n",
       "        vertical-align: middle;\n",
       "    }\n",
       "\n",
       "    .dataframe tbody tr th {\n",
       "        vertical-align: top;\n",
       "    }\n",
       "\n",
       "    .dataframe thead th {\n",
       "        text-align: right;\n",
       "    }\n",
       "</style>\n",
       "<table border=\"1\" class=\"dataframe\">\n",
       "  <thead>\n",
       "    <tr style=\"text-align: right;\">\n",
       "      <th></th>\n",
       "      <th>date</th>\n",
       "      <th>group</th>\n",
       "      <th>transactionId</th>\n",
       "      <th>visitorId</th>\n",
       "      <th>revenue</th>\n",
       "      <th>visitors</th>\n",
       "    </tr>\n",
       "  </thead>\n",
       "  <tbody>\n",
       "    <tr>\n",
       "      <th>0</th>\n",
       "      <td>2019-08-01</td>\n",
       "      <td>A</td>\n",
       "      <td>23</td>\n",
       "      <td>19</td>\n",
       "      <td>142779</td>\n",
       "      <td>719</td>\n",
       "    </tr>\n",
       "    <tr>\n",
       "      <th>1</th>\n",
       "      <td>2019-08-01</td>\n",
       "      <td>B</td>\n",
       "      <td>17</td>\n",
       "      <td>17</td>\n",
       "      <td>59758</td>\n",
       "      <td>713</td>\n",
       "    </tr>\n",
       "    <tr>\n",
       "      <th>2</th>\n",
       "      <td>2019-08-02</td>\n",
       "      <td>A</td>\n",
       "      <td>42</td>\n",
       "      <td>36</td>\n",
       "      <td>234381</td>\n",
       "      <td>1338</td>\n",
       "    </tr>\n",
       "    <tr>\n",
       "      <th>3</th>\n",
       "      <td>2019-08-02</td>\n",
       "      <td>B</td>\n",
       "      <td>40</td>\n",
       "      <td>39</td>\n",
       "      <td>221801</td>\n",
       "      <td>1294</td>\n",
       "    </tr>\n",
       "    <tr>\n",
       "      <th>4</th>\n",
       "      <td>2019-08-03</td>\n",
       "      <td>A</td>\n",
       "      <td>66</td>\n",
       "      <td>60</td>\n",
       "      <td>346854</td>\n",
       "      <td>1845</td>\n",
       "    </tr>\n",
       "    <tr>\n",
       "      <th>...</th>\n",
       "      <td>...</td>\n",
       "      <td>...</td>\n",
       "      <td>...</td>\n",
       "      <td>...</td>\n",
       "      <td>...</td>\n",
       "      <td>...</td>\n",
       "    </tr>\n",
       "    <tr>\n",
       "      <th>57</th>\n",
       "      <td>2019-08-29</td>\n",
       "      <td>B</td>\n",
       "      <td>510</td>\n",
       "      <td>490</td>\n",
       "      <td>4746610</td>\n",
       "      <td>17708</td>\n",
       "    </tr>\n",
       "    <tr>\n",
       "      <th>58</th>\n",
       "      <td>2019-08-30</td>\n",
       "      <td>A</td>\n",
       "      <td>460</td>\n",
       "      <td>437</td>\n",
       "      <td>3311413</td>\n",
       "      <td>18037</td>\n",
       "    </tr>\n",
       "    <tr>\n",
       "      <th>59</th>\n",
       "      <td>2019-08-30</td>\n",
       "      <td>B</td>\n",
       "      <td>531</td>\n",
       "      <td>511</td>\n",
       "      <td>4955833</td>\n",
       "      <td>18198</td>\n",
       "    </tr>\n",
       "    <tr>\n",
       "      <th>60</th>\n",
       "      <td>2019-08-31</td>\n",
       "      <td>A</td>\n",
       "      <td>468</td>\n",
       "      <td>445</td>\n",
       "      <td>3364656</td>\n",
       "      <td>18736</td>\n",
       "    </tr>\n",
       "    <tr>\n",
       "      <th>61</th>\n",
       "      <td>2019-08-31</td>\n",
       "      <td>B</td>\n",
       "      <td>548</td>\n",
       "      <td>528</td>\n",
       "      <td>5068972</td>\n",
       "      <td>18916</td>\n",
       "    </tr>\n",
       "  </tbody>\n",
       "</table>\n",
       "<p>62 rows × 6 columns</p>\n",
       "</div>"
      ],
      "text/plain": [
       "         date group  transactionId  visitorId  revenue  visitors\n",
       "0  2019-08-01     A             23         19   142779       719\n",
       "1  2019-08-01     B             17         17    59758       713\n",
       "2  2019-08-02     A             42         36   234381      1338\n",
       "3  2019-08-02     B             40         39   221801      1294\n",
       "4  2019-08-03     A             66         60   346854      1845\n",
       "..        ...   ...            ...        ...      ...       ...\n",
       "57 2019-08-29     B            510        490  4746610     17708\n",
       "58 2019-08-30     A            460        437  3311413     18037\n",
       "59 2019-08-30     B            531        511  4955833     18198\n",
       "60 2019-08-31     A            468        445  3364656     18736\n",
       "61 2019-08-31     B            548        528  5068972     18916\n",
       "\n",
       "[62 rows x 6 columns]"
      ]
     },
     "execution_count": 35,
     "metadata": {},
     "output_type": "execute_result"
    }
   ],
   "source": [
    "# зададим переменную cumulative_data объединив новые датафреймы\n",
    "cumulative_data = orders_aggregated.merge(visitors_aggregated, left_on=['date', 'group'], right_on=['date', 'group'])\n",
    "cumulative_data"
   ]
  },
  {
   "cell_type": "code",
   "execution_count": 36,
   "metadata": {},
   "outputs": [
    {
     "data": {
      "text/html": [
       "<div>\n",
       "<style scoped>\n",
       "    .dataframe tbody tr th:only-of-type {\n",
       "        vertical-align: middle;\n",
       "    }\n",
       "\n",
       "    .dataframe tbody tr th {\n",
       "        vertical-align: top;\n",
       "    }\n",
       "\n",
       "    .dataframe thead th {\n",
       "        text-align: right;\n",
       "    }\n",
       "</style>\n",
       "<table border=\"1\" class=\"dataframe\">\n",
       "  <thead>\n",
       "    <tr style=\"text-align: right;\">\n",
       "      <th></th>\n",
       "      <th>date</th>\n",
       "      <th>group</th>\n",
       "      <th>orders</th>\n",
       "      <th>buyers</th>\n",
       "      <th>revenue</th>\n",
       "      <th>visitors</th>\n",
       "    </tr>\n",
       "  </thead>\n",
       "  <tbody>\n",
       "    <tr>\n",
       "      <th>0</th>\n",
       "      <td>2019-08-01</td>\n",
       "      <td>A</td>\n",
       "      <td>23</td>\n",
       "      <td>19</td>\n",
       "      <td>142779</td>\n",
       "      <td>719</td>\n",
       "    </tr>\n",
       "    <tr>\n",
       "      <th>1</th>\n",
       "      <td>2019-08-01</td>\n",
       "      <td>B</td>\n",
       "      <td>17</td>\n",
       "      <td>17</td>\n",
       "      <td>59758</td>\n",
       "      <td>713</td>\n",
       "    </tr>\n",
       "    <tr>\n",
       "      <th>2</th>\n",
       "      <td>2019-08-02</td>\n",
       "      <td>A</td>\n",
       "      <td>42</td>\n",
       "      <td>36</td>\n",
       "      <td>234381</td>\n",
       "      <td>1338</td>\n",
       "    </tr>\n",
       "    <tr>\n",
       "      <th>3</th>\n",
       "      <td>2019-08-02</td>\n",
       "      <td>B</td>\n",
       "      <td>40</td>\n",
       "      <td>39</td>\n",
       "      <td>221801</td>\n",
       "      <td>1294</td>\n",
       "    </tr>\n",
       "    <tr>\n",
       "      <th>4</th>\n",
       "      <td>2019-08-03</td>\n",
       "      <td>A</td>\n",
       "      <td>66</td>\n",
       "      <td>60</td>\n",
       "      <td>346854</td>\n",
       "      <td>1845</td>\n",
       "    </tr>\n",
       "    <tr>\n",
       "      <th>...</th>\n",
       "      <td>...</td>\n",
       "      <td>...</td>\n",
       "      <td>...</td>\n",
       "      <td>...</td>\n",
       "      <td>...</td>\n",
       "      <td>...</td>\n",
       "    </tr>\n",
       "    <tr>\n",
       "      <th>57</th>\n",
       "      <td>2019-08-29</td>\n",
       "      <td>B</td>\n",
       "      <td>510</td>\n",
       "      <td>490</td>\n",
       "      <td>4746610</td>\n",
       "      <td>17708</td>\n",
       "    </tr>\n",
       "    <tr>\n",
       "      <th>58</th>\n",
       "      <td>2019-08-30</td>\n",
       "      <td>A</td>\n",
       "      <td>460</td>\n",
       "      <td>437</td>\n",
       "      <td>3311413</td>\n",
       "      <td>18037</td>\n",
       "    </tr>\n",
       "    <tr>\n",
       "      <th>59</th>\n",
       "      <td>2019-08-30</td>\n",
       "      <td>B</td>\n",
       "      <td>531</td>\n",
       "      <td>511</td>\n",
       "      <td>4955833</td>\n",
       "      <td>18198</td>\n",
       "    </tr>\n",
       "    <tr>\n",
       "      <th>60</th>\n",
       "      <td>2019-08-31</td>\n",
       "      <td>A</td>\n",
       "      <td>468</td>\n",
       "      <td>445</td>\n",
       "      <td>3364656</td>\n",
       "      <td>18736</td>\n",
       "    </tr>\n",
       "    <tr>\n",
       "      <th>61</th>\n",
       "      <td>2019-08-31</td>\n",
       "      <td>B</td>\n",
       "      <td>548</td>\n",
       "      <td>528</td>\n",
       "      <td>5068972</td>\n",
       "      <td>18916</td>\n",
       "    </tr>\n",
       "  </tbody>\n",
       "</table>\n",
       "<p>62 rows × 6 columns</p>\n",
       "</div>"
      ],
      "text/plain": [
       "         date group  orders  buyers  revenue  visitors\n",
       "0  2019-08-01     A      23      19   142779       719\n",
       "1  2019-08-01     B      17      17    59758       713\n",
       "2  2019-08-02     A      42      36   234381      1338\n",
       "3  2019-08-02     B      40      39   221801      1294\n",
       "4  2019-08-03     A      66      60   346854      1845\n",
       "..        ...   ...     ...     ...      ...       ...\n",
       "57 2019-08-29     B     510     490  4746610     17708\n",
       "58 2019-08-30     A     460     437  3311413     18037\n",
       "59 2019-08-30     B     531     511  4955833     18198\n",
       "60 2019-08-31     A     468     445  3364656     18736\n",
       "61 2019-08-31     B     548     528  5068972     18916\n",
       "\n",
       "[62 rows x 6 columns]"
      ]
     },
     "execution_count": 36,
     "metadata": {},
     "output_type": "execute_result"
    }
   ],
   "source": [
    "# переименуем столбцы для удобства\n",
    "cumulative_data.columns = ['date', 'group', 'orders', 'buyers', 'revenue', 'visitors']\n",
    "cumulative_data"
   ]
  },
  {
   "cell_type": "code",
   "execution_count": 37,
   "metadata": {},
   "outputs": [
    {
     "data": {
      "text/html": [
       "<div>\n",
       "<style scoped>\n",
       "    .dataframe tbody tr th:only-of-type {\n",
       "        vertical-align: middle;\n",
       "    }\n",
       "\n",
       "    .dataframe tbody tr th {\n",
       "        vertical-align: top;\n",
       "    }\n",
       "\n",
       "    .dataframe thead th {\n",
       "        text-align: right;\n",
       "    }\n",
       "</style>\n",
       "<table border=\"1\" class=\"dataframe\">\n",
       "  <thead>\n",
       "    <tr style=\"text-align: right;\">\n",
       "      <th></th>\n",
       "      <th>date</th>\n",
       "      <th>revenue</th>\n",
       "      <th>orders</th>\n",
       "    </tr>\n",
       "  </thead>\n",
       "  <tbody>\n",
       "    <tr>\n",
       "      <th>0</th>\n",
       "      <td>2019-08-01</td>\n",
       "      <td>142779</td>\n",
       "      <td>23</td>\n",
       "    </tr>\n",
       "    <tr>\n",
       "      <th>2</th>\n",
       "      <td>2019-08-02</td>\n",
       "      <td>234381</td>\n",
       "      <td>42</td>\n",
       "    </tr>\n",
       "    <tr>\n",
       "      <th>4</th>\n",
       "      <td>2019-08-03</td>\n",
       "      <td>346854</td>\n",
       "      <td>66</td>\n",
       "    </tr>\n",
       "    <tr>\n",
       "      <th>6</th>\n",
       "      <td>2019-08-04</td>\n",
       "      <td>388030</td>\n",
       "      <td>77</td>\n",
       "    </tr>\n",
       "    <tr>\n",
       "      <th>8</th>\n",
       "      <td>2019-08-05</td>\n",
       "      <td>474413</td>\n",
       "      <td>99</td>\n",
       "    </tr>\n",
       "  </tbody>\n",
       "</table>\n",
       "</div>"
      ],
      "text/plain": [
       "        date  revenue  orders\n",
       "0 2019-08-01   142779      23\n",
       "2 2019-08-02   234381      42\n",
       "4 2019-08-03   346854      66\n",
       "6 2019-08-04   388030      77\n",
       "8 2019-08-05   474413      99"
      ]
     },
     "execution_count": 37,
     "metadata": {},
     "output_type": "execute_result"
    }
   ],
   "source": [
    "# объявим переменные cumulativeRevenueA и cumulativeRevenueB в которых сохраним информацию о группах \n",
    "cumulativeRevenueA = cumulative_data[cumulative_data['group']=='A'][['date','revenue', 'orders']]\n",
    "cumulativeRevenueB = cumulative_data[cumulative_data['group']=='B'][['date','revenue', 'orders']]\n",
    "cumulativeRevenueA.head()\n"
   ]
  },
  {
   "cell_type": "code",
   "execution_count": 38,
   "metadata": {},
   "outputs": [
    {
     "data": {
      "text/html": [
       "<div>\n",
       "<style scoped>\n",
       "    .dataframe tbody tr th:only-of-type {\n",
       "        vertical-align: middle;\n",
       "    }\n",
       "\n",
       "    .dataframe tbody tr th {\n",
       "        vertical-align: top;\n",
       "    }\n",
       "\n",
       "    .dataframe thead th {\n",
       "        text-align: right;\n",
       "    }\n",
       "</style>\n",
       "<table border=\"1\" class=\"dataframe\">\n",
       "  <thead>\n",
       "    <tr style=\"text-align: right;\">\n",
       "      <th></th>\n",
       "      <th>date</th>\n",
       "      <th>revenue</th>\n",
       "      <th>orders</th>\n",
       "    </tr>\n",
       "  </thead>\n",
       "  <tbody>\n",
       "    <tr>\n",
       "      <th>1</th>\n",
       "      <td>2019-08-01</td>\n",
       "      <td>59758</td>\n",
       "      <td>17</td>\n",
       "    </tr>\n",
       "    <tr>\n",
       "      <th>3</th>\n",
       "      <td>2019-08-02</td>\n",
       "      <td>221801</td>\n",
       "      <td>40</td>\n",
       "    </tr>\n",
       "    <tr>\n",
       "      <th>5</th>\n",
       "      <td>2019-08-03</td>\n",
       "      <td>288850</td>\n",
       "      <td>54</td>\n",
       "    </tr>\n",
       "    <tr>\n",
       "      <th>7</th>\n",
       "      <td>2019-08-04</td>\n",
       "      <td>385740</td>\n",
       "      <td>68</td>\n",
       "    </tr>\n",
       "    <tr>\n",
       "      <th>9</th>\n",
       "      <td>2019-08-05</td>\n",
       "      <td>475648</td>\n",
       "      <td>89</td>\n",
       "    </tr>\n",
       "  </tbody>\n",
       "</table>\n",
       "</div>"
      ],
      "text/plain": [
       "        date  revenue  orders\n",
       "1 2019-08-01    59758      17\n",
       "3 2019-08-02   221801      40\n",
       "5 2019-08-03   288850      54\n",
       "7 2019-08-04   385740      68\n",
       "9 2019-08-05   475648      89"
      ]
     },
     "execution_count": 38,
     "metadata": {},
     "output_type": "execute_result"
    }
   ],
   "source": [
    "cumulativeRevenueB.head()"
   ]
  },
  {
   "cell_type": "code",
   "execution_count": 39,
   "metadata": {},
   "outputs": [
    {
     "data": {
      "image/png": "[encoded data removed]",
      "text/plain": [
       "<Figure size 1080x1080 with 1 Axes>"
      ]
     },
     "metadata": {
      "needs_background": "light"
     },
     "output_type": "display_data"
    }
   ],
   "source": [
    "# построим графики кумулятивной выручки для обоих групп\n",
    "plt.figure(figsize=(15, 15))\n",
    "plt.plot(cumulativeRevenueA['date'], cumulativeRevenueA['revenue'], label='A')\n",
    "plt.plot(cumulativeRevenueB['date'], cumulativeRevenueB['revenue'], label='B')\n",
    "plt.grid(True)\n",
    "plt.xlabel('Дата')\n",
    "plt.ylabel('Выручка')\n",
    "plt.legend()\n",
    "plt.title('График кумулятивной выручки для обеих групп')\n",
    "plt.show()"
   ]
  },
  {
   "cell_type": "markdown",
   "metadata": {},
   "source": [
    "На графике видно, что на протяжении всего теста, начиная со второго дня, сегмент B вырвался вперед. 13го августа сегмент А практически догнал сегмент B, но с течением времени, сегмент В увеличил разрыв и лидировал до конца теста с большим разрывом. <br> Вероятно, это произошло по причине аномально большого заказа 19го августа. На финальном этапе анализа необходимо данное значение удалить.  "
   ]
  },
  {
   "cell_type": "markdown",
   "metadata": {},
   "source": [
    "#### Анализ кумулятивного среднего чека по группам"
   ]
  },
  {
   "cell_type": "code",
   "execution_count": 40,
   "metadata": {},
   "outputs": [
    {
     "data": {
      "image/png": "[encoded data removed]",
      "text/plain": [
       "<Figure size 1080x1080 with 1 Axes>"
      ]
     },
     "metadata": {
      "needs_background": "light"
     },
     "output_type": "display_data"
    }
   ],
   "source": [
    "plt.figure(figsize=(15, 15))\n",
    "plt.plot(cumulativeRevenueA['date'], cumulativeRevenueA['revenue']/cumulativeRevenueA['orders'], label='A')\n",
    "plt.plot(cumulativeRevenueB['date'], cumulativeRevenueB['revenue']/cumulativeRevenueB['orders'], label='B')\n",
    "plt.grid(True)\n",
    "plt.xlabel('Дата')\n",
    "plt.ylabel('Средний чек')\n",
    "plt.legend()\n",
    "plt.title('График кумулятивного среднего чека по группам')\n",
    "plt.show()"
   ]
  },
  {
   "cell_type": "markdown",
   "metadata": {},
   "source": [
    "В первый день А лидировал, но, уже на второй день, сегмент В вырвался вперед и лидировал до 11 числа.\n",
    "<br>По графику сложно сделать определённый вывод, т.к. видны колебания. Но, можно заметить, что, также, 19го августа наблюдается резкий рост среднего чека у группы В. Снова влияние выброса. Необходим дополнительный анализ."
   ]
  },
  {
   "cell_type": "markdown",
   "metadata": {},
   "source": [
    "####  Анализ относительного изменения кумулятивного среднего чека группы B к группе A"
   ]
  },
  {
   "cell_type": "code",
   "execution_count": 41,
   "metadata": {},
   "outputs": [
    {
     "data": {
      "image/png": "[encoded data removed]",
      "text/plain": [
       "<Figure size 1080x1080 with 1 Axes>"
      ]
     },
     "metadata": {
      "needs_background": "light"
     },
     "output_type": "display_data"
    }
   ],
   "source": [
    "# создадим новый датафрейм merged_cumulative_rev и объединим таблицы\n",
    "merged_cumulative_rev = cumulativeRevenueA\\\n",
    ".merge(cumulativeRevenueB, left_on='date', right_on='date', how='left', suffixes=['A', 'B'])\n",
    "plt.figure(figsize=(15, 15))\n",
    "plt.plot(merged_cumulative_rev['date'],\n",
    "         (merged_cumulative_rev['revenueB']/merged_cumulative_rev['ordersB'])\\\n",
    "         /(merged_cumulative_rev['revenueA']/merged_cumulative_rev['ordersA'])-1)\n",
    "plt.axhline(y=0, color='black', linestyle='--')\n",
    "plt.grid(True)\n",
    "plt.xlabel('Дата')\n",
    "plt.ylabel('Относительное изменение кум. ср. чека')\n",
    "plt.title('График относительного изменения кумулятивного среднего чека группы В к группе А')\n",
    "plt.show()"
   ]
  },
  {
   "cell_type": "markdown",
   "metadata": {},
   "source": [
    "Заметен резкий рост 2го августа, резкое падение 8го августа и резкий рост 19го августа. Вероятно, именно тогда и произошли аномальные заказы."
   ]
  },
  {
   "cell_type": "markdown",
   "metadata": {},
   "source": [
    "#### Анализ кумулятивного среднего количества заказов на посетителя по группам."
   ]
  },
  {
   "cell_type": "code",
   "execution_count": 42,
   "metadata": {},
   "outputs": [
    {
     "data": {
      "text/html": [
       "<div>\n",
       "<style scoped>\n",
       "    .dataframe tbody tr th:only-of-type {\n",
       "        vertical-align: middle;\n",
       "    }\n",
       "\n",
       "    .dataframe tbody tr th {\n",
       "        vertical-align: top;\n",
       "    }\n",
       "\n",
       "    .dataframe thead th {\n",
       "        text-align: right;\n",
       "    }\n",
       "</style>\n",
       "<table border=\"1\" class=\"dataframe\">\n",
       "  <thead>\n",
       "    <tr style=\"text-align: right;\">\n",
       "      <th></th>\n",
       "      <th>date</th>\n",
       "      <th>visitors</th>\n",
       "      <th>orders</th>\n",
       "    </tr>\n",
       "  </thead>\n",
       "  <tbody>\n",
       "    <tr>\n",
       "      <th>0</th>\n",
       "      <td>2019-08-01</td>\n",
       "      <td>719</td>\n",
       "      <td>23</td>\n",
       "    </tr>\n",
       "    <tr>\n",
       "      <th>2</th>\n",
       "      <td>2019-08-02</td>\n",
       "      <td>1338</td>\n",
       "      <td>42</td>\n",
       "    </tr>\n",
       "    <tr>\n",
       "      <th>4</th>\n",
       "      <td>2019-08-03</td>\n",
       "      <td>1845</td>\n",
       "      <td>66</td>\n",
       "    </tr>\n",
       "    <tr>\n",
       "      <th>6</th>\n",
       "      <td>2019-08-04</td>\n",
       "      <td>2562</td>\n",
       "      <td>77</td>\n",
       "    </tr>\n",
       "    <tr>\n",
       "      <th>8</th>\n",
       "      <td>2019-08-05</td>\n",
       "      <td>3318</td>\n",
       "      <td>99</td>\n",
       "    </tr>\n",
       "  </tbody>\n",
       "</table>\n",
       "</div>"
      ],
      "text/plain": [
       "        date  visitors  orders\n",
       "0 2019-08-01       719      23\n",
       "2 2019-08-02      1338      42\n",
       "4 2019-08-03      1845      66\n",
       "6 2019-08-04      2562      77\n",
       "8 2019-08-05      3318      99"
      ]
     },
     "execution_count": 42,
     "metadata": {},
     "output_type": "execute_result"
    }
   ],
   "source": [
    "# создадим новые переменные cumulativeOrdersA и cumulativeOrdersB и добавим столбец buyers\n",
    "cumulativeOrdersA = cumulative_data[cumulative_data['group']=='A'][['date','visitors', 'orders']]\n",
    "cumulativeOrdersB = cumulative_data[cumulative_data['group']=='B'][['date','visitors', 'orders']]\n",
    "cumulativeOrdersA.head()"
   ]
  },
  {
   "cell_type": "code",
   "execution_count": 43,
   "metadata": {},
   "outputs": [
    {
     "data": {
      "text/html": [
       "<div>\n",
       "<style scoped>\n",
       "    .dataframe tbody tr th:only-of-type {\n",
       "        vertical-align: middle;\n",
       "    }\n",
       "\n",
       "    .dataframe tbody tr th {\n",
       "        vertical-align: top;\n",
       "    }\n",
       "\n",
       "    .dataframe thead th {\n",
       "        text-align: right;\n",
       "    }\n",
       "</style>\n",
       "<table border=\"1\" class=\"dataframe\">\n",
       "  <thead>\n",
       "    <tr style=\"text-align: right;\">\n",
       "      <th></th>\n",
       "      <th>date</th>\n",
       "      <th>visitors</th>\n",
       "      <th>orders</th>\n",
       "    </tr>\n",
       "  </thead>\n",
       "  <tbody>\n",
       "    <tr>\n",
       "      <th>1</th>\n",
       "      <td>2019-08-01</td>\n",
       "      <td>713</td>\n",
       "      <td>17</td>\n",
       "    </tr>\n",
       "    <tr>\n",
       "      <th>3</th>\n",
       "      <td>2019-08-02</td>\n",
       "      <td>1294</td>\n",
       "      <td>40</td>\n",
       "    </tr>\n",
       "    <tr>\n",
       "      <th>5</th>\n",
       "      <td>2019-08-03</td>\n",
       "      <td>1803</td>\n",
       "      <td>54</td>\n",
       "    </tr>\n",
       "    <tr>\n",
       "      <th>7</th>\n",
       "      <td>2019-08-04</td>\n",
       "      <td>2573</td>\n",
       "      <td>68</td>\n",
       "    </tr>\n",
       "    <tr>\n",
       "      <th>9</th>\n",
       "      <td>2019-08-05</td>\n",
       "      <td>3280</td>\n",
       "      <td>89</td>\n",
       "    </tr>\n",
       "  </tbody>\n",
       "</table>\n",
       "</div>"
      ],
      "text/plain": [
       "        date  visitors  orders\n",
       "1 2019-08-01       713      17\n",
       "3 2019-08-02      1294      40\n",
       "5 2019-08-03      1803      54\n",
       "7 2019-08-04      2573      68\n",
       "9 2019-08-05      3280      89"
      ]
     },
     "execution_count": 43,
     "metadata": {},
     "output_type": "execute_result"
    }
   ],
   "source": [
    "cumulativeOrdersB.head()"
   ]
  },
  {
   "cell_type": "code",
   "execution_count": 44,
   "metadata": {},
   "outputs": [
    {
     "data": {
      "image/png": "[encoded data removed]",
      "text/plain": [
       "<Figure size 1080x1080 with 1 Axes>"
      ]
     },
     "metadata": {
      "needs_background": "light"
     },
     "output_type": "display_data"
    }
   ],
   "source": [
    "# построим график\n",
    "plt.figure(figsize=(15, 15))\n",
    "plt.plot(cumulativeOrdersA['date'], cumulativeOrdersA['orders']/cumulativeOrdersA['visitors'], label='A')\n",
    "plt.plot(cumulativeOrdersB['date'], cumulativeOrdersB['orders']/cumulativeOrdersB['visitors'], label='B')\n",
    "plt.grid(True)\n",
    "plt.xlabel('Дата')\n",
    "plt.ylabel('Среднее количество заказов на посетителя')\n",
    "plt.legend()\n",
    "plt.title('График кумулятивного среднего количества заказов на посетителя по группам')\n",
    "plt.show()"
   ]
  },
  {
   "cell_type": "markdown",
   "metadata": {},
   "source": [
    "На начальном этапе наблюдались резкие колебания среднего количества заказов на посетителя у обоих групп. Но, с 6 августа стабильно лидировала группа B."
   ]
  },
  {
   "cell_type": "markdown",
   "metadata": {},
   "source": [
    "#### Анализ относительного изменения кумулятивного среднего количества заказов на посетителя группы B к группе A"
   ]
  },
  {
   "cell_type": "code",
   "execution_count": 45,
   "metadata": {},
   "outputs": [
    {
     "data": {
      "image/png": "[encoded data removed]",
      "text/plain": [
       "<Figure size 1080x1080 with 1 Axes>"
      ]
     },
     "metadata": {
      "needs_background": "light"
     },
     "output_type": "display_data"
    }
   ],
   "source": [
    "# создадим новый датафрейм merged_cumulative_ord и объединим таблицы\n",
    "merged_cumulative_ord = cumulativeOrdersA\\\n",
    ".merge(cumulativeOrdersB, left_on='date', right_on='date', how='left', suffixes=['A', 'B'])\n",
    "plt.figure(figsize=(15, 15))\n",
    "plt.plot(merged_cumulative_ord['date'],\n",
    "         (merged_cumulative_ord['ordersB']/merged_cumulative_ord['visitorsB'])\\\n",
    "         /(merged_cumulative_ord['ordersA']/merged_cumulative_ord['visitorsA'])-1)\n",
    "plt.axhline(y=0, color='black', linestyle='--')\n",
    "plt.grid(True)\n",
    "plt.xlabel('Дата')\n",
    "plt.ylabel('Относительное изменение кум. ср. кол-во заказов на посетителя')\n",
    "plt.title('График относительного изменения кумулятивного среднего количества заказов на посетителя группы В к группе А')\n",
    "plt.show()"
   ]
  },
  {
   "cell_type": "markdown",
   "metadata": {},
   "source": [
    "В первые дни группа B с колебаниями, отставала от группы А. Но, начиная с 6 августа, Группы В стабильно лидировала в данном показателе."
   ]
  },
  {
   "cell_type": "markdown",
   "metadata": {},
   "source": [
    "Можно предположить, что предложение группе В оказалось более интересным с течением времени"
   ]
  },
  {
   "cell_type": "markdown",
   "metadata": {},
   "source": [
    "#### График количества заказов по пользователям"
   ]
  },
  {
   "cell_type": "code",
   "execution_count": 46,
   "metadata": {},
   "outputs": [
    {
     "data": {
      "text/html": [
       "<div>\n",
       "<style scoped>\n",
       "    .dataframe tbody tr th:only-of-type {\n",
       "        vertical-align: middle;\n",
       "    }\n",
       "\n",
       "    .dataframe tbody tr th {\n",
       "        vertical-align: top;\n",
       "    }\n",
       "\n",
       "    .dataframe thead th {\n",
       "        text-align: right;\n",
       "    }\n",
       "</style>\n",
       "<table border=\"1\" class=\"dataframe\">\n",
       "  <thead>\n",
       "    <tr style=\"text-align: right;\">\n",
       "      <th></th>\n",
       "      <th>visitorId</th>\n",
       "      <th>orders</th>\n",
       "    </tr>\n",
       "  </thead>\n",
       "  <tbody>\n",
       "    <tr>\n",
       "      <th>908</th>\n",
       "      <td>3967698036</td>\n",
       "      <td>3</td>\n",
       "    </tr>\n",
       "    <tr>\n",
       "      <th>55</th>\n",
       "      <td>249864742</td>\n",
       "      <td>3</td>\n",
       "    </tr>\n",
       "    <tr>\n",
       "      <th>478</th>\n",
       "      <td>2108163459</td>\n",
       "      <td>3</td>\n",
       "    </tr>\n",
       "    <tr>\n",
       "      <th>687</th>\n",
       "      <td>2988190573</td>\n",
       "      <td>3</td>\n",
       "    </tr>\n",
       "    <tr>\n",
       "      <th>890</th>\n",
       "      <td>3908431265</td>\n",
       "      <td>3</td>\n",
       "    </tr>\n",
       "    <tr>\n",
       "      <th>...</th>\n",
       "      <td>...</td>\n",
       "      <td>...</td>\n",
       "    </tr>\n",
       "    <tr>\n",
       "      <th>331</th>\n",
       "      <td>1438226485</td>\n",
       "      <td>1</td>\n",
       "    </tr>\n",
       "    <tr>\n",
       "      <th>332</th>\n",
       "      <td>1452540367</td>\n",
       "      <td>1</td>\n",
       "    </tr>\n",
       "    <tr>\n",
       "      <th>333</th>\n",
       "      <td>1455323168</td>\n",
       "      <td>1</td>\n",
       "    </tr>\n",
       "    <tr>\n",
       "      <th>334</th>\n",
       "      <td>1455861274</td>\n",
       "      <td>1</td>\n",
       "    </tr>\n",
       "    <tr>\n",
       "      <th>972</th>\n",
       "      <td>4283872382</td>\n",
       "      <td>1</td>\n",
       "    </tr>\n",
       "  </tbody>\n",
       "</table>\n",
       "<p>973 rows × 2 columns</p>\n",
       "</div>"
      ],
      "text/plain": [
       "      visitorId  orders\n",
       "908  3967698036       3\n",
       "55    249864742       3\n",
       "478  2108163459       3\n",
       "687  2988190573       3\n",
       "890  3908431265       3\n",
       "..          ...     ...\n",
       "331  1438226485       1\n",
       "332  1452540367       1\n",
       "333  1455323168       1\n",
       "334  1455861274       1\n",
       "972  4283872382       1\n",
       "\n",
       "[973 rows x 2 columns]"
      ]
     },
     "execution_count": 46,
     "metadata": {},
     "output_type": "execute_result"
    }
   ],
   "source": [
    "# создадим датафрейм orders_by_users с 2 столбцами visitorId и transactionId, посчитаем количество заказов и отсортируем\n",
    "orders_by_users = (\n",
    "    orders.groupby('visitorId', as_index=False)\n",
    "    .agg({'transactionId': 'nunique'})\n",
    "    .sort_values(by='transactionId', ascending=False)\n",
    ")\n",
    "orders_by_users.columns = ['visitorId', 'orders']\n",
    "orders_by_users"
   ]
  },
  {
   "cell_type": "code",
   "execution_count": 47,
   "metadata": {},
   "outputs": [
    {
     "data": {
      "image/png": "[encoded data removed]",
      "text/plain": [
       "<Figure size 1080x1080 with 1 Axes>"
      ]
     },
     "metadata": {
      "needs_background": "light"
     },
     "output_type": "display_data"
    }
   ],
   "source": [
    "x_values = pd.Series(range(0, len(orders_by_users)))\n",
    "plt.figure(figsize=(15, 15))\n",
    "plt.scatter(x_values, orders_by_users['orders'])\n",
    "plt.grid(True)\n",
    "plt.xlabel('Кол-во посетителей')\n",
    "plt.ylabel('Количество заказов')\n",
    "plt.title('График количества заказов по пользователям')\n",
    "plt.show()"
   ]
  },
  {
   "cell_type": "markdown",
   "metadata": {},
   "source": [
    "На графике видно, что только менее 100 посетителей совершили 2 и более заказов.\n",
    "<br> Пользователей, совершившись более 2 заказов очень мало, они, вероятно, могут быть аномальными"
   ]
  },
  {
   "cell_type": "markdown",
   "metadata": {},
   "source": [
    "#### 95-й и 99-й перцентили количества заказов на пользователя. Выбор границы для определения аномальных пользователей."
   ]
  },
  {
   "cell_type": "code",
   "execution_count": 48,
   "metadata": {},
   "outputs": [
    {
     "name": "stdout",
     "output_type": "stream",
     "text": [
      "[1. 2.]\n"
     ]
    }
   ],
   "source": [
    "print(np.percentile(orders_by_users['orders'], [95, 99]))"
   ]
  },
  {
   "cell_type": "code",
   "execution_count": 49,
   "metadata": {},
   "outputs": [
    {
     "data": {
      "text/html": [
       "<div>\n",
       "<style scoped>\n",
       "    .dataframe tbody tr th:only-of-type {\n",
       "        vertical-align: middle;\n",
       "    }\n",
       "\n",
       "    .dataframe tbody tr th {\n",
       "        vertical-align: top;\n",
       "    }\n",
       "\n",
       "    .dataframe thead th {\n",
       "        text-align: right;\n",
       "    }\n",
       "</style>\n",
       "<table border=\"1\" class=\"dataframe\">\n",
       "  <thead>\n",
       "    <tr style=\"text-align: right;\">\n",
       "      <th></th>\n",
       "      <th>visitorId</th>\n",
       "      <th>orders</th>\n",
       "    </tr>\n",
       "  </thead>\n",
       "  <tbody>\n",
       "    <tr>\n",
       "      <th>908</th>\n",
       "      <td>3967698036</td>\n",
       "      <td>3</td>\n",
       "    </tr>\n",
       "    <tr>\n",
       "      <th>55</th>\n",
       "      <td>249864742</td>\n",
       "      <td>3</td>\n",
       "    </tr>\n",
       "    <tr>\n",
       "      <th>478</th>\n",
       "      <td>2108163459</td>\n",
       "      <td>3</td>\n",
       "    </tr>\n",
       "    <tr>\n",
       "      <th>687</th>\n",
       "      <td>2988190573</td>\n",
       "      <td>3</td>\n",
       "    </tr>\n",
       "    <tr>\n",
       "      <th>890</th>\n",
       "      <td>3908431265</td>\n",
       "      <td>3</td>\n",
       "    </tr>\n",
       "    <tr>\n",
       "      <th>138</th>\n",
       "      <td>611059232</td>\n",
       "      <td>3</td>\n",
       "    </tr>\n",
       "    <tr>\n",
       "      <th>632</th>\n",
       "      <td>2742574263</td>\n",
       "      <td>3</td>\n",
       "    </tr>\n",
       "    <tr>\n",
       "      <th>157</th>\n",
       "      <td>678354126</td>\n",
       "      <td>2</td>\n",
       "    </tr>\n",
       "    <tr>\n",
       "      <th>323</th>\n",
       "      <td>1404560065</td>\n",
       "      <td>2</td>\n",
       "    </tr>\n",
       "    <tr>\n",
       "      <th>452</th>\n",
       "      <td>1985475298</td>\n",
       "      <td>2</td>\n",
       "    </tr>\n",
       "  </tbody>\n",
       "</table>\n",
       "</div>"
      ],
      "text/plain": [
       "      visitorId  orders\n",
       "908  3967698036       3\n",
       "55    249864742       3\n",
       "478  2108163459       3\n",
       "687  2988190573       3\n",
       "890  3908431265       3\n",
       "138   611059232       3\n",
       "632  2742574263       3\n",
       "157   678354126       2\n",
       "323  1404560065       2\n",
       "452  1985475298       2"
      ]
     },
     "execution_count": 49,
     "metadata": {},
     "output_type": "execute_result"
    }
   ],
   "source": [
    "orders_by_users.head(10)"
   ]
  },
  {
   "cell_type": "markdown",
   "metadata": {},
   "source": [
    "\n",
    "Не более 5% пользователей совершали больше 1 заказов, и не больше 1% пользователей совершали больше 2 заказов.\n",
    "Определим пользователей с 3 и более заказами аномальными"
   ]
  },
  {
   "cell_type": "markdown",
   "metadata": {},
   "source": [
    "#### Точечный график стоимостей заказов"
   ]
  },
  {
   "cell_type": "code",
   "execution_count": 50,
   "metadata": {},
   "outputs": [
    {
     "data": {
      "image/png": "[encoded data removed]",
      "text/plain": [
       "<Figure size 1080x1080 with 1 Axes>"
      ]
     },
     "metadata": {
      "needs_background": "light"
     },
     "output_type": "display_data"
    }
   ],
   "source": [
    "x_values = pd.Series(range(0, len(orders)))\n",
    "plt.figure(figsize=(15, 15))\n",
    "plt.scatter(x_values, orders['revenue'])\n",
    "plt.grid(True)\n",
    "plt.xlabel('Кол-во посетителей')\n",
    "plt.ylabel('Количество заказов')\n",
    "plt.title('График стоимостей заказов')\n",
    "plt.show()"
   ]
  },
  {
   "cell_type": "markdown",
   "metadata": {},
   "source": [
    "Заказов стоимостью выше 50 000 не так уж и много. Аномальными кажутся значения стоимости 200 000 и >1 200 000. Вероятно, выбросы."
   ]
  },
  {
   "cell_type": "markdown",
   "metadata": {},
   "source": [
    "#### 95-й и 99-й перцентили стоимости заказов"
   ]
  },
  {
   "cell_type": "code",
   "execution_count": 51,
   "metadata": {},
   "outputs": [
    {
     "name": "stdout",
     "output_type": "stream",
     "text": [
      "[26785. 53904.]\n"
     ]
    }
   ],
   "source": [
    "print(np.percentile(orders['revenue'], [95, 99]))"
   ]
  },
  {
   "cell_type": "code",
   "execution_count": 52,
   "metadata": {},
   "outputs": [
    {
     "data": {
      "text/html": [
       "<div>\n",
       "<style scoped>\n",
       "    .dataframe tbody tr th:only-of-type {\n",
       "        vertical-align: middle;\n",
       "    }\n",
       "\n",
       "    .dataframe tbody tr th {\n",
       "        vertical-align: top;\n",
       "    }\n",
       "\n",
       "    .dataframe thead th {\n",
       "        text-align: right;\n",
       "    }\n",
       "</style>\n",
       "<table border=\"1\" class=\"dataframe\">\n",
       "  <thead>\n",
       "    <tr style=\"text-align: right;\">\n",
       "      <th></th>\n",
       "      <th>transactionId</th>\n",
       "      <th>visitorId</th>\n",
       "      <th>date</th>\n",
       "      <th>revenue</th>\n",
       "      <th>group</th>\n",
       "    </tr>\n",
       "  </thead>\n",
       "  <tbody>\n",
       "    <tr>\n",
       "      <th>0</th>\n",
       "      <td>3667963787</td>\n",
       "      <td>3312258926</td>\n",
       "      <td>2019-08-15</td>\n",
       "      <td>1650</td>\n",
       "      <td>B</td>\n",
       "    </tr>\n",
       "    <tr>\n",
       "      <th>1</th>\n",
       "      <td>2804400009</td>\n",
       "      <td>3642806036</td>\n",
       "      <td>2019-08-15</td>\n",
       "      <td>730</td>\n",
       "      <td>B</td>\n",
       "    </tr>\n",
       "    <tr>\n",
       "      <th>3</th>\n",
       "      <td>3797467345</td>\n",
       "      <td>1196621759</td>\n",
       "      <td>2019-08-15</td>\n",
       "      <td>9759</td>\n",
       "      <td>B</td>\n",
       "    </tr>\n",
       "    <tr>\n",
       "      <th>4</th>\n",
       "      <td>2282983706</td>\n",
       "      <td>2322279887</td>\n",
       "      <td>2019-08-15</td>\n",
       "      <td>2308</td>\n",
       "      <td>B</td>\n",
       "    </tr>\n",
       "    <tr>\n",
       "      <th>5</th>\n",
       "      <td>182168103</td>\n",
       "      <td>935554773</td>\n",
       "      <td>2019-08-15</td>\n",
       "      <td>2210</td>\n",
       "      <td>B</td>\n",
       "    </tr>\n",
       "    <tr>\n",
       "      <th>6</th>\n",
       "      <td>398296753</td>\n",
       "      <td>2900797465</td>\n",
       "      <td>2019-08-15</td>\n",
       "      <td>1860</td>\n",
       "      <td>B</td>\n",
       "    </tr>\n",
       "    <tr>\n",
       "      <th>7</th>\n",
       "      <td>2626614568</td>\n",
       "      <td>78758296</td>\n",
       "      <td>2019-08-15</td>\n",
       "      <td>1044</td>\n",
       "      <td>A</td>\n",
       "    </tr>\n",
       "    <tr>\n",
       "      <th>8</th>\n",
       "      <td>1576988021</td>\n",
       "      <td>295230930</td>\n",
       "      <td>2019-08-15</td>\n",
       "      <td>13710</td>\n",
       "      <td>A</td>\n",
       "    </tr>\n",
       "    <tr>\n",
       "      <th>9</th>\n",
       "      <td>1506739906</td>\n",
       "      <td>1882260405</td>\n",
       "      <td>2019-08-15</td>\n",
       "      <td>1855</td>\n",
       "      <td>B</td>\n",
       "    </tr>\n",
       "    <tr>\n",
       "      <th>10</th>\n",
       "      <td>3649131742</td>\n",
       "      <td>879864040</td>\n",
       "      <td>2019-08-15</td>\n",
       "      <td>4008</td>\n",
       "      <td>A</td>\n",
       "    </tr>\n",
       "  </tbody>\n",
       "</table>\n",
       "</div>"
      ],
      "text/plain": [
       "    transactionId   visitorId       date  revenue group\n",
       "0      3667963787  3312258926 2019-08-15     1650     B\n",
       "1      2804400009  3642806036 2019-08-15      730     B\n",
       "3      3797467345  1196621759 2019-08-15     9759     B\n",
       "4      2282983706  2322279887 2019-08-15     2308     B\n",
       "5       182168103   935554773 2019-08-15     2210     B\n",
       "6       398296753  2900797465 2019-08-15     1860     B\n",
       "7      2626614568    78758296 2019-08-15     1044     A\n",
       "8      1576988021   295230930 2019-08-15    13710     A\n",
       "9      1506739906  1882260405 2019-08-15     1855     B\n",
       "10     3649131742   879864040 2019-08-15     4008     A"
      ]
     },
     "execution_count": 52,
     "metadata": {},
     "output_type": "execute_result"
    }
   ],
   "source": [
    "orders.head(10)"
   ]
  },
  {
   "cell_type": "markdown",
   "metadata": {},
   "source": [
    "Не более 5% заказов имеют стоимость выше 28 000. И не более 1% имеют стоимость более 58 000. \n",
    "<br> Границу аномальных значений установим на уровне 50 000. "
   ]
  },
  {
   "cell_type": "markdown",
   "metadata": {},
   "source": [
    "#### Cтатистическая значимость различий в среднем количестве заказов на посетителя между группами по «сырым» данным"
   ]
  },
  {
   "cell_type": "markdown",
   "metadata": {},
   "source": [
    "\n",
    "Выдвигаем нулевую и альтернативную гипотезы:\n",
    "    <br>H0 - Статистически значимых различий в конверсии между группами нет</br>\n",
    "    <br>H1 - Статистически значимые различия в конверсии между группами присутствуют</br>\n",
    "\n"
   ]
  },
  {
   "cell_type": "code",
   "execution_count": 53,
   "metadata": {},
   "outputs": [
    {
     "data": {
      "text/html": [
       "<div>\n",
       "<style scoped>\n",
       "    .dataframe tbody tr th:only-of-type {\n",
       "        vertical-align: middle;\n",
       "    }\n",
       "\n",
       "    .dataframe tbody tr th {\n",
       "        vertical-align: top;\n",
       "    }\n",
       "\n",
       "    .dataframe thead th {\n",
       "        text-align: right;\n",
       "    }\n",
       "</style>\n",
       "<table border=\"1\" class=\"dataframe\">\n",
       "  <thead>\n",
       "    <tr style=\"text-align: right;\">\n",
       "      <th></th>\n",
       "      <th>date</th>\n",
       "      <th>ordersPerDateA</th>\n",
       "      <th>revenuePerDateA</th>\n",
       "      <th>ordersPerDateB</th>\n",
       "      <th>revenuePerDateB</th>\n",
       "      <th>ordersCummulativeA</th>\n",
       "      <th>revenueCummulativeA</th>\n",
       "      <th>ordersCummulativeB</th>\n",
       "      <th>revenueCummulativeB</th>\n",
       "      <th>visitorsPerDateA</th>\n",
       "      <th>visitorsPerDateB</th>\n",
       "      <th>visitorsCummulativeA</th>\n",
       "      <th>visitorsCummulativeB</th>\n",
       "    </tr>\n",
       "  </thead>\n",
       "  <tbody>\n",
       "    <tr>\n",
       "      <th>0</th>\n",
       "      <td>2019-08-01</td>\n",
       "      <td>23</td>\n",
       "      <td>142779</td>\n",
       "      <td>17</td>\n",
       "      <td>59758</td>\n",
       "      <td>23</td>\n",
       "      <td>142779</td>\n",
       "      <td>17</td>\n",
       "      <td>59758</td>\n",
       "      <td>719</td>\n",
       "      <td>713</td>\n",
       "      <td>719</td>\n",
       "      <td>713</td>\n",
       "    </tr>\n",
       "    <tr>\n",
       "      <th>1</th>\n",
       "      <td>2019-08-02</td>\n",
       "      <td>19</td>\n",
       "      <td>91602</td>\n",
       "      <td>23</td>\n",
       "      <td>162043</td>\n",
       "      <td>42</td>\n",
       "      <td>234381</td>\n",
       "      <td>40</td>\n",
       "      <td>221801</td>\n",
       "      <td>619</td>\n",
       "      <td>581</td>\n",
       "      <td>1338</td>\n",
       "      <td>1294</td>\n",
       "    </tr>\n",
       "    <tr>\n",
       "      <th>2</th>\n",
       "      <td>2019-08-03</td>\n",
       "      <td>24</td>\n",
       "      <td>112473</td>\n",
       "      <td>14</td>\n",
       "      <td>67049</td>\n",
       "      <td>66</td>\n",
       "      <td>346854</td>\n",
       "      <td>54</td>\n",
       "      <td>288850</td>\n",
       "      <td>507</td>\n",
       "      <td>509</td>\n",
       "      <td>1845</td>\n",
       "      <td>1803</td>\n",
       "    </tr>\n",
       "    <tr>\n",
       "      <th>3</th>\n",
       "      <td>2019-08-04</td>\n",
       "      <td>11</td>\n",
       "      <td>41176</td>\n",
       "      <td>14</td>\n",
       "      <td>96890</td>\n",
       "      <td>77</td>\n",
       "      <td>388030</td>\n",
       "      <td>68</td>\n",
       "      <td>385740</td>\n",
       "      <td>717</td>\n",
       "      <td>770</td>\n",
       "      <td>2562</td>\n",
       "      <td>2573</td>\n",
       "    </tr>\n",
       "    <tr>\n",
       "      <th>4</th>\n",
       "      <td>2019-08-05</td>\n",
       "      <td>22</td>\n",
       "      <td>86383</td>\n",
       "      <td>21</td>\n",
       "      <td>89908</td>\n",
       "      <td>99</td>\n",
       "      <td>474413</td>\n",
       "      <td>89</td>\n",
       "      <td>475648</td>\n",
       "      <td>756</td>\n",
       "      <td>707</td>\n",
       "      <td>3318</td>\n",
       "      <td>3280</td>\n",
       "    </tr>\n",
       "  </tbody>\n",
       "</table>\n",
       "</div>"
      ],
      "text/plain": [
       "        date  ordersPerDateA  revenuePerDateA  ordersPerDateB  \\\n",
       "0 2019-08-01              23           142779              17   \n",
       "1 2019-08-02              19            91602              23   \n",
       "2 2019-08-03              24           112473              14   \n",
       "3 2019-08-04              11            41176              14   \n",
       "4 2019-08-05              22            86383              21   \n",
       "\n",
       "   revenuePerDateB  ordersCummulativeA  revenueCummulativeA  \\\n",
       "0            59758                  23               142779   \n",
       "1           162043                  42               234381   \n",
       "2            67049                  66               346854   \n",
       "3            96890                  77               388030   \n",
       "4            89908                  99               474413   \n",
       "\n",
       "   ordersCummulativeB  revenueCummulativeB  visitorsPerDateA  \\\n",
       "0                  17                59758               719   \n",
       "1                  40               221801               619   \n",
       "2                  54               288850               507   \n",
       "3                  68               385740               717   \n",
       "4                  89               475648               756   \n",
       "\n",
       "   visitorsPerDateB  visitorsCummulativeA  visitorsCummulativeB  \n",
       "0               713                   719                   713  \n",
       "1               581                  1338                  1294  \n",
       "2               509                  1845                  1803  \n",
       "3               770                  2562                  2573  \n",
       "4               707                  3318                  3280  "
      ]
     },
     "execution_count": 53,
     "metadata": {},
     "output_type": "execute_result"
    }
   ],
   "source": [
    "# создадим новую переменную visitorsADaily - количество посетителей в день для группы А\n",
    "visitorsADaily = visitors[visitors['group'] == 'A'][['date', 'visitors']]\n",
    "visitorsADaily.columns = ['date', 'visitorsPerDateA']\n",
    "\n",
    "# создадим новую переменную visitorsACummulative - рассчитаем кумулятивное значение количества посетителей\n",
    "visitorsACummulative = visitorsADaily.apply(\n",
    "    lambda x: visitorsADaily[visitorsADaily['date'] <= x['date']].agg(\n",
    "        {'date': 'max', 'visitorsPerDateA': 'sum'}\n",
    "    ),\n",
    "    axis=1,\n",
    ")\n",
    "visitorsACummulative.columns = ['date', 'visitorsCummulativeA']\n",
    "# спроделаем тоже самое для группы В\n",
    "visitorsBDaily = visitors[visitors['group'] == 'B'][['date', 'visitors']]\n",
    "visitorsBDaily.columns = ['date', 'visitorsPerDateB']\n",
    "\n",
    "visitorsBCummulative = visitorsBDaily.apply(\n",
    "    lambda x: visitorsBDaily[visitorsBDaily['date'] <= x['date']].agg(\n",
    "        {'date': 'max', 'visitorsPerDateB': 'sum'}\n",
    "    ),\n",
    "    axis=1,\n",
    ")\n",
    "visitorsBCummulative.columns = ['date', 'visitorsCummulativeB']\n",
    "\n",
    "# создадим новую переменную ordersADaily - стоимость заказов и количество заказов в день для группы А\n",
    "ordersADaily = (\n",
    "    orders[orders['group'] == 'A'][['date', 'transactionId', 'visitorId', 'revenue']]\n",
    "    .groupby('date', as_index=False)\n",
    "    .agg({'transactionId': pd.Series.nunique, 'revenue': 'sum'})\n",
    ")\n",
    "ordersADaily.columns = ['date', 'ordersPerDateA', 'revenuePerDateA']\n",
    "\n",
    "# создадим новую переменную ordersACummulative - рассчитаем кумулятивные значения стоимости и количества заказов\n",
    "ordersACummulative = ordersADaily.apply(\n",
    "    lambda x: ordersADaily[ordersADaily['date'] <= x['date']].agg(\n",
    "        {'date': 'max', 'ordersPerDateA': 'sum', 'revenuePerDateA': 'sum'}\n",
    "    ),\n",
    "    axis=1,\n",
    ").sort_values(by=['date'])\n",
    "ordersACummulative.columns = [\n",
    "    'date',\n",
    "    'ordersCummulativeA',\n",
    "    'revenueCummulativeA',\n",
    "]\n",
    "\n",
    "# тоже самое для группы В\n",
    "ordersBDaily = (\n",
    "    orders[orders['group'] == 'B'][['date', 'transactionId', 'visitorId', 'revenue']]\n",
    "    .groupby('date', as_index=False)\n",
    "    .agg({'transactionId': pd.Series.nunique, 'revenue': 'sum'})\n",
    ")\n",
    "ordersBDaily.columns = ['date', 'ordersPerDateB', 'revenuePerDateB']\n",
    "\n",
    "ordersBCummulative = ordersBDaily.apply(\n",
    "    lambda x: ordersBDaily[ordersBDaily['date'] <= x['date']].agg(\n",
    "        {'date': 'max', 'ordersPerDateB': 'sum', 'revenuePerDateB': 'sum'}\n",
    "    ),\n",
    "    axis=1,\n",
    ").sort_values(by=['date'])\n",
    "ordersBCummulative.columns = [\n",
    "    'date',\n",
    "    'ordersCummulativeB',\n",
    "    'revenueCummulativeB',\n",
    "]\n",
    "# создадим переменную data и соединим все таблицы\n",
    "data = (\n",
    "    ordersADaily.merge(\n",
    "        ordersBDaily, left_on='date', right_on='date', how='left'\n",
    "    )\n",
    "    .merge(ordersACummulative, left_on='date', right_on='date', how='left')\n",
    "    .merge(ordersBCummulative, left_on='date', right_on='date', how='left')\n",
    "    .merge(visitorsADaily, left_on='date', right_on='date', how='left')\n",
    "    .merge(visitorsBDaily, left_on='date', right_on='date', how='left')\n",
    "    .merge(visitorsACummulative, left_on='date', right_on='date', how='left')\n",
    "    .merge(visitorsBCummulative, left_on='date', right_on='date', how='left')\n",
    ")\n",
    "\n",
    "data.head()"
   ]
  },
  {
   "cell_type": "code",
   "execution_count": 54,
   "metadata": {},
   "outputs": [
    {
     "name": "stdout",
     "output_type": "stream",
     "text": [
      "0.011\n",
      "0.160\n"
     ]
    }
   ],
   "source": [
    "# создадим переменные ordersByUsersA и ordersByUsersB \n",
    "# где для пользователей, совершивших хотя бы 1 заказ, будет указано число заказов. \n",
    "ordersByUsersA = (\n",
    "    orders[orders['group'] == 'A']\n",
    "    .groupby('visitorId', as_index=False)\n",
    "    .agg({'transactionId': pd.Series.nunique})\n",
    ")\n",
    "ordersByUsersA.columns = ['userId', 'orders']\n",
    "\n",
    "ordersByUsersB = (\n",
    "    orders[orders['group'] == 'B']\n",
    "    .groupby('visitorId', as_index=False)\n",
    "    .agg({'transactionId': pd.Series.nunique})\n",
    ")\n",
    "ordersByUsersB.columns = ['userId', 'orders']\n",
    "# создадим переменные sampleA и sampleB, в которых пользователям с заказами будет соответствовать число заказов пользователя. \n",
    "# А пользователям без заказов — нули. \n",
    "sampleA = pd.concat\\\n",
    "([ordersByUsersA['orders'],\n",
    "  pd.Series(0, index=np.arange(data['visitorsPerDateA'].sum() - len(ordersByUsersA['orders'])), name='orders')],axis=0)\n",
    "\n",
    "sampleB = pd.concat\\\n",
    "([ordersByUsersB['orders'],\n",
    "  pd.Series(0, index=np.arange(data['visitorsPerDateB'].sum() - len(ordersByUsersB['orders'])), name='orders')],axis=0)\n",
    "# посчитаем статистическую значимость\n",
    "print(\"{0:.3f}\".format(stats.mannwhitneyu(sampleA, sampleB)[1]))\n",
    "print(\"{0:.3f}\".format((data['ordersPerDateB'].sum()/data['visitorsPerDateB'].sum())\\\n",
    "                       /(data['ordersPerDateA'].sum()/data['visitorsPerDateA'].sum())-1))"
   ]
  },
  {
   "cell_type": "markdown",
   "metadata": {},
   "source": [
    "\n",
    "P-value меньше 0.05. Соответственно, нулевую гипотезу отвергаем.\n",
    "По \"сырым данным\" можно предположить, что в среднем количестве заказов на посетителя между группами присутствует значимые статистические различия. Относительное различие в среднем между группами 16%"
   ]
  },
  {
   "cell_type": "markdown",
   "metadata": {},
   "source": [
    "#### Cтатистическая значимость различий в среднем чеке заказа между группами по «сырым» данным."
   ]
  },
  {
   "cell_type": "markdown",
   "metadata": {},
   "source": [
    "\n",
    "Выдвигаем нулевую и альтернативную гипотезы:\n",
    "    <br>H0 - Статистически значимых различий в среднем чеке заказа между группами нет</br>\n",
    "    <br>H1 - Статистически значимые различия в среднем чеке заказа между группами присутствуют</br>\n"
   ]
  },
  {
   "cell_type": "code",
   "execution_count": 55,
   "metadata": {},
   "outputs": [
    {
     "name": "stdout",
     "output_type": "stream",
     "text": [
      "0.829\n",
      "0.287\n"
     ]
    }
   ],
   "source": [
    "# посчитаем статистическую значимость\n",
    "print('{0:.3f}'\\\n",
    "      .format(stats.mannwhitneyu(orders[orders['group']=='A']['revenue'], orders[orders['group']=='B']['revenue'])[1]))\n",
    "print('{0:.3f}'\\\n",
    "      .format(orders[orders['group']=='B']['revenue'].mean()/orders[orders['group']=='A']['revenue'].mean()-1)) "
   ]
  },
  {
   "cell_type": "markdown",
   "metadata": {},
   "source": [
    "P-value намного больше 0.05. Причин отвергать нулевую гипотезу и считать, что в среднем чеке есть различия, нет. \n",
    "<br> Средний чек группы B значительно выше среднего чека группы A."
   ]
  },
  {
   "cell_type": "markdown",
   "metadata": {},
   "source": [
    "#### Статистическая значимость различий в среднем чеке заказа между группами по «очищенным» данным."
   ]
  },
  {
   "cell_type": "markdown",
   "metadata": {},
   "source": [
    "\n",
    "Выдвигаем нулевую и альтернативную гипотезы:\n",
    "    <br>H0 - Статистически значимых различий в среднем чеке заказа между группами нет</br>\n",
    "    <br>H1 - Статистически значимые различия в среднем чеке заказа между группами присутствуют</br>\n"
   ]
  },
  {
   "cell_type": "code",
   "execution_count": 57,
   "metadata": {},
   "outputs": [
    {
     "data": {
      "text/plain": [
       "1099    148427295\n",
       "33      249864742\n",
       "58      611059232\n",
       "1137    759473111\n",
       "949     887908475\n",
       "dtype: int64"
      ]
     },
     "execution_count": 57,
     "metadata": {},
     "output_type": "execute_result"
    }
   ],
   "source": [
    "# для начала приступим к подготовке \"очищенных\" данных\n",
    "# создадим датафреймы клиентов с большим количеством заказов и клиентов с аномально дорогими заказами\n",
    "usersWithManyOrders = pd.concat(\n",
    "    [\n",
    "        ordersByUsersA[ordersByUsersA['orders'] >= 3]['userId'],\n",
    "        ordersByUsersB[ordersByUsersB['orders'] >= 3]['userId'],\n",
    "    ],\n",
    "    axis=0,\n",
    ")\n",
    "usersWithExpensiveOrders = orders[orders['revenue'] > 50000]['visitorId']\n",
    "# объединим 2 датафрейма, удалим дубликаты и отсортируем, чтобы получить множество аномальных пользователей\n",
    "abnormalUsers = (\n",
    "    pd.concat([usersWithManyOrders, usersWithExpensiveOrders], axis=0)\n",
    "    .drop_duplicates()\n",
    "    .sort_values()\n",
    ")\n",
    "abnormalUsers.head()"
   ]
  },
  {
   "cell_type": "code",
   "execution_count": 58,
   "metadata": {},
   "outputs": [
    {
     "name": "stdout",
     "output_type": "stream",
     "text": [
      "0.939\n",
      "0.011\n"
     ]
    }
   ],
   "source": [
    "# рассчитаем статистическую значимость без учёта \"аномальных\" данных\n",
    "print(\n",
    "    '{0:.3f}'.format(\n",
    "        stats.mannwhitneyu(\n",
    "            orders[\n",
    "                np.logical_and(\n",
    "                    orders['group'] == 'A',\n",
    "                    np.logical_not(orders['visitorId'].isin(abnormalUsers)),\n",
    "                )\n",
    "            ]['revenue'],\n",
    "            orders[\n",
    "                np.logical_and(\n",
    "                    orders['group'] == 'B',\n",
    "                    np.logical_not(orders['visitorId'].isin(abnormalUsers)),\n",
    "                )\n",
    "            ]['revenue'],\n",
    "        )[1]\n",
    "    )\n",
    ")\n",
    "\n",
    "print(\n",
    "    \"{0:.3f}\".format(\n",
    "        orders[\n",
    "            np.logical_and(\n",
    "                orders['group'] == 'B',\n",
    "                np.logical_not(orders['visitorId'].isin(abnormalUsers)),\n",
    "            )\n",
    "        ]['revenue'].mean()\n",
    "        / orders[\n",
    "            np.logical_and(\n",
    "                orders['group'] == 'A',\n",
    "                np.logical_not(orders['visitorId'].isin(abnormalUsers)),\n",
    "            )\n",
    "        ]['revenue'].mean()\n",
    "        - 1\n",
    "    )\n",
    ")"
   ]
  },
  {
   "cell_type": "markdown",
   "metadata": {},
   "source": [
    "P-value увеличился, но и разница между сегментами сократилась с 26% до 1,9%.\n",
    "<br> Общие выводы не изменились, но можно увидеть, как сильно аномалии влияют на результаты A/B теста</br>\n",
    "<br> Средний чек группы B выше среднего чека группы A, но, уже не так значительно</br>"
   ]
  },
  {
   "cell_type": "markdown",
   "metadata": {},
   "source": [
    "\n",
    "P-value увеличился, но и разница между сегментами сократилась с 26% до 1,1%.\n",
    "Общие выводы не изменились, но можно увидеть, как сильно аномалии влияют на результаты A/B теста\n",
    "Средний чек группы B выше среднего чека группы A, но, уже не так значительно\n"
   ]
  },
  {
   "cell_type": "markdown",
   "metadata": {},
   "source": [
    "#### Статистическая значимость различий в среднем количестве заказов на посетителя между группами  по «очищенным» данным"
   ]
  },
  {
   "cell_type": "code",
   "execution_count": 59,
   "metadata": {},
   "outputs": [
    {
     "name": "stdout",
     "output_type": "stream",
     "text": [
      "0.00561\n",
      "0.198\n"
     ]
    }
   ],
   "source": [
    "# создадим переменные, в которых сохраним очищенные данные о заказах — не включая аномальных пользователей\n",
    "sampleAFiltered = pd.concat(\n",
    "    [\n",
    "        ordersByUsersA[\n",
    "            np.logical_not(ordersByUsersA['userId'].isin(abnormalUsers))\n",
    "        ]['orders'],\n",
    "        pd.Series(\n",
    "            0,\n",
    "            index=np.arange(\n",
    "                data['visitorsPerDateA'].sum() - len(ordersByUsersA['orders'])\n",
    "            ),\n",
    "            name='orders',\n",
    "        ),\n",
    "    ],\n",
    "    axis=0,\n",
    ")\n",
    "\n",
    "sampleBFiltered = pd.concat(\n",
    "    [\n",
    "        ordersByUsersB[\n",
    "            np.logical_not(ordersByUsersB['userId'].isin(abnormalUsers))\n",
    "        ]['orders'],\n",
    "        pd.Series(\n",
    "            0,\n",
    "            index=np.arange(\n",
    "                data['visitorsPerDateB'].sum() - len(ordersByUsersB['orders'])\n",
    "            ),\n",
    "            name='orders',\n",
    "        ),\n",
    "    ],\n",
    "    axis=0,\n",
    ")\n",
    "# рассчитаем статистическую значимость без учёта \"аномальных\" данных \n",
    "print('{0:.5f}'.format(stats.mannwhitneyu(sampleAFiltered, sampleBFiltered)[1]))\n",
    "print('{0:.3f}'.format(sampleBFiltered.mean()/sampleAFiltered.mean()-1)) "
   ]
  },
  {
   "cell_type": "markdown",
   "metadata": {},
   "source": [
    "\n",
    "P-value стал еще меньше 0.05. Соответственно, нулевую гипотезу отвергаем. По \"очищенным данным\" можно предположить, что в среднем количестве заказов на посетителя между группами присутствует значимые статистические различия. Относительное различие увеличилось и в среднем между группами - 19.8%\n"
   ]
  },
  {
   "cell_type": "markdown",
   "metadata": {},
   "source": [
    "#### Вывод:"
   ]
  },
  {
   "cell_type": "markdown",
   "metadata": {},
   "source": [
    "Присутствует статистически значимое различие по среднему количеству заказов между группами и по «сырым», и по данным после удаления аномалий;\n",
    "<br> Нет статистически значимого различия по среднему чеку между группами ни по «сырым», ни по данным после фильтрации аномалий;</br>\n",
    "<br> По графику среднего количества заказов можно утверждать, что группа В лидировало бОльшую часть времени;</br>\n",
    "<br> График среднего чека колеблется </br>\n",
    "<br> Таким образом, можно зафиксировать победу группы В и остановить тест. Т.к. присутствуют статистически значимое относительное различие по \"очищенным\" данным между группой В и А  - 18.2% в пользу группы В. "
   ]
  },
  {
   "cell_type": "markdown",
   "metadata": {},
   "source": [
    "### Общий вывод"
   ]
  },
  {
   "cell_type": "markdown",
   "metadata": {},
   "source": [
    "Вместе с отделом маркетинга был подготовлен список гипотез для увеличения выручки компании.\n",
    "<br> В процессе, была проведена приоритизация гипотез, запущен A/B-тест и проанализированы результаты.</br>\n",
    "<br>Представленные данные A/B-теста включают в себя информацию за август 2019 года. </br>\n",
    "<br>В данном проекта была проведена предобработка данных для приведения информации к нужному типу/формату</br>\n",
    "<br><b>Приоритизация гипотез:</b></br>\n",
    "<br>В соответствии с фреймворком ICE, самой перспективной гипотезой является <i>\"Запустить акцию, дающую скидку на товар в день рождения\" </i>с показателем 16.2.</br>\n",
    "<br>В соответствии с фреймворком RICE, самой перспективной гипотезой является <i>\"Добавить форму подписки на все основные страницы, чтобы собрать базу клиентов для email-рассылок\"</i> с показателем 112.</br>\n",
    "<br>В первую очередь, разница в приоритизации гипотез произошла по причине учёта показателя охвата Reach.  В данном случае, победившая гипотеза по RICE имеет самый большой показатель охвата пользователей. </br>\n",
    "<br>Самая неперспективная гипотеза - <i>\"Изменить цвет фона главной страницы, чтобы увеличить вовлеченность пользователей\"</i> и её внедрение наименее вероятно</br>\n",
    "<br><b>Анализ A/B-теста</b></br>\n",
    "<br>При анализе кумулятивной выручки по группам, на протяжении всего теста, лидировала группа В с резким увеличением разрыва 13го августа. Это, в первую очередь, произошло из-за аномального значения стоимости продажи - 1 200 000.</br>\n",
    "<br>Анализ кумулятивного среднего чека показал, что наблюдались колебания на протяжении половины периода, и, затем, снова резкое увеличение показателя у группы В. Причина аналогична.</br>\n",
    "<br>Анализ кумулятивного среднего количества заказов на посетителя по группам показал, что начиная с 6 августа, лидировала (с постепенным увеличением разрыва) В группа.</br>\n",
    "<br> С помощью графика количества заказов по пользователем удалось определить вероятное наличие аномальных значений в датасете.</br> Определили, что пользователи с 3 и более заказами являются аномальными.\n",
    "<br> Границу аномальных значений по стоимости заказов в ходе анализа, была  установлена на уровне 50 000.</br>\n",
    "<br> Было определно, что присутствует статистически значимое различие по среднему количеству заказов между группами и по «сырым», и по данным после удаления аномалий.\n",
    "Не было определено статистически значимое различие по среднему чеку между группами ни по «сырым», ни по данным после фильтрации аномалий.\n",
    "<br>Была зафиксирована однозначная победа группы В. Относительное различие по \"очищенным\" данным между группой В и А установлено в размере 18.2% в пользу группы В.</br>\n"
   ]
  },
  {
   "cell_type": "code",
   "execution_count": null,
   "metadata": {},
   "outputs": [],
   "source": []
  }
 ],
 "metadata": {
  "ExecuteTimeLog": [
   {
    "duration": 1425,
    "start_time": "2023-01-28T08:55:57.729Z"
   },
   {
    "duration": 251,
    "start_time": "2023-01-28T08:56:44.640Z"
   },
   {
    "duration": 84,
    "start_time": "2023-01-28T08:58:15.077Z"
   },
   {
    "duration": 92,
    "start_time": "2023-01-28T08:58:30.625Z"
   },
   {
    "duration": 90,
    "start_time": "2023-01-28T08:58:42.065Z"
   },
   {
    "duration": 14,
    "start_time": "2023-01-28T09:01:02.732Z"
   },
   {
    "duration": 10,
    "start_time": "2023-01-28T09:02:07.929Z"
   },
   {
    "duration": 13,
    "start_time": "2023-01-28T09:03:07.782Z"
   },
   {
    "duration": 7,
    "start_time": "2023-01-28T09:04:59.433Z"
   },
   {
    "duration": 10,
    "start_time": "2023-01-28T09:05:22.942Z"
   },
   {
    "duration": 180,
    "start_time": "2023-01-28T09:07:26.714Z"
   },
   {
    "duration": 170,
    "start_time": "2023-01-28T09:07:32.660Z"
   },
   {
    "duration": 162,
    "start_time": "2023-01-28T09:11:19.424Z"
   },
   {
    "duration": 165,
    "start_time": "2023-01-28T09:13:21.548Z"
   },
   {
    "duration": 8,
    "start_time": "2023-01-28T09:22:22.327Z"
   },
   {
    "duration": 9,
    "start_time": "2023-01-28T09:25:03.475Z"
   },
   {
    "duration": 112,
    "start_time": "2023-01-28T09:28:58.924Z"
   },
   {
    "duration": 7,
    "start_time": "2023-01-28T09:29:03.882Z"
   },
   {
    "duration": 4,
    "start_time": "2023-01-28T09:29:45.493Z"
   },
   {
    "duration": 6,
    "start_time": "2023-01-28T09:29:51.925Z"
   },
   {
    "duration": 7,
    "start_time": "2023-01-28T09:31:43.609Z"
   },
   {
    "duration": 11,
    "start_time": "2023-01-28T09:31:51.932Z"
   },
   {
    "duration": 285,
    "start_time": "2023-01-28T09:34:00.580Z"
   },
   {
    "duration": 271,
    "start_time": "2023-01-28T09:35:26.188Z"
   },
   {
    "duration": 273,
    "start_time": "2023-01-28T09:36:09.846Z"
   },
   {
    "duration": 16,
    "start_time": "2023-01-28T09:38:51.900Z"
   },
   {
    "duration": 3,
    "start_time": "2023-01-28T09:47:39.262Z"
   },
   {
    "duration": 4,
    "start_time": "2023-01-28T09:51:44.824Z"
   },
   {
    "duration": 13,
    "start_time": "2023-01-28T09:51:55.171Z"
   },
   {
    "duration": 11,
    "start_time": "2023-01-28T09:53:09.339Z"
   },
   {
    "duration": 14,
    "start_time": "2023-01-28T09:53:17.258Z"
   },
   {
    "duration": 6,
    "start_time": "2023-01-28T09:55:18.525Z"
   },
   {
    "duration": 19,
    "start_time": "2023-01-28T09:58:48.908Z"
   },
   {
    "duration": 1378,
    "start_time": "2023-01-29T10:05:54.041Z"
   },
   {
    "duration": 228,
    "start_time": "2023-01-29T10:05:58.531Z"
   },
   {
    "duration": 12,
    "start_time": "2023-01-29T10:06:00.756Z"
   },
   {
    "duration": 9,
    "start_time": "2023-01-29T10:06:02.522Z"
   },
   {
    "duration": 12,
    "start_time": "2023-01-29T10:06:04.236Z"
   },
   {
    "duration": 7,
    "start_time": "2023-01-29T10:06:05.879Z"
   },
   {
    "duration": 10,
    "start_time": "2023-01-29T10:06:07.043Z"
   },
   {
    "duration": 193,
    "start_time": "2023-01-29T10:06:08.978Z"
   },
   {
    "duration": 305,
    "start_time": "2023-01-29T10:06:11.404Z"
   },
   {
    "duration": 177,
    "start_time": "2023-01-29T10:06:13.911Z"
   },
   {
    "duration": 327,
    "start_time": "2023-01-29T10:06:16.156Z"
   },
   {
    "duration": 4,
    "start_time": "2023-01-29T10:06:19.007Z"
   },
   {
    "duration": 11,
    "start_time": "2023-01-29T10:06:20.059Z"
   },
   {
    "duration": 8,
    "start_time": "2023-01-29T10:06:21.723Z"
   },
   {
    "duration": 8,
    "start_time": "2023-01-29T10:06:23.303Z"
   },
   {
    "duration": 8,
    "start_time": "2023-01-29T10:06:24.515Z"
   },
   {
    "duration": 5,
    "start_time": "2023-01-29T10:06:26.414Z"
   },
   {
    "duration": 5,
    "start_time": "2023-01-29T10:06:27.235Z"
   },
   {
    "duration": 9,
    "start_time": "2023-01-29T10:06:28.923Z"
   },
   {
    "duration": 10,
    "start_time": "2023-01-29T10:06:30.704Z"
   },
   {
    "duration": 7,
    "start_time": "2023-01-29T10:06:32.404Z"
   },
   {
    "duration": 12,
    "start_time": "2023-01-29T10:06:34.267Z"
   },
   {
    "duration": 351,
    "start_time": "2023-01-29T10:08:57.040Z"
   },
   {
    "duration": 338,
    "start_time": "2023-01-29T10:09:20.866Z"
   },
   {
    "duration": 1262,
    "start_time": "2023-01-29T10:09:52.720Z"
   },
   {
    "duration": 81,
    "start_time": "2023-01-29T10:09:54.810Z"
   },
   {
    "duration": 12,
    "start_time": "2023-01-29T10:09:57.208Z"
   },
   {
    "duration": 9,
    "start_time": "2023-01-29T10:09:58.708Z"
   },
   {
    "duration": 11,
    "start_time": "2023-01-29T10:10:00.226Z"
   },
   {
    "duration": 8,
    "start_time": "2023-01-29T10:10:01.631Z"
   },
   {
    "duration": 10,
    "start_time": "2023-01-29T10:10:03.632Z"
   },
   {
    "duration": 206,
    "start_time": "2023-01-29T10:10:05.104Z"
   },
   {
    "duration": 345,
    "start_time": "2023-01-29T10:10:20.080Z"
   },
   {
    "duration": 183,
    "start_time": "2023-01-29T10:10:31.015Z"
   },
   {
    "duration": 298,
    "start_time": "2023-01-29T10:10:40.274Z"
   },
   {
    "duration": 299,
    "start_time": "2023-01-29T10:10:50.249Z"
   },
   {
    "duration": 326,
    "start_time": "2023-01-29T10:11:07.334Z"
   },
   {
    "duration": 4,
    "start_time": "2023-01-29T10:12:51.060Z"
   },
   {
    "duration": 4,
    "start_time": "2023-01-29T10:13:00.562Z"
   },
   {
    "duration": 6,
    "start_time": "2023-01-29T10:13:33.255Z"
   },
   {
    "duration": 5,
    "start_time": "2023-01-29T10:13:39.442Z"
   },
   {
    "duration": 3,
    "start_time": "2023-01-29T10:14:02.181Z"
   },
   {
    "duration": 11,
    "start_time": "2023-01-29T10:14:02.833Z"
   },
   {
    "duration": 7,
    "start_time": "2023-01-29T10:14:04.720Z"
   },
   {
    "duration": 9,
    "start_time": "2023-01-29T10:14:06.384Z"
   },
   {
    "duration": 9,
    "start_time": "2023-01-29T10:14:07.679Z"
   },
   {
    "duration": 4,
    "start_time": "2023-01-29T10:14:09.353Z"
   },
   {
    "duration": 5,
    "start_time": "2023-01-29T10:14:09.855Z"
   },
   {
    "duration": 10,
    "start_time": "2023-01-29T10:14:11.326Z"
   },
   {
    "duration": 11,
    "start_time": "2023-01-29T10:14:13.336Z"
   },
   {
    "duration": 4,
    "start_time": "2023-01-29T10:14:15.238Z"
   },
   {
    "duration": 13,
    "start_time": "2023-01-29T10:14:17.336Z"
   },
   {
    "duration": 294,
    "start_time": "2023-01-29T10:15:28.388Z"
   },
   {
    "duration": 191,
    "start_time": "2023-01-29T10:16:04.776Z"
   },
   {
    "duration": 219,
    "start_time": "2023-01-29T10:16:26.380Z"
   },
   {
    "duration": 202,
    "start_time": "2023-01-29T10:16:41.379Z"
   },
   {
    "duration": 168,
    "start_time": "2023-01-29T10:16:47.524Z"
   },
   {
    "duration": 9,
    "start_time": "2023-01-29T10:18:30.522Z"
   },
   {
    "duration": 198,
    "start_time": "2023-01-29T10:18:35.268Z"
   },
   {
    "duration": 1169,
    "start_time": "2023-01-29T10:19:05.092Z"
   },
   {
    "duration": 84,
    "start_time": "2023-01-29T10:19:08.373Z"
   },
   {
    "duration": 13,
    "start_time": "2023-01-29T10:19:11.125Z"
   },
   {
    "duration": 8,
    "start_time": "2023-01-29T10:19:12.825Z"
   },
   {
    "duration": 12,
    "start_time": "2023-01-29T10:19:14.639Z"
   },
   {
    "duration": 8,
    "start_time": "2023-01-29T10:19:16.217Z"
   },
   {
    "duration": 10,
    "start_time": "2023-01-29T10:19:17.320Z"
   },
   {
    "duration": 190,
    "start_time": "2023-01-29T10:19:18.635Z"
   },
   {
    "duration": 311,
    "start_time": "2023-01-29T10:19:21.048Z"
   },
   {
    "duration": 5,
    "start_time": "2023-01-29T10:19:23.425Z"
   },
   {
    "duration": 4,
    "start_time": "2023-01-29T10:19:24.648Z"
   },
   {
    "duration": 172,
    "start_time": "2023-01-29T10:19:26.232Z"
   },
   {
    "duration": 299,
    "start_time": "2023-01-29T10:19:28.531Z"
   },
   {
    "duration": 4,
    "start_time": "2023-01-29T10:19:30.587Z"
   },
   {
    "duration": 5,
    "start_time": "2023-01-29T10:19:31.638Z"
   },
   {
    "duration": 8,
    "start_time": "2023-01-29T10:19:33.523Z"
   },
   {
    "duration": 4,
    "start_time": "2023-01-29T10:19:34.838Z"
   },
   {
    "duration": 10,
    "start_time": "2023-01-29T10:19:35.462Z"
   },
   {
    "duration": 9,
    "start_time": "2023-01-29T10:19:37.252Z"
   },
   {
    "duration": 9,
    "start_time": "2023-01-29T10:19:38.648Z"
   },
   {
    "duration": 7,
    "start_time": "2023-01-29T10:19:40.140Z"
   },
   {
    "duration": 5,
    "start_time": "2023-01-29T10:19:41.548Z"
   },
   {
    "duration": 4,
    "start_time": "2023-01-29T10:19:42.824Z"
   },
   {
    "duration": 10,
    "start_time": "2023-01-29T10:19:44.343Z"
   },
   {
    "duration": 12,
    "start_time": "2023-01-29T10:19:46.519Z"
   },
   {
    "duration": 4,
    "start_time": "2023-01-29T10:19:48.471Z"
   },
   {
    "duration": 12,
    "start_time": "2023-01-29T10:19:50.127Z"
   },
   {
    "duration": 354,
    "start_time": "2023-01-29T10:19:52.727Z"
   },
   {
    "duration": 1266,
    "start_time": "2023-01-29T10:21:24.620Z"
   },
   {
    "duration": 82,
    "start_time": "2023-01-29T10:21:26.457Z"
   },
   {
    "duration": 15,
    "start_time": "2023-01-29T10:21:28.223Z"
   },
   {
    "duration": 8,
    "start_time": "2023-01-29T10:21:29.747Z"
   },
   {
    "duration": 11,
    "start_time": "2023-01-29T10:21:31.348Z"
   },
   {
    "duration": 9,
    "start_time": "2023-01-29T10:21:33.119Z"
   },
   {
    "duration": 14,
    "start_time": "2023-01-29T10:21:34.176Z"
   },
   {
    "duration": 191,
    "start_time": "2023-01-29T10:21:35.736Z"
   },
   {
    "duration": 312,
    "start_time": "2023-01-29T10:21:38.320Z"
   },
   {
    "duration": 5,
    "start_time": "2023-01-29T10:21:40.274Z"
   },
   {
    "duration": 5,
    "start_time": "2023-01-29T10:21:40.663Z"
   },
   {
    "duration": 172,
    "start_time": "2023-01-29T10:21:41.719Z"
   },
   {
    "duration": 302,
    "start_time": "2023-01-29T10:21:43.766Z"
   },
   {
    "duration": 5,
    "start_time": "2023-01-29T10:21:45.768Z"
   },
   {
    "duration": 4,
    "start_time": "2023-01-29T10:21:46.186Z"
   },
   {
    "duration": 4,
    "start_time": "2023-01-29T10:21:47.748Z"
   },
   {
    "duration": 11,
    "start_time": "2023-01-29T10:21:48.332Z"
   },
   {
    "duration": 7,
    "start_time": "2023-01-29T10:21:49.760Z"
   },
   {
    "duration": 9,
    "start_time": "2023-01-29T10:21:51.026Z"
   },
   {
    "duration": 8,
    "start_time": "2023-01-29T10:21:52.429Z"
   },
   {
    "duration": 5,
    "start_time": "2023-01-29T10:21:53.961Z"
   },
   {
    "duration": 5,
    "start_time": "2023-01-29T10:21:54.927Z"
   },
   {
    "duration": 11,
    "start_time": "2023-01-29T10:21:56.415Z"
   },
   {
    "duration": 12,
    "start_time": "2023-01-29T10:21:58.143Z"
   },
   {
    "duration": 5,
    "start_time": "2023-01-29T10:22:00.160Z"
   },
   {
    "duration": 13,
    "start_time": "2023-01-29T10:22:01.677Z"
   },
   {
    "duration": 12,
    "start_time": "2023-01-29T10:23:23.223Z"
   },
   {
    "duration": 50,
    "start_time": "2023-01-29T10:29:33.327Z"
   },
   {
    "duration": 173,
    "start_time": "2023-01-29T10:29:45.955Z"
   },
   {
    "duration": 180,
    "start_time": "2023-01-29T10:29:53.635Z"
   },
   {
    "duration": 135,
    "start_time": "2023-01-29T10:32:19.639Z"
   },
   {
    "duration": 18,
    "start_time": "2023-01-29T10:34:24.018Z"
   },
   {
    "duration": 13,
    "start_time": "2023-01-29T10:34:55.732Z"
   },
   {
    "duration": 13,
    "start_time": "2023-01-29T10:37:31.232Z"
   },
   {
    "duration": 13,
    "start_time": "2023-01-29T10:37:36.885Z"
   },
   {
    "duration": 11,
    "start_time": "2023-01-29T10:37:42.687Z"
   },
   {
    "duration": 8,
    "start_time": "2023-01-29T10:37:48.367Z"
   },
   {
    "duration": 273,
    "start_time": "2023-01-29T10:39:10.686Z"
   },
   {
    "duration": 278,
    "start_time": "2023-01-29T10:39:20.037Z"
   },
   {
    "duration": 289,
    "start_time": "2023-01-29T10:41:06.473Z"
   },
   {
    "duration": 467,
    "start_time": "2023-01-29T10:43:01.322Z"
   },
   {
    "duration": 271,
    "start_time": "2023-01-29T10:43:28.373Z"
   },
   {
    "duration": 288,
    "start_time": "2023-01-29T10:45:44.960Z"
   },
   {
    "duration": 275,
    "start_time": "2023-01-29T10:46:00.730Z"
   },
   {
    "duration": 5,
    "start_time": "2023-01-29T10:46:56.738Z"
   },
   {
    "duration": 297,
    "start_time": "2023-01-29T10:47:06.069Z"
   },
   {
    "duration": 270,
    "start_time": "2023-01-29T10:47:34.870Z"
   },
   {
    "duration": 272,
    "start_time": "2023-01-29T10:48:00.932Z"
   },
   {
    "duration": 278,
    "start_time": "2023-01-29T10:48:45.525Z"
   },
   {
    "duration": 303,
    "start_time": "2023-01-29T10:49:13.441Z"
   },
   {
    "duration": 310,
    "start_time": "2023-01-29T10:49:37.783Z"
   },
   {
    "duration": 277,
    "start_time": "2023-01-29T10:50:00.698Z"
   },
   {
    "duration": 3,
    "start_time": "2023-01-29T10:51:24.567Z"
   },
   {
    "duration": 365,
    "start_time": "2023-01-29T10:51:28.426Z"
   },
   {
    "duration": 202,
    "start_time": "2023-01-29T10:52:04.441Z"
   },
   {
    "duration": 439,
    "start_time": "2023-01-29T10:52:21.331Z"
   },
   {
    "duration": 14,
    "start_time": "2023-01-29T10:52:34.995Z"
   },
   {
    "duration": 259,
    "start_time": "2023-01-29T10:52:38.956Z"
   },
   {
    "duration": 191,
    "start_time": "2023-01-29T10:52:54.626Z"
   },
   {
    "duration": 9,
    "start_time": "2023-01-29T10:53:05.556Z"
   },
   {
    "duration": 10,
    "start_time": "2023-01-29T10:53:39.019Z"
   },
   {
    "duration": 1208,
    "start_time": "2023-01-29T10:55:50.555Z"
   },
   {
    "duration": 83,
    "start_time": "2023-01-29T10:55:53.157Z"
   },
   {
    "duration": 12,
    "start_time": "2023-01-29T10:55:55.771Z"
   },
   {
    "duration": 8,
    "start_time": "2023-01-29T10:55:57.597Z"
   },
   {
    "duration": 12,
    "start_time": "2023-01-29T10:55:59.823Z"
   },
   {
    "duration": 8,
    "start_time": "2023-01-29T10:56:01.583Z"
   },
   {
    "duration": 11,
    "start_time": "2023-01-29T10:56:02.735Z"
   },
   {
    "duration": 195,
    "start_time": "2023-01-29T10:56:04.344Z"
   },
   {
    "duration": 311,
    "start_time": "2023-01-29T10:56:06.759Z"
   },
   {
    "duration": 5,
    "start_time": "2023-01-29T10:56:09.484Z"
   },
   {
    "duration": 4,
    "start_time": "2023-01-29T10:56:09.992Z"
   },
   {
    "duration": 171,
    "start_time": "2023-01-29T10:56:11.668Z"
   },
   {
    "duration": 308,
    "start_time": "2023-01-29T10:56:13.588Z"
   },
   {
    "duration": 5,
    "start_time": "2023-01-29T10:56:16.281Z"
   },
   {
    "duration": 6,
    "start_time": "2023-01-29T10:56:16.772Z"
   },
   {
    "duration": 15,
    "start_time": "2023-01-29T10:56:19.219Z"
   },
   {
    "duration": 11,
    "start_time": "2023-01-29T10:56:27.667Z"
   },
   {
    "duration": 12,
    "start_time": "2023-01-29T10:56:36.685Z"
   },
   {
    "duration": 4,
    "start_time": "2023-01-29T10:56:54.240Z"
   },
   {
    "duration": 11,
    "start_time": "2023-01-29T10:56:54.726Z"
   },
   {
    "duration": 8,
    "start_time": "2023-01-29T10:56:56.323Z"
   },
   {
    "duration": 8,
    "start_time": "2023-01-29T10:56:57.677Z"
   },
   {
    "duration": 12,
    "start_time": "2023-01-29T10:56:59.222Z"
   },
   {
    "duration": 5,
    "start_time": "2023-01-29T10:57:00.393Z"
   },
   {
    "duration": 4,
    "start_time": "2023-01-29T10:57:01.000Z"
   },
   {
    "duration": 13,
    "start_time": "2023-01-29T10:57:02.450Z"
   },
   {
    "duration": 12,
    "start_time": "2023-01-29T10:57:03.979Z"
   },
   {
    "duration": 6,
    "start_time": "2023-01-29T10:57:05.692Z"
   },
   {
    "duration": 12,
    "start_time": "2023-01-29T10:57:07.448Z"
   },
   {
    "duration": 13,
    "start_time": "2023-01-29T10:57:50.867Z"
   },
   {
    "duration": 174,
    "start_time": "2023-01-29T10:57:54.123Z"
   },
   {
    "duration": 156,
    "start_time": "2023-01-29T10:57:55.627Z"
   },
   {
    "duration": 18,
    "start_time": "2023-01-29T10:57:58.639Z"
   },
   {
    "duration": 15,
    "start_time": "2023-01-29T10:58:01.423Z"
   },
   {
    "duration": 11,
    "start_time": "2023-01-29T10:58:03.224Z"
   },
   {
    "duration": 8,
    "start_time": "2023-01-29T10:58:03.728Z"
   },
   {
    "duration": 276,
    "start_time": "2023-01-29T10:58:05.227Z"
   },
   {
    "duration": 209,
    "start_time": "2023-01-29T10:58:39.316Z"
   },
   {
    "duration": 206,
    "start_time": "2023-01-29T10:59:57.632Z"
   },
   {
    "duration": 418,
    "start_time": "2023-01-29T11:00:11.020Z"
   },
   {
    "duration": 191,
    "start_time": "2023-01-29T11:00:24.444Z"
   },
   {
    "duration": 251,
    "start_time": "2023-01-29T11:00:30.052Z"
   },
   {
    "duration": 290,
    "start_time": "2023-01-29T11:00:40.854Z"
   },
   {
    "duration": 274,
    "start_time": "2023-01-29T11:07:51.434Z"
   },
   {
    "duration": 318,
    "start_time": "2023-01-29T11:08:22.367Z"
   },
   {
    "duration": 270,
    "start_time": "2023-01-29T11:14:52.570Z"
   },
   {
    "duration": 433,
    "start_time": "2023-01-29T11:15:14.822Z"
   },
   {
    "duration": 398,
    "start_time": "2023-01-29T11:15:21.251Z"
   },
   {
    "duration": 373,
    "start_time": "2023-01-29T11:15:47.446Z"
   },
   {
    "duration": 3,
    "start_time": "2023-01-29T11:18:54.685Z"
   },
   {
    "duration": 12,
    "start_time": "2023-01-29T11:26:15.819Z"
   },
   {
    "duration": 8,
    "start_time": "2023-01-29T11:26:25.260Z"
   },
   {
    "duration": 788,
    "start_time": "2023-01-29T11:27:35.661Z"
   },
   {
    "duration": 369,
    "start_time": "2023-01-29T11:27:52.130Z"
   },
   {
    "duration": 302,
    "start_time": "2023-01-29T11:28:12.692Z"
   },
   {
    "duration": 297,
    "start_time": "2023-01-29T11:28:15.800Z"
   },
   {
    "duration": 380,
    "start_time": "2023-01-29T11:33:23.428Z"
   },
   {
    "duration": 366,
    "start_time": "2023-01-29T11:34:50.653Z"
   },
   {
    "duration": 14,
    "start_time": "2023-01-29T11:44:36.449Z"
   },
   {
    "duration": 16,
    "start_time": "2023-01-29T11:45:06.195Z"
   },
   {
    "duration": 16,
    "start_time": "2023-01-29T11:45:26.548Z"
   },
   {
    "duration": 16,
    "start_time": "2023-01-29T11:45:32.601Z"
   },
   {
    "duration": 11,
    "start_time": "2023-01-29T11:48:34.577Z"
   },
   {
    "duration": 9,
    "start_time": "2023-01-29T11:48:38.284Z"
   },
   {
    "duration": 354,
    "start_time": "2023-01-29T11:49:03.234Z"
   },
   {
    "duration": 343,
    "start_time": "2023-01-29T11:52:32.774Z"
   },
   {
    "duration": 55,
    "start_time": "2023-01-29T11:56:00.517Z"
   },
   {
    "duration": 47,
    "start_time": "2023-01-29T11:56:11.977Z"
   },
   {
    "duration": 179,
    "start_time": "2023-01-29T11:56:26.308Z"
   },
   {
    "duration": 178,
    "start_time": "2023-01-29T11:57:42.263Z"
   },
   {
    "duration": 190,
    "start_time": "2023-01-29T11:57:46.476Z"
   },
   {
    "duration": 5,
    "start_time": "2023-01-29T12:03:29.612Z"
   },
   {
    "duration": 4,
    "start_time": "2023-01-29T12:03:54.221Z"
   },
   {
    "duration": 9,
    "start_time": "2023-01-29T12:04:04.230Z"
   },
   {
    "duration": 7,
    "start_time": "2023-01-29T12:04:19.758Z"
   },
   {
    "duration": 230,
    "start_time": "2023-01-29T12:11:34.352Z"
   },
   {
    "duration": 5,
    "start_time": "2023-01-29T12:14:47.724Z"
   },
   {
    "duration": 10,
    "start_time": "2023-01-29T12:14:57.230Z"
   },
   {
    "duration": 212,
    "start_time": "2023-01-29T12:25:18.650Z"
   },
   {
    "duration": 118,
    "start_time": "2023-01-29T12:26:16.192Z"
   },
   {
    "duration": 244,
    "start_time": "2023-01-29T12:26:31.127Z"
   },
   {
    "duration": 232,
    "start_time": "2023-01-29T12:26:37.070Z"
   },
   {
    "duration": 167,
    "start_time": "2023-01-29T12:31:23.744Z"
   },
   {
    "duration": 3,
    "start_time": "2023-01-29T12:31:52.727Z"
   },
   {
    "duration": 146,
    "start_time": "2023-01-29T12:31:59.623Z"
   },
   {
    "duration": 182,
    "start_time": "2023-01-29T12:32:07.422Z"
   },
   {
    "duration": 1328,
    "start_time": "2023-01-30T06:52:29.812Z"
   },
   {
    "duration": 298,
    "start_time": "2023-01-30T06:52:32.016Z"
   },
   {
    "duration": 11,
    "start_time": "2023-01-30T06:52:34.251Z"
   },
   {
    "duration": 7,
    "start_time": "2023-01-30T06:52:35.951Z"
   },
   {
    "duration": 11,
    "start_time": "2023-01-30T06:52:37.854Z"
   },
   {
    "duration": 8,
    "start_time": "2023-01-30T06:52:39.429Z"
   },
   {
    "duration": 10,
    "start_time": "2023-01-30T06:52:41.160Z"
   },
   {
    "duration": 178,
    "start_time": "2023-01-30T06:52:42.704Z"
   },
   {
    "duration": 290,
    "start_time": "2023-01-30T06:52:45.017Z"
   },
   {
    "duration": 4,
    "start_time": "2023-01-30T06:52:47.659Z"
   },
   {
    "duration": 4,
    "start_time": "2023-01-30T06:52:48.273Z"
   },
   {
    "duration": 160,
    "start_time": "2023-01-30T06:52:49.964Z"
   },
   {
    "duration": 282,
    "start_time": "2023-01-30T06:52:52.425Z"
   },
   {
    "duration": 5,
    "start_time": "2023-01-30T06:52:55.024Z"
   },
   {
    "duration": 4,
    "start_time": "2023-01-30T06:52:55.625Z"
   },
   {
    "duration": 13,
    "start_time": "2023-01-30T06:52:57.424Z"
   },
   {
    "duration": 11,
    "start_time": "2023-01-30T06:52:58.968Z"
   },
   {
    "duration": 10,
    "start_time": "2023-01-30T06:52:59.452Z"
   },
   {
    "duration": 3,
    "start_time": "2023-01-30T06:53:01.865Z"
   },
   {
    "duration": 10,
    "start_time": "2023-01-30T06:53:02.408Z"
   },
   {
    "duration": 7,
    "start_time": "2023-01-30T06:53:04.351Z"
   },
   {
    "duration": 9,
    "start_time": "2023-01-30T06:53:06.256Z"
   },
   {
    "duration": 7,
    "start_time": "2023-01-30T06:53:08.208Z"
   },
   {
    "duration": 4,
    "start_time": "2023-01-30T06:53:09.954Z"
   },
   {
    "duration": 5,
    "start_time": "2023-01-30T06:53:10.462Z"
   },
   {
    "duration": 9,
    "start_time": "2023-01-30T06:53:12.049Z"
   },
   {
    "duration": 10,
    "start_time": "2023-01-30T06:53:13.851Z"
   },
   {
    "duration": 3,
    "start_time": "2023-01-30T06:53:15.593Z"
   },
   {
    "duration": 11,
    "start_time": "2023-01-30T06:53:17.143Z"
   },
   {
    "duration": 12,
    "start_time": "2023-01-30T06:53:19.689Z"
   },
   {
    "duration": 177,
    "start_time": "2023-01-30T06:53:21.251Z"
   },
   {
    "duration": 129,
    "start_time": "2023-01-30T06:53:23.312Z"
   },
   {
    "duration": 14,
    "start_time": "2023-01-30T06:53:25.147Z"
   },
   {
    "duration": 12,
    "start_time": "2023-01-30T06:53:26.752Z"
   },
   {
    "duration": 11,
    "start_time": "2023-01-30T06:53:28.473Z"
   },
   {
    "duration": 6,
    "start_time": "2023-01-30T06:53:29.551Z"
   },
   {
    "duration": 337,
    "start_time": "2023-01-30T06:53:30.951Z"
   },
   {
    "duration": 249,
    "start_time": "2023-01-30T06:53:33.867Z"
   },
   {
    "duration": 434,
    "start_time": "2023-01-30T06:53:36.696Z"
   },
   {
    "duration": 11,
    "start_time": "2023-01-30T06:53:39.738Z"
   },
   {
    "duration": 7,
    "start_time": "2023-01-30T06:53:41.625Z"
   },
   {
    "duration": 316,
    "start_time": "2023-01-30T06:53:43.400Z"
   },
   {
    "duration": 453,
    "start_time": "2023-01-30T06:53:46.102Z"
   },
   {
    "duration": 12,
    "start_time": "2023-01-30T06:53:49.339Z"
   },
   {
    "duration": 192,
    "start_time": "2023-01-30T06:53:51.361Z"
   },
   {
    "duration": 4,
    "start_time": "2023-01-30T06:53:54.457Z"
   },
   {
    "duration": 7,
    "start_time": "2023-01-30T06:53:55.193Z"
   },
   {
    "duration": 186,
    "start_time": "2023-01-30T06:53:56.969Z"
   },
   {
    "duration": 4,
    "start_time": "2023-01-30T06:53:59.321Z"
   },
   {
    "duration": 9,
    "start_time": "2023-01-30T06:54:00.261Z"
   },
   {
    "duration": 219,
    "start_time": "2023-01-30T06:54:02.377Z"
   },
   {
    "duration": 140,
    "start_time": "2023-01-30T06:54:04.401Z"
   },
   {
    "duration": 10,
    "start_time": "2023-01-30T06:54:08.768Z"
   },
   {
    "duration": 794,
    "start_time": "2023-01-30T07:02:22.953Z"
   },
   {
    "duration": 1095,
    "start_time": "2023-01-30T07:02:43.028Z"
   },
   {
    "duration": 780,
    "start_time": "2023-01-30T07:03:21.083Z"
   },
   {
    "duration": 148,
    "start_time": "2023-01-30T07:04:28.869Z"
   },
   {
    "duration": 14,
    "start_time": "2023-01-30T07:04:39.046Z"
   },
   {
    "duration": 9,
    "start_time": "2023-01-30T07:05:14.485Z"
   },
   {
    "duration": 10,
    "start_time": "2023-01-30T07:06:03.185Z"
   },
   {
    "duration": 14,
    "start_time": "2023-01-30T07:13:10.919Z"
   },
   {
    "duration": 1074,
    "start_time": "2023-01-30T07:14:33.503Z"
   },
   {
    "duration": 16,
    "start_time": "2023-01-30T07:14:50.003Z"
   },
   {
    "duration": 30,
    "start_time": "2023-01-30T07:22:11.794Z"
   },
   {
    "duration": 1383,
    "start_time": "2023-01-31T16:22:13.138Z"
   },
   {
    "duration": 226,
    "start_time": "2023-01-31T16:22:14.523Z"
   },
   {
    "duration": 11,
    "start_time": "2023-01-31T16:22:14.750Z"
   },
   {
    "duration": 15,
    "start_time": "2023-01-31T16:22:14.764Z"
   },
   {
    "duration": 14,
    "start_time": "2023-01-31T16:22:14.781Z"
   },
   {
    "duration": 15,
    "start_time": "2023-01-31T16:22:14.797Z"
   },
   {
    "duration": 14,
    "start_time": "2023-01-31T16:22:14.813Z"
   },
   {
    "duration": 177,
    "start_time": "2023-01-31T16:22:14.829Z"
   },
   {
    "duration": 320,
    "start_time": "2023-01-31T16:22:15.008Z"
   },
   {
    "duration": 4,
    "start_time": "2023-01-31T16:22:15.330Z"
   },
   {
    "duration": 13,
    "start_time": "2023-01-31T16:22:15.335Z"
   },
   {
    "duration": 170,
    "start_time": "2023-01-31T16:22:15.349Z"
   },
   {
    "duration": 288,
    "start_time": "2023-01-31T16:22:15.521Z"
   },
   {
    "duration": 4,
    "start_time": "2023-01-31T16:22:15.810Z"
   },
   {
    "duration": 14,
    "start_time": "2023-01-31T16:22:15.815Z"
   },
   {
    "duration": 15,
    "start_time": "2023-01-31T16:22:15.831Z"
   },
   {
    "duration": 13,
    "start_time": "2023-01-31T16:22:15.848Z"
   },
   {
    "duration": 22,
    "start_time": "2023-01-31T16:22:15.862Z"
   },
   {
    "duration": 19,
    "start_time": "2023-01-31T16:22:15.885Z"
   },
   {
    "duration": 43,
    "start_time": "2023-01-31T16:22:15.905Z"
   },
   {
    "duration": 17,
    "start_time": "2023-01-31T16:22:15.949Z"
   },
   {
    "duration": 9,
    "start_time": "2023-01-31T16:22:15.968Z"
   },
   {
    "duration": 26,
    "start_time": "2023-01-31T16:22:15.978Z"
   },
   {
    "duration": 13,
    "start_time": "2023-01-31T16:22:16.006Z"
   },
   {
    "duration": 11,
    "start_time": "2023-01-31T16:22:16.020Z"
   },
   {
    "duration": 17,
    "start_time": "2023-01-31T16:22:16.033Z"
   },
   {
    "duration": 41,
    "start_time": "2023-01-31T16:22:16.052Z"
   },
   {
    "duration": 7,
    "start_time": "2023-01-31T16:22:16.096Z"
   },
   {
    "duration": 16,
    "start_time": "2023-01-31T16:22:16.104Z"
   },
   {
    "duration": 18,
    "start_time": "2023-01-31T16:22:16.122Z"
   },
   {
    "duration": 188,
    "start_time": "2023-01-31T16:22:16.142Z"
   },
   {
    "duration": 138,
    "start_time": "2023-01-31T16:22:16.332Z"
   },
   {
    "duration": 27,
    "start_time": "2023-01-31T16:22:16.471Z"
   },
   {
    "duration": 13,
    "start_time": "2023-01-31T16:22:16.500Z"
   },
   {
    "duration": 19,
    "start_time": "2023-01-31T16:22:16.515Z"
   },
   {
    "duration": 10,
    "start_time": "2023-01-31T16:22:16.535Z"
   },
   {
    "duration": 325,
    "start_time": "2023-01-31T16:22:16.547Z"
   },
   {
    "duration": 265,
    "start_time": "2023-01-31T16:22:16.875Z"
   },
   {
    "duration": 451,
    "start_time": "2023-01-31T16:22:17.142Z"
   },
   {
    "duration": 12,
    "start_time": "2023-01-31T16:22:17.595Z"
   },
   {
    "duration": 10,
    "start_time": "2023-01-31T16:22:17.609Z"
   },
   {
    "duration": 313,
    "start_time": "2023-01-31T16:22:17.620Z"
   },
   {
    "duration": 430,
    "start_time": "2023-01-31T16:22:17.935Z"
   },
   {
    "duration": 14,
    "start_time": "2023-01-31T16:22:18.367Z"
   },
   {
    "duration": 200,
    "start_time": "2023-01-31T16:22:18.383Z"
   },
   {
    "duration": 9,
    "start_time": "2023-01-31T16:22:18.584Z"
   },
   {
    "duration": 15,
    "start_time": "2023-01-31T16:22:18.594Z"
   },
   {
    "duration": 195,
    "start_time": "2023-01-31T16:22:18.611Z"
   },
   {
    "duration": 4,
    "start_time": "2023-01-31T16:22:18.808Z"
   },
   {
    "duration": 14,
    "start_time": "2023-01-31T16:22:18.813Z"
   },
   {
    "duration": 222,
    "start_time": "2023-01-31T16:22:18.829Z"
   },
   {
    "duration": 164,
    "start_time": "2023-01-31T16:22:19.053Z"
   },
   {
    "duration": 11,
    "start_time": "2023-01-31T16:22:19.218Z"
   },
   {
    "duration": 10,
    "start_time": "2023-01-31T16:22:19.230Z"
   },
   {
    "duration": 23,
    "start_time": "2023-01-31T16:22:19.241Z"
   },
   {
    "duration": 46,
    "start_time": "2023-01-31T16:22:19.266Z"
   },
   {
    "duration": 1570,
    "start_time": "2023-01-31T18:03:53.106Z"
   },
   {
    "duration": 195,
    "start_time": "2023-01-31T18:03:54.679Z"
   },
   {
    "duration": 11,
    "start_time": "2023-01-31T18:03:54.875Z"
   },
   {
    "duration": 11,
    "start_time": "2023-01-31T18:03:54.888Z"
   },
   {
    "duration": 12,
    "start_time": "2023-01-31T18:03:54.902Z"
   },
   {
    "duration": 19,
    "start_time": "2023-01-31T18:03:54.917Z"
   },
   {
    "duration": 35,
    "start_time": "2023-01-31T18:03:54.938Z"
   },
   {
    "duration": 204,
    "start_time": "2023-01-31T18:03:54.975Z"
   },
   {
    "duration": 303,
    "start_time": "2023-01-31T18:03:55.181Z"
   },
   {
    "duration": 10,
    "start_time": "2023-01-31T18:03:55.486Z"
   },
   {
    "duration": 22,
    "start_time": "2023-01-31T18:03:55.497Z"
   },
   {
    "duration": 172,
    "start_time": "2023-01-31T18:03:55.520Z"
   },
   {
    "duration": 290,
    "start_time": "2023-01-31T18:03:55.694Z"
   },
   {
    "duration": 8,
    "start_time": "2023-01-31T18:03:55.987Z"
   },
   {
    "duration": 32,
    "start_time": "2023-01-31T18:03:55.996Z"
   },
   {
    "duration": 45,
    "start_time": "2023-01-31T18:03:56.030Z"
   },
   {
    "duration": 42,
    "start_time": "2023-01-31T18:03:56.076Z"
   },
   {
    "duration": 13,
    "start_time": "2023-01-31T18:03:56.120Z"
   },
   {
    "duration": 5,
    "start_time": "2023-01-31T18:03:56.135Z"
   },
   {
    "duration": 20,
    "start_time": "2023-01-31T18:03:56.141Z"
   },
   {
    "duration": 19,
    "start_time": "2023-01-31T18:03:56.163Z"
   },
   {
    "duration": 11,
    "start_time": "2023-01-31T18:03:56.183Z"
   },
   {
    "duration": 21,
    "start_time": "2023-01-31T18:03:56.196Z"
   },
   {
    "duration": 22,
    "start_time": "2023-01-31T18:03:56.219Z"
   },
   {
    "duration": 10,
    "start_time": "2023-01-31T18:03:56.243Z"
   },
   {
    "duration": 14,
    "start_time": "2023-01-31T18:03:56.254Z"
   },
   {
    "duration": 36,
    "start_time": "2023-01-31T18:03:56.270Z"
   },
   {
    "duration": 11,
    "start_time": "2023-01-31T18:03:56.308Z"
   },
   {
    "duration": 38,
    "start_time": "2023-01-31T18:03:56.321Z"
   },
   {
    "duration": 18,
    "start_time": "2023-01-31T18:03:56.364Z"
   },
   {
    "duration": 276,
    "start_time": "2023-01-31T18:03:56.384Z"
   },
   {
    "duration": 136,
    "start_time": "2023-01-31T18:03:56.661Z"
   },
   {
    "duration": 15,
    "start_time": "2023-01-31T18:03:56.798Z"
   },
   {
    "duration": 16,
    "start_time": "2023-01-31T18:03:56.815Z"
   },
   {
    "duration": 14,
    "start_time": "2023-01-31T18:03:56.834Z"
   },
   {
    "duration": 12,
    "start_time": "2023-01-31T18:03:56.850Z"
   },
   {
    "duration": 369,
    "start_time": "2023-01-31T18:03:56.864Z"
   },
   {
    "duration": 334,
    "start_time": "2023-01-31T18:03:57.235Z"
   },
   {
    "duration": 419,
    "start_time": "2023-01-31T18:03:57.571Z"
   },
   {
    "duration": 11,
    "start_time": "2023-01-31T18:03:57.994Z"
   },
   {
    "duration": 23,
    "start_time": "2023-01-31T18:03:58.008Z"
   },
   {
    "duration": 312,
    "start_time": "2023-01-31T18:03:58.033Z"
   },
   {
    "duration": 420,
    "start_time": "2023-01-31T18:03:58.347Z"
   },
   {
    "duration": 11,
    "start_time": "2023-01-31T18:03:58.769Z"
   },
   {
    "duration": 180,
    "start_time": "2023-01-31T18:03:58.781Z"
   },
   {
    "duration": 4,
    "start_time": "2023-01-31T18:03:58.963Z"
   },
   {
    "duration": 12,
    "start_time": "2023-01-31T18:03:58.968Z"
   },
   {
    "duration": 213,
    "start_time": "2023-01-31T18:03:58.982Z"
   },
   {
    "duration": 4,
    "start_time": "2023-01-31T18:03:59.197Z"
   },
   {
    "duration": 25,
    "start_time": "2023-01-31T18:03:59.202Z"
   },
   {
    "duration": 219,
    "start_time": "2023-01-31T18:03:59.228Z"
   },
   {
    "duration": 156,
    "start_time": "2023-01-31T18:03:59.448Z"
   },
   {
    "duration": 10,
    "start_time": "2023-01-31T18:03:59.605Z"
   },
   {
    "duration": 10,
    "start_time": "2023-01-31T18:03:59.617Z"
   },
   {
    "duration": 117,
    "start_time": "2023-01-31T18:03:59.629Z"
   },
   {
    "duration": 41,
    "start_time": "2023-01-31T18:03:59.748Z"
   },
   {
    "duration": 1538,
    "start_time": "2023-02-02T14:38:35.532Z"
   },
   {
    "duration": 267,
    "start_time": "2023-02-02T14:38:37.072Z"
   },
   {
    "duration": 16,
    "start_time": "2023-02-02T14:38:38.970Z"
   },
   {
    "duration": 9,
    "start_time": "2023-02-02T14:38:40.881Z"
   },
   {
    "duration": 12,
    "start_time": "2023-02-02T14:38:42.759Z"
   },
   {
    "duration": 8,
    "start_time": "2023-02-02T14:38:44.051Z"
   },
   {
    "duration": 10,
    "start_time": "2023-02-02T14:38:45.566Z"
   },
   {
    "duration": 199,
    "start_time": "2023-02-02T14:38:47.393Z"
   },
   {
    "duration": 373,
    "start_time": "2023-02-02T14:38:52.244Z"
   },
   {
    "duration": 5,
    "start_time": "2023-02-02T14:39:10.458Z"
   },
   {
    "duration": 5,
    "start_time": "2023-02-02T14:39:11.378Z"
   },
   {
    "duration": 173,
    "start_time": "2023-02-02T14:39:15.139Z"
   },
   {
    "duration": 347,
    "start_time": "2023-02-02T14:39:20.638Z"
   },
   {
    "duration": 5,
    "start_time": "2023-02-02T14:39:24.215Z"
   },
   {
    "duration": 10,
    "start_time": "2023-02-02T14:39:24.746Z"
   },
   {
    "duration": 14,
    "start_time": "2023-02-02T14:39:28.466Z"
   },
   {
    "duration": 11,
    "start_time": "2023-02-02T14:39:29.244Z"
   },
   {
    "duration": 12,
    "start_time": "2023-02-02T14:39:30.285Z"
   },
   {
    "duration": 4,
    "start_time": "2023-02-02T14:39:32.690Z"
   },
   {
    "duration": 11,
    "start_time": "2023-02-02T14:39:33.427Z"
   },
   {
    "duration": 7,
    "start_time": "2023-02-02T14:40:18.871Z"
   },
   {
    "duration": 7,
    "start_time": "2023-02-02T14:40:21.088Z"
   },
   {
    "duration": 7,
    "start_time": "2023-02-02T14:40:23.079Z"
   },
   {
    "duration": 5,
    "start_time": "2023-02-02T14:40:24.929Z"
   },
   {
    "duration": 5,
    "start_time": "2023-02-02T14:40:25.500Z"
   },
   {
    "duration": 4,
    "start_time": "2023-02-02T14:44:53.711Z"
   },
   {
    "duration": 3,
    "start_time": "2023-02-02T14:45:16.174Z"
   },
   {
    "duration": 5,
    "start_time": "2023-02-02T14:45:44.314Z"
   },
   {
    "duration": 8,
    "start_time": "2023-02-02T14:45:52.117Z"
   },
   {
    "duration": 13,
    "start_time": "2023-02-02T14:46:12.800Z"
   },
   {
    "duration": 14,
    "start_time": "2023-02-02T14:50:55.725Z"
   },
   {
    "duration": 10,
    "start_time": "2023-02-02T14:51:19.837Z"
   },
   {
    "duration": 10,
    "start_time": "2023-02-02T14:51:39.785Z"
   },
   {
    "duration": 3,
    "start_time": "2023-02-02T15:44:51.206Z"
   },
   {
    "duration": 82,
    "start_time": "2023-02-02T15:44:52.586Z"
   },
   {
    "duration": 11,
    "start_time": "2023-02-02T15:44:58.726Z"
   },
   {
    "duration": 1209,
    "start_time": "2023-02-02T15:45:06.623Z"
   },
   {
    "duration": 83,
    "start_time": "2023-02-02T15:45:09.425Z"
   },
   {
    "duration": 12,
    "start_time": "2023-02-02T15:45:13.658Z"
   },
   {
    "duration": 9,
    "start_time": "2023-02-02T15:45:15.547Z"
   },
   {
    "duration": 11,
    "start_time": "2023-02-02T15:45:17.490Z"
   },
   {
    "duration": 9,
    "start_time": "2023-02-02T15:45:19.043Z"
   },
   {
    "duration": 10,
    "start_time": "2023-02-02T15:45:20.543Z"
   },
   {
    "duration": 202,
    "start_time": "2023-02-02T15:45:24.978Z"
   },
   {
    "duration": 328,
    "start_time": "2023-02-02T15:45:27.548Z"
   },
   {
    "duration": 4,
    "start_time": "2023-02-02T15:45:30.864Z"
   },
   {
    "duration": 5,
    "start_time": "2023-02-02T15:45:31.290Z"
   },
   {
    "duration": 185,
    "start_time": "2023-02-02T15:45:33.223Z"
   },
   {
    "duration": 326,
    "start_time": "2023-02-02T15:45:35.772Z"
   },
   {
    "duration": 5,
    "start_time": "2023-02-02T15:45:37.644Z"
   },
   {
    "duration": 5,
    "start_time": "2023-02-02T15:45:38.110Z"
   },
   {
    "duration": 14,
    "start_time": "2023-02-02T15:45:41.821Z"
   },
   {
    "duration": 10,
    "start_time": "2023-02-02T15:45:42.904Z"
   },
   {
    "duration": 11,
    "start_time": "2023-02-02T15:45:44.385Z"
   },
   {
    "duration": 3,
    "start_time": "2023-02-02T15:45:46.005Z"
   },
   {
    "duration": 10,
    "start_time": "2023-02-02T15:45:46.635Z"
   },
   {
    "duration": 7,
    "start_time": "2023-02-02T15:45:48.611Z"
   },
   {
    "duration": 7,
    "start_time": "2023-02-02T15:45:50.687Z"
   },
   {
    "duration": 7,
    "start_time": "2023-02-02T15:45:52.346Z"
   },
   {
    "duration": 5,
    "start_time": "2023-02-02T15:45:54.625Z"
   },
   {
    "duration": 6,
    "start_time": "2023-02-02T15:45:55.566Z"
   },
   {
    "duration": 9,
    "start_time": "2023-02-02T15:45:59.541Z"
   },
   {
    "duration": 44,
    "start_time": "2023-02-02T15:47:04.722Z"
   },
   {
    "duration": 105,
    "start_time": "2023-02-02T15:47:10.625Z"
   },
   {
    "duration": 10,
    "start_time": "2023-02-02T15:47:20.383Z"
   },
   {
    "duration": 5,
    "start_time": "2023-02-02T15:48:18.343Z"
   },
   {
    "duration": 11,
    "start_time": "2023-02-02T15:49:31.365Z"
   },
   {
    "duration": 4,
    "start_time": "2023-02-02T15:49:33.509Z"
   },
   {
    "duration": 13,
    "start_time": "2023-02-02T15:49:35.453Z"
   },
   {
    "duration": 13,
    "start_time": "2023-02-02T15:51:07.504Z"
   },
   {
    "duration": 175,
    "start_time": "2023-02-02T15:51:09.048Z"
   },
   {
    "duration": 130,
    "start_time": "2023-02-02T15:51:10.971Z"
   },
   {
    "duration": 17,
    "start_time": "2023-02-02T15:51:12.955Z"
   },
   {
    "duration": 16,
    "start_time": "2023-02-02T15:51:14.232Z"
   },
   {
    "duration": 12,
    "start_time": "2023-02-02T15:51:16.106Z"
   },
   {
    "duration": 7,
    "start_time": "2023-02-02T15:51:17.819Z"
   },
   {
    "duration": 368,
    "start_time": "2023-02-02T15:51:19.033Z"
   },
   {
    "duration": 285,
    "start_time": "2023-02-02T15:54:15.980Z"
   },
   {
    "duration": 305,
    "start_time": "2023-02-02T15:55:32.174Z"
   },
   {
    "duration": 355,
    "start_time": "2023-02-02T15:56:08.963Z"
   },
   {
    "duration": 15,
    "start_time": "2023-02-02T15:56:51.497Z"
   },
   {
    "duration": 12,
    "start_time": "2023-02-02T15:57:15.808Z"
   },
   {
    "duration": 8,
    "start_time": "2023-02-02T15:57:17.239Z"
   },
   {
    "duration": 434,
    "start_time": "2023-02-02T15:57:20.142Z"
   },
   {
    "duration": 392,
    "start_time": "2023-02-02T15:57:48.207Z"
   },
   {
    "duration": 14,
    "start_time": "2023-02-02T15:58:09.819Z"
   },
   {
    "duration": 222,
    "start_time": "2023-02-02T15:58:11.335Z"
   },
   {
    "duration": 4,
    "start_time": "2023-02-02T15:58:54.733Z"
   },
   {
    "duration": 7,
    "start_time": "2023-02-02T15:58:55.513Z"
   },
   {
    "duration": 212,
    "start_time": "2023-02-02T15:59:35.651Z"
   },
   {
    "duration": 5,
    "start_time": "2023-02-02T15:59:43.707Z"
   },
   {
    "duration": 10,
    "start_time": "2023-02-02T15:59:44.413Z"
   },
   {
    "duration": 231,
    "start_time": "2023-02-02T16:00:12.193Z"
   },
   {
    "duration": 201,
    "start_time": "2023-02-02T16:00:29.723Z"
   },
   {
    "duration": 4,
    "start_time": "2023-02-02T16:00:39.211Z"
   },
   {
    "duration": 10,
    "start_time": "2023-02-02T16:00:39.914Z"
   },
   {
    "duration": 211,
    "start_time": "2023-02-02T16:00:48.181Z"
   },
   {
    "duration": 153,
    "start_time": "2023-02-02T16:00:49.546Z"
   },
   {
    "duration": 10,
    "start_time": "2023-02-02T16:01:40.350Z"
   },
   {
    "duration": 10,
    "start_time": "2023-02-02T16:01:58.427Z"
   },
   {
    "duration": 19,
    "start_time": "2023-02-02T16:02:02.422Z"
   },
   {
    "duration": 36,
    "start_time": "2023-02-02T16:02:42.599Z"
   },
   {
    "duration": 1376,
    "start_time": "2023-02-03T15:07:00.647Z"
   },
   {
    "duration": 200,
    "start_time": "2023-02-03T15:07:02.025Z"
   },
   {
    "duration": 12,
    "start_time": "2023-02-03T15:07:02.227Z"
   },
   {
    "duration": 30,
    "start_time": "2023-02-03T15:07:02.242Z"
   },
   {
    "duration": 28,
    "start_time": "2023-02-03T15:07:02.274Z"
   },
   {
    "duration": 11,
    "start_time": "2023-02-03T15:07:02.304Z"
   },
   {
    "duration": 16,
    "start_time": "2023-02-03T15:07:02.316Z"
   },
   {
    "duration": 193,
    "start_time": "2023-02-03T15:07:02.334Z"
   },
   {
    "duration": 325,
    "start_time": "2023-02-03T15:07:02.529Z"
   },
   {
    "duration": 4,
    "start_time": "2023-02-03T15:07:02.857Z"
   },
   {
    "duration": 10,
    "start_time": "2023-02-03T15:07:02.863Z"
   },
   {
    "duration": 200,
    "start_time": "2023-02-03T15:07:02.874Z"
   },
   {
    "duration": 326,
    "start_time": "2023-02-03T15:07:03.076Z"
   },
   {
    "duration": 6,
    "start_time": "2023-02-03T15:07:03.403Z"
   },
   {
    "duration": 17,
    "start_time": "2023-02-03T15:07:03.411Z"
   },
   {
    "duration": 29,
    "start_time": "2023-02-03T15:07:03.430Z"
   },
   {
    "duration": 25,
    "start_time": "2023-02-03T15:07:03.462Z"
   },
   {
    "duration": 19,
    "start_time": "2023-02-03T15:07:03.489Z"
   },
   {
    "duration": 10,
    "start_time": "2023-02-03T15:07:03.509Z"
   },
   {
    "duration": 21,
    "start_time": "2023-02-03T15:07:03.521Z"
   },
   {
    "duration": 17,
    "start_time": "2023-02-03T15:07:03.544Z"
   },
   {
    "duration": 16,
    "start_time": "2023-02-03T15:07:03.563Z"
   },
   {
    "duration": 25,
    "start_time": "2023-02-03T15:07:03.581Z"
   },
   {
    "duration": 65,
    "start_time": "2023-02-03T15:07:03.608Z"
   },
   {
    "duration": 10,
    "start_time": "2023-02-03T15:07:03.674Z"
   },
   {
    "duration": 12,
    "start_time": "2023-02-03T15:07:03.687Z"
   },
   {
    "duration": 29,
    "start_time": "2023-02-03T15:07:03.700Z"
   },
   {
    "duration": 5,
    "start_time": "2023-02-03T15:07:03.733Z"
   },
   {
    "duration": 18,
    "start_time": "2023-02-03T15:07:03.740Z"
   },
   {
    "duration": 13,
    "start_time": "2023-02-03T15:07:03.759Z"
   },
   {
    "duration": 17,
    "start_time": "2023-02-03T15:07:03.773Z"
   },
   {
    "duration": 20,
    "start_time": "2023-02-03T15:07:03.792Z"
   },
   {
    "duration": 203,
    "start_time": "2023-02-03T15:07:03.814Z"
   },
   {
    "duration": 152,
    "start_time": "2023-02-03T15:07:04.019Z"
   },
   {
    "duration": 30,
    "start_time": "2023-02-03T15:07:04.173Z"
   },
   {
    "duration": 12,
    "start_time": "2023-02-03T15:07:04.204Z"
   },
   {
    "duration": 10,
    "start_time": "2023-02-03T15:07:04.217Z"
   },
   {
    "duration": 10,
    "start_time": "2023-02-03T15:07:04.229Z"
   },
   {
    "duration": 332,
    "start_time": "2023-02-03T15:07:04.241Z"
   },
   {
    "duration": 261,
    "start_time": "2023-02-03T15:07:04.575Z"
   },
   {
    "duration": 388,
    "start_time": "2023-02-03T15:07:04.838Z"
   },
   {
    "duration": 10,
    "start_time": "2023-02-03T15:07:05.228Z"
   },
   {
    "duration": 31,
    "start_time": "2023-02-03T15:07:05.240Z"
   },
   {
    "duration": 344,
    "start_time": "2023-02-03T15:07:05.273Z"
   },
   {
    "duration": 493,
    "start_time": "2023-02-03T15:07:05.620Z"
   },
   {
    "duration": 13,
    "start_time": "2023-02-03T15:07:06.114Z"
   },
   {
    "duration": 216,
    "start_time": "2023-02-03T15:07:06.129Z"
   },
   {
    "duration": 4,
    "start_time": "2023-02-03T15:07:06.347Z"
   },
   {
    "duration": 15,
    "start_time": "2023-02-03T15:07:06.353Z"
   },
   {
    "duration": 214,
    "start_time": "2023-02-03T15:07:06.370Z"
   },
   {
    "duration": 15,
    "start_time": "2023-02-03T15:07:06.586Z"
   },
   {
    "duration": 14,
    "start_time": "2023-02-03T15:07:06.603Z"
   },
   {
    "duration": 227,
    "start_time": "2023-02-03T15:07:06.619Z"
   },
   {
    "duration": 148,
    "start_time": "2023-02-03T15:07:06.848Z"
   },
   {
    "duration": 9,
    "start_time": "2023-02-03T15:07:06.999Z"
   },
   {
    "duration": 49,
    "start_time": "2023-02-03T15:07:07.010Z"
   },
   {
    "duration": 0,
    "start_time": "2023-02-03T15:07:07.061Z"
   },
   {
    "duration": 0,
    "start_time": "2023-02-03T15:07:07.063Z"
   },
   {
    "duration": 0,
    "start_time": "2023-02-03T15:07:07.064Z"
   },
   {
    "duration": 11,
    "start_time": "2023-02-03T15:07:16.943Z"
   },
   {
    "duration": 16,
    "start_time": "2023-02-03T15:07:19.155Z"
   },
   {
    "duration": 26,
    "start_time": "2023-02-03T15:07:21.246Z"
   }
  ],
  "kernelspec": {
   "display_name": "Python 3 (ipykernel)",
   "language": "python",
   "name": "python3"
  },
  "language_info": {
   "codemirror_mode": {
    "name": "ipython",
    "version": 3
   },
   "file_extension": ".py",
   "mimetype": "text/x-python",
   "name": "python",
   "nbconvert_exporter": "python",
   "pygments_lexer": "ipython3",
   "version": "3.9.5"
  },
  "toc": {
   "base_numbering": 1,
   "nav_menu": {},
   "number_sections": true,
   "sideBar": true,
   "skip_h1_title": true,
   "title_cell": "Table of Contents",
   "title_sidebar": "Contents",
   "toc_cell": false,
   "toc_position": {},
   "toc_section_display": true,
   "toc_window_display": false
  }
 },
 "nbformat": 4,
 "nbformat_minor": 2
}
