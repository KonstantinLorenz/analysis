{
 "cells": [
  {
   "cell_type": "markdown",
   "metadata": {},
   "source": [
    "# Исследование закономерностей успешности компьютерных игр"
   ]
  },
  {
   "cell_type": "markdown",
   "metadata": {},
   "source": [
    "<br></br>\n",
    "<b>Описание проекта:</b>\n",
    "<br>Интернет-магазин «Стримчик» продаёт по всему миру компьютерные игры.</br> \n",
    "<br>Из открытых источников доступны исторические данные о продажах игр, оценки пользователей и экспертов, жанры и платформы (например, Xbox или PlayStation). Необходимо выявить определяющие успешность игры закономерности. Это позволит сделать ставку на потенциально популярный продукт и спланировать рекламные кампании.\n",
    "<br>Представлены данные до 2016 года. Гипотетически, необходимо запланировать кампанию на 2017-й. Нужно отработать принцип работы с данными. \n",
    "<br></br>\n",
    "<br> В наборе данных попадается аббревиатура ESRB (Entertainment Software Rating Board) — это ассоциация, определяющая возрастной рейтинг компьютерных игр. ESRB оценивает игровой контент и присваивает ему подходящую возрастную категорию, например, «Для взрослых», «Для детей младшего возраста» или «Для подростков». </br>"
   ]
  },
  {
   "cell_type": "markdown",
   "metadata": {},
   "source": [
    "Описание данных\n",
    "\n",
    "\n",
    "Name — название игры\n",
    "<br>Platform — платформа</br>\n",
    "<br>Year_of_Release — год выпуска</br>\n",
    "<br>Genre — жанр игры</br>\n",
    "<br>NA_sales — продажи в Северной Америке (миллионы долларов)</br>\n",
    "<br>EU_sales — продажи в Европе (миллионы долларов)</br>\n",
    "<br>JP_sales — продажи в Японии (миллионы долларов)</br>\n",
    "<br>Other_sales — продажи в других странах (миллионы долларов)</br>\n",
    "<br>Critic_Score — оценка критиков (максимум 100)</br>\n",
    "<br>User_Score — оценка пользователей (максимум 10)</br>\n",
    "<br>Rating — рейтинг от организации ESRB (англ. Entertainment Software Rating Board). Эта ассоциация определяет рейтинг компьютерных игр и присваивает им подходящую возрастную категорию."
   ]
  },
  {
   "cell_type": "markdown",
   "metadata": {},
   "source": [
    "### Открытие файла и изучение общей информации. "
   ]
  },
  {
   "cell_type": "markdown",
   "metadata": {},
   "source": [
    "#### Открытие и изучение файла"
   ]
  },
  {
   "cell_type": "code",
   "execution_count": 2,
   "metadata": {},
   "outputs": [],
   "source": [
    "#импортируем необходимые библиотеки\n",
    "import pandas as pd \n",
    "import matplotlib.pyplot as plt\n",
    "import numpy as np\n",
    "import seaborn\n",
    "from scipy import stats as st"
   ]
  },
  {
   "cell_type": "code",
   "execution_count": 3,
   "metadata": {},
   "outputs": [
    {
     "data": {
      "text/html": [
       "<div>\n",
       "<style scoped>\n",
       "    .dataframe tbody tr th:only-of-type {\n",
       "        vertical-align: middle;\n",
       "    }\n",
       "\n",
       "    .dataframe tbody tr th {\n",
       "        vertical-align: top;\n",
       "    }\n",
       "\n",
       "    .dataframe thead th {\n",
       "        text-align: right;\n",
       "    }\n",
       "</style>\n",
       "<table border=\"1\" class=\"dataframe\">\n",
       "  <thead>\n",
       "    <tr style=\"text-align: right;\">\n",
       "      <th></th>\n",
       "      <th>Name</th>\n",
       "      <th>Platform</th>\n",
       "      <th>Year_of_Release</th>\n",
       "      <th>Genre</th>\n",
       "      <th>NA_sales</th>\n",
       "      <th>EU_sales</th>\n",
       "      <th>JP_sales</th>\n",
       "      <th>Other_sales</th>\n",
       "      <th>Critic_Score</th>\n",
       "      <th>User_Score</th>\n",
       "      <th>Rating</th>\n",
       "    </tr>\n",
       "  </thead>\n",
       "  <tbody>\n",
       "    <tr>\n",
       "      <th>0</th>\n",
       "      <td>Wii Sports</td>\n",
       "      <td>Wii</td>\n",
       "      <td>2006.0</td>\n",
       "      <td>Sports</td>\n",
       "      <td>41.36</td>\n",
       "      <td>28.96</td>\n",
       "      <td>3.77</td>\n",
       "      <td>8.45</td>\n",
       "      <td>76.0</td>\n",
       "      <td>8</td>\n",
       "      <td>E</td>\n",
       "    </tr>\n",
       "    <tr>\n",
       "      <th>1</th>\n",
       "      <td>Super Mario Bros.</td>\n",
       "      <td>NES</td>\n",
       "      <td>1985.0</td>\n",
       "      <td>Platform</td>\n",
       "      <td>29.08</td>\n",
       "      <td>3.58</td>\n",
       "      <td>6.81</td>\n",
       "      <td>0.77</td>\n",
       "      <td>NaN</td>\n",
       "      <td>NaN</td>\n",
       "      <td>NaN</td>\n",
       "    </tr>\n",
       "    <tr>\n",
       "      <th>2</th>\n",
       "      <td>Mario Kart Wii</td>\n",
       "      <td>Wii</td>\n",
       "      <td>2008.0</td>\n",
       "      <td>Racing</td>\n",
       "      <td>15.68</td>\n",
       "      <td>12.76</td>\n",
       "      <td>3.79</td>\n",
       "      <td>3.29</td>\n",
       "      <td>82.0</td>\n",
       "      <td>8.3</td>\n",
       "      <td>E</td>\n",
       "    </tr>\n",
       "    <tr>\n",
       "      <th>3</th>\n",
       "      <td>Wii Sports Resort</td>\n",
       "      <td>Wii</td>\n",
       "      <td>2009.0</td>\n",
       "      <td>Sports</td>\n",
       "      <td>15.61</td>\n",
       "      <td>10.93</td>\n",
       "      <td>3.28</td>\n",
       "      <td>2.95</td>\n",
       "      <td>80.0</td>\n",
       "      <td>8</td>\n",
       "      <td>E</td>\n",
       "    </tr>\n",
       "    <tr>\n",
       "      <th>4</th>\n",
       "      <td>Pokemon Red/Pokemon Blue</td>\n",
       "      <td>GB</td>\n",
       "      <td>1996.0</td>\n",
       "      <td>Role-Playing</td>\n",
       "      <td>11.27</td>\n",
       "      <td>8.89</td>\n",
       "      <td>10.22</td>\n",
       "      <td>1.00</td>\n",
       "      <td>NaN</td>\n",
       "      <td>NaN</td>\n",
       "      <td>NaN</td>\n",
       "    </tr>\n",
       "  </tbody>\n",
       "</table>\n",
       "</div>"
      ],
      "text/plain": [
       "                       Name Platform  Year_of_Release         Genre  NA_sales  \\\n",
       "0                Wii Sports      Wii           2006.0        Sports     41.36   \n",
       "1         Super Mario Bros.      NES           1985.0      Platform     29.08   \n",
       "2            Mario Kart Wii      Wii           2008.0        Racing     15.68   \n",
       "3         Wii Sports Resort      Wii           2009.0        Sports     15.61   \n",
       "4  Pokemon Red/Pokemon Blue       GB           1996.0  Role-Playing     11.27   \n",
       "\n",
       "   EU_sales  JP_sales  Other_sales  Critic_Score User_Score Rating  \n",
       "0     28.96      3.77         8.45          76.0          8      E  \n",
       "1      3.58      6.81         0.77           NaN        NaN    NaN  \n",
       "2     12.76      3.79         3.29          82.0        8.3      E  \n",
       "3     10.93      3.28         2.95          80.0          8      E  \n",
       "4      8.89     10.22         1.00           NaN        NaN    NaN  "
      ]
     },
     "execution_count": 3,
     "metadata": {},
     "output_type": "execute_result"
    }
   ],
   "source": [
    "data = pd.read_csv('/datasets/games.csv') #загружаем данные из файла в датафрейм\n",
    "data.head(5) # выводим первые 5 строк датафрейма"
   ]
  },
  {
   "cell_type": "markdown",
   "metadata": {},
   "source": [
    "Видно, что датафрейм состоит из 11 столбцов с названиями, некоторые символы которых используют верхний регистр. На этапе предобработки необходимо заменить регистр на нижний. \n",
    "<br> Наблюдаются пропуски в данных в столбцах оценок критиков, юзеров и возрастного рейтинга </br>"
   ]
  },
  {
   "cell_type": "code",
   "execution_count": 4,
   "metadata": {},
   "outputs": [
    {
     "name": "stdout",
     "output_type": "stream",
     "text": [
      "<class 'pandas.core.frame.DataFrame'>\n",
      "RangeIndex: 16715 entries, 0 to 16714\n",
      "Data columns (total 11 columns):\n",
      " #   Column           Non-Null Count  Dtype  \n",
      "---  ------           --------------  -----  \n",
      " 0   Name             16713 non-null  object \n",
      " 1   Platform         16715 non-null  object \n",
      " 2   Year_of_Release  16446 non-null  float64\n",
      " 3   Genre            16713 non-null  object \n",
      " 4   NA_sales         16715 non-null  float64\n",
      " 5   EU_sales         16715 non-null  float64\n",
      " 6   JP_sales         16715 non-null  float64\n",
      " 7   Other_sales      16715 non-null  float64\n",
      " 8   Critic_Score     8137 non-null   float64\n",
      " 9   User_Score       10014 non-null  object \n",
      " 10  Rating           9949 non-null   object \n",
      "dtypes: float64(6), object(5)\n",
      "memory usage: 1.4+ MB\n"
     ]
    }
   ],
   "source": [
    "data.info() # общая информация о data"
   ]
  },
  {
   "cell_type": "markdown",
   "metadata": {},
   "source": [
    "Исходя из данных, видно, что в датафрейме 16715 строк. Большое количество пропущенных значений в столбцах Critic_score, User_Score, Rating. \n",
    "<br> Наблюдаются неправильные типы данных у столбцов Year_of_Release, Critic_Score, User_Score.  </br>\n"
   ]
  },
  {
   "cell_type": "markdown",
   "metadata": {},
   "source": [
    "#### Построение общих гистрограмм"
   ]
  },
  {
   "cell_type": "code",
   "execution_count": 5,
   "metadata": {},
   "outputs": [
    {
     "data": {
      "image/png": "[encoded data removed]",
      "text/plain": [
       "<Figure size 1080x1440 with 6 Axes>"
      ]
     },
     "metadata": {
      "needs_background": "light"
     },
     "output_type": "display_data"
    }
   ],
   "source": [
    "data.hist(figsize=(15, 20)) # построим общую гистограмму для всех числовых значений датафрейма\n",
    "plt.show()"
   ]
  },
  {
   "cell_type": "markdown",
   "metadata": {},
   "source": [
    "По гистограммам видно, что большинство игр, дата релиза у которых с ~2009 по ~2012 гг.\n",
    "<br> Больше всего продаж у региона Северная Америка</br>\n",
    "<br> Меньше всего у региона \"другие\"</br>\n",
    "<br> Оценки критиков распределены вправо, т.е. в большинстве случаев имеют значения от 50 до 100 баллов</br>"
   ]
  },
  {
   "cell_type": "markdown",
   "metadata": {},
   "source": [
    "#### Вывод"
   ]
  },
  {
   "cell_type": "markdown",
   "metadata": {},
   "source": [
    "В целом, датасет представлен корректно. За исключением большого количества пропусков в столбцах с отзывами и оценками.\n",
    "Названия столбцов имеют верхний регистр. Необходимо привести все буквы к нижнему. \n",
    "<br> Продажи в разных регионаах распределены приблизительно равномерно </br>\n",
    "<br> Оценки критиков распределены вправо</br>"
   ]
  },
  {
   "cell_type": "markdown",
   "metadata": {},
   "source": [
    "### Предобработка данных"
   ]
  },
  {
   "cell_type": "markdown",
   "metadata": {},
   "source": [
    "Отметим названия столбцов. Они представлены в неудобном формате. Необходимо привести все символы в нижний регистр.\n",
    "        <br>В датасете отметим большое количество пропущенных значений в столбцах Critic_score, User_Score, Rating. Причин пропусков может быть множество: изначально не было опроса с оценкой игры, не была найдена информация в открытых источниках, игра не популярна и у неё не присвоен рейтинг. </br>\n",
    "<br>Также, есть пропуски в столбцах Year_of_Release, Name и Genre. В данном случае пропуски могли означать отсутствие информации о дате релиза игры(в виду её непопулярности), не найдена объективная информация о дате релиза и т.п. В столбцах Year и Genre всего 2 пропуска. Они, вероятно, вызваны ошибкой в сборе данных, человеческим фактором. Данные пропуски можно удалить, т.к. это не повлияет на общую картину датасета.</br> В столбце Year_of_Release заполнить пропуски не представляется возможным без использования сторонних ресурсов. \n",
    "<br> В столбцах critic_score и user_score необходимо оставить пропуски как есть, т.к. невозможно точно подобрать объективные значения без искажения информации.В столбце rating пустые значения необходимо заполнить \"заглушкой\", т.к. в будущем  игры без рейтинга будут выпадать из анализа </br>\n",
    "<br> В столбце user_score присутствует аббревиатура tbd, она означает отсутствие информации (to be determined), в данном случае можно заменить на пропущенное значение (NaN). </br>\n",
    "        <br> Наблюдаются неправильные типы данных у столбцов Year_of_Release, Critic_Score, User_Score. В столбце year_of_release указан тип данных float64, необходимо привести к типу int64, т.к. в столбце указан только год выпуска числом </br> <br> В столбце critic_score тип данных float64, необходимо привести к типу int64, т.к. диапазон значений составляет от 0 до 100, без дробных частей. </br>\n",
    "        <br> В столбце user_score указан тип данных object, необходимо привести к типу данных float64, т.к. диапазон данных от 0 до 10 с дробными частями."
   ]
  },
  {
   "cell_type": "markdown",
   "metadata": {},
   "source": [
    "#### Замена названий столбцов"
   ]
  },
  {
   "cell_type": "code",
   "execution_count": 6,
   "metadata": {},
   "outputs": [
    {
     "data": {
      "text/plain": [
       "Index(['name', 'platform', 'year_of_release', 'genre', 'na_sales', 'eu_sales',\n",
       "       'jp_sales', 'other_sales', 'critic_score', 'user_score', 'rating'],\n",
       "      dtype='object')"
      ]
     },
     "execution_count": 6,
     "metadata": {},
     "output_type": "execute_result"
    }
   ],
   "source": [
    "data.columns = data.columns.str.lower() # приводим названия столбцов к нижнему регистру\n",
    "data.columns # выводим на экран"
   ]
  },
  {
   "cell_type": "markdown",
   "metadata": {},
   "source": [
    "#### Изменение типов данных"
   ]
  },
  {
   "cell_type": "markdown",
   "metadata": {},
   "source": [
    "Приведем значения в столбце year_of_release к типу int64, т.к. в столбце указан только год выпуска числом"
   ]
  },
  {
   "cell_type": "code",
   "execution_count": 7,
   "metadata": {},
   "outputs": [
    {
     "data": {
      "text/plain": [
       "array([2006., 1985., 2008., 2009., 1996., 1989., 1984., 2005., 1999.,\n",
       "       2007., 2010., 2013., 2004., 1990., 1988., 2002., 2001., 2011.,\n",
       "       1998., 2015., 2012., 2014., 1992., 1997., 1993., 1994., 1982.,\n",
       "       2016., 2003., 1986., 2000.,   nan, 1995., 1991., 1981., 1987.,\n",
       "       1980., 1983.])"
      ]
     },
     "execution_count": 7,
     "metadata": {},
     "output_type": "execute_result"
    }
   ],
   "source": [
    "data['year_of_release'].unique() # вывод уникальных значений на экран"
   ]
  },
  {
   "cell_type": "code",
   "execution_count": 8,
   "metadata": {},
   "outputs": [],
   "source": [
    "data['year_of_release'] = data['year_of_release'].astype('Int64')"
   ]
  },
  {
   "cell_type": "markdown",
   "metadata": {},
   "source": [
    "Приведем значения в столбце critic_score к типу int64, т.к. в столбце указаны только числа от 0 до 100"
   ]
  },
  {
   "cell_type": "code",
   "execution_count": 9,
   "metadata": {},
   "outputs": [
    {
     "data": {
      "text/plain": [
       "array([76., nan, 82., 80., 89., 58., 87., 91., 61., 97., 95., 77., 88.,\n",
       "       83., 94., 93., 85., 86., 98., 96., 90., 84., 73., 74., 78., 92.,\n",
       "       71., 72., 68., 62., 49., 67., 81., 66., 56., 79., 70., 59., 64.,\n",
       "       75., 60., 63., 69., 50., 25., 42., 44., 55., 48., 57., 29., 47.,\n",
       "       65., 54., 20., 53., 37., 38., 33., 52., 30., 32., 43., 45., 51.,\n",
       "       40., 46., 39., 34., 35., 41., 36., 28., 31., 27., 26., 19., 23.,\n",
       "       24., 21., 17., 22., 13.])"
      ]
     },
     "execution_count": 9,
     "metadata": {},
     "output_type": "execute_result"
    }
   ],
   "source": [
    "data['critic_score'].unique() # вывод уникальных значений на экран"
   ]
  },
  {
   "cell_type": "code",
   "execution_count": 10,
   "metadata": {},
   "outputs": [],
   "source": [
    "data['critic_score'] = data['critic_score'].astype('Int64')"
   ]
  },
  {
   "cell_type": "markdown",
   "metadata": {},
   "source": [
    "Приведем значения в столбце user_score к типу float64, т.к. в столбце встречаются дробные значения в промежутке между 0 и 10\n",
    "<br> Выведем уникальные значения на экран </br>"
   ]
  },
  {
   "cell_type": "code",
   "execution_count": 11,
   "metadata": {},
   "outputs": [
    {
     "data": {
      "text/plain": [
       "array(['8', nan, '8.3', '8.5', '6.6', '8.4', '8.6', '7.7', '6.3', '7.4',\n",
       "       '8.2', '9', '7.9', '8.1', '8.7', '7.1', '3.4', '5.3', '4.8', '3.2',\n",
       "       '8.9', '6.4', '7.8', '7.5', '2.6', '7.2', '9.2', '7', '7.3', '4.3',\n",
       "       '7.6', '5.7', '5', '9.1', '6.5', 'tbd', '8.8', '6.9', '9.4', '6.8',\n",
       "       '6.1', '6.7', '5.4', '4', '4.9', '4.5', '9.3', '6.2', '4.2', '6',\n",
       "       '3.7', '4.1', '5.8', '5.6', '5.5', '4.4', '4.6', '5.9', '3.9',\n",
       "       '3.1', '2.9', '5.2', '3.3', '4.7', '5.1', '3.5', '2.5', '1.9', '3',\n",
       "       '2.7', '2.2', '2', '9.5', '2.1', '3.6', '2.8', '1.8', '3.8', '0',\n",
       "       '1.6', '9.6', '2.4', '1.7', '1.1', '0.3', '1.5', '0.7', '1.2',\n",
       "       '2.3', '0.5', '1.3', '0.2', '0.6', '1.4', '0.9', '1', '9.7'],\n",
       "      dtype=object)"
      ]
     },
     "execution_count": 11,
     "metadata": {},
     "output_type": "execute_result"
    }
   ],
   "source": [
    "data['user_score'].unique()"
   ]
  },
  {
   "cell_type": "markdown",
   "metadata": {},
   "source": [
    "В столбце встречаются уникальные значение 'tbd' с типом текст. \n",
    "<br> Выведем строки с данными значениями </br>"
   ]
  },
  {
   "cell_type": "code",
   "execution_count": 12,
   "metadata": {},
   "outputs": [
    {
     "data": {
      "text/html": [
       "<div>\n",
       "<style scoped>\n",
       "    .dataframe tbody tr th:only-of-type {\n",
       "        vertical-align: middle;\n",
       "    }\n",
       "\n",
       "    .dataframe tbody tr th {\n",
       "        vertical-align: top;\n",
       "    }\n",
       "\n",
       "    .dataframe thead th {\n",
       "        text-align: right;\n",
       "    }\n",
       "</style>\n",
       "<table border=\"1\" class=\"dataframe\">\n",
       "  <thead>\n",
       "    <tr style=\"text-align: right;\">\n",
       "      <th></th>\n",
       "      <th>name</th>\n",
       "      <th>platform</th>\n",
       "      <th>year_of_release</th>\n",
       "      <th>genre</th>\n",
       "      <th>na_sales</th>\n",
       "      <th>eu_sales</th>\n",
       "      <th>jp_sales</th>\n",
       "      <th>other_sales</th>\n",
       "      <th>critic_score</th>\n",
       "      <th>user_score</th>\n",
       "      <th>rating</th>\n",
       "    </tr>\n",
       "  </thead>\n",
       "  <tbody>\n",
       "    <tr>\n",
       "      <th>119</th>\n",
       "      <td>Zumba Fitness</td>\n",
       "      <td>Wii</td>\n",
       "      <td>2010</td>\n",
       "      <td>Sports</td>\n",
       "      <td>3.45</td>\n",
       "      <td>2.59</td>\n",
       "      <td>0.0</td>\n",
       "      <td>0.66</td>\n",
       "      <td>&lt;NA&gt;</td>\n",
       "      <td>tbd</td>\n",
       "      <td>E</td>\n",
       "    </tr>\n",
       "    <tr>\n",
       "      <th>301</th>\n",
       "      <td>Namco Museum: 50th Anniversary</td>\n",
       "      <td>PS2</td>\n",
       "      <td>2005</td>\n",
       "      <td>Misc</td>\n",
       "      <td>2.08</td>\n",
       "      <td>1.35</td>\n",
       "      <td>0.0</td>\n",
       "      <td>0.54</td>\n",
       "      <td>61</td>\n",
       "      <td>tbd</td>\n",
       "      <td>E10+</td>\n",
       "    </tr>\n",
       "    <tr>\n",
       "      <th>520</th>\n",
       "      <td>Zumba Fitness 2</td>\n",
       "      <td>Wii</td>\n",
       "      <td>2011</td>\n",
       "      <td>Sports</td>\n",
       "      <td>1.51</td>\n",
       "      <td>1.03</td>\n",
       "      <td>0.0</td>\n",
       "      <td>0.27</td>\n",
       "      <td>&lt;NA&gt;</td>\n",
       "      <td>tbd</td>\n",
       "      <td>T</td>\n",
       "    </tr>\n",
       "    <tr>\n",
       "      <th>645</th>\n",
       "      <td>uDraw Studio</td>\n",
       "      <td>Wii</td>\n",
       "      <td>2010</td>\n",
       "      <td>Misc</td>\n",
       "      <td>1.65</td>\n",
       "      <td>0.57</td>\n",
       "      <td>0.0</td>\n",
       "      <td>0.20</td>\n",
       "      <td>71</td>\n",
       "      <td>tbd</td>\n",
       "      <td>E</td>\n",
       "    </tr>\n",
       "    <tr>\n",
       "      <th>657</th>\n",
       "      <td>Frogger's Adventures: Temple of the Frog</td>\n",
       "      <td>GBA</td>\n",
       "      <td>&lt;NA&gt;</td>\n",
       "      <td>Adventure</td>\n",
       "      <td>2.15</td>\n",
       "      <td>0.18</td>\n",
       "      <td>0.0</td>\n",
       "      <td>0.07</td>\n",
       "      <td>73</td>\n",
       "      <td>tbd</td>\n",
       "      <td>E</td>\n",
       "    </tr>\n",
       "    <tr>\n",
       "      <th>...</th>\n",
       "      <td>...</td>\n",
       "      <td>...</td>\n",
       "      <td>...</td>\n",
       "      <td>...</td>\n",
       "      <td>...</td>\n",
       "      <td>...</td>\n",
       "      <td>...</td>\n",
       "      <td>...</td>\n",
       "      <td>...</td>\n",
       "      <td>...</td>\n",
       "      <td>...</td>\n",
       "    </tr>\n",
       "    <tr>\n",
       "      <th>16695</th>\n",
       "      <td>Planet Monsters</td>\n",
       "      <td>GBA</td>\n",
       "      <td>2001</td>\n",
       "      <td>Action</td>\n",
       "      <td>0.01</td>\n",
       "      <td>0.00</td>\n",
       "      <td>0.0</td>\n",
       "      <td>0.00</td>\n",
       "      <td>67</td>\n",
       "      <td>tbd</td>\n",
       "      <td>E</td>\n",
       "    </tr>\n",
       "    <tr>\n",
       "      <th>16697</th>\n",
       "      <td>Bust-A-Move 3000</td>\n",
       "      <td>GC</td>\n",
       "      <td>2003</td>\n",
       "      <td>Puzzle</td>\n",
       "      <td>0.01</td>\n",
       "      <td>0.00</td>\n",
       "      <td>0.0</td>\n",
       "      <td>0.00</td>\n",
       "      <td>53</td>\n",
       "      <td>tbd</td>\n",
       "      <td>E</td>\n",
       "    </tr>\n",
       "    <tr>\n",
       "      <th>16698</th>\n",
       "      <td>Mega Brain Boost</td>\n",
       "      <td>DS</td>\n",
       "      <td>2008</td>\n",
       "      <td>Puzzle</td>\n",
       "      <td>0.01</td>\n",
       "      <td>0.00</td>\n",
       "      <td>0.0</td>\n",
       "      <td>0.00</td>\n",
       "      <td>48</td>\n",
       "      <td>tbd</td>\n",
       "      <td>E</td>\n",
       "    </tr>\n",
       "    <tr>\n",
       "      <th>16704</th>\n",
       "      <td>Plushees</td>\n",
       "      <td>DS</td>\n",
       "      <td>2008</td>\n",
       "      <td>Simulation</td>\n",
       "      <td>0.01</td>\n",
       "      <td>0.00</td>\n",
       "      <td>0.0</td>\n",
       "      <td>0.00</td>\n",
       "      <td>&lt;NA&gt;</td>\n",
       "      <td>tbd</td>\n",
       "      <td>E</td>\n",
       "    </tr>\n",
       "    <tr>\n",
       "      <th>16706</th>\n",
       "      <td>Men in Black II: Alien Escape</td>\n",
       "      <td>GC</td>\n",
       "      <td>2003</td>\n",
       "      <td>Shooter</td>\n",
       "      <td>0.01</td>\n",
       "      <td>0.00</td>\n",
       "      <td>0.0</td>\n",
       "      <td>0.00</td>\n",
       "      <td>&lt;NA&gt;</td>\n",
       "      <td>tbd</td>\n",
       "      <td>T</td>\n",
       "    </tr>\n",
       "  </tbody>\n",
       "</table>\n",
       "<p>2424 rows × 11 columns</p>\n",
       "</div>"
      ],
      "text/plain": [
       "                                           name platform  year_of_release  \\\n",
       "119                               Zumba Fitness      Wii             2010   \n",
       "301              Namco Museum: 50th Anniversary      PS2             2005   \n",
       "520                             Zumba Fitness 2      Wii             2011   \n",
       "645                                uDraw Studio      Wii             2010   \n",
       "657    Frogger's Adventures: Temple of the Frog      GBA             <NA>   \n",
       "...                                         ...      ...              ...   \n",
       "16695                           Planet Monsters      GBA             2001   \n",
       "16697                          Bust-A-Move 3000       GC             2003   \n",
       "16698                          Mega Brain Boost       DS             2008   \n",
       "16704                                  Plushees       DS             2008   \n",
       "16706             Men in Black II: Alien Escape       GC             2003   \n",
       "\n",
       "            genre  na_sales  eu_sales  jp_sales  other_sales  critic_score  \\\n",
       "119        Sports      3.45      2.59       0.0         0.66          <NA>   \n",
       "301          Misc      2.08      1.35       0.0         0.54            61   \n",
       "520        Sports      1.51      1.03       0.0         0.27          <NA>   \n",
       "645          Misc      1.65      0.57       0.0         0.20            71   \n",
       "657     Adventure      2.15      0.18       0.0         0.07            73   \n",
       "...           ...       ...       ...       ...          ...           ...   \n",
       "16695      Action      0.01      0.00       0.0         0.00            67   \n",
       "16697      Puzzle      0.01      0.00       0.0         0.00            53   \n",
       "16698      Puzzle      0.01      0.00       0.0         0.00            48   \n",
       "16704  Simulation      0.01      0.00       0.0         0.00          <NA>   \n",
       "16706     Shooter      0.01      0.00       0.0         0.00          <NA>   \n",
       "\n",
       "      user_score rating  \n",
       "119          tbd      E  \n",
       "301          tbd   E10+  \n",
       "520          tbd      T  \n",
       "645          tbd      E  \n",
       "657          tbd      E  \n",
       "...          ...    ...  \n",
       "16695        tbd      E  \n",
       "16697        tbd      E  \n",
       "16698        tbd      E  \n",
       "16704        tbd      E  \n",
       "16706        tbd      T  \n",
       "\n",
       "[2424 rows x 11 columns]"
      ]
     },
     "execution_count": 12,
     "metadata": {},
     "output_type": "execute_result"
    }
   ],
   "source": [
    "data.query('user_score == \"tbd\"')"
   ]
  },
  {
   "cell_type": "markdown",
   "metadata": {},
   "source": [
    "Никаких особенных закономерностей зафиксировать не удалось.\n",
    "<br> Заменим все tbd в данном столбце на NaN (пустые значения)</br>"
   ]
  },
  {
   "cell_type": "code",
   "execution_count": 13,
   "metadata": {},
   "outputs": [],
   "source": [
    "data.loc[data['user_score'] == 'tbd', 'user_score'] = np.nan # замена всех tbd на nan"
   ]
  },
  {
   "cell_type": "code",
   "execution_count": 14,
   "metadata": {},
   "outputs": [
    {
     "data": {
      "text/plain": [
       "array(['8', nan, '8.3', '8.5', '6.6', '8.4', '8.6', '7.7', '6.3', '7.4',\n",
       "       '8.2', '9', '7.9', '8.1', '8.7', '7.1', '3.4', '5.3', '4.8', '3.2',\n",
       "       '8.9', '6.4', '7.8', '7.5', '2.6', '7.2', '9.2', '7', '7.3', '4.3',\n",
       "       '7.6', '5.7', '5', '9.1', '6.5', '8.8', '6.9', '9.4', '6.8', '6.1',\n",
       "       '6.7', '5.4', '4', '4.9', '4.5', '9.3', '6.2', '4.2', '6', '3.7',\n",
       "       '4.1', '5.8', '5.6', '5.5', '4.4', '4.6', '5.9', '3.9', '3.1',\n",
       "       '2.9', '5.2', '3.3', '4.7', '5.1', '3.5', '2.5', '1.9', '3', '2.7',\n",
       "       '2.2', '2', '9.5', '2.1', '3.6', '2.8', '1.8', '3.8', '0', '1.6',\n",
       "       '9.6', '2.4', '1.7', '1.1', '0.3', '1.5', '0.7', '1.2', '2.3',\n",
       "       '0.5', '1.3', '0.2', '0.6', '1.4', '0.9', '1', '9.7'], dtype=object)"
      ]
     },
     "execution_count": 14,
     "metadata": {},
     "output_type": "execute_result"
    }
   ],
   "source": [
    "data['user_score'].unique() # вывод уникальных значений"
   ]
  },
  {
   "cell_type": "markdown",
   "metadata": {},
   "source": [
    "Приведем тип данных в данном столбце к типу float64"
   ]
  },
  {
   "cell_type": "code",
   "execution_count": 15,
   "metadata": {},
   "outputs": [],
   "source": [
    "data['user_score'] = data['user_score'].astype('float64') "
   ]
  },
  {
   "cell_type": "code",
   "execution_count": 16,
   "metadata": {},
   "outputs": [
    {
     "name": "stdout",
     "output_type": "stream",
     "text": [
      "<class 'pandas.core.frame.DataFrame'>\n",
      "RangeIndex: 16715 entries, 0 to 16714\n",
      "Data columns (total 11 columns):\n",
      " #   Column           Non-Null Count  Dtype  \n",
      "---  ------           --------------  -----  \n",
      " 0   name             16713 non-null  object \n",
      " 1   platform         16715 non-null  object \n",
      " 2   year_of_release  16446 non-null  Int64  \n",
      " 3   genre            16713 non-null  object \n",
      " 4   na_sales         16715 non-null  float64\n",
      " 5   eu_sales         16715 non-null  float64\n",
      " 6   jp_sales         16715 non-null  float64\n",
      " 7   other_sales      16715 non-null  float64\n",
      " 8   critic_score     8137 non-null   Int64  \n",
      " 9   user_score       7590 non-null   float64\n",
      " 10  rating           9949 non-null   object \n",
      "dtypes: Int64(2), float64(5), object(4)\n",
      "memory usage: 1.4+ MB\n"
     ]
    }
   ],
   "source": [
    "data.info() # вывод общей информации о датасете"
   ]
  },
  {
   "cell_type": "markdown",
   "metadata": {},
   "source": [
    "Можно заметить, что, в результате преобразования tbd в столбце user_score увеличилось количество пропусков как раз на 2424 штуки\n",
    "<br> <b>Все типы приведены к необходимым </b></br>"
   ]
  },
  {
   "cell_type": "markdown",
   "metadata": {},
   "source": [
    "#### Обработка дубликатов"
   ]
  },
  {
   "cell_type": "markdown",
   "metadata": {},
   "source": [
    "Выявим явные дубликаты"
   ]
  },
  {
   "cell_type": "code",
   "execution_count": 17,
   "metadata": {},
   "outputs": [
    {
     "name": "stdout",
     "output_type": "stream",
     "text": [
      "0\n"
     ]
    }
   ],
   "source": [
    "print(data.duplicated().sum())"
   ]
  },
  {
   "cell_type": "markdown",
   "metadata": {},
   "source": [
    "Попробуем найти дубликаты для пары \"Имя - Платформа\"</font>\n"
   ]
  },
  {
   "cell_type": "code",
   "execution_count": 18,
   "metadata": {},
   "outputs": [
    {
     "data": {
      "text/plain": [
       "5"
      ]
     },
     "execution_count": 18,
     "metadata": {},
     "output_type": "execute_result"
    }
   ],
   "source": [
    "data.duplicated(subset=['name','platform']).sum()"
   ]
  },
  {
   "cell_type": "markdown",
   "metadata": {},
   "source": [
    "Нашлось 5 дубликатов. Выведем их на экран"
   ]
  },
  {
   "cell_type": "code",
   "execution_count": 19,
   "metadata": {},
   "outputs": [
    {
     "name": "stdout",
     "output_type": "stream",
     "text": [
      "Int64Index([1591, 4127, 11715, 14244, 16230], dtype='int64')\n"
     ]
    }
   ],
   "source": [
    "# определим индексы строк-дубликатов\n",
    "duplicates = data.duplicated(subset=['name','platform'])\\\n",
    ".loc[data.duplicated(subset=['name','platform']) == True].index\n",
    "print(duplicates)"
   ]
  },
  {
   "cell_type": "code",
   "execution_count": 20,
   "metadata": {
    "scrolled": false
   },
   "outputs": [
    {
     "data": {
      "text/html": [
       "<div>\n",
       "<style scoped>\n",
       "    .dataframe tbody tr th:only-of-type {\n",
       "        vertical-align: middle;\n",
       "    }\n",
       "\n",
       "    .dataframe tbody tr th {\n",
       "        vertical-align: top;\n",
       "    }\n",
       "\n",
       "    .dataframe thead th {\n",
       "        text-align: right;\n",
       "    }\n",
       "</style>\n",
       "<table border=\"1\" class=\"dataframe\">\n",
       "  <thead>\n",
       "    <tr style=\"text-align: right;\">\n",
       "      <th></th>\n",
       "      <th>name</th>\n",
       "      <th>platform</th>\n",
       "      <th>year_of_release</th>\n",
       "      <th>genre</th>\n",
       "      <th>na_sales</th>\n",
       "      <th>eu_sales</th>\n",
       "      <th>jp_sales</th>\n",
       "      <th>other_sales</th>\n",
       "      <th>critic_score</th>\n",
       "      <th>user_score</th>\n",
       "      <th>rating</th>\n",
       "    </tr>\n",
       "  </thead>\n",
       "  <tbody>\n",
       "    <tr>\n",
       "      <th>1591</th>\n",
       "      <td>Need for Speed: Most Wanted</td>\n",
       "      <td>X360</td>\n",
       "      <td>2005</td>\n",
       "      <td>Racing</td>\n",
       "      <td>1.0</td>\n",
       "      <td>0.13</td>\n",
       "      <td>0.02</td>\n",
       "      <td>0.10</td>\n",
       "      <td>83</td>\n",
       "      <td>8.5</td>\n",
       "      <td>T</td>\n",
       "    </tr>\n",
       "    <tr>\n",
       "      <th>4127</th>\n",
       "      <td>Sonic the Hedgehog</td>\n",
       "      <td>PS3</td>\n",
       "      <td>&lt;NA&gt;</td>\n",
       "      <td>Platform</td>\n",
       "      <td>0.0</td>\n",
       "      <td>0.48</td>\n",
       "      <td>0.00</td>\n",
       "      <td>0.00</td>\n",
       "      <td>43</td>\n",
       "      <td>4.1</td>\n",
       "      <td>E10+</td>\n",
       "    </tr>\n",
       "    <tr>\n",
       "      <th>11715</th>\n",
       "      <td>Need for Speed: Most Wanted</td>\n",
       "      <td>PC</td>\n",
       "      <td>2012</td>\n",
       "      <td>Racing</td>\n",
       "      <td>0.0</td>\n",
       "      <td>0.06</td>\n",
       "      <td>0.00</td>\n",
       "      <td>0.02</td>\n",
       "      <td>82</td>\n",
       "      <td>8.5</td>\n",
       "      <td>T</td>\n",
       "    </tr>\n",
       "    <tr>\n",
       "      <th>14244</th>\n",
       "      <td>NaN</td>\n",
       "      <td>GEN</td>\n",
       "      <td>1993</td>\n",
       "      <td>NaN</td>\n",
       "      <td>0.0</td>\n",
       "      <td>0.00</td>\n",
       "      <td>0.03</td>\n",
       "      <td>0.00</td>\n",
       "      <td>&lt;NA&gt;</td>\n",
       "      <td>NaN</td>\n",
       "      <td>NaN</td>\n",
       "    </tr>\n",
       "    <tr>\n",
       "      <th>16230</th>\n",
       "      <td>Madden NFL 13</td>\n",
       "      <td>PS3</td>\n",
       "      <td>2012</td>\n",
       "      <td>Sports</td>\n",
       "      <td>0.0</td>\n",
       "      <td>0.01</td>\n",
       "      <td>0.00</td>\n",
       "      <td>0.00</td>\n",
       "      <td>83</td>\n",
       "      <td>5.5</td>\n",
       "      <td>E</td>\n",
       "    </tr>\n",
       "  </tbody>\n",
       "</table>\n",
       "</div>"
      ],
      "text/plain": [
       "                              name platform  year_of_release     genre  \\\n",
       "1591   Need for Speed: Most Wanted     X360             2005    Racing   \n",
       "4127            Sonic the Hedgehog      PS3             <NA>  Platform   \n",
       "11715  Need for Speed: Most Wanted       PC             2012    Racing   \n",
       "14244                          NaN      GEN             1993       NaN   \n",
       "16230                Madden NFL 13      PS3             2012    Sports   \n",
       "\n",
       "       na_sales  eu_sales  jp_sales  other_sales  critic_score  user_score  \\\n",
       "1591        1.0      0.13      0.02         0.10            83         8.5   \n",
       "4127        0.0      0.48      0.00         0.00            43         4.1   \n",
       "11715       0.0      0.06      0.00         0.02            82         8.5   \n",
       "14244       0.0      0.00      0.03         0.00          <NA>         NaN   \n",
       "16230       0.0      0.01      0.00         0.00            83         5.5   \n",
       "\n",
       "      rating  \n",
       "1591       T  \n",
       "4127    E10+  \n",
       "11715      T  \n",
       "14244    NaN  \n",
       "16230      E  "
      ]
     },
     "execution_count": 20,
     "metadata": {},
     "output_type": "execute_result"
    }
   ],
   "source": [
    "data.iloc[duplicates]"
   ]
  },
  {
   "cell_type": "markdown",
   "metadata": {},
   "source": [
    "Игра \"Need for Speed: Most Wanted\" имеет 2 дубликата на 2 платформах - Х360 и PC, оба дубликата - это разные игры с одним названием, но разной датой выхода. Их оставляем\n",
    "<br> NaN - это пропуск в названии игры. Можно в дальнейшем удалить.</br>\n",
    "\n"
   ]
  },
  {
   "cell_type": "code",
   "execution_count": 21,
   "metadata": {},
   "outputs": [
    {
     "data": {
      "text/html": [
       "<div>\n",
       "<style scoped>\n",
       "    .dataframe tbody tr th:only-of-type {\n",
       "        vertical-align: middle;\n",
       "    }\n",
       "\n",
       "    .dataframe tbody tr th {\n",
       "        vertical-align: top;\n",
       "    }\n",
       "\n",
       "    .dataframe thead th {\n",
       "        text-align: right;\n",
       "    }\n",
       "</style>\n",
       "<table border=\"1\" class=\"dataframe\">\n",
       "  <thead>\n",
       "    <tr style=\"text-align: right;\">\n",
       "      <th></th>\n",
       "      <th>name</th>\n",
       "      <th>platform</th>\n",
       "      <th>year_of_release</th>\n",
       "      <th>genre</th>\n",
       "      <th>na_sales</th>\n",
       "      <th>eu_sales</th>\n",
       "      <th>jp_sales</th>\n",
       "      <th>other_sales</th>\n",
       "      <th>critic_score</th>\n",
       "      <th>user_score</th>\n",
       "      <th>rating</th>\n",
       "    </tr>\n",
       "  </thead>\n",
       "  <tbody>\n",
       "    <tr>\n",
       "      <th>1745</th>\n",
       "      <td>Sonic the Hedgehog</td>\n",
       "      <td>PS3</td>\n",
       "      <td>2006</td>\n",
       "      <td>Platform</td>\n",
       "      <td>0.41</td>\n",
       "      <td>0.06</td>\n",
       "      <td>0.04</td>\n",
       "      <td>0.66</td>\n",
       "      <td>43</td>\n",
       "      <td>4.1</td>\n",
       "      <td>E10+</td>\n",
       "    </tr>\n",
       "    <tr>\n",
       "      <th>4127</th>\n",
       "      <td>Sonic the Hedgehog</td>\n",
       "      <td>PS3</td>\n",
       "      <td>&lt;NA&gt;</td>\n",
       "      <td>Platform</td>\n",
       "      <td>0.00</td>\n",
       "      <td>0.48</td>\n",
       "      <td>0.00</td>\n",
       "      <td>0.00</td>\n",
       "      <td>43</td>\n",
       "      <td>4.1</td>\n",
       "      <td>E10+</td>\n",
       "    </tr>\n",
       "  </tbody>\n",
       "</table>\n",
       "</div>"
      ],
      "text/plain": [
       "                    name platform  year_of_release     genre  na_sales  \\\n",
       "1745  Sonic the Hedgehog      PS3             2006  Platform      0.41   \n",
       "4127  Sonic the Hedgehog      PS3             <NA>  Platform      0.00   \n",
       "\n",
       "      eu_sales  jp_sales  other_sales  critic_score  user_score rating  \n",
       "1745      0.06      0.04         0.66            43         4.1   E10+  \n",
       "4127      0.48      0.00         0.00            43         4.1   E10+  "
      ]
     },
     "execution_count": 21,
     "metadata": {},
     "output_type": "execute_result"
    }
   ],
   "source": [
    "# выводим строки игры Sonic\n",
    "data.query('(name == \"Sonic the Hedgehog\")&(platform == \"PS3\")')"
   ]
  },
  {
   "cell_type": "code",
   "execution_count": 22,
   "metadata": {
    "scrolled": true
   },
   "outputs": [
    {
     "data": {
      "text/html": [
       "<div>\n",
       "<style scoped>\n",
       "    .dataframe tbody tr th:only-of-type {\n",
       "        vertical-align: middle;\n",
       "    }\n",
       "\n",
       "    .dataframe tbody tr th {\n",
       "        vertical-align: top;\n",
       "    }\n",
       "\n",
       "    .dataframe thead th {\n",
       "        text-align: right;\n",
       "    }\n",
       "</style>\n",
       "<table border=\"1\" class=\"dataframe\">\n",
       "  <thead>\n",
       "    <tr style=\"text-align: right;\">\n",
       "      <th></th>\n",
       "      <th>name</th>\n",
       "      <th>platform</th>\n",
       "      <th>year_of_release</th>\n",
       "      <th>genre</th>\n",
       "      <th>na_sales</th>\n",
       "      <th>eu_sales</th>\n",
       "      <th>jp_sales</th>\n",
       "      <th>other_sales</th>\n",
       "      <th>critic_score</th>\n",
       "      <th>user_score</th>\n",
       "      <th>rating</th>\n",
       "    </tr>\n",
       "  </thead>\n",
       "  <tbody>\n",
       "    <tr>\n",
       "      <th>604</th>\n",
       "      <td>Madden NFL 13</td>\n",
       "      <td>PS3</td>\n",
       "      <td>2012</td>\n",
       "      <td>Sports</td>\n",
       "      <td>2.11</td>\n",
       "      <td>0.22</td>\n",
       "      <td>0.0</td>\n",
       "      <td>0.23</td>\n",
       "      <td>83</td>\n",
       "      <td>5.5</td>\n",
       "      <td>E</td>\n",
       "    </tr>\n",
       "    <tr>\n",
       "      <th>16230</th>\n",
       "      <td>Madden NFL 13</td>\n",
       "      <td>PS3</td>\n",
       "      <td>2012</td>\n",
       "      <td>Sports</td>\n",
       "      <td>0.00</td>\n",
       "      <td>0.01</td>\n",
       "      <td>0.0</td>\n",
       "      <td>0.00</td>\n",
       "      <td>83</td>\n",
       "      <td>5.5</td>\n",
       "      <td>E</td>\n",
       "    </tr>\n",
       "  </tbody>\n",
       "</table>\n",
       "</div>"
      ],
      "text/plain": [
       "                name platform  year_of_release   genre  na_sales  eu_sales  \\\n",
       "604    Madden NFL 13      PS3             2012  Sports      2.11      0.22   \n",
       "16230  Madden NFL 13      PS3             2012  Sports      0.00      0.01   \n",
       "\n",
       "       jp_sales  other_sales  critic_score  user_score rating  \n",
       "604         0.0         0.23            83         5.5      E  \n",
       "16230       0.0         0.00            83         5.5      E  "
      ]
     },
     "execution_count": 22,
     "metadata": {},
     "output_type": "execute_result"
    }
   ],
   "source": [
    "# выводим строки игры NFL\n",
    "data.query('(name == \"Madden NFL 13\")&(platform == \"PS3\")')"
   ]
  },
  {
   "cell_type": "markdown",
   "metadata": {},
   "source": [
    "Эти две игры - дубликаты. Вторые строки можно удалить"
   ]
  },
  {
   "cell_type": "code",
   "execution_count": 23,
   "metadata": {},
   "outputs": [],
   "source": [
    "data = data.drop(index=[16230,4127])"
   ]
  },
  {
   "cell_type": "markdown",
   "metadata": {},
   "source": [
    "Снова посчитаем"
   ]
  },
  {
   "cell_type": "code",
   "execution_count": 24,
   "metadata": {},
   "outputs": [
    {
     "data": {
      "text/plain": [
       "3"
      ]
     },
     "execution_count": 24,
     "metadata": {},
     "output_type": "execute_result"
    }
   ],
   "source": [
    "data.duplicated(subset=['name','platform']).sum()"
   ]
  },
  {
   "cell_type": "markdown",
   "metadata": {},
   "source": [
    "Более дубликатов нет"
   ]
  },
  {
   "cell_type": "markdown",
   "metadata": {},
   "source": [
    "Проверим неявные дубликаты."
   ]
  },
  {
   "cell_type": "code",
   "execution_count": 25,
   "metadata": {},
   "outputs": [
    {
     "name": "stdout",
     "output_type": "stream",
     "text": [
      "['Sports' 'Platform' 'Racing' 'Role-Playing' 'Puzzle' 'Misc' 'Shooter'\n",
      " 'Simulation' 'Action' 'Fighting' 'Adventure' 'Strategy' nan]\n"
     ]
    }
   ],
   "source": [
    "print(data['genre'].unique()) # проверим неявные дубликаты в столбце genre для их обработки"
   ]
  },
  {
   "cell_type": "code",
   "execution_count": 26,
   "metadata": {},
   "outputs": [
    {
     "name": "stdout",
     "output_type": "stream",
     "text": [
      "['Wii' 'NES' 'GB' 'DS' 'X360' 'PS3' 'PS2' 'SNES' 'GBA' 'PS4' '3DS' 'N64'\n",
      " 'PS' 'XB' 'PC' '2600' 'PSP' 'XOne' 'WiiU' 'GC' 'GEN' 'DC' 'PSV' 'SAT'\n",
      " 'SCD' 'WS' 'NG' 'TG16' '3DO' 'GG' 'PCFX']\n"
     ]
    }
   ],
   "source": [
    "print(data['platform'].unique())"
   ]
  },
  {
   "cell_type": "code",
   "execution_count": 27,
   "metadata": {
    "scrolled": true
   },
   "outputs": [
    {
     "name": "stdout",
     "output_type": "stream",
     "text": [
      "['E' nan 'M' 'T' 'E10+' 'K-A' 'AO' 'EC' 'RP']\n"
     ]
    }
   ],
   "source": [
    "print(data['rating'].unique())"
   ]
  },
  {
   "cell_type": "code",
   "execution_count": 28,
   "metadata": {},
   "outputs": [
    {
     "name": "stdout",
     "output_type": "stream",
     "text": [
      "<IntegerArray>\n",
      "[2006, 1985, 2008, 2009, 1996, 1989, 1984, 2005, 1999, 2007, 2010, 2013, 2004,\n",
      " 1990, 1988, 2002, 2001, 2011, 1998, 2015, 2012, 2014, 1992, 1997, 1993, 1994,\n",
      " 1982, 2016, 2003, 1986, 2000, <NA>, 1995, 1991, 1981, 1987, 1980, 1983]\n",
      "Length: 38, dtype: Int64\n"
     ]
    }
   ],
   "source": [
    "print(data['year_of_release'].unique())"
   ]
  },
  {
   "cell_type": "markdown",
   "metadata": {},
   "source": [
    "Неявных дубликатов нет"
   ]
  },
  {
   "cell_type": "markdown",
   "metadata": {},
   "source": [
    "#### Обработка пропусков"
   ]
  },
  {
   "cell_type": "markdown",
   "metadata": {},
   "source": [
    "Заполнить пропуски в столбцах critic_score, user_score мы не можем, т.к. будет мы получим искажение информации.\n",
    "Пропуски в данных столбцах сигнализируют о том, что отсутствала оценка игры, либо не была найдена информация в открытых источниках.\n",
    "Дополнительно посмотрим на пропуски в столбцах name, year_of_release и genre и узнаем, можно  ли их удалить из-за немногочисленности. Также, заменим пропущенные значения в rating на \"заглушку\", т.к. в данном столбце категориальный тип данных"
   ]
  },
  {
   "cell_type": "code",
   "execution_count": 29,
   "metadata": {},
   "outputs": [
    {
     "data": {
      "text/html": [
       "<div>\n",
       "<style scoped>\n",
       "    .dataframe tbody tr th:only-of-type {\n",
       "        vertical-align: middle;\n",
       "    }\n",
       "\n",
       "    .dataframe tbody tr th {\n",
       "        vertical-align: top;\n",
       "    }\n",
       "\n",
       "    .dataframe thead th {\n",
       "        text-align: right;\n",
       "    }\n",
       "</style>\n",
       "<table border=\"1\" class=\"dataframe\">\n",
       "  <thead>\n",
       "    <tr style=\"text-align: right;\">\n",
       "      <th></th>\n",
       "      <th>name</th>\n",
       "      <th>platform</th>\n",
       "      <th>year_of_release</th>\n",
       "      <th>genre</th>\n",
       "      <th>na_sales</th>\n",
       "      <th>eu_sales</th>\n",
       "      <th>jp_sales</th>\n",
       "      <th>other_sales</th>\n",
       "      <th>critic_score</th>\n",
       "      <th>user_score</th>\n",
       "      <th>rating</th>\n",
       "    </tr>\n",
       "  </thead>\n",
       "  <tbody>\n",
       "    <tr>\n",
       "      <th>183</th>\n",
       "      <td>Madden NFL 2004</td>\n",
       "      <td>PS2</td>\n",
       "      <td>&lt;NA&gt;</td>\n",
       "      <td>Sports</td>\n",
       "      <td>4.26</td>\n",
       "      <td>0.26</td>\n",
       "      <td>0.01</td>\n",
       "      <td>0.71</td>\n",
       "      <td>94</td>\n",
       "      <td>8.5</td>\n",
       "      <td>E</td>\n",
       "    </tr>\n",
       "    <tr>\n",
       "      <th>377</th>\n",
       "      <td>FIFA Soccer 2004</td>\n",
       "      <td>PS2</td>\n",
       "      <td>&lt;NA&gt;</td>\n",
       "      <td>Sports</td>\n",
       "      <td>0.59</td>\n",
       "      <td>2.36</td>\n",
       "      <td>0.04</td>\n",
       "      <td>0.51</td>\n",
       "      <td>84</td>\n",
       "      <td>6.4</td>\n",
       "      <td>E</td>\n",
       "    </tr>\n",
       "    <tr>\n",
       "      <th>456</th>\n",
       "      <td>LEGO Batman: The Videogame</td>\n",
       "      <td>Wii</td>\n",
       "      <td>&lt;NA&gt;</td>\n",
       "      <td>Action</td>\n",
       "      <td>1.80</td>\n",
       "      <td>0.97</td>\n",
       "      <td>0.00</td>\n",
       "      <td>0.29</td>\n",
       "      <td>74</td>\n",
       "      <td>7.9</td>\n",
       "      <td>E10+</td>\n",
       "    </tr>\n",
       "    <tr>\n",
       "      <th>475</th>\n",
       "      <td>wwe Smackdown vs. Raw 2006</td>\n",
       "      <td>PS2</td>\n",
       "      <td>&lt;NA&gt;</td>\n",
       "      <td>Fighting</td>\n",
       "      <td>1.57</td>\n",
       "      <td>1.02</td>\n",
       "      <td>0.00</td>\n",
       "      <td>0.41</td>\n",
       "      <td>&lt;NA&gt;</td>\n",
       "      <td>NaN</td>\n",
       "      <td>NaN</td>\n",
       "    </tr>\n",
       "    <tr>\n",
       "      <th>609</th>\n",
       "      <td>Space Invaders</td>\n",
       "      <td>2600</td>\n",
       "      <td>&lt;NA&gt;</td>\n",
       "      <td>Shooter</td>\n",
       "      <td>2.36</td>\n",
       "      <td>0.14</td>\n",
       "      <td>0.00</td>\n",
       "      <td>0.03</td>\n",
       "      <td>&lt;NA&gt;</td>\n",
       "      <td>NaN</td>\n",
       "      <td>NaN</td>\n",
       "    </tr>\n",
       "    <tr>\n",
       "      <th>627</th>\n",
       "      <td>Rock Band</td>\n",
       "      <td>X360</td>\n",
       "      <td>&lt;NA&gt;</td>\n",
       "      <td>Misc</td>\n",
       "      <td>1.93</td>\n",
       "      <td>0.33</td>\n",
       "      <td>0.00</td>\n",
       "      <td>0.21</td>\n",
       "      <td>92</td>\n",
       "      <td>8.2</td>\n",
       "      <td>T</td>\n",
       "    </tr>\n",
       "    <tr>\n",
       "      <th>657</th>\n",
       "      <td>Frogger's Adventures: Temple of the Frog</td>\n",
       "      <td>GBA</td>\n",
       "      <td>&lt;NA&gt;</td>\n",
       "      <td>Adventure</td>\n",
       "      <td>2.15</td>\n",
       "      <td>0.18</td>\n",
       "      <td>0.00</td>\n",
       "      <td>0.07</td>\n",
       "      <td>73</td>\n",
       "      <td>NaN</td>\n",
       "      <td>E</td>\n",
       "    </tr>\n",
       "    <tr>\n",
       "      <th>678</th>\n",
       "      <td>LEGO Indiana Jones: The Original Adventures</td>\n",
       "      <td>Wii</td>\n",
       "      <td>&lt;NA&gt;</td>\n",
       "      <td>Action</td>\n",
       "      <td>1.51</td>\n",
       "      <td>0.61</td>\n",
       "      <td>0.00</td>\n",
       "      <td>0.21</td>\n",
       "      <td>78</td>\n",
       "      <td>6.6</td>\n",
       "      <td>E10+</td>\n",
       "    </tr>\n",
       "    <tr>\n",
       "      <th>719</th>\n",
       "      <td>Call of Duty 3</td>\n",
       "      <td>Wii</td>\n",
       "      <td>&lt;NA&gt;</td>\n",
       "      <td>Shooter</td>\n",
       "      <td>1.17</td>\n",
       "      <td>0.84</td>\n",
       "      <td>0.00</td>\n",
       "      <td>0.23</td>\n",
       "      <td>69</td>\n",
       "      <td>6.7</td>\n",
       "      <td>T</td>\n",
       "    </tr>\n",
       "    <tr>\n",
       "      <th>805</th>\n",
       "      <td>Rock Band</td>\n",
       "      <td>Wii</td>\n",
       "      <td>&lt;NA&gt;</td>\n",
       "      <td>Misc</td>\n",
       "      <td>1.33</td>\n",
       "      <td>0.56</td>\n",
       "      <td>0.00</td>\n",
       "      <td>0.20</td>\n",
       "      <td>80</td>\n",
       "      <td>6.3</td>\n",
       "      <td>T</td>\n",
       "    </tr>\n",
       "  </tbody>\n",
       "</table>\n",
       "</div>"
      ],
      "text/plain": [
       "                                            name platform  year_of_release  \\\n",
       "183                              Madden NFL 2004      PS2             <NA>   \n",
       "377                             FIFA Soccer 2004      PS2             <NA>   \n",
       "456                   LEGO Batman: The Videogame      Wii             <NA>   \n",
       "475                   wwe Smackdown vs. Raw 2006      PS2             <NA>   \n",
       "609                               Space Invaders     2600             <NA>   \n",
       "627                                    Rock Band     X360             <NA>   \n",
       "657     Frogger's Adventures: Temple of the Frog      GBA             <NA>   \n",
       "678  LEGO Indiana Jones: The Original Adventures      Wii             <NA>   \n",
       "719                               Call of Duty 3      Wii             <NA>   \n",
       "805                                    Rock Band      Wii             <NA>   \n",
       "\n",
       "         genre  na_sales  eu_sales  jp_sales  other_sales  critic_score  \\\n",
       "183     Sports      4.26      0.26      0.01         0.71            94   \n",
       "377     Sports      0.59      2.36      0.04         0.51            84   \n",
       "456     Action      1.80      0.97      0.00         0.29            74   \n",
       "475   Fighting      1.57      1.02      0.00         0.41          <NA>   \n",
       "609    Shooter      2.36      0.14      0.00         0.03          <NA>   \n",
       "627       Misc      1.93      0.33      0.00         0.21            92   \n",
       "657  Adventure      2.15      0.18      0.00         0.07            73   \n",
       "678     Action      1.51      0.61      0.00         0.21            78   \n",
       "719    Shooter      1.17      0.84      0.00         0.23            69   \n",
       "805       Misc      1.33      0.56      0.00         0.20            80   \n",
       "\n",
       "     user_score rating  \n",
       "183         8.5      E  \n",
       "377         6.4      E  \n",
       "456         7.9   E10+  \n",
       "475         NaN    NaN  \n",
       "609         NaN    NaN  \n",
       "627         8.2      T  \n",
       "657         NaN      E  \n",
       "678         6.6   E10+  \n",
       "719         6.7      T  \n",
       "805         6.3      T  "
      ]
     },
     "execution_count": 29,
     "metadata": {},
     "output_type": "execute_result"
    }
   ],
   "source": [
    "data.query('year_of_release.isna()').head(10) # выведем 10 строк столбца с пустым годом выпуска"
   ]
  },
  {
   "cell_type": "code",
   "execution_count": 30,
   "metadata": {},
   "outputs": [
    {
     "data": {
      "text/html": [
       "<div>\n",
       "<style scoped>\n",
       "    .dataframe tbody tr th:only-of-type {\n",
       "        vertical-align: middle;\n",
       "    }\n",
       "\n",
       "    .dataframe tbody tr th {\n",
       "        vertical-align: top;\n",
       "    }\n",
       "\n",
       "    .dataframe thead th {\n",
       "        text-align: right;\n",
       "    }\n",
       "</style>\n",
       "<table border=\"1\" class=\"dataframe\">\n",
       "  <thead>\n",
       "    <tr style=\"text-align: right;\">\n",
       "      <th></th>\n",
       "      <th>name</th>\n",
       "      <th>platform</th>\n",
       "      <th>year_of_release</th>\n",
       "      <th>genre</th>\n",
       "      <th>na_sales</th>\n",
       "      <th>eu_sales</th>\n",
       "      <th>jp_sales</th>\n",
       "      <th>other_sales</th>\n",
       "      <th>critic_score</th>\n",
       "      <th>user_score</th>\n",
       "      <th>rating</th>\n",
       "    </tr>\n",
       "  </thead>\n",
       "  <tbody>\n",
       "    <tr>\n",
       "      <th>659</th>\n",
       "      <td>NaN</td>\n",
       "      <td>GEN</td>\n",
       "      <td>1993</td>\n",
       "      <td>NaN</td>\n",
       "      <td>1.78</td>\n",
       "      <td>0.53</td>\n",
       "      <td>0.00</td>\n",
       "      <td>0.08</td>\n",
       "      <td>&lt;NA&gt;</td>\n",
       "      <td>NaN</td>\n",
       "      <td>NaN</td>\n",
       "    </tr>\n",
       "    <tr>\n",
       "      <th>14244</th>\n",
       "      <td>NaN</td>\n",
       "      <td>GEN</td>\n",
       "      <td>1993</td>\n",
       "      <td>NaN</td>\n",
       "      <td>0.00</td>\n",
       "      <td>0.00</td>\n",
       "      <td>0.03</td>\n",
       "      <td>0.00</td>\n",
       "      <td>&lt;NA&gt;</td>\n",
       "      <td>NaN</td>\n",
       "      <td>NaN</td>\n",
       "    </tr>\n",
       "  </tbody>\n",
       "</table>\n",
       "</div>"
      ],
      "text/plain": [
       "      name platform  year_of_release genre  na_sales  eu_sales  jp_sales  \\\n",
       "659    NaN      GEN             1993   NaN      1.78      0.53      0.00   \n",
       "14244  NaN      GEN             1993   NaN      0.00      0.00      0.03   \n",
       "\n",
       "       other_sales  critic_score  user_score rating  \n",
       "659           0.08          <NA>         NaN    NaN  \n",
       "14244         0.00          <NA>         NaN    NaN  "
      ]
     },
     "execution_count": 30,
     "metadata": {},
     "output_type": "execute_result"
    }
   ],
   "source": [
    "data.query('genre.isna()') # выведем строки столбца с пустым жанром"
   ]
  },
  {
   "cell_type": "code",
   "execution_count": 31,
   "metadata": {
    "scrolled": true
   },
   "outputs": [
    {
     "data": {
      "text/html": [
       "<div>\n",
       "<style scoped>\n",
       "    .dataframe tbody tr th:only-of-type {\n",
       "        vertical-align: middle;\n",
       "    }\n",
       "\n",
       "    .dataframe tbody tr th {\n",
       "        vertical-align: top;\n",
       "    }\n",
       "\n",
       "    .dataframe thead th {\n",
       "        text-align: right;\n",
       "    }\n",
       "</style>\n",
       "<table border=\"1\" class=\"dataframe\">\n",
       "  <thead>\n",
       "    <tr style=\"text-align: right;\">\n",
       "      <th></th>\n",
       "      <th>name</th>\n",
       "      <th>platform</th>\n",
       "      <th>year_of_release</th>\n",
       "      <th>genre</th>\n",
       "      <th>na_sales</th>\n",
       "      <th>eu_sales</th>\n",
       "      <th>jp_sales</th>\n",
       "      <th>other_sales</th>\n",
       "      <th>critic_score</th>\n",
       "      <th>user_score</th>\n",
       "      <th>rating</th>\n",
       "    </tr>\n",
       "  </thead>\n",
       "  <tbody>\n",
       "    <tr>\n",
       "      <th>659</th>\n",
       "      <td>NaN</td>\n",
       "      <td>GEN</td>\n",
       "      <td>1993</td>\n",
       "      <td>NaN</td>\n",
       "      <td>1.78</td>\n",
       "      <td>0.53</td>\n",
       "      <td>0.00</td>\n",
       "      <td>0.08</td>\n",
       "      <td>&lt;NA&gt;</td>\n",
       "      <td>NaN</td>\n",
       "      <td>NaN</td>\n",
       "    </tr>\n",
       "    <tr>\n",
       "      <th>14244</th>\n",
       "      <td>NaN</td>\n",
       "      <td>GEN</td>\n",
       "      <td>1993</td>\n",
       "      <td>NaN</td>\n",
       "      <td>0.00</td>\n",
       "      <td>0.00</td>\n",
       "      <td>0.03</td>\n",
       "      <td>0.00</td>\n",
       "      <td>&lt;NA&gt;</td>\n",
       "      <td>NaN</td>\n",
       "      <td>NaN</td>\n",
       "    </tr>\n",
       "  </tbody>\n",
       "</table>\n",
       "</div>"
      ],
      "text/plain": [
       "      name platform  year_of_release genre  na_sales  eu_sales  jp_sales  \\\n",
       "659    NaN      GEN             1993   NaN      1.78      0.53      0.00   \n",
       "14244  NaN      GEN             1993   NaN      0.00      0.00      0.03   \n",
       "\n",
       "       other_sales  critic_score  user_score rating  \n",
       "659           0.08          <NA>         NaN    NaN  \n",
       "14244         0.00          <NA>         NaN    NaN  "
      ]
     },
     "execution_count": 31,
     "metadata": {},
     "output_type": "execute_result"
    }
   ],
   "source": [
    "data.query('name.isna()') # выведем строки столбца с пустым названием"
   ]
  },
  {
   "cell_type": "markdown",
   "metadata": {},
   "source": [
    "Пропуски в year_of_release лучше оставить. А строки name и genre лучше удалить"
   ]
  },
  {
   "cell_type": "markdown",
   "metadata": {},
   "source": [
    "Заполним пропуски в rating на \"заглушку\" - \"nothing\""
   ]
  },
  {
   "cell_type": "code",
   "execution_count": 32,
   "metadata": {},
   "outputs": [
    {
     "data": {
      "text/html": [
       "<div>\n",
       "<style scoped>\n",
       "    .dataframe tbody tr th:only-of-type {\n",
       "        vertical-align: middle;\n",
       "    }\n",
       "\n",
       "    .dataframe tbody tr th {\n",
       "        vertical-align: top;\n",
       "    }\n",
       "\n",
       "    .dataframe thead th {\n",
       "        text-align: right;\n",
       "    }\n",
       "</style>\n",
       "<table border=\"1\" class=\"dataframe\">\n",
       "  <thead>\n",
       "    <tr style=\"text-align: right;\">\n",
       "      <th></th>\n",
       "      <th>name</th>\n",
       "      <th>platform</th>\n",
       "      <th>year_of_release</th>\n",
       "      <th>genre</th>\n",
       "      <th>na_sales</th>\n",
       "      <th>eu_sales</th>\n",
       "      <th>jp_sales</th>\n",
       "      <th>other_sales</th>\n",
       "      <th>critic_score</th>\n",
       "      <th>user_score</th>\n",
       "      <th>rating</th>\n",
       "    </tr>\n",
       "  </thead>\n",
       "  <tbody>\n",
       "    <tr>\n",
       "      <th>0</th>\n",
       "      <td>Wii Sports</td>\n",
       "      <td>Wii</td>\n",
       "      <td>2006</td>\n",
       "      <td>Sports</td>\n",
       "      <td>41.36</td>\n",
       "      <td>28.96</td>\n",
       "      <td>3.77</td>\n",
       "      <td>8.45</td>\n",
       "      <td>76</td>\n",
       "      <td>8.0</td>\n",
       "      <td>E</td>\n",
       "    </tr>\n",
       "    <tr>\n",
       "      <th>1</th>\n",
       "      <td>Super Mario Bros.</td>\n",
       "      <td>NES</td>\n",
       "      <td>1985</td>\n",
       "      <td>Platform</td>\n",
       "      <td>29.08</td>\n",
       "      <td>3.58</td>\n",
       "      <td>6.81</td>\n",
       "      <td>0.77</td>\n",
       "      <td>&lt;NA&gt;</td>\n",
       "      <td>NaN</td>\n",
       "      <td>nothing</td>\n",
       "    </tr>\n",
       "    <tr>\n",
       "      <th>2</th>\n",
       "      <td>Mario Kart Wii</td>\n",
       "      <td>Wii</td>\n",
       "      <td>2008</td>\n",
       "      <td>Racing</td>\n",
       "      <td>15.68</td>\n",
       "      <td>12.76</td>\n",
       "      <td>3.79</td>\n",
       "      <td>3.29</td>\n",
       "      <td>82</td>\n",
       "      <td>8.3</td>\n",
       "      <td>E</td>\n",
       "    </tr>\n",
       "    <tr>\n",
       "      <th>3</th>\n",
       "      <td>Wii Sports Resort</td>\n",
       "      <td>Wii</td>\n",
       "      <td>2009</td>\n",
       "      <td>Sports</td>\n",
       "      <td>15.61</td>\n",
       "      <td>10.93</td>\n",
       "      <td>3.28</td>\n",
       "      <td>2.95</td>\n",
       "      <td>80</td>\n",
       "      <td>8.0</td>\n",
       "      <td>E</td>\n",
       "    </tr>\n",
       "    <tr>\n",
       "      <th>4</th>\n",
       "      <td>Pokemon Red/Pokemon Blue</td>\n",
       "      <td>GB</td>\n",
       "      <td>1996</td>\n",
       "      <td>Role-Playing</td>\n",
       "      <td>11.27</td>\n",
       "      <td>8.89</td>\n",
       "      <td>10.22</td>\n",
       "      <td>1.00</td>\n",
       "      <td>&lt;NA&gt;</td>\n",
       "      <td>NaN</td>\n",
       "      <td>nothing</td>\n",
       "    </tr>\n",
       "    <tr>\n",
       "      <th>5</th>\n",
       "      <td>Tetris</td>\n",
       "      <td>GB</td>\n",
       "      <td>1989</td>\n",
       "      <td>Puzzle</td>\n",
       "      <td>23.20</td>\n",
       "      <td>2.26</td>\n",
       "      <td>4.22</td>\n",
       "      <td>0.58</td>\n",
       "      <td>&lt;NA&gt;</td>\n",
       "      <td>NaN</td>\n",
       "      <td>nothing</td>\n",
       "    </tr>\n",
       "    <tr>\n",
       "      <th>6</th>\n",
       "      <td>New Super Mario Bros.</td>\n",
       "      <td>DS</td>\n",
       "      <td>2006</td>\n",
       "      <td>Platform</td>\n",
       "      <td>11.28</td>\n",
       "      <td>9.14</td>\n",
       "      <td>6.50</td>\n",
       "      <td>2.88</td>\n",
       "      <td>89</td>\n",
       "      <td>8.5</td>\n",
       "      <td>E</td>\n",
       "    </tr>\n",
       "    <tr>\n",
       "      <th>7</th>\n",
       "      <td>Wii Play</td>\n",
       "      <td>Wii</td>\n",
       "      <td>2006</td>\n",
       "      <td>Misc</td>\n",
       "      <td>13.96</td>\n",
       "      <td>9.18</td>\n",
       "      <td>2.93</td>\n",
       "      <td>2.84</td>\n",
       "      <td>58</td>\n",
       "      <td>6.6</td>\n",
       "      <td>E</td>\n",
       "    </tr>\n",
       "    <tr>\n",
       "      <th>8</th>\n",
       "      <td>New Super Mario Bros. Wii</td>\n",
       "      <td>Wii</td>\n",
       "      <td>2009</td>\n",
       "      <td>Platform</td>\n",
       "      <td>14.44</td>\n",
       "      <td>6.94</td>\n",
       "      <td>4.70</td>\n",
       "      <td>2.24</td>\n",
       "      <td>87</td>\n",
       "      <td>8.4</td>\n",
       "      <td>E</td>\n",
       "    </tr>\n",
       "    <tr>\n",
       "      <th>9</th>\n",
       "      <td>Duck Hunt</td>\n",
       "      <td>NES</td>\n",
       "      <td>1984</td>\n",
       "      <td>Shooter</td>\n",
       "      <td>26.93</td>\n",
       "      <td>0.63</td>\n",
       "      <td>0.28</td>\n",
       "      <td>0.47</td>\n",
       "      <td>&lt;NA&gt;</td>\n",
       "      <td>NaN</td>\n",
       "      <td>nothing</td>\n",
       "    </tr>\n",
       "  </tbody>\n",
       "</table>\n",
       "</div>"
      ],
      "text/plain": [
       "                        name platform  year_of_release         genre  \\\n",
       "0                 Wii Sports      Wii             2006        Sports   \n",
       "1          Super Mario Bros.      NES             1985      Platform   \n",
       "2             Mario Kart Wii      Wii             2008        Racing   \n",
       "3          Wii Sports Resort      Wii             2009        Sports   \n",
       "4   Pokemon Red/Pokemon Blue       GB             1996  Role-Playing   \n",
       "5                     Tetris       GB             1989        Puzzle   \n",
       "6      New Super Mario Bros.       DS             2006      Platform   \n",
       "7                   Wii Play      Wii             2006          Misc   \n",
       "8  New Super Mario Bros. Wii      Wii             2009      Platform   \n",
       "9                  Duck Hunt      NES             1984       Shooter   \n",
       "\n",
       "   na_sales  eu_sales  jp_sales  other_sales  critic_score  user_score  \\\n",
       "0     41.36     28.96      3.77         8.45            76         8.0   \n",
       "1     29.08      3.58      6.81         0.77          <NA>         NaN   \n",
       "2     15.68     12.76      3.79         3.29            82         8.3   \n",
       "3     15.61     10.93      3.28         2.95            80         8.0   \n",
       "4     11.27      8.89     10.22         1.00          <NA>         NaN   \n",
       "5     23.20      2.26      4.22         0.58          <NA>         NaN   \n",
       "6     11.28      9.14      6.50         2.88            89         8.5   \n",
       "7     13.96      9.18      2.93         2.84            58         6.6   \n",
       "8     14.44      6.94      4.70         2.24            87         8.4   \n",
       "9     26.93      0.63      0.28         0.47          <NA>         NaN   \n",
       "\n",
       "    rating  \n",
       "0        E  \n",
       "1  nothing  \n",
       "2        E  \n",
       "3        E  \n",
       "4  nothing  \n",
       "5  nothing  \n",
       "6        E  \n",
       "7        E  \n",
       "8        E  \n",
       "9  nothing  "
      ]
     },
     "execution_count": 32,
     "metadata": {},
     "output_type": "execute_result"
    }
   ],
   "source": [
    "data['rating'] = data['rating'].fillna('nothing')\n",
    "data.head(10)"
   ]
  },
  {
   "cell_type": "markdown",
   "metadata": {},
   "source": [
    "Рассмотрим количество строк в датафрейме"
   ]
  },
  {
   "cell_type": "code",
   "execution_count": 33,
   "metadata": {},
   "outputs": [
    {
     "data": {
      "text/plain": [
       "(16713, 11)"
      ]
     },
     "execution_count": 33,
     "metadata": {},
     "output_type": "execute_result"
    }
   ],
   "source": [
    "np.shape(data)"
   ]
  },
  {
   "cell_type": "code",
   "execution_count": 34,
   "metadata": {},
   "outputs": [],
   "source": [
    "data.dropna(subset=['name'], inplace=True) # удаляем пропуски в столбцах\n",
    "data.dropna(subset=['year_of_release'], inplace=True)\n",
    "data.dropna(subset=['genre'], inplace=True)"
   ]
  },
  {
   "cell_type": "code",
   "execution_count": 35,
   "metadata": {},
   "outputs": [],
   "source": [
    "# удалим строки с пропусками name и genre\n",
    "data.dropna(subset=['name'], inplace=True)\n",
    "data.dropna(subset=['genre'], inplace=True)"
   ]
  },
  {
   "cell_type": "markdown",
   "metadata": {},
   "source": [
    "Проверим результат"
   ]
  },
  {
   "cell_type": "code",
   "execution_count": 36,
   "metadata": {},
   "outputs": [
    {
     "data": {
      "text/plain": [
       "(16443, 11)"
      ]
     },
     "execution_count": 36,
     "metadata": {},
     "output_type": "execute_result"
    }
   ],
   "source": [
    "np.shape(data)"
   ]
  },
  {
   "cell_type": "code",
   "execution_count": 37,
   "metadata": {
    "scrolled": true
   },
   "outputs": [
    {
     "name": "stdout",
     "output_type": "stream",
     "text": [
      "<class 'pandas.core.frame.DataFrame'>\n",
      "Int64Index: 16443 entries, 0 to 16714\n",
      "Data columns (total 11 columns):\n",
      " #   Column           Non-Null Count  Dtype  \n",
      "---  ------           --------------  -----  \n",
      " 0   name             16443 non-null  object \n",
      " 1   platform         16443 non-null  object \n",
      " 2   year_of_release  16443 non-null  Int64  \n",
      " 3   genre            16443 non-null  object \n",
      " 4   na_sales         16443 non-null  float64\n",
      " 5   eu_sales         16443 non-null  float64\n",
      " 6   jp_sales         16443 non-null  float64\n",
      " 7   other_sales      16443 non-null  float64\n",
      " 8   critic_score     7982 non-null   Int64  \n",
      " 9   user_score       7462 non-null   float64\n",
      " 10  rating           16443 non-null  object \n",
      "dtypes: Int64(2), float64(5), object(4)\n",
      "memory usage: 1.5+ MB\n"
     ]
    }
   ],
   "source": [
    "data.info()"
   ]
  },
  {
   "cell_type": "markdown",
   "metadata": {},
   "source": [
    "Все необходимые строки с пропусками удалены"
   ]
  },
  {
   "cell_type": "markdown",
   "metadata": {},
   "source": [
    "#### Посчитаем суммарные продажи для всех регионов"
   ]
  },
  {
   "cell_type": "markdown",
   "metadata": {},
   "source": [
    "Посчитаем сумму для каждой строки"
   ]
  },
  {
   "cell_type": "code",
   "execution_count": 38,
   "metadata": {},
   "outputs": [],
   "source": [
    "data['sum'] = data['na_sales'] + data['eu_sales'] + data['jp_sales'] + data['other_sales'] # создаем новый временный столбец"
   ]
  },
  {
   "cell_type": "code",
   "execution_count": 39,
   "metadata": {},
   "outputs": [
    {
     "data": {
      "text/html": [
       "<div>\n",
       "<style scoped>\n",
       "    .dataframe tbody tr th:only-of-type {\n",
       "        vertical-align: middle;\n",
       "    }\n",
       "\n",
       "    .dataframe tbody tr th {\n",
       "        vertical-align: top;\n",
       "    }\n",
       "\n",
       "    .dataframe thead th {\n",
       "        text-align: right;\n",
       "    }\n",
       "</style>\n",
       "<table border=\"1\" class=\"dataframe\">\n",
       "  <thead>\n",
       "    <tr style=\"text-align: right;\">\n",
       "      <th></th>\n",
       "      <th>name</th>\n",
       "      <th>platform</th>\n",
       "      <th>year_of_release</th>\n",
       "      <th>genre</th>\n",
       "      <th>na_sales</th>\n",
       "      <th>eu_sales</th>\n",
       "      <th>jp_sales</th>\n",
       "      <th>other_sales</th>\n",
       "      <th>critic_score</th>\n",
       "      <th>user_score</th>\n",
       "      <th>rating</th>\n",
       "      <th>sum</th>\n",
       "    </tr>\n",
       "  </thead>\n",
       "  <tbody>\n",
       "    <tr>\n",
       "      <th>0</th>\n",
       "      <td>Wii Sports</td>\n",
       "      <td>Wii</td>\n",
       "      <td>2006</td>\n",
       "      <td>Sports</td>\n",
       "      <td>41.36</td>\n",
       "      <td>28.96</td>\n",
       "      <td>3.77</td>\n",
       "      <td>8.45</td>\n",
       "      <td>76</td>\n",
       "      <td>8.0</td>\n",
       "      <td>E</td>\n",
       "      <td>82.54</td>\n",
       "    </tr>\n",
       "    <tr>\n",
       "      <th>1</th>\n",
       "      <td>Super Mario Bros.</td>\n",
       "      <td>NES</td>\n",
       "      <td>1985</td>\n",
       "      <td>Platform</td>\n",
       "      <td>29.08</td>\n",
       "      <td>3.58</td>\n",
       "      <td>6.81</td>\n",
       "      <td>0.77</td>\n",
       "      <td>&lt;NA&gt;</td>\n",
       "      <td>NaN</td>\n",
       "      <td>nothing</td>\n",
       "      <td>40.24</td>\n",
       "    </tr>\n",
       "    <tr>\n",
       "      <th>2</th>\n",
       "      <td>Mario Kart Wii</td>\n",
       "      <td>Wii</td>\n",
       "      <td>2008</td>\n",
       "      <td>Racing</td>\n",
       "      <td>15.68</td>\n",
       "      <td>12.76</td>\n",
       "      <td>3.79</td>\n",
       "      <td>3.29</td>\n",
       "      <td>82</td>\n",
       "      <td>8.3</td>\n",
       "      <td>E</td>\n",
       "      <td>35.52</td>\n",
       "    </tr>\n",
       "    <tr>\n",
       "      <th>3</th>\n",
       "      <td>Wii Sports Resort</td>\n",
       "      <td>Wii</td>\n",
       "      <td>2009</td>\n",
       "      <td>Sports</td>\n",
       "      <td>15.61</td>\n",
       "      <td>10.93</td>\n",
       "      <td>3.28</td>\n",
       "      <td>2.95</td>\n",
       "      <td>80</td>\n",
       "      <td>8.0</td>\n",
       "      <td>E</td>\n",
       "      <td>32.77</td>\n",
       "    </tr>\n",
       "    <tr>\n",
       "      <th>4</th>\n",
       "      <td>Pokemon Red/Pokemon Blue</td>\n",
       "      <td>GB</td>\n",
       "      <td>1996</td>\n",
       "      <td>Role-Playing</td>\n",
       "      <td>11.27</td>\n",
       "      <td>8.89</td>\n",
       "      <td>10.22</td>\n",
       "      <td>1.00</td>\n",
       "      <td>&lt;NA&gt;</td>\n",
       "      <td>NaN</td>\n",
       "      <td>nothing</td>\n",
       "      <td>31.38</td>\n",
       "    </tr>\n",
       "    <tr>\n",
       "      <th>5</th>\n",
       "      <td>Tetris</td>\n",
       "      <td>GB</td>\n",
       "      <td>1989</td>\n",
       "      <td>Puzzle</td>\n",
       "      <td>23.20</td>\n",
       "      <td>2.26</td>\n",
       "      <td>4.22</td>\n",
       "      <td>0.58</td>\n",
       "      <td>&lt;NA&gt;</td>\n",
       "      <td>NaN</td>\n",
       "      <td>nothing</td>\n",
       "      <td>30.26</td>\n",
       "    </tr>\n",
       "    <tr>\n",
       "      <th>6</th>\n",
       "      <td>New Super Mario Bros.</td>\n",
       "      <td>DS</td>\n",
       "      <td>2006</td>\n",
       "      <td>Platform</td>\n",
       "      <td>11.28</td>\n",
       "      <td>9.14</td>\n",
       "      <td>6.50</td>\n",
       "      <td>2.88</td>\n",
       "      <td>89</td>\n",
       "      <td>8.5</td>\n",
       "      <td>E</td>\n",
       "      <td>29.80</td>\n",
       "    </tr>\n",
       "    <tr>\n",
       "      <th>7</th>\n",
       "      <td>Wii Play</td>\n",
       "      <td>Wii</td>\n",
       "      <td>2006</td>\n",
       "      <td>Misc</td>\n",
       "      <td>13.96</td>\n",
       "      <td>9.18</td>\n",
       "      <td>2.93</td>\n",
       "      <td>2.84</td>\n",
       "      <td>58</td>\n",
       "      <td>6.6</td>\n",
       "      <td>E</td>\n",
       "      <td>28.91</td>\n",
       "    </tr>\n",
       "    <tr>\n",
       "      <th>8</th>\n",
       "      <td>New Super Mario Bros. Wii</td>\n",
       "      <td>Wii</td>\n",
       "      <td>2009</td>\n",
       "      <td>Platform</td>\n",
       "      <td>14.44</td>\n",
       "      <td>6.94</td>\n",
       "      <td>4.70</td>\n",
       "      <td>2.24</td>\n",
       "      <td>87</td>\n",
       "      <td>8.4</td>\n",
       "      <td>E</td>\n",
       "      <td>28.32</td>\n",
       "    </tr>\n",
       "    <tr>\n",
       "      <th>9</th>\n",
       "      <td>Duck Hunt</td>\n",
       "      <td>NES</td>\n",
       "      <td>1984</td>\n",
       "      <td>Shooter</td>\n",
       "      <td>26.93</td>\n",
       "      <td>0.63</td>\n",
       "      <td>0.28</td>\n",
       "      <td>0.47</td>\n",
       "      <td>&lt;NA&gt;</td>\n",
       "      <td>NaN</td>\n",
       "      <td>nothing</td>\n",
       "      <td>28.31</td>\n",
       "    </tr>\n",
       "  </tbody>\n",
       "</table>\n",
       "</div>"
      ],
      "text/plain": [
       "                        name platform  year_of_release         genre  \\\n",
       "0                 Wii Sports      Wii             2006        Sports   \n",
       "1          Super Mario Bros.      NES             1985      Platform   \n",
       "2             Mario Kart Wii      Wii             2008        Racing   \n",
       "3          Wii Sports Resort      Wii             2009        Sports   \n",
       "4   Pokemon Red/Pokemon Blue       GB             1996  Role-Playing   \n",
       "5                     Tetris       GB             1989        Puzzle   \n",
       "6      New Super Mario Bros.       DS             2006      Platform   \n",
       "7                   Wii Play      Wii             2006          Misc   \n",
       "8  New Super Mario Bros. Wii      Wii             2009      Platform   \n",
       "9                  Duck Hunt      NES             1984       Shooter   \n",
       "\n",
       "   na_sales  eu_sales  jp_sales  other_sales  critic_score  user_score  \\\n",
       "0     41.36     28.96      3.77         8.45            76         8.0   \n",
       "1     29.08      3.58      6.81         0.77          <NA>         NaN   \n",
       "2     15.68     12.76      3.79         3.29            82         8.3   \n",
       "3     15.61     10.93      3.28         2.95            80         8.0   \n",
       "4     11.27      8.89     10.22         1.00          <NA>         NaN   \n",
       "5     23.20      2.26      4.22         0.58          <NA>         NaN   \n",
       "6     11.28      9.14      6.50         2.88            89         8.5   \n",
       "7     13.96      9.18      2.93         2.84            58         6.6   \n",
       "8     14.44      6.94      4.70         2.24            87         8.4   \n",
       "9     26.93      0.63      0.28         0.47          <NA>         NaN   \n",
       "\n",
       "    rating    sum  \n",
       "0        E  82.54  \n",
       "1  nothing  40.24  \n",
       "2        E  35.52  \n",
       "3        E  32.77  \n",
       "4  nothing  31.38  \n",
       "5  nothing  30.26  \n",
       "6        E  29.80  \n",
       "7        E  28.91  \n",
       "8        E  28.32  \n",
       "9  nothing  28.31  "
      ]
     },
     "execution_count": 39,
     "metadata": {},
     "output_type": "execute_result"
    }
   ],
   "source": [
    "data.head(10) # проверим результат"
   ]
  },
  {
   "cell_type": "markdown",
   "metadata": {},
   "source": [
    "Добавили новый столбец с информацией об общих продажа по всем регионам"
   ]
  },
  {
   "cell_type": "markdown",
   "metadata": {},
   "source": [
    "#### Вывод:"
   ]
  },
  {
   "cell_type": "markdown",
   "metadata": {},
   "source": [
    "Была проведена предобработка данных.\n",
    "<br> Приведены к нижнему регистру названия столбцов</br>\n",
    "<br> Удалены строки с незначительным количеством пропусков в данных. Заполнить пропуски в столбцах critic_score, user_score и rating не удалось, по причине того, что возможно искажение исходной информации.  </br>\n",
    "<br> Явные и неявные дубликаты в данных отсутствовали </br>\n",
    "<br> Приведены к необходимому типу столбцы </br>\n",
    "<br> Добавлен новый столбец общих продаж по всем регионам</br>"
   ]
  },
  {
   "cell_type": "markdown",
   "metadata": {},
   "source": [
    "### Исследовательский анализ данных"
   ]
  },
  {
   "cell_type": "markdown",
   "metadata": {},
   "source": [
    "#### Количество выпускаемых игр по годам"
   ]
  },
  {
   "cell_type": "code",
   "execution_count": 40,
   "metadata": {},
   "outputs": [
    {
     "data": {
      "image/png": "[encoded data removed]",
      "text/plain": [
       "<Figure size 432x288 with 1 Axes>"
      ]
     },
     "metadata": {
      "needs_background": "light"
     },
     "output_type": "display_data"
    }
   ],
   "source": [
    "data.boxplot(column='year_of_release') # построим ящик с усами для столбца year_of_release\n",
    "plt.show()"
   ]
  },
  {
   "cell_type": "markdown",
   "metadata": {},
   "source": [
    "Посчитаем количество игр, которые выпускались в разные годы"
   ]
  },
  {
   "cell_type": "code",
   "execution_count": 41,
   "metadata": {},
   "outputs": [
    {
     "data": {
      "text/plain": [
       "year_of_release\n",
       "2008    1427\n",
       "2009    1426\n",
       "2010    1255\n",
       "2007    1197\n",
       "2011    1136\n",
       "2006    1006\n",
       "2005     939\n",
       "2002     829\n",
       "2003     775\n",
       "2004     762\n",
       "2012     652\n",
       "2015     606\n",
       "2014     581\n",
       "2013     544\n",
       "2016     502\n",
       "2001     482\n",
       "1998     379\n",
       "2000     350\n",
       "1999     338\n",
       "1997     289\n",
       "1996     263\n",
       "1995     219\n",
       "1994     121\n",
       "1993      60\n",
       "1981      46\n",
       "1992      43\n",
       "1991      41\n",
       "1982      36\n",
       "1986      21\n",
       "1989      17\n",
       "1983      17\n",
       "1990      16\n",
       "1987      16\n",
       "1988      15\n",
       "1985      14\n",
       "1984      14\n",
       "1980       9\n",
       "Name: name, dtype: int64"
      ]
     },
     "execution_count": 41,
     "metadata": {},
     "output_type": "execute_result"
    }
   ],
   "source": [
    "data.groupby('year_of_release')['name'].count().sort_values(ascending=False)"
   ]
  },
  {
   "cell_type": "markdown",
   "metadata": {},
   "source": [
    "Т.к. некоторые игры вышли в один год на разные платформы. Поищем дубликаты по 2-м условиям: Название игры - Год выпуска\n",
    "    <br> Перезапишем в новую переменную датасет без дублей и посмотрим реальное количество игр по годам"
   ]
  },
  {
   "cell_type": "code",
   "execution_count": 42,
   "metadata": {},
   "outputs": [
    {
     "name": "stdout",
     "output_type": "stream",
     "text": [
      "Int64Index([   23,    35,    37,    41,    55,    57,    69,    99,   104,\n",
      "              120,\n",
      "            ...\n",
      "            16660, 16672, 16673, 16690, 16691, 16692, 16709, 16710, 16713,\n",
      "            16714],\n",
      "           dtype='int64', length=4248)\n"
     ]
    }
   ],
   "source": [
    "# сохраним в новую переменную индексы дубликатов по условиям Название игры - Год выпуска\n",
    "duplicates_year_name = data.duplicated(subset=['name','year_of_release'])\\\n",
    ".loc[data.duplicated(subset=['name','year_of_release']) == True].index\n",
    "print(duplicates_year_name)"
   ]
  },
  {
   "cell_type": "code",
   "execution_count": 43,
   "metadata": {},
   "outputs": [
    {
     "data": {
      "text/html": [
       "<div>\n",
       "<style scoped>\n",
       "    .dataframe tbody tr th:only-of-type {\n",
       "        vertical-align: middle;\n",
       "    }\n",
       "\n",
       "    .dataframe tbody tr th {\n",
       "        vertical-align: top;\n",
       "    }\n",
       "\n",
       "    .dataframe thead th {\n",
       "        text-align: right;\n",
       "    }\n",
       "</style>\n",
       "<table border=\"1\" class=\"dataframe\">\n",
       "  <thead>\n",
       "    <tr style=\"text-align: right;\">\n",
       "      <th></th>\n",
       "      <th>name</th>\n",
       "      <th>platform</th>\n",
       "      <th>year_of_release</th>\n",
       "      <th>genre</th>\n",
       "      <th>na_sales</th>\n",
       "      <th>eu_sales</th>\n",
       "      <th>jp_sales</th>\n",
       "      <th>other_sales</th>\n",
       "      <th>critic_score</th>\n",
       "      <th>user_score</th>\n",
       "      <th>rating</th>\n",
       "      <th>sum</th>\n",
       "    </tr>\n",
       "  </thead>\n",
       "  <tbody>\n",
       "    <tr>\n",
       "      <th>0</th>\n",
       "      <td>Wii Sports</td>\n",
       "      <td>Wii</td>\n",
       "      <td>2006</td>\n",
       "      <td>Sports</td>\n",
       "      <td>41.36</td>\n",
       "      <td>28.96</td>\n",
       "      <td>3.77</td>\n",
       "      <td>8.45</td>\n",
       "      <td>76</td>\n",
       "      <td>8.0</td>\n",
       "      <td>E</td>\n",
       "      <td>82.54</td>\n",
       "    </tr>\n",
       "    <tr>\n",
       "      <th>1</th>\n",
       "      <td>Super Mario Bros.</td>\n",
       "      <td>NES</td>\n",
       "      <td>1985</td>\n",
       "      <td>Platform</td>\n",
       "      <td>29.08</td>\n",
       "      <td>3.58</td>\n",
       "      <td>6.81</td>\n",
       "      <td>0.77</td>\n",
       "      <td>&lt;NA&gt;</td>\n",
       "      <td>NaN</td>\n",
       "      <td>nothing</td>\n",
       "      <td>40.24</td>\n",
       "    </tr>\n",
       "    <tr>\n",
       "      <th>2</th>\n",
       "      <td>Mario Kart Wii</td>\n",
       "      <td>Wii</td>\n",
       "      <td>2008</td>\n",
       "      <td>Racing</td>\n",
       "      <td>15.68</td>\n",
       "      <td>12.76</td>\n",
       "      <td>3.79</td>\n",
       "      <td>3.29</td>\n",
       "      <td>82</td>\n",
       "      <td>8.3</td>\n",
       "      <td>E</td>\n",
       "      <td>35.52</td>\n",
       "    </tr>\n",
       "    <tr>\n",
       "      <th>3</th>\n",
       "      <td>Wii Sports Resort</td>\n",
       "      <td>Wii</td>\n",
       "      <td>2009</td>\n",
       "      <td>Sports</td>\n",
       "      <td>15.61</td>\n",
       "      <td>10.93</td>\n",
       "      <td>3.28</td>\n",
       "      <td>2.95</td>\n",
       "      <td>80</td>\n",
       "      <td>8.0</td>\n",
       "      <td>E</td>\n",
       "      <td>32.77</td>\n",
       "    </tr>\n",
       "    <tr>\n",
       "      <th>4</th>\n",
       "      <td>Pokemon Red/Pokemon Blue</td>\n",
       "      <td>GB</td>\n",
       "      <td>1996</td>\n",
       "      <td>Role-Playing</td>\n",
       "      <td>11.27</td>\n",
       "      <td>8.89</td>\n",
       "      <td>10.22</td>\n",
       "      <td>1.00</td>\n",
       "      <td>&lt;NA&gt;</td>\n",
       "      <td>NaN</td>\n",
       "      <td>nothing</td>\n",
       "      <td>31.38</td>\n",
       "    </tr>\n",
       "    <tr>\n",
       "      <th>5</th>\n",
       "      <td>Tetris</td>\n",
       "      <td>GB</td>\n",
       "      <td>1989</td>\n",
       "      <td>Puzzle</td>\n",
       "      <td>23.20</td>\n",
       "      <td>2.26</td>\n",
       "      <td>4.22</td>\n",
       "      <td>0.58</td>\n",
       "      <td>&lt;NA&gt;</td>\n",
       "      <td>NaN</td>\n",
       "      <td>nothing</td>\n",
       "      <td>30.26</td>\n",
       "    </tr>\n",
       "    <tr>\n",
       "      <th>6</th>\n",
       "      <td>New Super Mario Bros.</td>\n",
       "      <td>DS</td>\n",
       "      <td>2006</td>\n",
       "      <td>Platform</td>\n",
       "      <td>11.28</td>\n",
       "      <td>9.14</td>\n",
       "      <td>6.50</td>\n",
       "      <td>2.88</td>\n",
       "      <td>89</td>\n",
       "      <td>8.5</td>\n",
       "      <td>E</td>\n",
       "      <td>29.80</td>\n",
       "    </tr>\n",
       "    <tr>\n",
       "      <th>7</th>\n",
       "      <td>Wii Play</td>\n",
       "      <td>Wii</td>\n",
       "      <td>2006</td>\n",
       "      <td>Misc</td>\n",
       "      <td>13.96</td>\n",
       "      <td>9.18</td>\n",
       "      <td>2.93</td>\n",
       "      <td>2.84</td>\n",
       "      <td>58</td>\n",
       "      <td>6.6</td>\n",
       "      <td>E</td>\n",
       "      <td>28.91</td>\n",
       "    </tr>\n",
       "    <tr>\n",
       "      <th>8</th>\n",
       "      <td>New Super Mario Bros. Wii</td>\n",
       "      <td>Wii</td>\n",
       "      <td>2009</td>\n",
       "      <td>Platform</td>\n",
       "      <td>14.44</td>\n",
       "      <td>6.94</td>\n",
       "      <td>4.70</td>\n",
       "      <td>2.24</td>\n",
       "      <td>87</td>\n",
       "      <td>8.4</td>\n",
       "      <td>E</td>\n",
       "      <td>28.32</td>\n",
       "    </tr>\n",
       "    <tr>\n",
       "      <th>9</th>\n",
       "      <td>Duck Hunt</td>\n",
       "      <td>NES</td>\n",
       "      <td>1984</td>\n",
       "      <td>Shooter</td>\n",
       "      <td>26.93</td>\n",
       "      <td>0.63</td>\n",
       "      <td>0.28</td>\n",
       "      <td>0.47</td>\n",
       "      <td>&lt;NA&gt;</td>\n",
       "      <td>NaN</td>\n",
       "      <td>nothing</td>\n",
       "      <td>28.31</td>\n",
       "    </tr>\n",
       "  </tbody>\n",
       "</table>\n",
       "</div>"
      ],
      "text/plain": [
       "                        name platform  year_of_release         genre  \\\n",
       "0                 Wii Sports      Wii             2006        Sports   \n",
       "1          Super Mario Bros.      NES             1985      Platform   \n",
       "2             Mario Kart Wii      Wii             2008        Racing   \n",
       "3          Wii Sports Resort      Wii             2009        Sports   \n",
       "4   Pokemon Red/Pokemon Blue       GB             1996  Role-Playing   \n",
       "5                     Tetris       GB             1989        Puzzle   \n",
       "6      New Super Mario Bros.       DS             2006      Platform   \n",
       "7                   Wii Play      Wii             2006          Misc   \n",
       "8  New Super Mario Bros. Wii      Wii             2009      Platform   \n",
       "9                  Duck Hunt      NES             1984       Shooter   \n",
       "\n",
       "   na_sales  eu_sales  jp_sales  other_sales  critic_score  user_score  \\\n",
       "0     41.36     28.96      3.77         8.45            76         8.0   \n",
       "1     29.08      3.58      6.81         0.77          <NA>         NaN   \n",
       "2     15.68     12.76      3.79         3.29            82         8.3   \n",
       "3     15.61     10.93      3.28         2.95            80         8.0   \n",
       "4     11.27      8.89     10.22         1.00          <NA>         NaN   \n",
       "5     23.20      2.26      4.22         0.58          <NA>         NaN   \n",
       "6     11.28      9.14      6.50         2.88            89         8.5   \n",
       "7     13.96      9.18      2.93         2.84            58         6.6   \n",
       "8     14.44      6.94      4.70         2.24            87         8.4   \n",
       "9     26.93      0.63      0.28         0.47          <NA>         NaN   \n",
       "\n",
       "    rating    sum  \n",
       "0        E  82.54  \n",
       "1  nothing  40.24  \n",
       "2        E  35.52  \n",
       "3        E  32.77  \n",
       "4  nothing  31.38  \n",
       "5  nothing  30.26  \n",
       "6        E  29.80  \n",
       "7        E  28.91  \n",
       "8        E  28.32  \n",
       "9  nothing  28.31  "
      ]
     },
     "execution_count": 43,
     "metadata": {},
     "output_type": "execute_result"
    }
   ],
   "source": [
    "# запишем в новую переменную датасет без дублей и посчитаем число игр в разрезе лет\n",
    "data_year_name = data.drop(index=duplicates_year_name)\n",
    "data_year_name.head(10)"
   ]
  },
  {
   "cell_type": "code",
   "execution_count": 44,
   "metadata": {},
   "outputs": [
    {
     "data": {
      "image/png": "[encoded data removed]",
      "text/plain": [
       "<Figure size 432x288 with 1 Axes>"
      ]
     },
     "metadata": {
      "needs_background": "light"
     },
     "output_type": "display_data"
    }
   ],
   "source": [
    "data_year_name.boxplot(column='year_of_release') # построим ящик с усами для столбца year_of_release\n",
    "\n",
    "plt.title('Разброс значений столбца Год выпуска')\n",
    "plt.xlabel('Год выпуска')\n",
    "plt.show()"
   ]
  },
  {
   "cell_type": "code",
   "execution_count": 45,
   "metadata": {},
   "outputs": [
    {
     "data": {
      "text/plain": [
       "year_of_release\n",
       "2008    1039\n",
       "2009    1001\n",
       "2010     900\n",
       "2007     884\n",
       "2011     779\n",
       "2006     773\n",
       "2005     657\n",
       "2002     631\n",
       "2004     550\n",
       "2003     546\n",
       "2012     446\n",
       "2001     428\n",
       "1998     364\n",
       "2015     362\n",
       "2013     335\n",
       "1999     326\n",
       "2000     325\n",
       "2014     319\n",
       "2016     297\n",
       "1997     282\n",
       "1996     258\n",
       "1995     215\n",
       "1994     117\n",
       "1993      59\n",
       "1981      46\n",
       "1992      41\n",
       "1991      40\n",
       "1982      36\n",
       "1986      21\n",
       "1983      17\n",
       "1989      17\n",
       "1987      16\n",
       "1990      16\n",
       "1988      15\n",
       "1985      14\n",
       "1984      14\n",
       "1980       9\n",
       "Name: name, dtype: int64"
      ]
     },
     "execution_count": 45,
     "metadata": {},
     "output_type": "execute_result"
    }
   ],
   "source": [
    "data_year_name.groupby('year_of_release')['name'].count().sort_values(ascending=False)"
   ]
  },
  {
   "cell_type": "markdown",
   "metadata": {},
   "source": [
    "БОльшая часть игр выпускалась в промежутке между 1994 и 2016 годами. Игры, выпускаемые перед 1994 годом можно не учитывать, т.к. они сильно устарели, и, наиболее вероятно, спрос на них будет низок"
   ]
  },
  {
   "cell_type": "markdown",
   "metadata": {},
   "source": [
    "Построим график количества выпускаемых игр по годам"
   ]
  },
  {
   "cell_type": "code",
   "execution_count": 47,
   "metadata": {
    "scrolled": false
   },
   "outputs": [
    {
     "data": {
      "image/png": "[encoded data removed]",
      "text/plain": [
       "<Figure size 1440x720 with 1 Axes>"
      ]
     },
     "metadata": {
      "needs_background": "light"
     },
     "output_type": "display_data"
    }
   ],
   "source": [
    "data_year_name.groupby('year_of_release')['name'].count().plot(figsize=(20,10), x=\"year_of_release\",style=\"-o\")\n",
    "plt.title('Количества выпускаемых игр по годам')\n",
    "plt.xlabel('Год выпуска')\n",
    "plt.ylabel('Количество выпускаемых игр')\n",
    "plt.show()"
   ]
  },
  {
   "cell_type": "markdown",
   "metadata": {},
   "source": [
    "По графику видно, что наблюдался с 2000 года наблюдался стремительный рост количества выпускаемых игр (несмотря на небольшое падение в 2004 и 2003 годах) вплоть до 2009 года. Это связано с большим распространением и доступностью новых платформ и, соответственно, с повышением спроса на игры, который, в свою очередь, увеличил предложение. Также, это связано с выходом новой версии Playstation 2, самой популярной платформы. <br>Затем, наблюдается постепенное снижение до 2016 года. Вероятно, это связано с перенасыщением рынка и постепенном внедрении регулирования содержания игр в разных странах.</br>"
   ]
  },
  {
   "cell_type": "markdown",
   "metadata": {},
   "source": [
    "#### Анализ продаж платформ"
   ]
  },
  {
   "cell_type": "markdown",
   "metadata": {},
   "source": [
    "Сгруппируем суммарные продажи по платформам"
   ]
  },
  {
   "cell_type": "code",
   "execution_count": 48,
   "metadata": {},
   "outputs": [
    {
     "data": {
      "text/plain": [
       "platform\n",
       "PS2     1233.56\n",
       "X360     961.24\n",
       "PS3      931.33\n",
       "Wii      891.18\n",
       "DS       802.78\n",
       "PS       727.58\n",
       "PS4      314.14\n",
       "GBA      312.88\n",
       "PSP      289.53\n",
       "3DS      257.81\n",
       "PC       255.76\n",
       "GB       254.43\n",
       "XB       251.57\n",
       "NES      251.05\n",
       "N64      218.01\n",
       "SNES     200.04\n",
       "GC       196.73\n",
       "XOne     159.32\n",
       "2600      86.48\n",
       "WiiU      82.19\n",
       "PSV       53.81\n",
       "SAT       33.59\n",
       "GEN       28.35\n",
       "DC        15.95\n",
       "SCD        1.86\n",
       "NG         1.44\n",
       "WS         1.42\n",
       "TG16       0.16\n",
       "3DO        0.10\n",
       "GG         0.04\n",
       "PCFX       0.03\n",
       "Name: sum, dtype: float64"
      ]
     },
     "execution_count": 48,
     "metadata": {},
     "output_type": "execute_result"
    }
   ],
   "source": [
    "data_grouped_platform = data.groupby('platform')['sum'].sum().sort_values(ascending=False) # сгруппируем и отсортируем\n",
    "data_grouped_platform"
   ]
  },
  {
   "cell_type": "markdown",
   "metadata": {},
   "source": [
    "Выберем 7 платформ с наибольшими суммарными продажами"
   ]
  },
  {
   "cell_type": "code",
   "execution_count": 49,
   "metadata": {},
   "outputs": [
    {
     "data": {
      "text/plain": [
       "Index(['PS2', 'X360', 'PS3', 'Wii', 'DS', 'PS', 'PS4'], dtype='object', name='platform')"
      ]
     },
     "execution_count": 49,
     "metadata": {},
     "output_type": "execute_result"
    }
   ],
   "source": [
    "data_grouped_platform = data_grouped_platform.head(7).index # добавим в переменную индексы из группировки\n",
    "data_grouped_platform"
   ]
  },
  {
   "cell_type": "markdown",
   "metadata": {},
   "source": [
    "Посчитаем суммарные продажи для каждой платформы по годам.\n",
    "Построим график"
   ]
  },
  {
   "cell_type": "code",
   "execution_count": 50,
   "metadata": {},
   "outputs": [
    {
     "data": {
      "image/png": "[encoded data removed]",
      "text/plain": [
       "<Figure size 936x576 with 1 Axes>"
      ]
     },
     "metadata": {
      "needs_background": "light"
     },
     "output_type": "display_data"
    }
   ],
   "source": [
    "(\n",
    "    data.query('platform in @data_grouped_platform')\n",
    "    .pivot_table(index = 'year_of_release' , values = 'sum', columns = 'platform', aggfunc = 'sum')\n",
    "    .plot(figsize=(13, 8), grid=True)\n",
    ")\n",
    "plt.xlim([1993,2017])\n",
    "plt.xlabel('Год выпуска')\n",
    "plt.ylabel('Суммарные продажи')\n",
    "plt.show()"
   ]
  },
  {
   "cell_type": "markdown",
   "metadata": {},
   "source": [
    "Исходя из графика, можно сделать вывод о том, что, в среднем, старые платформы исчезают за период в районе 10 лет. Новые платформы PS появляются каждые 6 лет. Наибольшее количество продаж именно у этой линейки. Также, есть крупный конкурент XBOX"
   ]
  },
  {
   "cell_type": "markdown",
   "metadata": {},
   "source": [
    "#### Определяем актуальный период"
   ]
  },
  {
   "cell_type": "markdown",
   "metadata": {},
   "source": [
    "Определим минимальный порог продаж в 1 млн копий"
   ]
  },
  {
   "cell_type": "code",
   "execution_count": 51,
   "metadata": {},
   "outputs": [
    {
     "data": {
      "text/html": [
       "<div>\n",
       "<style scoped>\n",
       "    .dataframe tbody tr th:only-of-type {\n",
       "        vertical-align: middle;\n",
       "    }\n",
       "\n",
       "    .dataframe tbody tr th {\n",
       "        vertical-align: top;\n",
       "    }\n",
       "\n",
       "    .dataframe thead th {\n",
       "        text-align: right;\n",
       "    }\n",
       "</style>\n",
       "<table border=\"1\" class=\"dataframe\">\n",
       "  <thead>\n",
       "    <tr style=\"text-align: right;\">\n",
       "      <th></th>\n",
       "      <th>platform</th>\n",
       "      <th>year_of_release</th>\n",
       "      <th>sum</th>\n",
       "    </tr>\n",
       "  </thead>\n",
       "  <tbody>\n",
       "    <tr>\n",
       "      <th>0</th>\n",
       "      <td>2600</td>\n",
       "      <td>1980</td>\n",
       "      <td>11.38</td>\n",
       "    </tr>\n",
       "    <tr>\n",
       "      <th>1</th>\n",
       "      <td>2600</td>\n",
       "      <td>1981</td>\n",
       "      <td>35.68</td>\n",
       "    </tr>\n",
       "    <tr>\n",
       "      <th>2</th>\n",
       "      <td>2600</td>\n",
       "      <td>1982</td>\n",
       "      <td>28.88</td>\n",
       "    </tr>\n",
       "    <tr>\n",
       "      <th>3</th>\n",
       "      <td>2600</td>\n",
       "      <td>1983</td>\n",
       "      <td>5.84</td>\n",
       "    </tr>\n",
       "    <tr>\n",
       "      <th>4</th>\n",
       "      <td>2600</td>\n",
       "      <td>1984</td>\n",
       "      <td>0.27</td>\n",
       "    </tr>\n",
       "    <tr>\n",
       "      <th>5</th>\n",
       "      <td>2600</td>\n",
       "      <td>1985</td>\n",
       "      <td>0.45</td>\n",
       "    </tr>\n",
       "    <tr>\n",
       "      <th>6</th>\n",
       "      <td>2600</td>\n",
       "      <td>1986</td>\n",
       "      <td>0.67</td>\n",
       "    </tr>\n",
       "    <tr>\n",
       "      <th>7</th>\n",
       "      <td>2600</td>\n",
       "      <td>1987</td>\n",
       "      <td>1.94</td>\n",
       "    </tr>\n",
       "    <tr>\n",
       "      <th>8</th>\n",
       "      <td>2600</td>\n",
       "      <td>1988</td>\n",
       "      <td>0.74</td>\n",
       "    </tr>\n",
       "    <tr>\n",
       "      <th>9</th>\n",
       "      <td>2600</td>\n",
       "      <td>1989</td>\n",
       "      <td>0.63</td>\n",
       "    </tr>\n",
       "    <tr>\n",
       "      <th>10</th>\n",
       "      <td>3DO</td>\n",
       "      <td>1994</td>\n",
       "      <td>0.02</td>\n",
       "    </tr>\n",
       "    <tr>\n",
       "      <th>11</th>\n",
       "      <td>3DO</td>\n",
       "      <td>1995</td>\n",
       "      <td>0.08</td>\n",
       "    </tr>\n",
       "    <tr>\n",
       "      <th>12</th>\n",
       "      <td>3DS</td>\n",
       "      <td>2011</td>\n",
       "      <td>63.20</td>\n",
       "    </tr>\n",
       "    <tr>\n",
       "      <th>13</th>\n",
       "      <td>3DS</td>\n",
       "      <td>2012</td>\n",
       "      <td>51.36</td>\n",
       "    </tr>\n",
       "    <tr>\n",
       "      <th>14</th>\n",
       "      <td>3DS</td>\n",
       "      <td>2013</td>\n",
       "      <td>56.57</td>\n",
       "    </tr>\n",
       "    <tr>\n",
       "      <th>15</th>\n",
       "      <td>3DS</td>\n",
       "      <td>2014</td>\n",
       "      <td>43.76</td>\n",
       "    </tr>\n",
       "    <tr>\n",
       "      <th>16</th>\n",
       "      <td>3DS</td>\n",
       "      <td>2015</td>\n",
       "      <td>27.78</td>\n",
       "    </tr>\n",
       "    <tr>\n",
       "      <th>17</th>\n",
       "      <td>3DS</td>\n",
       "      <td>2016</td>\n",
       "      <td>15.14</td>\n",
       "    </tr>\n",
       "    <tr>\n",
       "      <th>18</th>\n",
       "      <td>DC</td>\n",
       "      <td>1998</td>\n",
       "      <td>3.38</td>\n",
       "    </tr>\n",
       "    <tr>\n",
       "      <th>19</th>\n",
       "      <td>DC</td>\n",
       "      <td>1999</td>\n",
       "      <td>5.16</td>\n",
       "    </tr>\n",
       "  </tbody>\n",
       "</table>\n",
       "</div>"
      ],
      "text/plain": [
       "   platform  year_of_release    sum\n",
       "0      2600             1980  11.38\n",
       "1      2600             1981  35.68\n",
       "2      2600             1982  28.88\n",
       "3      2600             1983   5.84\n",
       "4      2600             1984   0.27\n",
       "5      2600             1985   0.45\n",
       "6      2600             1986   0.67\n",
       "7      2600             1987   1.94\n",
       "8      2600             1988   0.74\n",
       "9      2600             1989   0.63\n",
       "10      3DO             1994   0.02\n",
       "11      3DO             1995   0.08\n",
       "12      3DS             2011  63.20\n",
       "13      3DS             2012  51.36\n",
       "14      3DS             2013  56.57\n",
       "15      3DS             2014  43.76\n",
       "16      3DS             2015  27.78\n",
       "17      3DS             2016  15.14\n",
       "18       DC             1998   3.38\n",
       "19       DC             1999   5.16"
      ]
     },
     "execution_count": 51,
     "metadata": {},
     "output_type": "execute_result"
    }
   ],
   "source": [
    "data_actual = data.groupby(['platform', 'year_of_release'], as_index=False)['sum'].sum() #сгруппируем по платформе и году выпуска\n",
    "# посчитаем для каждой платформы сумму продаж по каждому году, эта сумма должна быть больше 1\n",
    "data_actual.head(20)"
   ]
  },
  {
   "cell_type": "markdown",
   "metadata": {},
   "source": [
    "Оставим только строки с суммой продаж выше 1 млн копий"
   ]
  },
  {
   "cell_type": "code",
   "execution_count": 52,
   "metadata": {},
   "outputs": [
    {
     "data": {
      "text/html": [
       "<div>\n",
       "<style scoped>\n",
       "    .dataframe tbody tr th:only-of-type {\n",
       "        vertical-align: middle;\n",
       "    }\n",
       "\n",
       "    .dataframe tbody tr th {\n",
       "        vertical-align: top;\n",
       "    }\n",
       "\n",
       "    .dataframe thead th {\n",
       "        text-align: right;\n",
       "    }\n",
       "</style>\n",
       "<table border=\"1\" class=\"dataframe\">\n",
       "  <thead>\n",
       "    <tr style=\"text-align: right;\">\n",
       "      <th></th>\n",
       "      <th>platform</th>\n",
       "      <th>year_of_release</th>\n",
       "      <th>sum</th>\n",
       "    </tr>\n",
       "  </thead>\n",
       "  <tbody>\n",
       "    <tr>\n",
       "      <th>0</th>\n",
       "      <td>2600</td>\n",
       "      <td>1980</td>\n",
       "      <td>11.38</td>\n",
       "    </tr>\n",
       "    <tr>\n",
       "      <th>1</th>\n",
       "      <td>2600</td>\n",
       "      <td>1981</td>\n",
       "      <td>35.68</td>\n",
       "    </tr>\n",
       "    <tr>\n",
       "      <th>2</th>\n",
       "      <td>2600</td>\n",
       "      <td>1982</td>\n",
       "      <td>28.88</td>\n",
       "    </tr>\n",
       "    <tr>\n",
       "      <th>3</th>\n",
       "      <td>2600</td>\n",
       "      <td>1983</td>\n",
       "      <td>5.84</td>\n",
       "    </tr>\n",
       "    <tr>\n",
       "      <th>7</th>\n",
       "      <td>2600</td>\n",
       "      <td>1987</td>\n",
       "      <td>1.94</td>\n",
       "    </tr>\n",
       "    <tr>\n",
       "      <th>12</th>\n",
       "      <td>3DS</td>\n",
       "      <td>2011</td>\n",
       "      <td>63.20</td>\n",
       "    </tr>\n",
       "    <tr>\n",
       "      <th>13</th>\n",
       "      <td>3DS</td>\n",
       "      <td>2012</td>\n",
       "      <td>51.36</td>\n",
       "    </tr>\n",
       "    <tr>\n",
       "      <th>14</th>\n",
       "      <td>3DS</td>\n",
       "      <td>2013</td>\n",
       "      <td>56.57</td>\n",
       "    </tr>\n",
       "    <tr>\n",
       "      <th>15</th>\n",
       "      <td>3DS</td>\n",
       "      <td>2014</td>\n",
       "      <td>43.76</td>\n",
       "    </tr>\n",
       "    <tr>\n",
       "      <th>16</th>\n",
       "      <td>3DS</td>\n",
       "      <td>2015</td>\n",
       "      <td>27.78</td>\n",
       "    </tr>\n",
       "    <tr>\n",
       "      <th>17</th>\n",
       "      <td>3DS</td>\n",
       "      <td>2016</td>\n",
       "      <td>15.14</td>\n",
       "    </tr>\n",
       "    <tr>\n",
       "      <th>18</th>\n",
       "      <td>DC</td>\n",
       "      <td>1998</td>\n",
       "      <td>3.38</td>\n",
       "    </tr>\n",
       "    <tr>\n",
       "      <th>19</th>\n",
       "      <td>DC</td>\n",
       "      <td>1999</td>\n",
       "      <td>5.16</td>\n",
       "    </tr>\n",
       "    <tr>\n",
       "      <th>20</th>\n",
       "      <td>DC</td>\n",
       "      <td>2000</td>\n",
       "      <td>5.99</td>\n",
       "    </tr>\n",
       "    <tr>\n",
       "      <th>21</th>\n",
       "      <td>DC</td>\n",
       "      <td>2001</td>\n",
       "      <td>1.07</td>\n",
       "    </tr>\n",
       "    <tr>\n",
       "      <th>26</th>\n",
       "      <td>DS</td>\n",
       "      <td>2004</td>\n",
       "      <td>17.27</td>\n",
       "    </tr>\n",
       "    <tr>\n",
       "      <th>27</th>\n",
       "      <td>DS</td>\n",
       "      <td>2005</td>\n",
       "      <td>130.14</td>\n",
       "    </tr>\n",
       "    <tr>\n",
       "      <th>28</th>\n",
       "      <td>DS</td>\n",
       "      <td>2006</td>\n",
       "      <td>119.81</td>\n",
       "    </tr>\n",
       "    <tr>\n",
       "      <th>29</th>\n",
       "      <td>DS</td>\n",
       "      <td>2007</td>\n",
       "      <td>146.94</td>\n",
       "    </tr>\n",
       "    <tr>\n",
       "      <th>30</th>\n",
       "      <td>DS</td>\n",
       "      <td>2008</td>\n",
       "      <td>145.31</td>\n",
       "    </tr>\n",
       "  </tbody>\n",
       "</table>\n",
       "</div>"
      ],
      "text/plain": [
       "   platform  year_of_release     sum\n",
       "0      2600             1980   11.38\n",
       "1      2600             1981   35.68\n",
       "2      2600             1982   28.88\n",
       "3      2600             1983    5.84\n",
       "7      2600             1987    1.94\n",
       "12      3DS             2011   63.20\n",
       "13      3DS             2012   51.36\n",
       "14      3DS             2013   56.57\n",
       "15      3DS             2014   43.76\n",
       "16      3DS             2015   27.78\n",
       "17      3DS             2016   15.14\n",
       "18       DC             1998    3.38\n",
       "19       DC             1999    5.16\n",
       "20       DC             2000    5.99\n",
       "21       DC             2001    1.07\n",
       "26       DS             2004   17.27\n",
       "27       DS             2005  130.14\n",
       "28       DS             2006  119.81\n",
       "29       DS             2007  146.94\n",
       "30       DS             2008  145.31"
      ]
     },
     "execution_count": 52,
     "metadata": {},
     "output_type": "execute_result"
    }
   ],
   "source": [
    "data_actual = data_actual.query('sum >= 1')\n",
    "data_actual.head(20)"
   ]
  },
  {
   "cell_type": "markdown",
   "metadata": {},
   "source": [
    "Теперь посчитаем для каждой платформы количество строк"
   ]
  },
  {
   "cell_type": "code",
   "execution_count": 53,
   "metadata": {
    "scrolled": true
   },
   "outputs": [
    {
     "data": {
      "text/plain": [
       "platform\n",
       "2600     5\n",
       "3DS      6\n",
       "DC       4\n",
       "DS      10\n",
       "GB      13\n",
       "GBA      7\n",
       "GC       6\n",
       "GEN      4\n",
       "N64      6\n",
       "NES     11\n",
       "Name: year_of_release, dtype: int64"
      ]
     },
     "execution_count": 53,
     "metadata": {},
     "output_type": "execute_result"
    }
   ],
   "source": [
    "data_actual = data_actual.groupby('platform')['year_of_release'].count()\n",
    "data_actual.head(10)"
   ]
  },
  {
   "cell_type": "code",
   "execution_count": 54,
   "metadata": {},
   "outputs": [
    {
     "data": {
      "text/plain": [
       "7.92"
      ]
     },
     "execution_count": 54,
     "metadata": {},
     "output_type": "execute_result"
    }
   ],
   "source": [
    "data_actual.mean() # определим среднее число таких лет. Это и будет среднее время жизни платформы"
   ]
  },
  {
   "cell_type": "markdown",
   "metadata": {},
   "source": [
    "В итоге, актуальный период составит примерно половину времени среднего числа лет жизни платформы, т.к. половину жизненного цикла платформы продажи растут, а вторую половину падают"
   ]
  },
  {
   "cell_type": "markdown",
   "metadata": {},
   "source": [
    "<b>Актуальный период с 2012 по 2016 года</b>"
   ]
  },
  {
   "cell_type": "markdown",
   "metadata": {},
   "source": [
    "Перезапишем датафрейм с актуальным периодом анализа."
   ]
  },
  {
   "cell_type": "code",
   "execution_count": 55,
   "metadata": {
    "scrolled": true
   },
   "outputs": [
    {
     "data": {
      "text/html": [
       "<div>\n",
       "<style scoped>\n",
       "    .dataframe tbody tr th:only-of-type {\n",
       "        vertical-align: middle;\n",
       "    }\n",
       "\n",
       "    .dataframe tbody tr th {\n",
       "        vertical-align: top;\n",
       "    }\n",
       "\n",
       "    .dataframe thead th {\n",
       "        text-align: right;\n",
       "    }\n",
       "</style>\n",
       "<table border=\"1\" class=\"dataframe\">\n",
       "  <thead>\n",
       "    <tr style=\"text-align: right;\">\n",
       "      <th></th>\n",
       "      <th>name</th>\n",
       "      <th>platform</th>\n",
       "      <th>year_of_release</th>\n",
       "      <th>genre</th>\n",
       "      <th>na_sales</th>\n",
       "      <th>eu_sales</th>\n",
       "      <th>jp_sales</th>\n",
       "      <th>other_sales</th>\n",
       "      <th>critic_score</th>\n",
       "      <th>user_score</th>\n",
       "      <th>rating</th>\n",
       "      <th>sum</th>\n",
       "    </tr>\n",
       "  </thead>\n",
       "  <tbody>\n",
       "    <tr>\n",
       "      <th>0</th>\n",
       "      <td>Grand Theft Auto V</td>\n",
       "      <td>PS3</td>\n",
       "      <td>2013</td>\n",
       "      <td>Action</td>\n",
       "      <td>7.02</td>\n",
       "      <td>9.09</td>\n",
       "      <td>0.98</td>\n",
       "      <td>3.96</td>\n",
       "      <td>97</td>\n",
       "      <td>8.2</td>\n",
       "      <td>M</td>\n",
       "      <td>21.05</td>\n",
       "    </tr>\n",
       "    <tr>\n",
       "      <th>1</th>\n",
       "      <td>Grand Theft Auto V</td>\n",
       "      <td>X360</td>\n",
       "      <td>2013</td>\n",
       "      <td>Action</td>\n",
       "      <td>9.66</td>\n",
       "      <td>5.14</td>\n",
       "      <td>0.06</td>\n",
       "      <td>1.41</td>\n",
       "      <td>97</td>\n",
       "      <td>8.1</td>\n",
       "      <td>M</td>\n",
       "      <td>16.27</td>\n",
       "    </tr>\n",
       "    <tr>\n",
       "      <th>2</th>\n",
       "      <td>Call of Duty: Black Ops 3</td>\n",
       "      <td>PS4</td>\n",
       "      <td>2015</td>\n",
       "      <td>Shooter</td>\n",
       "      <td>6.03</td>\n",
       "      <td>5.86</td>\n",
       "      <td>0.36</td>\n",
       "      <td>2.38</td>\n",
       "      <td>&lt;NA&gt;</td>\n",
       "      <td>NaN</td>\n",
       "      <td>nothing</td>\n",
       "      <td>14.63</td>\n",
       "    </tr>\n",
       "    <tr>\n",
       "      <th>3</th>\n",
       "      <td>Pokemon X/Pokemon Y</td>\n",
       "      <td>3DS</td>\n",
       "      <td>2013</td>\n",
       "      <td>Role-Playing</td>\n",
       "      <td>5.28</td>\n",
       "      <td>4.19</td>\n",
       "      <td>4.35</td>\n",
       "      <td>0.78</td>\n",
       "      <td>&lt;NA&gt;</td>\n",
       "      <td>NaN</td>\n",
       "      <td>nothing</td>\n",
       "      <td>14.60</td>\n",
       "    </tr>\n",
       "    <tr>\n",
       "      <th>4</th>\n",
       "      <td>Call of Duty: Black Ops II</td>\n",
       "      <td>PS3</td>\n",
       "      <td>2012</td>\n",
       "      <td>Shooter</td>\n",
       "      <td>4.99</td>\n",
       "      <td>5.73</td>\n",
       "      <td>0.65</td>\n",
       "      <td>2.42</td>\n",
       "      <td>83</td>\n",
       "      <td>5.3</td>\n",
       "      <td>M</td>\n",
       "      <td>13.79</td>\n",
       "    </tr>\n",
       "    <tr>\n",
       "      <th>5</th>\n",
       "      <td>Call of Duty: Black Ops II</td>\n",
       "      <td>X360</td>\n",
       "      <td>2012</td>\n",
       "      <td>Shooter</td>\n",
       "      <td>8.25</td>\n",
       "      <td>4.24</td>\n",
       "      <td>0.07</td>\n",
       "      <td>1.12</td>\n",
       "      <td>83</td>\n",
       "      <td>4.8</td>\n",
       "      <td>M</td>\n",
       "      <td>13.68</td>\n",
       "    </tr>\n",
       "    <tr>\n",
       "      <th>6</th>\n",
       "      <td>Grand Theft Auto V</td>\n",
       "      <td>PS4</td>\n",
       "      <td>2014</td>\n",
       "      <td>Action</td>\n",
       "      <td>3.96</td>\n",
       "      <td>6.31</td>\n",
       "      <td>0.38</td>\n",
       "      <td>1.97</td>\n",
       "      <td>97</td>\n",
       "      <td>8.3</td>\n",
       "      <td>M</td>\n",
       "      <td>12.62</td>\n",
       "    </tr>\n",
       "    <tr>\n",
       "      <th>7</th>\n",
       "      <td>Pokemon Omega Ruby/Pokemon Alpha Sapphire</td>\n",
       "      <td>3DS</td>\n",
       "      <td>2014</td>\n",
       "      <td>Role-Playing</td>\n",
       "      <td>4.35</td>\n",
       "      <td>3.49</td>\n",
       "      <td>3.10</td>\n",
       "      <td>0.74</td>\n",
       "      <td>&lt;NA&gt;</td>\n",
       "      <td>NaN</td>\n",
       "      <td>nothing</td>\n",
       "      <td>11.68</td>\n",
       "    </tr>\n",
       "    <tr>\n",
       "      <th>8</th>\n",
       "      <td>Call of Duty: Ghosts</td>\n",
       "      <td>X360</td>\n",
       "      <td>2013</td>\n",
       "      <td>Shooter</td>\n",
       "      <td>6.73</td>\n",
       "      <td>2.56</td>\n",
       "      <td>0.04</td>\n",
       "      <td>0.91</td>\n",
       "      <td>73</td>\n",
       "      <td>2.6</td>\n",
       "      <td>M</td>\n",
       "      <td>10.24</td>\n",
       "    </tr>\n",
       "    <tr>\n",
       "      <th>9</th>\n",
       "      <td>New Super Mario Bros. 2</td>\n",
       "      <td>3DS</td>\n",
       "      <td>2012</td>\n",
       "      <td>Platform</td>\n",
       "      <td>3.66</td>\n",
       "      <td>3.14</td>\n",
       "      <td>2.47</td>\n",
       "      <td>0.63</td>\n",
       "      <td>78</td>\n",
       "      <td>7.2</td>\n",
       "      <td>E</td>\n",
       "      <td>9.90</td>\n",
       "    </tr>\n",
       "  </tbody>\n",
       "</table>\n",
       "</div>"
      ],
      "text/plain": [
       "                                        name platform  year_of_release  \\\n",
       "0                         Grand Theft Auto V      PS3             2013   \n",
       "1                         Grand Theft Auto V     X360             2013   \n",
       "2                  Call of Duty: Black Ops 3      PS4             2015   \n",
       "3                        Pokemon X/Pokemon Y      3DS             2013   \n",
       "4                 Call of Duty: Black Ops II      PS3             2012   \n",
       "5                 Call of Duty: Black Ops II     X360             2012   \n",
       "6                         Grand Theft Auto V      PS4             2014   \n",
       "7  Pokemon Omega Ruby/Pokemon Alpha Sapphire      3DS             2014   \n",
       "8                       Call of Duty: Ghosts     X360             2013   \n",
       "9                    New Super Mario Bros. 2      3DS             2012   \n",
       "\n",
       "          genre  na_sales  eu_sales  jp_sales  other_sales  critic_score  \\\n",
       "0        Action      7.02      9.09      0.98         3.96            97   \n",
       "1        Action      9.66      5.14      0.06         1.41            97   \n",
       "2       Shooter      6.03      5.86      0.36         2.38          <NA>   \n",
       "3  Role-Playing      5.28      4.19      4.35         0.78          <NA>   \n",
       "4       Shooter      4.99      5.73      0.65         2.42            83   \n",
       "5       Shooter      8.25      4.24      0.07         1.12            83   \n",
       "6        Action      3.96      6.31      0.38         1.97            97   \n",
       "7  Role-Playing      4.35      3.49      3.10         0.74          <NA>   \n",
       "8       Shooter      6.73      2.56      0.04         0.91            73   \n",
       "9      Platform      3.66      3.14      2.47         0.63            78   \n",
       "\n",
       "   user_score   rating    sum  \n",
       "0         8.2        M  21.05  \n",
       "1         8.1        M  16.27  \n",
       "2         NaN  nothing  14.63  \n",
       "3         NaN  nothing  14.60  \n",
       "4         5.3        M  13.79  \n",
       "5         4.8        M  13.68  \n",
       "6         8.3        M  12.62  \n",
       "7         NaN  nothing  11.68  \n",
       "8         2.6        M  10.24  \n",
       "9         7.2        E   9.90  "
      ]
     },
     "execution_count": 55,
     "metadata": {},
     "output_type": "execute_result"
    }
   ],
   "source": [
    "data = data.query('year_of_release >= 2012')\n",
    "data = data.reset_index(drop=True)\n",
    "data.head(10) "
   ]
  },
  {
   "cell_type": "markdown",
   "metadata": {},
   "source": [
    "В результате исследования определили актуальный период  с 2012 по 2016 года. Т.к. большинство платформ, выпущенных ранее 2012 года уже неактуальны  и, продажи игр не будут расти.\n",
    "Также, в 2013 году появилась очередная новая флагманская платформа playstation 4. Соответственно, можно предположить, что большинство игр будут выходить и продаваться именно на эту платформу, как это было с предыдущими версиями\n"
   ]
  },
  {
   "cell_type": "markdown",
   "metadata": {},
   "source": [
    "#### Определение лидирующих платформ"
   ]
  },
  {
   "cell_type": "markdown",
   "metadata": {},
   "source": [
    "Снова построим график с лидирующими платформами по продажам на актуальный период"
   ]
  },
  {
   "cell_type": "code",
   "execution_count": 56,
   "metadata": {},
   "outputs": [
    {
     "data": {
      "image/png": "[encoded data removed]",
      "text/plain": [
       "<Figure size 936x576 with 1 Axes>"
      ]
     },
     "metadata": {
      "needs_background": "light"
     },
     "output_type": "display_data"
    }
   ],
   "source": [
    "data_grouped_platform_new = data.groupby('platform')['sum'].sum().sort_values(ascending=False).head(7).index\n",
    "(\n",
    "    data.query('platform in @data_grouped_platform_new')\n",
    "    .pivot_table(index = 'year_of_release' , values = 'sum', columns = 'platform', aggfunc = 'sum')\n",
    "    .plot(figsize=(13, 8), grid=True)\n",
    ")\n",
    "plt.xlabel('Год выпуска')\n",
    "plt.ylabel('Суммарные продажи')\n",
    "plt.show()"
   ]
  },
  {
   "cell_type": "markdown",
   "metadata": {},
   "source": [
    "Исходя из графика, лидирующая по продажам платформа в 2016 годуу - PS4. У предыдущей версии PS3 росли продажи до 2013 года, как раз до того года, как вышла новая версия пплатформы.\n",
    "<br> У всех платформ наблюдается спад продаж на 2016 год. Ps4 росла до 2015 и, затем, началось падение, также, как и XOne</br><br> WiiU росла до 2014 года и затем начала падать. </br>\n",
    "<br> В целом, на всех платформах наблюдается спад на 2016 год, кроме PC </br>"
   ]
  },
  {
   "cell_type": "code",
   "execution_count": 57,
   "metadata": {},
   "outputs": [
    {
     "data": {
      "text/plain": [
       "platform\n",
       "PS4     314.14\n",
       "PS3     288.78\n",
       "X360    236.54\n",
       "3DS     194.61\n",
       "XOne    159.32\n",
       "WiiU     82.19\n",
       "PC       62.65\n",
       "PSV      49.18\n",
       "Wii      35.37\n",
       "DS       12.55\n",
       "PSP      11.19\n",
       "Name: sum, dtype: float64"
      ]
     },
     "execution_count": 57,
     "metadata": {},
     "output_type": "execute_result"
    }
   ],
   "source": [
    "data_grouped_new = data.groupby('platform')['sum'].sum().sort_values(ascending=False)\n",
    "data_grouped_new"
   ]
  },
  {
   "cell_type": "markdown",
   "metadata": {},
   "source": [
    "Можно выделить потенциально прибыльные платформы: PS4, PS3, X360, 3DS, XOne"
   ]
  },
  {
   "cell_type": "markdown",
   "metadata": {},
   "source": [
    "#### Ящик с усами по продажам с  разбивкой по платформам"
   ]
  },
  {
   "cell_type": "code",
   "execution_count": 59,
   "metadata": {},
   "outputs": [
    {
     "data": {
      "image/png": "[encoded data removed]",
      "text/plain": [
       "<Figure size 1440x720 with 1 Axes>"
      ]
     },
     "metadata": {
      "needs_background": "light"
     },
     "output_type": "display_data"
    }
   ],
   "source": [
    "# построим график с суммарными продажами с разбивкой по платформам\n",
    "data.boxplot(column=['sum'], by='platform', figsize=[20,10]) \n",
    "plt.ylim([0,0.85])\n",
    "plt.xlabel('Платформы')\n",
    "plt.ylabel('Суммарные продажи')\n",
    "plt.title('\"Ящик с усами\" по продажам с разбивкой по платформам')\n",
    "plt.show()"
   ]
  },
  {
   "cell_type": "markdown",
   "metadata": {},
   "source": [
    "На графике видно, что на всех платформах средний показатель продаж находится в промежутке между 0 и 0,5 млн копий. Самый большой разброс значений у X360  и у PS4. Самый маленький у PSP"
   ]
  },
  {
   "cell_type": "markdown",
   "metadata": {},
   "source": [
    "#### Влияние на продажи внутри одной популярной платформы отзывов пользователей и критиков."
   ]
  },
  {
   "cell_type": "markdown",
   "metadata": {},
   "source": [
    "Рассчитаем коэффициент корреляции между продажами и отзывами пользователей и критиков."
   ]
  },
  {
   "cell_type": "code",
   "execution_count": 60,
   "metadata": {},
   "outputs": [
    {
     "data": {
      "text/html": [
       "<div>\n",
       "<style scoped>\n",
       "    .dataframe tbody tr th:only-of-type {\n",
       "        vertical-align: middle;\n",
       "    }\n",
       "\n",
       "    .dataframe tbody tr th {\n",
       "        vertical-align: top;\n",
       "    }\n",
       "\n",
       "    .dataframe thead th {\n",
       "        text-align: right;\n",
       "    }\n",
       "</style>\n",
       "<table border=\"1\" class=\"dataframe\">\n",
       "  <thead>\n",
       "    <tr style=\"text-align: right;\">\n",
       "      <th></th>\n",
       "      <th>year_of_release</th>\n",
       "      <th>na_sales</th>\n",
       "      <th>eu_sales</th>\n",
       "      <th>jp_sales</th>\n",
       "      <th>other_sales</th>\n",
       "      <th>critic_score</th>\n",
       "      <th>user_score</th>\n",
       "      <th>sum</th>\n",
       "    </tr>\n",
       "  </thead>\n",
       "  <tbody>\n",
       "    <tr>\n",
       "      <th>year_of_release</th>\n",
       "      <td>1.000000</td>\n",
       "      <td>-0.248961</td>\n",
       "      <td>-0.208306</td>\n",
       "      <td>-0.060993</td>\n",
       "      <td>-0.234796</td>\n",
       "      <td>-0.021142</td>\n",
       "      <td>0.152447</td>\n",
       "      <td>-0.235032</td>\n",
       "    </tr>\n",
       "    <tr>\n",
       "      <th>na_sales</th>\n",
       "      <td>-0.248961</td>\n",
       "      <td>1.000000</td>\n",
       "      <td>0.785362</td>\n",
       "      <td>0.472981</td>\n",
       "      <td>0.944259</td>\n",
       "      <td>0.415008</td>\n",
       "      <td>-0.020933</td>\n",
       "      <td>0.928160</td>\n",
       "    </tr>\n",
       "    <tr>\n",
       "      <th>eu_sales</th>\n",
       "      <td>-0.208306</td>\n",
       "      <td>0.785362</td>\n",
       "      <td>1.000000</td>\n",
       "      <td>0.464563</td>\n",
       "      <td>0.944698</td>\n",
       "      <td>0.346720</td>\n",
       "      <td>-0.048925</td>\n",
       "      <td>0.958157</td>\n",
       "    </tr>\n",
       "    <tr>\n",
       "      <th>jp_sales</th>\n",
       "      <td>-0.060993</td>\n",
       "      <td>0.472981</td>\n",
       "      <td>0.464563</td>\n",
       "      <td>1.000000</td>\n",
       "      <td>0.496467</td>\n",
       "      <td>0.322358</td>\n",
       "      <td>0.171332</td>\n",
       "      <td>0.527129</td>\n",
       "    </tr>\n",
       "    <tr>\n",
       "      <th>other_sales</th>\n",
       "      <td>-0.234796</td>\n",
       "      <td>0.944259</td>\n",
       "      <td>0.944698</td>\n",
       "      <td>0.496467</td>\n",
       "      <td>1.000000</td>\n",
       "      <td>0.409191</td>\n",
       "      <td>-0.035639</td>\n",
       "      <td>0.998051</td>\n",
       "    </tr>\n",
       "    <tr>\n",
       "      <th>critic_score</th>\n",
       "      <td>-0.021142</td>\n",
       "      <td>0.415008</td>\n",
       "      <td>0.346720</td>\n",
       "      <td>0.322358</td>\n",
       "      <td>0.409191</td>\n",
       "      <td>1.000000</td>\n",
       "      <td>0.557654</td>\n",
       "      <td>0.406568</td>\n",
       "    </tr>\n",
       "    <tr>\n",
       "      <th>user_score</th>\n",
       "      <td>0.152447</td>\n",
       "      <td>-0.020933</td>\n",
       "      <td>-0.048925</td>\n",
       "      <td>0.171332</td>\n",
       "      <td>-0.035639</td>\n",
       "      <td>0.557654</td>\n",
       "      <td>1.000000</td>\n",
       "      <td>-0.031957</td>\n",
       "    </tr>\n",
       "    <tr>\n",
       "      <th>sum</th>\n",
       "      <td>-0.235032</td>\n",
       "      <td>0.928160</td>\n",
       "      <td>0.958157</td>\n",
       "      <td>0.527129</td>\n",
       "      <td>0.998051</td>\n",
       "      <td>0.406568</td>\n",
       "      <td>-0.031957</td>\n",
       "      <td>1.000000</td>\n",
       "    </tr>\n",
       "  </tbody>\n",
       "</table>\n",
       "</div>"
      ],
      "text/plain": [
       "                 year_of_release  na_sales  eu_sales  jp_sales  other_sales  \\\n",
       "year_of_release         1.000000 -0.248961 -0.208306 -0.060993    -0.234796   \n",
       "na_sales               -0.248961  1.000000  0.785362  0.472981     0.944259   \n",
       "eu_sales               -0.208306  0.785362  1.000000  0.464563     0.944698   \n",
       "jp_sales               -0.060993  0.472981  0.464563  1.000000     0.496467   \n",
       "other_sales            -0.234796  0.944259  0.944698  0.496467     1.000000   \n",
       "critic_score           -0.021142  0.415008  0.346720  0.322358     0.409191   \n",
       "user_score              0.152447 -0.020933 -0.048925  0.171332    -0.035639   \n",
       "sum                    -0.235032  0.928160  0.958157  0.527129     0.998051   \n",
       "\n",
       "                 critic_score  user_score       sum  \n",
       "year_of_release     -0.021142    0.152447 -0.235032  \n",
       "na_sales             0.415008   -0.020933  0.928160  \n",
       "eu_sales             0.346720   -0.048925  0.958157  \n",
       "jp_sales             0.322358    0.171332  0.527129  \n",
       "other_sales          0.409191   -0.035639  0.998051  \n",
       "critic_score         1.000000    0.557654  0.406568  \n",
       "user_score           0.557654    1.000000 -0.031957  \n",
       "sum                  0.406568   -0.031957  1.000000  "
      ]
     },
     "execution_count": 60,
     "metadata": {},
     "output_type": "execute_result"
    }
   ],
   "source": [
    "data.query('platform == \"PS4\"').corr() # попарно выведем коэффициенты корреляции датасета для платформы PS4"
   ]
  },
  {
   "cell_type": "markdown",
   "metadata": {},
   "source": [
    "Видно, что коэффициент корреляции между отзывами игроков и продажами - <b> (-0.031957)</b>\n",
    "<br>Коэффициент корреляции между отзывами критиков и продажами - <b> 0.406568</b></br>\n",
    "<br> Можно сделать вывод, что наблюдается умеренная связь между отзывами критиков и продажами игр данной платформы. Наблюдается очень слабая связь и обратная зависимость между отзывами пользователей и общими продажами </br>"
   ]
  },
  {
   "cell_type": "code",
   "execution_count": 62,
   "metadata": {},
   "outputs": [
    {
     "name": "stdout",
     "output_type": "stream",
     "text": [
      "AxesSubplot(0.125,0.125;0.775x0.755)\n"
     ]
    },
    {
     "data": {
      "image/png": "[encoded data removed]",
      "text/plain": [
       "<Figure size 432x288 with 1 Axes>"
      ]
     },
     "metadata": {
      "needs_background": "light"
     },
     "output_type": "display_data"
    }
   ],
   "source": [
    " # диаграмма рассения между продажами и отзывами пользователей\n",
    "ax = seaborn.regplot(data=data.query('platform == \"PS4\"'), x='user_score', y='sum')\n",
    "ax.set(title = 'Взаимосвязь объёма продаж и отзывов пользователей')\n",
    "print(ax)"
   ]
  },
  {
   "cell_type": "code",
   "execution_count": 63,
   "metadata": {},
   "outputs": [
    {
     "data": {
      "text/plain": [
       "<AxesSubplot:xlabel='critic_score', ylabel='sum'>"
      ]
     },
     "execution_count": 63,
     "metadata": {},
     "output_type": "execute_result"
    },
    {
     "data": {
      "image/png": "[encoded data removed]",
      "text/plain": [
       "<Figure size 432x288 with 1 Axes>"
      ]
     },
     "metadata": {
      "needs_background": "light"
     },
     "output_type": "display_data"
    }
   ],
   "source": [
    "seaborn.scatterplot(data=data.query('platform == \"PS4\"'), x='critic_score', y='sum')"
   ]
  },
  {
   "cell_type": "markdown",
   "metadata": {},
   "source": [
    "Наблюдается умеренная прямая связь между отзывами критиков и продажами игр данной платформы. Наблюдается очень слабая связь и обратная зависимость между отзывами пользователей и общими продажами. У оценок пользователей корреляции с продажами нет. "
   ]
  },
  {
   "cell_type": "markdown",
   "metadata": {},
   "source": [
    "#### Выводы по другим платформам"
   ]
  },
  {
   "cell_type": "code",
   "execution_count": 64,
   "metadata": {},
   "outputs": [
    {
     "data": {
      "text/html": [
       "<div>\n",
       "<style scoped>\n",
       "    .dataframe tbody tr th:only-of-type {\n",
       "        vertical-align: middle;\n",
       "    }\n",
       "\n",
       "    .dataframe tbody tr th {\n",
       "        vertical-align: top;\n",
       "    }\n",
       "\n",
       "    .dataframe thead th {\n",
       "        text-align: right;\n",
       "    }\n",
       "</style>\n",
       "<table border=\"1\" class=\"dataframe\">\n",
       "  <thead>\n",
       "    <tr style=\"text-align: right;\">\n",
       "      <th></th>\n",
       "      <th>year_of_release</th>\n",
       "      <th>na_sales</th>\n",
       "      <th>eu_sales</th>\n",
       "      <th>jp_sales</th>\n",
       "      <th>other_sales</th>\n",
       "      <th>critic_score</th>\n",
       "      <th>user_score</th>\n",
       "      <th>sum</th>\n",
       "    </tr>\n",
       "  </thead>\n",
       "  <tbody>\n",
       "    <tr>\n",
       "      <th>year_of_release</th>\n",
       "      <td>1.000000</td>\n",
       "      <td>-0.242667</td>\n",
       "      <td>-0.194925</td>\n",
       "      <td>-0.127050</td>\n",
       "      <td>-0.243414</td>\n",
       "      <td>0.063712</td>\n",
       "      <td>0.079481</td>\n",
       "      <td>-0.239183</td>\n",
       "    </tr>\n",
       "    <tr>\n",
       "      <th>na_sales</th>\n",
       "      <td>-0.242667</td>\n",
       "      <td>1.000000</td>\n",
       "      <td>0.765367</td>\n",
       "      <td>0.425725</td>\n",
       "      <td>0.988088</td>\n",
       "      <td>0.388636</td>\n",
       "      <td>-0.069318</td>\n",
       "      <td>0.970433</td>\n",
       "    </tr>\n",
       "    <tr>\n",
       "      <th>eu_sales</th>\n",
       "      <td>-0.194925</td>\n",
       "      <td>0.765367</td>\n",
       "      <td>1.000000</td>\n",
       "      <td>0.421071</td>\n",
       "      <td>0.852986</td>\n",
       "      <td>0.379162</td>\n",
       "      <td>-0.055911</td>\n",
       "      <td>0.898045</td>\n",
       "    </tr>\n",
       "    <tr>\n",
       "      <th>jp_sales</th>\n",
       "      <td>-0.127050</td>\n",
       "      <td>0.425725</td>\n",
       "      <td>0.421071</td>\n",
       "      <td>1.000000</td>\n",
       "      <td>0.441717</td>\n",
       "      <td>0.202954</td>\n",
       "      <td>0.069591</td>\n",
       "      <td>0.452701</td>\n",
       "    </tr>\n",
       "    <tr>\n",
       "      <th>other_sales</th>\n",
       "      <td>-0.243414</td>\n",
       "      <td>0.988088</td>\n",
       "      <td>0.852986</td>\n",
       "      <td>0.441717</td>\n",
       "      <td>1.000000</td>\n",
       "      <td>0.411825</td>\n",
       "      <td>-0.069645</td>\n",
       "      <td>0.995238</td>\n",
       "    </tr>\n",
       "    <tr>\n",
       "      <th>critic_score</th>\n",
       "      <td>0.063712</td>\n",
       "      <td>0.388636</td>\n",
       "      <td>0.379162</td>\n",
       "      <td>0.202954</td>\n",
       "      <td>0.411825</td>\n",
       "      <td>1.000000</td>\n",
       "      <td>0.472462</td>\n",
       "      <td>0.416998</td>\n",
       "    </tr>\n",
       "    <tr>\n",
       "      <th>user_score</th>\n",
       "      <td>0.079481</td>\n",
       "      <td>-0.069318</td>\n",
       "      <td>-0.055911</td>\n",
       "      <td>0.069591</td>\n",
       "      <td>-0.069645</td>\n",
       "      <td>0.472462</td>\n",
       "      <td>1.000000</td>\n",
       "      <td>-0.068925</td>\n",
       "    </tr>\n",
       "    <tr>\n",
       "      <th>sum</th>\n",
       "      <td>-0.239183</td>\n",
       "      <td>0.970433</td>\n",
       "      <td>0.898045</td>\n",
       "      <td>0.452701</td>\n",
       "      <td>0.995238</td>\n",
       "      <td>0.416998</td>\n",
       "      <td>-0.068925</td>\n",
       "      <td>1.000000</td>\n",
       "    </tr>\n",
       "  </tbody>\n",
       "</table>\n",
       "</div>"
      ],
      "text/plain": [
       "                 year_of_release  na_sales  eu_sales  jp_sales  other_sales  \\\n",
       "year_of_release         1.000000 -0.242667 -0.194925 -0.127050    -0.243414   \n",
       "na_sales               -0.242667  1.000000  0.765367  0.425725     0.988088   \n",
       "eu_sales               -0.194925  0.765367  1.000000  0.421071     0.852986   \n",
       "jp_sales               -0.127050  0.425725  0.421071  1.000000     0.441717   \n",
       "other_sales            -0.243414  0.988088  0.852986  0.441717     1.000000   \n",
       "critic_score            0.063712  0.388636  0.379162  0.202954     0.411825   \n",
       "user_score              0.079481 -0.069318 -0.055911  0.069591    -0.069645   \n",
       "sum                    -0.239183  0.970433  0.898045  0.452701     0.995238   \n",
       "\n",
       "                 critic_score  user_score       sum  \n",
       "year_of_release      0.063712    0.079481 -0.239183  \n",
       "na_sales             0.388636   -0.069318  0.970433  \n",
       "eu_sales             0.379162   -0.055911  0.898045  \n",
       "jp_sales             0.202954    0.069591  0.452701  \n",
       "other_sales          0.411825   -0.069645  0.995238  \n",
       "critic_score         1.000000    0.472462  0.416998  \n",
       "user_score           0.472462    1.000000 -0.068925  \n",
       "sum                  0.416998   -0.068925  1.000000  "
      ]
     },
     "execution_count": 64,
     "metadata": {},
     "output_type": "execute_result"
    }
   ],
   "source": [
    "data.query('platform == \"XOne\"').corr() # попарно выведем коэффициенты корреляции датасета для платформы XOne"
   ]
  },
  {
   "cell_type": "code",
   "execution_count": 65,
   "metadata": {},
   "outputs": [
    {
     "data": {
      "text/plain": [
       "<AxesSubplot:xlabel='user_score', ylabel='sum'>"
      ]
     },
     "execution_count": 65,
     "metadata": {},
     "output_type": "execute_result"
    },
    {
     "data": {
      "image/png": "[encoded data removed]",
      "text/plain": [
       "<Figure size 432x288 with 1 Axes>"
      ]
     },
     "metadata": {
      "needs_background": "light"
     },
     "output_type": "display_data"
    }
   ],
   "source": [
    "seaborn.regplot(data=data.query('platform == \"XOne\"'), x='user_score', y='sum') # отзывы пользователей и продажи"
   ]
  },
  {
   "cell_type": "code",
   "execution_count": 66,
   "metadata": {},
   "outputs": [
    {
     "data": {
      "text/plain": [
       "<AxesSubplot:xlabel='critic_score', ylabel='sum'>"
      ]
     },
     "execution_count": 66,
     "metadata": {},
     "output_type": "execute_result"
    },
    {
     "data": {
      "image/png": "[encoded data removed]",
      "text/plain": [
       "<Figure size 432x288 with 1 Axes>"
      ]
     },
     "metadata": {
      "needs_background": "light"
     },
     "output_type": "display_data"
    }
   ],
   "source": [
    "seaborn.scatterplot(data=data.query('platform == \"XOne\"'), x='critic_score', y='sum') # отзывы критиков и продажи"
   ]
  },
  {
   "cell_type": "markdown",
   "metadata": {},
   "source": [
    "Снова наблюдается очень слабая обратная связь между отзывами пользователей игр на XBOX One и продажами. Но, присутствует прямая зависимость между отзывами критиков и продажами на данной платформе"
   ]
  },
  {
   "cell_type": "code",
   "execution_count": 67,
   "metadata": {},
   "outputs": [
    {
     "data": {
      "text/html": [
       "<div>\n",
       "<style scoped>\n",
       "    .dataframe tbody tr th:only-of-type {\n",
       "        vertical-align: middle;\n",
       "    }\n",
       "\n",
       "    .dataframe tbody tr th {\n",
       "        vertical-align: top;\n",
       "    }\n",
       "\n",
       "    .dataframe thead th {\n",
       "        text-align: right;\n",
       "    }\n",
       "</style>\n",
       "<table border=\"1\" class=\"dataframe\">\n",
       "  <thead>\n",
       "    <tr style=\"text-align: right;\">\n",
       "      <th></th>\n",
       "      <th>year_of_release</th>\n",
       "      <th>na_sales</th>\n",
       "      <th>eu_sales</th>\n",
       "      <th>jp_sales</th>\n",
       "      <th>other_sales</th>\n",
       "      <th>critic_score</th>\n",
       "      <th>user_score</th>\n",
       "      <th>sum</th>\n",
       "    </tr>\n",
       "  </thead>\n",
       "  <tbody>\n",
       "    <tr>\n",
       "      <th>year_of_release</th>\n",
       "      <td>1.000000</td>\n",
       "      <td>-0.176077</td>\n",
       "      <td>-0.127386</td>\n",
       "      <td>-0.133988</td>\n",
       "      <td>-0.142844</td>\n",
       "      <td>-0.164502</td>\n",
       "      <td>-0.275460</td>\n",
       "      <td>-0.158896</td>\n",
       "    </tr>\n",
       "    <tr>\n",
       "      <th>na_sales</th>\n",
       "      <td>-0.176077</td>\n",
       "      <td>1.000000</td>\n",
       "      <td>0.842691</td>\n",
       "      <td>0.370621</td>\n",
       "      <td>0.896159</td>\n",
       "      <td>0.342992</td>\n",
       "      <td>-0.021661</td>\n",
       "      <td>0.939291</td>\n",
       "    </tr>\n",
       "    <tr>\n",
       "      <th>eu_sales</th>\n",
       "      <td>-0.127386</td>\n",
       "      <td>0.842691</td>\n",
       "      <td>1.000000</td>\n",
       "      <td>0.382731</td>\n",
       "      <td>0.981763</td>\n",
       "      <td>0.308144</td>\n",
       "      <td>-0.026407</td>\n",
       "      <td>0.970812</td>\n",
       "    </tr>\n",
       "    <tr>\n",
       "      <th>jp_sales</th>\n",
       "      <td>-0.133988</td>\n",
       "      <td>0.370621</td>\n",
       "      <td>0.382731</td>\n",
       "      <td>1.000000</td>\n",
       "      <td>0.393147</td>\n",
       "      <td>0.176326</td>\n",
       "      <td>0.179984</td>\n",
       "      <td>0.464062</td>\n",
       "    </tr>\n",
       "    <tr>\n",
       "      <th>other_sales</th>\n",
       "      <td>-0.142844</td>\n",
       "      <td>0.896159</td>\n",
       "      <td>0.981763</td>\n",
       "      <td>0.393147</td>\n",
       "      <td>1.000000</td>\n",
       "      <td>0.315136</td>\n",
       "      <td>-0.005069</td>\n",
       "      <td>0.985992</td>\n",
       "    </tr>\n",
       "    <tr>\n",
       "      <th>critic_score</th>\n",
       "      <td>-0.164502</td>\n",
       "      <td>0.342992</td>\n",
       "      <td>0.308144</td>\n",
       "      <td>0.176326</td>\n",
       "      <td>0.315136</td>\n",
       "      <td>1.000000</td>\n",
       "      <td>0.544510</td>\n",
       "      <td>0.334152</td>\n",
       "    </tr>\n",
       "    <tr>\n",
       "      <th>user_score</th>\n",
       "      <td>-0.275460</td>\n",
       "      <td>-0.021661</td>\n",
       "      <td>-0.026407</td>\n",
       "      <td>0.179984</td>\n",
       "      <td>-0.005069</td>\n",
       "      <td>0.544510</td>\n",
       "      <td>1.000000</td>\n",
       "      <td>-0.006206</td>\n",
       "    </tr>\n",
       "    <tr>\n",
       "      <th>sum</th>\n",
       "      <td>-0.158896</td>\n",
       "      <td>0.939291</td>\n",
       "      <td>0.970812</td>\n",
       "      <td>0.464062</td>\n",
       "      <td>0.985992</td>\n",
       "      <td>0.334152</td>\n",
       "      <td>-0.006206</td>\n",
       "      <td>1.000000</td>\n",
       "    </tr>\n",
       "  </tbody>\n",
       "</table>\n",
       "</div>"
      ],
      "text/plain": [
       "                 year_of_release  na_sales  eu_sales  jp_sales  other_sales  \\\n",
       "year_of_release         1.000000 -0.176077 -0.127386 -0.133988    -0.142844   \n",
       "na_sales               -0.176077  1.000000  0.842691  0.370621     0.896159   \n",
       "eu_sales               -0.127386  0.842691  1.000000  0.382731     0.981763   \n",
       "jp_sales               -0.133988  0.370621  0.382731  1.000000     0.393147   \n",
       "other_sales            -0.142844  0.896159  0.981763  0.393147     1.000000   \n",
       "critic_score           -0.164502  0.342992  0.308144  0.176326     0.315136   \n",
       "user_score             -0.275460 -0.021661 -0.026407  0.179984    -0.005069   \n",
       "sum                    -0.158896  0.939291  0.970812  0.464062     0.985992   \n",
       "\n",
       "                 critic_score  user_score       sum  \n",
       "year_of_release     -0.164502   -0.275460 -0.158896  \n",
       "na_sales             0.342992   -0.021661  0.939291  \n",
       "eu_sales             0.308144   -0.026407  0.970812  \n",
       "jp_sales             0.176326    0.179984  0.464062  \n",
       "other_sales          0.315136   -0.005069  0.985992  \n",
       "critic_score         1.000000    0.544510  0.334152  \n",
       "user_score           0.544510    1.000000 -0.006206  \n",
       "sum                  0.334152   -0.006206  1.000000  "
      ]
     },
     "execution_count": 67,
     "metadata": {},
     "output_type": "execute_result"
    }
   ],
   "source": [
    "data.query('platform == \"PS3\"').corr() # попарно выведем коэффициенты корреляции датасета для платформы PS3"
   ]
  },
  {
   "cell_type": "code",
   "execution_count": 68,
   "metadata": {},
   "outputs": [
    {
     "data": {
      "text/plain": [
       "<AxesSubplot:xlabel='user_score', ylabel='sum'>"
      ]
     },
     "execution_count": 68,
     "metadata": {},
     "output_type": "execute_result"
    },
    {
     "data": {
      "image/png": "[encoded data removed]",
      "text/plain": [
       "<Figure size 432x288 with 1 Axes>"
      ]
     },
     "metadata": {
      "needs_background": "light"
     },
     "output_type": "display_data"
    }
   ],
   "source": [
    "seaborn.regplot(data=data.query('platform == \"PS3\"'), x='user_score', y='sum') # отзывы пользователей и продажи"
   ]
  },
  {
   "cell_type": "code",
   "execution_count": 69,
   "metadata": {},
   "outputs": [
    {
     "data": {
      "text/plain": [
       "<AxesSubplot:xlabel='critic_score', ylabel='sum'>"
      ]
     },
     "execution_count": 69,
     "metadata": {},
     "output_type": "execute_result"
    },
    {
     "data": {
      "image/png": "[encoded data removed]",
      "text/plain": [
       "<Figure size 432x288 with 1 Axes>"
      ]
     },
     "metadata": {
      "needs_background": "light"
     },
     "output_type": "display_data"
    }
   ],
   "source": [
    "seaborn.scatterplot(data=data.query('platform == \"PS3\"'), x='critic_score', y='sum') # отзывы критиков и продажи"
   ]
  },
  {
   "cell_type": "markdown",
   "metadata": {},
   "source": [
    "Снова наблюдается очень слабая обратная связь между отзывами пользователей игр на PS3 и продажами. Но, присутствует умеренная прямая зависимость между отзывами критиков и продажами на данной платформе"
   ]
  },
  {
   "cell_type": "code",
   "execution_count": 70,
   "metadata": {},
   "outputs": [
    {
     "data": {
      "text/html": [
       "<div>\n",
       "<style scoped>\n",
       "    .dataframe tbody tr th:only-of-type {\n",
       "        vertical-align: middle;\n",
       "    }\n",
       "\n",
       "    .dataframe tbody tr th {\n",
       "        vertical-align: top;\n",
       "    }\n",
       "\n",
       "    .dataframe thead th {\n",
       "        text-align: right;\n",
       "    }\n",
       "</style>\n",
       "<table border=\"1\" class=\"dataframe\">\n",
       "  <thead>\n",
       "    <tr style=\"text-align: right;\">\n",
       "      <th></th>\n",
       "      <th>year_of_release</th>\n",
       "      <th>na_sales</th>\n",
       "      <th>eu_sales</th>\n",
       "      <th>jp_sales</th>\n",
       "      <th>other_sales</th>\n",
       "      <th>critic_score</th>\n",
       "      <th>user_score</th>\n",
       "      <th>sum</th>\n",
       "    </tr>\n",
       "  </thead>\n",
       "  <tbody>\n",
       "    <tr>\n",
       "      <th>year_of_release</th>\n",
       "      <td>1.000000</td>\n",
       "      <td>-0.145209</td>\n",
       "      <td>-0.145637</td>\n",
       "      <td>-0.324916</td>\n",
       "      <td>-0.141863</td>\n",
       "      <td>-0.179233</td>\n",
       "      <td>-0.263226</td>\n",
       "      <td>-0.151962</td>\n",
       "    </tr>\n",
       "    <tr>\n",
       "      <th>na_sales</th>\n",
       "      <td>-0.145209</td>\n",
       "      <td>1.000000</td>\n",
       "      <td>0.838446</td>\n",
       "      <td>0.524716</td>\n",
       "      <td>0.965031</td>\n",
       "      <td>0.342341</td>\n",
       "      <td>-0.000710</td>\n",
       "      <td>0.979361</td>\n",
       "    </tr>\n",
       "    <tr>\n",
       "      <th>eu_sales</th>\n",
       "      <td>-0.145637</td>\n",
       "      <td>0.838446</td>\n",
       "      <td>1.000000</td>\n",
       "      <td>0.526260</td>\n",
       "      <td>0.943203</td>\n",
       "      <td>0.354643</td>\n",
       "      <td>0.017297</td>\n",
       "      <td>0.931175</td>\n",
       "    </tr>\n",
       "    <tr>\n",
       "      <th>jp_sales</th>\n",
       "      <td>-0.324916</td>\n",
       "      <td>0.524716</td>\n",
       "      <td>0.526260</td>\n",
       "      <td>1.000000</td>\n",
       "      <td>0.540190</td>\n",
       "      <td>0.233093</td>\n",
       "      <td>0.095023</td>\n",
       "      <td>0.550276</td>\n",
       "    </tr>\n",
       "    <tr>\n",
       "      <th>other_sales</th>\n",
       "      <td>-0.141863</td>\n",
       "      <td>0.965031</td>\n",
       "      <td>0.943203</td>\n",
       "      <td>0.540190</td>\n",
       "      <td>1.000000</td>\n",
       "      <td>0.362118</td>\n",
       "      <td>0.001865</td>\n",
       "      <td>0.995453</td>\n",
       "    </tr>\n",
       "    <tr>\n",
       "      <th>critic_score</th>\n",
       "      <td>-0.179233</td>\n",
       "      <td>0.342341</td>\n",
       "      <td>0.354643</td>\n",
       "      <td>0.233093</td>\n",
       "      <td>0.362118</td>\n",
       "      <td>1.000000</td>\n",
       "      <td>0.557352</td>\n",
       "      <td>0.360573</td>\n",
       "    </tr>\n",
       "    <tr>\n",
       "      <th>user_score</th>\n",
       "      <td>-0.263226</td>\n",
       "      <td>-0.000710</td>\n",
       "      <td>0.017297</td>\n",
       "      <td>0.095023</td>\n",
       "      <td>0.001865</td>\n",
       "      <td>0.557352</td>\n",
       "      <td>1.000000</td>\n",
       "      <td>0.006164</td>\n",
       "    </tr>\n",
       "    <tr>\n",
       "      <th>sum</th>\n",
       "      <td>-0.151962</td>\n",
       "      <td>0.979361</td>\n",
       "      <td>0.931175</td>\n",
       "      <td>0.550276</td>\n",
       "      <td>0.995453</td>\n",
       "      <td>0.360573</td>\n",
       "      <td>0.006164</td>\n",
       "      <td>1.000000</td>\n",
       "    </tr>\n",
       "  </tbody>\n",
       "</table>\n",
       "</div>"
      ],
      "text/plain": [
       "                 year_of_release  na_sales  eu_sales  jp_sales  other_sales  \\\n",
       "year_of_release         1.000000 -0.145209 -0.145637 -0.324916    -0.141863   \n",
       "na_sales               -0.145209  1.000000  0.838446  0.524716     0.965031   \n",
       "eu_sales               -0.145637  0.838446  1.000000  0.526260     0.943203   \n",
       "jp_sales               -0.324916  0.524716  0.526260  1.000000     0.540190   \n",
       "other_sales            -0.141863  0.965031  0.943203  0.540190     1.000000   \n",
       "critic_score           -0.179233  0.342341  0.354643  0.233093     0.362118   \n",
       "user_score             -0.263226 -0.000710  0.017297  0.095023     0.001865   \n",
       "sum                    -0.151962  0.979361  0.931175  0.550276     0.995453   \n",
       "\n",
       "                 critic_score  user_score       sum  \n",
       "year_of_release     -0.179233   -0.263226 -0.151962  \n",
       "na_sales             0.342341   -0.000710  0.979361  \n",
       "eu_sales             0.354643    0.017297  0.931175  \n",
       "jp_sales             0.233093    0.095023  0.550276  \n",
       "other_sales          0.362118    0.001865  0.995453  \n",
       "critic_score         1.000000    0.557352  0.360573  \n",
       "user_score           0.557352    1.000000  0.006164  \n",
       "sum                  0.360573    0.006164  1.000000  "
      ]
     },
     "execution_count": 70,
     "metadata": {},
     "output_type": "execute_result"
    }
   ],
   "source": [
    "data.query('platform == \"X360\"').corr() # попарно выведем коэффициенты корреляции датасета для платформы X360"
   ]
  },
  {
   "cell_type": "code",
   "execution_count": 71,
   "metadata": {},
   "outputs": [
    {
     "data": {
      "text/plain": [
       "<AxesSubplot:xlabel='user_score', ylabel='sum'>"
      ]
     },
     "execution_count": 71,
     "metadata": {},
     "output_type": "execute_result"
    },
    {
     "data": {
      "image/png": "[encoded data removed]",
      "text/plain": [
       "<Figure size 432x288 with 1 Axes>"
      ]
     },
     "metadata": {
      "needs_background": "light"
     },
     "output_type": "display_data"
    }
   ],
   "source": [
    "seaborn.regplot(data=data.query('platform == \"X360\"'), x='user_score', y='sum')"
   ]
  },
  {
   "cell_type": "code",
   "execution_count": 72,
   "metadata": {},
   "outputs": [
    {
     "data": {
      "text/plain": [
       "<AxesSubplot:xlabel='critic_score', ylabel='sum'>"
      ]
     },
     "execution_count": 72,
     "metadata": {},
     "output_type": "execute_result"
    },
    {
     "data": {
      "image/png": "[encoded data removed]",
      "text/plain": [
       "<Figure size 432x288 with 1 Axes>"
      ]
     },
     "metadata": {
      "needs_background": "light"
     },
     "output_type": "display_data"
    }
   ],
   "source": [
    "seaborn.scatterplot(data=data.query('platform == \"X360\"'), x='critic_score', y='sum')"
   ]
  },
  {
   "cell_type": "markdown",
   "metadata": {},
   "source": [
    "Снова слабая связь между оценками пользователей и продажами, но, в данном случае, уже положительная. Также, прямая умеренная связь между оценками критиков и продажами"
   ]
  },
  {
   "cell_type": "code",
   "execution_count": 73,
   "metadata": {},
   "outputs": [
    {
     "data": {
      "text/html": [
       "<div>\n",
       "<style scoped>\n",
       "    .dataframe tbody tr th:only-of-type {\n",
       "        vertical-align: middle;\n",
       "    }\n",
       "\n",
       "    .dataframe tbody tr th {\n",
       "        vertical-align: top;\n",
       "    }\n",
       "\n",
       "    .dataframe thead th {\n",
       "        text-align: right;\n",
       "    }\n",
       "</style>\n",
       "<table border=\"1\" class=\"dataframe\">\n",
       "  <thead>\n",
       "    <tr style=\"text-align: right;\">\n",
       "      <th></th>\n",
       "      <th>year_of_release</th>\n",
       "      <th>na_sales</th>\n",
       "      <th>eu_sales</th>\n",
       "      <th>jp_sales</th>\n",
       "      <th>other_sales</th>\n",
       "      <th>critic_score</th>\n",
       "      <th>user_score</th>\n",
       "      <th>sum</th>\n",
       "    </tr>\n",
       "  </thead>\n",
       "  <tbody>\n",
       "    <tr>\n",
       "      <th>year_of_release</th>\n",
       "      <td>1.000000</td>\n",
       "      <td>-0.082787</td>\n",
       "      <td>-0.086559</td>\n",
       "      <td>-0.033883</td>\n",
       "      <td>-0.078176</td>\n",
       "      <td>-0.048492</td>\n",
       "      <td>0.090701</td>\n",
       "      <td>-0.071661</td>\n",
       "    </tr>\n",
       "    <tr>\n",
       "      <th>na_sales</th>\n",
       "      <td>-0.082787</td>\n",
       "      <td>1.000000</td>\n",
       "      <td>0.931508</td>\n",
       "      <td>0.666101</td>\n",
       "      <td>0.991136</td>\n",
       "      <td>0.328829</td>\n",
       "      <td>0.185631</td>\n",
       "      <td>0.939587</td>\n",
       "    </tr>\n",
       "    <tr>\n",
       "      <th>eu_sales</th>\n",
       "      <td>-0.086559</td>\n",
       "      <td>0.931508</td>\n",
       "      <td>1.000000</td>\n",
       "      <td>0.684292</td>\n",
       "      <td>0.963864</td>\n",
       "      <td>0.259721</td>\n",
       "      <td>0.118699</td>\n",
       "      <td>0.940331</td>\n",
       "    </tr>\n",
       "    <tr>\n",
       "      <th>jp_sales</th>\n",
       "      <td>-0.033883</td>\n",
       "      <td>0.666101</td>\n",
       "      <td>0.684292</td>\n",
       "      <td>1.000000</td>\n",
       "      <td>0.680866</td>\n",
       "      <td>0.307799</td>\n",
       "      <td>0.238252</td>\n",
       "      <td>0.868770</td>\n",
       "    </tr>\n",
       "    <tr>\n",
       "      <th>other_sales</th>\n",
       "      <td>-0.078176</td>\n",
       "      <td>0.991136</td>\n",
       "      <td>0.963864</td>\n",
       "      <td>0.680866</td>\n",
       "      <td>1.000000</td>\n",
       "      <td>0.309119</td>\n",
       "      <td>0.162372</td>\n",
       "      <td>0.951971</td>\n",
       "    </tr>\n",
       "    <tr>\n",
       "      <th>critic_score</th>\n",
       "      <td>-0.048492</td>\n",
       "      <td>0.328829</td>\n",
       "      <td>0.259721</td>\n",
       "      <td>0.307799</td>\n",
       "      <td>0.309119</td>\n",
       "      <td>1.000000</td>\n",
       "      <td>0.722762</td>\n",
       "      <td>0.320803</td>\n",
       "    </tr>\n",
       "    <tr>\n",
       "      <th>user_score</th>\n",
       "      <td>0.090701</td>\n",
       "      <td>0.185631</td>\n",
       "      <td>0.118699</td>\n",
       "      <td>0.238252</td>\n",
       "      <td>0.162372</td>\n",
       "      <td>0.722762</td>\n",
       "      <td>1.000000</td>\n",
       "      <td>0.197583</td>\n",
       "    </tr>\n",
       "    <tr>\n",
       "      <th>sum</th>\n",
       "      <td>-0.071661</td>\n",
       "      <td>0.939587</td>\n",
       "      <td>0.940331</td>\n",
       "      <td>0.868770</td>\n",
       "      <td>0.951971</td>\n",
       "      <td>0.320803</td>\n",
       "      <td>0.197583</td>\n",
       "      <td>1.000000</td>\n",
       "    </tr>\n",
       "  </tbody>\n",
       "</table>\n",
       "</div>"
      ],
      "text/plain": [
       "                 year_of_release  na_sales  eu_sales  jp_sales  other_sales  \\\n",
       "year_of_release         1.000000 -0.082787 -0.086559 -0.033883    -0.078176   \n",
       "na_sales               -0.082787  1.000000  0.931508  0.666101     0.991136   \n",
       "eu_sales               -0.086559  0.931508  1.000000  0.684292     0.963864   \n",
       "jp_sales               -0.033883  0.666101  0.684292  1.000000     0.680866   \n",
       "other_sales            -0.078176  0.991136  0.963864  0.680866     1.000000   \n",
       "critic_score           -0.048492  0.328829  0.259721  0.307799     0.309119   \n",
       "user_score              0.090701  0.185631  0.118699  0.238252     0.162372   \n",
       "sum                    -0.071661  0.939587  0.940331  0.868770     0.951971   \n",
       "\n",
       "                 critic_score  user_score       sum  \n",
       "year_of_release     -0.048492    0.090701 -0.071661  \n",
       "na_sales             0.328829    0.185631  0.939587  \n",
       "eu_sales             0.259721    0.118699  0.940331  \n",
       "jp_sales             0.307799    0.238252  0.868770  \n",
       "other_sales          0.309119    0.162372  0.951971  \n",
       "critic_score         1.000000    0.722762  0.320803  \n",
       "user_score           0.722762    1.000000  0.197583  \n",
       "sum                  0.320803    0.197583  1.000000  "
      ]
     },
     "execution_count": 73,
     "metadata": {},
     "output_type": "execute_result"
    }
   ],
   "source": [
    "data.query('platform == \"3DS\"').corr() # попарно выведем коэффициенты корреляции датасета для платформы 3DS"
   ]
  },
  {
   "cell_type": "code",
   "execution_count": 74,
   "metadata": {},
   "outputs": [
    {
     "data": {
      "text/plain": [
       "<AxesSubplot:xlabel='user_score', ylabel='sum'>"
      ]
     },
     "execution_count": 74,
     "metadata": {},
     "output_type": "execute_result"
    },
    {
     "data": {
      "image/png": "[encoded data removed]",
      "text/plain": [
       "<Figure size 432x288 with 1 Axes>"
      ]
     },
     "metadata": {
      "needs_background": "light"
     },
     "output_type": "display_data"
    }
   ],
   "source": [
    "seaborn.scatterplot(data=data.query('platform == \"3DS\"'), x='user_score', y='sum')"
   ]
  },
  {
   "cell_type": "code",
   "execution_count": 75,
   "metadata": {},
   "outputs": [
    {
     "data": {
      "text/plain": [
       "<AxesSubplot:xlabel='critic_score', ylabel='sum'>"
      ]
     },
     "execution_count": 75,
     "metadata": {},
     "output_type": "execute_result"
    },
    {
     "data": {
      "image/png": "[encoded data removed]",
      "text/plain": [
       "<Figure size 432x288 with 1 Axes>"
      ]
     },
     "metadata": {
      "needs_background": "light"
     },
     "output_type": "display_data"
    }
   ],
   "source": [
    "seaborn.scatterplot(data=data.query('platform == \"3DS\"'), x='critic_score', y='sum')"
   ]
  },
  {
   "cell_type": "markdown",
   "metadata": {},
   "source": [
    "На платформе 3DS связь между отзывами пользователей и продажами сильнее, чем у других популярных платформ. Также, умеренная связь между оценками критиков и продажами"
   ]
  },
  {
   "cell_type": "markdown",
   "metadata": {},
   "source": [
    "Исходя из вышеперечисленного, можно сделать вывод, что присутствует умеренная прямая связь между отзывами критиков и продажами игр данной платформы. Корреляция оценок пользователей с продажами не наблюдается. При планировании необходимо учитывать этот параметр . "
   ]
  },
  {
   "cell_type": "markdown",
   "metadata": {},
   "source": [
    "#### Самые прибыльные жанры"
   ]
  },
  {
   "cell_type": "markdown",
   "metadata": {},
   "source": [
    "Сгруппируем общие продажи по жанрам и отсортируем по убыванию"
   ]
  },
  {
   "cell_type": "markdown",
   "metadata": {},
   "source": [
    "Найдём медианные значения по продажам каждого жанра и определим какой жанр самый доходный "
   ]
  },
  {
   "cell_type": "code",
   "execution_count": 77,
   "metadata": {
    "scrolled": true
   },
   "outputs": [
    {
     "data": {
      "text/plain": [
       "genre\n",
       "Shooter         0.440\n",
       "Sports          0.240\n",
       "Platform        0.210\n",
       "Role-Playing    0.140\n",
       "Racing          0.140\n",
       "Fighting        0.130\n",
       "Action          0.120\n",
       "Misc            0.120\n",
       "Simulation      0.120\n",
       "Strategy        0.080\n",
       "Puzzle          0.045\n",
       "Adventure       0.030\n",
       "Name: sum, dtype: float64"
      ]
     },
     "execution_count": 77,
     "metadata": {},
     "output_type": "execute_result"
    }
   ],
   "source": [
    "data.groupby('genre')['sum'].median().sort_values(ascending=False)"
   ]
  },
  {
   "cell_type": "markdown",
   "metadata": {},
   "source": [
    "Самый доходный жанр - Shooter с медианным значением 0.44 млн копий"
   ]
  },
  {
   "cell_type": "markdown",
   "metadata": {},
   "source": [
    "#### Вывод:"
   ]
  },
  {
   "cell_type": "markdown",
   "metadata": {},
   "source": [
    "Таким образом, в процессе исследовательского анализа, удалось выявить, что актуальный период выхода игр, необходимый для дальнейшего анализа начинается с 2012 года. Самые популярные платформы: PS4, PS3, XOne, XBOX, 3DS. С 2015 по 2016 год наблюалось падение продаж во всей индустрии игр. Вероятно, это связано с неактуальной выборкой данных, которая пополнится в начале 2017 года. Практически отстутствует зависимости между отзывами пользователей игр и продажами. Но, зато, присутствует зависимость (умеренная и прямая) между отзывами критиков и продажами. Самые прибыльные жанры игр Shooter и Sports. Данные факторы следует учитывать в дальнейшем планировании "
   ]
  },
  {
   "cell_type": "markdown",
   "metadata": {},
   "source": [
    "### Портрет пользователя в каждом регионе"
   ]
  },
  {
   "cell_type": "markdown",
   "metadata": {},
   "source": [
    "#### Самые популярные платформы в разных регионах"
   ]
  },
  {
   "cell_type": "markdown",
   "metadata": {},
   "source": [
    "Построим гистограммы для определения доли самых популярных платформ "
   ]
  },
  {
   "cell_type": "markdown",
   "metadata": {},
   "source": [
    "Гистограмма для региона NA"
   ]
  },
  {
   "cell_type": "code",
   "execution_count": 78,
   "metadata": {
    "scrolled": true
   },
   "outputs": [
    {
     "data": {
      "text/html": [
       "<div>\n",
       "<style scoped>\n",
       "    .dataframe tbody tr th:only-of-type {\n",
       "        vertical-align: middle;\n",
       "    }\n",
       "\n",
       "    .dataframe tbody tr th {\n",
       "        vertical-align: top;\n",
       "    }\n",
       "\n",
       "    .dataframe thead th {\n",
       "        text-align: right;\n",
       "    }\n",
       "</style>\n",
       "<table border=\"1\" class=\"dataframe\">\n",
       "  <thead>\n",
       "    <tr style=\"text-align: right;\">\n",
       "      <th></th>\n",
       "      <th>platform</th>\n",
       "      <th>na_sales</th>\n",
       "    </tr>\n",
       "  </thead>\n",
       "  <tbody>\n",
       "    <tr>\n",
       "      <th>0</th>\n",
       "      <td>X360</td>\n",
       "      <td>140.05</td>\n",
       "    </tr>\n",
       "    <tr>\n",
       "      <th>1</th>\n",
       "      <td>PS4</td>\n",
       "      <td>108.74</td>\n",
       "    </tr>\n",
       "    <tr>\n",
       "      <th>2</th>\n",
       "      <td>PS3</td>\n",
       "      <td>103.38</td>\n",
       "    </tr>\n",
       "    <tr>\n",
       "      <th>3</th>\n",
       "      <td>XOne</td>\n",
       "      <td>93.12</td>\n",
       "    </tr>\n",
       "    <tr>\n",
       "      <th>4</th>\n",
       "      <td>3DS</td>\n",
       "      <td>55.31</td>\n",
       "    </tr>\n",
       "    <tr>\n",
       "      <th>5</th>\n",
       "      <td>WiiU</td>\n",
       "      <td>38.10</td>\n",
       "    </tr>\n",
       "    <tr>\n",
       "      <th>6</th>\n",
       "      <td>PC</td>\n",
       "      <td>19.12</td>\n",
       "    </tr>\n",
       "    <tr>\n",
       "      <th>7</th>\n",
       "      <td>Wii</td>\n",
       "      <td>17.45</td>\n",
       "    </tr>\n",
       "    <tr>\n",
       "      <th>8</th>\n",
       "      <td>PSV</td>\n",
       "      <td>10.98</td>\n",
       "    </tr>\n",
       "    <tr>\n",
       "      <th>9</th>\n",
       "      <td>DS</td>\n",
       "      <td>4.59</td>\n",
       "    </tr>\n",
       "    <tr>\n",
       "      <th>10</th>\n",
       "      <td>PSP</td>\n",
       "      <td>0.13</td>\n",
       "    </tr>\n",
       "  </tbody>\n",
       "</table>\n",
       "</div>"
      ],
      "text/plain": [
       "   platform  na_sales\n",
       "0      X360    140.05\n",
       "1       PS4    108.74\n",
       "2       PS3    103.38\n",
       "3      XOne     93.12\n",
       "4       3DS     55.31\n",
       "5      WiiU     38.10\n",
       "6        PC     19.12\n",
       "7       Wii     17.45\n",
       "8       PSV     10.98\n",
       "9        DS      4.59\n",
       "10      PSP      0.13"
      ]
     },
     "execution_count": 78,
     "metadata": {},
     "output_type": "execute_result"
    }
   ],
   "source": [
    "data_na = data.groupby('platform', as_index=False)['na_sales'].sum().sort_values(by='na_sales', ascending=False)\n",
    "# сгруппируем по продажам каждой платформы и внесем в переменную data_na\n",
    "data_na = data_na.reset_index(drop=True) # обновим индексы\n",
    "data_na"
   ]
  },
  {
   "cell_type": "markdown",
   "metadata": {},
   "source": [
    "Теперь, посчитаем долю для каждой платформы и внесём в новый столбец share"
   ]
  },
  {
   "cell_type": "code",
   "execution_count": 79,
   "metadata": {},
   "outputs": [
    {
     "data": {
      "text/html": [
       "<div>\n",
       "<style scoped>\n",
       "    .dataframe tbody tr th:only-of-type {\n",
       "        vertical-align: middle;\n",
       "    }\n",
       "\n",
       "    .dataframe tbody tr th {\n",
       "        vertical-align: top;\n",
       "    }\n",
       "\n",
       "    .dataframe thead th {\n",
       "        text-align: right;\n",
       "    }\n",
       "</style>\n",
       "<table border=\"1\" class=\"dataframe\">\n",
       "  <thead>\n",
       "    <tr style=\"text-align: right;\">\n",
       "      <th></th>\n",
       "      <th>platform</th>\n",
       "      <th>na_sales</th>\n",
       "      <th>share</th>\n",
       "    </tr>\n",
       "  </thead>\n",
       "  <tbody>\n",
       "    <tr>\n",
       "      <th>0</th>\n",
       "      <td>X360</td>\n",
       "      <td>140.05</td>\n",
       "      <td>0.236983</td>\n",
       "    </tr>\n",
       "    <tr>\n",
       "      <th>1</th>\n",
       "      <td>PS4</td>\n",
       "      <td>108.74</td>\n",
       "      <td>0.184003</td>\n",
       "    </tr>\n",
       "    <tr>\n",
       "      <th>2</th>\n",
       "      <td>PS3</td>\n",
       "      <td>103.38</td>\n",
       "      <td>0.174933</td>\n",
       "    </tr>\n",
       "    <tr>\n",
       "      <th>3</th>\n",
       "      <td>XOne</td>\n",
       "      <td>93.12</td>\n",
       "      <td>0.157571</td>\n",
       "    </tr>\n",
       "    <tr>\n",
       "      <th>4</th>\n",
       "      <td>3DS</td>\n",
       "      <td>55.31</td>\n",
       "      <td>0.093592</td>\n",
       "    </tr>\n",
       "    <tr>\n",
       "      <th>5</th>\n",
       "      <td>WiiU</td>\n",
       "      <td>38.10</td>\n",
       "      <td>0.064470</td>\n",
       "    </tr>\n",
       "    <tr>\n",
       "      <th>6</th>\n",
       "      <td>PC</td>\n",
       "      <td>19.12</td>\n",
       "      <td>0.032354</td>\n",
       "    </tr>\n",
       "    <tr>\n",
       "      <th>7</th>\n",
       "      <td>Wii</td>\n",
       "      <td>17.45</td>\n",
       "      <td>0.029528</td>\n",
       "    </tr>\n",
       "    <tr>\n",
       "      <th>8</th>\n",
       "      <td>PSV</td>\n",
       "      <td>10.98</td>\n",
       "      <td>0.018580</td>\n",
       "    </tr>\n",
       "    <tr>\n",
       "      <th>9</th>\n",
       "      <td>DS</td>\n",
       "      <td>4.59</td>\n",
       "      <td>0.007767</td>\n",
       "    </tr>\n",
       "    <tr>\n",
       "      <th>10</th>\n",
       "      <td>PSP</td>\n",
       "      <td>0.13</td>\n",
       "      <td>0.000220</td>\n",
       "    </tr>\n",
       "  </tbody>\n",
       "</table>\n",
       "</div>"
      ],
      "text/plain": [
       "   platform  na_sales     share\n",
       "0      X360    140.05  0.236983\n",
       "1       PS4    108.74  0.184003\n",
       "2       PS3    103.38  0.174933\n",
       "3      XOne     93.12  0.157571\n",
       "4       3DS     55.31  0.093592\n",
       "5      WiiU     38.10  0.064470\n",
       "6        PC     19.12  0.032354\n",
       "7       Wii     17.45  0.029528\n",
       "8       PSV     10.98  0.018580\n",
       "9        DS      4.59  0.007767\n",
       "10      PSP      0.13  0.000220"
      ]
     },
     "execution_count": 79,
     "metadata": {},
     "output_type": "execute_result"
    }
   ],
   "source": [
    "data_na['share'] = data_na['na_sales']/data_na['na_sales'].sum()\n",
    "data_na"
   ]
  },
  {
   "cell_type": "markdown",
   "metadata": {},
   "source": [
    "Построим гистограмму для топ5 платформ"
   ]
  },
  {
   "cell_type": "code",
   "execution_count": 80,
   "metadata": {},
   "outputs": [
    {
     "data": {
      "image/png": "[encoded data removed]",
      "text/plain": [
       "<Figure size 432x288 with 1 Axes>"
      ]
     },
     "metadata": {
      "needs_background": "light"
     },
     "output_type": "display_data"
    }
   ],
   "source": [
    "bar = seaborn.barplot(x='platform',\n",
    "            y='share',\n",
    "            data=data_na.head(5),\n",
    "            palette=['lightblue', 'blue'])\n",
    "\n",
    "bar.set(xlabel='Платформа', ylabel='Доля продаж');"
   ]
  },
  {
   "cell_type": "markdown",
   "metadata": {},
   "source": [
    "На диаграмме видно, что самая большая доля продаж в NA у X360 - 23.7%. Затем идет PS4 - 18,4%. PS3 - 17,5%"
   ]
  },
  {
   "cell_type": "markdown",
   "metadata": {},
   "source": [
    "Гистограмма для EU региона"
   ]
  },
  {
   "cell_type": "code",
   "execution_count": 81,
   "metadata": {},
   "outputs": [
    {
     "data": {
      "text/html": [
       "<div>\n",
       "<style scoped>\n",
       "    .dataframe tbody tr th:only-of-type {\n",
       "        vertical-align: middle;\n",
       "    }\n",
       "\n",
       "    .dataframe tbody tr th {\n",
       "        vertical-align: top;\n",
       "    }\n",
       "\n",
       "    .dataframe thead th {\n",
       "        text-align: right;\n",
       "    }\n",
       "</style>\n",
       "<table border=\"1\" class=\"dataframe\">\n",
       "  <thead>\n",
       "    <tr style=\"text-align: right;\">\n",
       "      <th></th>\n",
       "      <th>platform</th>\n",
       "      <th>eu_sales</th>\n",
       "    </tr>\n",
       "  </thead>\n",
       "  <tbody>\n",
       "    <tr>\n",
       "      <th>0</th>\n",
       "      <td>PS4</td>\n",
       "      <td>141.09</td>\n",
       "    </tr>\n",
       "    <tr>\n",
       "      <th>1</th>\n",
       "      <td>PS3</td>\n",
       "      <td>106.85</td>\n",
       "    </tr>\n",
       "    <tr>\n",
       "      <th>2</th>\n",
       "      <td>X360</td>\n",
       "      <td>74.52</td>\n",
       "    </tr>\n",
       "    <tr>\n",
       "      <th>3</th>\n",
       "      <td>XOne</td>\n",
       "      <td>51.59</td>\n",
       "    </tr>\n",
       "    <tr>\n",
       "      <th>4</th>\n",
       "      <td>3DS</td>\n",
       "      <td>42.64</td>\n",
       "    </tr>\n",
       "    <tr>\n",
       "      <th>5</th>\n",
       "      <td>PC</td>\n",
       "      <td>37.76</td>\n",
       "    </tr>\n",
       "    <tr>\n",
       "      <th>6</th>\n",
       "      <td>WiiU</td>\n",
       "      <td>25.13</td>\n",
       "    </tr>\n",
       "    <tr>\n",
       "      <th>7</th>\n",
       "      <td>Wii</td>\n",
       "      <td>11.92</td>\n",
       "    </tr>\n",
       "    <tr>\n",
       "      <th>8</th>\n",
       "      <td>PSV</td>\n",
       "      <td>11.36</td>\n",
       "    </tr>\n",
       "    <tr>\n",
       "      <th>9</th>\n",
       "      <td>DS</td>\n",
       "      <td>3.53</td>\n",
       "    </tr>\n",
       "    <tr>\n",
       "      <th>10</th>\n",
       "      <td>PSP</td>\n",
       "      <td>0.42</td>\n",
       "    </tr>\n",
       "  </tbody>\n",
       "</table>\n",
       "</div>"
      ],
      "text/plain": [
       "   platform  eu_sales\n",
       "0       PS4    141.09\n",
       "1       PS3    106.85\n",
       "2      X360     74.52\n",
       "3      XOne     51.59\n",
       "4       3DS     42.64\n",
       "5        PC     37.76\n",
       "6      WiiU     25.13\n",
       "7       Wii     11.92\n",
       "8       PSV     11.36\n",
       "9        DS      3.53\n",
       "10      PSP      0.42"
      ]
     },
     "execution_count": 81,
     "metadata": {},
     "output_type": "execute_result"
    }
   ],
   "source": [
    "data_eu = data.groupby('platform', as_index=False)['eu_sales'].sum().sort_values(by='eu_sales', ascending=False)\n",
    "# сгруппируем по продажам каждой платформы и внесем в переменную data_eu\n",
    "data_eu = data_eu.reset_index(drop=True) # обновим индексы\n",
    "data_eu"
   ]
  },
  {
   "cell_type": "code",
   "execution_count": 82,
   "metadata": {},
   "outputs": [
    {
     "data": {
      "text/html": [
       "<div>\n",
       "<style scoped>\n",
       "    .dataframe tbody tr th:only-of-type {\n",
       "        vertical-align: middle;\n",
       "    }\n",
       "\n",
       "    .dataframe tbody tr th {\n",
       "        vertical-align: top;\n",
       "    }\n",
       "\n",
       "    .dataframe thead th {\n",
       "        text-align: right;\n",
       "    }\n",
       "</style>\n",
       "<table border=\"1\" class=\"dataframe\">\n",
       "  <thead>\n",
       "    <tr style=\"text-align: right;\">\n",
       "      <th></th>\n",
       "      <th>platform</th>\n",
       "      <th>eu_sales</th>\n",
       "      <th>share</th>\n",
       "    </tr>\n",
       "  </thead>\n",
       "  <tbody>\n",
       "    <tr>\n",
       "      <th>0</th>\n",
       "      <td>PS4</td>\n",
       "      <td>141.09</td>\n",
       "      <td>0.278388</td>\n",
       "    </tr>\n",
       "    <tr>\n",
       "      <th>1</th>\n",
       "      <td>PS3</td>\n",
       "      <td>106.85</td>\n",
       "      <td>0.210829</td>\n",
       "    </tr>\n",
       "    <tr>\n",
       "      <th>2</th>\n",
       "      <td>X360</td>\n",
       "      <td>74.52</td>\n",
       "      <td>0.147037</td>\n",
       "    </tr>\n",
       "    <tr>\n",
       "      <th>3</th>\n",
       "      <td>XOne</td>\n",
       "      <td>51.59</td>\n",
       "      <td>0.101794</td>\n",
       "    </tr>\n",
       "    <tr>\n",
       "      <th>4</th>\n",
       "      <td>3DS</td>\n",
       "      <td>42.64</td>\n",
       "      <td>0.084134</td>\n",
       "    </tr>\n",
       "    <tr>\n",
       "      <th>5</th>\n",
       "      <td>PC</td>\n",
       "      <td>37.76</td>\n",
       "      <td>0.074505</td>\n",
       "    </tr>\n",
       "    <tr>\n",
       "      <th>6</th>\n",
       "      <td>WiiU</td>\n",
       "      <td>25.13</td>\n",
       "      <td>0.049585</td>\n",
       "    </tr>\n",
       "    <tr>\n",
       "      <th>7</th>\n",
       "      <td>Wii</td>\n",
       "      <td>11.92</td>\n",
       "      <td>0.023520</td>\n",
       "    </tr>\n",
       "    <tr>\n",
       "      <th>8</th>\n",
       "      <td>PSV</td>\n",
       "      <td>11.36</td>\n",
       "      <td>0.022415</td>\n",
       "    </tr>\n",
       "    <tr>\n",
       "      <th>9</th>\n",
       "      <td>DS</td>\n",
       "      <td>3.53</td>\n",
       "      <td>0.006965</td>\n",
       "    </tr>\n",
       "    <tr>\n",
       "      <th>10</th>\n",
       "      <td>PSP</td>\n",
       "      <td>0.42</td>\n",
       "      <td>0.000829</td>\n",
       "    </tr>\n",
       "  </tbody>\n",
       "</table>\n",
       "</div>"
      ],
      "text/plain": [
       "   platform  eu_sales     share\n",
       "0       PS4    141.09  0.278388\n",
       "1       PS3    106.85  0.210829\n",
       "2      X360     74.52  0.147037\n",
       "3      XOne     51.59  0.101794\n",
       "4       3DS     42.64  0.084134\n",
       "5        PC     37.76  0.074505\n",
       "6      WiiU     25.13  0.049585\n",
       "7       Wii     11.92  0.023520\n",
       "8       PSV     11.36  0.022415\n",
       "9        DS      3.53  0.006965\n",
       "10      PSP      0.42  0.000829"
      ]
     },
     "execution_count": 82,
     "metadata": {},
     "output_type": "execute_result"
    }
   ],
   "source": [
    "data_eu['share'] = data_eu['eu_sales']/data_eu['eu_sales'].sum()\n",
    "data_eu"
   ]
  },
  {
   "cell_type": "code",
   "execution_count": 83,
   "metadata": {},
   "outputs": [
    {
     "data": {
      "image/png": "[encoded data removed]",
      "text/plain": [
       "<Figure size 432x288 with 1 Axes>"
      ]
     },
     "metadata": {
      "needs_background": "light"
     },
     "output_type": "display_data"
    }
   ],
   "source": [
    "bar = seaborn.barplot(x='platform',\n",
    "            y='share',\n",
    "            data=data_eu.head(5),\n",
    "            palette=['lightblue', 'blue'])\n",
    "\n",
    "bar.set(xlabel='Платформа', ylabel='Доля продаж');"
   ]
  },
  {
   "cell_type": "markdown",
   "metadata": {},
   "source": [
    "В Европе абсолютное лидерство имеют платформы от SONY - PS4 и PS3 - 27.8% и 21% соответственно. Затем, идут платформы от Microsoft - X360 и XOne - 14.7% и 10.1% соответственно. Замыкает пятерку (также, как и в NA регионе) - 3DS, 8.4%"
   ]
  },
  {
   "cell_type": "markdown",
   "metadata": {},
   "source": [
    "Гистограмма для JP региона"
   ]
  },
  {
   "cell_type": "code",
   "execution_count": 84,
   "metadata": {},
   "outputs": [
    {
     "data": {
      "text/html": [
       "<div>\n",
       "<style scoped>\n",
       "    .dataframe tbody tr th:only-of-type {\n",
       "        vertical-align: middle;\n",
       "    }\n",
       "\n",
       "    .dataframe tbody tr th {\n",
       "        vertical-align: top;\n",
       "    }\n",
       "\n",
       "    .dataframe thead th {\n",
       "        text-align: right;\n",
       "    }\n",
       "</style>\n",
       "<table border=\"1\" class=\"dataframe\">\n",
       "  <thead>\n",
       "    <tr style=\"text-align: right;\">\n",
       "      <th></th>\n",
       "      <th>platform</th>\n",
       "      <th>jp_sales</th>\n",
       "    </tr>\n",
       "  </thead>\n",
       "  <tbody>\n",
       "    <tr>\n",
       "      <th>0</th>\n",
       "      <td>3DS</td>\n",
       "      <td>87.79</td>\n",
       "    </tr>\n",
       "    <tr>\n",
       "      <th>1</th>\n",
       "      <td>PS3</td>\n",
       "      <td>35.29</td>\n",
       "    </tr>\n",
       "    <tr>\n",
       "      <th>2</th>\n",
       "      <td>PSV</td>\n",
       "      <td>21.04</td>\n",
       "    </tr>\n",
       "    <tr>\n",
       "      <th>3</th>\n",
       "      <td>PS4</td>\n",
       "      <td>15.96</td>\n",
       "    </tr>\n",
       "    <tr>\n",
       "      <th>4</th>\n",
       "      <td>WiiU</td>\n",
       "      <td>13.01</td>\n",
       "    </tr>\n",
       "    <tr>\n",
       "      <th>5</th>\n",
       "      <td>PSP</td>\n",
       "      <td>10.47</td>\n",
       "    </tr>\n",
       "    <tr>\n",
       "      <th>6</th>\n",
       "      <td>DS</td>\n",
       "      <td>3.72</td>\n",
       "    </tr>\n",
       "    <tr>\n",
       "      <th>7</th>\n",
       "      <td>Wii</td>\n",
       "      <td>3.39</td>\n",
       "    </tr>\n",
       "    <tr>\n",
       "      <th>8</th>\n",
       "      <td>X360</td>\n",
       "      <td>1.57</td>\n",
       "    </tr>\n",
       "    <tr>\n",
       "      <th>9</th>\n",
       "      <td>XOne</td>\n",
       "      <td>0.34</td>\n",
       "    </tr>\n",
       "    <tr>\n",
       "      <th>10</th>\n",
       "      <td>PC</td>\n",
       "      <td>0.00</td>\n",
       "    </tr>\n",
       "  </tbody>\n",
       "</table>\n",
       "</div>"
      ],
      "text/plain": [
       "   platform  jp_sales\n",
       "0       3DS     87.79\n",
       "1       PS3     35.29\n",
       "2       PSV     21.04\n",
       "3       PS4     15.96\n",
       "4      WiiU     13.01\n",
       "5       PSP     10.47\n",
       "6        DS      3.72\n",
       "7       Wii      3.39\n",
       "8      X360      1.57\n",
       "9      XOne      0.34\n",
       "10       PC      0.00"
      ]
     },
     "execution_count": 84,
     "metadata": {},
     "output_type": "execute_result"
    }
   ],
   "source": [
    "data_jp = data.groupby('platform', as_index=False)['jp_sales'].sum().sort_values(by='jp_sales', ascending=False)\n",
    "# сгруппируем по продажам каждой платформы и внесем в переменную data_eu\n",
    "data_jp = data_jp.reset_index(drop=True) # обновим индексы\n",
    "data_jp"
   ]
  },
  {
   "cell_type": "code",
   "execution_count": 85,
   "metadata": {},
   "outputs": [
    {
     "data": {
      "text/html": [
       "<div>\n",
       "<style scoped>\n",
       "    .dataframe tbody tr th:only-of-type {\n",
       "        vertical-align: middle;\n",
       "    }\n",
       "\n",
       "    .dataframe tbody tr th {\n",
       "        vertical-align: top;\n",
       "    }\n",
       "\n",
       "    .dataframe thead th {\n",
       "        text-align: right;\n",
       "    }\n",
       "</style>\n",
       "<table border=\"1\" class=\"dataframe\">\n",
       "  <thead>\n",
       "    <tr style=\"text-align: right;\">\n",
       "      <th></th>\n",
       "      <th>platform</th>\n",
       "      <th>jp_sales</th>\n",
       "      <th>share</th>\n",
       "    </tr>\n",
       "  </thead>\n",
       "  <tbody>\n",
       "    <tr>\n",
       "      <th>0</th>\n",
       "      <td>3DS</td>\n",
       "      <td>87.79</td>\n",
       "      <td>0.455862</td>\n",
       "    </tr>\n",
       "    <tr>\n",
       "      <th>1</th>\n",
       "      <td>PS3</td>\n",
       "      <td>35.29</td>\n",
       "      <td>0.183249</td>\n",
       "    </tr>\n",
       "    <tr>\n",
       "      <th>2</th>\n",
       "      <td>PSV</td>\n",
       "      <td>21.04</td>\n",
       "      <td>0.109253</td>\n",
       "    </tr>\n",
       "    <tr>\n",
       "      <th>3</th>\n",
       "      <td>PS4</td>\n",
       "      <td>15.96</td>\n",
       "      <td>0.082875</td>\n",
       "    </tr>\n",
       "    <tr>\n",
       "      <th>4</th>\n",
       "      <td>WiiU</td>\n",
       "      <td>13.01</td>\n",
       "      <td>0.067556</td>\n",
       "    </tr>\n",
       "    <tr>\n",
       "      <th>5</th>\n",
       "      <td>PSP</td>\n",
       "      <td>10.47</td>\n",
       "      <td>0.054367</td>\n",
       "    </tr>\n",
       "    <tr>\n",
       "      <th>6</th>\n",
       "      <td>DS</td>\n",
       "      <td>3.72</td>\n",
       "      <td>0.019317</td>\n",
       "    </tr>\n",
       "    <tr>\n",
       "      <th>7</th>\n",
       "      <td>Wii</td>\n",
       "      <td>3.39</td>\n",
       "      <td>0.017603</td>\n",
       "    </tr>\n",
       "    <tr>\n",
       "      <th>8</th>\n",
       "      <td>X360</td>\n",
       "      <td>1.57</td>\n",
       "      <td>0.008152</td>\n",
       "    </tr>\n",
       "    <tr>\n",
       "      <th>9</th>\n",
       "      <td>XOne</td>\n",
       "      <td>0.34</td>\n",
       "      <td>0.001766</td>\n",
       "    </tr>\n",
       "    <tr>\n",
       "      <th>10</th>\n",
       "      <td>PC</td>\n",
       "      <td>0.00</td>\n",
       "      <td>0.000000</td>\n",
       "    </tr>\n",
       "  </tbody>\n",
       "</table>\n",
       "</div>"
      ],
      "text/plain": [
       "   platform  jp_sales     share\n",
       "0       3DS     87.79  0.455862\n",
       "1       PS3     35.29  0.183249\n",
       "2       PSV     21.04  0.109253\n",
       "3       PS4     15.96  0.082875\n",
       "4      WiiU     13.01  0.067556\n",
       "5       PSP     10.47  0.054367\n",
       "6        DS      3.72  0.019317\n",
       "7       Wii      3.39  0.017603\n",
       "8      X360      1.57  0.008152\n",
       "9      XOne      0.34  0.001766\n",
       "10       PC      0.00  0.000000"
      ]
     },
     "execution_count": 85,
     "metadata": {},
     "output_type": "execute_result"
    }
   ],
   "source": [
    "data_jp['share'] = data_jp['jp_sales']/data_jp['jp_sales'].sum()\n",
    "data_jp"
   ]
  },
  {
   "cell_type": "code",
   "execution_count": 86,
   "metadata": {},
   "outputs": [
    {
     "data": {
      "image/png": "[encoded data removed]",
      "text/plain": [
       "<Figure size 432x288 with 1 Axes>"
      ]
     },
     "metadata": {
      "needs_background": "light"
     },
     "output_type": "display_data"
    }
   ],
   "source": [
    "bar = seaborn.barplot(x='platform',\n",
    "            y='share',\n",
    "            data=data_jp.head(5),\n",
    "            palette=['lightblue', 'blue'])\n",
    "\n",
    "bar.set(xlabel='Платформа', ylabel='Доля продаж');"
   ]
  },
  {
   "cell_type": "markdown",
   "metadata": {},
   "source": [
    "В Японии заметное лидерство удерживает приставка от Nintendo 3DS - 45.6%. С большим отрывом на втором месте Ps3 - 18.3%. Затем, PSV - 10.1%. PS4 - 8.3%. Замыкает пятерку WiiU - 6.8%.\n",
    "<br> Можно обратить внимание, что в Японии заметно отличается распределение ТОП5 платформ по продажам </br>"
   ]
  },
  {
   "cell_type": "markdown",
   "metadata": {},
   "source": [
    "#### Самые популярные жанры"
   ]
  },
  {
   "cell_type": "markdown",
   "metadata": {},
   "source": [
    "Построим гистограммы для определения доли самых популярных жанров"
   ]
  },
  {
   "cell_type": "markdown",
   "metadata": {},
   "source": [
    "Гистограмма для NA региона"
   ]
  },
  {
   "cell_type": "code",
   "execution_count": 87,
   "metadata": {},
   "outputs": [
    {
     "data": {
      "text/html": [
       "<div>\n",
       "<style scoped>\n",
       "    .dataframe tbody tr th:only-of-type {\n",
       "        vertical-align: middle;\n",
       "    }\n",
       "\n",
       "    .dataframe tbody tr th {\n",
       "        vertical-align: top;\n",
       "    }\n",
       "\n",
       "    .dataframe thead th {\n",
       "        text-align: right;\n",
       "    }\n",
       "</style>\n",
       "<table border=\"1\" class=\"dataframe\">\n",
       "  <thead>\n",
       "    <tr style=\"text-align: right;\">\n",
       "      <th></th>\n",
       "      <th>genre</th>\n",
       "      <th>na_sales</th>\n",
       "    </tr>\n",
       "  </thead>\n",
       "  <tbody>\n",
       "    <tr>\n",
       "      <th>0</th>\n",
       "      <td>Action</td>\n",
       "      <td>177.84</td>\n",
       "    </tr>\n",
       "    <tr>\n",
       "      <th>1</th>\n",
       "      <td>Shooter</td>\n",
       "      <td>144.77</td>\n",
       "    </tr>\n",
       "    <tr>\n",
       "      <th>2</th>\n",
       "      <td>Sports</td>\n",
       "      <td>81.53</td>\n",
       "    </tr>\n",
       "    <tr>\n",
       "      <th>3</th>\n",
       "      <td>Role-Playing</td>\n",
       "      <td>64.00</td>\n",
       "    </tr>\n",
       "    <tr>\n",
       "      <th>4</th>\n",
       "      <td>Misc</td>\n",
       "      <td>38.19</td>\n",
       "    </tr>\n",
       "    <tr>\n",
       "      <th>5</th>\n",
       "      <td>Platform</td>\n",
       "      <td>25.38</td>\n",
       "    </tr>\n",
       "    <tr>\n",
       "      <th>6</th>\n",
       "      <td>Fighting</td>\n",
       "      <td>19.79</td>\n",
       "    </tr>\n",
       "    <tr>\n",
       "      <th>7</th>\n",
       "      <td>Racing</td>\n",
       "      <td>17.22</td>\n",
       "    </tr>\n",
       "    <tr>\n",
       "      <th>8</th>\n",
       "      <td>Adventure</td>\n",
       "      <td>8.92</td>\n",
       "    </tr>\n",
       "    <tr>\n",
       "      <th>9</th>\n",
       "      <td>Simulation</td>\n",
       "      <td>7.97</td>\n",
       "    </tr>\n",
       "    <tr>\n",
       "      <th>10</th>\n",
       "      <td>Strategy</td>\n",
       "      <td>4.23</td>\n",
       "    </tr>\n",
       "    <tr>\n",
       "      <th>11</th>\n",
       "      <td>Puzzle</td>\n",
       "      <td>1.13</td>\n",
       "    </tr>\n",
       "  </tbody>\n",
       "</table>\n",
       "</div>"
      ],
      "text/plain": [
       "           genre  na_sales\n",
       "0         Action    177.84\n",
       "1        Shooter    144.77\n",
       "2         Sports     81.53\n",
       "3   Role-Playing     64.00\n",
       "4           Misc     38.19\n",
       "5       Platform     25.38\n",
       "6       Fighting     19.79\n",
       "7         Racing     17.22\n",
       "8      Adventure      8.92\n",
       "9     Simulation      7.97\n",
       "10      Strategy      4.23\n",
       "11        Puzzle      1.13"
      ]
     },
     "execution_count": 87,
     "metadata": {},
     "output_type": "execute_result"
    }
   ],
   "source": [
    "data_na_genre = data.groupby('genre', as_index=False)['na_sales'].sum().sort_values(by='na_sales', ascending=False)\n",
    "# сгруппируем по продажам каждой платформы и внесем в переменную data_na_genre\n",
    "data_na_genre = data_na_genre.reset_index(drop=True) # обновим индексы\n",
    "data_na_genre"
   ]
  },
  {
   "cell_type": "code",
   "execution_count": 88,
   "metadata": {},
   "outputs": [
    {
     "data": {
      "text/html": [
       "<div>\n",
       "<style scoped>\n",
       "    .dataframe tbody tr th:only-of-type {\n",
       "        vertical-align: middle;\n",
       "    }\n",
       "\n",
       "    .dataframe tbody tr th {\n",
       "        vertical-align: top;\n",
       "    }\n",
       "\n",
       "    .dataframe thead th {\n",
       "        text-align: right;\n",
       "    }\n",
       "</style>\n",
       "<table border=\"1\" class=\"dataframe\">\n",
       "  <thead>\n",
       "    <tr style=\"text-align: right;\">\n",
       "      <th></th>\n",
       "      <th>genre</th>\n",
       "      <th>na_sales</th>\n",
       "      <th>share</th>\n",
       "    </tr>\n",
       "  </thead>\n",
       "  <tbody>\n",
       "    <tr>\n",
       "      <th>0</th>\n",
       "      <td>Action</td>\n",
       "      <td>177.84</td>\n",
       "      <td>0.300929</td>\n",
       "    </tr>\n",
       "    <tr>\n",
       "      <th>1</th>\n",
       "      <td>Shooter</td>\n",
       "      <td>144.77</td>\n",
       "      <td>0.244970</td>\n",
       "    </tr>\n",
       "    <tr>\n",
       "      <th>2</th>\n",
       "      <td>Sports</td>\n",
       "      <td>81.53</td>\n",
       "      <td>0.137960</td>\n",
       "    </tr>\n",
       "    <tr>\n",
       "      <th>3</th>\n",
       "      <td>Role-Playing</td>\n",
       "      <td>64.00</td>\n",
       "      <td>0.108297</td>\n",
       "    </tr>\n",
       "    <tr>\n",
       "      <th>4</th>\n",
       "      <td>Misc</td>\n",
       "      <td>38.19</td>\n",
       "      <td>0.064623</td>\n",
       "    </tr>\n",
       "    <tr>\n",
       "      <th>5</th>\n",
       "      <td>Platform</td>\n",
       "      <td>25.38</td>\n",
       "      <td>0.042946</td>\n",
       "    </tr>\n",
       "    <tr>\n",
       "      <th>6</th>\n",
       "      <td>Fighting</td>\n",
       "      <td>19.79</td>\n",
       "      <td>0.033487</td>\n",
       "    </tr>\n",
       "    <tr>\n",
       "      <th>7</th>\n",
       "      <td>Racing</td>\n",
       "      <td>17.22</td>\n",
       "      <td>0.029139</td>\n",
       "    </tr>\n",
       "    <tr>\n",
       "      <th>8</th>\n",
       "      <td>Adventure</td>\n",
       "      <td>8.92</td>\n",
       "      <td>0.015094</td>\n",
       "    </tr>\n",
       "    <tr>\n",
       "      <th>9</th>\n",
       "      <td>Simulation</td>\n",
       "      <td>7.97</td>\n",
       "      <td>0.013486</td>\n",
       "    </tr>\n",
       "    <tr>\n",
       "      <th>10</th>\n",
       "      <td>Strategy</td>\n",
       "      <td>4.23</td>\n",
       "      <td>0.007158</td>\n",
       "    </tr>\n",
       "    <tr>\n",
       "      <th>11</th>\n",
       "      <td>Puzzle</td>\n",
       "      <td>1.13</td>\n",
       "      <td>0.001912</td>\n",
       "    </tr>\n",
       "  </tbody>\n",
       "</table>\n",
       "</div>"
      ],
      "text/plain": [
       "           genre  na_sales     share\n",
       "0         Action    177.84  0.300929\n",
       "1        Shooter    144.77  0.244970\n",
       "2         Sports     81.53  0.137960\n",
       "3   Role-Playing     64.00  0.108297\n",
       "4           Misc     38.19  0.064623\n",
       "5       Platform     25.38  0.042946\n",
       "6       Fighting     19.79  0.033487\n",
       "7         Racing     17.22  0.029139\n",
       "8      Adventure      8.92  0.015094\n",
       "9     Simulation      7.97  0.013486\n",
       "10      Strategy      4.23  0.007158\n",
       "11        Puzzle      1.13  0.001912"
      ]
     },
     "execution_count": 88,
     "metadata": {},
     "output_type": "execute_result"
    }
   ],
   "source": [
    "data_na_genre['share'] = data_na_genre['na_sales']/data_na_genre['na_sales'].sum()\n",
    "data_na_genre"
   ]
  },
  {
   "cell_type": "code",
   "execution_count": 89,
   "metadata": {},
   "outputs": [
    {
     "data": {
      "image/png": "[encoded data removed]",
      "text/plain": [
       "<Figure size 432x288 with 1 Axes>"
      ]
     },
     "metadata": {
      "needs_background": "light"
     },
     "output_type": "display_data"
    }
   ],
   "source": [
    "bar = seaborn.barplot(x='genre',\n",
    "            y='share',\n",
    "            data=data_na_genre.head(5),\n",
    "            palette=['lightblue', 'blue'])\n",
    "\n",
    "bar.set(xlabel='Жанр', ylabel='Доля продаж');"
   ]
  },
  {
   "cell_type": "markdown",
   "metadata": {},
   "source": [
    "Исходя из данных, можно сделать вывод, что самым популярным жанром является Action - 30% всех продаж. Затем, идёт жанр Shooter - 24.5%. Sports - 13.8%. Role-Playing - 10.8%. Замыкает пятёрку Misc - 6.5%. "
   ]
  },
  {
   "cell_type": "markdown",
   "metadata": {},
   "source": [
    "Гистограмма для EU региона"
   ]
  },
  {
   "cell_type": "code",
   "execution_count": 90,
   "metadata": {},
   "outputs": [
    {
     "data": {
      "text/html": [
       "<div>\n",
       "<style scoped>\n",
       "    .dataframe tbody tr th:only-of-type {\n",
       "        vertical-align: middle;\n",
       "    }\n",
       "\n",
       "    .dataframe tbody tr th {\n",
       "        vertical-align: top;\n",
       "    }\n",
       "\n",
       "    .dataframe thead th {\n",
       "        text-align: right;\n",
       "    }\n",
       "</style>\n",
       "<table border=\"1\" class=\"dataframe\">\n",
       "  <thead>\n",
       "    <tr style=\"text-align: right;\">\n",
       "      <th></th>\n",
       "      <th>genre</th>\n",
       "      <th>eu_sales</th>\n",
       "    </tr>\n",
       "  </thead>\n",
       "  <tbody>\n",
       "    <tr>\n",
       "      <th>0</th>\n",
       "      <td>Action</td>\n",
       "      <td>159.34</td>\n",
       "    </tr>\n",
       "    <tr>\n",
       "      <th>1</th>\n",
       "      <td>Shooter</td>\n",
       "      <td>113.47</td>\n",
       "    </tr>\n",
       "    <tr>\n",
       "      <th>2</th>\n",
       "      <td>Sports</td>\n",
       "      <td>69.08</td>\n",
       "    </tr>\n",
       "    <tr>\n",
       "      <th>3</th>\n",
       "      <td>Role-Playing</td>\n",
       "      <td>48.53</td>\n",
       "    </tr>\n",
       "    <tr>\n",
       "      <th>4</th>\n",
       "      <td>Racing</td>\n",
       "      <td>27.29</td>\n",
       "    </tr>\n",
       "    <tr>\n",
       "      <th>5</th>\n",
       "      <td>Misc</td>\n",
       "      <td>26.32</td>\n",
       "    </tr>\n",
       "    <tr>\n",
       "      <th>6</th>\n",
       "      <td>Platform</td>\n",
       "      <td>21.41</td>\n",
       "    </tr>\n",
       "    <tr>\n",
       "      <th>7</th>\n",
       "      <td>Simulation</td>\n",
       "      <td>14.55</td>\n",
       "    </tr>\n",
       "    <tr>\n",
       "      <th>8</th>\n",
       "      <td>Fighting</td>\n",
       "      <td>10.79</td>\n",
       "    </tr>\n",
       "    <tr>\n",
       "      <th>9</th>\n",
       "      <td>Adventure</td>\n",
       "      <td>9.46</td>\n",
       "    </tr>\n",
       "    <tr>\n",
       "      <th>10</th>\n",
       "      <td>Strategy</td>\n",
       "      <td>5.17</td>\n",
       "    </tr>\n",
       "    <tr>\n",
       "      <th>11</th>\n",
       "      <td>Puzzle</td>\n",
       "      <td>1.40</td>\n",
       "    </tr>\n",
       "  </tbody>\n",
       "</table>\n",
       "</div>"
      ],
      "text/plain": [
       "           genre  eu_sales\n",
       "0         Action    159.34\n",
       "1        Shooter    113.47\n",
       "2         Sports     69.08\n",
       "3   Role-Playing     48.53\n",
       "4         Racing     27.29\n",
       "5           Misc     26.32\n",
       "6       Platform     21.41\n",
       "7     Simulation     14.55\n",
       "8       Fighting     10.79\n",
       "9      Adventure      9.46\n",
       "10      Strategy      5.17\n",
       "11        Puzzle      1.40"
      ]
     },
     "execution_count": 90,
     "metadata": {},
     "output_type": "execute_result"
    }
   ],
   "source": [
    "data_eu_genre = data.groupby('genre', as_index=False)['eu_sales'].sum().sort_values(by='eu_sales', ascending=False)\n",
    "# сгруппируем по продажам каждой платформы и внесем в переменную data_na_genre\n",
    "data_eu_genre = data_eu_genre.reset_index(drop=True) # обновим индексы\n",
    "data_eu_genre"
   ]
  },
  {
   "cell_type": "code",
   "execution_count": 91,
   "metadata": {},
   "outputs": [
    {
     "data": {
      "text/html": [
       "<div>\n",
       "<style scoped>\n",
       "    .dataframe tbody tr th:only-of-type {\n",
       "        vertical-align: middle;\n",
       "    }\n",
       "\n",
       "    .dataframe tbody tr th {\n",
       "        vertical-align: top;\n",
       "    }\n",
       "\n",
       "    .dataframe thead th {\n",
       "        text-align: right;\n",
       "    }\n",
       "</style>\n",
       "<table border=\"1\" class=\"dataframe\">\n",
       "  <thead>\n",
       "    <tr style=\"text-align: right;\">\n",
       "      <th></th>\n",
       "      <th>genre</th>\n",
       "      <th>eu_sales</th>\n",
       "      <th>share</th>\n",
       "    </tr>\n",
       "  </thead>\n",
       "  <tbody>\n",
       "    <tr>\n",
       "      <th>0</th>\n",
       "      <td>Action</td>\n",
       "      <td>159.34</td>\n",
       "      <td>0.314398</td>\n",
       "    </tr>\n",
       "    <tr>\n",
       "      <th>1</th>\n",
       "      <td>Shooter</td>\n",
       "      <td>113.47</td>\n",
       "      <td>0.223891</td>\n",
       "    </tr>\n",
       "    <tr>\n",
       "      <th>2</th>\n",
       "      <td>Sports</td>\n",
       "      <td>69.08</td>\n",
       "      <td>0.136304</td>\n",
       "    </tr>\n",
       "    <tr>\n",
       "      <th>3</th>\n",
       "      <td>Role-Playing</td>\n",
       "      <td>48.53</td>\n",
       "      <td>0.095756</td>\n",
       "    </tr>\n",
       "    <tr>\n",
       "      <th>4</th>\n",
       "      <td>Racing</td>\n",
       "      <td>27.29</td>\n",
       "      <td>0.053847</td>\n",
       "    </tr>\n",
       "    <tr>\n",
       "      <th>5</th>\n",
       "      <td>Misc</td>\n",
       "      <td>26.32</td>\n",
       "      <td>0.051933</td>\n",
       "    </tr>\n",
       "    <tr>\n",
       "      <th>6</th>\n",
       "      <td>Platform</td>\n",
       "      <td>21.41</td>\n",
       "      <td>0.042245</td>\n",
       "    </tr>\n",
       "    <tr>\n",
       "      <th>7</th>\n",
       "      <td>Simulation</td>\n",
       "      <td>14.55</td>\n",
       "      <td>0.028709</td>\n",
       "    </tr>\n",
       "    <tr>\n",
       "      <th>8</th>\n",
       "      <td>Fighting</td>\n",
       "      <td>10.79</td>\n",
       "      <td>0.021290</td>\n",
       "    </tr>\n",
       "    <tr>\n",
       "      <th>9</th>\n",
       "      <td>Adventure</td>\n",
       "      <td>9.46</td>\n",
       "      <td>0.018666</td>\n",
       "    </tr>\n",
       "    <tr>\n",
       "      <th>10</th>\n",
       "      <td>Strategy</td>\n",
       "      <td>5.17</td>\n",
       "      <td>0.010201</td>\n",
       "    </tr>\n",
       "    <tr>\n",
       "      <th>11</th>\n",
       "      <td>Puzzle</td>\n",
       "      <td>1.40</td>\n",
       "      <td>0.002762</td>\n",
       "    </tr>\n",
       "  </tbody>\n",
       "</table>\n",
       "</div>"
      ],
      "text/plain": [
       "           genre  eu_sales     share\n",
       "0         Action    159.34  0.314398\n",
       "1        Shooter    113.47  0.223891\n",
       "2         Sports     69.08  0.136304\n",
       "3   Role-Playing     48.53  0.095756\n",
       "4         Racing     27.29  0.053847\n",
       "5           Misc     26.32  0.051933\n",
       "6       Platform     21.41  0.042245\n",
       "7     Simulation     14.55  0.028709\n",
       "8       Fighting     10.79  0.021290\n",
       "9      Adventure      9.46  0.018666\n",
       "10      Strategy      5.17  0.010201\n",
       "11        Puzzle      1.40  0.002762"
      ]
     },
     "execution_count": 91,
     "metadata": {},
     "output_type": "execute_result"
    }
   ],
   "source": [
    "data_eu_genre['share'] = data_eu_genre['eu_sales']/data_eu_genre['eu_sales'].sum()\n",
    "data_eu_genre"
   ]
  },
  {
   "cell_type": "code",
   "execution_count": 92,
   "metadata": {},
   "outputs": [
    {
     "data": {
      "image/png": "[encoded data removed]",
      "text/plain": [
       "<Figure size 432x288 with 1 Axes>"
      ]
     },
     "metadata": {
      "needs_background": "light"
     },
     "output_type": "display_data"
    }
   ],
   "source": [
    "bar = seaborn.barplot(x='genre',\n",
    "            y='share',\n",
    "            data=data_eu_genre.head(5),\n",
    "            palette=['lightblue', 'blue'])\n",
    "\n",
    "bar.set(xlabel='Жанр', ylabel='Доля продаж');"
   ]
  },
  {
   "cell_type": "markdown",
   "metadata": {},
   "source": [
    "Также, как и в NA регионе лидируют Action и Shooter - 31.5% и 22.4% соответственно. Далее, жанр Sports - 13.6%. Role-Playing - 9.6%. Замыкает пятерку жанр Racing - 5.4%"
   ]
  },
  {
   "cell_type": "markdown",
   "metadata": {},
   "source": [
    "Гистограмма для JP региона"
   ]
  },
  {
   "cell_type": "code",
   "execution_count": 93,
   "metadata": {},
   "outputs": [
    {
     "data": {
      "text/html": [
       "<div>\n",
       "<style scoped>\n",
       "    .dataframe tbody tr th:only-of-type {\n",
       "        vertical-align: middle;\n",
       "    }\n",
       "\n",
       "    .dataframe tbody tr th {\n",
       "        vertical-align: top;\n",
       "    }\n",
       "\n",
       "    .dataframe thead th {\n",
       "        text-align: right;\n",
       "    }\n",
       "</style>\n",
       "<table border=\"1\" class=\"dataframe\">\n",
       "  <thead>\n",
       "    <tr style=\"text-align: right;\">\n",
       "      <th></th>\n",
       "      <th>genre</th>\n",
       "      <th>jp_sales</th>\n",
       "    </tr>\n",
       "  </thead>\n",
       "  <tbody>\n",
       "    <tr>\n",
       "      <th>0</th>\n",
       "      <td>Role-Playing</td>\n",
       "      <td>65.44</td>\n",
       "    </tr>\n",
       "    <tr>\n",
       "      <th>1</th>\n",
       "      <td>Action</td>\n",
       "      <td>52.80</td>\n",
       "    </tr>\n",
       "    <tr>\n",
       "      <th>2</th>\n",
       "      <td>Misc</td>\n",
       "      <td>12.86</td>\n",
       "    </tr>\n",
       "    <tr>\n",
       "      <th>3</th>\n",
       "      <td>Simulation</td>\n",
       "      <td>10.41</td>\n",
       "    </tr>\n",
       "    <tr>\n",
       "      <th>4</th>\n",
       "      <td>Fighting</td>\n",
       "      <td>9.44</td>\n",
       "    </tr>\n",
       "    <tr>\n",
       "      <th>5</th>\n",
       "      <td>Shooter</td>\n",
       "      <td>9.23</td>\n",
       "    </tr>\n",
       "    <tr>\n",
       "      <th>6</th>\n",
       "      <td>Platform</td>\n",
       "      <td>8.63</td>\n",
       "    </tr>\n",
       "    <tr>\n",
       "      <th>7</th>\n",
       "      <td>Adventure</td>\n",
       "      <td>8.24</td>\n",
       "    </tr>\n",
       "    <tr>\n",
       "      <th>8</th>\n",
       "      <td>Sports</td>\n",
       "      <td>8.01</td>\n",
       "    </tr>\n",
       "    <tr>\n",
       "      <th>9</th>\n",
       "      <td>Strategy</td>\n",
       "      <td>2.88</td>\n",
       "    </tr>\n",
       "    <tr>\n",
       "      <th>10</th>\n",
       "      <td>Racing</td>\n",
       "      <td>2.50</td>\n",
       "    </tr>\n",
       "    <tr>\n",
       "      <th>11</th>\n",
       "      <td>Puzzle</td>\n",
       "      <td>2.14</td>\n",
       "    </tr>\n",
       "  </tbody>\n",
       "</table>\n",
       "</div>"
      ],
      "text/plain": [
       "           genre  jp_sales\n",
       "0   Role-Playing     65.44\n",
       "1         Action     52.80\n",
       "2           Misc     12.86\n",
       "3     Simulation     10.41\n",
       "4       Fighting      9.44\n",
       "5        Shooter      9.23\n",
       "6       Platform      8.63\n",
       "7      Adventure      8.24\n",
       "8         Sports      8.01\n",
       "9       Strategy      2.88\n",
       "10        Racing      2.50\n",
       "11        Puzzle      2.14"
      ]
     },
     "execution_count": 93,
     "metadata": {},
     "output_type": "execute_result"
    }
   ],
   "source": [
    "data_jp_genre = data.groupby('genre', as_index=False)['jp_sales'].sum().sort_values(by='jp_sales', ascending=False)\n",
    "# сгруппируем по продажам каждой платформы и внесем в переменную data_jp_genre\n",
    "data_jp_genre = data_jp_genre.reset_index(drop=True) # обновим индексы\n",
    "data_jp_genre"
   ]
  },
  {
   "cell_type": "code",
   "execution_count": 94,
   "metadata": {},
   "outputs": [
    {
     "data": {
      "text/html": [
       "<div>\n",
       "<style scoped>\n",
       "    .dataframe tbody tr th:only-of-type {\n",
       "        vertical-align: middle;\n",
       "    }\n",
       "\n",
       "    .dataframe tbody tr th {\n",
       "        vertical-align: top;\n",
       "    }\n",
       "\n",
       "    .dataframe thead th {\n",
       "        text-align: right;\n",
       "    }\n",
       "</style>\n",
       "<table border=\"1\" class=\"dataframe\">\n",
       "  <thead>\n",
       "    <tr style=\"text-align: right;\">\n",
       "      <th></th>\n",
       "      <th>genre</th>\n",
       "      <th>jp_sales</th>\n",
       "      <th>share</th>\n",
       "    </tr>\n",
       "  </thead>\n",
       "  <tbody>\n",
       "    <tr>\n",
       "      <th>0</th>\n",
       "      <td>Role-Playing</td>\n",
       "      <td>65.44</td>\n",
       "      <td>0.339807</td>\n",
       "    </tr>\n",
       "    <tr>\n",
       "      <th>1</th>\n",
       "      <td>Action</td>\n",
       "      <td>52.80</td>\n",
       "      <td>0.274172</td>\n",
       "    </tr>\n",
       "    <tr>\n",
       "      <th>2</th>\n",
       "      <td>Misc</td>\n",
       "      <td>12.86</td>\n",
       "      <td>0.066777</td>\n",
       "    </tr>\n",
       "    <tr>\n",
       "      <th>3</th>\n",
       "      <td>Simulation</td>\n",
       "      <td>10.41</td>\n",
       "      <td>0.054055</td>\n",
       "    </tr>\n",
       "    <tr>\n",
       "      <th>4</th>\n",
       "      <td>Fighting</td>\n",
       "      <td>9.44</td>\n",
       "      <td>0.049019</td>\n",
       "    </tr>\n",
       "    <tr>\n",
       "      <th>5</th>\n",
       "      <td>Shooter</td>\n",
       "      <td>9.23</td>\n",
       "      <td>0.047928</td>\n",
       "    </tr>\n",
       "    <tr>\n",
       "      <th>6</th>\n",
       "      <td>Platform</td>\n",
       "      <td>8.63</td>\n",
       "      <td>0.044813</td>\n",
       "    </tr>\n",
       "    <tr>\n",
       "      <th>7</th>\n",
       "      <td>Adventure</td>\n",
       "      <td>8.24</td>\n",
       "      <td>0.042787</td>\n",
       "    </tr>\n",
       "    <tr>\n",
       "      <th>8</th>\n",
       "      <td>Sports</td>\n",
       "      <td>8.01</td>\n",
       "      <td>0.041593</td>\n",
       "    </tr>\n",
       "    <tr>\n",
       "      <th>9</th>\n",
       "      <td>Strategy</td>\n",
       "      <td>2.88</td>\n",
       "      <td>0.014955</td>\n",
       "    </tr>\n",
       "    <tr>\n",
       "      <th>10</th>\n",
       "      <td>Racing</td>\n",
       "      <td>2.50</td>\n",
       "      <td>0.012982</td>\n",
       "    </tr>\n",
       "    <tr>\n",
       "      <th>11</th>\n",
       "      <td>Puzzle</td>\n",
       "      <td>2.14</td>\n",
       "      <td>0.011112</td>\n",
       "    </tr>\n",
       "  </tbody>\n",
       "</table>\n",
       "</div>"
      ],
      "text/plain": [
       "           genre  jp_sales     share\n",
       "0   Role-Playing     65.44  0.339807\n",
       "1         Action     52.80  0.274172\n",
       "2           Misc     12.86  0.066777\n",
       "3     Simulation     10.41  0.054055\n",
       "4       Fighting      9.44  0.049019\n",
       "5        Shooter      9.23  0.047928\n",
       "6       Platform      8.63  0.044813\n",
       "7      Adventure      8.24  0.042787\n",
       "8         Sports      8.01  0.041593\n",
       "9       Strategy      2.88  0.014955\n",
       "10        Racing      2.50  0.012982\n",
       "11        Puzzle      2.14  0.011112"
      ]
     },
     "execution_count": 94,
     "metadata": {},
     "output_type": "execute_result"
    }
   ],
   "source": [
    "data_jp_genre['share'] = data_jp_genre['jp_sales']/data_jp_genre['jp_sales'].sum()\n",
    "data_jp_genre"
   ]
  },
  {
   "cell_type": "code",
   "execution_count": 95,
   "metadata": {},
   "outputs": [
    {
     "data": {
      "image/png": "[encoded data removed]",
      "text/plain": [
       "<Figure size 432x288 with 1 Axes>"
      ]
     },
     "metadata": {
      "needs_background": "light"
     },
     "output_type": "display_data"
    }
   ],
   "source": [
    "bar = seaborn.barplot(x='genre',\n",
    "            y='share',\n",
    "            data=data_jp_genre.head(5),\n",
    "            palette=['lightblue', 'blue'])\n",
    "\n",
    "bar.set(xlabel='Жанр', ylabel='Доля продаж');"
   ]
  },
  {
   "cell_type": "markdown",
   "metadata": {},
   "source": [
    "Можно обратить внимание, что распределение по жанрам в Японии, также, заметно отличаются от остальных регионов. Первое место занимает - Role-Playing - 34%. Далее, идёт Action - 27.4%. Эти два жанра в совокупности представляют более 60% рынка. Далее, идёт Misc - 6.7%, Simulation - 5.4%, Fighting - 4.9%"
   ]
  },
  {
   "cell_type": "markdown",
   "metadata": {},
   "source": [
    "#### Влияет ли рейтинг ESRB на продажи в отдельном регионе"
   ]
  },
  {
   "cell_type": "code",
   "execution_count": 97,
   "metadata": {},
   "outputs": [
    {
     "data": {
      "text/html": [
       "<div>\n",
       "<style scoped>\n",
       "    .dataframe tbody tr th:only-of-type {\n",
       "        vertical-align: middle;\n",
       "    }\n",
       "\n",
       "    .dataframe tbody tr th {\n",
       "        vertical-align: top;\n",
       "    }\n",
       "\n",
       "    .dataframe thead th {\n",
       "        text-align: right;\n",
       "    }\n",
       "</style>\n",
       "<table border=\"1\" class=\"dataframe\">\n",
       "  <thead>\n",
       "    <tr style=\"text-align: right;\">\n",
       "      <th></th>\n",
       "      <th>rating</th>\n",
       "      <th>na_sales</th>\n",
       "    </tr>\n",
       "  </thead>\n",
       "  <tbody>\n",
       "    <tr>\n",
       "      <th>0</th>\n",
       "      <td>E</td>\n",
       "      <td>114.37</td>\n",
       "    </tr>\n",
       "    <tr>\n",
       "      <th>1</th>\n",
       "      <td>E10+</td>\n",
       "      <td>75.70</td>\n",
       "    </tr>\n",
       "    <tr>\n",
       "      <th>2</th>\n",
       "      <td>M</td>\n",
       "      <td>231.57</td>\n",
       "    </tr>\n",
       "    <tr>\n",
       "      <th>3</th>\n",
       "      <td>T</td>\n",
       "      <td>66.02</td>\n",
       "    </tr>\n",
       "    <tr>\n",
       "      <th>4</th>\n",
       "      <td>nothing</td>\n",
       "      <td>103.31</td>\n",
       "    </tr>\n",
       "  </tbody>\n",
       "</table>\n",
       "</div>"
      ],
      "text/plain": [
       "    rating  na_sales\n",
       "0        E    114.37\n",
       "1     E10+     75.70\n",
       "2        M    231.57\n",
       "3        T     66.02\n",
       "4  nothing    103.31"
      ]
     },
     "execution_count": 97,
     "metadata": {},
     "output_type": "execute_result"
    }
   ],
   "source": [
    "# группировка по NA региону и рейтингу\n",
    "data_rating = data.groupby('rating', as_index=False)['na_sales'].sum() \n",
    "# обновим индексы\n",
    "data_rating = data_rating.reset_index(drop=True) \n",
    "data_rating"
   ]
  },
  {
   "cell_type": "markdown",
   "metadata": {},
   "source": [
    "Построим круговую диаграмму для NA региона"
   ]
  },
  {
   "cell_type": "code",
   "execution_count": 99,
   "metadata": {},
   "outputs": [
    {
     "data": {
      "image/png": "[encoded data removed]",
      "text/plain": [
       "<Figure size 432x288 with 1 Axes>"
      ]
     },
     "metadata": {
      "needs_background": "light"
     },
     "output_type": "display_data"
    }
   ],
   "source": [
    "bar = seaborn.barplot(x='rating',\n",
    "            y='na_sales',\n",
    "            data=data_rating)\n",
    "\n",
    "bar.set(xlabel='Рейтинг', ylabel='Продажи в Северной Америке');"
   ]
  },
  {
   "cell_type": "markdown",
   "metadata": {},
   "source": [
    "Рассчитаем долю рынка для каждого рейтинга"
   ]
  },
  {
   "cell_type": "code",
   "execution_count": 100,
   "metadata": {},
   "outputs": [
    {
     "data": {
      "text/html": [
       "<div>\n",
       "<style scoped>\n",
       "    .dataframe tbody tr th:only-of-type {\n",
       "        vertical-align: middle;\n",
       "    }\n",
       "\n",
       "    .dataframe tbody tr th {\n",
       "        vertical-align: top;\n",
       "    }\n",
       "\n",
       "    .dataframe thead th {\n",
       "        text-align: right;\n",
       "    }\n",
       "</style>\n",
       "<table border=\"1\" class=\"dataframe\">\n",
       "  <thead>\n",
       "    <tr style=\"text-align: right;\">\n",
       "      <th></th>\n",
       "      <th>rating</th>\n",
       "      <th>na_sales</th>\n",
       "      <th>share</th>\n",
       "    </tr>\n",
       "  </thead>\n",
       "  <tbody>\n",
       "    <tr>\n",
       "      <th>0</th>\n",
       "      <td>E</td>\n",
       "      <td>114.37</td>\n",
       "      <td>0.193529</td>\n",
       "    </tr>\n",
       "    <tr>\n",
       "      <th>1</th>\n",
       "      <td>E10+</td>\n",
       "      <td>75.70</td>\n",
       "      <td>0.128094</td>\n",
       "    </tr>\n",
       "    <tr>\n",
       "      <th>2</th>\n",
       "      <td>M</td>\n",
       "      <td>231.57</td>\n",
       "      <td>0.391847</td>\n",
       "    </tr>\n",
       "    <tr>\n",
       "      <th>3</th>\n",
       "      <td>T</td>\n",
       "      <td>66.02</td>\n",
       "      <td>0.111715</td>\n",
       "    </tr>\n",
       "    <tr>\n",
       "      <th>4</th>\n",
       "      <td>nothing</td>\n",
       "      <td>103.31</td>\n",
       "      <td>0.174814</td>\n",
       "    </tr>\n",
       "  </tbody>\n",
       "</table>\n",
       "</div>"
      ],
      "text/plain": [
       "    rating  na_sales     share\n",
       "0        E    114.37  0.193529\n",
       "1     E10+     75.70  0.128094\n",
       "2        M    231.57  0.391847\n",
       "3        T     66.02  0.111715\n",
       "4  nothing    103.31  0.174814"
      ]
     },
     "execution_count": 100,
     "metadata": {},
     "output_type": "execute_result"
    }
   ],
   "source": [
    "data_rating['share'] = data_rating['na_sales']/data_rating['na_sales'].sum()\n",
    "data_rating"
   ]
  },
  {
   "cell_type": "markdown",
   "metadata": {},
   "source": [
    "В регионе NA наибольшие продажи у игр с рейтингом M (mature), для 17+ подростков и взрослых - 39.2% продаж. Далее, идёт рейтинг Е (everyone). рейтинг для всех возрастов - 19.3%. E10+, рейтинг для детей возрастом 10+ - 12.8%, и последнее место у рейтинга T (teen), игры подходящие для подростов старше 13 лет - 11.2%. Игры без рейтинга - 17.5% "
   ]
  },
  {
   "cell_type": "code",
   "execution_count": 101,
   "metadata": {},
   "outputs": [
    {
     "data": {
      "text/html": [
       "<div>\n",
       "<style scoped>\n",
       "    .dataframe tbody tr th:only-of-type {\n",
       "        vertical-align: middle;\n",
       "    }\n",
       "\n",
       "    .dataframe tbody tr th {\n",
       "        vertical-align: top;\n",
       "    }\n",
       "\n",
       "    .dataframe thead th {\n",
       "        text-align: right;\n",
       "    }\n",
       "</style>\n",
       "<table border=\"1\" class=\"dataframe\">\n",
       "  <thead>\n",
       "    <tr style=\"text-align: right;\">\n",
       "      <th></th>\n",
       "      <th>rating</th>\n",
       "      <th>eu_sales</th>\n",
       "    </tr>\n",
       "  </thead>\n",
       "  <tbody>\n",
       "    <tr>\n",
       "      <th>0</th>\n",
       "      <td>E</td>\n",
       "      <td>113.02</td>\n",
       "    </tr>\n",
       "    <tr>\n",
       "      <th>1</th>\n",
       "      <td>E10+</td>\n",
       "      <td>55.37</td>\n",
       "    </tr>\n",
       "    <tr>\n",
       "      <th>2</th>\n",
       "      <td>M</td>\n",
       "      <td>193.96</td>\n",
       "    </tr>\n",
       "    <tr>\n",
       "      <th>3</th>\n",
       "      <td>T</td>\n",
       "      <td>52.96</td>\n",
       "    </tr>\n",
       "    <tr>\n",
       "      <th>4</th>\n",
       "      <td>nothing</td>\n",
       "      <td>91.50</td>\n",
       "    </tr>\n",
       "  </tbody>\n",
       "</table>\n",
       "</div>"
      ],
      "text/plain": [
       "    rating  eu_sales\n",
       "0        E    113.02\n",
       "1     E10+     55.37\n",
       "2        M    193.96\n",
       "3        T     52.96\n",
       "4  nothing     91.50"
      ]
     },
     "execution_count": 101,
     "metadata": {},
     "output_type": "execute_result"
    }
   ],
   "source": [
    "data_rating_eu = data.groupby('rating', as_index=False)['eu_sales'].sum() # группировка по EU региону и рейтингу\n",
    "data_rating_eu = data_rating_eu.reset_index(drop=True) # обновим индексы\n",
    "data_rating_eu"
   ]
  },
  {
   "cell_type": "code",
   "execution_count": 103,
   "metadata": {},
   "outputs": [
    {
     "data": {
      "text/html": [
       "<div>\n",
       "<style scoped>\n",
       "    .dataframe tbody tr th:only-of-type {\n",
       "        vertical-align: middle;\n",
       "    }\n",
       "\n",
       "    .dataframe tbody tr th {\n",
       "        vertical-align: top;\n",
       "    }\n",
       "\n",
       "    .dataframe thead th {\n",
       "        text-align: right;\n",
       "    }\n",
       "</style>\n",
       "<table border=\"1\" class=\"dataframe\">\n",
       "  <thead>\n",
       "    <tr style=\"text-align: right;\">\n",
       "      <th></th>\n",
       "      <th>rating</th>\n",
       "      <th>eu_sales</th>\n",
       "    </tr>\n",
       "  </thead>\n",
       "  <tbody>\n",
       "    <tr>\n",
       "      <th>0</th>\n",
       "      <td>E</td>\n",
       "      <td>113.02</td>\n",
       "    </tr>\n",
       "    <tr>\n",
       "      <th>1</th>\n",
       "      <td>E10+</td>\n",
       "      <td>55.37</td>\n",
       "    </tr>\n",
       "    <tr>\n",
       "      <th>2</th>\n",
       "      <td>M</td>\n",
       "      <td>193.96</td>\n",
       "    </tr>\n",
       "    <tr>\n",
       "      <th>3</th>\n",
       "      <td>T</td>\n",
       "      <td>52.96</td>\n",
       "    </tr>\n",
       "    <tr>\n",
       "      <th>4</th>\n",
       "      <td>nothing</td>\n",
       "      <td>91.50</td>\n",
       "    </tr>\n",
       "  </tbody>\n",
       "</table>\n",
       "</div>"
      ],
      "text/plain": [
       "    rating  eu_sales\n",
       "0        E    113.02\n",
       "1     E10+     55.37\n",
       "2        M    193.96\n",
       "3        T     52.96\n",
       "4  nothing     91.50"
      ]
     },
     "execution_count": 103,
     "metadata": {},
     "output_type": "execute_result"
    }
   ],
   "source": [
    "# группировка по EU региону и рейтингу\n",
    "data_rating_eu = data.groupby('rating', as_index=False)['eu_sales'].sum() \n",
    "# обновим индексы\n",
    "data_rating_eu = data_rating_eu.reset_index(drop=True) \n",
    "data_rating_eu"
   ]
  },
  {
   "cell_type": "code",
   "execution_count": 104,
   "metadata": {},
   "outputs": [
    {
     "data": {
      "image/png": "[encoded data removed]",
      "text/plain": [
       "<Figure size 432x288 with 1 Axes>"
      ]
     },
     "metadata": {
      "needs_background": "light"
     },
     "output_type": "display_data"
    }
   ],
   "source": [
    "bar = seaborn.barplot(x='rating',\n",
    "            y='eu_sales',\n",
    "            data=data_rating_eu)\n",
    "\n",
    "bar.set(xlabel='Рейтинг', ylabel='Продажи в Европе');"
   ]
  },
  {
   "cell_type": "code",
   "execution_count": 105,
   "metadata": {},
   "outputs": [
    {
     "data": {
      "text/html": [
       "<div>\n",
       "<style scoped>\n",
       "    .dataframe tbody tr th:only-of-type {\n",
       "        vertical-align: middle;\n",
       "    }\n",
       "\n",
       "    .dataframe tbody tr th {\n",
       "        vertical-align: top;\n",
       "    }\n",
       "\n",
       "    .dataframe thead th {\n",
       "        text-align: right;\n",
       "    }\n",
       "</style>\n",
       "<table border=\"1\" class=\"dataframe\">\n",
       "  <thead>\n",
       "    <tr style=\"text-align: right;\">\n",
       "      <th></th>\n",
       "      <th>rating</th>\n",
       "      <th>eu_sales</th>\n",
       "      <th>share</th>\n",
       "    </tr>\n",
       "  </thead>\n",
       "  <tbody>\n",
       "    <tr>\n",
       "      <th>0</th>\n",
       "      <td>E</td>\n",
       "      <td>113.02</td>\n",
       "      <td>0.223003</td>\n",
       "    </tr>\n",
       "    <tr>\n",
       "      <th>1</th>\n",
       "      <td>E10+</td>\n",
       "      <td>55.37</td>\n",
       "      <td>0.109252</td>\n",
       "    </tr>\n",
       "    <tr>\n",
       "      <th>2</th>\n",
       "      <td>M</td>\n",
       "      <td>193.96</td>\n",
       "      <td>0.382708</td>\n",
       "    </tr>\n",
       "    <tr>\n",
       "      <th>3</th>\n",
       "      <td>T</td>\n",
       "      <td>52.96</td>\n",
       "      <td>0.104497</td>\n",
       "    </tr>\n",
       "    <tr>\n",
       "      <th>4</th>\n",
       "      <td>nothing</td>\n",
       "      <td>91.50</td>\n",
       "      <td>0.180541</td>\n",
       "    </tr>\n",
       "  </tbody>\n",
       "</table>\n",
       "</div>"
      ],
      "text/plain": [
       "    rating  eu_sales     share\n",
       "0        E    113.02  0.223003\n",
       "1     E10+     55.37  0.109252\n",
       "2        M    193.96  0.382708\n",
       "3        T     52.96  0.104497\n",
       "4  nothing     91.50  0.180541"
      ]
     },
     "execution_count": 105,
     "metadata": {},
     "output_type": "execute_result"
    }
   ],
   "source": [
    "data_rating_eu['share'] = data_rating_eu['eu_sales']/data_rating_eu['eu_sales'].sum()\n",
    "data_rating_eu"
   ]
  },
  {
   "cell_type": "markdown",
   "metadata": {},
   "source": [
    " <font color='4682B4'>В EU регионе распределение по рейтингу аналогичное:\n",
    "    <br> 1) M - 38.3%;</br>\n",
    "    <br>2) E- 22.3%;</br>\n",
    "    <br>3) Без рейтинга - 18%</br>\n",
    "    <br>4) E10+ - 10.9%;</br>\n",
    "    <br>4) T - 10.5%.</font>\n"
   ]
  },
  {
   "cell_type": "code",
   "execution_count": 108,
   "metadata": {},
   "outputs": [
    {
     "data": {
      "text/html": [
       "<div>\n",
       "<style scoped>\n",
       "    .dataframe tbody tr th:only-of-type {\n",
       "        vertical-align: middle;\n",
       "    }\n",
       "\n",
       "    .dataframe tbody tr th {\n",
       "        vertical-align: top;\n",
       "    }\n",
       "\n",
       "    .dataframe thead th {\n",
       "        text-align: right;\n",
       "    }\n",
       "</style>\n",
       "<table border=\"1\" class=\"dataframe\">\n",
       "  <thead>\n",
       "    <tr style=\"text-align: right;\">\n",
       "      <th></th>\n",
       "      <th>rating</th>\n",
       "      <th>jp_sales</th>\n",
       "    </tr>\n",
       "  </thead>\n",
       "  <tbody>\n",
       "    <tr>\n",
       "      <th>0</th>\n",
       "      <td>E</td>\n",
       "      <td>28.33</td>\n",
       "    </tr>\n",
       "    <tr>\n",
       "      <th>1</th>\n",
       "      <td>E10+</td>\n",
       "      <td>8.19</td>\n",
       "    </tr>\n",
       "    <tr>\n",
       "      <th>2</th>\n",
       "      <td>M</td>\n",
       "      <td>21.20</td>\n",
       "    </tr>\n",
       "    <tr>\n",
       "      <th>3</th>\n",
       "      <td>T</td>\n",
       "      <td>26.02</td>\n",
       "    </tr>\n",
       "    <tr>\n",
       "      <th>4</th>\n",
       "      <td>nothing</td>\n",
       "      <td>108.84</td>\n",
       "    </tr>\n",
       "  </tbody>\n",
       "</table>\n",
       "</div>"
      ],
      "text/plain": [
       "    rating  jp_sales\n",
       "0        E     28.33\n",
       "1     E10+      8.19\n",
       "2        M     21.20\n",
       "3        T     26.02\n",
       "4  nothing    108.84"
      ]
     },
     "execution_count": 108,
     "metadata": {},
     "output_type": "execute_result"
    }
   ],
   "source": [
    "# группировка по EU региону и рейтингу\n",
    "data_rating_jp = data.groupby('rating', as_index=False)['jp_sales'].sum() \n",
    "# обновим индексы\n",
    "data_rating_jp = data_rating_jp.reset_index(drop=True) \n",
    "data_rating_jp"
   ]
  },
  {
   "cell_type": "code",
   "execution_count": 109,
   "metadata": {},
   "outputs": [
    {
     "data": {
      "image/png": "[encoded data removed]",
      "text/plain": [
       "<Figure size 432x288 with 1 Axes>"
      ]
     },
     "metadata": {
      "needs_background": "light"
     },
     "output_type": "display_data"
    }
   ],
   "source": [
    "bar = seaborn.barplot(x='rating',\n",
    "            y='jp_sales',\n",
    "            data=data_rating_jp)\n",
    "\n",
    "bar.set(xlabel='Рейтинг', ylabel='Продажи в Японии');"
   ]
  },
  {
   "cell_type": "code",
   "execution_count": 110,
   "metadata": {},
   "outputs": [
    {
     "data": {
      "text/html": [
       "<div>\n",
       "<style scoped>\n",
       "    .dataframe tbody tr th:only-of-type {\n",
       "        vertical-align: middle;\n",
       "    }\n",
       "\n",
       "    .dataframe tbody tr th {\n",
       "        vertical-align: top;\n",
       "    }\n",
       "\n",
       "    .dataframe thead th {\n",
       "        text-align: right;\n",
       "    }\n",
       "</style>\n",
       "<table border=\"1\" class=\"dataframe\">\n",
       "  <thead>\n",
       "    <tr style=\"text-align: right;\">\n",
       "      <th></th>\n",
       "      <th>rating</th>\n",
       "      <th>jp_sales</th>\n",
       "      <th>share</th>\n",
       "    </tr>\n",
       "  </thead>\n",
       "  <tbody>\n",
       "    <tr>\n",
       "      <th>0</th>\n",
       "      <td>E</td>\n",
       "      <td>28.33</td>\n",
       "      <td>0.147108</td>\n",
       "    </tr>\n",
       "    <tr>\n",
       "      <th>1</th>\n",
       "      <td>E10+</td>\n",
       "      <td>8.19</td>\n",
       "      <td>0.042528</td>\n",
       "    </tr>\n",
       "    <tr>\n",
       "      <th>2</th>\n",
       "      <td>M</td>\n",
       "      <td>21.20</td>\n",
       "      <td>0.110084</td>\n",
       "    </tr>\n",
       "    <tr>\n",
       "      <th>3</th>\n",
       "      <td>T</td>\n",
       "      <td>26.02</td>\n",
       "      <td>0.135113</td>\n",
       "    </tr>\n",
       "    <tr>\n",
       "      <th>4</th>\n",
       "      <td>nothing</td>\n",
       "      <td>108.84</td>\n",
       "      <td>0.565168</td>\n",
       "    </tr>\n",
       "  </tbody>\n",
       "</table>\n",
       "</div>"
      ],
      "text/plain": [
       "    rating  jp_sales     share\n",
       "0        E     28.33  0.147108\n",
       "1     E10+      8.19  0.042528\n",
       "2        M     21.20  0.110084\n",
       "3        T     26.02  0.135113\n",
       "4  nothing    108.84  0.565168"
      ]
     },
     "execution_count": 110,
     "metadata": {},
     "output_type": "execute_result"
    }
   ],
   "source": [
    "data_rating_jp['share'] = data_rating_jp['jp_sales']/data_rating_jp['jp_sales'].sum()\n",
    "data_rating_jp"
   ]
  },
  {
   "cell_type": "markdown",
   "metadata": {},
   "source": [
    "В Японии распределение продаж по рейтингу совсем иное.\n",
    "Больше всего игр проданных игр не имеют рейтинга. Далее, рейтинг Е - 14.7%. Рейтинг T - 13.5%. Рейтинг M - 11% И последнее место у рейтинга E10+ - 4.2%."
   ]
  },
  {
   "cell_type": "markdown",
   "metadata": {},
   "source": [
    "Основная причина того, что в Японии лидерами продаж являются игры без рейтинга является то, что в разных странах представлены разные рейтинговые модели: американская ESRB, японская CERO. Японская модель включает в себя оценки: А («для всех возрастов»), B («старше 12»), С («старше 15») и Z («от 18 и выше»), D («от 17 и выше»). Т.к. в датасете представлен только рейтинг ESRB можно сделать вывод, что не все игры, которые продавались в Японии имеют рейтинг ESRB, но, вероятно, имеют рейтинг CERO."
   ]
  },
  {
   "cell_type": "markdown",
   "metadata": {},
   "source": [
    "#### Вывод:"
   ]
  },
  {
   "cell_type": "markdown",
   "metadata": {},
   "source": [
    "Было определено, что разница в продажах платформ несущественная у 2-х регионов - Северной Америки и Европы. Топ5 самый популярных платформ занимают одни и те же приставки. Разница между этими регионами и Японией  наиболее существенна. Это выражено в иных предпочтениях в видеоиграх и в разных рейтинговых моделях.\n",
    "<br> Самые популярные жанры у Европы и Северной Америки - Action и Shooter.</br>\n",
    "<br> Явно выраженный самый продаваемый рейтинг на западе - M - игры, предназначенные для взрослых. Япония отличается и здесь. Игры без рейтинга ESRB имеют лидерство по продажам. "
   ]
  },
  {
   "cell_type": "markdown",
   "metadata": {},
   "source": [
    "### Проверка гипотез"
   ]
  },
  {
   "cell_type": "markdown",
   "metadata": {},
   "source": [
    "#### Средние пользовательские рейтинги платформ Xbox One и PC одинаковые"
   ]
  },
  {
   "cell_type": "markdown",
   "metadata": {},
   "source": [
    "Сформулируем нулевую и альтернативную гипотезы.\n",
    "<br> Нулева гипотеза состоит в том, что средние пользовательские рейтинги равны. Альтернативная состоит в том, что рейтинги неравны </br>"
   ]
  },
  {
   "cell_type": "markdown",
   "metadata": {},
   "source": [
    "```\n",
    "H_0: Средний пользовательский рейтинг платформы XBOX One  = Средний пользовательский рейтинг платформы PC`\n",
    "H_1: Средний пользовательский рейтинг платформы XBOX One  ≠ Средний пользовательский рейтинг платформы PC`\n",
    "alpha = 0.05\n",
    "```"
   ]
  },
  {
   "cell_type": "code",
   "execution_count": 112,
   "metadata": {
    "scrolled": true
   },
   "outputs": [
    {
     "data": {
      "text/html": [
       "<div>\n",
       "<style scoped>\n",
       "    .dataframe tbody tr th:only-of-type {\n",
       "        vertical-align: middle;\n",
       "    }\n",
       "\n",
       "    .dataframe tbody tr th {\n",
       "        vertical-align: top;\n",
       "    }\n",
       "\n",
       "    .dataframe thead th {\n",
       "        text-align: right;\n",
       "    }\n",
       "</style>\n",
       "<table border=\"1\" class=\"dataframe\">\n",
       "  <thead>\n",
       "    <tr style=\"text-align: right;\">\n",
       "      <th></th>\n",
       "      <th>name</th>\n",
       "      <th>platform</th>\n",
       "      <th>year_of_release</th>\n",
       "      <th>genre</th>\n",
       "      <th>na_sales</th>\n",
       "      <th>eu_sales</th>\n",
       "      <th>jp_sales</th>\n",
       "      <th>other_sales</th>\n",
       "      <th>critic_score</th>\n",
       "      <th>user_score</th>\n",
       "      <th>rating</th>\n",
       "      <th>sum</th>\n",
       "    </tr>\n",
       "  </thead>\n",
       "  <tbody>\n",
       "    <tr>\n",
       "      <th>0</th>\n",
       "      <td>Grand Theft Auto V</td>\n",
       "      <td>PS3</td>\n",
       "      <td>2013</td>\n",
       "      <td>Action</td>\n",
       "      <td>7.02</td>\n",
       "      <td>9.09</td>\n",
       "      <td>0.98</td>\n",
       "      <td>3.96</td>\n",
       "      <td>97</td>\n",
       "      <td>8.2</td>\n",
       "      <td>M</td>\n",
       "      <td>21.05</td>\n",
       "    </tr>\n",
       "    <tr>\n",
       "      <th>1</th>\n",
       "      <td>Grand Theft Auto V</td>\n",
       "      <td>X360</td>\n",
       "      <td>2013</td>\n",
       "      <td>Action</td>\n",
       "      <td>9.66</td>\n",
       "      <td>5.14</td>\n",
       "      <td>0.06</td>\n",
       "      <td>1.41</td>\n",
       "      <td>97</td>\n",
       "      <td>8.1</td>\n",
       "      <td>M</td>\n",
       "      <td>16.27</td>\n",
       "    </tr>\n",
       "    <tr>\n",
       "      <th>4</th>\n",
       "      <td>Call of Duty: Black Ops II</td>\n",
       "      <td>PS3</td>\n",
       "      <td>2012</td>\n",
       "      <td>Shooter</td>\n",
       "      <td>4.99</td>\n",
       "      <td>5.73</td>\n",
       "      <td>0.65</td>\n",
       "      <td>2.42</td>\n",
       "      <td>83</td>\n",
       "      <td>5.3</td>\n",
       "      <td>M</td>\n",
       "      <td>13.79</td>\n",
       "    </tr>\n",
       "    <tr>\n",
       "      <th>5</th>\n",
       "      <td>Call of Duty: Black Ops II</td>\n",
       "      <td>X360</td>\n",
       "      <td>2012</td>\n",
       "      <td>Shooter</td>\n",
       "      <td>8.25</td>\n",
       "      <td>4.24</td>\n",
       "      <td>0.07</td>\n",
       "      <td>1.12</td>\n",
       "      <td>83</td>\n",
       "      <td>4.8</td>\n",
       "      <td>M</td>\n",
       "      <td>13.68</td>\n",
       "    </tr>\n",
       "    <tr>\n",
       "      <th>6</th>\n",
       "      <td>Grand Theft Auto V</td>\n",
       "      <td>PS4</td>\n",
       "      <td>2014</td>\n",
       "      <td>Action</td>\n",
       "      <td>3.96</td>\n",
       "      <td>6.31</td>\n",
       "      <td>0.38</td>\n",
       "      <td>1.97</td>\n",
       "      <td>97</td>\n",
       "      <td>8.3</td>\n",
       "      <td>M</td>\n",
       "      <td>12.62</td>\n",
       "    </tr>\n",
       "    <tr>\n",
       "      <th>8</th>\n",
       "      <td>Call of Duty: Ghosts</td>\n",
       "      <td>X360</td>\n",
       "      <td>2013</td>\n",
       "      <td>Shooter</td>\n",
       "      <td>6.73</td>\n",
       "      <td>2.56</td>\n",
       "      <td>0.04</td>\n",
       "      <td>0.91</td>\n",
       "      <td>73</td>\n",
       "      <td>2.6</td>\n",
       "      <td>M</td>\n",
       "      <td>10.24</td>\n",
       "    </tr>\n",
       "    <tr>\n",
       "      <th>9</th>\n",
       "      <td>New Super Mario Bros. 2</td>\n",
       "      <td>3DS</td>\n",
       "      <td>2012</td>\n",
       "      <td>Platform</td>\n",
       "      <td>3.66</td>\n",
       "      <td>3.14</td>\n",
       "      <td>2.47</td>\n",
       "      <td>0.63</td>\n",
       "      <td>78</td>\n",
       "      <td>7.2</td>\n",
       "      <td>E</td>\n",
       "      <td>9.90</td>\n",
       "    </tr>\n",
       "    <tr>\n",
       "      <th>10</th>\n",
       "      <td>Halo 4</td>\n",
       "      <td>X360</td>\n",
       "      <td>2012</td>\n",
       "      <td>Shooter</td>\n",
       "      <td>6.65</td>\n",
       "      <td>2.28</td>\n",
       "      <td>0.04</td>\n",
       "      <td>0.74</td>\n",
       "      <td>87</td>\n",
       "      <td>7.0</td>\n",
       "      <td>M</td>\n",
       "      <td>9.71</td>\n",
       "    </tr>\n",
       "    <tr>\n",
       "      <th>11</th>\n",
       "      <td>Call of Duty: Ghosts</td>\n",
       "      <td>PS3</td>\n",
       "      <td>2013</td>\n",
       "      <td>Shooter</td>\n",
       "      <td>4.10</td>\n",
       "      <td>3.63</td>\n",
       "      <td>0.38</td>\n",
       "      <td>1.25</td>\n",
       "      <td>71</td>\n",
       "      <td>2.6</td>\n",
       "      <td>M</td>\n",
       "      <td>9.36</td>\n",
       "    </tr>\n",
       "    <tr>\n",
       "      <th>13</th>\n",
       "      <td>Animal Crossing: New Leaf</td>\n",
       "      <td>3DS</td>\n",
       "      <td>2012</td>\n",
       "      <td>Simulation</td>\n",
       "      <td>2.03</td>\n",
       "      <td>2.36</td>\n",
       "      <td>4.39</td>\n",
       "      <td>0.39</td>\n",
       "      <td>88</td>\n",
       "      <td>8.7</td>\n",
       "      <td>E</td>\n",
       "      <td>9.17</td>\n",
       "    </tr>\n",
       "  </tbody>\n",
       "</table>\n",
       "</div>"
      ],
      "text/plain": [
       "                          name platform  year_of_release       genre  \\\n",
       "0           Grand Theft Auto V      PS3             2013      Action   \n",
       "1           Grand Theft Auto V     X360             2013      Action   \n",
       "4   Call of Duty: Black Ops II      PS3             2012     Shooter   \n",
       "5   Call of Duty: Black Ops II     X360             2012     Shooter   \n",
       "6           Grand Theft Auto V      PS4             2014      Action   \n",
       "8         Call of Duty: Ghosts     X360             2013     Shooter   \n",
       "9      New Super Mario Bros. 2      3DS             2012    Platform   \n",
       "10                      Halo 4     X360             2012     Shooter   \n",
       "11        Call of Duty: Ghosts      PS3             2013     Shooter   \n",
       "13   Animal Crossing: New Leaf      3DS             2012  Simulation   \n",
       "\n",
       "    na_sales  eu_sales  jp_sales  other_sales  critic_score  user_score  \\\n",
       "0       7.02      9.09      0.98         3.96            97         8.2   \n",
       "1       9.66      5.14      0.06         1.41            97         8.1   \n",
       "4       4.99      5.73      0.65         2.42            83         5.3   \n",
       "5       8.25      4.24      0.07         1.12            83         4.8   \n",
       "6       3.96      6.31      0.38         1.97            97         8.3   \n",
       "8       6.73      2.56      0.04         0.91            73         2.6   \n",
       "9       3.66      3.14      2.47         0.63            78         7.2   \n",
       "10      6.65      2.28      0.04         0.74            87         7.0   \n",
       "11      4.10      3.63      0.38         1.25            71         2.6   \n",
       "13      2.03      2.36      4.39         0.39            88         8.7   \n",
       "\n",
       "   rating    sum  \n",
       "0       M  21.05  \n",
       "1       M  16.27  \n",
       "4       M  13.79  \n",
       "5       M  13.68  \n",
       "6       M  12.62  \n",
       "8       M  10.24  \n",
       "9       E   9.90  \n",
       "10      M   9.71  \n",
       "11      M   9.36  \n",
       "13      E   9.17  "
      ]
     },
     "execution_count": 112,
     "metadata": {},
     "output_type": "execute_result"
    }
   ],
   "source": [
    "good_data = data[data['user_score'].isna() != True ] # удаляем строки с пропусками оценок пользователей\n",
    "# т.к. статистические анализы выводят ошибку при пропусках\n",
    "good_data.head(10)"
   ]
  },
  {
   "cell_type": "markdown",
   "metadata": {},
   "source": [
    "Задача состоит в том, что необходимо сравнить средние показатели, для проверки гипотез возьмём ttest_ind"
   ]
  },
  {
   "cell_type": "code",
   "execution_count": 113,
   "metadata": {},
   "outputs": [
    {
     "name": "stdout",
     "output_type": "stream",
     "text": [
      "0.5489537965134912\n",
      "Не получилось отвергнуть нулевую гипотезу\n"
     ]
    }
   ],
   "source": [
    "user_score_average_xone = good_data[good_data['platform'] =='XOne']['user_score']\n",
    "user_score_average_pc = good_data[good_data['platform'] =='PC']['user_score']\n",
    "results = st.ttest_ind(user_score_average_xone, user_score_average_pc, equal_var = False)\n",
    "    # results = вызов метода для проверки гипотезы\n",
    "\n",
    "alpha = .05 # alpha = 0.05\n",
    "\n",
    "print(results.pvalue) # вывод значения p-value на экран \n",
    "if results.pvalue < alpha:\n",
    "    print(\"Отвергаем нулевую гипотезу\")\n",
    "else:\n",
    "    print(\"Не получилось отвергнуть нулевую гипотезу\") # условный оператор с выводом строки с ответом"
   ]
  },
  {
   "cell_type": "markdown",
   "metadata": {},
   "source": [
    "#### Средние пользовательские рейтинги жанров Action (англ. «действие», экшен-игры) и Sports (англ. «спортивные соревнования») разные."
   ]
  },
  {
   "cell_type": "markdown",
   "metadata": {},
   "source": [
    "Нулева гипотеза состоит в том, что средние пользовательские рейтинги равны. Альтернативная состоит в том, что рейтинги неравны"
   ]
  },
  {
   "cell_type": "markdown",
   "metadata": {},
   "source": [
    "```\n",
    "H_0: Средний пользовательский рейтинг жанра Action  = Средний пользовательский рейтинг жанра Sports\n",
    "H_1: Средний пользовательский рейтинг жанра Action  ≠ Средний пользовательский рейтинг жанра Sports\n",
    "alpha = 0.05\n",
    "```"
   ]
  },
  {
   "cell_type": "markdown",
   "metadata": {},
   "source": [
    "Здесь снова необходимы средние показатели, можно воспользоваться методом ttest_ind"
   ]
  },
  {
   "cell_type": "code",
   "execution_count": 114,
   "metadata": {},
   "outputs": [
    {
     "name": "stdout",
     "output_type": "stream",
     "text": [
      "5.989458066467418e-20\n",
      "Отвергаем нулевую гипотезу\n"
     ]
    }
   ],
   "source": [
    "user_score_average_action = good_data[good_data['genre'] =='Action']['user_score']\n",
    "user_score_average_sports = good_data[good_data['genre'] =='Sports']['user_score']\n",
    "results = st.ttest_ind(user_score_average_action, user_score_average_sports, equal_var = False)\n",
    "    # results = вызов метода для проверки гипотезы\n",
    "\n",
    "alpha = .05 # alpha = 0.05\n",
    "\n",
    "print(results.pvalue) # вывод значения p-value на экран \n",
    "if results.pvalue < alpha:\n",
    "    print(\"Отвергаем нулевую гипотезу\")\n",
    "else:\n",
    "    print(\"Не получилось отвергнуть нулевую гипотезу\") # условный оператор с выводом строки с ответом"
   ]
  },
  {
   "cell_type": "markdown",
   "metadata": {},
   "source": [
    "#### Вывод:"
   ]
  },
  {
   "cell_type": "markdown",
   "metadata": {},
   "source": [
    "Таким образом, не удалось отвергнуть гипотезу, что средний пользовательский рейтинг платформы XBOX One  равен среднему пользовательскому рейтину платформы PC.\n",
    "<br> Но, удалось отвергнуть, что средний пользовательский рейтинг жанра Action равен среднему пользовательскому рейтингу жанра Sports. Значит, эти показатели разные </br>"
   ]
  },
  {
   "cell_type": "markdown",
   "metadata": {},
   "source": [
    "### Общий вывод"
   ]
  },
  {
   "cell_type": "markdown",
   "metadata": {},
   "source": [
    "Было проведено исследование  закономерностей успешности компьютерных игр для Интернет-магазина «Стримчик»\n",
    "    <br> Данные - Из открытых источников были взяты исторические данные о продажах игр, оценки пользователей и экспертов, жанры и платформы с целью определения закономерностей и, исходя из этого, планирования кампании на 2017 год. <br/>\n",
    "    <br> В процессе исследования были определены основные показателя для дальнейшего планировния: \n",
    "    <br> - определён актуальный период анализа - 2012-2016 гг;<br/>\n",
    "    <br> - определены лидирующие платформы по продажам - PS4, PS3, X360, 3DS, XOne;<br/> \n",
    "    <br> - определена корреляция между продажами и отзывами игроков/критиков внутри каждой из популярных платформ:\n",
    "        <br><b>PS4:</b> Коэффициент корреляции между отзывами игроков и продажами - (-0.031957).\n",
    "Коэффициент корреляции между отзывами критиков и продажами - 0.406568.\n",
    "Наблюдалась умеренная связь между отзывами критиков и продажами игр данной платформы. Наблюдалась очень слабая связь и обратная зависимость между отзывами пользователей и общими продажами;<br/>\n",
    "        <br><b>XOne:</b> Коэффициент корреляции между отзывами игроков и продажами - (-0.068925).\n",
    "Коэффициент корреляции между отзывами критиков и продажами - 0.416998. Также, наблюдалась умеренная связь между отзывами критиков и продажами игр данной платформы. Наблюдалась очень слабая связь и обратная зависимость между отзывами пользователей и общими продажами.</br>\n",
    "    <br><b>PS3:</b> Коэффициент корреляции между отзывами игроков и продажами - (-0.006206).\n",
    "Коэффициент корреляции между отзывами критиков и продажами - 0.334152. Аналогичная ситуация как и с другими платформами.</br>\n",
    "<br><b>X360:</b> Коэффициент корреляции между отзывами игроков и продажами - 0.006164. Коэффициент корреляции между отзывами критиков и продажами - 0.416998. Наблюдалась очень слабая связь и <b>прямая</b> зависимость между отзывами пользователей и общими продажами. Наблюдалась умеренная связь между отзывами критиков и продажами игр данной платформы.</br> \n",
    "    <br> - были определены самые прибыльные жанры: \n",
    "    <br>Жанр <b>Shooter</b> с медианным значением 440 тыс. копий</br>\n",
    "<br>Жанр <b>Sports</b> с медианным значением 240 тыс. копий</br>\n",
    "<br>Жанр <b>Platform</b> с медианным значением 210 тыс. копий</br>\n",
    "<br> Самый неприбыльный жанр - <b>Adventure</b> с медианным значением 30 тыс. копий</br>\n",
    "       <br>Установлены самые популярные платформы для разных регионов: </br>\n",
    "      <br>Cамая большая доля продаж в Северной Америке у X360 - 23.7%. Затем идет PS4 - 18,4%. PS3 - 17,5%</br>\n",
    "      <br> Cамая большая доля продаж в Европе у PS4 и PS3 - 27.8% и 21% соответственно. Затем, идут платформы от Microsoft - X360 и XOne - 14.7% и 10.1% соответственно.</br>\n",
    "      <br>Cамая большая доля продаж в Японии Nintendo 3DS - 45.6%. С большим отрывом на втором месте Ps3 - 18.3%. Затем, PSV - 10.1%. PS4 - 8.3%. </br>\n",
    "      <br>Установлены самые популярные жанры для разных регионов:</br>\n",
    "      <br>- Action и Shooter в Европе и Северной Америке (более 50% для обоих жанров)</br>\n",
    "      <br>- Role-Playing и Action в Японии (34%, 27.4% соответственно)</br>\n",
    "      <br> Было установлено влияние рейтинга ESRB на продажи в Северной Америке и Европе (игроки больше покупают игры с рейтингом M(mature 17+) - 38-39% всех продаж. В Японии выстроить объективную картина о распределении не удалось, т.к. в стране присутствует другая рейтинговая модель. По причине того, что в Японии очень развит геймдев, значительное число игр популярных японских игр просто не получили рейтинг ESRB, но, вероятно, имеют рейтинг CERO  </br>\n",
    "     <br> В процессе исследования были выдвинуты 2 гипотезы:</br>\n",
    "     <br> 1) cредние пользовательские рейтинги платформ Xbox One и PC одинаковые</br>\n",
    "     <br> В процессе статистического анализа опровергнуть, что средний пользовательский рейтинг платформы XBOX One  = средний пользовательский рейтинг платформы PC не удалось.</br>\n",
    "     <br> 2) cредние пользовательские рейтинги жанров Action (англ. «действие», экшен-игры) и Sports (англ. «спортивные соревнования») разные </br>\n",
    "     </br>В процессе статистического анализа удалось опровергнуть, что Средний пользовательский рейтинг жанра Action  = Средний пользовательский рейтинг жанра Sports.\n",
    "    <br> Рекомендации:</br>\n",
    "    <br> Следуют обратить особое внимание на игры жанров Shooter и Sports, т.к. они являются самыми прибыльными жанрами. Также, следует идти в ногу со временем и большую часть игр представить на новых платформах (PS4, XOne). Но, не стоит забывать и о PS3 и X360, т.к. старые игроки еще не все перешли на новые версии платформ. \n",
    "    <br> Для более точного вывода по японскому региону, следует найти и добавить информацию о рейтинге CERO и провести дополнительный анализ.</br>\n",
    "    <br> Необходимы отслеживать отзывы критиков игр, т.к. это может влиять на мнение пользователей и, соответственно, на продажи. </br>\n",
    "    "
   ]
  },
  {
   "cell_type": "code",
   "execution_count": null,
   "metadata": {},
   "outputs": [],
   "source": []
  }
 ],
 "metadata": {
  "ExecuteTimeLog": [
   {
    "duration": 3,
    "start_time": "2022-11-21T07:41:24.497Z"
   },
   {
    "duration": 925,
    "start_time": "2022-11-21T07:48:58.434Z"
   },
   {
    "duration": 15,
    "start_time": "2022-11-21T07:52:15.277Z"
   },
   {
    "duration": 846,
    "start_time": "2022-11-21T07:57:09.346Z"
   },
   {
    "duration": 47,
    "start_time": "2022-11-23T05:38:12.673Z"
   },
   {
    "duration": 959,
    "start_time": "2022-11-23T05:38:22.722Z"
   },
   {
    "duration": 16,
    "start_time": "2022-11-23T05:38:26.179Z"
   },
   {
    "duration": 712,
    "start_time": "2022-11-23T05:38:29.636Z"
   },
   {
    "duration": 5,
    "start_time": "2022-11-23T05:38:33.308Z"
   },
   {
    "duration": 5,
    "start_time": "2022-11-23T05:41:08.104Z"
   },
   {
    "duration": 5,
    "start_time": "2022-11-23T05:43:00.368Z"
   },
   {
    "duration": 76,
    "start_time": "2022-11-23T05:44:57.878Z"
   },
   {
    "duration": 5,
    "start_time": "2022-11-23T05:46:17.750Z"
   },
   {
    "duration": 628,
    "start_time": "2022-11-23T05:47:15.959Z"
   },
   {
    "duration": 17,
    "start_time": "2022-11-23T05:47:18.462Z"
   },
   {
    "duration": 811,
    "start_time": "2022-11-23T05:47:20.078Z"
   },
   {
    "duration": 6,
    "start_time": "2022-11-23T05:47:23.645Z"
   },
   {
    "duration": 6,
    "start_time": "2022-11-23T05:47:26.366Z"
   },
   {
    "duration": 4,
    "start_time": "2022-11-23T05:47:34.701Z"
   },
   {
    "duration": 5,
    "start_time": "2022-11-23T05:47:41.254Z"
   },
   {
    "duration": 4,
    "start_time": "2022-11-23T05:47:47.418Z"
   },
   {
    "duration": 5,
    "start_time": "2022-11-23T05:47:58.071Z"
   },
   {
    "duration": 24,
    "start_time": "2022-11-23T05:53:36.845Z"
   },
   {
    "duration": 5,
    "start_time": "2022-11-23T05:56:52.848Z"
   },
   {
    "duration": 72,
    "start_time": "2022-11-23T05:57:09.569Z"
   },
   {
    "duration": 6,
    "start_time": "2022-11-23T05:57:18.433Z"
   },
   {
    "duration": 8,
    "start_time": "2022-11-23T05:57:32.729Z"
   },
   {
    "duration": 681,
    "start_time": "2022-11-23T05:57:39.402Z"
   },
   {
    "duration": 15,
    "start_time": "2022-11-23T05:57:41.402Z"
   },
   {
    "duration": 725,
    "start_time": "2022-11-23T05:57:43.371Z"
   },
   {
    "duration": 5,
    "start_time": "2022-11-23T05:57:47.755Z"
   },
   {
    "duration": 5,
    "start_time": "2022-11-23T05:57:49.426Z"
   },
   {
    "duration": 4,
    "start_time": "2022-11-23T05:57:51.202Z"
   },
   {
    "duration": 5,
    "start_time": "2022-11-23T05:57:52.466Z"
   },
   {
    "duration": 5,
    "start_time": "2022-11-23T05:57:53.898Z"
   },
   {
    "duration": 5,
    "start_time": "2022-11-23T05:57:55.410Z"
   },
   {
    "duration": 24,
    "start_time": "2022-11-23T05:57:57.228Z"
   },
   {
    "duration": 69,
    "start_time": "2022-11-23T05:57:59.682Z"
   },
   {
    "duration": 8,
    "start_time": "2022-11-23T05:58:10.043Z"
   },
   {
    "duration": 5,
    "start_time": "2022-11-23T05:58:43.329Z"
   },
   {
    "duration": 5,
    "start_time": "2022-11-23T05:58:45.386Z"
   },
   {
    "duration": 5,
    "start_time": "2022-11-23T06:00:09.093Z"
   },
   {
    "duration": 14,
    "start_time": "2022-11-23T06:00:23.510Z"
   },
   {
    "duration": 44,
    "start_time": "2022-11-24T11:17:11.639Z"
   },
   {
    "duration": 917,
    "start_time": "2022-11-24T11:17:18.520Z"
   },
   {
    "duration": 13,
    "start_time": "2022-11-24T11:17:20.943Z"
   },
   {
    "duration": 731,
    "start_time": "2022-11-24T11:17:22.903Z"
   },
   {
    "duration": 5,
    "start_time": "2022-11-24T11:17:25.333Z"
   },
   {
    "duration": 6,
    "start_time": "2022-11-24T11:17:26.842Z"
   },
   {
    "duration": 5,
    "start_time": "2022-11-24T11:17:28.436Z"
   },
   {
    "duration": 5,
    "start_time": "2022-11-24T11:17:29.951Z"
   },
   {
    "duration": 4,
    "start_time": "2022-11-24T11:17:31.688Z"
   },
   {
    "duration": 5,
    "start_time": "2022-11-24T11:17:33.063Z"
   },
   {
    "duration": 24,
    "start_time": "2022-11-24T11:17:35.152Z"
   },
   {
    "duration": 5,
    "start_time": "2022-11-24T11:17:38.432Z"
   },
   {
    "duration": 4,
    "start_time": "2022-11-24T11:17:40.288Z"
   },
   {
    "duration": 4,
    "start_time": "2022-11-24T11:17:42.280Z"
   },
   {
    "duration": 13,
    "start_time": "2022-11-24T11:17:43.208Z"
   },
   {
    "duration": 14,
    "start_time": "2022-11-24T11:17:45.433Z"
   },
   {
    "duration": 6,
    "start_time": "2022-11-24T11:19:02.778Z"
   },
   {
    "duration": 4,
    "start_time": "2022-11-24T11:19:11.236Z"
   },
   {
    "duration": 25,
    "start_time": "2022-11-24T11:28:19.733Z"
   },
   {
    "duration": 12,
    "start_time": "2022-11-24T11:28:24.913Z"
   },
   {
    "duration": 5,
    "start_time": "2022-11-24T11:29:58.758Z"
   },
   {
    "duration": 731,
    "start_time": "2022-11-24T11:30:06.254Z"
   },
   {
    "duration": 15,
    "start_time": "2022-11-24T11:30:09.622Z"
   },
   {
    "duration": 736,
    "start_time": "2022-11-24T11:30:11.317Z"
   },
   {
    "duration": 5,
    "start_time": "2022-11-24T11:30:14.231Z"
   },
   {
    "duration": 6,
    "start_time": "2022-11-24T11:30:15.933Z"
   },
   {
    "duration": 5,
    "start_time": "2022-11-24T11:30:17.421Z"
   },
   {
    "duration": 6,
    "start_time": "2022-11-24T11:30:18.877Z"
   },
   {
    "duration": 4,
    "start_time": "2022-11-24T11:30:20.278Z"
   },
   {
    "duration": 4,
    "start_time": "2022-11-24T11:30:21.862Z"
   },
   {
    "duration": 24,
    "start_time": "2022-11-24T11:30:23.414Z"
   },
   {
    "duration": 6,
    "start_time": "2022-11-24T11:30:25.254Z"
   },
   {
    "duration": 5,
    "start_time": "2022-11-24T11:30:26.566Z"
   },
   {
    "duration": 5,
    "start_time": "2022-11-24T11:30:28.182Z"
   },
   {
    "duration": 13,
    "start_time": "2022-11-24T11:30:29.351Z"
   },
   {
    "duration": 15,
    "start_time": "2022-11-24T11:30:31.973Z"
   },
   {
    "duration": 4,
    "start_time": "2022-11-24T11:30:34.054Z"
   },
   {
    "duration": 4,
    "start_time": "2022-11-24T11:30:57.719Z"
   },
   {
    "duration": 4,
    "start_time": "2022-11-24T11:31:46.968Z"
   },
   {
    "duration": 5,
    "start_time": "2022-11-24T11:32:08.640Z"
   },
   {
    "duration": 87,
    "start_time": "2022-11-24T11:37:52.726Z"
   },
   {
    "duration": 29,
    "start_time": "2022-11-24T11:37:56.983Z"
   },
   {
    "duration": 11,
    "start_time": "2022-11-24T11:38:09.871Z"
   },
   {
    "duration": 6,
    "start_time": "2022-11-24T11:38:31.966Z"
   },
   {
    "duration": 35,
    "start_time": "2022-11-24T11:39:10.174Z"
   },
   {
    "duration": 35,
    "start_time": "2022-11-24T11:39:19.105Z"
   },
   {
    "duration": 25,
    "start_time": "2022-11-24T11:39:28.352Z"
   },
   {
    "duration": 11,
    "start_time": "2022-11-24T11:39:53.369Z"
   },
   {
    "duration": 45,
    "start_time": "2022-11-24T11:40:18.929Z"
   },
   {
    "duration": 24,
    "start_time": "2022-11-24T11:40:54.201Z"
   },
   {
    "duration": 11,
    "start_time": "2022-11-24T11:41:27.675Z"
   },
   {
    "duration": 24,
    "start_time": "2022-11-24T11:42:14.563Z"
   },
   {
    "duration": 44,
    "start_time": "2022-11-24T11:42:22.148Z"
   },
   {
    "duration": 42,
    "start_time": "2022-11-24T11:42:30.995Z"
   },
   {
    "duration": 15,
    "start_time": "2022-11-24T11:43:28.604Z"
   },
   {
    "duration": 12,
    "start_time": "2022-11-24T11:43:29.420Z"
   },
   {
    "duration": 5,
    "start_time": "2022-11-24T11:55:08.434Z"
   },
   {
    "duration": 16,
    "start_time": "2022-11-24T11:55:20.425Z"
   },
   {
    "duration": 23,
    "start_time": "2022-11-24T11:56:34.555Z"
   },
   {
    "duration": 25,
    "start_time": "2022-11-24T11:56:47.978Z"
   },
   {
    "duration": 24,
    "start_time": "2022-11-24T11:58:10.959Z"
   },
   {
    "duration": 26,
    "start_time": "2022-11-24T11:59:44.159Z"
   },
   {
    "duration": 23,
    "start_time": "2022-11-24T11:59:48.118Z"
   },
   {
    "duration": 17,
    "start_time": "2022-11-24T12:00:52.624Z"
   },
   {
    "duration": 25,
    "start_time": "2022-11-24T12:05:12.652Z"
   },
   {
    "duration": 658,
    "start_time": "2022-11-24T12:05:25.796Z"
   },
   {
    "duration": 13,
    "start_time": "2022-11-24T12:05:27.988Z"
   },
   {
    "duration": 748,
    "start_time": "2022-11-24T12:05:29.853Z"
   },
   {
    "duration": 4,
    "start_time": "2022-11-24T12:05:32.652Z"
   },
   {
    "duration": 5,
    "start_time": "2022-11-24T12:05:34.252Z"
   },
   {
    "duration": 5,
    "start_time": "2022-11-24T12:05:35.828Z"
   },
   {
    "duration": 5,
    "start_time": "2022-11-24T12:05:37.100Z"
   },
   {
    "duration": 5,
    "start_time": "2022-11-24T12:05:38.444Z"
   },
   {
    "duration": 5,
    "start_time": "2022-11-24T12:05:40.061Z"
   },
   {
    "duration": 23,
    "start_time": "2022-11-24T12:05:41.637Z"
   },
   {
    "duration": 5,
    "start_time": "2022-11-24T12:05:43.347Z"
   },
   {
    "duration": 5,
    "start_time": "2022-11-24T12:05:45.045Z"
   },
   {
    "duration": 5,
    "start_time": "2022-11-24T12:05:46.660Z"
   },
   {
    "duration": 13,
    "start_time": "2022-11-24T12:05:48.253Z"
   },
   {
    "duration": 15,
    "start_time": "2022-11-24T12:05:50.172Z"
   },
   {
    "duration": 3,
    "start_time": "2022-11-24T12:05:51.716Z"
   },
   {
    "duration": 4,
    "start_time": "2022-11-24T12:05:53.340Z"
   },
   {
    "duration": 5,
    "start_time": "2022-11-24T12:05:54.804Z"
   },
   {
    "duration": 5,
    "start_time": "2022-11-24T12:05:56.125Z"
   },
   {
    "duration": 15,
    "start_time": "2022-11-24T12:05:58.085Z"
   },
   {
    "duration": 15,
    "start_time": "2022-11-24T12:05:59.433Z"
   },
   {
    "duration": 4,
    "start_time": "2022-11-24T12:06:03.013Z"
   },
   {
    "duration": 15,
    "start_time": "2022-11-24T12:06:04.373Z"
   },
   {
    "duration": 26,
    "start_time": "2022-11-24T12:06:18.181Z"
   },
   {
    "duration": 68,
    "start_time": "2022-11-24T12:06:36.837Z"
   },
   {
    "duration": 25,
    "start_time": "2022-11-24T12:09:16.329Z"
   },
   {
    "duration": 1217,
    "start_time": "2022-11-24T12:09:59.057Z"
   },
   {
    "duration": 28,
    "start_time": "2022-11-24T12:10:29.859Z"
   },
   {
    "duration": 22,
    "start_time": "2022-11-24T12:10:42.234Z"
   },
   {
    "duration": 26,
    "start_time": "2022-11-24T12:11:33.763Z"
   },
   {
    "duration": 660,
    "start_time": "2022-11-24T12:11:49.020Z"
   },
   {
    "duration": 15,
    "start_time": "2022-11-24T12:11:51.683Z"
   },
   {
    "duration": 769,
    "start_time": "2022-11-24T12:11:53.323Z"
   },
   {
    "duration": 5,
    "start_time": "2022-11-24T12:11:56.875Z"
   },
   {
    "duration": 5,
    "start_time": "2022-11-24T12:11:58.340Z"
   },
   {
    "duration": 5,
    "start_time": "2022-11-24T12:12:00.076Z"
   },
   {
    "duration": 5,
    "start_time": "2022-11-24T12:12:01.403Z"
   },
   {
    "duration": 5,
    "start_time": "2022-11-24T12:12:02.810Z"
   },
   {
    "duration": 5,
    "start_time": "2022-11-24T12:12:04.068Z"
   },
   {
    "duration": 24,
    "start_time": "2022-11-24T12:12:06.011Z"
   },
   {
    "duration": 5,
    "start_time": "2022-11-24T12:12:07.939Z"
   },
   {
    "duration": 4,
    "start_time": "2022-11-24T12:12:09.239Z"
   },
   {
    "duration": 5,
    "start_time": "2022-11-24T12:12:11.020Z"
   },
   {
    "duration": 13,
    "start_time": "2022-11-24T12:12:12.300Z"
   },
   {
    "duration": 15,
    "start_time": "2022-11-24T12:12:14.637Z"
   },
   {
    "duration": 4,
    "start_time": "2022-11-24T12:12:16.124Z"
   },
   {
    "duration": 5,
    "start_time": "2022-11-24T12:12:17.947Z"
   },
   {
    "duration": 5,
    "start_time": "2022-11-24T12:12:18.923Z"
   },
   {
    "duration": 4,
    "start_time": "2022-11-24T12:12:19.612Z"
   },
   {
    "duration": 17,
    "start_time": "2022-11-24T12:12:21.443Z"
   },
   {
    "duration": 12,
    "start_time": "2022-11-24T12:12:22.020Z"
   },
   {
    "duration": 5,
    "start_time": "2022-11-24T12:12:24.107Z"
   },
   {
    "duration": 18,
    "start_time": "2022-11-24T12:12:25.653Z"
   },
   {
    "duration": 28,
    "start_time": "2022-11-24T12:12:29.340Z"
   },
   {
    "duration": 21,
    "start_time": "2022-11-24T12:12:41.213Z"
   },
   {
    "duration": 14,
    "start_time": "2022-11-24T12:13:05.893Z"
   },
   {
    "duration": 16,
    "start_time": "2022-11-24T12:13:33.037Z"
   },
   {
    "duration": 820,
    "start_time": "2022-11-24T12:14:18.146Z"
   },
   {
    "duration": 16,
    "start_time": "2022-11-24T12:14:20.407Z"
   },
   {
    "duration": 767,
    "start_time": "2022-11-24T12:14:22.122Z"
   },
   {
    "duration": 5,
    "start_time": "2022-11-24T12:14:25.950Z"
   },
   {
    "duration": 6,
    "start_time": "2022-11-24T12:14:27.342Z"
   },
   {
    "duration": 4,
    "start_time": "2022-11-24T12:14:28.722Z"
   },
   {
    "duration": 6,
    "start_time": "2022-11-24T12:14:29.855Z"
   },
   {
    "duration": 4,
    "start_time": "2022-11-24T12:14:31.430Z"
   },
   {
    "duration": 5,
    "start_time": "2022-11-24T12:14:32.494Z"
   },
   {
    "duration": 30,
    "start_time": "2022-11-24T12:14:33.999Z"
   },
   {
    "duration": 5,
    "start_time": "2022-11-24T12:14:35.790Z"
   },
   {
    "duration": 5,
    "start_time": "2022-11-24T12:14:36.974Z"
   },
   {
    "duration": 6,
    "start_time": "2022-11-24T12:14:38.599Z"
   },
   {
    "duration": 12,
    "start_time": "2022-11-24T12:14:39.655Z"
   },
   {
    "duration": 14,
    "start_time": "2022-11-24T12:14:41.382Z"
   },
   {
    "duration": 4,
    "start_time": "2022-11-24T12:14:43.375Z"
   },
   {
    "duration": 4,
    "start_time": "2022-11-24T12:14:43.890Z"
   },
   {
    "duration": 5,
    "start_time": "2022-11-24T12:14:44.439Z"
   },
   {
    "duration": 6,
    "start_time": "2022-11-24T12:14:45.000Z"
   },
   {
    "duration": 14,
    "start_time": "2022-11-24T12:14:46.790Z"
   },
   {
    "duration": 12,
    "start_time": "2022-11-24T12:14:48.112Z"
   },
   {
    "duration": 4,
    "start_time": "2022-11-24T12:14:50.687Z"
   },
   {
    "duration": 17,
    "start_time": "2022-11-24T12:14:51.907Z"
   },
   {
    "duration": 31,
    "start_time": "2022-11-24T12:14:56.383Z"
   },
   {
    "duration": 659,
    "start_time": "2022-11-24T12:15:18.143Z"
   },
   {
    "duration": 15,
    "start_time": "2022-11-24T12:15:21.393Z"
   },
   {
    "duration": 751,
    "start_time": "2022-11-24T12:15:22.948Z"
   },
   {
    "duration": 6,
    "start_time": "2022-11-24T12:15:29.095Z"
   },
   {
    "duration": 5,
    "start_time": "2022-11-24T12:15:32.127Z"
   },
   {
    "duration": 5,
    "start_time": "2022-11-24T12:15:33.730Z"
   },
   {
    "duration": 5,
    "start_time": "2022-11-24T12:15:35.087Z"
   },
   {
    "duration": 4,
    "start_time": "2022-11-24T12:15:36.685Z"
   },
   {
    "duration": 5,
    "start_time": "2022-11-24T12:15:38.216Z"
   },
   {
    "duration": 23,
    "start_time": "2022-11-24T12:15:40.495Z"
   },
   {
    "duration": 5,
    "start_time": "2022-11-24T12:15:42.319Z"
   },
   {
    "duration": 5,
    "start_time": "2022-11-24T12:15:43.071Z"
   },
   {
    "duration": 5,
    "start_time": "2022-11-24T12:15:44.743Z"
   },
   {
    "duration": 12,
    "start_time": "2022-11-24T12:15:45.447Z"
   },
   {
    "duration": 14,
    "start_time": "2022-11-24T12:15:47.359Z"
   },
   {
    "duration": 5,
    "start_time": "2022-11-24T12:15:48.599Z"
   },
   {
    "duration": 5,
    "start_time": "2022-11-24T12:15:49.030Z"
   },
   {
    "duration": 4,
    "start_time": "2022-11-24T12:15:49.487Z"
   },
   {
    "duration": 5,
    "start_time": "2022-11-24T12:15:49.887Z"
   },
   {
    "duration": 15,
    "start_time": "2022-11-24T12:15:51.839Z"
   },
   {
    "duration": 13,
    "start_time": "2022-11-24T12:15:52.999Z"
   },
   {
    "duration": 5,
    "start_time": "2022-11-24T12:15:55.384Z"
   },
   {
    "duration": 25,
    "start_time": "2022-11-24T12:15:56.168Z"
   },
   {
    "duration": 27,
    "start_time": "2022-11-24T12:16:02.399Z"
   },
   {
    "duration": 7,
    "start_time": "2022-11-24T12:16:26.728Z"
   },
   {
    "duration": 28,
    "start_time": "2022-11-24T12:16:40.153Z"
   },
   {
    "duration": 13,
    "start_time": "2022-11-24T12:16:43.649Z"
   },
   {
    "duration": 18,
    "start_time": "2022-11-24T12:18:57.123Z"
   },
   {
    "duration": 20,
    "start_time": "2022-11-24T12:19:09.019Z"
   },
   {
    "duration": 18,
    "start_time": "2022-11-24T12:19:25.788Z"
   },
   {
    "duration": 73,
    "start_time": "2022-11-24T12:21:21.965Z"
   },
   {
    "duration": 8,
    "start_time": "2022-11-24T12:22:34.318Z"
   },
   {
    "duration": 752,
    "start_time": "2022-11-24T12:22:56.904Z"
   },
   {
    "duration": 17,
    "start_time": "2022-11-24T12:22:59.096Z"
   },
   {
    "duration": 745,
    "start_time": "2022-11-24T12:23:00.728Z"
   },
   {
    "duration": 6,
    "start_time": "2022-11-24T12:23:04.207Z"
   },
   {
    "duration": 5,
    "start_time": "2022-11-24T12:23:05.312Z"
   },
   {
    "duration": 4,
    "start_time": "2022-11-24T12:23:06.704Z"
   },
   {
    "duration": 5,
    "start_time": "2022-11-24T12:23:08.103Z"
   },
   {
    "duration": 4,
    "start_time": "2022-11-24T12:23:09.792Z"
   },
   {
    "duration": 5,
    "start_time": "2022-11-24T12:23:11.368Z"
   },
   {
    "duration": 22,
    "start_time": "2022-11-24T12:23:12.949Z"
   },
   {
    "duration": 6,
    "start_time": "2022-11-24T12:23:15.600Z"
   },
   {
    "duration": 5,
    "start_time": "2022-11-24T12:23:16.232Z"
   },
   {
    "duration": 5,
    "start_time": "2022-11-24T12:23:17.576Z"
   },
   {
    "duration": 13,
    "start_time": "2022-11-24T12:23:19.601Z"
   },
   {
    "duration": 20,
    "start_time": "2022-11-24T12:23:21.544Z"
   },
   {
    "duration": 4,
    "start_time": "2022-11-24T12:23:22.984Z"
   },
   {
    "duration": 4,
    "start_time": "2022-11-24T12:23:24.472Z"
   },
   {
    "duration": 4,
    "start_time": "2022-11-24T12:23:24.864Z"
   },
   {
    "duration": 5,
    "start_time": "2022-11-24T12:23:25.304Z"
   },
   {
    "duration": 16,
    "start_time": "2022-11-24T12:23:27.400Z"
   },
   {
    "duration": 14,
    "start_time": "2022-11-24T12:23:28.304Z"
   },
   {
    "duration": 5,
    "start_time": "2022-11-24T12:23:30.112Z"
   },
   {
    "duration": 16,
    "start_time": "2022-11-24T12:23:31.385Z"
   },
   {
    "duration": 26,
    "start_time": "2022-11-24T12:23:33.473Z"
   },
   {
    "duration": 7,
    "start_time": "2022-11-24T12:23:35.552Z"
   },
   {
    "duration": 31,
    "start_time": "2022-11-24T12:23:37.825Z"
   },
   {
    "duration": 14,
    "start_time": "2022-11-24T12:23:40.633Z"
   },
   {
    "duration": 20,
    "start_time": "2022-11-24T12:23:45.952Z"
   },
   {
    "duration": 4,
    "start_time": "2022-11-24T12:24:31.377Z"
   },
   {
    "duration": 13,
    "start_time": "2022-11-24T12:24:35.963Z"
   },
   {
    "duration": 51,
    "start_time": "2022-11-26T08:45:15.966Z"
   },
   {
    "duration": 938,
    "start_time": "2022-11-26T08:45:23.479Z"
   },
   {
    "duration": 15,
    "start_time": "2022-11-26T08:45:26.831Z"
   },
   {
    "duration": 768,
    "start_time": "2022-11-26T08:45:28.892Z"
   },
   {
    "duration": 5,
    "start_time": "2022-11-26T08:45:33.200Z"
   },
   {
    "duration": 6,
    "start_time": "2022-11-26T08:45:35.399Z"
   },
   {
    "duration": 5,
    "start_time": "2022-11-26T08:45:37.200Z"
   },
   {
    "duration": 6,
    "start_time": "2022-11-26T08:45:39.231Z"
   },
   {
    "duration": 5,
    "start_time": "2022-11-26T08:45:40.804Z"
   },
   {
    "duration": 5,
    "start_time": "2022-11-26T08:45:42.764Z"
   },
   {
    "duration": 26,
    "start_time": "2022-11-26T08:45:45.063Z"
   },
   {
    "duration": 7,
    "start_time": "2022-11-26T08:45:47.401Z"
   },
   {
    "duration": 5,
    "start_time": "2022-11-26T08:45:48.995Z"
   },
   {
    "duration": 6,
    "start_time": "2022-11-26T08:45:51.173Z"
   },
   {
    "duration": 13,
    "start_time": "2022-11-26T08:45:53.085Z"
   },
   {
    "duration": 21,
    "start_time": "2022-11-26T08:45:56.330Z"
   },
   {
    "duration": 4,
    "start_time": "2022-11-26T08:45:58.526Z"
   },
   {
    "duration": 5,
    "start_time": "2022-11-26T08:45:59.568Z"
   },
   {
    "duration": 4,
    "start_time": "2022-11-26T08:46:00.042Z"
   },
   {
    "duration": 5,
    "start_time": "2022-11-26T08:46:00.663Z"
   },
   {
    "duration": 22,
    "start_time": "2022-11-26T08:46:07.302Z"
   },
   {
    "duration": 15,
    "start_time": "2022-11-26T08:46:09.255Z"
   },
   {
    "duration": 5,
    "start_time": "2022-11-26T08:46:12.564Z"
   },
   {
    "duration": 17,
    "start_time": "2022-11-26T08:46:13.789Z"
   },
   {
    "duration": 40,
    "start_time": "2022-11-26T08:46:16.395Z"
   },
   {
    "duration": 7,
    "start_time": "2022-11-26T08:46:21.881Z"
   },
   {
    "duration": 32,
    "start_time": "2022-11-26T08:46:25.979Z"
   },
   {
    "duration": 14,
    "start_time": "2022-11-26T08:46:28.168Z"
   },
   {
    "duration": 23,
    "start_time": "2022-11-26T08:46:30.714Z"
   },
   {
    "duration": 4,
    "start_time": "2022-11-26T08:46:34.015Z"
   },
   {
    "duration": 14,
    "start_time": "2022-11-26T08:46:36.163Z"
   },
   {
    "duration": 115,
    "start_time": "2022-11-26T08:46:41.577Z"
   },
   {
    "duration": 7,
    "start_time": "2022-11-26T08:49:03.010Z"
   },
   {
    "duration": 8,
    "start_time": "2022-11-26T08:49:45.300Z"
   },
   {
    "duration": 8,
    "start_time": "2022-11-26T08:50:27.344Z"
   },
   {
    "duration": 2,
    "start_time": "2022-11-26T08:55:21.839Z"
   },
   {
    "duration": 698,
    "start_time": "2022-11-26T08:56:55.450Z"
   },
   {
    "duration": 16,
    "start_time": "2022-11-26T08:56:58.427Z"
   },
   {
    "duration": 799,
    "start_time": "2022-11-26T08:57:00.444Z"
   },
   {
    "duration": 6,
    "start_time": "2022-11-26T08:57:04.409Z"
   },
   {
    "duration": 7,
    "start_time": "2022-11-26T08:57:06.324Z"
   },
   {
    "duration": 5,
    "start_time": "2022-11-26T08:57:07.066Z"
   },
   {
    "duration": 6,
    "start_time": "2022-11-26T08:57:09.035Z"
   },
   {
    "duration": 5,
    "start_time": "2022-11-26T08:57:11.097Z"
   },
   {
    "duration": 6,
    "start_time": "2022-11-26T08:57:12.826Z"
   },
   {
    "duration": 27,
    "start_time": "2022-11-26T08:57:14.863Z"
   },
   {
    "duration": 5,
    "start_time": "2022-11-26T08:57:17.098Z"
   },
   {
    "duration": 6,
    "start_time": "2022-11-26T08:57:17.580Z"
   },
   {
    "duration": 5,
    "start_time": "2022-11-26T08:57:19.551Z"
   },
   {
    "duration": 15,
    "start_time": "2022-11-26T08:57:20.173Z"
   },
   {
    "duration": 16,
    "start_time": "2022-11-26T08:57:22.657Z"
   },
   {
    "duration": 5,
    "start_time": "2022-11-26T08:57:24.070Z"
   },
   {
    "duration": 5,
    "start_time": "2022-11-26T08:57:24.646Z"
   },
   {
    "duration": 4,
    "start_time": "2022-11-26T08:57:25.156Z"
   },
   {
    "duration": 6,
    "start_time": "2022-11-26T08:57:25.514Z"
   },
   {
    "duration": 16,
    "start_time": "2022-11-26T08:57:27.895Z"
   },
   {
    "duration": 13,
    "start_time": "2022-11-26T08:57:28.548Z"
   },
   {
    "duration": 6,
    "start_time": "2022-11-26T08:57:30.966Z"
   },
   {
    "duration": 19,
    "start_time": "2022-11-26T08:57:32.344Z"
   },
   {
    "duration": 123,
    "start_time": "2022-11-26T08:57:34.637Z"
   },
   {
    "duration": 8,
    "start_time": "2022-11-26T08:57:37.503Z"
   },
   {
    "duration": 9,
    "start_time": "2022-11-26T08:59:51.874Z"
   },
   {
    "duration": 85,
    "start_time": "2022-11-26T09:01:46.160Z"
   },
   {
    "duration": 9,
    "start_time": "2022-11-26T09:01:50.300Z"
   },
   {
    "duration": 8,
    "start_time": "2022-11-26T09:02:10.792Z"
   },
   {
    "duration": 6,
    "start_time": "2022-11-26T09:03:31.704Z"
   },
   {
    "duration": 60,
    "start_time": "2022-11-26T09:15:48.607Z"
   },
   {
    "duration": 220,
    "start_time": "2022-11-26T09:15:55.010Z"
   },
   {
    "duration": 25,
    "start_time": "2022-11-26T09:28:33.102Z"
   },
   {
    "duration": 34,
    "start_time": "2022-11-26T09:28:56.286Z"
   },
   {
    "duration": 5,
    "start_time": "2022-11-26T09:29:49.704Z"
   },
   {
    "duration": 254,
    "start_time": "2022-11-26T09:29:57.375Z"
   },
   {
    "duration": 247,
    "start_time": "2022-11-26T09:30:08.893Z"
   },
   {
    "duration": 726,
    "start_time": "2022-11-26T09:32:56.099Z"
   },
   {
    "duration": 881,
    "start_time": "2022-11-26T09:33:05.954Z"
   },
   {
    "duration": 286,
    "start_time": "2022-11-26T09:33:20.345Z"
   },
   {
    "duration": 14,
    "start_time": "2022-11-26T09:34:02.153Z"
   },
   {
    "duration": 21,
    "start_time": "2022-11-26T09:34:08.167Z"
   },
   {
    "duration": 273,
    "start_time": "2022-11-26T09:34:14.258Z"
   },
   {
    "duration": 271,
    "start_time": "2022-11-26T09:35:18.866Z"
   },
   {
    "duration": 276,
    "start_time": "2022-11-26T09:35:42.413Z"
   },
   {
    "duration": 271,
    "start_time": "2022-11-26T09:35:50.243Z"
   },
   {
    "duration": 1930,
    "start_time": "2022-11-26T09:36:29.248Z"
   },
   {
    "duration": 274,
    "start_time": "2022-11-26T09:36:47.777Z"
   },
   {
    "duration": 8,
    "start_time": "2022-11-26T09:42:51.610Z"
   },
   {
    "duration": 715,
    "start_time": "2022-11-26T09:42:58.245Z"
   },
   {
    "duration": 17,
    "start_time": "2022-11-26T09:43:00.290Z"
   },
   {
    "duration": 804,
    "start_time": "2022-11-26T09:43:02.175Z"
   },
   {
    "duration": 6,
    "start_time": "2022-11-26T09:43:05.931Z"
   },
   {
    "duration": 5,
    "start_time": "2022-11-26T09:43:07.316Z"
   },
   {
    "duration": 5,
    "start_time": "2022-11-26T09:43:08.833Z"
   },
   {
    "duration": 5,
    "start_time": "2022-11-26T09:43:10.464Z"
   },
   {
    "duration": 5,
    "start_time": "2022-11-26T09:43:11.995Z"
   },
   {
    "duration": 8,
    "start_time": "2022-11-26T09:43:13.668Z"
   },
   {
    "duration": 26,
    "start_time": "2022-11-26T09:43:15.687Z"
   },
   {
    "duration": 5,
    "start_time": "2022-11-26T09:43:17.491Z"
   },
   {
    "duration": 6,
    "start_time": "2022-11-26T09:43:18.214Z"
   },
   {
    "duration": 6,
    "start_time": "2022-11-26T09:43:19.980Z"
   },
   {
    "duration": 16,
    "start_time": "2022-11-26T09:43:21.685Z"
   },
   {
    "duration": 17,
    "start_time": "2022-11-26T09:43:41.964Z"
   },
   {
    "duration": 4,
    "start_time": "2022-11-26T09:43:43.461Z"
   },
   {
    "duration": 5,
    "start_time": "2022-11-26T09:43:44.628Z"
   },
   {
    "duration": 4,
    "start_time": "2022-11-26T09:43:45.280Z"
   },
   {
    "duration": 6,
    "start_time": "2022-11-26T09:43:45.856Z"
   },
   {
    "duration": 21,
    "start_time": "2022-11-26T09:43:48.195Z"
   },
   {
    "duration": 14,
    "start_time": "2022-11-26T09:43:52.790Z"
   },
   {
    "duration": 6,
    "start_time": "2022-11-26T09:43:55.065Z"
   },
   {
    "duration": 18,
    "start_time": "2022-11-26T09:43:55.622Z"
   },
   {
    "duration": 121,
    "start_time": "2022-11-26T09:43:57.793Z"
   },
   {
    "duration": 9,
    "start_time": "2022-11-26T09:44:00.218Z"
   },
   {
    "duration": 219,
    "start_time": "2022-11-26T09:44:10.182Z"
   },
   {
    "duration": 10,
    "start_time": "2022-11-26T09:44:13.501Z"
   },
   {
    "duration": 5,
    "start_time": "2022-11-26T09:44:17.511Z"
   },
   {
    "duration": 264,
    "start_time": "2022-11-26T09:44:20.238Z"
   },
   {
    "duration": 100,
    "start_time": "2022-11-26T09:45:20.759Z"
   },
   {
    "duration": 238,
    "start_time": "2022-11-26T09:45:30.879Z"
   },
   {
    "duration": 1029,
    "start_time": "2022-11-26T09:48:53.592Z"
   },
   {
    "duration": 779,
    "start_time": "2022-11-26T09:49:44.052Z"
   },
   {
    "duration": 884,
    "start_time": "2022-11-26T09:49:51.171Z"
   },
   {
    "duration": 235,
    "start_time": "2022-11-26T09:49:59.356Z"
   },
   {
    "duration": 249,
    "start_time": "2022-11-26T09:51:01.740Z"
   },
   {
    "duration": 282,
    "start_time": "2022-11-26T09:51:10.094Z"
   },
   {
    "duration": 273,
    "start_time": "2022-11-26T09:51:16.475Z"
   },
   {
    "duration": 241,
    "start_time": "2022-11-26T09:51:32.672Z"
   },
   {
    "duration": 718,
    "start_time": "2022-11-26T09:55:35.532Z"
   },
   {
    "duration": 16,
    "start_time": "2022-11-26T09:55:38.033Z"
   },
   {
    "duration": 821,
    "start_time": "2022-11-26T09:55:39.996Z"
   },
   {
    "duration": 5,
    "start_time": "2022-11-26T09:55:43.630Z"
   },
   {
    "duration": 6,
    "start_time": "2022-11-26T09:55:45.243Z"
   },
   {
    "duration": 5,
    "start_time": "2022-11-26T09:55:47.291Z"
   },
   {
    "duration": 6,
    "start_time": "2022-11-26T09:55:48.881Z"
   },
   {
    "duration": 4,
    "start_time": "2022-11-26T09:55:50.101Z"
   },
   {
    "duration": 5,
    "start_time": "2022-11-26T09:55:52.089Z"
   },
   {
    "duration": 26,
    "start_time": "2022-11-26T09:55:53.737Z"
   },
   {
    "duration": 5,
    "start_time": "2022-11-26T09:55:56.121Z"
   },
   {
    "duration": 8,
    "start_time": "2022-11-26T09:55:56.478Z"
   },
   {
    "duration": 5,
    "start_time": "2022-11-26T09:55:58.416Z"
   },
   {
    "duration": 14,
    "start_time": "2022-11-26T09:55:58.771Z"
   },
   {
    "duration": 16,
    "start_time": "2022-11-26T09:56:00.877Z"
   },
   {
    "duration": 5,
    "start_time": "2022-11-26T09:56:02.794Z"
   },
   {
    "duration": 5,
    "start_time": "2022-11-26T09:56:04.437Z"
   },
   {
    "duration": 5,
    "start_time": "2022-11-26T09:56:04.878Z"
   },
   {
    "duration": 5,
    "start_time": "2022-11-26T09:56:05.362Z"
   },
   {
    "duration": 16,
    "start_time": "2022-11-26T09:56:07.532Z"
   },
   {
    "duration": 13,
    "start_time": "2022-11-26T09:56:10.796Z"
   },
   {
    "duration": 6,
    "start_time": "2022-11-26T09:56:12.833Z"
   },
   {
    "duration": 18,
    "start_time": "2022-11-26T09:56:13.247Z"
   },
   {
    "duration": 130,
    "start_time": "2022-11-26T09:56:15.319Z"
   },
   {
    "duration": 8,
    "start_time": "2022-11-26T09:56:17.248Z"
   },
   {
    "duration": 212,
    "start_time": "2022-11-26T09:56:19.334Z"
   },
   {
    "duration": 9,
    "start_time": "2022-11-26T09:56:21.952Z"
   },
   {
    "duration": 5,
    "start_time": "2022-11-26T09:56:30.444Z"
   },
   {
    "duration": 283,
    "start_time": "2022-11-26T09:56:44.457Z"
   },
   {
    "duration": 251,
    "start_time": "2022-11-26T09:56:52.327Z"
   },
   {
    "duration": 256,
    "start_time": "2022-11-26T09:57:00.936Z"
   },
   {
    "duration": 243,
    "start_time": "2022-11-26T09:57:07.369Z"
   },
   {
    "duration": 14,
    "start_time": "2022-11-26T10:10:39.891Z"
   },
   {
    "duration": 711,
    "start_time": "2022-11-26T10:17:12.395Z"
   },
   {
    "duration": 16,
    "start_time": "2022-11-26T10:17:14.848Z"
   },
   {
    "duration": 799,
    "start_time": "2022-11-26T10:17:16.809Z"
   },
   {
    "duration": 6,
    "start_time": "2022-11-26T10:17:20.499Z"
   },
   {
    "duration": 5,
    "start_time": "2022-11-26T10:17:21.985Z"
   },
   {
    "duration": 6,
    "start_time": "2022-11-26T10:17:23.195Z"
   },
   {
    "duration": 6,
    "start_time": "2022-11-26T10:17:24.784Z"
   },
   {
    "duration": 5,
    "start_time": "2022-11-26T10:17:26.483Z"
   },
   {
    "duration": 7,
    "start_time": "2022-11-26T10:17:28.029Z"
   },
   {
    "duration": 26,
    "start_time": "2022-11-26T10:17:29.611Z"
   },
   {
    "duration": 6,
    "start_time": "2022-11-26T10:17:31.660Z"
   },
   {
    "duration": 7,
    "start_time": "2022-11-26T10:17:32.183Z"
   },
   {
    "duration": 6,
    "start_time": "2022-11-26T10:17:34.057Z"
   },
   {
    "duration": 21,
    "start_time": "2022-11-26T10:17:36.513Z"
   },
   {
    "duration": 13,
    "start_time": "2022-11-26T10:17:41.961Z"
   },
   {
    "duration": 5,
    "start_time": "2022-11-26T10:17:44.527Z"
   },
   {
    "duration": 4,
    "start_time": "2022-11-26T10:17:45.596Z"
   },
   {
    "duration": 4,
    "start_time": "2022-11-26T10:17:48.129Z"
   },
   {
    "duration": 6,
    "start_time": "2022-11-26T10:17:48.469Z"
   },
   {
    "duration": 15,
    "start_time": "2022-11-26T10:17:50.264Z"
   },
   {
    "duration": 13,
    "start_time": "2022-11-26T10:17:51.371Z"
   },
   {
    "duration": 5,
    "start_time": "2022-11-26T10:17:53.442Z"
   },
   {
    "duration": 16,
    "start_time": "2022-11-26T10:17:53.917Z"
   },
   {
    "duration": 117,
    "start_time": "2022-11-26T10:17:56.043Z"
   },
   {
    "duration": 7,
    "start_time": "2022-11-26T10:17:58.084Z"
   },
   {
    "duration": 195,
    "start_time": "2022-11-26T10:18:00.288Z"
   },
   {
    "duration": 9,
    "start_time": "2022-11-26T10:18:02.425Z"
   },
   {
    "duration": 5,
    "start_time": "2022-11-26T10:18:05.212Z"
   },
   {
    "duration": 281,
    "start_time": "2022-11-26T10:18:06.979Z"
   },
   {
    "duration": 8,
    "start_time": "2022-11-26T10:21:18.497Z"
   },
   {
    "duration": 7,
    "start_time": "2022-11-26T10:22:18.565Z"
   },
   {
    "duration": 8,
    "start_time": "2022-11-26T10:22:43.033Z"
   },
   {
    "duration": 9,
    "start_time": "2022-11-26T10:23:34.251Z"
   },
   {
    "duration": 8,
    "start_time": "2022-11-26T10:25:19.968Z"
   },
   {
    "duration": 8,
    "start_time": "2022-11-26T10:25:45.715Z"
   },
   {
    "duration": 18,
    "start_time": "2022-11-26T10:25:50.923Z"
   },
   {
    "duration": 5,
    "start_time": "2022-11-26T10:26:09.344Z"
   },
   {
    "duration": 8,
    "start_time": "2022-11-26T10:26:19.885Z"
   },
   {
    "duration": 9,
    "start_time": "2022-11-26T10:26:34.808Z"
   },
   {
    "duration": 9,
    "start_time": "2022-11-26T10:27:14.522Z"
   },
   {
    "duration": 10,
    "start_time": "2022-11-26T10:27:28.496Z"
   },
   {
    "duration": 69,
    "start_time": "2022-11-26T10:29:34.739Z"
   },
   {
    "duration": 8,
    "start_time": "2022-11-26T10:30:20.780Z"
   },
   {
    "duration": 8,
    "start_time": "2022-11-26T10:31:46.907Z"
   },
   {
    "duration": 754,
    "start_time": "2022-11-26T10:32:36.052Z"
   },
   {
    "duration": 16,
    "start_time": "2022-11-26T10:32:38.305Z"
   },
   {
    "duration": 806,
    "start_time": "2022-11-26T10:32:40.045Z"
   },
   {
    "duration": 6,
    "start_time": "2022-11-26T10:32:42.877Z"
   },
   {
    "duration": 6,
    "start_time": "2022-11-26T10:32:44.365Z"
   },
   {
    "duration": 7,
    "start_time": "2022-11-26T10:32:45.804Z"
   },
   {
    "duration": 6,
    "start_time": "2022-11-26T10:32:46.926Z"
   },
   {
    "duration": 5,
    "start_time": "2022-11-26T10:32:48.342Z"
   },
   {
    "duration": 6,
    "start_time": "2022-11-26T10:32:49.555Z"
   },
   {
    "duration": 25,
    "start_time": "2022-11-26T10:32:51.425Z"
   },
   {
    "duration": 5,
    "start_time": "2022-11-26T10:32:53.160Z"
   },
   {
    "duration": 6,
    "start_time": "2022-11-26T10:32:53.572Z"
   },
   {
    "duration": 8,
    "start_time": "2022-11-26T10:32:55.169Z"
   },
   {
    "duration": 21,
    "start_time": "2022-11-26T10:32:56.477Z"
   },
   {
    "duration": 15,
    "start_time": "2022-11-26T10:32:58.350Z"
   },
   {
    "duration": 4,
    "start_time": "2022-11-26T10:33:00.079Z"
   },
   {
    "duration": 5,
    "start_time": "2022-11-26T10:33:02.042Z"
   },
   {
    "duration": 5,
    "start_time": "2022-11-26T10:33:03.721Z"
   },
   {
    "duration": 6,
    "start_time": "2022-11-26T10:33:04.935Z"
   },
   {
    "duration": 16,
    "start_time": "2022-11-26T10:33:07.042Z"
   },
   {
    "duration": 15,
    "start_time": "2022-11-26T10:33:07.545Z"
   },
   {
    "duration": 5,
    "start_time": "2022-11-26T10:33:09.980Z"
   },
   {
    "duration": 18,
    "start_time": "2022-11-26T10:33:10.390Z"
   },
   {
    "duration": 123,
    "start_time": "2022-11-26T10:33:13.134Z"
   },
   {
    "duration": 11,
    "start_time": "2022-11-26T10:33:14.823Z"
   },
   {
    "duration": 209,
    "start_time": "2022-11-26T10:33:17.211Z"
   },
   {
    "duration": 10,
    "start_time": "2022-11-26T10:33:22.006Z"
   },
   {
    "duration": 5,
    "start_time": "2022-11-26T10:33:25.357Z"
   },
   {
    "duration": 279,
    "start_time": "2022-11-26T10:33:27.697Z"
   },
   {
    "duration": 76,
    "start_time": "2022-11-26T10:33:46.796Z"
   },
   {
    "duration": 10,
    "start_time": "2022-11-26T10:33:51.426Z"
   },
   {
    "duration": 10,
    "start_time": "2022-11-26T10:33:55.636Z"
   },
   {
    "duration": 11,
    "start_time": "2022-11-26T10:34:41.119Z"
   },
   {
    "duration": 11,
    "start_time": "2022-11-26T10:34:49.788Z"
   },
   {
    "duration": 12,
    "start_time": "2022-11-26T10:35:04.199Z"
   },
   {
    "duration": 769,
    "start_time": "2022-11-26T10:35:24.488Z"
   },
   {
    "duration": 12,
    "start_time": "2022-11-26T10:35:32.403Z"
   },
   {
    "duration": 12,
    "start_time": "2022-11-26T10:37:07.789Z"
   },
   {
    "duration": 13,
    "start_time": "2022-11-26T10:38:54.930Z"
   },
   {
    "duration": 9,
    "start_time": "2022-11-26T10:39:10.588Z"
   },
   {
    "duration": 13,
    "start_time": "2022-11-26T10:39:14.019Z"
   },
   {
    "duration": 9,
    "start_time": "2022-11-26T10:39:53.030Z"
   },
   {
    "duration": 759,
    "start_time": "2022-11-26T10:39:58.525Z"
   },
   {
    "duration": 12,
    "start_time": "2022-11-26T10:40:09.999Z"
   },
   {
    "duration": 790,
    "start_time": "2022-11-26T10:40:11.922Z"
   },
   {
    "duration": 15,
    "start_time": "2022-11-26T10:42:14.650Z"
   },
   {
    "duration": 6,
    "start_time": "2022-11-26T10:42:40.662Z"
   },
   {
    "duration": 13,
    "start_time": "2022-11-26T10:42:49.157Z"
   },
   {
    "duration": 12,
    "start_time": "2022-11-26T10:44:33.288Z"
   },
   {
    "duration": 10,
    "start_time": "2022-11-26T10:45:00.799Z"
   },
   {
    "duration": 15,
    "start_time": "2022-11-26T10:45:38.143Z"
   },
   {
    "duration": 11,
    "start_time": "2022-11-26T10:46:24.644Z"
   },
   {
    "duration": 779,
    "start_time": "2022-11-26T10:46:45.320Z"
   },
   {
    "duration": 701,
    "start_time": "2022-11-26T10:47:06.338Z"
   },
   {
    "duration": 6,
    "start_time": "2022-11-26T10:47:45.492Z"
   },
   {
    "duration": 12,
    "start_time": "2022-11-26T10:47:51.192Z"
   },
   {
    "duration": 8,
    "start_time": "2022-11-26T10:51:53.192Z"
   },
   {
    "duration": 7,
    "start_time": "2022-11-26T10:51:59.371Z"
   },
   {
    "duration": 14,
    "start_time": "2022-11-26T10:52:21.524Z"
   },
   {
    "duration": 9,
    "start_time": "2022-11-26T10:52:27.539Z"
   },
   {
    "duration": 7,
    "start_time": "2022-11-26T10:52:32.391Z"
   },
   {
    "duration": 46,
    "start_time": "2022-11-26T10:54:28.297Z"
   },
   {
    "duration": 14,
    "start_time": "2022-11-26T10:54:52.262Z"
   },
   {
    "duration": 15,
    "start_time": "2022-11-26T10:55:02.480Z"
   },
   {
    "duration": 4,
    "start_time": "2022-11-26T10:55:43.264Z"
   },
   {
    "duration": 5,
    "start_time": "2022-11-26T10:56:15.533Z"
   },
   {
    "duration": 727,
    "start_time": "2022-11-26T10:59:50.544Z"
   },
   {
    "duration": 16,
    "start_time": "2022-11-26T10:59:53.842Z"
   },
   {
    "duration": 835,
    "start_time": "2022-11-26T10:59:55.666Z"
   },
   {
    "duration": 5,
    "start_time": "2022-11-26T10:59:58.639Z"
   },
   {
    "duration": 7,
    "start_time": "2022-11-26T11:00:00.213Z"
   },
   {
    "duration": 7,
    "start_time": "2022-11-26T11:00:02.116Z"
   },
   {
    "duration": 7,
    "start_time": "2022-11-26T11:00:03.792Z"
   },
   {
    "duration": 6,
    "start_time": "2022-11-26T11:00:05.296Z"
   },
   {
    "duration": 6,
    "start_time": "2022-11-26T11:00:06.946Z"
   },
   {
    "duration": 27,
    "start_time": "2022-11-26T11:00:08.618Z"
   },
   {
    "duration": 6,
    "start_time": "2022-11-26T11:00:10.571Z"
   },
   {
    "duration": 6,
    "start_time": "2022-11-26T11:00:11.126Z"
   },
   {
    "duration": 6,
    "start_time": "2022-11-26T11:00:12.784Z"
   },
   {
    "duration": 23,
    "start_time": "2022-11-26T11:00:13.268Z"
   },
   {
    "duration": 17,
    "start_time": "2022-11-26T11:00:15.354Z"
   },
   {
    "duration": 6,
    "start_time": "2022-11-26T11:00:16.970Z"
   },
   {
    "duration": 6,
    "start_time": "2022-11-26T11:00:18.198Z"
   },
   {
    "duration": 4,
    "start_time": "2022-11-26T11:00:18.637Z"
   },
   {
    "duration": 7,
    "start_time": "2022-11-26T11:00:18.998Z"
   },
   {
    "duration": 24,
    "start_time": "2022-11-26T11:00:20.795Z"
   },
   {
    "duration": 15,
    "start_time": "2022-11-26T11:00:22.350Z"
   },
   {
    "duration": 5,
    "start_time": "2022-11-26T11:00:24.351Z"
   },
   {
    "duration": 21,
    "start_time": "2022-11-26T11:00:24.880Z"
   },
   {
    "duration": 130,
    "start_time": "2022-11-26T11:00:27.736Z"
   },
   {
    "duration": 9,
    "start_time": "2022-11-26T11:00:30.259Z"
   },
   {
    "duration": 211,
    "start_time": "2022-11-26T11:00:32.685Z"
   },
   {
    "duration": 9,
    "start_time": "2022-11-26T11:00:37.028Z"
   },
   {
    "duration": 5,
    "start_time": "2022-11-26T11:00:39.489Z"
   },
   {
    "duration": 265,
    "start_time": "2022-11-26T11:00:41.850Z"
   },
   {
    "duration": 19,
    "start_time": "2022-11-26T11:00:55.390Z"
   },
   {
    "duration": 13,
    "start_time": "2022-11-26T11:01:17.311Z"
   },
   {
    "duration": 7,
    "start_time": "2022-11-26T11:02:24.411Z"
   },
   {
    "duration": 4,
    "start_time": "2022-11-26T11:04:29.703Z"
   },
   {
    "duration": 22,
    "start_time": "2022-11-26T11:08:24.525Z"
   },
   {
    "duration": 2,
    "start_time": "2022-11-26T11:09:20.623Z"
   },
   {
    "duration": 249,
    "start_time": "2022-11-26T11:14:32.710Z"
   },
   {
    "duration": 677,
    "start_time": "2022-11-26T11:15:12.464Z"
   },
   {
    "duration": 16,
    "start_time": "2022-11-26T11:15:15.326Z"
   },
   {
    "duration": 823,
    "start_time": "2022-11-26T11:15:17.907Z"
   },
   {
    "duration": 6,
    "start_time": "2022-11-26T11:15:22.183Z"
   },
   {
    "duration": 6,
    "start_time": "2022-11-26T11:15:24.147Z"
   },
   {
    "duration": 5,
    "start_time": "2022-11-26T11:15:25.576Z"
   },
   {
    "duration": 6,
    "start_time": "2022-11-26T11:15:28.184Z"
   },
   {
    "duration": 6,
    "start_time": "2022-11-26T11:15:28.611Z"
   },
   {
    "duration": 6,
    "start_time": "2022-11-26T11:15:30.621Z"
   },
   {
    "duration": 28,
    "start_time": "2022-11-26T11:15:32.591Z"
   },
   {
    "duration": 5,
    "start_time": "2022-11-26T11:15:35.079Z"
   },
   {
    "duration": 7,
    "start_time": "2022-11-26T11:15:35.701Z"
   },
   {
    "duration": 6,
    "start_time": "2022-11-26T11:15:38.277Z"
   },
   {
    "duration": 14,
    "start_time": "2022-11-26T11:15:38.838Z"
   },
   {
    "duration": 16,
    "start_time": "2022-11-26T11:15:41.223Z"
   },
   {
    "duration": 4,
    "start_time": "2022-11-26T11:15:42.905Z"
   },
   {
    "duration": 5,
    "start_time": "2022-11-26T11:15:45.035Z"
   },
   {
    "duration": 5,
    "start_time": "2022-11-26T11:15:47.077Z"
   },
   {
    "duration": 6,
    "start_time": "2022-11-26T11:15:48.981Z"
   },
   {
    "duration": 16,
    "start_time": "2022-11-26T11:15:51.678Z"
   },
   {
    "duration": 14,
    "start_time": "2022-11-26T11:15:53.979Z"
   },
   {
    "duration": 7,
    "start_time": "2022-11-26T11:15:56.432Z"
   },
   {
    "duration": 18,
    "start_time": "2022-11-26T11:15:57.043Z"
   },
   {
    "duration": 123,
    "start_time": "2022-11-26T11:15:59.180Z"
   },
   {
    "duration": 8,
    "start_time": "2022-11-26T11:16:01.523Z"
   },
   {
    "duration": 196,
    "start_time": "2022-11-26T11:16:03.520Z"
   },
   {
    "duration": 11,
    "start_time": "2022-11-26T11:16:05.910Z"
   },
   {
    "duration": 5,
    "start_time": "2022-11-26T11:16:08.904Z"
   },
   {
    "duration": 275,
    "start_time": "2022-11-26T11:16:10.676Z"
   },
   {
    "duration": 16,
    "start_time": "2022-11-26T11:16:14.080Z"
   },
   {
    "duration": 13,
    "start_time": "2022-11-26T11:16:16.745Z"
   },
   {
    "duration": 8,
    "start_time": "2022-11-26T11:16:19.205Z"
   },
   {
    "duration": 5,
    "start_time": "2022-11-26T11:16:21.614Z"
   },
   {
    "duration": 28,
    "start_time": "2022-11-26T11:16:28.080Z"
   },
   {
    "duration": 23,
    "start_time": "2022-11-26T11:17:49.102Z"
   },
   {
    "duration": 19,
    "start_time": "2022-11-26T11:18:22.329Z"
   },
   {
    "duration": 250,
    "start_time": "2022-11-26T11:18:31.807Z"
   },
   {
    "duration": 260,
    "start_time": "2022-11-26T11:25:37.891Z"
   },
   {
    "duration": 171,
    "start_time": "2022-11-26T11:34:25.635Z"
   },
   {
    "duration": 111,
    "start_time": "2022-11-26T11:37:03.889Z"
   },
   {
    "duration": 111,
    "start_time": "2022-11-26T11:37:18.832Z"
   },
   {
    "duration": 437,
    "start_time": "2022-11-26T11:37:42.112Z"
   },
   {
    "duration": 3121,
    "start_time": "2022-11-26T11:37:56.843Z"
   },
   {
    "duration": 543,
    "start_time": "2022-11-26T11:38:23.601Z"
   },
   {
    "duration": 3202,
    "start_time": "2022-11-26T11:38:35.635Z"
   },
   {
    "duration": 233,
    "start_time": "2022-11-26T11:39:53.428Z"
   },
   {
    "duration": 307,
    "start_time": "2022-11-26T11:42:16.407Z"
   },
   {
    "duration": 123,
    "start_time": "2022-11-26T11:42:37.205Z"
   },
   {
    "duration": 101,
    "start_time": "2022-11-26T11:42:50.932Z"
   },
   {
    "duration": 266,
    "start_time": "2022-11-26T11:42:58.130Z"
   },
   {
    "duration": 246,
    "start_time": "2022-11-26T11:43:07.391Z"
   },
   {
    "duration": 241,
    "start_time": "2022-11-26T11:45:13.849Z"
   },
   {
    "duration": 277,
    "start_time": "2022-11-26T11:45:31.599Z"
   },
   {
    "duration": 164,
    "start_time": "2022-11-26T12:29:30.139Z"
   },
   {
    "duration": 11,
    "start_time": "2022-11-26T12:30:21.108Z"
   },
   {
    "duration": 10,
    "start_time": "2022-11-26T12:30:36.893Z"
   },
   {
    "duration": 14,
    "start_time": "2022-11-26T12:30:52.809Z"
   },
   {
    "duration": 16,
    "start_time": "2022-11-26T12:36:39.614Z"
   },
   {
    "duration": 718,
    "start_time": "2022-11-26T12:42:26.105Z"
   },
   {
    "duration": 18,
    "start_time": "2022-11-26T12:42:36.915Z"
   },
   {
    "duration": 136,
    "start_time": "2022-11-26T12:43:06.584Z"
   },
   {
    "duration": 145,
    "start_time": "2022-11-26T12:46:38.473Z"
   },
   {
    "duration": 245,
    "start_time": "2022-11-26T12:48:13.706Z"
   },
   {
    "duration": 254,
    "start_time": "2022-11-26T12:48:47.026Z"
   },
   {
    "duration": 254,
    "start_time": "2022-11-26T12:49:09.565Z"
   },
   {
    "duration": 283,
    "start_time": "2022-11-26T12:49:54.655Z"
   },
   {
    "duration": 12,
    "start_time": "2022-11-26T12:50:57.182Z"
   },
   {
    "duration": 154,
    "start_time": "2022-11-26T12:51:22.244Z"
   },
   {
    "duration": 15,
    "start_time": "2022-11-26T12:55:16.678Z"
   },
   {
    "duration": 217,
    "start_time": "2022-11-26T12:55:52.478Z"
   },
   {
    "duration": 268,
    "start_time": "2022-11-26T12:56:12.023Z"
   },
   {
    "duration": 154,
    "start_time": "2022-11-26T12:56:21.472Z"
   },
   {
    "duration": 8,
    "start_time": "2022-11-26T13:00:48.741Z"
   },
   {
    "duration": 18,
    "start_time": "2022-11-26T13:01:56.851Z"
   },
   {
    "duration": 248,
    "start_time": "2022-11-26T13:02:13.092Z"
   },
   {
    "duration": 130,
    "start_time": "2022-11-26T13:02:24.178Z"
   },
   {
    "duration": 16,
    "start_time": "2022-11-26T13:03:52.367Z"
   },
   {
    "duration": 274,
    "start_time": "2022-11-26T13:04:10.410Z"
   },
   {
    "duration": 163,
    "start_time": "2022-11-26T13:04:22.225Z"
   },
   {
    "duration": 40,
    "start_time": "2022-11-26T13:04:59.574Z"
   },
   {
    "duration": 20,
    "start_time": "2022-11-26T13:05:44.951Z"
   },
   {
    "duration": 137,
    "start_time": "2022-11-26T13:06:03.159Z"
   },
   {
    "duration": 143,
    "start_time": "2022-11-26T13:06:15.971Z"
   },
   {
    "duration": 8,
    "start_time": "2022-11-26T13:11:21.911Z"
   },
   {
    "duration": 60,
    "start_time": "2022-11-27T07:31:24.688Z"
   },
   {
    "duration": 1095,
    "start_time": "2022-11-27T07:31:36.387Z"
   },
   {
    "duration": 23,
    "start_time": "2022-11-27T07:31:39.957Z"
   },
   {
    "duration": 831,
    "start_time": "2022-11-27T07:31:42.502Z"
   },
   {
    "duration": 5,
    "start_time": "2022-11-27T07:31:47.691Z"
   },
   {
    "duration": 6,
    "start_time": "2022-11-27T07:31:49.440Z"
   },
   {
    "duration": 6,
    "start_time": "2022-11-27T07:31:50.834Z"
   },
   {
    "duration": 8,
    "start_time": "2022-11-27T07:31:52.849Z"
   },
   {
    "duration": 5,
    "start_time": "2022-11-27T07:31:54.632Z"
   },
   {
    "duration": 5,
    "start_time": "2022-11-27T07:31:56.098Z"
   },
   {
    "duration": 37,
    "start_time": "2022-11-27T07:31:58.136Z"
   },
   {
    "duration": 6,
    "start_time": "2022-11-27T07:32:00.510Z"
   },
   {
    "duration": 5,
    "start_time": "2022-11-27T07:32:01.068Z"
   },
   {
    "duration": 7,
    "start_time": "2022-11-27T07:32:03.273Z"
   },
   {
    "duration": 14,
    "start_time": "2022-11-27T07:32:03.923Z"
   },
   {
    "duration": 18,
    "start_time": "2022-11-27T07:32:06.176Z"
   },
   {
    "duration": 5,
    "start_time": "2022-11-27T07:32:07.590Z"
   },
   {
    "duration": 5,
    "start_time": "2022-11-27T07:32:08.031Z"
   },
   {
    "duration": 4,
    "start_time": "2022-11-27T07:32:08.469Z"
   },
   {
    "duration": 14,
    "start_time": "2022-11-27T07:32:09.843Z"
   },
   {
    "duration": 15,
    "start_time": "2022-11-27T07:32:11.573Z"
   },
   {
    "duration": 16,
    "start_time": "2022-11-27T07:32:12.101Z"
   },
   {
    "duration": 5,
    "start_time": "2022-11-27T07:32:14.184Z"
   },
   {
    "duration": 24,
    "start_time": "2022-11-27T07:32:15.138Z"
   },
   {
    "duration": 134,
    "start_time": "2022-11-27T07:32:18.029Z"
   },
   {
    "duration": 8,
    "start_time": "2022-11-27T07:32:20.769Z"
   },
   {
    "duration": 227,
    "start_time": "2022-11-27T07:32:24.755Z"
   },
   {
    "duration": 9,
    "start_time": "2022-11-27T07:32:27.520Z"
   },
   {
    "duration": 5,
    "start_time": "2022-11-27T07:32:29.703Z"
   },
   {
    "duration": 275,
    "start_time": "2022-11-27T07:32:31.501Z"
   },
   {
    "duration": 24,
    "start_time": "2022-11-27T07:32:35.344Z"
   },
   {
    "duration": 15,
    "start_time": "2022-11-27T07:32:37.462Z"
   },
   {
    "duration": 7,
    "start_time": "2022-11-27T07:32:39.518Z"
   },
   {
    "duration": 6,
    "start_time": "2022-11-27T07:32:41.334Z"
   },
   {
    "duration": 22,
    "start_time": "2022-11-27T07:32:46.319Z"
   },
   {
    "duration": 340,
    "start_time": "2022-11-27T07:32:49.018Z"
   },
   {
    "duration": 9,
    "start_time": "2022-11-27T07:32:51.969Z"
   },
   {
    "duration": 291,
    "start_time": "2022-11-27T07:32:53.669Z"
   },
   {
    "duration": 25,
    "start_time": "2022-11-27T07:32:56.048Z"
   },
   {
    "duration": 929,
    "start_time": "2022-11-27T07:33:02.004Z"
   },
   {
    "duration": 155,
    "start_time": "2022-11-27T07:33:05.688Z"
   },
   {
    "duration": 18,
    "start_time": "2022-11-27T07:33:08.225Z"
   },
   {
    "duration": 257,
    "start_time": "2022-11-27T07:33:10.004Z"
   },
   {
    "duration": 149,
    "start_time": "2022-11-27T07:33:12.359Z"
   },
   {
    "duration": 30,
    "start_time": "2022-11-27T07:33:14.634Z"
   },
   {
    "duration": 290,
    "start_time": "2022-11-27T07:33:16.841Z"
   },
   {
    "duration": 172,
    "start_time": "2022-11-27T07:33:19.223Z"
   },
   {
    "duration": 19,
    "start_time": "2022-11-27T07:33:21.688Z"
   },
   {
    "duration": 273,
    "start_time": "2022-11-27T07:33:23.793Z"
   },
   {
    "duration": 167,
    "start_time": "2022-11-27T07:33:26.303Z"
   },
   {
    "duration": 17,
    "start_time": "2022-11-27T07:33:28.419Z"
   },
   {
    "duration": 158,
    "start_time": "2022-11-27T07:33:30.264Z"
   },
   {
    "duration": 143,
    "start_time": "2022-11-27T07:33:32.367Z"
   },
   {
    "duration": 9,
    "start_time": "2022-11-27T07:33:36.100Z"
   },
   {
    "duration": 114,
    "start_time": "2022-11-27T07:33:51.664Z"
   },
   {
    "duration": 14,
    "start_time": "2022-11-27T07:34:18.973Z"
   },
   {
    "duration": 195,
    "start_time": "2022-11-27T07:39:31.503Z"
   },
   {
    "duration": 147,
    "start_time": "2022-11-27T07:41:48.534Z"
   },
   {
    "duration": 119,
    "start_time": "2022-11-27T07:41:52.897Z"
   },
   {
    "duration": 12,
    "start_time": "2022-11-27T07:44:19.420Z"
   },
   {
    "duration": 140,
    "start_time": "2022-11-27T07:44:48.265Z"
   },
   {
    "duration": 758,
    "start_time": "2022-11-27T07:49:43.518Z"
   },
   {
    "duration": 20,
    "start_time": "2022-11-27T07:49:46.006Z"
   },
   {
    "duration": 824,
    "start_time": "2022-11-27T07:49:47.683Z"
   },
   {
    "duration": 6,
    "start_time": "2022-11-27T07:49:51.379Z"
   },
   {
    "duration": 6,
    "start_time": "2022-11-27T07:49:53.223Z"
   },
   {
    "duration": 5,
    "start_time": "2022-11-27T07:49:54.861Z"
   },
   {
    "duration": 6,
    "start_time": "2022-11-27T07:49:56.131Z"
   },
   {
    "duration": 5,
    "start_time": "2022-11-27T07:49:57.386Z"
   },
   {
    "duration": 5,
    "start_time": "2022-11-27T07:49:59.303Z"
   },
   {
    "duration": 40,
    "start_time": "2022-11-27T07:50:01.176Z"
   },
   {
    "duration": 8,
    "start_time": "2022-11-27T07:50:02.877Z"
   },
   {
    "duration": 5,
    "start_time": "2022-11-27T07:50:03.391Z"
   },
   {
    "duration": 6,
    "start_time": "2022-11-27T07:50:05.251Z"
   },
   {
    "duration": 14,
    "start_time": "2022-11-27T07:50:05.792Z"
   },
   {
    "duration": 18,
    "start_time": "2022-11-27T07:50:07.681Z"
   },
   {
    "duration": 6,
    "start_time": "2022-11-27T07:50:09.170Z"
   },
   {
    "duration": 6,
    "start_time": "2022-11-27T07:50:09.656Z"
   },
   {
    "duration": 5,
    "start_time": "2022-11-27T07:50:10.134Z"
   },
   {
    "duration": 6,
    "start_time": "2022-11-27T07:50:10.479Z"
   },
   {
    "duration": 15,
    "start_time": "2022-11-27T07:50:12.490Z"
   },
   {
    "duration": 14,
    "start_time": "2022-11-27T07:50:14.049Z"
   },
   {
    "duration": 7,
    "start_time": "2022-11-27T07:50:16.080Z"
   },
   {
    "duration": 26,
    "start_time": "2022-11-27T07:50:17.289Z"
   },
   {
    "duration": 138,
    "start_time": "2022-11-27T07:50:20.343Z"
   },
   {
    "duration": 8,
    "start_time": "2022-11-27T07:50:22.366Z"
   },
   {
    "duration": 221,
    "start_time": "2022-11-27T07:50:24.905Z"
   },
   {
    "duration": 9,
    "start_time": "2022-11-27T07:50:27.463Z"
   },
   {
    "duration": 5,
    "start_time": "2022-11-27T07:50:30.336Z"
   },
   {
    "duration": 260,
    "start_time": "2022-11-27T07:50:31.941Z"
   },
   {
    "duration": 16,
    "start_time": "2022-11-27T07:50:35.070Z"
   },
   {
    "duration": 12,
    "start_time": "2022-11-27T07:50:37.357Z"
   },
   {
    "duration": 7,
    "start_time": "2022-11-27T07:50:39.457Z"
   },
   {
    "duration": 5,
    "start_time": "2022-11-27T07:50:41.176Z"
   },
   {
    "duration": 21,
    "start_time": "2022-11-27T07:50:42.877Z"
   },
   {
    "duration": 324,
    "start_time": "2022-11-27T07:50:45.130Z"
   },
   {
    "duration": 9,
    "start_time": "2022-11-27T07:50:47.926Z"
   },
   {
    "duration": 353,
    "start_time": "2022-11-27T07:50:49.624Z"
   },
   {
    "duration": 18,
    "start_time": "2022-11-27T07:50:52.349Z"
   },
   {
    "duration": 823,
    "start_time": "2022-11-27T07:50:54.442Z"
   },
   {
    "duration": 170,
    "start_time": "2022-11-27T07:50:57.143Z"
   },
   {
    "duration": 21,
    "start_time": "2022-11-27T07:50:59.191Z"
   },
   {
    "duration": 319,
    "start_time": "2022-11-27T07:51:00.751Z"
   },
   {
    "duration": 159,
    "start_time": "2022-11-27T07:51:03.694Z"
   },
   {
    "duration": 17,
    "start_time": "2022-11-27T07:51:05.647Z"
   },
   {
    "duration": 252,
    "start_time": "2022-11-27T07:51:07.440Z"
   },
   {
    "duration": 184,
    "start_time": "2022-11-27T07:51:09.991Z"
   },
   {
    "duration": 17,
    "start_time": "2022-11-27T07:51:11.911Z"
   },
   {
    "duration": 261,
    "start_time": "2022-11-27T07:51:13.680Z"
   },
   {
    "duration": 201,
    "start_time": "2022-11-27T07:51:15.609Z"
   },
   {
    "duration": 17,
    "start_time": "2022-11-27T07:51:17.634Z"
   },
   {
    "duration": 147,
    "start_time": "2022-11-27T07:51:19.300Z"
   },
   {
    "duration": 142,
    "start_time": "2022-11-27T07:51:21.179Z"
   },
   {
    "duration": 7,
    "start_time": "2022-11-27T07:51:23.592Z"
   },
   {
    "duration": 16,
    "start_time": "2022-11-27T07:52:01.334Z"
   },
   {
    "duration": 15,
    "start_time": "2022-11-27T07:53:31.773Z"
   },
   {
    "duration": 13,
    "start_time": "2022-11-27T07:53:54.443Z"
   },
   {
    "duration": 10,
    "start_time": "2022-11-27T07:54:53.758Z"
   },
   {
    "duration": 121,
    "start_time": "2022-11-27T07:58:31.648Z"
   },
   {
    "duration": 205,
    "start_time": "2022-11-27T07:58:43.377Z"
   },
   {
    "duration": 127,
    "start_time": "2022-11-27T07:59:42.114Z"
   },
   {
    "duration": 120,
    "start_time": "2022-11-27T07:59:52.511Z"
   },
   {
    "duration": 122,
    "start_time": "2022-11-27T07:59:58.197Z"
   },
   {
    "duration": 12,
    "start_time": "2022-11-27T08:02:24.374Z"
   },
   {
    "duration": 1168,
    "start_time": "2022-11-27T08:02:49.644Z"
   },
   {
    "duration": 11,
    "start_time": "2022-11-27T08:02:55.873Z"
   },
   {
    "duration": 117,
    "start_time": "2022-11-27T08:03:18.527Z"
   },
   {
    "duration": 14,
    "start_time": "2022-11-27T08:05:36.623Z"
   },
   {
    "duration": 11,
    "start_time": "2022-11-27T08:06:18.496Z"
   },
   {
    "duration": 119,
    "start_time": "2022-11-27T08:06:41.341Z"
   },
   {
    "duration": 14,
    "start_time": "2022-11-27T08:10:48.883Z"
   },
   {
    "duration": 11,
    "start_time": "2022-11-27T08:11:16.909Z"
   },
   {
    "duration": 133,
    "start_time": "2022-11-27T08:11:53.667Z"
   },
   {
    "duration": 18,
    "start_time": "2022-11-27T08:14:33.610Z"
   },
   {
    "duration": 14,
    "start_time": "2022-11-27T08:15:01.036Z"
   },
   {
    "duration": 162,
    "start_time": "2022-11-27T08:15:19.111Z"
   },
   {
    "duration": 13,
    "start_time": "2022-11-27T08:17:21.819Z"
   },
   {
    "duration": 10,
    "start_time": "2022-11-27T08:17:40.429Z"
   },
   {
    "duration": 132,
    "start_time": "2022-11-27T08:18:02.315Z"
   },
   {
    "duration": 15,
    "start_time": "2022-11-27T08:25:46.374Z"
   },
   {
    "duration": 6,
    "start_time": "2022-11-27T08:58:08.987Z"
   },
   {
    "duration": 7,
    "start_time": "2022-11-27T08:58:40.442Z"
   },
   {
    "duration": 12,
    "start_time": "2022-11-27T08:59:06.448Z"
   },
   {
    "duration": 174,
    "start_time": "2022-11-27T09:02:09.843Z"
   },
   {
    "duration": 128,
    "start_time": "2022-11-27T09:02:35.145Z"
   },
   {
    "duration": 100,
    "start_time": "2022-11-27T09:04:12.738Z"
   },
   {
    "duration": 110,
    "start_time": "2022-11-27T09:04:27.544Z"
   },
   {
    "duration": 102,
    "start_time": "2022-11-27T09:04:33.154Z"
   },
   {
    "duration": 213,
    "start_time": "2022-11-27T09:04:42.747Z"
   },
   {
    "duration": 12,
    "start_time": "2022-11-27T09:08:30.055Z"
   },
   {
    "duration": 12,
    "start_time": "2022-11-27T09:08:45.934Z"
   },
   {
    "duration": 6,
    "start_time": "2022-11-27T09:08:56.574Z"
   },
   {
    "duration": 1211,
    "start_time": "2022-11-27T09:09:20.045Z"
   },
   {
    "duration": 112,
    "start_time": "2022-11-27T09:09:29.320Z"
   },
   {
    "duration": 13,
    "start_time": "2022-11-27T09:11:12.481Z"
   },
   {
    "duration": 107,
    "start_time": "2022-11-27T09:11:34.997Z"
   },
   {
    "duration": 111,
    "start_time": "2022-11-27T09:11:51.181Z"
   },
   {
    "duration": 136,
    "start_time": "2022-11-27T09:12:10.557Z"
   },
   {
    "duration": 15,
    "start_time": "2022-11-27T09:29:24.067Z"
   },
   {
    "duration": 4,
    "start_time": "2022-11-27T09:29:41.271Z"
   },
   {
    "duration": 23,
    "start_time": "2022-11-27T09:29:43.305Z"
   },
   {
    "duration": 4,
    "start_time": "2022-11-27T09:30:39.283Z"
   },
   {
    "duration": 9,
    "start_time": "2022-11-27T09:31:35.363Z"
   },
   {
    "duration": 11,
    "start_time": "2022-11-27T09:31:42.148Z"
   },
   {
    "duration": 10,
    "start_time": "2022-11-27T09:31:55.429Z"
   },
   {
    "duration": 9,
    "start_time": "2022-11-27T09:33:42.423Z"
   },
   {
    "duration": 24,
    "start_time": "2022-11-27T09:33:56.919Z"
   },
   {
    "duration": 8,
    "start_time": "2022-11-27T09:34:06.240Z"
   },
   {
    "duration": 23,
    "start_time": "2022-11-27T09:34:35.818Z"
   },
   {
    "duration": 26,
    "start_time": "2022-11-27T09:34:41.584Z"
   },
   {
    "duration": 10,
    "start_time": "2022-11-27T09:34:55.457Z"
   },
   {
    "duration": 6,
    "start_time": "2022-11-27T09:35:05.787Z"
   },
   {
    "duration": 10,
    "start_time": "2022-11-27T09:36:16.189Z"
   },
   {
    "duration": 9,
    "start_time": "2022-11-27T09:37:19.358Z"
   },
   {
    "duration": 670,
    "start_time": "2022-11-27T09:37:38.101Z"
   },
   {
    "duration": 17,
    "start_time": "2022-11-27T09:37:41.386Z"
   },
   {
    "duration": 767,
    "start_time": "2022-11-27T09:37:43.387Z"
   },
   {
    "duration": 5,
    "start_time": "2022-11-27T09:37:47.232Z"
   },
   {
    "duration": 5,
    "start_time": "2022-11-27T09:37:48.833Z"
   },
   {
    "duration": 5,
    "start_time": "2022-11-27T09:37:50.602Z"
   },
   {
    "duration": 5,
    "start_time": "2022-11-27T09:37:52.124Z"
   },
   {
    "duration": 4,
    "start_time": "2022-11-27T09:37:54.240Z"
   },
   {
    "duration": 5,
    "start_time": "2022-11-27T09:37:55.945Z"
   },
   {
    "duration": 25,
    "start_time": "2022-11-27T09:37:57.432Z"
   },
   {
    "duration": 5,
    "start_time": "2022-11-27T09:37:59.404Z"
   },
   {
    "duration": 8,
    "start_time": "2022-11-27T09:37:59.909Z"
   },
   {
    "duration": 6,
    "start_time": "2022-11-27T09:38:01.724Z"
   },
   {
    "duration": 16,
    "start_time": "2022-11-27T09:38:02.468Z"
   },
   {
    "duration": 18,
    "start_time": "2022-11-27T09:38:04.745Z"
   },
   {
    "duration": 5,
    "start_time": "2022-11-27T09:38:06.290Z"
   },
   {
    "duration": 5,
    "start_time": "2022-11-27T09:38:07.756Z"
   },
   {
    "duration": 5,
    "start_time": "2022-11-27T09:38:09.194Z"
   },
   {
    "duration": 5,
    "start_time": "2022-11-27T09:38:10.699Z"
   },
   {
    "duration": 16,
    "start_time": "2022-11-27T09:38:12.273Z"
   },
   {
    "duration": 15,
    "start_time": "2022-11-27T09:38:12.851Z"
   },
   {
    "duration": 5,
    "start_time": "2022-11-27T09:38:14.703Z"
   },
   {
    "duration": 20,
    "start_time": "2022-11-27T09:38:15.088Z"
   },
   {
    "duration": 120,
    "start_time": "2022-11-27T09:38:17.265Z"
   },
   {
    "duration": 8,
    "start_time": "2022-11-27T09:38:19.076Z"
   },
   {
    "duration": 203,
    "start_time": "2022-11-27T09:38:21.195Z"
   },
   {
    "duration": 9,
    "start_time": "2022-11-27T09:38:23.354Z"
   },
   {
    "duration": 5,
    "start_time": "2022-11-27T09:38:25.564Z"
   },
   {
    "duration": 249,
    "start_time": "2022-11-27T09:38:26.948Z"
   },
   {
    "duration": 17,
    "start_time": "2022-11-27T09:38:29.454Z"
   },
   {
    "duration": 11,
    "start_time": "2022-11-27T09:38:31.502Z"
   },
   {
    "duration": 7,
    "start_time": "2022-11-27T09:38:33.339Z"
   },
   {
    "duration": 5,
    "start_time": "2022-11-27T09:38:34.644Z"
   },
   {
    "duration": 31,
    "start_time": "2022-11-27T09:38:36.020Z"
   },
   {
    "duration": 286,
    "start_time": "2022-11-27T09:38:37.837Z"
   },
   {
    "duration": 8,
    "start_time": "2022-11-27T09:38:40.401Z"
   },
   {
    "duration": 252,
    "start_time": "2022-11-27T09:38:42.205Z"
   },
   {
    "duration": 19,
    "start_time": "2022-11-27T09:38:44.332Z"
   },
   {
    "duration": 882,
    "start_time": "2022-11-27T09:38:46.265Z"
   },
   {
    "duration": 210,
    "start_time": "2022-11-27T09:38:49.125Z"
   },
   {
    "duration": 19,
    "start_time": "2022-11-27T09:38:51.202Z"
   },
   {
    "duration": 249,
    "start_time": "2022-11-27T09:38:52.881Z"
   },
   {
    "duration": 180,
    "start_time": "2022-11-27T09:38:54.952Z"
   },
   {
    "duration": 16,
    "start_time": "2022-11-27T09:38:57.259Z"
   },
   {
    "duration": 239,
    "start_time": "2022-11-27T09:38:58.898Z"
   },
   {
    "duration": 137,
    "start_time": "2022-11-27T09:39:00.789Z"
   },
   {
    "duration": 18,
    "start_time": "2022-11-27T09:39:02.663Z"
   },
   {
    "duration": 287,
    "start_time": "2022-11-27T09:39:05.093Z"
   },
   {
    "duration": 172,
    "start_time": "2022-11-27T09:39:07.030Z"
   },
   {
    "duration": 21,
    "start_time": "2022-11-27T09:39:09.078Z"
   },
   {
    "duration": 151,
    "start_time": "2022-11-27T09:39:10.484Z"
   },
   {
    "duration": 171,
    "start_time": "2022-11-27T09:39:11.626Z"
   },
   {
    "duration": 8,
    "start_time": "2022-11-27T09:39:14.121Z"
   },
   {
    "duration": 14,
    "start_time": "2022-11-27T09:39:16.903Z"
   },
   {
    "duration": 11,
    "start_time": "2022-11-27T09:39:18.880Z"
   },
   {
    "duration": 201,
    "start_time": "2022-11-27T09:39:20.993Z"
   },
   {
    "duration": 16,
    "start_time": "2022-11-27T09:39:23.404Z"
   },
   {
    "duration": 10,
    "start_time": "2022-11-27T09:39:25.876Z"
   },
   {
    "duration": 134,
    "start_time": "2022-11-27T09:39:27.671Z"
   },
   {
    "duration": 14,
    "start_time": "2022-11-27T09:39:31.566Z"
   },
   {
    "duration": 11,
    "start_time": "2022-11-27T09:39:33.441Z"
   },
   {
    "duration": 125,
    "start_time": "2022-11-27T09:39:35.240Z"
   },
   {
    "duration": 17,
    "start_time": "2022-11-27T09:39:38.161Z"
   },
   {
    "duration": 11,
    "start_time": "2022-11-27T09:39:40.265Z"
   },
   {
    "duration": 147,
    "start_time": "2022-11-27T09:39:41.533Z"
   },
   {
    "duration": 18,
    "start_time": "2022-11-27T09:39:43.692Z"
   },
   {
    "duration": 12,
    "start_time": "2022-11-27T09:39:45.453Z"
   },
   {
    "duration": 140,
    "start_time": "2022-11-27T09:39:47.107Z"
   },
   {
    "duration": 17,
    "start_time": "2022-11-27T09:39:49.137Z"
   },
   {
    "duration": 14,
    "start_time": "2022-11-27T09:39:51.041Z"
   },
   {
    "duration": 142,
    "start_time": "2022-11-27T09:39:52.897Z"
   },
   {
    "duration": 14,
    "start_time": "2022-11-27T09:39:55.072Z"
   },
   {
    "duration": 105,
    "start_time": "2022-11-27T09:39:57.882Z"
   },
   {
    "duration": 13,
    "start_time": "2022-11-27T09:40:03.125Z"
   },
   {
    "duration": 119,
    "start_time": "2022-11-27T09:40:05.233Z"
   },
   {
    "duration": 13,
    "start_time": "2022-11-27T09:40:07.457Z"
   },
   {
    "duration": 121,
    "start_time": "2022-11-27T09:40:09.036Z"
   },
   {
    "duration": 3,
    "start_time": "2022-11-27T09:40:12.707Z"
   },
   {
    "duration": 24,
    "start_time": "2022-11-27T09:40:22.737Z"
   },
   {
    "duration": 11,
    "start_time": "2022-11-27T09:40:33.067Z"
   },
   {
    "duration": 9,
    "start_time": "2022-11-27T09:49:10.041Z"
   },
   {
    "duration": 740,
    "start_time": "2022-11-27T12:27:21.475Z"
   },
   {
    "duration": 13,
    "start_time": "2022-11-27T12:27:22.218Z"
   },
   {
    "duration": 737,
    "start_time": "2022-11-27T12:27:22.232Z"
   },
   {
    "duration": 5,
    "start_time": "2022-11-27T12:27:22.971Z"
   },
   {
    "duration": 6,
    "start_time": "2022-11-27T12:27:22.978Z"
   },
   {
    "duration": 18,
    "start_time": "2022-11-27T12:27:22.986Z"
   },
   {
    "duration": 8,
    "start_time": "2022-11-27T12:27:23.006Z"
   },
   {
    "duration": 9,
    "start_time": "2022-11-27T12:27:23.015Z"
   },
   {
    "duration": 7,
    "start_time": "2022-11-27T12:27:23.026Z"
   },
   {
    "duration": 25,
    "start_time": "2022-11-27T12:27:23.034Z"
   },
   {
    "duration": 4,
    "start_time": "2022-11-27T12:27:23.061Z"
   },
   {
    "duration": 11,
    "start_time": "2022-11-27T12:27:23.066Z"
   },
   {
    "duration": 26,
    "start_time": "2022-11-27T12:27:23.078Z"
   },
   {
    "duration": 13,
    "start_time": "2022-11-27T12:27:23.107Z"
   },
   {
    "duration": 14,
    "start_time": "2022-11-27T12:27:23.121Z"
   },
   {
    "duration": 4,
    "start_time": "2022-11-27T12:27:23.136Z"
   },
   {
    "duration": 12,
    "start_time": "2022-11-27T12:27:23.141Z"
   },
   {
    "duration": 6,
    "start_time": "2022-11-27T12:27:23.155Z"
   },
   {
    "duration": 7,
    "start_time": "2022-11-27T12:27:23.162Z"
   },
   {
    "duration": 40,
    "start_time": "2022-11-27T12:27:23.170Z"
   },
   {
    "duration": 14,
    "start_time": "2022-11-27T12:27:23.212Z"
   },
   {
    "duration": 5,
    "start_time": "2022-11-27T12:27:23.228Z"
   },
   {
    "duration": 18,
    "start_time": "2022-11-27T12:27:23.235Z"
   },
   {
    "duration": 142,
    "start_time": "2022-11-27T12:27:23.254Z"
   },
   {
    "duration": 12,
    "start_time": "2022-11-27T12:27:23.398Z"
   },
   {
    "duration": 190,
    "start_time": "2022-11-27T12:27:23.412Z"
   },
   {
    "duration": 7,
    "start_time": "2022-11-27T12:27:23.605Z"
   },
   {
    "duration": 4,
    "start_time": "2022-11-27T12:27:23.614Z"
   },
   {
    "duration": 246,
    "start_time": "2022-11-27T12:27:23.619Z"
   },
   {
    "duration": 14,
    "start_time": "2022-11-27T12:27:23.867Z"
   },
   {
    "duration": 22,
    "start_time": "2022-11-27T12:27:23.883Z"
   },
   {
    "duration": 9,
    "start_time": "2022-11-27T12:27:23.907Z"
   },
   {
    "duration": 7,
    "start_time": "2022-11-27T12:27:23.917Z"
   },
   {
    "duration": 22,
    "start_time": "2022-11-27T12:27:23.925Z"
   },
   {
    "duration": 282,
    "start_time": "2022-11-27T12:27:23.949Z"
   },
   {
    "duration": 7,
    "start_time": "2022-11-27T12:27:24.232Z"
   },
   {
    "duration": 264,
    "start_time": "2022-11-27T12:27:24.241Z"
   },
   {
    "duration": 16,
    "start_time": "2022-11-27T12:27:24.506Z"
   },
   {
    "duration": 769,
    "start_time": "2022-11-27T12:27:24.524Z"
   },
   {
    "duration": 153,
    "start_time": "2022-11-27T12:27:25.294Z"
   },
   {
    "duration": 15,
    "start_time": "2022-11-27T12:27:25.452Z"
   },
   {
    "duration": 228,
    "start_time": "2022-11-27T12:27:25.469Z"
   },
   {
    "duration": 155,
    "start_time": "2022-11-27T12:27:25.699Z"
   },
   {
    "duration": 15,
    "start_time": "2022-11-27T12:27:25.856Z"
   },
   {
    "duration": 252,
    "start_time": "2022-11-27T12:27:25.873Z"
   },
   {
    "duration": 148,
    "start_time": "2022-11-27T12:27:26.127Z"
   },
   {
    "duration": 17,
    "start_time": "2022-11-27T12:27:26.276Z"
   },
   {
    "duration": 255,
    "start_time": "2022-11-27T12:27:26.304Z"
   },
   {
    "duration": 161,
    "start_time": "2022-11-27T12:27:26.562Z"
   },
   {
    "duration": 15,
    "start_time": "2022-11-27T12:27:26.725Z"
   },
   {
    "duration": 156,
    "start_time": "2022-11-27T12:27:26.742Z"
   },
   {
    "duration": 150,
    "start_time": "2022-11-27T12:27:26.899Z"
   },
   {
    "duration": 7,
    "start_time": "2022-11-27T12:27:27.050Z"
   },
   {
    "duration": 12,
    "start_time": "2022-11-27T12:27:27.059Z"
   },
   {
    "duration": 10,
    "start_time": "2022-11-27T12:27:27.073Z"
   },
   {
    "duration": 181,
    "start_time": "2022-11-27T12:27:27.105Z"
   },
   {
    "duration": 22,
    "start_time": "2022-11-27T12:27:27.288Z"
   },
   {
    "duration": 29,
    "start_time": "2022-11-27T12:27:27.312Z"
   },
   {
    "duration": 165,
    "start_time": "2022-11-27T12:27:27.343Z"
   },
   {
    "duration": 15,
    "start_time": "2022-11-27T12:27:27.509Z"
   },
   {
    "duration": 27,
    "start_time": "2022-11-27T12:27:27.526Z"
   },
   {
    "duration": 130,
    "start_time": "2022-11-27T12:27:27.555Z"
   },
   {
    "duration": 21,
    "start_time": "2022-11-27T12:27:27.687Z"
   },
   {
    "duration": 29,
    "start_time": "2022-11-27T12:27:27.709Z"
   },
   {
    "duration": 142,
    "start_time": "2022-11-27T12:27:27.740Z"
   },
   {
    "duration": 21,
    "start_time": "2022-11-27T12:27:27.884Z"
   },
   {
    "duration": 16,
    "start_time": "2022-11-27T12:27:27.907Z"
   },
   {
    "duration": 130,
    "start_time": "2022-11-27T12:27:27.924Z"
   },
   {
    "duration": 11,
    "start_time": "2022-11-27T12:27:28.056Z"
   },
   {
    "duration": 9,
    "start_time": "2022-11-27T12:27:28.068Z"
   },
   {
    "duration": 154,
    "start_time": "2022-11-27T12:27:28.079Z"
   },
   {
    "duration": 12,
    "start_time": "2022-11-27T12:27:28.235Z"
   },
   {
    "duration": 117,
    "start_time": "2022-11-27T12:27:28.249Z"
   },
   {
    "duration": 9,
    "start_time": "2022-11-27T12:27:28.368Z"
   },
   {
    "duration": 143,
    "start_time": "2022-11-27T12:27:28.379Z"
   },
   {
    "duration": 12,
    "start_time": "2022-11-27T12:27:28.524Z"
   },
   {
    "duration": 118,
    "start_time": "2022-11-27T12:27:28.537Z"
   },
   {
    "duration": 3,
    "start_time": "2022-11-27T12:27:28.656Z"
   },
   {
    "duration": 26,
    "start_time": "2022-11-27T12:27:28.660Z"
   },
   {
    "duration": 6,
    "start_time": "2022-11-27T12:27:28.688Z"
   },
   {
    "duration": 23,
    "start_time": "2022-11-27T12:27:28.696Z"
   },
   {
    "duration": 726,
    "start_time": "2022-11-27T12:29:54.482Z"
   },
   {
    "duration": 15,
    "start_time": "2022-11-27T12:29:55.209Z"
   },
   {
    "duration": 704,
    "start_time": "2022-11-27T12:29:55.225Z"
   },
   {
    "duration": 5,
    "start_time": "2022-11-27T12:29:55.931Z"
   },
   {
    "duration": 7,
    "start_time": "2022-11-27T12:29:55.937Z"
   },
   {
    "duration": 10,
    "start_time": "2022-11-27T12:29:55.945Z"
   },
   {
    "duration": 11,
    "start_time": "2022-11-27T12:29:55.956Z"
   },
   {
    "duration": 9,
    "start_time": "2022-11-27T12:29:55.968Z"
   },
   {
    "duration": 5,
    "start_time": "2022-11-27T12:29:55.979Z"
   },
   {
    "duration": 25,
    "start_time": "2022-11-27T12:29:56.004Z"
   },
   {
    "duration": 5,
    "start_time": "2022-11-27T12:29:56.031Z"
   },
   {
    "duration": 10,
    "start_time": "2022-11-27T12:29:56.038Z"
   },
   {
    "duration": 11,
    "start_time": "2022-11-27T12:29:56.049Z"
   },
   {
    "duration": 14,
    "start_time": "2022-11-27T12:29:56.062Z"
   },
   {
    "duration": 35,
    "start_time": "2022-11-27T12:29:56.078Z"
   },
   {
    "duration": 5,
    "start_time": "2022-11-27T12:29:56.115Z"
   },
   {
    "duration": 10,
    "start_time": "2022-11-27T12:29:56.121Z"
   },
   {
    "duration": 7,
    "start_time": "2022-11-27T12:29:56.133Z"
   },
   {
    "duration": 11,
    "start_time": "2022-11-27T12:29:56.142Z"
   },
   {
    "duration": 21,
    "start_time": "2022-11-27T12:29:56.155Z"
   },
   {
    "duration": 30,
    "start_time": "2022-11-27T12:29:56.178Z"
   },
   {
    "duration": 5,
    "start_time": "2022-11-27T12:29:56.210Z"
   },
   {
    "duration": 28,
    "start_time": "2022-11-27T12:29:56.217Z"
   },
   {
    "duration": 152,
    "start_time": "2022-11-27T12:29:56.246Z"
   },
   {
    "duration": 10,
    "start_time": "2022-11-27T12:29:56.404Z"
   },
   {
    "duration": 217,
    "start_time": "2022-11-27T12:29:56.415Z"
   },
   {
    "duration": 9,
    "start_time": "2022-11-27T12:29:56.634Z"
   },
   {
    "duration": 15,
    "start_time": "2022-11-27T12:29:56.648Z"
   },
   {
    "duration": 234,
    "start_time": "2022-11-27T12:29:56.664Z"
   },
   {
    "duration": 16,
    "start_time": "2022-11-27T12:29:56.900Z"
   },
   {
    "duration": 10,
    "start_time": "2022-11-27T12:29:56.917Z"
   },
   {
    "duration": 9,
    "start_time": "2022-11-27T12:29:56.929Z"
   },
   {
    "duration": 6,
    "start_time": "2022-11-27T12:29:56.939Z"
   },
   {
    "duration": 20,
    "start_time": "2022-11-27T12:29:56.946Z"
   },
   {
    "duration": 257,
    "start_time": "2022-11-27T12:29:56.967Z"
   },
   {
    "duration": 7,
    "start_time": "2022-11-27T12:29:57.226Z"
   },
   {
    "duration": 483,
    "start_time": "2022-11-27T12:29:57.234Z"
   },
   {
    "duration": 13,
    "start_time": "2022-11-27T12:29:57.719Z"
   },
   {
    "duration": 1376,
    "start_time": "2022-11-27T12:29:57.733Z"
   },
   {
    "duration": 185,
    "start_time": "2022-11-27T12:29:59.111Z"
   },
   {
    "duration": 21,
    "start_time": "2022-11-27T12:29:59.298Z"
   },
   {
    "duration": 220,
    "start_time": "2022-11-27T12:29:59.321Z"
   },
   {
    "duration": 151,
    "start_time": "2022-11-27T12:29:59.543Z"
   },
   {
    "duration": 18,
    "start_time": "2022-11-27T12:29:59.696Z"
   },
   {
    "duration": 217,
    "start_time": "2022-11-27T12:29:59.715Z"
   },
   {
    "duration": 137,
    "start_time": "2022-11-27T12:29:59.933Z"
   },
   {
    "duration": 15,
    "start_time": "2022-11-27T12:30:00.072Z"
   },
   {
    "duration": 242,
    "start_time": "2022-11-27T12:30:00.089Z"
   },
   {
    "duration": 155,
    "start_time": "2022-11-27T12:30:00.332Z"
   },
   {
    "duration": 24,
    "start_time": "2022-11-27T12:30:00.488Z"
   },
   {
    "duration": 140,
    "start_time": "2022-11-27T12:30:00.514Z"
   },
   {
    "duration": 140,
    "start_time": "2022-11-27T12:30:00.656Z"
   },
   {
    "duration": 7,
    "start_time": "2022-11-27T12:30:00.804Z"
   },
   {
    "duration": 28,
    "start_time": "2022-11-27T12:30:00.813Z"
   },
   {
    "duration": 22,
    "start_time": "2022-11-27T12:30:00.843Z"
   },
   {
    "duration": 188,
    "start_time": "2022-11-27T12:30:00.867Z"
   },
   {
    "duration": 13,
    "start_time": "2022-11-27T12:30:01.057Z"
   },
   {
    "duration": 54,
    "start_time": "2022-11-27T12:30:01.072Z"
   },
   {
    "duration": 135,
    "start_time": "2022-11-27T12:30:01.128Z"
   },
   {
    "duration": 12,
    "start_time": "2022-11-27T12:30:01.265Z"
   },
   {
    "duration": 43,
    "start_time": "2022-11-27T12:30:01.279Z"
   },
   {
    "duration": 162,
    "start_time": "2022-11-27T12:30:01.323Z"
   },
   {
    "duration": 21,
    "start_time": "2022-11-27T12:30:01.487Z"
   },
   {
    "duration": 11,
    "start_time": "2022-11-27T12:30:01.510Z"
   },
   {
    "duration": 161,
    "start_time": "2022-11-27T12:30:01.523Z"
   },
   {
    "duration": 11,
    "start_time": "2022-11-27T12:30:01.686Z"
   },
   {
    "duration": 16,
    "start_time": "2022-11-27T12:30:01.705Z"
   },
   {
    "duration": 145,
    "start_time": "2022-11-27T12:30:01.722Z"
   },
   {
    "duration": 11,
    "start_time": "2022-11-27T12:30:01.869Z"
   },
   {
    "duration": 25,
    "start_time": "2022-11-27T12:30:01.882Z"
   },
   {
    "duration": 144,
    "start_time": "2022-11-27T12:30:01.908Z"
   },
   {
    "duration": 11,
    "start_time": "2022-11-27T12:30:02.054Z"
   },
   {
    "duration": 152,
    "start_time": "2022-11-27T12:30:02.066Z"
   },
   {
    "duration": 11,
    "start_time": "2022-11-27T12:30:02.220Z"
   },
   {
    "duration": 132,
    "start_time": "2022-11-27T12:30:02.232Z"
   },
   {
    "duration": 10,
    "start_time": "2022-11-27T12:30:02.366Z"
   },
   {
    "duration": 118,
    "start_time": "2022-11-27T12:30:02.377Z"
   },
   {
    "duration": 2,
    "start_time": "2022-11-27T12:30:02.505Z"
   },
   {
    "duration": 25,
    "start_time": "2022-11-27T12:30:02.509Z"
   },
   {
    "duration": 7,
    "start_time": "2022-11-27T12:30:02.536Z"
   },
   {
    "duration": 10,
    "start_time": "2022-11-27T12:30:02.544Z"
   },
   {
    "duration": 813,
    "start_time": "2022-11-27T13:41:02.035Z"
   },
   {
    "duration": 15,
    "start_time": "2022-11-27T13:41:02.850Z"
   },
   {
    "duration": 763,
    "start_time": "2022-11-27T13:41:02.867Z"
   },
   {
    "duration": 6,
    "start_time": "2022-11-27T13:41:03.632Z"
   },
   {
    "duration": 5,
    "start_time": "2022-11-27T13:41:03.641Z"
   },
   {
    "duration": 5,
    "start_time": "2022-11-27T13:41:03.647Z"
   },
   {
    "duration": 7,
    "start_time": "2022-11-27T13:41:03.653Z"
   },
   {
    "duration": 6,
    "start_time": "2022-11-27T13:41:03.662Z"
   },
   {
    "duration": 6,
    "start_time": "2022-11-27T13:41:03.669Z"
   },
   {
    "duration": 24,
    "start_time": "2022-11-27T13:41:03.705Z"
   },
   {
    "duration": 5,
    "start_time": "2022-11-27T13:41:03.731Z"
   },
   {
    "duration": 12,
    "start_time": "2022-11-27T13:41:03.737Z"
   },
   {
    "duration": 11,
    "start_time": "2022-11-27T13:41:03.750Z"
   },
   {
    "duration": 15,
    "start_time": "2022-11-27T13:41:03.764Z"
   },
   {
    "duration": 24,
    "start_time": "2022-11-27T13:41:03.804Z"
   },
   {
    "duration": 5,
    "start_time": "2022-11-27T13:41:03.830Z"
   },
   {
    "duration": 6,
    "start_time": "2022-11-27T13:41:03.837Z"
   },
   {
    "duration": 7,
    "start_time": "2022-11-27T13:41:03.845Z"
   },
   {
    "duration": 7,
    "start_time": "2022-11-27T13:41:03.854Z"
   },
   {
    "duration": 43,
    "start_time": "2022-11-27T13:41:03.862Z"
   },
   {
    "duration": 14,
    "start_time": "2022-11-27T13:41:03.907Z"
   },
   {
    "duration": 6,
    "start_time": "2022-11-27T13:41:03.923Z"
   },
   {
    "duration": 19,
    "start_time": "2022-11-27T13:41:03.931Z"
   },
   {
    "duration": 141,
    "start_time": "2022-11-27T13:41:03.951Z"
   },
   {
    "duration": 12,
    "start_time": "2022-11-27T13:41:04.094Z"
   },
   {
    "duration": 205,
    "start_time": "2022-11-27T13:41:04.108Z"
   },
   {
    "duration": 8,
    "start_time": "2022-11-27T13:41:04.315Z"
   },
   {
    "duration": 5,
    "start_time": "2022-11-27T13:41:04.324Z"
   },
   {
    "duration": 245,
    "start_time": "2022-11-27T13:41:04.330Z"
   },
   {
    "duration": 16,
    "start_time": "2022-11-27T13:41:04.576Z"
   },
   {
    "duration": 12,
    "start_time": "2022-11-27T13:41:04.605Z"
   },
   {
    "duration": 9,
    "start_time": "2022-11-27T13:41:04.618Z"
   },
   {
    "duration": 6,
    "start_time": "2022-11-27T13:41:04.628Z"
   },
   {
    "duration": 22,
    "start_time": "2022-11-27T13:41:04.635Z"
   },
   {
    "duration": 288,
    "start_time": "2022-11-27T13:41:04.658Z"
   },
   {
    "duration": 9,
    "start_time": "2022-11-27T13:41:04.948Z"
   },
   {
    "duration": 252,
    "start_time": "2022-11-27T13:41:04.958Z"
   },
   {
    "duration": 14,
    "start_time": "2022-11-27T13:41:05.212Z"
   },
   {
    "duration": 720,
    "start_time": "2022-11-27T13:41:05.228Z"
   },
   {
    "duration": 143,
    "start_time": "2022-11-27T13:41:05.950Z"
   },
   {
    "duration": 15,
    "start_time": "2022-11-27T13:41:06.104Z"
   },
   {
    "duration": 267,
    "start_time": "2022-11-27T13:41:06.122Z"
   },
   {
    "duration": 151,
    "start_time": "2022-11-27T13:41:06.390Z"
   },
   {
    "duration": 17,
    "start_time": "2022-11-27T13:41:06.543Z"
   },
   {
    "duration": 234,
    "start_time": "2022-11-27T13:41:06.562Z"
   },
   {
    "duration": 130,
    "start_time": "2022-11-27T13:41:06.804Z"
   },
   {
    "duration": 15,
    "start_time": "2022-11-27T13:41:06.935Z"
   },
   {
    "duration": 243,
    "start_time": "2022-11-27T13:41:06.952Z"
   },
   {
    "duration": 190,
    "start_time": "2022-11-27T13:41:07.203Z"
   },
   {
    "duration": 27,
    "start_time": "2022-11-27T13:41:07.396Z"
   },
   {
    "duration": 175,
    "start_time": "2022-11-27T13:41:07.425Z"
   },
   {
    "duration": 142,
    "start_time": "2022-11-27T13:41:07.605Z"
   },
   {
    "duration": 8,
    "start_time": "2022-11-27T13:41:07.749Z"
   },
   {
    "duration": 14,
    "start_time": "2022-11-27T13:41:07.758Z"
   },
   {
    "duration": 10,
    "start_time": "2022-11-27T13:41:07.773Z"
   },
   {
    "duration": 208,
    "start_time": "2022-11-27T13:41:07.784Z"
   },
   {
    "duration": 18,
    "start_time": "2022-11-27T13:41:07.994Z"
   },
   {
    "duration": 11,
    "start_time": "2022-11-27T13:41:08.014Z"
   },
   {
    "duration": 139,
    "start_time": "2022-11-27T13:41:08.027Z"
   },
   {
    "duration": 14,
    "start_time": "2022-11-27T13:41:08.169Z"
   },
   {
    "duration": 28,
    "start_time": "2022-11-27T13:41:08.185Z"
   },
   {
    "duration": 129,
    "start_time": "2022-11-27T13:41:08.215Z"
   },
   {
    "duration": 14,
    "start_time": "2022-11-27T13:41:08.346Z"
   },
   {
    "duration": 10,
    "start_time": "2022-11-27T13:41:08.361Z"
   },
   {
    "duration": 144,
    "start_time": "2022-11-27T13:41:08.373Z"
   },
   {
    "duration": 11,
    "start_time": "2022-11-27T13:41:08.519Z"
   },
   {
    "duration": 10,
    "start_time": "2022-11-27T13:41:08.532Z"
   },
   {
    "duration": 147,
    "start_time": "2022-11-27T13:41:08.543Z"
   },
   {
    "duration": 20,
    "start_time": "2022-11-27T13:41:08.692Z"
   },
   {
    "duration": 9,
    "start_time": "2022-11-27T13:41:08.714Z"
   },
   {
    "duration": 145,
    "start_time": "2022-11-27T13:41:08.725Z"
   },
   {
    "duration": 11,
    "start_time": "2022-11-27T13:41:08.871Z"
   },
   {
    "duration": 120,
    "start_time": "2022-11-27T13:41:08.884Z"
   },
   {
    "duration": 10,
    "start_time": "2022-11-27T13:41:09.006Z"
   },
   {
    "duration": 123,
    "start_time": "2022-11-27T13:41:09.018Z"
   },
   {
    "duration": 10,
    "start_time": "2022-11-27T13:41:09.142Z"
   },
   {
    "duration": 126,
    "start_time": "2022-11-27T13:41:09.153Z"
   },
   {
    "duration": 2,
    "start_time": "2022-11-27T13:41:09.281Z"
   },
   {
    "duration": 30,
    "start_time": "2022-11-27T13:41:09.284Z"
   },
   {
    "duration": 7,
    "start_time": "2022-11-27T13:41:09.315Z"
   },
   {
    "duration": 13,
    "start_time": "2022-11-27T13:41:09.323Z"
   },
   {
    "duration": 1385,
    "start_time": "2022-11-28T10:13:33.277Z"
   },
   {
    "duration": 201,
    "start_time": "2022-11-28T10:14:02.662Z"
   },
   {
    "duration": 20,
    "start_time": "2022-11-28T10:14:17.411Z"
   },
   {
    "duration": 753,
    "start_time": "2022-11-28T10:14:20.093Z"
   },
   {
    "duration": 5,
    "start_time": "2022-11-28T10:15:05.413Z"
   },
   {
    "duration": 4,
    "start_time": "2022-11-28T10:43:11.421Z"
   },
   {
    "duration": 6,
    "start_time": "2022-11-28T10:43:14.382Z"
   },
   {
    "duration": 5,
    "start_time": "2022-11-28T10:43:15.759Z"
   },
   {
    "duration": 5,
    "start_time": "2022-11-28T10:43:17.764Z"
   },
   {
    "duration": 5,
    "start_time": "2022-11-28T10:43:19.661Z"
   },
   {
    "duration": 6,
    "start_time": "2022-11-28T10:43:21.412Z"
   },
   {
    "duration": 39,
    "start_time": "2022-11-28T10:43:24.124Z"
   },
   {
    "duration": 5,
    "start_time": "2022-11-28T10:43:28.500Z"
   },
   {
    "duration": 5,
    "start_time": "2022-11-28T10:43:29.396Z"
   },
   {
    "duration": 4,
    "start_time": "2022-11-28T10:43:31.973Z"
   },
   {
    "duration": 14,
    "start_time": "2022-11-28T10:43:32.612Z"
   },
   {
    "duration": 16,
    "start_time": "2022-11-28T10:43:39.909Z"
   },
   {
    "duration": 78,
    "start_time": "2022-11-28T10:52:11.375Z"
   },
   {
    "duration": 1451,
    "start_time": "2022-11-28T13:37:43.427Z"
   },
   {
    "duration": 130,
    "start_time": "2022-11-28T13:37:46.486Z"
   },
   {
    "duration": 18,
    "start_time": "2022-11-28T13:37:49.539Z"
   },
   {
    "duration": 790,
    "start_time": "2022-11-28T13:37:54.246Z"
   },
   {
    "duration": 1123,
    "start_time": "2022-11-28T13:38:05.503Z"
   },
   {
    "duration": 5,
    "start_time": "2022-11-28T13:38:14.436Z"
   },
   {
    "duration": 5,
    "start_time": "2022-11-28T13:38:17.786Z"
   },
   {
    "duration": 5,
    "start_time": "2022-11-28T13:38:24.718Z"
   },
   {
    "duration": 6,
    "start_time": "2022-11-28T13:38:27.808Z"
   },
   {
    "duration": 5,
    "start_time": "2022-11-28T13:38:29.962Z"
   },
   {
    "duration": 6,
    "start_time": "2022-11-28T13:38:32.494Z"
   },
   {
    "duration": 31,
    "start_time": "2022-11-28T13:38:36.914Z"
   },
   {
    "duration": 6,
    "start_time": "2022-11-28T13:38:42.486Z"
   },
   {
    "duration": 6,
    "start_time": "2022-11-28T13:38:43.279Z"
   },
   {
    "duration": 6,
    "start_time": "2022-11-28T13:38:45.376Z"
   },
   {
    "duration": 14,
    "start_time": "2022-11-28T13:38:46.032Z"
   },
   {
    "duration": 17,
    "start_time": "2022-11-28T13:38:51.905Z"
   },
   {
    "duration": 11,
    "start_time": "2022-11-28T13:42:32.255Z"
   },
   {
    "duration": 10,
    "start_time": "2022-11-28T13:42:48.673Z"
   },
   {
    "duration": 11,
    "start_time": "2022-11-28T13:43:11.875Z"
   },
   {
    "duration": 10,
    "start_time": "2022-11-28T13:43:19.991Z"
   },
   {
    "duration": 12,
    "start_time": "2022-11-28T13:45:01.716Z"
   },
   {
    "duration": 20,
    "start_time": "2022-11-28T13:45:35.856Z"
   },
   {
    "duration": 10,
    "start_time": "2022-11-28T13:45:45.803Z"
   },
   {
    "duration": 21,
    "start_time": "2022-11-28T13:46:38.741Z"
   },
   {
    "duration": 11,
    "start_time": "2022-11-28T13:46:43.996Z"
   },
   {
    "duration": 9,
    "start_time": "2022-11-28T13:46:59.744Z"
   },
   {
    "duration": 10,
    "start_time": "2022-11-28T13:49:27.793Z"
   },
   {
    "duration": 20,
    "start_time": "2022-11-28T13:49:44.438Z"
   },
   {
    "duration": 70,
    "start_time": "2022-11-28T13:49:59.630Z"
   },
   {
    "duration": 18,
    "start_time": "2022-11-28T13:50:22.872Z"
   },
   {
    "duration": 17,
    "start_time": "2022-11-28T13:51:03.436Z"
   },
   {
    "duration": 23,
    "start_time": "2022-11-28T13:51:14.373Z"
   },
   {
    "duration": 50,
    "start_time": "2022-11-28T13:51:50.992Z"
   },
   {
    "duration": 31,
    "start_time": "2022-11-28T13:52:13.077Z"
   },
   {
    "duration": 55,
    "start_time": "2022-11-28T13:52:21.550Z"
   },
   {
    "duration": 19,
    "start_time": "2022-11-28T13:53:52.938Z"
   },
   {
    "duration": 20,
    "start_time": "2022-11-28T13:55:48.652Z"
   },
   {
    "duration": 19,
    "start_time": "2022-11-28T13:56:44.980Z"
   },
   {
    "duration": 22,
    "start_time": "2022-11-28T13:57:06.155Z"
   },
   {
    "duration": 18,
    "start_time": "2022-11-28T13:57:13.927Z"
   },
   {
    "duration": 8,
    "start_time": "2022-11-28T13:58:30.523Z"
   },
   {
    "duration": 15,
    "start_time": "2022-11-28T13:58:52.643Z"
   },
   {
    "duration": 10,
    "start_time": "2022-11-28T13:59:15.320Z"
   },
   {
    "duration": 25,
    "start_time": "2022-11-28T13:59:15.910Z"
   },
   {
    "duration": 6,
    "start_time": "2022-11-28T13:59:16.506Z"
   },
   {
    "duration": 6,
    "start_time": "2022-11-28T13:59:21.884Z"
   },
   {
    "duration": 1246,
    "start_time": "2022-11-28T14:05:30.125Z"
   },
   {
    "duration": 85,
    "start_time": "2022-11-28T14:05:31.373Z"
   },
   {
    "duration": 15,
    "start_time": "2022-11-28T14:05:33.783Z"
   },
   {
    "duration": 957,
    "start_time": "2022-11-28T14:05:35.948Z"
   },
   {
    "duration": 6,
    "start_time": "2022-11-28T14:05:42.295Z"
   },
   {
    "duration": 5,
    "start_time": "2022-11-28T14:05:44.556Z"
   },
   {
    "duration": 5,
    "start_time": "2022-11-28T14:05:44.990Z"
   },
   {
    "duration": 6,
    "start_time": "2022-11-28T14:05:46.084Z"
   },
   {
    "duration": 6,
    "start_time": "2022-11-28T14:05:48.484Z"
   },
   {
    "duration": 6,
    "start_time": "2022-11-28T14:05:50.054Z"
   },
   {
    "duration": 27,
    "start_time": "2022-11-28T14:05:52.348Z"
   },
   {
    "duration": 6,
    "start_time": "2022-11-28T14:05:55.576Z"
   },
   {
    "duration": 7,
    "start_time": "2022-11-28T14:05:55.974Z"
   },
   {
    "duration": 6,
    "start_time": "2022-11-28T14:05:57.784Z"
   },
   {
    "duration": 21,
    "start_time": "2022-11-28T14:05:58.301Z"
   },
   {
    "duration": 16,
    "start_time": "2022-11-28T14:06:00.961Z"
   },
   {
    "duration": 10,
    "start_time": "2022-11-28T14:06:05.187Z"
   },
   {
    "duration": 16,
    "start_time": "2022-11-28T14:06:08.999Z"
   },
   {
    "duration": 19,
    "start_time": "2022-11-28T14:06:12.158Z"
   },
   {
    "duration": 46,
    "start_time": "2022-11-28T14:07:14.692Z"
   },
   {
    "duration": 21,
    "start_time": "2022-11-28T14:08:17.787Z"
   },
   {
    "duration": 19,
    "start_time": "2022-11-28T14:08:40.372Z"
   },
   {
    "duration": 6,
    "start_time": "2022-11-28T14:11:12.086Z"
   },
   {
    "duration": 10,
    "start_time": "2022-11-28T14:11:17.357Z"
   },
   {
    "duration": 29,
    "start_time": "2022-11-28T14:12:03.128Z"
   },
   {
    "duration": 17,
    "start_time": "2022-11-28T14:12:21.895Z"
   },
   {
    "duration": 20,
    "start_time": "2022-11-28T14:12:28.556Z"
   },
   {
    "duration": 8,
    "start_time": "2022-11-28T14:14:22.366Z"
   },
   {
    "duration": 5,
    "start_time": "2022-11-28T14:14:39.540Z"
   },
   {
    "duration": 864,
    "start_time": "2022-11-28T14:14:49.346Z"
   },
   {
    "duration": 1228,
    "start_time": "2022-11-28T14:15:25.574Z"
   },
   {
    "duration": 69,
    "start_time": "2022-11-28T14:15:26.805Z"
   },
   {
    "duration": 16,
    "start_time": "2022-11-28T14:15:29.214Z"
   },
   {
    "duration": 791,
    "start_time": "2022-11-28T14:15:31.717Z"
   },
   {
    "duration": 7,
    "start_time": "2022-11-28T14:15:37.271Z"
   },
   {
    "duration": 5,
    "start_time": "2022-11-28T14:15:40.091Z"
   },
   {
    "duration": 6,
    "start_time": "2022-11-28T14:15:41.017Z"
   },
   {
    "duration": 6,
    "start_time": "2022-11-28T14:15:43.592Z"
   },
   {
    "duration": 6,
    "start_time": "2022-11-28T14:15:45.614Z"
   },
   {
    "duration": 6,
    "start_time": "2022-11-28T14:15:47.138Z"
   },
   {
    "duration": 34,
    "start_time": "2022-11-28T14:15:48.967Z"
   },
   {
    "duration": 7,
    "start_time": "2022-11-28T14:15:52.084Z"
   },
   {
    "duration": 7,
    "start_time": "2022-11-28T14:15:52.569Z"
   },
   {
    "duration": 5,
    "start_time": "2022-11-28T14:15:54.355Z"
   },
   {
    "duration": 19,
    "start_time": "2022-11-28T14:15:54.936Z"
   },
   {
    "duration": 22,
    "start_time": "2022-11-28T14:15:57.138Z"
   },
   {
    "duration": 11,
    "start_time": "2022-11-28T14:15:59.602Z"
   },
   {
    "duration": 14,
    "start_time": "2022-11-28T14:16:01.183Z"
   },
   {
    "duration": 23,
    "start_time": "2022-11-28T14:16:02.409Z"
   },
   {
    "duration": 19,
    "start_time": "2022-11-28T14:16:06.211Z"
   },
   {
    "duration": 21,
    "start_time": "2022-11-28T14:16:07.614Z"
   },
   {
    "duration": 5,
    "start_time": "2022-11-28T14:16:17.311Z"
   },
   {
    "duration": 11,
    "start_time": "2022-11-28T14:16:19.781Z"
   },
   {
    "duration": 5,
    "start_time": "2022-11-28T14:16:23.866Z"
   },
   {
    "duration": 5,
    "start_time": "2022-11-28T14:16:24.373Z"
   },
   {
    "duration": 5,
    "start_time": "2022-11-28T14:16:25.789Z"
   },
   {
    "duration": 8,
    "start_time": "2022-11-28T14:16:26.454Z"
   },
   {
    "duration": 21,
    "start_time": "2022-11-28T14:16:33.083Z"
   },
   {
    "duration": 19,
    "start_time": "2022-11-28T14:16:35.872Z"
   },
   {
    "duration": 18,
    "start_time": "2022-11-28T14:16:38.574Z"
   },
   {
    "duration": 18,
    "start_time": "2022-11-28T14:16:52.265Z"
   },
   {
    "duration": 20,
    "start_time": "2022-11-28T14:17:03.835Z"
   },
   {
    "duration": 108,
    "start_time": "2022-11-28T14:17:12.842Z"
   },
   {
    "duration": 4,
    "start_time": "2022-11-28T14:17:44.208Z"
   },
   {
    "duration": 12,
    "start_time": "2022-11-28T14:18:34.598Z"
   },
   {
    "duration": 5,
    "start_time": "2022-11-28T14:18:40.835Z"
   },
   {
    "duration": 15,
    "start_time": "2022-11-28T14:18:54.571Z"
   },
   {
    "duration": 73,
    "start_time": "2022-11-28T14:19:28.210Z"
   },
   {
    "duration": 1284,
    "start_time": "2022-11-29T05:35:58.384Z"
   },
   {
    "duration": 111,
    "start_time": "2022-11-29T05:36:00.550Z"
   },
   {
    "duration": 15,
    "start_time": "2022-11-29T05:36:02.758Z"
   },
   {
    "duration": 704,
    "start_time": "2022-11-29T05:36:04.677Z"
   },
   {
    "duration": 5,
    "start_time": "2022-11-29T05:36:11.814Z"
   },
   {
    "duration": 5,
    "start_time": "2022-11-29T05:36:14.950Z"
   },
   {
    "duration": 5,
    "start_time": "2022-11-29T05:36:15.541Z"
   },
   {
    "duration": 5,
    "start_time": "2022-11-29T05:36:17.440Z"
   },
   {
    "duration": 5,
    "start_time": "2022-11-29T05:36:18.157Z"
   },
   {
    "duration": 5,
    "start_time": "2022-11-29T05:36:20.527Z"
   },
   {
    "duration": 24,
    "start_time": "2022-11-29T05:36:22.215Z"
   },
   {
    "duration": 4,
    "start_time": "2022-11-29T05:36:24.742Z"
   },
   {
    "duration": 5,
    "start_time": "2022-11-29T05:36:25.487Z"
   },
   {
    "duration": 5,
    "start_time": "2022-11-29T05:36:27.998Z"
   },
   {
    "duration": 12,
    "start_time": "2022-11-29T05:36:29.487Z"
   },
   {
    "duration": 15,
    "start_time": "2022-11-29T05:36:32.927Z"
   },
   {
    "duration": 8,
    "start_time": "2022-11-29T05:36:37.054Z"
   },
   {
    "duration": 13,
    "start_time": "2022-11-29T05:37:00.303Z"
   },
   {
    "duration": 17,
    "start_time": "2022-11-29T05:37:04.545Z"
   },
   {
    "duration": 15,
    "start_time": "2022-11-29T05:37:13.944Z"
   },
   {
    "duration": 19,
    "start_time": "2022-11-29T05:37:15.919Z"
   },
   {
    "duration": 6,
    "start_time": "2022-11-29T05:37:24.584Z"
   },
   {
    "duration": 8,
    "start_time": "2022-11-29T05:37:27.152Z"
   },
   {
    "duration": 4,
    "start_time": "2022-11-29T05:37:29.623Z"
   },
   {
    "duration": 5,
    "start_time": "2022-11-29T05:37:30.279Z"
   },
   {
    "duration": 5,
    "start_time": "2022-11-29T05:37:30.863Z"
   },
   {
    "duration": 5,
    "start_time": "2022-11-29T05:37:31.310Z"
   },
   {
    "duration": 18,
    "start_time": "2022-11-29T05:37:42.704Z"
   },
   {
    "duration": 14,
    "start_time": "2022-11-29T05:37:56.633Z"
   },
   {
    "duration": 14,
    "start_time": "2022-11-29T05:38:00.183Z"
   },
   {
    "duration": 16,
    "start_time": "2022-11-29T05:38:05.976Z"
   },
   {
    "duration": 4,
    "start_time": "2022-11-29T05:38:11.879Z"
   },
   {
    "duration": 12,
    "start_time": "2022-11-29T05:38:19.890Z"
   },
   {
    "duration": 4,
    "start_time": "2022-11-29T05:38:22.152Z"
   },
   {
    "duration": 12,
    "start_time": "2022-11-29T05:38:24.752Z"
   },
   {
    "duration": 5,
    "start_time": "2022-11-29T05:38:29.528Z"
   },
   {
    "duration": 19,
    "start_time": "2022-11-29T05:38:31.728Z"
   },
   {
    "duration": 11,
    "start_time": "2022-11-29T05:39:25.570Z"
   },
   {
    "duration": 11,
    "start_time": "2022-11-29T05:39:45.970Z"
   },
   {
    "duration": 19,
    "start_time": "2022-11-29T05:41:42.396Z"
   },
   {
    "duration": 110,
    "start_time": "2022-11-29T05:42:17.518Z"
   },
   {
    "duration": 7,
    "start_time": "2022-11-29T05:43:40.302Z"
   },
   {
    "duration": 209,
    "start_time": "2022-11-29T05:44:51.977Z"
   },
   {
    "duration": 107,
    "start_time": "2022-11-29T05:45:22.752Z"
   },
   {
    "duration": 319,
    "start_time": "2022-11-29T05:47:24.466Z"
   },
   {
    "duration": 178,
    "start_time": "2022-11-29T05:47:47.442Z"
   },
   {
    "duration": 47,
    "start_time": "2022-11-29T05:54:49.082Z"
   },
   {
    "duration": 618,
    "start_time": "2022-11-29T05:57:07.364Z"
   },
   {
    "duration": 517,
    "start_time": "2022-11-29T05:57:11.956Z"
   },
   {
    "duration": 8,
    "start_time": "2022-11-29T05:57:52.830Z"
   },
   {
    "duration": 4,
    "start_time": "2022-11-29T05:57:55.218Z"
   },
   {
    "duration": 212,
    "start_time": "2022-11-29T05:57:58.662Z"
   },
   {
    "duration": 13,
    "start_time": "2022-11-29T05:58:01.805Z"
   },
   {
    "duration": 12,
    "start_time": "2022-11-29T05:58:04.158Z"
   },
   {
    "duration": 6,
    "start_time": "2022-11-29T05:58:06.279Z"
   },
   {
    "duration": 4,
    "start_time": "2022-11-29T05:58:08.021Z"
   },
   {
    "duration": 18,
    "start_time": "2022-11-29T05:58:12.758Z"
   },
   {
    "duration": 322,
    "start_time": "2022-11-29T05:58:21.879Z"
   },
   {
    "duration": 6,
    "start_time": "2022-11-29T05:58:25.470Z"
   },
   {
    "duration": 332,
    "start_time": "2022-11-29T05:58:29.879Z"
   },
   {
    "duration": 287,
    "start_time": "2022-11-29T06:00:05.577Z"
   },
   {
    "duration": 16,
    "start_time": "2022-11-29T06:00:30.057Z"
   },
   {
    "duration": 245,
    "start_time": "2022-11-29T06:00:52.320Z"
   },
   {
    "duration": 53,
    "start_time": "2022-11-29T06:01:33.731Z"
   },
   {
    "duration": 4,
    "start_time": "2022-11-29T06:03:22.307Z"
   },
   {
    "duration": 212,
    "start_time": "2022-11-29T06:03:35.364Z"
   },
   {
    "duration": 226,
    "start_time": "2022-11-29T06:03:47.942Z"
   },
   {
    "duration": 239,
    "start_time": "2022-11-29T06:03:53.966Z"
   },
   {
    "duration": 130,
    "start_time": "2022-11-29T06:04:58.229Z"
   },
   {
    "duration": 14,
    "start_time": "2022-11-29T06:05:02.310Z"
   },
   {
    "duration": 222,
    "start_time": "2022-11-29T06:05:03.077Z"
   },
   {
    "duration": 221,
    "start_time": "2022-11-29T06:05:05.526Z"
   },
   {
    "duration": 16,
    "start_time": "2022-11-29T06:05:07.950Z"
   },
   {
    "duration": 219,
    "start_time": "2022-11-29T06:05:09.781Z"
   },
   {
    "duration": 112,
    "start_time": "2022-11-29T06:05:12.541Z"
   },
   {
    "duration": 16,
    "start_time": "2022-11-29T06:05:17.334Z"
   },
   {
    "duration": 238,
    "start_time": "2022-11-29T06:05:18.061Z"
   },
   {
    "duration": 165,
    "start_time": "2022-11-29T06:05:19.919Z"
   },
   {
    "duration": 14,
    "start_time": "2022-11-29T06:05:22.655Z"
   },
   {
    "duration": 132,
    "start_time": "2022-11-29T06:05:25.029Z"
   },
   {
    "duration": 126,
    "start_time": "2022-11-29T06:05:28.773Z"
   },
   {
    "duration": 7,
    "start_time": "2022-11-29T06:08:46.522Z"
   },
   {
    "duration": 11,
    "start_time": "2022-11-29T06:11:47.038Z"
   },
   {
    "duration": 10,
    "start_time": "2022-11-29T06:11:49.085Z"
   },
   {
    "duration": 113,
    "start_time": "2022-11-29T06:11:50.998Z"
   },
   {
    "duration": 12,
    "start_time": "2022-11-29T06:11:52.894Z"
   },
   {
    "duration": 9,
    "start_time": "2022-11-29T06:11:54.884Z"
   },
   {
    "duration": 114,
    "start_time": "2022-11-29T06:11:56.837Z"
   },
   {
    "duration": 12,
    "start_time": "2022-11-29T06:11:59.479Z"
   },
   {
    "duration": 9,
    "start_time": "2022-11-29T06:12:01.436Z"
   },
   {
    "duration": 102,
    "start_time": "2022-11-29T06:12:03.325Z"
   },
   {
    "duration": 12,
    "start_time": "2022-11-29T06:12:09.117Z"
   },
   {
    "duration": 9,
    "start_time": "2022-11-29T06:12:10.870Z"
   },
   {
    "duration": 110,
    "start_time": "2022-11-29T06:12:12.479Z"
   },
   {
    "duration": 15,
    "start_time": "2022-11-29T06:12:14.669Z"
   },
   {
    "duration": 10,
    "start_time": "2022-11-29T06:12:16.879Z"
   },
   {
    "duration": 126,
    "start_time": "2022-11-29T06:12:18.716Z"
   },
   {
    "duration": 12,
    "start_time": "2022-11-29T06:12:20.838Z"
   },
   {
    "duration": 10,
    "start_time": "2022-11-29T06:12:22.986Z"
   },
   {
    "duration": 149,
    "start_time": "2022-11-29T06:12:24.639Z"
   },
   {
    "duration": 11,
    "start_time": "2022-11-29T06:13:22.438Z"
   },
   {
    "duration": 13,
    "start_time": "2022-11-29T06:16:40.835Z"
   },
   {
    "duration": 182,
    "start_time": "2022-11-29T06:16:59.362Z"
   },
   {
    "duration": 146,
    "start_time": "2022-11-29T06:18:14.518Z"
   },
   {
    "duration": 106,
    "start_time": "2022-11-29T06:18:22.158Z"
   },
   {
    "duration": 4,
    "start_time": "2022-11-29T06:23:31.422Z"
   },
   {
    "duration": 7,
    "start_time": "2022-11-29T06:23:50.667Z"
   },
   {
    "duration": 7,
    "start_time": "2022-11-29T06:24:13.292Z"
   },
   {
    "duration": 9,
    "start_time": "2022-11-29T06:24:47.237Z"
   },
   {
    "duration": 7,
    "start_time": "2022-11-29T06:24:55.188Z"
   },
   {
    "duration": 13,
    "start_time": "2022-11-29T06:25:42.902Z"
   },
   {
    "duration": 9,
    "start_time": "2022-11-29T06:26:14.902Z"
   },
   {
    "duration": 5,
    "start_time": "2022-11-29T06:27:09.681Z"
   },
   {
    "duration": 4,
    "start_time": "2022-11-29T06:27:19.120Z"
   },
   {
    "duration": 4,
    "start_time": "2022-11-29T06:28:18.040Z"
   },
   {
    "duration": 9,
    "start_time": "2022-11-29T06:28:22.130Z"
   },
   {
    "duration": 112,
    "start_time": "2022-11-29T06:30:09.811Z"
   },
   {
    "duration": 11,
    "start_time": "2022-11-29T06:30:54.038Z"
   },
   {
    "duration": 119,
    "start_time": "2022-11-29T06:31:20.260Z"
   },
   {
    "duration": 8,
    "start_time": "2022-11-29T06:31:46.454Z"
   },
   {
    "duration": 11,
    "start_time": "2022-11-29T06:34:50.180Z"
   },
   {
    "duration": 115,
    "start_time": "2022-11-29T06:35:11.442Z"
   },
   {
    "duration": 106,
    "start_time": "2022-11-29T06:35:32.060Z"
   },
   {
    "duration": 9,
    "start_time": "2022-11-29T06:35:56.066Z"
   },
   {
    "duration": 41,
    "start_time": "2022-11-29T06:37:43.147Z"
   },
   {
    "duration": 9,
    "start_time": "2022-11-29T06:48:10.632Z"
   },
   {
    "duration": 21,
    "start_time": "2022-11-29T06:48:53.979Z"
   },
   {
    "duration": 8,
    "start_time": "2022-11-29T06:49:09.529Z"
   },
   {
    "duration": 9,
    "start_time": "2022-11-29T06:49:23.176Z"
   },
   {
    "duration": 701,
    "start_time": "2022-11-30T15:34:29.341Z"
   },
   {
    "duration": 492,
    "start_time": "2022-11-30T15:34:30.044Z"
   },
   {
    "duration": 40,
    "start_time": "2022-11-30T15:34:30.538Z"
   },
   {
    "duration": 14,
    "start_time": "2022-11-30T15:34:30.580Z"
   },
   {
    "duration": 775,
    "start_time": "2022-11-30T15:34:30.595Z"
   },
   {
    "duration": 5,
    "start_time": "2022-11-30T15:34:31.372Z"
   },
   {
    "duration": 36,
    "start_time": "2022-11-30T15:34:31.379Z"
   },
   {
    "duration": 17,
    "start_time": "2022-11-30T15:34:31.416Z"
   },
   {
    "duration": 26,
    "start_time": "2022-11-30T15:34:31.435Z"
   },
   {
    "duration": 7,
    "start_time": "2022-11-30T15:34:31.464Z"
   },
   {
    "duration": 19,
    "start_time": "2022-11-30T15:34:31.473Z"
   },
   {
    "duration": 55,
    "start_time": "2022-11-30T15:34:31.493Z"
   },
   {
    "duration": 5,
    "start_time": "2022-11-30T15:34:31.549Z"
   },
   {
    "duration": 17,
    "start_time": "2022-11-30T15:34:31.556Z"
   },
   {
    "duration": 32,
    "start_time": "2022-11-30T15:34:31.575Z"
   },
   {
    "duration": 17,
    "start_time": "2022-11-30T15:34:31.608Z"
   },
   {
    "duration": 25,
    "start_time": "2022-11-30T15:34:31.627Z"
   },
   {
    "duration": 28,
    "start_time": "2022-11-30T15:34:31.654Z"
   },
   {
    "duration": 23,
    "start_time": "2022-11-30T15:34:31.683Z"
   },
   {
    "duration": 27,
    "start_time": "2022-11-30T15:34:31.707Z"
   },
   {
    "duration": 18,
    "start_time": "2022-11-30T15:34:31.736Z"
   },
   {
    "duration": 28,
    "start_time": "2022-11-30T15:34:31.755Z"
   },
   {
    "duration": 30,
    "start_time": "2022-11-30T15:34:31.785Z"
   },
   {
    "duration": 25,
    "start_time": "2022-11-30T15:34:31.816Z"
   },
   {
    "duration": 19,
    "start_time": "2022-11-30T15:34:31.843Z"
   },
   {
    "duration": 14,
    "start_time": "2022-11-30T15:34:31.863Z"
   },
   {
    "duration": 24,
    "start_time": "2022-11-30T15:34:31.878Z"
   },
   {
    "duration": 16,
    "start_time": "2022-11-30T15:34:31.906Z"
   },
   {
    "duration": 35,
    "start_time": "2022-11-30T15:34:31.924Z"
   },
   {
    "duration": 21,
    "start_time": "2022-11-30T15:34:31.961Z"
   },
   {
    "duration": 44,
    "start_time": "2022-11-30T15:34:31.984Z"
   },
   {
    "duration": 47,
    "start_time": "2022-11-30T15:34:32.030Z"
   },
   {
    "duration": 25,
    "start_time": "2022-11-30T15:34:32.078Z"
   },
   {
    "duration": 22,
    "start_time": "2022-11-30T15:34:32.105Z"
   },
   {
    "duration": 30,
    "start_time": "2022-11-30T15:34:32.129Z"
   },
   {
    "duration": 21,
    "start_time": "2022-11-30T15:34:32.161Z"
   },
   {
    "duration": 41,
    "start_time": "2022-11-30T15:34:32.184Z"
   },
   {
    "duration": 15,
    "start_time": "2022-11-30T15:34:32.227Z"
   },
   {
    "duration": 27,
    "start_time": "2022-11-30T15:34:32.243Z"
   },
   {
    "duration": 127,
    "start_time": "2022-11-30T15:34:32.272Z"
   },
   {
    "duration": 22,
    "start_time": "2022-11-30T15:34:32.401Z"
   },
   {
    "duration": 13,
    "start_time": "2022-11-30T15:34:32.425Z"
   },
   {
    "duration": 34,
    "start_time": "2022-11-30T15:34:32.440Z"
   },
   {
    "duration": 138,
    "start_time": "2022-11-30T15:34:32.477Z"
   },
   {
    "duration": 11,
    "start_time": "2022-11-30T15:34:32.617Z"
   },
   {
    "duration": 158,
    "start_time": "2022-11-30T15:34:32.629Z"
   },
   {
    "duration": 207,
    "start_time": "2022-11-30T15:34:32.788Z"
   },
   {
    "duration": 9,
    "start_time": "2022-11-30T15:34:32.996Z"
   },
   {
    "duration": 29,
    "start_time": "2022-11-30T15:34:33.006Z"
   },
   {
    "duration": 309,
    "start_time": "2022-11-30T15:34:33.036Z"
   },
   {
    "duration": 14,
    "start_time": "2022-11-30T15:34:33.347Z"
   },
   {
    "duration": 10,
    "start_time": "2022-11-30T15:34:33.363Z"
   },
   {
    "duration": 22,
    "start_time": "2022-11-30T15:34:33.375Z"
   },
   {
    "duration": 23,
    "start_time": "2022-11-30T15:34:33.399Z"
   },
   {
    "duration": 41,
    "start_time": "2022-11-30T15:34:33.424Z"
   },
   {
    "duration": 243,
    "start_time": "2022-11-30T15:34:33.467Z"
   },
   {
    "duration": 14,
    "start_time": "2022-11-30T15:34:33.711Z"
   },
   {
    "duration": 264,
    "start_time": "2022-11-30T15:34:33.726Z"
   },
   {
    "duration": 367,
    "start_time": "2022-11-30T15:34:33.991Z"
   },
   {
    "duration": 15,
    "start_time": "2022-11-30T15:34:34.360Z"
   },
   {
    "duration": 238,
    "start_time": "2022-11-30T15:34:34.376Z"
   },
   {
    "duration": 248,
    "start_time": "2022-11-30T15:34:34.621Z"
   },
   {
    "duration": 161,
    "start_time": "2022-11-30T15:34:34.870Z"
   },
   {
    "duration": 15,
    "start_time": "2022-11-30T15:34:35.033Z"
   },
   {
    "duration": 253,
    "start_time": "2022-11-30T15:34:35.050Z"
   },
   {
    "duration": 155,
    "start_time": "2022-11-30T15:34:35.305Z"
   },
   {
    "duration": 15,
    "start_time": "2022-11-30T15:34:35.462Z"
   },
   {
    "duration": 319,
    "start_time": "2022-11-30T15:34:35.479Z"
   },
   {
    "duration": 149,
    "start_time": "2022-11-30T15:34:35.800Z"
   },
   {
    "duration": 16,
    "start_time": "2022-11-30T15:34:35.951Z"
   },
   {
    "duration": 241,
    "start_time": "2022-11-30T15:34:35.968Z"
   },
   {
    "duration": 154,
    "start_time": "2022-11-30T15:34:36.223Z"
   },
   {
    "duration": 15,
    "start_time": "2022-11-30T15:34:36.379Z"
   },
   {
    "duration": 147,
    "start_time": "2022-11-30T15:34:36.395Z"
   },
   {
    "duration": 139,
    "start_time": "2022-11-30T15:34:36.544Z"
   },
   {
    "duration": 7,
    "start_time": "2022-11-30T15:34:36.685Z"
   },
   {
    "duration": 34,
    "start_time": "2022-11-30T15:34:36.693Z"
   },
   {
    "duration": 37,
    "start_time": "2022-11-30T15:34:36.729Z"
   },
   {
    "duration": 49,
    "start_time": "2022-11-30T15:34:36.767Z"
   },
   {
    "duration": 122,
    "start_time": "2022-11-30T15:34:36.817Z"
   },
   {
    "duration": 12,
    "start_time": "2022-11-30T15:34:36.941Z"
   },
   {
    "duration": 33,
    "start_time": "2022-11-30T15:34:36.958Z"
   },
   {
    "duration": 144,
    "start_time": "2022-11-30T15:34:36.992Z"
   },
   {
    "duration": 12,
    "start_time": "2022-11-30T15:34:37.137Z"
   },
   {
    "duration": 37,
    "start_time": "2022-11-30T15:34:37.151Z"
   },
   {
    "duration": 125,
    "start_time": "2022-11-30T15:34:37.190Z"
   },
   {
    "duration": 13,
    "start_time": "2022-11-30T15:34:37.322Z"
   },
   {
    "duration": 47,
    "start_time": "2022-11-30T15:34:37.337Z"
   },
   {
    "duration": 132,
    "start_time": "2022-11-30T15:34:37.386Z"
   },
   {
    "duration": 12,
    "start_time": "2022-11-30T15:34:37.521Z"
   },
   {
    "duration": 41,
    "start_time": "2022-11-30T15:34:37.535Z"
   },
   {
    "duration": 145,
    "start_time": "2022-11-30T15:34:37.578Z"
   },
   {
    "duration": 13,
    "start_time": "2022-11-30T15:34:37.725Z"
   },
   {
    "duration": 27,
    "start_time": "2022-11-30T15:34:37.739Z"
   },
   {
    "duration": 166,
    "start_time": "2022-11-30T15:34:37.768Z"
   },
   {
    "duration": 11,
    "start_time": "2022-11-30T15:34:37.936Z"
   },
   {
    "duration": 43,
    "start_time": "2022-11-30T15:34:37.948Z"
   },
   {
    "duration": 206,
    "start_time": "2022-11-30T15:34:37.993Z"
   },
   {
    "duration": 122,
    "start_time": "2022-11-30T15:34:38.200Z"
   },
   {
    "duration": 9,
    "start_time": "2022-11-30T15:34:38.323Z"
   },
   {
    "duration": 29,
    "start_time": "2022-11-30T15:34:38.334Z"
   },
   {
    "duration": 133,
    "start_time": "2022-11-30T15:34:38.365Z"
   },
   {
    "duration": 10,
    "start_time": "2022-11-30T15:34:38.500Z"
   },
   {
    "duration": 137,
    "start_time": "2022-11-30T15:34:38.512Z"
   },
   {
    "duration": 9,
    "start_time": "2022-11-30T15:34:38.651Z"
   },
   {
    "duration": 21,
    "start_time": "2022-11-30T15:34:38.661Z"
   },
   {
    "duration": 133,
    "start_time": "2022-11-30T15:34:38.684Z"
   },
   {
    "duration": 10,
    "start_time": "2022-11-30T15:34:38.821Z"
   },
   {
    "duration": 140,
    "start_time": "2022-11-30T15:34:38.833Z"
   },
   {
    "duration": 9,
    "start_time": "2022-11-30T15:34:38.975Z"
   },
   {
    "duration": 30,
    "start_time": "2022-11-30T15:34:38.986Z"
   },
   {
    "duration": 33,
    "start_time": "2022-11-30T15:34:39.018Z"
   },
   {
    "duration": 15,
    "start_time": "2022-11-30T15:34:39.052Z"
   },
   {
    "duration": 16,
    "start_time": "2022-11-30T15:34:39.069Z"
   }
  ],
  "kernelspec": {
   "display_name": "Python 3 (ipykernel)",
   "language": "python",
   "name": "python3"
  },
  "language_info": {
   "codemirror_mode": {
    "name": "ipython",
    "version": 3
   },
   "file_extension": ".py",
   "mimetype": "text/x-python",
   "name": "python",
   "nbconvert_exporter": "python",
   "pygments_lexer": "ipython3",
   "version": "3.9.5"
  },
  "toc": {
   "base_numbering": 1,
   "nav_menu": {},
   "number_sections": true,
   "sideBar": true,
   "skip_h1_title": true,
   "title_cell": "Table of Contents",
   "title_sidebar": "Contents",
   "toc_cell": false,
   "toc_position": {
    "height": "calc(100% - 180px)",
    "left": "10px",
    "top": "150px",
    "width": "165px"
   },
   "toc_section_display": true,
   "toc_window_display": true
  }
 },
 "nbformat": 4,
 "nbformat_minor": 2
}
